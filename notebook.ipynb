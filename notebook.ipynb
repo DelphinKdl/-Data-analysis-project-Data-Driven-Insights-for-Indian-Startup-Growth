{
 "cells": [
  {
   "cell_type": "markdown",
   "metadata": {},
   "source": [
    "##  Data Driven Insight for Indian Startup Growth"
   ]
  },
  {
   "cell_type": "markdown",
   "metadata": {},
   "source": [
    "        Business Understanding\n",
    "The target is to identify the factors that contributing to the StartUp Growth in India \n",
    "        "
   ]
  },
  {
   "cell_type": "markdown",
   "metadata": {},
   "source": [
    "    Hypotheses for Data-Driven Insight for Indian Startup Growth \n",
    "    \n",
    "  Null Hypothesis (H0):\n",
    "There is no significant difference in the growth rates among startups located in different sectors and regions within the Indian startup ecosystem.\n",
    "\n",
    "  Alternative Hypothesis (H1):\n",
    "There is a significant difference in the growth rates among startups located in different sectors and regions within the Indian startup.\n",
    "\n",
    "Hypothesis aims to explore whether the growth rates of startups in India are influenced not only by their sector but also by their geographical location. By analyzing data on startup growth, sectors, and regional dynamics, we seek to identify patterns that can provide strategic insights for  investors.\n",
    "\n",
    "\n"
   ]
  },
  {
   "cell_type": "code",
   "execution_count": 231,
   "metadata": {},
   "outputs": [],
   "source": [
    "# importing the necessary libraries\n",
    "import os, sys\n",
    "from sqlalchemy import create_engine\n",
    "import pyodbc # Database Connectivity with  Open Database Connectivity (pyodbc)\n",
    "\n",
    "from dotenv import dotenv_values # dotenv library to load environment variables\n",
    "# Lib for data manipulation  analysis and Viz\n",
    "import pandas as pd\n",
    "import numpy as np\n",
    "import warnings\n",
    "import matplotlib.pyplot as plt\n",
    "import seaborn as sns\n",
    "\n",
    "warnings.filterwarnings('ignore')"
   ]
  },
  {
   "cell_type": "markdown",
   "metadata": {},
   "source": [
    "    Load env Variable and assign Login Credentials "
   ]
  },
  {
   "cell_type": "code",
   "execution_count": 232,
   "metadata": {},
   "outputs": [],
   "source": [
    "# Load environment variables from .env file \n",
    "\n",
    "environment_variables=dotenv_values('.env')\n",
    "\n",
    "# Get the values for the  login credentials from  the '.env' file\n",
    "server = environment_variables.get(\"SERVER\")\n",
    "database = environment_variables.get(\"DATABASE\")\n",
    "username = environment_variables.get(\"UID\")\n",
    "password = environment_variables.get(\"PWD\")\n"
   ]
  },
  {
   "cell_type": "markdown",
   "metadata": {},
   "source": [
    "    Test Credectiom Connection"
   ]
  },
  {
   "cell_type": "code",
   "execution_count": 233,
   "metadata": {},
   "outputs": [],
   "source": [
    "\n",
    "connection = f\"DRIVER={{SQL Server}};SERVER={server};DATABASE={database};UID={username};PWD={password}\"\n"
   ]
  },
  {
   "cell_type": "markdown",
   "metadata": {},
   "source": [
    "    connect to the server"
   ]
  },
  {
   "cell_type": "code",
   "execution_count": 234,
   "metadata": {},
   "outputs": [],
   "source": [
    "# This will connect to the server with help of pyodbc.\n",
    "\n",
    "con = pyodbc.connect(connection)"
   ]
  },
  {
   "cell_type": "markdown",
   "metadata": {},
   "source": [
    "      Data Loading with login credections"
   ]
  },
  {
   "cell_type": "code",
   "execution_count": 235,
   "metadata": {},
   "outputs": [],
   "source": [
    "# Load the dataset SQL query\n",
    "query1 = \"Select * from dbo.LP1_startup_funding2020\"\n",
    "query2 = \"Select * from dbo.LP1_startup_funding2021\""
   ]
  },
  {
   "cell_type": "code",
   "execution_count": 236,
   "metadata": {},
   "outputs": [],
   "source": [
    "# Read data from the  on dataset \n",
    "data_2018 = pd.read_csv('dataset\\startup_funding2018.csv')\n",
    "data_2019 = pd.read_csv('dataset\\startup_funding2019.csv')\n",
    "data_2020 = pd.read_sql(query1, con)\n",
    "data_2021 = pd.read_sql(query2, con)\n"
   ]
  },
  {
   "cell_type": "markdown",
   "metadata": {},
   "source": [
    "    Data Overview "
   ]
  },
  {
   "cell_type": "code",
   "execution_count": 237,
   "metadata": {},
   "outputs": [
    {
     "data": {
      "text/html": [
       "<div>\n",
       "<style scoped>\n",
       "    .dataframe tbody tr th:only-of-type {\n",
       "        vertical-align: middle;\n",
       "    }\n",
       "\n",
       "    .dataframe tbody tr th {\n",
       "        vertical-align: top;\n",
       "    }\n",
       "\n",
       "    .dataframe thead th {\n",
       "        text-align: right;\n",
       "    }\n",
       "</style>\n",
       "<table border=\"1\" class=\"dataframe\">\n",
       "  <thead>\n",
       "    <tr style=\"text-align: right;\">\n",
       "      <th></th>\n",
       "      <th>Company Name</th>\n",
       "      <th>Industry</th>\n",
       "      <th>Round/Series</th>\n",
       "      <th>Amount</th>\n",
       "      <th>Location</th>\n",
       "      <th>About Company</th>\n",
       "    </tr>\n",
       "  </thead>\n",
       "  <tbody>\n",
       "    <tr>\n",
       "      <th>0</th>\n",
       "      <td>TheCollegeFever</td>\n",
       "      <td>Brand Marketing, Event Promotion, Marketing, S...</td>\n",
       "      <td>Seed</td>\n",
       "      <td>250000</td>\n",
       "      <td>Bangalore, Karnataka, India</td>\n",
       "      <td>TheCollegeFever is a hub for fun, fiesta and f...</td>\n",
       "    </tr>\n",
       "    <tr>\n",
       "      <th>1</th>\n",
       "      <td>Happy Cow Dairy</td>\n",
       "      <td>Agriculture, Farming</td>\n",
       "      <td>Seed</td>\n",
       "      <td>₹40,000,000</td>\n",
       "      <td>Mumbai, Maharashtra, India</td>\n",
       "      <td>A startup which aggregates milk from dairy far...</td>\n",
       "    </tr>\n",
       "    <tr>\n",
       "      <th>2</th>\n",
       "      <td>MyLoanCare</td>\n",
       "      <td>Credit, Financial Services, Lending, Marketplace</td>\n",
       "      <td>Series A</td>\n",
       "      <td>₹65,000,000</td>\n",
       "      <td>Gurgaon, Haryana, India</td>\n",
       "      <td>Leading Online Loans Marketplace in India</td>\n",
       "    </tr>\n",
       "    <tr>\n",
       "      <th>3</th>\n",
       "      <td>PayMe India</td>\n",
       "      <td>Financial Services, FinTech</td>\n",
       "      <td>Angel</td>\n",
       "      <td>2000000</td>\n",
       "      <td>Noida, Uttar Pradesh, India</td>\n",
       "      <td>PayMe India is an innovative FinTech organizat...</td>\n",
       "    </tr>\n",
       "    <tr>\n",
       "      <th>4</th>\n",
       "      <td>Eunimart</td>\n",
       "      <td>E-Commerce Platforms, Retail, SaaS</td>\n",
       "      <td>Seed</td>\n",
       "      <td>—</td>\n",
       "      <td>Hyderabad, Andhra Pradesh, India</td>\n",
       "      <td>Eunimart is a one stop solution for merchants ...</td>\n",
       "    </tr>\n",
       "  </tbody>\n",
       "</table>\n",
       "</div>"
      ],
      "text/plain": [
       "      Company Name                                           Industry  \\\n",
       "0  TheCollegeFever  Brand Marketing, Event Promotion, Marketing, S...   \n",
       "1  Happy Cow Dairy                               Agriculture, Farming   \n",
       "2       MyLoanCare   Credit, Financial Services, Lending, Marketplace   \n",
       "3      PayMe India                        Financial Services, FinTech   \n",
       "4         Eunimart                 E-Commerce Platforms, Retail, SaaS   \n",
       "\n",
       "  Round/Series       Amount                          Location  \\\n",
       "0         Seed       250000       Bangalore, Karnataka, India   \n",
       "1         Seed  ₹40,000,000        Mumbai, Maharashtra, India   \n",
       "2     Series A  ₹65,000,000           Gurgaon, Haryana, India   \n",
       "3        Angel      2000000       Noida, Uttar Pradesh, India   \n",
       "4         Seed            —  Hyderabad, Andhra Pradesh, India   \n",
       "\n",
       "                                       About Company  \n",
       "0  TheCollegeFever is a hub for fun, fiesta and f...  \n",
       "1  A startup which aggregates milk from dairy far...  \n",
       "2          Leading Online Loans Marketplace in India  \n",
       "3  PayMe India is an innovative FinTech organizat...  \n",
       "4  Eunimart is a one stop solution for merchants ...  "
      ]
     },
     "execution_count": 237,
     "metadata": {},
     "output_type": "execute_result"
    }
   ],
   "source": [
    "# 2018 dataset overview\n",
    "data_2018.head()"
   ]
  },
  {
   "cell_type": "code",
   "execution_count": 238,
   "metadata": {},
   "outputs": [
    {
     "data": {
      "text/plain": [
       "array(['250000', '₹40,000,000', '₹65,000,000', '2000000', '—', '1600000',\n",
       "       '₹16,000,000', '₹50,000,000', '₹100,000,000', '150000', '1100000',\n",
       "       '₹500,000', '6000000', '650000', '₹35,000,000', '₹64,000,000',\n",
       "       '₹20,000,000', '1000000', '5000000', '4000000', '₹30,000,000',\n",
       "       '2800000', '1700000', '1300000', '₹5,000,000', '₹12,500,000',\n",
       "       '₹15,000,000', '500000', '₹104,000,000', '₹45,000,000', '13400000',\n",
       "       '₹25,000,000', '₹26,400,000', '₹8,000,000', '₹60,000', '9000000',\n",
       "       '100000', '20000', '120000', '₹34,000,000', '₹342,000,000',\n",
       "       '$143,145', '₹600,000,000', '$742,000,000', '₹1,000,000,000',\n",
       "       '₹2,000,000,000', '$3,980,000', '$10,000', '₹100,000',\n",
       "       '₹250,000,000', '$1,000,000,000', '$7,000,000', '$35,000,000',\n",
       "       '₹550,000,000', '$28,500,000', '$2,000,000', '₹240,000,000',\n",
       "       '₹120,000,000', '$2,400,000', '$30,000,000', '₹2,500,000,000',\n",
       "       '$23,000,000', '$150,000', '$11,000,000', '₹44,000,000',\n",
       "       '$3,240,000', '₹60,000,000', '$540,000,000', '₹650,000,000',\n",
       "       '₹1,600,000,000', '$900,000', '$10,000,000', '$1,500,000',\n",
       "       '₹70,000,000', '$1,000,000', '$5,000,000', '$14,000,000',\n",
       "       '₹102,500,000', '$100,000,000', '₹1,200,000', '₹5,200,000,000',\n",
       "       '$800,000', '$1,041,000', '$100,000', '$15,000', '1400000',\n",
       "       '1200000', '2200000', '1800000', '3600000', '₹9,500,000', '300000',\n",
       "       '6830000', '200000', '₹150,000,000', '4300000', '364846', '400000',\n",
       "       '1500000', '₹7,000,000', '₹1,400,000', '₹10,000,000',\n",
       "       '₹22,500,000', '13200000', '50000', '₹140,200,000', '3000000',\n",
       "       '1250000', '180000', '₹19,200,000', '₹103,000,000', '4200000',\n",
       "       '175000', '1450000', '₹200,000', '4500000', '600000',\n",
       "       '₹16,600,000', '₹12,000,000', '15000000', '₹33,000,000', '125000',\n",
       "       '130000', '₹34,900,000', '₹72,000,000', '17200000', '₹32,000,000',\n",
       "       '3500000', '₹135,000,000', '12000000', '$40,000,000', '$1,100,000',\n",
       "       '$50,000,000', '₹1,540,000,000', '$3,000,000', '$6,000,000',\n",
       "       '₹140,000,000', '$41,900,000', '₹1,410,000,000', '$3,530,000',\n",
       "       '$200,000', '$3,300,000', '₹580,000,000', '₹36,000,000',\n",
       "       '₹340,000,000', '$210,000,000', '$37,680,000', '$250,000',\n",
       "       '$20,000', '₹510,000,000', '₹2,200,000,000', '22000000', '70000',\n",
       "       '10000000', '₹15,392,000,000', '₹20,000,000,000', '₹4,000,000,000',\n",
       "       '185000000', '65000000', '₹165,000,000', '700000', '30000000',\n",
       "       '₹210,000,000', '210000000', '₹2,029,600,000', '75000000',\n",
       "       '₹80,000,000', '1760000', '2700000', '₹280,000,000',\n",
       "       '₹800,000,000', '750000', '2500000', '80000000', '25000000',\n",
       "       '₹730,000,000', '₹400,000,000', '3700000', '5600000',\n",
       "       '₹260,000,000', '99230000', '70000000', '40000', '550000',\n",
       "       '50000000', '365000000', '₹8,750,000', '₹78,000,000', '28000000',\n",
       "       '₹264,000,000', '100000000', '₹1,130,000,000', '₹810,000,000',\n",
       "       '₹1,400,000,000', '14900000', '225000000', '7500', '35000000'],\n",
       "      dtype=object)"
      ]
     },
     "execution_count": 238,
     "metadata": {},
     "output_type": "execute_result"
    }
   ],
   "source": [
    "data_2018['Amount'].unique()"
   ]
  },
  {
   "cell_type": "code",
   "execution_count": 239,
   "metadata": {},
   "outputs": [
    {
     "data": {
      "text/html": [
       "<div>\n",
       "<style scoped>\n",
       "    .dataframe tbody tr th:only-of-type {\n",
       "        vertical-align: middle;\n",
       "    }\n",
       "\n",
       "    .dataframe tbody tr th {\n",
       "        vertical-align: top;\n",
       "    }\n",
       "\n",
       "    .dataframe thead th {\n",
       "        text-align: right;\n",
       "    }\n",
       "</style>\n",
       "<table border=\"1\" class=\"dataframe\">\n",
       "  <thead>\n",
       "    <tr style=\"text-align: right;\">\n",
       "      <th></th>\n",
       "      <th>Company/Brand</th>\n",
       "      <th>Founded</th>\n",
       "      <th>HeadQuarter</th>\n",
       "      <th>Sector</th>\n",
       "      <th>What it does</th>\n",
       "      <th>Founders</th>\n",
       "      <th>Investor</th>\n",
       "      <th>Amount($)</th>\n",
       "      <th>Stage</th>\n",
       "    </tr>\n",
       "  </thead>\n",
       "  <tbody>\n",
       "    <tr>\n",
       "      <th>84</th>\n",
       "      <td>Infra.Market</td>\n",
       "      <td>NaN</td>\n",
       "      <td>Mumbai</td>\n",
       "      <td>Infratech</td>\n",
       "      <td>It connects client requirements to their suppl...</td>\n",
       "      <td>Aaditya Sharda, Souvik Sengupta</td>\n",
       "      <td>Tiger Global, Nexus Venture Partners, Accel Pa...</td>\n",
       "      <td>$20,000,000</td>\n",
       "      <td>Series A</td>\n",
       "    </tr>\n",
       "    <tr>\n",
       "      <th>85</th>\n",
       "      <td>Oyo</td>\n",
       "      <td>2013.0</td>\n",
       "      <td>Gurugram</td>\n",
       "      <td>Hospitality</td>\n",
       "      <td>Provides rooms for comfortable stay</td>\n",
       "      <td>Ritesh Agarwal</td>\n",
       "      <td>MyPreferred Transformation, Avendus Finance, S...</td>\n",
       "      <td>$693,000,000</td>\n",
       "      <td>NaN</td>\n",
       "    </tr>\n",
       "    <tr>\n",
       "      <th>86</th>\n",
       "      <td>GoMechanic</td>\n",
       "      <td>2016.0</td>\n",
       "      <td>Delhi</td>\n",
       "      <td>Automobile &amp; Technology</td>\n",
       "      <td>Find automobile repair and maintenance service...</td>\n",
       "      <td>Amit Bhasin, Kushal Karwa, Nitin Rana, Rishabh...</td>\n",
       "      <td>Sequoia Capital</td>\n",
       "      <td>$5,000,000</td>\n",
       "      <td>Series B</td>\n",
       "    </tr>\n",
       "    <tr>\n",
       "      <th>87</th>\n",
       "      <td>Spinny</td>\n",
       "      <td>2015.0</td>\n",
       "      <td>Delhi</td>\n",
       "      <td>Automobile</td>\n",
       "      <td>Online car retailer</td>\n",
       "      <td>Niraj Singh, Ramanshu Mahaur, Ganesh Pawar, Mo...</td>\n",
       "      <td>Norwest Venture Partners, General Catalyst, Fu...</td>\n",
       "      <td>$50,000,000</td>\n",
       "      <td>NaN</td>\n",
       "    </tr>\n",
       "    <tr>\n",
       "      <th>88</th>\n",
       "      <td>Ess Kay Fincorp</td>\n",
       "      <td>NaN</td>\n",
       "      <td>Rajasthan</td>\n",
       "      <td>Banking</td>\n",
       "      <td>Organised Non-Banking Finance Company</td>\n",
       "      <td>Rajendra Setia</td>\n",
       "      <td>TPG, Norwest Venture Partners, Evolvence India</td>\n",
       "      <td>$33,000,000</td>\n",
       "      <td>NaN</td>\n",
       "    </tr>\n",
       "  </tbody>\n",
       "</table>\n",
       "</div>"
      ],
      "text/plain": [
       "      Company/Brand  Founded HeadQuarter                   Sector  \\\n",
       "84     Infra.Market      NaN      Mumbai                Infratech   \n",
       "85              Oyo   2013.0    Gurugram              Hospitality   \n",
       "86       GoMechanic   2016.0       Delhi  Automobile & Technology   \n",
       "87           Spinny   2015.0       Delhi               Automobile   \n",
       "88  Ess Kay Fincorp      NaN   Rajasthan                  Banking   \n",
       "\n",
       "                                         What it does  \\\n",
       "84  It connects client requirements to their suppl...   \n",
       "85                Provides rooms for comfortable stay   \n",
       "86  Find automobile repair and maintenance service...   \n",
       "87                                Online car retailer   \n",
       "88              Organised Non-Banking Finance Company   \n",
       "\n",
       "                                             Founders  \\\n",
       "84                    Aaditya Sharda, Souvik Sengupta   \n",
       "85                                     Ritesh Agarwal   \n",
       "86  Amit Bhasin, Kushal Karwa, Nitin Rana, Rishabh...   \n",
       "87  Niraj Singh, Ramanshu Mahaur, Ganesh Pawar, Mo...   \n",
       "88                                     Rajendra Setia   \n",
       "\n",
       "                                             Investor     Amount($)     Stage  \n",
       "84  Tiger Global, Nexus Venture Partners, Accel Pa...   $20,000,000  Series A  \n",
       "85  MyPreferred Transformation, Avendus Finance, S...  $693,000,000       NaN  \n",
       "86                                    Sequoia Capital    $5,000,000  Series B  \n",
       "87  Norwest Venture Partners, General Catalyst, Fu...   $50,000,000       NaN  \n",
       "88     TPG, Norwest Venture Partners, Evolvence India   $33,000,000       NaN  "
      ]
     },
     "execution_count": 239,
     "metadata": {},
     "output_type": "execute_result"
    }
   ],
   "source": [
    "# 2019 dataset overview\n",
    "data_2019.tail()"
   ]
  },
  {
   "cell_type": "code",
   "execution_count": 240,
   "metadata": {},
   "outputs": [
    {
     "data": {
      "text/html": [
       "<div>\n",
       "<style scoped>\n",
       "    .dataframe tbody tr th:only-of-type {\n",
       "        vertical-align: middle;\n",
       "    }\n",
       "\n",
       "    .dataframe tbody tr th {\n",
       "        vertical-align: top;\n",
       "    }\n",
       "\n",
       "    .dataframe thead th {\n",
       "        text-align: right;\n",
       "    }\n",
       "</style>\n",
       "<table border=\"1\" class=\"dataframe\">\n",
       "  <thead>\n",
       "    <tr style=\"text-align: right;\">\n",
       "      <th></th>\n",
       "      <th>Company_Brand</th>\n",
       "      <th>Founded</th>\n",
       "      <th>HeadQuarter</th>\n",
       "      <th>Sector</th>\n",
       "      <th>What_it_does</th>\n",
       "      <th>Founders</th>\n",
       "      <th>Investor</th>\n",
       "      <th>Amount</th>\n",
       "      <th>Stage</th>\n",
       "      <th>column10</th>\n",
       "    </tr>\n",
       "  </thead>\n",
       "  <tbody>\n",
       "    <tr>\n",
       "      <th>0</th>\n",
       "      <td>Aqgromalin</td>\n",
       "      <td>2019.0</td>\n",
       "      <td>Chennai</td>\n",
       "      <td>AgriTech</td>\n",
       "      <td>Cultivating Ideas for Profit</td>\n",
       "      <td>Prasanna Manogaran, Bharani C L</td>\n",
       "      <td>Angel investors</td>\n",
       "      <td>200000.0</td>\n",
       "      <td>None</td>\n",
       "      <td>None</td>\n",
       "    </tr>\n",
       "    <tr>\n",
       "      <th>1</th>\n",
       "      <td>Krayonnz</td>\n",
       "      <td>2019.0</td>\n",
       "      <td>Bangalore</td>\n",
       "      <td>EdTech</td>\n",
       "      <td>An academy-guardian-scholar centric ecosystem ...</td>\n",
       "      <td>Saurabh Dixit, Gurudutt Upadhyay</td>\n",
       "      <td>GSF Accelerator</td>\n",
       "      <td>100000.0</td>\n",
       "      <td>Pre-seed</td>\n",
       "      <td>None</td>\n",
       "    </tr>\n",
       "    <tr>\n",
       "      <th>2</th>\n",
       "      <td>PadCare Labs</td>\n",
       "      <td>2018.0</td>\n",
       "      <td>Pune</td>\n",
       "      <td>Hygiene management</td>\n",
       "      <td>Converting bio-hazardous waste to harmless waste</td>\n",
       "      <td>Ajinkya Dhariya</td>\n",
       "      <td>Venture Center</td>\n",
       "      <td>NaN</td>\n",
       "      <td>Pre-seed</td>\n",
       "      <td>None</td>\n",
       "    </tr>\n",
       "    <tr>\n",
       "      <th>3</th>\n",
       "      <td>NCOME</td>\n",
       "      <td>2020.0</td>\n",
       "      <td>New Delhi</td>\n",
       "      <td>Escrow</td>\n",
       "      <td>Escrow-as-a-service platform</td>\n",
       "      <td>Ritesh Tiwari</td>\n",
       "      <td>Venture Catalysts, PointOne Capital</td>\n",
       "      <td>400000.0</td>\n",
       "      <td>None</td>\n",
       "      <td>None</td>\n",
       "    </tr>\n",
       "    <tr>\n",
       "      <th>4</th>\n",
       "      <td>Gramophone</td>\n",
       "      <td>2016.0</td>\n",
       "      <td>Indore</td>\n",
       "      <td>AgriTech</td>\n",
       "      <td>Gramophone is an AgTech platform enabling acce...</td>\n",
       "      <td>Ashish Rajan Singh, Harshit Gupta, Nishant Mah...</td>\n",
       "      <td>Siana Capital Management, Info Edge</td>\n",
       "      <td>340000.0</td>\n",
       "      <td>None</td>\n",
       "      <td>None</td>\n",
       "    </tr>\n",
       "  </tbody>\n",
       "</table>\n",
       "</div>"
      ],
      "text/plain": [
       "  Company_Brand  Founded HeadQuarter              Sector  \\\n",
       "0    Aqgromalin   2019.0     Chennai            AgriTech   \n",
       "1      Krayonnz   2019.0   Bangalore              EdTech   \n",
       "2  PadCare Labs   2018.0        Pune  Hygiene management   \n",
       "3         NCOME   2020.0   New Delhi              Escrow   \n",
       "4    Gramophone   2016.0      Indore            AgriTech   \n",
       "\n",
       "                                        What_it_does  \\\n",
       "0                       Cultivating Ideas for Profit   \n",
       "1  An academy-guardian-scholar centric ecosystem ...   \n",
       "2   Converting bio-hazardous waste to harmless waste   \n",
       "3                       Escrow-as-a-service platform   \n",
       "4  Gramophone is an AgTech platform enabling acce...   \n",
       "\n",
       "                                            Founders  \\\n",
       "0                    Prasanna Manogaran, Bharani C L   \n",
       "1                   Saurabh Dixit, Gurudutt Upadhyay   \n",
       "2                                    Ajinkya Dhariya   \n",
       "3                                      Ritesh Tiwari   \n",
       "4  Ashish Rajan Singh, Harshit Gupta, Nishant Mah...   \n",
       "\n",
       "                              Investor    Amount     Stage column10  \n",
       "0                      Angel investors  200000.0      None     None  \n",
       "1                      GSF Accelerator  100000.0  Pre-seed     None  \n",
       "2                       Venture Center       NaN  Pre-seed     None  \n",
       "3  Venture Catalysts, PointOne Capital  400000.0      None     None  \n",
       "4  Siana Capital Management, Info Edge  340000.0      None     None  "
      ]
     },
     "execution_count": 240,
     "metadata": {},
     "output_type": "execute_result"
    }
   ],
   "source": [
    "# 2020 dataset overview\n",
    "data_2020.head()"
   ]
  },
  {
   "cell_type": "code",
   "execution_count": 241,
   "metadata": {},
   "outputs": [
    {
     "data": {
      "text/html": [
       "<div>\n",
       "<style scoped>\n",
       "    .dataframe tbody tr th:only-of-type {\n",
       "        vertical-align: middle;\n",
       "    }\n",
       "\n",
       "    .dataframe tbody tr th {\n",
       "        vertical-align: top;\n",
       "    }\n",
       "\n",
       "    .dataframe thead th {\n",
       "        text-align: right;\n",
       "    }\n",
       "</style>\n",
       "<table border=\"1\" class=\"dataframe\">\n",
       "  <thead>\n",
       "    <tr style=\"text-align: right;\">\n",
       "      <th></th>\n",
       "      <th>Company_Brand</th>\n",
       "      <th>Founded</th>\n",
       "      <th>HeadQuarter</th>\n",
       "      <th>Sector</th>\n",
       "      <th>What_it_does</th>\n",
       "      <th>Founders</th>\n",
       "      <th>Investor</th>\n",
       "      <th>Amount</th>\n",
       "      <th>Stage</th>\n",
       "    </tr>\n",
       "  </thead>\n",
       "  <tbody>\n",
       "    <tr>\n",
       "      <th>0</th>\n",
       "      <td>Unbox Robotics</td>\n",
       "      <td>2019.0</td>\n",
       "      <td>Bangalore</td>\n",
       "      <td>AI startup</td>\n",
       "      <td>Unbox Robotics builds on-demand AI-driven ware...</td>\n",
       "      <td>Pramod Ghadge, Shahid Memon</td>\n",
       "      <td>BEENEXT, Entrepreneur First</td>\n",
       "      <td>$1,200,000</td>\n",
       "      <td>Pre-series A</td>\n",
       "    </tr>\n",
       "    <tr>\n",
       "      <th>1</th>\n",
       "      <td>upGrad</td>\n",
       "      <td>2015.0</td>\n",
       "      <td>Mumbai</td>\n",
       "      <td>EdTech</td>\n",
       "      <td>UpGrad is an online higher education platform.</td>\n",
       "      <td>Mayank Kumar, Phalgun Kompalli, Ravijot Chugh,...</td>\n",
       "      <td>Unilazer Ventures, IIFL Asset Management</td>\n",
       "      <td>$120,000,000</td>\n",
       "      <td>None</td>\n",
       "    </tr>\n",
       "    <tr>\n",
       "      <th>2</th>\n",
       "      <td>Lead School</td>\n",
       "      <td>2012.0</td>\n",
       "      <td>Mumbai</td>\n",
       "      <td>EdTech</td>\n",
       "      <td>LEAD School offers technology based school tra...</td>\n",
       "      <td>Smita Deorah, Sumeet Mehta</td>\n",
       "      <td>GSV Ventures, Westbridge Capital</td>\n",
       "      <td>$30,000,000</td>\n",
       "      <td>Series D</td>\n",
       "    </tr>\n",
       "    <tr>\n",
       "      <th>3</th>\n",
       "      <td>Bizongo</td>\n",
       "      <td>2015.0</td>\n",
       "      <td>Mumbai</td>\n",
       "      <td>B2B E-commerce</td>\n",
       "      <td>Bizongo is a business-to-business online marke...</td>\n",
       "      <td>Aniket Deb, Ankit Tomar, Sachin Agrawal</td>\n",
       "      <td>CDC Group, IDG Capital</td>\n",
       "      <td>$51,000,000</td>\n",
       "      <td>Series C</td>\n",
       "    </tr>\n",
       "    <tr>\n",
       "      <th>4</th>\n",
       "      <td>FypMoney</td>\n",
       "      <td>2021.0</td>\n",
       "      <td>Gurugram</td>\n",
       "      <td>FinTech</td>\n",
       "      <td>FypMoney is Digital NEO Bank for Teenagers, em...</td>\n",
       "      <td>Kapil Banwari</td>\n",
       "      <td>Liberatha Kallat, Mukesh Yadav, Dinesh Nagpal</td>\n",
       "      <td>$2,000,000</td>\n",
       "      <td>Seed</td>\n",
       "    </tr>\n",
       "  </tbody>\n",
       "</table>\n",
       "</div>"
      ],
      "text/plain": [
       "    Company_Brand  Founded HeadQuarter          Sector  \\\n",
       "0  Unbox Robotics   2019.0   Bangalore      AI startup   \n",
       "1          upGrad   2015.0      Mumbai          EdTech   \n",
       "2     Lead School   2012.0      Mumbai          EdTech   \n",
       "3         Bizongo   2015.0      Mumbai  B2B E-commerce   \n",
       "4        FypMoney   2021.0    Gurugram         FinTech   \n",
       "\n",
       "                                        What_it_does  \\\n",
       "0  Unbox Robotics builds on-demand AI-driven ware...   \n",
       "1     UpGrad is an online higher education platform.   \n",
       "2  LEAD School offers technology based school tra...   \n",
       "3  Bizongo is a business-to-business online marke...   \n",
       "4  FypMoney is Digital NEO Bank for Teenagers, em...   \n",
       "\n",
       "                                            Founders  \\\n",
       "0                        Pramod Ghadge, Shahid Memon   \n",
       "1  Mayank Kumar, Phalgun Kompalli, Ravijot Chugh,...   \n",
       "2                         Smita Deorah, Sumeet Mehta   \n",
       "3            Aniket Deb, Ankit Tomar, Sachin Agrawal   \n",
       "4                                      Kapil Banwari   \n",
       "\n",
       "                                        Investor        Amount         Stage  \n",
       "0                    BEENEXT, Entrepreneur First    $1,200,000  Pre-series A  \n",
       "1       Unilazer Ventures, IIFL Asset Management  $120,000,000          None  \n",
       "2               GSV Ventures, Westbridge Capital   $30,000,000      Series D  \n",
       "3                         CDC Group, IDG Capital   $51,000,000      Series C  \n",
       "4  Liberatha Kallat, Mukesh Yadav, Dinesh Nagpal    $2,000,000          Seed  "
      ]
     },
     "execution_count": 241,
     "metadata": {},
     "output_type": "execute_result"
    }
   ],
   "source": [
    "# 2021 dataset overview\n",
    "data_2021.head()"
   ]
  },
  {
   "cell_type": "markdown",
   "metadata": {},
   "source": [
    "        Data Cleaning for all datasets"
   ]
  },
  {
   "cell_type": "markdown",
   "metadata": {},
   "source": [
    "Check Duplications each dataset"
   ]
  },
  {
   "cell_type": "code",
   "execution_count": 242,
   "metadata": {},
   "outputs": [
    {
     "data": {
      "text/plain": [
       "1"
      ]
     },
     "execution_count": 242,
     "metadata": {},
     "output_type": "execute_result"
    }
   ],
   "source": [
    "# Check Dulpications for 2018 data\n",
    "data_2018.duplicated().sum()"
   ]
  },
  {
   "cell_type": "code",
   "execution_count": 243,
   "metadata": {},
   "outputs": [
    {
     "data": {
      "text/plain": [
       "0"
      ]
     },
     "execution_count": 243,
     "metadata": {},
     "output_type": "execute_result"
    }
   ],
   "source": [
    "data_2019.duplicated().sum()"
   ]
  },
  {
   "cell_type": "code",
   "execution_count": 244,
   "metadata": {},
   "outputs": [
    {
     "data": {
      "text/plain": [
       "3"
      ]
     },
     "execution_count": 244,
     "metadata": {},
     "output_type": "execute_result"
    }
   ],
   "source": [
    "data_2020.duplicated().sum()"
   ]
  },
  {
   "cell_type": "code",
   "execution_count": 245,
   "metadata": {},
   "outputs": [
    {
     "data": {
      "text/plain": [
       "19"
      ]
     },
     "execution_count": 245,
     "metadata": {},
     "output_type": "execute_result"
    }
   ],
   "source": [
    "data_2021.duplicated().sum()"
   ]
  },
  {
   "cell_type": "markdown",
   "metadata": {},
   "source": [
    "View the Duplications"
   ]
  },
  {
   "cell_type": "code",
   "execution_count": 246,
   "metadata": {},
   "outputs": [
    {
     "data": {
      "text/html": [
       "<div>\n",
       "<style scoped>\n",
       "    .dataframe tbody tr th:only-of-type {\n",
       "        vertical-align: middle;\n",
       "    }\n",
       "\n",
       "    .dataframe tbody tr th {\n",
       "        vertical-align: top;\n",
       "    }\n",
       "\n",
       "    .dataframe thead th {\n",
       "        text-align: right;\n",
       "    }\n",
       "</style>\n",
       "<table border=\"1\" class=\"dataframe\">\n",
       "  <thead>\n",
       "    <tr style=\"text-align: right;\">\n",
       "      <th></th>\n",
       "      <th>Company Name</th>\n",
       "      <th>Industry</th>\n",
       "      <th>Round/Series</th>\n",
       "      <th>Amount</th>\n",
       "      <th>Location</th>\n",
       "      <th>About Company</th>\n",
       "    </tr>\n",
       "  </thead>\n",
       "  <tbody>\n",
       "    <tr>\n",
       "      <th>0</th>\n",
       "      <td>TheCollegeFever</td>\n",
       "      <td>Brand Marketing, Event Promotion, Marketing, S...</td>\n",
       "      <td>Seed</td>\n",
       "      <td>250000</td>\n",
       "      <td>Bangalore, Karnataka, India</td>\n",
       "      <td>TheCollegeFever is a hub for fun, fiesta and f...</td>\n",
       "    </tr>\n",
       "    <tr>\n",
       "      <th>348</th>\n",
       "      <td>TheCollegeFever</td>\n",
       "      <td>Brand Marketing, Event Promotion, Marketing, S...</td>\n",
       "      <td>Seed</td>\n",
       "      <td>250000</td>\n",
       "      <td>Bangalore, Karnataka, India</td>\n",
       "      <td>TheCollegeFever is a hub for fun, fiesta and f...</td>\n",
       "    </tr>\n",
       "  </tbody>\n",
       "</table>\n",
       "</div>"
      ],
      "text/plain": [
       "        Company Name                                           Industry  \\\n",
       "0    TheCollegeFever  Brand Marketing, Event Promotion, Marketing, S...   \n",
       "348  TheCollegeFever  Brand Marketing, Event Promotion, Marketing, S...   \n",
       "\n",
       "    Round/Series  Amount                     Location  \\\n",
       "0           Seed  250000  Bangalore, Karnataka, India   \n",
       "348         Seed  250000  Bangalore, Karnataka, India   \n",
       "\n",
       "                                         About Company  \n",
       "0    TheCollegeFever is a hub for fun, fiesta and f...  \n",
       "348  TheCollegeFever is a hub for fun, fiesta and f...  "
      ]
     },
     "execution_count": 246,
     "metadata": {},
     "output_type": "execute_result"
    }
   ],
   "source": [
    "# View the Duplication base Compnay Name on 2018 data\n",
    "\n",
    "duplicates = data_2018[data_2018.duplicated(subset=['Company Name'], keep=False)]\n",
    "# View the Duplications data\n",
    "duplicates"
   ]
  },
  {
   "cell_type": "code",
   "execution_count": 247,
   "metadata": {},
   "outputs": [
    {
     "data": {
      "text/html": [
       "<div>\n",
       "<style scoped>\n",
       "    .dataframe tbody tr th:only-of-type {\n",
       "        vertical-align: middle;\n",
       "    }\n",
       "\n",
       "    .dataframe tbody tr th {\n",
       "        vertical-align: top;\n",
       "    }\n",
       "\n",
       "    .dataframe thead th {\n",
       "        text-align: right;\n",
       "    }\n",
       "</style>\n",
       "<table border=\"1\" class=\"dataframe\">\n",
       "  <thead>\n",
       "    <tr style=\"text-align: right;\">\n",
       "      <th></th>\n",
       "      <th>Company_Brand</th>\n",
       "      <th>Founded</th>\n",
       "      <th>HeadQuarter</th>\n",
       "      <th>Sector</th>\n",
       "      <th>What_it_does</th>\n",
       "      <th>Founders</th>\n",
       "      <th>Investor</th>\n",
       "      <th>Amount</th>\n",
       "      <th>Stage</th>\n",
       "      <th>column10</th>\n",
       "    </tr>\n",
       "  </thead>\n",
       "  <tbody>\n",
       "    <tr>\n",
       "      <th>8</th>\n",
       "      <td>Rupeek</td>\n",
       "      <td>2015.0</td>\n",
       "      <td>Bangalore</td>\n",
       "      <td>FinTech</td>\n",
       "      <td>Rupeek is an online lending platform that spec...</td>\n",
       "      <td>Amar Prabhu, Ashwin Soni, Sumit Maniyar</td>\n",
       "      <td>KB Investment, Bertelsmann India Investments</td>\n",
       "      <td>45000000.0</td>\n",
       "      <td>Series C</td>\n",
       "      <td>None</td>\n",
       "    </tr>\n",
       "    <tr>\n",
       "      <th>15</th>\n",
       "      <td>Zomato</td>\n",
       "      <td>2008.0</td>\n",
       "      <td>Gurgaon</td>\n",
       "      <td>Food Delivery</td>\n",
       "      <td>Zomato is a food delivery and restaurant disco...</td>\n",
       "      <td>Deepinder Goyal, Gaurav Gupta, Pankaj Chaddah</td>\n",
       "      <td>Kora, Tiger Global Management</td>\n",
       "      <td>660000000.0</td>\n",
       "      <td>None</td>\n",
       "      <td>None</td>\n",
       "    </tr>\n",
       "    <tr>\n",
       "      <th>17</th>\n",
       "      <td>Shiprocket</td>\n",
       "      <td>2017.0</td>\n",
       "      <td>New Delhi</td>\n",
       "      <td>E-commerce</td>\n",
       "      <td>Shiprocket helps online retailers simplify the...</td>\n",
       "      <td>Gautam Kapoor, Saahil Goel, Vishesh Khurana</td>\n",
       "      <td>Bertelsmann India Investments, InnoVen Capital</td>\n",
       "      <td>7500000.0</td>\n",
       "      <td>Series C</td>\n",
       "      <td>None</td>\n",
       "    </tr>\n",
       "    <tr>\n",
       "      <th>18</th>\n",
       "      <td>Pine Labs</td>\n",
       "      <td>1998.0</td>\n",
       "      <td>Noida</td>\n",
       "      <td>FinTech</td>\n",
       "      <td>A merchant platform company that provides fina...</td>\n",
       "      <td>Amrish Rau</td>\n",
       "      <td>Mastercard, Temasek Holdings</td>\n",
       "      <td>NaN</td>\n",
       "      <td>None</td>\n",
       "      <td>None</td>\n",
       "    </tr>\n",
       "    <tr>\n",
       "      <th>25</th>\n",
       "      <td>CoinDCX</td>\n",
       "      <td>2017.0</td>\n",
       "      <td>Mumbai</td>\n",
       "      <td>FinTech</td>\n",
       "      <td>CoinDCX is a company that specializes in crypt...</td>\n",
       "      <td>Neeraj Khandelwal, Sumit Gupta</td>\n",
       "      <td>Coinbase Ventures, Polychain</td>\n",
       "      <td>10000000.0</td>\n",
       "      <td>Series B</td>\n",
       "      <td>None</td>\n",
       "    </tr>\n",
       "    <tr>\n",
       "      <th>...</th>\n",
       "      <td>...</td>\n",
       "      <td>...</td>\n",
       "      <td>...</td>\n",
       "      <td>...</td>\n",
       "      <td>...</td>\n",
       "      <td>...</td>\n",
       "      <td>...</td>\n",
       "      <td>...</td>\n",
       "      <td>...</td>\n",
       "      <td>...</td>\n",
       "    </tr>\n",
       "    <tr>\n",
       "      <th>1035</th>\n",
       "      <td>Byju</td>\n",
       "      <td>2011.0</td>\n",
       "      <td>None</td>\n",
       "      <td>Edtech</td>\n",
       "      <td>Provides online learning classes</td>\n",
       "      <td>Byju Raveendran</td>\n",
       "      <td>Tiger Global</td>\n",
       "      <td>200000000.0</td>\n",
       "      <td>None</td>\n",
       "      <td>None</td>\n",
       "    </tr>\n",
       "    <tr>\n",
       "      <th>1039</th>\n",
       "      <td>Rivigo</td>\n",
       "      <td>2014.0</td>\n",
       "      <td>Gurugram</td>\n",
       "      <td>Logistics</td>\n",
       "      <td>It offers delivery services across India to re...</td>\n",
       "      <td>Deepak Garg, Gazal Kalra</td>\n",
       "      <td>Trifecta Capital</td>\n",
       "      <td>3400000.0</td>\n",
       "      <td>Series F</td>\n",
       "      <td>None</td>\n",
       "    </tr>\n",
       "    <tr>\n",
       "      <th>1040</th>\n",
       "      <td>BuildPan</td>\n",
       "      <td>2019.0</td>\n",
       "      <td>Indore</td>\n",
       "      <td>SaaS</td>\n",
       "      <td>It helps developers to test, integrate and dep...</td>\n",
       "      <td>Sonal Khandelwal, Vaibhav Tiwari</td>\n",
       "      <td>HNIs in India, Japan, and the US</td>\n",
       "      <td>NaN</td>\n",
       "      <td>Seed Round</td>\n",
       "      <td>None</td>\n",
       "    </tr>\n",
       "    <tr>\n",
       "      <th>1048</th>\n",
       "      <td>GoMechanic</td>\n",
       "      <td>2016.0</td>\n",
       "      <td>Delhi</td>\n",
       "      <td>Automobile Technology</td>\n",
       "      <td>Find automobile repair and maintenance service...</td>\n",
       "      <td>Amit Bhasin, Kushal Karwa, Nitin Rana, Rishabh...</td>\n",
       "      <td>Chiratae Ventures, Sequoia Capital, Orios Vent...</td>\n",
       "      <td>14700000.0</td>\n",
       "      <td>Series B</td>\n",
       "      <td>None</td>\n",
       "    </tr>\n",
       "    <tr>\n",
       "      <th>1053</th>\n",
       "      <td>Shuttl</td>\n",
       "      <td>2015.0</td>\n",
       "      <td>Delhi</td>\n",
       "      <td>Transport</td>\n",
       "      <td>App based bus aggregator serice</td>\n",
       "      <td>Amit Singh, Deepanshu Malviya</td>\n",
       "      <td>SIG Global India Fund LLP.</td>\n",
       "      <td>8043000.0</td>\n",
       "      <td>Series C</td>\n",
       "      <td>None</td>\n",
       "    </tr>\n",
       "  </tbody>\n",
       "</table>\n",
       "<p>271 rows × 10 columns</p>\n",
       "</div>"
      ],
      "text/plain": [
       "     Company_Brand  Founded HeadQuarter                 Sector  \\\n",
       "8           Rupeek   2015.0   Bangalore                FinTech   \n",
       "15          Zomato   2008.0     Gurgaon          Food Delivery   \n",
       "17      Shiprocket   2017.0   New Delhi             E-commerce   \n",
       "18       Pine Labs   1998.0       Noida                FinTech   \n",
       "25         CoinDCX   2017.0      Mumbai                FinTech   \n",
       "...            ...      ...         ...                    ...   \n",
       "1035          Byju   2011.0        None                 Edtech   \n",
       "1039        Rivigo   2014.0    Gurugram              Logistics   \n",
       "1040      BuildPan   2019.0      Indore                   SaaS   \n",
       "1048    GoMechanic   2016.0       Delhi  Automobile Technology   \n",
       "1053        Shuttl   2015.0       Delhi              Transport   \n",
       "\n",
       "                                           What_it_does  \\\n",
       "8     Rupeek is an online lending platform that spec...   \n",
       "15    Zomato is a food delivery and restaurant disco...   \n",
       "17    Shiprocket helps online retailers simplify the...   \n",
       "18    A merchant platform company that provides fina...   \n",
       "25    CoinDCX is a company that specializes in crypt...   \n",
       "...                                                 ...   \n",
       "1035                   Provides online learning classes   \n",
       "1039  It offers delivery services across India to re...   \n",
       "1040  It helps developers to test, integrate and dep...   \n",
       "1048  Find automobile repair and maintenance service...   \n",
       "1053                    App based bus aggregator serice   \n",
       "\n",
       "                                               Founders  \\\n",
       "8               Amar Prabhu, Ashwin Soni, Sumit Maniyar   \n",
       "15        Deepinder Goyal, Gaurav Gupta, Pankaj Chaddah   \n",
       "17          Gautam Kapoor, Saahil Goel, Vishesh Khurana   \n",
       "18                                           Amrish Rau   \n",
       "25                       Neeraj Khandelwal, Sumit Gupta   \n",
       "...                                                 ...   \n",
       "1035                                    Byju Raveendran   \n",
       "1039                           Deepak Garg, Gazal Kalra   \n",
       "1040                   Sonal Khandelwal, Vaibhav Tiwari   \n",
       "1048  Amit Bhasin, Kushal Karwa, Nitin Rana, Rishabh...   \n",
       "1053                      Amit Singh, Deepanshu Malviya   \n",
       "\n",
       "                                               Investor       Amount  \\\n",
       "8          KB Investment, Bertelsmann India Investments   45000000.0   \n",
       "15                        Kora, Tiger Global Management  660000000.0   \n",
       "17       Bertelsmann India Investments, InnoVen Capital    7500000.0   \n",
       "18                         Mastercard, Temasek Holdings          NaN   \n",
       "25                         Coinbase Ventures, Polychain   10000000.0   \n",
       "...                                                 ...          ...   \n",
       "1035                                       Tiger Global  200000000.0   \n",
       "1039                                   Trifecta Capital    3400000.0   \n",
       "1040                   HNIs in India, Japan, and the US          NaN   \n",
       "1048  Chiratae Ventures, Sequoia Capital, Orios Vent...   14700000.0   \n",
       "1053                         SIG Global India Fund LLP.    8043000.0   \n",
       "\n",
       "           Stage column10  \n",
       "8       Series C     None  \n",
       "15          None     None  \n",
       "17      Series C     None  \n",
       "18          None     None  \n",
       "25      Series B     None  \n",
       "...          ...      ...  \n",
       "1035        None     None  \n",
       "1039    Series F     None  \n",
       "1040  Seed Round     None  \n",
       "1048    Series B     None  \n",
       "1053    Series C     None  \n",
       "\n",
       "[271 rows x 10 columns]"
      ]
     },
     "execution_count": 247,
     "metadata": {},
     "output_type": "execute_result"
    }
   ],
   "source": [
    "# View the Duplication base Company Name on 2020 data\n",
    "\n",
    "duplicates = data_2020[data_2020.duplicated(subset=['Company_Brand'], keep=False)]\n",
    "# View the Duplications data\n",
    "duplicates"
   ]
  },
  {
   "cell_type": "code",
   "execution_count": 248,
   "metadata": {},
   "outputs": [
    {
     "data": {
      "text/html": [
       "<div>\n",
       "<style scoped>\n",
       "    .dataframe tbody tr th:only-of-type {\n",
       "        vertical-align: middle;\n",
       "    }\n",
       "\n",
       "    .dataframe tbody tr th {\n",
       "        vertical-align: top;\n",
       "    }\n",
       "\n",
       "    .dataframe thead th {\n",
       "        text-align: right;\n",
       "    }\n",
       "</style>\n",
       "<table border=\"1\" class=\"dataframe\">\n",
       "  <thead>\n",
       "    <tr style=\"text-align: right;\">\n",
       "      <th></th>\n",
       "      <th>Company_Brand</th>\n",
       "      <th>Founded</th>\n",
       "      <th>HeadQuarter</th>\n",
       "      <th>Sector</th>\n",
       "      <th>What_it_does</th>\n",
       "      <th>Founders</th>\n",
       "      <th>Investor</th>\n",
       "      <th>Amount</th>\n",
       "      <th>Stage</th>\n",
       "    </tr>\n",
       "  </thead>\n",
       "  <tbody>\n",
       "    <tr>\n",
       "      <th>0</th>\n",
       "      <td>Unbox Robotics</td>\n",
       "      <td>2019.0</td>\n",
       "      <td>Bangalore</td>\n",
       "      <td>AI startup</td>\n",
       "      <td>Unbox Robotics builds on-demand AI-driven ware...</td>\n",
       "      <td>Pramod Ghadge, Shahid Memon</td>\n",
       "      <td>BEENEXT, Entrepreneur First</td>\n",
       "      <td>$1,200,000</td>\n",
       "      <td>Pre-series A</td>\n",
       "    </tr>\n",
       "    <tr>\n",
       "      <th>1</th>\n",
       "      <td>upGrad</td>\n",
       "      <td>2015.0</td>\n",
       "      <td>Mumbai</td>\n",
       "      <td>EdTech</td>\n",
       "      <td>UpGrad is an online higher education platform.</td>\n",
       "      <td>Mayank Kumar, Phalgun Kompalli, Ravijot Chugh,...</td>\n",
       "      <td>Unilazer Ventures, IIFL Asset Management</td>\n",
       "      <td>$120,000,000</td>\n",
       "      <td>None</td>\n",
       "    </tr>\n",
       "    <tr>\n",
       "      <th>3</th>\n",
       "      <td>Bizongo</td>\n",
       "      <td>2015.0</td>\n",
       "      <td>Mumbai</td>\n",
       "      <td>B2B E-commerce</td>\n",
       "      <td>Bizongo is a business-to-business online marke...</td>\n",
       "      <td>Aniket Deb, Ankit Tomar, Sachin Agrawal</td>\n",
       "      <td>CDC Group, IDG Capital</td>\n",
       "      <td>$51,000,000</td>\n",
       "      <td>Series C</td>\n",
       "    </tr>\n",
       "    <tr>\n",
       "      <th>5</th>\n",
       "      <td>Urban Company</td>\n",
       "      <td>2014.0</td>\n",
       "      <td>New Delhi</td>\n",
       "      <td>Home services</td>\n",
       "      <td>Urban Company (Formerly UrbanClap) is a home a...</td>\n",
       "      <td>Abhiraj Singh Bhal, Raghav Chandra, Varun Khaitan</td>\n",
       "      <td>Vy Capital</td>\n",
       "      <td>$188,000,000</td>\n",
       "      <td>None</td>\n",
       "    </tr>\n",
       "    <tr>\n",
       "      <th>6</th>\n",
       "      <td>Comofi Medtech</td>\n",
       "      <td>2018.0</td>\n",
       "      <td>Bangalore</td>\n",
       "      <td>HealthTech</td>\n",
       "      <td>Comofi Medtech is a healthcare robotics startup.</td>\n",
       "      <td>Gururaj KB</td>\n",
       "      <td>CIIE.CO, KIIT-TBI</td>\n",
       "      <td>$200,000</td>\n",
       "      <td>None</td>\n",
       "    </tr>\n",
       "    <tr>\n",
       "      <th>...</th>\n",
       "      <td>...</td>\n",
       "      <td>...</td>\n",
       "      <td>...</td>\n",
       "      <td>...</td>\n",
       "      <td>...</td>\n",
       "      <td>...</td>\n",
       "      <td>...</td>\n",
       "      <td>...</td>\n",
       "      <td>...</td>\n",
       "    </tr>\n",
       "    <tr>\n",
       "      <th>1193</th>\n",
       "      <td>Sapio Analytics</td>\n",
       "      <td>2019.0</td>\n",
       "      <td>Mumbai</td>\n",
       "      <td>Computer Software</td>\n",
       "      <td>Sapio helps government create policies driven ...</td>\n",
       "      <td>Hardik Somani, Ashwin Srivastava, Shripal Jain...</td>\n",
       "      <td>Rachit Poddar, Rajesh Gupta</td>\n",
       "      <td>$Undisclosed</td>\n",
       "      <td>None</td>\n",
       "    </tr>\n",
       "    <tr>\n",
       "      <th>1195</th>\n",
       "      <td>Delhivery</td>\n",
       "      <td>2011.0</td>\n",
       "      <td>Gurugram</td>\n",
       "      <td>Logistics &amp; Supply Chain</td>\n",
       "      <td>Delhivery is a leading logistics and supply ch...</td>\n",
       "      <td>Sahil Barua</td>\n",
       "      <td>Addition</td>\n",
       "      <td>$76000000</td>\n",
       "      <td>Series I</td>\n",
       "    </tr>\n",
       "    <tr>\n",
       "      <th>1198</th>\n",
       "      <td>GoKwik</td>\n",
       "      <td>2020.0</td>\n",
       "      <td>New Delhi</td>\n",
       "      <td>Information Technology &amp; Services</td>\n",
       "      <td>GoKwik is a platform for solving shopping expe...</td>\n",
       "      <td>Ankush Talwar, Chirag Taneja, Vivek Bajpai</td>\n",
       "      <td>Matrix Partners India, Jitendra Gupta, RTP Global</td>\n",
       "      <td>$5000000</td>\n",
       "      <td>Pre-series A</td>\n",
       "    </tr>\n",
       "    <tr>\n",
       "      <th>1206</th>\n",
       "      <td>Leap Finance</td>\n",
       "      <td>2019.0</td>\n",
       "      <td>Bangalore</td>\n",
       "      <td>Financial Services</td>\n",
       "      <td>International education loans for high potenti...</td>\n",
       "      <td>Arnav Kumar, Vaibhav Singh</td>\n",
       "      <td>Owl Ventures</td>\n",
       "      <td>$55000000</td>\n",
       "      <td>Series C</td>\n",
       "    </tr>\n",
       "    <tr>\n",
       "      <th>1207</th>\n",
       "      <td>CollegeDekho</td>\n",
       "      <td>2015.0</td>\n",
       "      <td>Gurugram</td>\n",
       "      <td>EdTech</td>\n",
       "      <td>Collegedekho.com is Student’s Partner, Friend ...</td>\n",
       "      <td>Ruchir Arora</td>\n",
       "      <td>Winter Capital, ETS, Man Capital</td>\n",
       "      <td>$26000000</td>\n",
       "      <td>Series B</td>\n",
       "    </tr>\n",
       "  </tbody>\n",
       "</table>\n",
       "<p>323 rows × 9 columns</p>\n",
       "</div>"
      ],
      "text/plain": [
       "        Company_Brand  Founded HeadQuarter                             Sector  \\\n",
       "0      Unbox Robotics   2019.0   Bangalore                         AI startup   \n",
       "1              upGrad   2015.0      Mumbai                             EdTech   \n",
       "3             Bizongo   2015.0      Mumbai                     B2B E-commerce   \n",
       "5       Urban Company   2014.0   New Delhi                      Home services   \n",
       "6      Comofi Medtech   2018.0   Bangalore                         HealthTech   \n",
       "...               ...      ...         ...                                ...   \n",
       "1193  Sapio Analytics   2019.0      Mumbai                  Computer Software   \n",
       "1195        Delhivery   2011.0    Gurugram           Logistics & Supply Chain   \n",
       "1198           GoKwik   2020.0   New Delhi  Information Technology & Services   \n",
       "1206     Leap Finance   2019.0   Bangalore                 Financial Services   \n",
       "1207     CollegeDekho   2015.0    Gurugram                             EdTech   \n",
       "\n",
       "                                           What_it_does  \\\n",
       "0     Unbox Robotics builds on-demand AI-driven ware...   \n",
       "1        UpGrad is an online higher education platform.   \n",
       "3     Bizongo is a business-to-business online marke...   \n",
       "5     Urban Company (Formerly UrbanClap) is a home a...   \n",
       "6      Comofi Medtech is a healthcare robotics startup.   \n",
       "...                                                 ...   \n",
       "1193  Sapio helps government create policies driven ...   \n",
       "1195  Delhivery is a leading logistics and supply ch...   \n",
       "1198  GoKwik is a platform for solving shopping expe...   \n",
       "1206  International education loans for high potenti...   \n",
       "1207  Collegedekho.com is Student’s Partner, Friend ...   \n",
       "\n",
       "                                               Founders  \\\n",
       "0                           Pramod Ghadge, Shahid Memon   \n",
       "1     Mayank Kumar, Phalgun Kompalli, Ravijot Chugh,...   \n",
       "3               Aniket Deb, Ankit Tomar, Sachin Agrawal   \n",
       "5     Abhiraj Singh Bhal, Raghav Chandra, Varun Khaitan   \n",
       "6                                            Gururaj KB   \n",
       "...                                                 ...   \n",
       "1193  Hardik Somani, Ashwin Srivastava, Shripal Jain...   \n",
       "1195                                        Sahil Barua   \n",
       "1198         Ankush Talwar, Chirag Taneja, Vivek Bajpai   \n",
       "1206                         Arnav Kumar, Vaibhav Singh   \n",
       "1207                                       Ruchir Arora   \n",
       "\n",
       "                                               Investor        Amount  \\\n",
       "0                           BEENEXT, Entrepreneur First    $1,200,000   \n",
       "1              Unilazer Ventures, IIFL Asset Management  $120,000,000   \n",
       "3                                CDC Group, IDG Capital   $51,000,000   \n",
       "5                                            Vy Capital  $188,000,000   \n",
       "6                                     CIIE.CO, KIIT-TBI      $200,000   \n",
       "...                                                 ...           ...   \n",
       "1193                        Rachit Poddar, Rajesh Gupta  $Undisclosed   \n",
       "1195                                           Addition     $76000000   \n",
       "1198  Matrix Partners India, Jitendra Gupta, RTP Global      $5000000   \n",
       "1206                                       Owl Ventures     $55000000   \n",
       "1207                   Winter Capital, ETS, Man Capital     $26000000   \n",
       "\n",
       "             Stage  \n",
       "0     Pre-series A  \n",
       "1             None  \n",
       "3         Series C  \n",
       "5             None  \n",
       "6             None  \n",
       "...            ...  \n",
       "1193          None  \n",
       "1195      Series I  \n",
       "1198  Pre-series A  \n",
       "1206      Series C  \n",
       "1207      Series B  \n",
       "\n",
       "[323 rows x 9 columns]"
      ]
     },
     "execution_count": 248,
     "metadata": {},
     "output_type": "execute_result"
    }
   ],
   "source": [
    "# View the Duplication base Compnay Name on 2021 data\n",
    "\n",
    "duplicates = data_2021[data_2021.duplicated(subset=['Company_Brand'], keep=False)]\n",
    "# View the Duplications data\n",
    "duplicates"
   ]
  },
  {
   "cell_type": "markdown",
   "metadata": {},
   "source": [
    " Dropping data duplicate"
   ]
  },
  {
   "cell_type": "code",
   "execution_count": 249,
   "metadata": {},
   "outputs": [],
   "source": [
    "# Drop 2018 data duplicates\n",
    "data_2018 = data_2018.drop_duplicates()"
   ]
  },
  {
   "cell_type": "code",
   "execution_count": 250,
   "metadata": {},
   "outputs": [],
   "source": [
    "# Drop 2019 data duplicates\n",
    "data_2019 = data_2019.drop_duplicates()"
   ]
  },
  {
   "cell_type": "code",
   "execution_count": 251,
   "metadata": {},
   "outputs": [],
   "source": [
    "# Drop 2020 data duplicates\n",
    "data_2020 = data_2020.drop_duplicates()"
   ]
  },
  {
   "cell_type": "code",
   "execution_count": 252,
   "metadata": {},
   "outputs": [],
   "source": [
    "# Drop 2021 data duplicate\n",
    "data_2021 = data_2021.drop_duplicates()"
   ]
  },
  {
   "cell_type": "markdown",
   "metadata": {},
   "source": [
    "Check Dulpication after cleaning\n"
   ]
  },
  {
   "cell_type": "code",
   "execution_count": 253,
   "metadata": {},
   "outputs": [
    {
     "data": {
      "text/plain": [
       "0"
      ]
     },
     "execution_count": 253,
     "metadata": {},
     "output_type": "execute_result"
    }
   ],
   "source": [
    "# Check Dulpications for 2018 data\n",
    "data_2018.duplicated().sum()"
   ]
  },
  {
   "cell_type": "code",
   "execution_count": 254,
   "metadata": {},
   "outputs": [
    {
     "data": {
      "text/plain": [
       "0"
      ]
     },
     "execution_count": 254,
     "metadata": {},
     "output_type": "execute_result"
    }
   ],
   "source": [
    "# Check Dulpications for 2019 data\n",
    "data_2019.duplicated().sum()"
   ]
  },
  {
   "cell_type": "code",
   "execution_count": 255,
   "metadata": {},
   "outputs": [
    {
     "data": {
      "text/plain": [
       "0"
      ]
     },
     "execution_count": 255,
     "metadata": {},
     "output_type": "execute_result"
    }
   ],
   "source": [
    "# Check Dulpications for 2020 data\n",
    "data_2020.duplicated().sum()"
   ]
  },
  {
   "cell_type": "code",
   "execution_count": 256,
   "metadata": {},
   "outputs": [
    {
     "data": {
      "text/plain": [
       "0"
      ]
     },
     "execution_count": 256,
     "metadata": {},
     "output_type": "execute_result"
    }
   ],
   "source": [
    "# Check Dulpications for 2021 data\n",
    "data_2021.duplicated().sum()"
   ]
  },
  {
   "cell_type": "markdown",
   "metadata": {},
   "source": [
    "Checking Missing Values"
   ]
  },
  {
   "cell_type": "code",
   "execution_count": 257,
   "metadata": {},
   "outputs": [
    {
     "data": {
      "text/plain": [
       "Company Name     0\n",
       "Industry         0\n",
       "Round/Series     0\n",
       "Amount           0\n",
       "Location         0\n",
       "About Company    0\n",
       "dtype: int64"
      ]
     },
     "execution_count": 257,
     "metadata": {},
     "output_type": "execute_result"
    }
   ],
   "source": [
    "#check for missing data for 2018\n",
    "missing_values_2018 = data_2018.isnull().sum\n",
    "missing_values_2018()\n",
    "\n"
   ]
  },
  {
   "cell_type": "code",
   "execution_count": 258,
   "metadata": {},
   "outputs": [
    {
     "data": {
      "text/plain": [
       "Company/Brand     0\n",
       "Founded          29\n",
       "HeadQuarter      19\n",
       "Sector            5\n",
       "What it does      0\n",
       "Founders          3\n",
       "Investor          0\n",
       "Amount($)         0\n",
       "Stage            46\n",
       "dtype: int64"
      ]
     },
     "execution_count": 258,
     "metadata": {},
     "output_type": "execute_result"
    }
   ],
   "source": [
    "#check for missing data for 2019\n",
    "missing_values_2019 = data_2019.isnull().sum\n",
    "missing_values_2019()\n"
   ]
  },
  {
   "cell_type": "code",
   "execution_count": 259,
   "metadata": {},
   "outputs": [
    {
     "data": {
      "text/plain": [
       "Company_Brand       0\n",
       "Founded           213\n",
       "HeadQuarter        94\n",
       "Sector             13\n",
       "What_it_does        0\n",
       "Founders           12\n",
       "Investor           38\n",
       "Amount            253\n",
       "Stage             462\n",
       "column10         1050\n",
       "dtype: int64"
      ]
     },
     "execution_count": 259,
     "metadata": {},
     "output_type": "execute_result"
    }
   ],
   "source": [
    "#check for missing data for 2020\n",
    "missing_values_2020 = data_2020.isnull().sum\n",
    "missing_values_2020()"
   ]
  },
  {
   "cell_type": "code",
   "execution_count": 260,
   "metadata": {},
   "outputs": [
    {
     "data": {
      "text/plain": [
       "Company_Brand      0\n",
       "Founded            1\n",
       "HeadQuarter        1\n",
       "Sector             0\n",
       "What_it_does       0\n",
       "Founders           4\n",
       "Investor          61\n",
       "Amount             3\n",
       "Stage            421\n",
       "dtype: int64"
      ]
     },
     "execution_count": 260,
     "metadata": {},
     "output_type": "execute_result"
    }
   ],
   "source": [
    "#check for missing data for 2021\n",
    "missing_values_2021 = data_2021.isnull().sum\n",
    "missing_values_2021()"
   ]
  },
  {
   "cell_type": "markdown",
   "metadata": {},
   "source": [
    "Add Year column to all datasets"
   ]
  },
  {
   "cell_type": "code",
   "execution_count": 261,
   "metadata": {},
   "outputs": [],
   "source": [
    "# Adding a new \"Year\" column with the value of its value to all rows\n",
    "data_2018['Year'] = 2018\n",
    "data_2019['Year'] = 2019\n",
    "data_2020['Year'] = 2020\n",
    "data_2021['Year'] = 2021"
   ]
  },
  {
   "cell_type": "markdown",
   "metadata": {},
   "source": [
    " Rename columns in 2018 and 2019 datasets"
   ]
  },
  {
   "cell_type": "code",
   "execution_count": 262,
   "metadata": {},
   "outputs": [],
   "source": [
    "data_2018.rename(columns={'Company Name':'Company_Brand','Industry':'Sector','Round/Series':'Stage','Location':'HeadQuarter','About Company':'What it does'} ,inplace=True)\n",
    "data_2019.rename(columns={'Company/Brand':'Company_Brand','Amount($)':'Amount'},inplace=True)\n",
    "\n"
   ]
  },
  {
   "cell_type": "markdown",
   "metadata": {},
   "source": [
    " columns section for data analysis"
   ]
  },
  {
   "cell_type": "code",
   "execution_count": 263,
   "metadata": {},
   "outputs": [],
   "source": [
    "# Select the specified columns for analysis\n",
    "data_2018_selected = data_2018[['Company_Brand','HeadQuarter','Sector','Amount','Stage', 'Year']]\n",
    "data_2019_selected = data_2019[['Company_Brand','HeadQuarter','Sector','Amount','Stage','Year']]\n",
    "data_2020_selected = data_2020[['Company_Brand','HeadQuarter','Sector','Amount','Stage','Year']]\n",
    "data_2021_selected = data_2021[['Company_Brand','HeadQuarter','Sector','Amount','Stage','Year']]\n",
    "\n",
    "\n"
   ]
  },
  {
   "cell_type": "markdown",
   "metadata": {},
   "source": [
    " Combine all datasets into one dataframe combinedData"
   ]
  },
  {
   "cell_type": "code",
   "execution_count": 264,
   "metadata": {},
   "outputs": [],
   "source": [
    "# concatinate the tables\n",
    "combinedData= pd.concat([data_2018_selected,data_2019_selected,data_2020_selected,data_2021_selected],ignore_index=True)"
   ]
  },
  {
   "cell_type": "code",
   "execution_count": 265,
   "metadata": {},
   "outputs": [
    {
     "data": {
      "text/html": [
       "<div>\n",
       "<style scoped>\n",
       "    .dataframe tbody tr th:only-of-type {\n",
       "        vertical-align: middle;\n",
       "    }\n",
       "\n",
       "    .dataframe tbody tr th {\n",
       "        vertical-align: top;\n",
       "    }\n",
       "\n",
       "    .dataframe thead th {\n",
       "        text-align: right;\n",
       "    }\n",
       "</style>\n",
       "<table border=\"1\" class=\"dataframe\">\n",
       "  <thead>\n",
       "    <tr style=\"text-align: right;\">\n",
       "      <th></th>\n",
       "      <th>Company_Brand</th>\n",
       "      <th>HeadQuarter</th>\n",
       "      <th>Sector</th>\n",
       "      <th>Amount</th>\n",
       "      <th>Stage</th>\n",
       "      <th>Year</th>\n",
       "    </tr>\n",
       "  </thead>\n",
       "  <tbody>\n",
       "    <tr>\n",
       "      <th>2846</th>\n",
       "      <td>Proeon</td>\n",
       "      <td>Pune</td>\n",
       "      <td>Food Production</td>\n",
       "      <td>$2000000</td>\n",
       "      <td>Seed</td>\n",
       "      <td>2021</td>\n",
       "    </tr>\n",
       "    <tr>\n",
       "      <th>2847</th>\n",
       "      <td>InfyU Labs</td>\n",
       "      <td>Gandhinagar</td>\n",
       "      <td>AgriTech</td>\n",
       "      <td>$200000</td>\n",
       "      <td>Seed</td>\n",
       "      <td>2021</td>\n",
       "    </tr>\n",
       "    <tr>\n",
       "      <th>2848</th>\n",
       "      <td>TechEagle</td>\n",
       "      <td>Gurugram</td>\n",
       "      <td>Aviation &amp; Aerospace</td>\n",
       "      <td>$500000</td>\n",
       "      <td>Seed</td>\n",
       "      <td>2021</td>\n",
       "    </tr>\n",
       "    <tr>\n",
       "      <th>2849</th>\n",
       "      <td>Voxelgrids</td>\n",
       "      <td>Bangalore</td>\n",
       "      <td>Deeptech</td>\n",
       "      <td>$5000000</td>\n",
       "      <td>None</td>\n",
       "      <td>2021</td>\n",
       "    </tr>\n",
       "    <tr>\n",
       "      <th>2850</th>\n",
       "      <td>Cogos Technologies</td>\n",
       "      <td>Bangalore</td>\n",
       "      <td>Logistics &amp; Supply Chain</td>\n",
       "      <td>$2000000</td>\n",
       "      <td>Pre-series A</td>\n",
       "      <td>2021</td>\n",
       "    </tr>\n",
       "    <tr>\n",
       "      <th>2851</th>\n",
       "      <td>Gigforce</td>\n",
       "      <td>Gurugram</td>\n",
       "      <td>Staffing &amp; Recruiting</td>\n",
       "      <td>$3000000</td>\n",
       "      <td>Pre-series A</td>\n",
       "      <td>2021</td>\n",
       "    </tr>\n",
       "    <tr>\n",
       "      <th>2852</th>\n",
       "      <td>Vahdam</td>\n",
       "      <td>New Delhi</td>\n",
       "      <td>Food &amp; Beverages</td>\n",
       "      <td>$20000000</td>\n",
       "      <td>Series D</td>\n",
       "      <td>2021</td>\n",
       "    </tr>\n",
       "    <tr>\n",
       "      <th>2853</th>\n",
       "      <td>Leap Finance</td>\n",
       "      <td>Bangalore</td>\n",
       "      <td>Financial Services</td>\n",
       "      <td>$55000000</td>\n",
       "      <td>Series C</td>\n",
       "      <td>2021</td>\n",
       "    </tr>\n",
       "    <tr>\n",
       "      <th>2854</th>\n",
       "      <td>CollegeDekho</td>\n",
       "      <td>Gurugram</td>\n",
       "      <td>EdTech</td>\n",
       "      <td>$26000000</td>\n",
       "      <td>Series B</td>\n",
       "      <td>2021</td>\n",
       "    </tr>\n",
       "    <tr>\n",
       "      <th>2855</th>\n",
       "      <td>WeRize</td>\n",
       "      <td>Bangalore</td>\n",
       "      <td>Financial Services</td>\n",
       "      <td>$8000000</td>\n",
       "      <td>Series A</td>\n",
       "      <td>2021</td>\n",
       "    </tr>\n",
       "  </tbody>\n",
       "</table>\n",
       "</div>"
      ],
      "text/plain": [
       "           Company_Brand  HeadQuarter                    Sector     Amount  \\\n",
       "2846              Proeon         Pune           Food Production   $2000000   \n",
       "2847          InfyU Labs  Gandhinagar                  AgriTech    $200000   \n",
       "2848           TechEagle     Gurugram      Aviation & Aerospace    $500000   \n",
       "2849          Voxelgrids    Bangalore                  Deeptech   $5000000   \n",
       "2850  Cogos Technologies    Bangalore  Logistics & Supply Chain   $2000000   \n",
       "2851            Gigforce     Gurugram     Staffing & Recruiting   $3000000   \n",
       "2852              Vahdam    New Delhi          Food & Beverages  $20000000   \n",
       "2853        Leap Finance    Bangalore        Financial Services  $55000000   \n",
       "2854        CollegeDekho     Gurugram                    EdTech  $26000000   \n",
       "2855              WeRize    Bangalore        Financial Services   $8000000   \n",
       "\n",
       "             Stage  Year  \n",
       "2846          Seed  2021  \n",
       "2847          Seed  2021  \n",
       "2848          Seed  2021  \n",
       "2849          None  2021  \n",
       "2850  Pre-series A  2021  \n",
       "2851  Pre-series A  2021  \n",
       "2852      Series D  2021  \n",
       "2853      Series C  2021  \n",
       "2854      Series B  2021  \n",
       "2855      Series A  2021  "
      ]
     },
     "execution_count": 265,
     "metadata": {},
     "output_type": "execute_result"
    }
   ],
   "source": [
    "combinedData.tail(10)"
   ]
  },
  {
   "cell_type": "markdown",
   "metadata": {},
   "source": [
    "Check Amount Columns"
   ]
  },
  {
   "cell_type": "code",
   "execution_count": 266,
   "metadata": {},
   "outputs": [
    {
     "data": {
      "text/plain": [
       "array(['250000', '₹40,000,000', '₹65,000,000', '2000000', '—', '1600000',\n",
       "       '₹16,000,000', '₹50,000,000', '₹100,000,000', '150000', '1100000',\n",
       "       '₹500,000', '6000000', '650000', '₹35,000,000', '₹64,000,000',\n",
       "       '₹20,000,000', '1000000', '5000000', '4000000', '₹30,000,000',\n",
       "       '2800000', '1700000', '1300000', '₹5,000,000', '₹12,500,000',\n",
       "       '₹15,000,000', '500000', '₹104,000,000', '₹45,000,000', '13400000',\n",
       "       '₹25,000,000', '₹26,400,000', '₹8,000,000', '₹60,000', '9000000',\n",
       "       '100000', '20000', '120000', '₹34,000,000', '₹342,000,000',\n",
       "       '$143,145', '₹600,000,000', '$742,000,000', '₹1,000,000,000',\n",
       "       '₹2,000,000,000', '$3,980,000', '$10,000', '₹100,000',\n",
       "       '₹250,000,000', '$1,000,000,000', '$7,000,000', '$35,000,000',\n",
       "       '₹550,000,000', '$28,500,000', '$2,000,000', '₹240,000,000',\n",
       "       '₹120,000,000', '$2,400,000', '$30,000,000', '₹2,500,000,000',\n",
       "       '$23,000,000', '$150,000', '$11,000,000', '₹44,000,000',\n",
       "       '$3,240,000', '₹60,000,000', '$540,000,000', '₹650,000,000',\n",
       "       '₹1,600,000,000', '$900,000', '$10,000,000', '$1,500,000',\n",
       "       '₹70,000,000', '$1,000,000', '$5,000,000', '$14,000,000',\n",
       "       '₹102,500,000', '$100,000,000', '₹1,200,000', '₹5,200,000,000',\n",
       "       '$800,000', '$1,041,000', '$100,000', '$15,000', '1400000',\n",
       "       '1200000', '2200000', '1800000', '3600000', '₹9,500,000', '300000',\n",
       "       '6830000', '200000', '₹150,000,000', '4300000', '364846', '400000',\n",
       "       '1500000', '₹7,000,000', '₹1,400,000', '₹10,000,000',\n",
       "       '₹22,500,000', '13200000', '50000', '₹140,200,000', '3000000',\n",
       "       '1250000', '180000', '₹19,200,000', '₹103,000,000', '4200000',\n",
       "       '175000', '1450000', '₹200,000', '4500000', '600000',\n",
       "       '₹16,600,000', '₹12,000,000', '15000000', '₹33,000,000', '125000',\n",
       "       '130000', '₹34,900,000', '₹72,000,000', '17200000', '₹32,000,000',\n",
       "       '3500000', '₹135,000,000', '12000000', '$40,000,000', '$1,100,000',\n",
       "       '$50,000,000', '₹1,540,000,000', '$3,000,000', '$6,000,000',\n",
       "       '₹140,000,000', '$41,900,000', '₹1,410,000,000', '$3,530,000',\n",
       "       '$200,000', '$3,300,000', '₹580,000,000', '₹36,000,000',\n",
       "       '₹340,000,000', '$210,000,000', '$37,680,000', '$250,000',\n",
       "       '$20,000', '₹510,000,000', '₹2,200,000,000', '22000000', '70000',\n",
       "       '10000000', '₹15,392,000,000', '₹20,000,000,000', '₹4,000,000,000',\n",
       "       '185000000', '65000000', '₹165,000,000', '700000', '30000000',\n",
       "       '₹210,000,000', '210000000', '₹2,029,600,000', '75000000',\n",
       "       '₹80,000,000', '1760000', '2700000', '₹280,000,000',\n",
       "       '₹800,000,000', '750000', '2500000', '80000000', '25000000',\n",
       "       '₹730,000,000', '₹400,000,000', '3700000', '5600000',\n",
       "       '₹260,000,000', '99230000', '70000000', '40000', '550000',\n",
       "       '50000000', '365000000', '₹8,750,000', '₹78,000,000', '28000000',\n",
       "       '₹264,000,000', '100000000', '₹1,130,000,000', '₹810,000,000',\n",
       "       '₹1,400,000,000', '14900000', '225000000', '7500', '35000000',\n",
       "       '$6,300,000', '$150,000,000', '$28,000,000', 'Undisclosed',\n",
       "       '$20,000,000', '$275,000,000', '$22,000,000', '$140,500',\n",
       "       '$15,000,000', '$182,700', '$12,000,000', '$15,500,000',\n",
       "       '$5,500,000', '$2,500,000', '$140,000', '$230,000,000',\n",
       "       '$49,400,000', '$32,000,000', '$26,000,000', '$400,000',\n",
       "       '$8,000,000', '$120,000,000', '$4,000,000', '$6,800,000',\n",
       "       '$36,000,000', '$5,700,000', '$25,000,000', '$600,000',\n",
       "       '$70,000,000', '$60,000,000', '$220,000', '$2,800,000',\n",
       "       '$2,100,000', '$311,000,000', '$4,800,000', '$693,000,000',\n",
       "       '$33,000,000', 200000.0, 100000.0, nan, 400000.0, 340000.0,\n",
       "       600000.0, 45000000.0, 1000000.0, 2000000.0, 1200000.0, 660000000.0,\n",
       "       120000.0, 7500000.0, 5000000.0, 500000.0, 3000000.0, 10000000.0,\n",
       "       145000000.0, 100000000.0, 21000000.0, 4000000.0, 20000000.0,\n",
       "       560000.0, 275000.0, 4500000.0, 15000000.0, 390000000.0, 7000000.0,\n",
       "       5100000.0, 700000000.0, 2300000.0, 700000.0, 19000000.0, 9000000.0,\n",
       "       40000000.0, 750000.0, 1500000.0, 7800000.0, 50000000.0, 80000000.0,\n",
       "       30000000.0, 1700000.0, 2500000.0, 40000.0, 33000000.0, 35000000.0,\n",
       "       300000.0, 25000000.0, 3500000.0, 200000000.0, 6000000.0, 1300000.0,\n",
       "       4100000.0, 575000.0, 800000.0, 28000000.0, 18000000.0, 3200000.0,\n",
       "       900000.0, 250000.0, 4700000.0, 75000000.0, 8000000.0, 121000000.0,\n",
       "       55000000.0, 3300000.0, 11000000.0, 16000000.0, 5400000.0,\n",
       "       150000000.0, 4200000.0, 22000000.0, 52000000.0, 1100000.0,\n",
       "       118000000.0, 1600000.0, 18500000.0, 70000000000.0, 800000000.0,\n",
       "       400000000.0, 150000.0, 176000000.0, 60000000.0, 470000.0, 240000.0,\n",
       "       3000000000.0, 74000000.0, 62000000.0, 2100000.0, 500000000.0,\n",
       "       12500000.0, 2200000000.0, 5060000.0, 225000000.0, 24700000.0,\n",
       "       7700000.0, 19067328.0, 51000000.0, 115000.0, 54000.0, 20000.0,\n",
       "       803146.0, 238000.0, 10220000.0, 1020000.0, 12000000.0, 13400000.0,\n",
       "       170000000.0, 2900000.0, 543000.0, 90000000.0, 3400000.0,\n",
       "       23000000.0, 8090000.0, 1030000.0, 5040000.0, 360000.0, 1400000.0,\n",
       "       650000.0, 54000000.0, 42500000.0, 11370000.0, 325000.0, 410000.0,\n",
       "       450000.0, 682000.0, 4050000.0, 1050000.0, 1080000.0, 4300000.0,\n",
       "       6800000.0, 2110000.0, 764000.0, 603000.0, 409000.0, 292000.0,\n",
       "       286000.0, 136000.0, 546000.0, 887000.0, 43000.0, 40900.0,\n",
       "       2200000.0, 5660000.0, 350000.0, 110000.0, 122000000.0, 11635000.0,\n",
       "       2800000.0, 1065000.0, 669000.0, 16076000.0, 649600.0, 6700000.0,\n",
       "       220000.0, 266500.0, 2879000.0, 26500000.0, 351000.0, 46761000.0,\n",
       "       175000.0, 11241000.0, 804000.0, 1340000.0, 467000.0, 133000.0,\n",
       "       3823000.0, 934000.0, 293000.0, 198000.0, 927000.0, 971000.0,\n",
       "       3060000.0, 1862000.0, 232000.0, 2888000.0, 1328000.0, 15500000.0,\n",
       "       56000000.0, 2250000.0, 16753000.0, 3700000.0, 1470000.0, 530000.0,\n",
       "       267000.0, 3344000.0, 7200000.0, 2743000.0, 6082000.0, 6609000.0,\n",
       "       27700000.0, 5940000.0, 3964000.0, 5500000.0, 197000.0, 4327000.0,\n",
       "       459000.0, 3937000.0, 1313500.0, 229800.0, 5305000.0, 264000.0,\n",
       "       1750000.0, 5967000.0, 2980000.0, 323000.0, 1326000.0, 27000000.0,\n",
       "       5200000.0, 2530000.0, 792000.0, 11363000.0, 1715000.0, 329000.0,\n",
       "       5271000.0, 8700000.0, 3226000.0, 5900000.0, 44000000.0, 3879000.0,\n",
       "       13000000.0, 8800000.0, 9500000.0, 920000.0, 35600000.0, 9400000.0,\n",
       "       790000.0, 480000.0, 160000.0, 8200000.0, 4257000.0, 1410000.0,\n",
       "       349800.0, 786000.0, 2004000.0, 123000000.0, 248000.0, 24000000.0,\n",
       "       14259000.0, 24500000.0, 3800000.0, 18370000.0, 68525000.0,\n",
       "       4800000.0, 1834000.0, 23850000.0, 43000000.0, 21600000.0,\n",
       "       4598000.0, 13137000.0, 115000000.0, 3900000.0, 670000.0, 8500000.0,\n",
       "       3148000.0, 2600000.0, 4049500.0, 10500000.0, 6500000.0, 43700000.0,\n",
       "       13800000.0, 306900.0, 420000.0, 627300.0, 113000000.0, 32000000.0,\n",
       "       110000000.0, 1397000.0, 448500.0, 7975700.0, 330000.0, 5600000.0,\n",
       "       1402000.0, 21500000.0, 296000000.0, 4900000.0, 1402400.0,\n",
       "       12618300.0, 9900000.0, 982530.0, 70185200.0, 210000000.0,\n",
       "       84000000.0, 39000000.0, 2700000.0, 1403400.0, 105000000.0,\n",
       "       103000000.0, 281300.0, 12700.0, 25000.0, 97500000.0, 507000.0,\n",
       "       8400000.0, 18300000.0, 125000000.0, 181000.0, 280000.0, 14700000.0,\n",
       "       13200000.0, 8043000.0, '$1,200,000', '$51,000,000', '$188,000,000',\n",
       "       '$700,000', '$9,000,000', '$49,000,000', '$300,000',\n",
       "       '$160,000,000', '$1,800,000', '$850,000', '$53,000,000',\n",
       "       '$500,000', '$21,000,000', '$7,500,000', '$7,400,000',\n",
       "       '$800,000,000', '$17,000,000', '$3,500,000', '$215,000,000',\n",
       "       '$350,000,000', '$83,000,000', '$110,000,000', '$500,000,000',\n",
       "       '$65,000,000', '$150,000,000,000', '$300,000,000', '$2,200,000',\n",
       "       '$140,000,000', '$13,000,000', None, '$Undisclosed', '$2000000',\n",
       "       '$800000', '$6000000', '$2500000', '$9500000', '$13000000',\n",
       "       '$5000000', '$8000000', '$1000000', 'Upsparks', '$200000',\n",
       "       '$12000000', '$1500000', '$1700000', '$5500000', '$400000',\n",
       "       '$150000000', '$4000000', '$100000000', '$500000', '$15000000',\n",
       "       '$10000000', '$40000000', '$225000000', '$6700000', '$1300000',\n",
       "       '$20000000', '$250000', '$21000000', '$1200000', '$52000000',\n",
       "       '$3800000', '$17500000', '$42000000', '$2300000', '$7000000',\n",
       "       '$30000000', '$450000000', '$28000000', '$300000', '$3500000',\n",
       "       '$8500000', '$25000000', '$3000000', '$37000000', '$370000000',\n",
       "       '$700000', '$16000000', '$100000', '$44000000', '$770000',\n",
       "       '$125000000', '$35000000', '$50000000', '$4900000', '$145000000',\n",
       "       '$22000000', '$70000000', '$6600000', '$32000000', '$24000000',\n",
       "       '$725000', '$461000', 'Series C', 'Seed', '$96000000', '$60000000',\n",
       "       '$500000000', '$266000000', '$4500000', '$325000000', '$6500000',\n",
       "       '$1600000', '$150000', '$225000', '$85000000', '$235000',\n",
       "       '$260000', '$2900000', '$53000000', '$1100000', '$86000000',\n",
       "       '$130000', '$$100,00', '$111000000', '$265000', '$76000000',\n",
       "       '$75,000,000', '$3,800,000', '$1,600,000', '$260,000',\n",
       "       '$18,000,000', '$350,000', '$95,000,000', '$4,100,000',\n",
       "       '$5,200,000', '$1,400,000', '$2,600,000', '$16,000,000',\n",
       "       '$280,000,000', '$14,300,000', '$81,000,000', '$1,300,000',\n",
       "       '$8,200,000', '$720,000', '$600000', '$9000000', '$1800000',\n",
       "       '$330000', '$undisclosed', '$200000000', '$36000000', '$67000000',\n",
       "       '$10200000', '$220000000', '$108000000', '$75000000', '$450000',\n",
       "       '$660000000', 'ah! Ventures', '$45000000', '$3200000', '$370000',\n",
       "       'Pre-series A', 'ITO Angel Network, LetsVenture', '$48000000',\n",
       "       '$3600000', '$11000000', '$192000000', '$65000000', '$1400000',\n",
       "       '$1900000', '$41000000', '$144000000', '$5200000', '$270000000',\n",
       "       '$140000', '$250000000', '$320000', '$350000000', '$4800000',\n",
       "       '$38000000', '$125000', '$26000000', '$64000000', '$620000',\n",
       "       '$900000', 'JITO Angel Network, LetsVenture', '$2600000',\n",
       "       '$1,250,000', '$400,000,000', '$1,700,000', '$27,000,000',\n",
       "       '$234,000,000', '$460,000,000', '$13,500,000', '$5,100,000',\n",
       "       '$195,000,000', '$125,000', '$45,000,000', '$200,000,000',\n",
       "       '$7,300,000', '$12,500,000', '$24,000,000', '$16,500,000',\n",
       "       '$340,000', '$43,000,000', '$3300000', '$92000000', '$17000000',\n",
       "       '$135000000', '$$1,55,000', '$2100000', '$840000000', '$248000000',\n",
       "       '$4300000', '$570000', '$2200000', '$4700000', '$300000000',\n",
       "       '$260000000', '$140000000', '$175000000', '$19000000', '$810000',\n",
       "       '$7500000', '$600000000', '$90000000', '$5700000', '$6750000',\n",
       "       '$78000000', '$5400000', '$115000000', '$255000000', '$18000000',\n",
       "       '$570000000', '$550000', '$2700000', '$4200000', '$31000000',\n",
       "       '$540000', '$14000000', '$340000', '$', '$6200000', '$750000',\n",
       "       '$6300000', '$23000000', '$55000000'], dtype=object)"
      ]
     },
     "execution_count": 266,
     "metadata": {},
     "output_type": "execute_result"
    }
   ],
   "source": [
    "combinedData['Amount'].unique()"
   ]
  },
  {
   "cell_type": "code",
   "execution_count": 267,
   "metadata": {},
   "outputs": [],
   "source": [
    "# Replace  non-numerical values in the 'amount' column with 0\n",
    "combinedData['Amount'].replace(['—','Undisclosed','None', '$Undisclosed', '$','Upsparks', 'JITO Angel Network, LetsVenture','Series C', 'Seed', '$undisclosed', 'ah! Ventures', 'Pre-series A', 'ITO Angel Network, LetsVenture'], 0, inplace=True)"
   ]
  },
  {
   "cell_type": "code",
   "execution_count": 268,
   "metadata": {},
   "outputs": [
    {
     "data": {
      "text/plain": [
       "array(['250000', '₹40,000,000', '₹65,000,000', '2000000', 0, '1600000',\n",
       "       '₹16,000,000', '₹50,000,000', '₹100,000,000', '150000', '1100000',\n",
       "       '₹500,000', '6000000', '650000', '₹35,000,000', '₹64,000,000',\n",
       "       '₹20,000,000', '1000000', '5000000', '4000000', '₹30,000,000',\n",
       "       '2800000', '1700000', '1300000', '₹5,000,000', '₹12,500,000',\n",
       "       '₹15,000,000', '500000', '₹104,000,000', '₹45,000,000', '13400000',\n",
       "       '₹25,000,000', '₹26,400,000', '₹8,000,000', '₹60,000', '9000000',\n",
       "       '100000', '20000', '120000', '₹34,000,000', '₹342,000,000',\n",
       "       '$143,145', '₹600,000,000', '$742,000,000', '₹1,000,000,000',\n",
       "       '₹2,000,000,000', '$3,980,000', '$10,000', '₹100,000',\n",
       "       '₹250,000,000', '$1,000,000,000', '$7,000,000', '$35,000,000',\n",
       "       '₹550,000,000', '$28,500,000', '$2,000,000', '₹240,000,000',\n",
       "       '₹120,000,000', '$2,400,000', '$30,000,000', '₹2,500,000,000',\n",
       "       '$23,000,000', '$150,000', '$11,000,000', '₹44,000,000',\n",
       "       '$3,240,000', '₹60,000,000', '$540,000,000', '₹650,000,000',\n",
       "       '₹1,600,000,000', '$900,000', '$10,000,000', '$1,500,000',\n",
       "       '₹70,000,000', '$1,000,000', '$5,000,000', '$14,000,000',\n",
       "       '₹102,500,000', '$100,000,000', '₹1,200,000', '₹5,200,000,000',\n",
       "       '$800,000', '$1,041,000', '$100,000', '$15,000', '1400000',\n",
       "       '1200000', '2200000', '1800000', '3600000', '₹9,500,000', '300000',\n",
       "       '6830000', '200000', '₹150,000,000', '4300000', '364846', '400000',\n",
       "       '1500000', '₹7,000,000', '₹1,400,000', '₹10,000,000',\n",
       "       '₹22,500,000', '13200000', '50000', '₹140,200,000', '3000000',\n",
       "       '1250000', '180000', '₹19,200,000', '₹103,000,000', '4200000',\n",
       "       '175000', '1450000', '₹200,000', '4500000', '600000',\n",
       "       '₹16,600,000', '₹12,000,000', '15000000', '₹33,000,000', '125000',\n",
       "       '130000', '₹34,900,000', '₹72,000,000', '17200000', '₹32,000,000',\n",
       "       '3500000', '₹135,000,000', '12000000', '$40,000,000', '$1,100,000',\n",
       "       '$50,000,000', '₹1,540,000,000', '$3,000,000', '$6,000,000',\n",
       "       '₹140,000,000', '$41,900,000', '₹1,410,000,000', '$3,530,000',\n",
       "       '$200,000', '$3,300,000', '₹580,000,000', '₹36,000,000',\n",
       "       '₹340,000,000', '$210,000,000', '$37,680,000', '$250,000',\n",
       "       '$20,000', '₹510,000,000', '₹2,200,000,000', '22000000', '70000',\n",
       "       '10000000', '₹15,392,000,000', '₹20,000,000,000', '₹4,000,000,000',\n",
       "       '185000000', '65000000', '₹165,000,000', '700000', '30000000',\n",
       "       '₹210,000,000', '210000000', '₹2,029,600,000', '75000000',\n",
       "       '₹80,000,000', '1760000', '2700000', '₹280,000,000',\n",
       "       '₹800,000,000', '750000', '2500000', '80000000', '25000000',\n",
       "       '₹730,000,000', '₹400,000,000', '3700000', '5600000',\n",
       "       '₹260,000,000', '99230000', '70000000', '40000', '550000',\n",
       "       '50000000', '365000000', '₹8,750,000', '₹78,000,000', '28000000',\n",
       "       '₹264,000,000', '100000000', '₹1,130,000,000', '₹810,000,000',\n",
       "       '₹1,400,000,000', '14900000', '225000000', '7500', '35000000',\n",
       "       '$6,300,000', '$150,000,000', '$28,000,000', '$20,000,000',\n",
       "       '$275,000,000', '$22,000,000', '$140,500', '$15,000,000',\n",
       "       '$182,700', '$12,000,000', '$15,500,000', '$5,500,000',\n",
       "       '$2,500,000', '$140,000', '$230,000,000', '$49,400,000',\n",
       "       '$32,000,000', '$26,000,000', '$400,000', '$8,000,000',\n",
       "       '$120,000,000', '$4,000,000', '$6,800,000', '$36,000,000',\n",
       "       '$5,700,000', '$25,000,000', '$600,000', '$70,000,000',\n",
       "       '$60,000,000', '$220,000', '$2,800,000', '$2,100,000',\n",
       "       '$311,000,000', '$4,800,000', '$693,000,000', '$33,000,000',\n",
       "       200000.0, 100000.0, nan, 400000.0, 340000.0, 600000.0, 45000000.0,\n",
       "       1000000.0, 2000000.0, 1200000.0, 660000000.0, 120000.0, 7500000.0,\n",
       "       5000000.0, 500000.0, 3000000.0, 10000000.0, 145000000.0,\n",
       "       100000000.0, 21000000.0, 4000000.0, 20000000.0, 560000.0, 275000.0,\n",
       "       4500000.0, 15000000.0, 390000000.0, 7000000.0, 5100000.0,\n",
       "       700000000.0, 2300000.0, 700000.0, 19000000.0, 9000000.0,\n",
       "       40000000.0, 750000.0, 1500000.0, 7800000.0, 50000000.0, 80000000.0,\n",
       "       30000000.0, 1700000.0, 2500000.0, 40000.0, 33000000.0, 35000000.0,\n",
       "       300000.0, 25000000.0, 3500000.0, 200000000.0, 6000000.0, 1300000.0,\n",
       "       4100000.0, 575000.0, 800000.0, 28000000.0, 18000000.0, 3200000.0,\n",
       "       900000.0, 250000.0, 4700000.0, 75000000.0, 8000000.0, 121000000.0,\n",
       "       55000000.0, 3300000.0, 11000000.0, 16000000.0, 5400000.0,\n",
       "       150000000.0, 4200000.0, 22000000.0, 52000000.0, 1100000.0,\n",
       "       118000000.0, 1600000.0, 18500000.0, 70000000000.0, 800000000.0,\n",
       "       400000000.0, 150000.0, 176000000.0, 60000000.0, 470000.0, 240000.0,\n",
       "       3000000000.0, 74000000.0, 62000000.0, 2100000.0, 500000000.0,\n",
       "       12500000.0, 2200000000.0, 5060000.0, 225000000.0, 24700000.0,\n",
       "       7700000.0, 19067328.0, 51000000.0, 115000.0, 54000.0, 20000.0,\n",
       "       803146.0, 238000.0, 10220000.0, 1020000.0, 12000000.0, 13400000.0,\n",
       "       170000000.0, 2900000.0, 543000.0, 90000000.0, 3400000.0,\n",
       "       23000000.0, 8090000.0, 1030000.0, 5040000.0, 360000.0, 1400000.0,\n",
       "       650000.0, 54000000.0, 42500000.0, 11370000.0, 325000.0, 410000.0,\n",
       "       450000.0, 682000.0, 4050000.0, 1050000.0, 1080000.0, 4300000.0,\n",
       "       6800000.0, 2110000.0, 764000.0, 603000.0, 409000.0, 292000.0,\n",
       "       286000.0, 136000.0, 546000.0, 887000.0, 43000.0, 40900.0,\n",
       "       2200000.0, 5660000.0, 350000.0, 110000.0, 122000000.0, 11635000.0,\n",
       "       2800000.0, 1065000.0, 669000.0, 16076000.0, 649600.0, 6700000.0,\n",
       "       220000.0, 266500.0, 2879000.0, 26500000.0, 351000.0, 46761000.0,\n",
       "       175000.0, 11241000.0, 804000.0, 1340000.0, 467000.0, 133000.0,\n",
       "       3823000.0, 934000.0, 293000.0, 198000.0, 927000.0, 971000.0,\n",
       "       3060000.0, 1862000.0, 232000.0, 2888000.0, 1328000.0, 15500000.0,\n",
       "       56000000.0, 2250000.0, 16753000.0, 3700000.0, 1470000.0, 530000.0,\n",
       "       267000.0, 3344000.0, 7200000.0, 2743000.0, 6082000.0, 6609000.0,\n",
       "       27700000.0, 5940000.0, 3964000.0, 5500000.0, 197000.0, 4327000.0,\n",
       "       459000.0, 3937000.0, 1313500.0, 229800.0, 5305000.0, 264000.0,\n",
       "       1750000.0, 5967000.0, 2980000.0, 323000.0, 1326000.0, 27000000.0,\n",
       "       5200000.0, 2530000.0, 792000.0, 11363000.0, 1715000.0, 329000.0,\n",
       "       5271000.0, 8700000.0, 3226000.0, 5900000.0, 44000000.0, 3879000.0,\n",
       "       13000000.0, 8800000.0, 9500000.0, 920000.0, 35600000.0, 9400000.0,\n",
       "       790000.0, 480000.0, 160000.0, 8200000.0, 4257000.0, 1410000.0,\n",
       "       349800.0, 786000.0, 2004000.0, 123000000.0, 248000.0, 24000000.0,\n",
       "       14259000.0, 24500000.0, 3800000.0, 18370000.0, 68525000.0,\n",
       "       4800000.0, 1834000.0, 23850000.0, 43000000.0, 21600000.0,\n",
       "       4598000.0, 13137000.0, 115000000.0, 3900000.0, 670000.0, 8500000.0,\n",
       "       3148000.0, 2600000.0, 4049500.0, 10500000.0, 6500000.0, 43700000.0,\n",
       "       13800000.0, 306900.0, 420000.0, 627300.0, 113000000.0, 32000000.0,\n",
       "       110000000.0, 1397000.0, 448500.0, 7975700.0, 330000.0, 5600000.0,\n",
       "       1402000.0, 21500000.0, 296000000.0, 4900000.0, 1402400.0,\n",
       "       12618300.0, 9900000.0, 982530.0, 70185200.0, 210000000.0,\n",
       "       84000000.0, 39000000.0, 2700000.0, 1403400.0, 105000000.0,\n",
       "       103000000.0, 281300.0, 12700.0, 25000.0, 97500000.0, 507000.0,\n",
       "       8400000.0, 18300000.0, 125000000.0, 181000.0, 280000.0, 14700000.0,\n",
       "       13200000.0, 8043000.0, '$1,200,000', '$51,000,000', '$188,000,000',\n",
       "       '$700,000', '$9,000,000', '$49,000,000', '$300,000',\n",
       "       '$160,000,000', '$1,800,000', '$850,000', '$53,000,000',\n",
       "       '$500,000', '$21,000,000', '$7,500,000', '$7,400,000',\n",
       "       '$800,000,000', '$17,000,000', '$3,500,000', '$215,000,000',\n",
       "       '$350,000,000', '$83,000,000', '$110,000,000', '$500,000,000',\n",
       "       '$65,000,000', '$150,000,000,000', '$300,000,000', '$2,200,000',\n",
       "       '$140,000,000', '$13,000,000', None, '$2000000', '$800000',\n",
       "       '$6000000', '$2500000', '$9500000', '$13000000', '$5000000',\n",
       "       '$8000000', '$1000000', '$200000', '$12000000', '$1500000',\n",
       "       '$1700000', '$5500000', '$400000', '$150000000', '$4000000',\n",
       "       '$100000000', '$500000', '$15000000', '$10000000', '$40000000',\n",
       "       '$225000000', '$6700000', '$1300000', '$20000000', '$250000',\n",
       "       '$21000000', '$1200000', '$52000000', '$3800000', '$17500000',\n",
       "       '$42000000', '$2300000', '$7000000', '$30000000', '$450000000',\n",
       "       '$28000000', '$300000', '$3500000', '$8500000', '$25000000',\n",
       "       '$3000000', '$37000000', '$370000000', '$700000', '$16000000',\n",
       "       '$100000', '$44000000', '$770000', '$125000000', '$35000000',\n",
       "       '$50000000', '$4900000', '$145000000', '$22000000', '$70000000',\n",
       "       '$6600000', '$32000000', '$24000000', '$725000', '$461000',\n",
       "       '$96000000', '$60000000', '$500000000', '$266000000', '$4500000',\n",
       "       '$325000000', '$6500000', '$1600000', '$150000', '$225000',\n",
       "       '$85000000', '$235000', '$260000', '$2900000', '$53000000',\n",
       "       '$1100000', '$86000000', '$130000', '$$100,00', '$111000000',\n",
       "       '$265000', '$76000000', '$75,000,000', '$3,800,000', '$1,600,000',\n",
       "       '$260,000', '$18,000,000', '$350,000', '$95,000,000', '$4,100,000',\n",
       "       '$5,200,000', '$1,400,000', '$2,600,000', '$16,000,000',\n",
       "       '$280,000,000', '$14,300,000', '$81,000,000', '$1,300,000',\n",
       "       '$8,200,000', '$720,000', '$600000', '$9000000', '$1800000',\n",
       "       '$330000', '$200000000', '$36000000', '$67000000', '$10200000',\n",
       "       '$220000000', '$108000000', '$75000000', '$450000', '$660000000',\n",
       "       '$45000000', '$3200000', '$370000', '$48000000', '$3600000',\n",
       "       '$11000000', '$192000000', '$65000000', '$1400000', '$1900000',\n",
       "       '$41000000', '$144000000', '$5200000', '$270000000', '$140000',\n",
       "       '$250000000', '$320000', '$350000000', '$4800000', '$38000000',\n",
       "       '$125000', '$26000000', '$64000000', '$620000', '$900000',\n",
       "       '$2600000', '$1,250,000', '$400,000,000', '$1,700,000',\n",
       "       '$27,000,000', '$234,000,000', '$460,000,000', '$13,500,000',\n",
       "       '$5,100,000', '$195,000,000', '$125,000', '$45,000,000',\n",
       "       '$200,000,000', '$7,300,000', '$12,500,000', '$24,000,000',\n",
       "       '$16,500,000', '$340,000', '$43,000,000', '$3300000', '$92000000',\n",
       "       '$17000000', '$135000000', '$$1,55,000', '$2100000', '$840000000',\n",
       "       '$248000000', '$4300000', '$570000', '$2200000', '$4700000',\n",
       "       '$300000000', '$260000000', '$140000000', '$175000000',\n",
       "       '$19000000', '$810000', '$7500000', '$600000000', '$90000000',\n",
       "       '$5700000', '$6750000', '$78000000', '$5400000', '$115000000',\n",
       "       '$255000000', '$18000000', '$570000000', '$550000', '$2700000',\n",
       "       '$4200000', '$31000000', '$540000', '$14000000', '$340000',\n",
       "       '$6200000', '$750000', '$6300000', '$23000000', '$55000000'],\n",
       "      dtype=object)"
      ]
     },
     "execution_count": 268,
     "metadata": {},
     "output_type": "execute_result"
    }
   ],
   "source": [
    "combinedData['Amount'].unique()"
   ]
  },
  {
   "cell_type": "markdown",
   "metadata": {},
   "source": [
    "To check for the null Values in the Concataned table"
   ]
  },
  {
   "cell_type": "code",
   "execution_count": 269,
   "metadata": {},
   "outputs": [
    {
     "data": {
      "text/plain": [
       "Company_Brand      0\n",
       "HeadQuarter      114\n",
       "Sector            18\n",
       "Amount           256\n",
       "Stage            929\n",
       "Year               0\n",
       "dtype: int64"
      ]
     },
     "execution_count": 269,
     "metadata": {},
     "output_type": "execute_result"
    }
   ],
   "source": [
    "combinedData.isna().sum()"
   ]
  },
  {
   "cell_type": "markdown",
   "metadata": {},
   "source": [
    " handling the missing Values"
   ]
  },
  {
   "cell_type": "code",
   "execution_count": 270,
   "metadata": {},
   "outputs": [],
   "source": [
    "combinedData.fillna(value={'HeadQuarter':'Unknown','Sector':'Unknown','Amount':0,'Stage':'Unknown'},inplace=True)\n"
   ]
  },
  {
   "cell_type": "code",
   "execution_count": 271,
   "metadata": {},
   "outputs": [
    {
     "data": {
      "text/plain": [
       "Company_Brand    0\n",
       "HeadQuarter      0\n",
       "Sector           0\n",
       "Amount           0\n",
       "Stage            0\n",
       "Year             0\n",
       "dtype: int64"
      ]
     },
     "execution_count": 271,
     "metadata": {},
     "output_type": "execute_result"
    }
   ],
   "source": [
    "combinedData.isna().sum()"
   ]
  },
  {
   "cell_type": "markdown",
   "metadata": {},
   "source": [
    "To convert the Amount Column to one currency"
   ]
  },
  {
   "cell_type": "code",
   "execution_count": 272,
   "metadata": {},
   "outputs": [
    {
     "data": {
      "text/html": [
       "<div>\n",
       "<style scoped>\n",
       "    .dataframe tbody tr th:only-of-type {\n",
       "        vertical-align: middle;\n",
       "    }\n",
       "\n",
       "    .dataframe tbody tr th {\n",
       "        vertical-align: top;\n",
       "    }\n",
       "\n",
       "    .dataframe thead th {\n",
       "        text-align: right;\n",
       "    }\n",
       "</style>\n",
       "<table border=\"1\" class=\"dataframe\">\n",
       "  <thead>\n",
       "    <tr style=\"text-align: right;\">\n",
       "      <th></th>\n",
       "      <th>Company_Brand</th>\n",
       "      <th>HeadQuarter</th>\n",
       "      <th>Sector</th>\n",
       "      <th>Amount</th>\n",
       "      <th>Stage</th>\n",
       "      <th>Year</th>\n",
       "    </tr>\n",
       "  </thead>\n",
       "  <tbody>\n",
       "    <tr>\n",
       "      <th>0</th>\n",
       "      <td>TheCollegeFever</td>\n",
       "      <td>Bangalore, Karnataka, India</td>\n",
       "      <td>Brand Marketing, Event Promotion, Marketing, S...</td>\n",
       "      <td>250000</td>\n",
       "      <td>Seed</td>\n",
       "      <td>2018</td>\n",
       "    </tr>\n",
       "    <tr>\n",
       "      <th>1</th>\n",
       "      <td>Happy Cow Dairy</td>\n",
       "      <td>Mumbai, Maharashtra, India</td>\n",
       "      <td>Agriculture, Farming</td>\n",
       "      <td>₹40,000,000</td>\n",
       "      <td>Seed</td>\n",
       "      <td>2018</td>\n",
       "    </tr>\n",
       "    <tr>\n",
       "      <th>2</th>\n",
       "      <td>MyLoanCare</td>\n",
       "      <td>Gurgaon, Haryana, India</td>\n",
       "      <td>Credit, Financial Services, Lending, Marketplace</td>\n",
       "      <td>₹65,000,000</td>\n",
       "      <td>Series A</td>\n",
       "      <td>2018</td>\n",
       "    </tr>\n",
       "    <tr>\n",
       "      <th>3</th>\n",
       "      <td>PayMe India</td>\n",
       "      <td>Noida, Uttar Pradesh, India</td>\n",
       "      <td>Financial Services, FinTech</td>\n",
       "      <td>2000000</td>\n",
       "      <td>Angel</td>\n",
       "      <td>2018</td>\n",
       "    </tr>\n",
       "    <tr>\n",
       "      <th>4</th>\n",
       "      <td>Eunimart</td>\n",
       "      <td>Hyderabad, Andhra Pradesh, India</td>\n",
       "      <td>E-Commerce Platforms, Retail, SaaS</td>\n",
       "      <td>0</td>\n",
       "      <td>Seed</td>\n",
       "      <td>2018</td>\n",
       "    </tr>\n",
       "    <tr>\n",
       "      <th>...</th>\n",
       "      <td>...</td>\n",
       "      <td>...</td>\n",
       "      <td>...</td>\n",
       "      <td>...</td>\n",
       "      <td>...</td>\n",
       "      <td>...</td>\n",
       "    </tr>\n",
       "    <tr>\n",
       "      <th>95</th>\n",
       "      <td>AuthMetrik</td>\n",
       "      <td>Gurgaon, Haryana, India</td>\n",
       "      <td>B2B, Biometrics, Cyber Security, Fraud Detecti...</td>\n",
       "      <td>$10,000</td>\n",
       "      <td>Grant</td>\n",
       "      <td>2018</td>\n",
       "    </tr>\n",
       "    <tr>\n",
       "      <th>96</th>\n",
       "      <td>Khidki</td>\n",
       "      <td>Bangalore, Karnataka, India</td>\n",
       "      <td>Artificial Intelligence, Social</td>\n",
       "      <td>0</td>\n",
       "      <td>Seed</td>\n",
       "      <td>2018</td>\n",
       "    </tr>\n",
       "    <tr>\n",
       "      <th>97</th>\n",
       "      <td>LetsTransport</td>\n",
       "      <td>Bangalore, Karnataka, India</td>\n",
       "      <td>Logistics, Transportation, Travel</td>\n",
       "      <td>₹1,000,000,000</td>\n",
       "      <td>Series B</td>\n",
       "      <td>2018</td>\n",
       "    </tr>\n",
       "    <tr>\n",
       "      <th>98</th>\n",
       "      <td>Next Digital Solutions</td>\n",
       "      <td>Kota, Rajasthan, India</td>\n",
       "      <td>Digital Marketing, SEM, SEO, Web Development</td>\n",
       "      <td>₹100,000</td>\n",
       "      <td>Angel</td>\n",
       "      <td>2018</td>\n",
       "    </tr>\n",
       "    <tr>\n",
       "      <th>99</th>\n",
       "      <td>Portea Medical</td>\n",
       "      <td>Bangalore, Karnataka, India</td>\n",
       "      <td>Health Care, Hospital, Medical</td>\n",
       "      <td>₹250,000,000</td>\n",
       "      <td>Debt Financing</td>\n",
       "      <td>2018</td>\n",
       "    </tr>\n",
       "  </tbody>\n",
       "</table>\n",
       "<p>100 rows × 6 columns</p>\n",
       "</div>"
      ],
      "text/plain": [
       "             Company_Brand                       HeadQuarter  \\\n",
       "0          TheCollegeFever       Bangalore, Karnataka, India   \n",
       "1          Happy Cow Dairy        Mumbai, Maharashtra, India   \n",
       "2               MyLoanCare           Gurgaon, Haryana, India   \n",
       "3              PayMe India       Noida, Uttar Pradesh, India   \n",
       "4                 Eunimart  Hyderabad, Andhra Pradesh, India   \n",
       "..                     ...                               ...   \n",
       "95              AuthMetrik           Gurgaon, Haryana, India   \n",
       "96                  Khidki       Bangalore, Karnataka, India   \n",
       "97           LetsTransport       Bangalore, Karnataka, India   \n",
       "98  Next Digital Solutions            Kota, Rajasthan, India   \n",
       "99          Portea Medical       Bangalore, Karnataka, India   \n",
       "\n",
       "                                               Sector          Amount  \\\n",
       "0   Brand Marketing, Event Promotion, Marketing, S...          250000   \n",
       "1                                Agriculture, Farming     ₹40,000,000   \n",
       "2    Credit, Financial Services, Lending, Marketplace     ₹65,000,000   \n",
       "3                         Financial Services, FinTech         2000000   \n",
       "4                  E-Commerce Platforms, Retail, SaaS               0   \n",
       "..                                                ...             ...   \n",
       "95  B2B, Biometrics, Cyber Security, Fraud Detecti...         $10,000   \n",
       "96                    Artificial Intelligence, Social               0   \n",
       "97                  Logistics, Transportation, Travel  ₹1,000,000,000   \n",
       "98       Digital Marketing, SEM, SEO, Web Development        ₹100,000   \n",
       "99                     Health Care, Hospital, Medical    ₹250,000,000   \n",
       "\n",
       "             Stage  Year  \n",
       "0             Seed  2018  \n",
       "1             Seed  2018  \n",
       "2         Series A  2018  \n",
       "3            Angel  2018  \n",
       "4             Seed  2018  \n",
       "..             ...   ...  \n",
       "95           Grant  2018  \n",
       "96            Seed  2018  \n",
       "97        Series B  2018  \n",
       "98           Angel  2018  \n",
       "99  Debt Financing  2018  \n",
       "\n",
       "[100 rows x 6 columns]"
      ]
     },
     "execution_count": 272,
     "metadata": {},
     "output_type": "execute_result"
    }
   ],
   "source": [
    "combinedData.head(100)"
   ]
  },
  {
   "cell_type": "code",
   "execution_count": 273,
   "metadata": {},
   "outputs": [],
   "source": [
    "# A function to convert amount to $\n",
    "def convert_to_usd(amount):\n",
    "    exchange_rate = 70  # Exchange rate: 1 USD = 70 INR\n",
    "\n",
    "    # Check if the amount is numeric\n",
    "    if str(amount).replace(',', '').replace('.', '').isdigit():\n",
    "        return round(float(amount), 2)\n",
    "    elif '₹' in str(amount):  # Check if the amount is in INR\n",
    "        inr_amount = float(str(amount).replace('₹', '').replace(',', ''))  # Remove currency symbol and commas\n",
    "        round(inr_amount / exchange_rate, 2)\n",
    "    else:\n",
    "        return round(float(str(amount).replace('$', '').replace(',', '')), 2)\n",
    "\n",
    "# Apply the conversion function to the 'Amount' column\n",
    "combinedData['Amount'] = combinedData['Amount'].apply(convert_to_usd)"
   ]
  },
  {
   "cell_type": "code",
   "execution_count": 274,
   "metadata": {},
   "outputs": [
    {
     "data": {
      "text/html": [
       "<div>\n",
       "<style scoped>\n",
       "    .dataframe tbody tr th:only-of-type {\n",
       "        vertical-align: middle;\n",
       "    }\n",
       "\n",
       "    .dataframe tbody tr th {\n",
       "        vertical-align: top;\n",
       "    }\n",
       "\n",
       "    .dataframe thead th {\n",
       "        text-align: right;\n",
       "    }\n",
       "</style>\n",
       "<table border=\"1\" class=\"dataframe\">\n",
       "  <thead>\n",
       "    <tr style=\"text-align: right;\">\n",
       "      <th></th>\n",
       "      <th>Company_Brand</th>\n",
       "      <th>HeadQuarter</th>\n",
       "      <th>Sector</th>\n",
       "      <th>Amount</th>\n",
       "      <th>Stage</th>\n",
       "      <th>Year</th>\n",
       "    </tr>\n",
       "  </thead>\n",
       "  <tbody>\n",
       "    <tr>\n",
       "      <th>0</th>\n",
       "      <td>TheCollegeFever</td>\n",
       "      <td>Bangalore, Karnataka, India</td>\n",
       "      <td>Brand Marketing, Event Promotion, Marketing, S...</td>\n",
       "      <td>250000.0</td>\n",
       "      <td>Seed</td>\n",
       "      <td>2018</td>\n",
       "    </tr>\n",
       "    <tr>\n",
       "      <th>1</th>\n",
       "      <td>Happy Cow Dairy</td>\n",
       "      <td>Mumbai, Maharashtra, India</td>\n",
       "      <td>Agriculture, Farming</td>\n",
       "      <td>NaN</td>\n",
       "      <td>Seed</td>\n",
       "      <td>2018</td>\n",
       "    </tr>\n",
       "    <tr>\n",
       "      <th>2</th>\n",
       "      <td>MyLoanCare</td>\n",
       "      <td>Gurgaon, Haryana, India</td>\n",
       "      <td>Credit, Financial Services, Lending, Marketplace</td>\n",
       "      <td>NaN</td>\n",
       "      <td>Series A</td>\n",
       "      <td>2018</td>\n",
       "    </tr>\n",
       "    <tr>\n",
       "      <th>3</th>\n",
       "      <td>PayMe India</td>\n",
       "      <td>Noida, Uttar Pradesh, India</td>\n",
       "      <td>Financial Services, FinTech</td>\n",
       "      <td>2000000.0</td>\n",
       "      <td>Angel</td>\n",
       "      <td>2018</td>\n",
       "    </tr>\n",
       "    <tr>\n",
       "      <th>4</th>\n",
       "      <td>Eunimart</td>\n",
       "      <td>Hyderabad, Andhra Pradesh, India</td>\n",
       "      <td>E-Commerce Platforms, Retail, SaaS</td>\n",
       "      <td>0.0</td>\n",
       "      <td>Seed</td>\n",
       "      <td>2018</td>\n",
       "    </tr>\n",
       "  </tbody>\n",
       "</table>\n",
       "</div>"
      ],
      "text/plain": [
       "     Company_Brand                       HeadQuarter  \\\n",
       "0  TheCollegeFever       Bangalore, Karnataka, India   \n",
       "1  Happy Cow Dairy        Mumbai, Maharashtra, India   \n",
       "2       MyLoanCare           Gurgaon, Haryana, India   \n",
       "3      PayMe India       Noida, Uttar Pradesh, India   \n",
       "4         Eunimart  Hyderabad, Andhra Pradesh, India   \n",
       "\n",
       "                                              Sector     Amount     Stage  \\\n",
       "0  Brand Marketing, Event Promotion, Marketing, S...   250000.0      Seed   \n",
       "1                               Agriculture, Farming        NaN      Seed   \n",
       "2   Credit, Financial Services, Lending, Marketplace        NaN  Series A   \n",
       "3                        Financial Services, FinTech  2000000.0     Angel   \n",
       "4                 E-Commerce Platforms, Retail, SaaS        0.0      Seed   \n",
       "\n",
       "   Year  \n",
       "0  2018  \n",
       "1  2018  \n",
       "2  2018  \n",
       "3  2018  \n",
       "4  2018  "
      ]
     },
     "execution_count": 274,
     "metadata": {},
     "output_type": "execute_result"
    }
   ],
   "source": [
    "combinedData.head()"
   ]
  },
  {
   "cell_type": "markdown",
   "metadata": {},
   "source": [
    "To Rename the Amount Column to show currency"
   ]
  },
  {
   "cell_type": "code",
   "execution_count": 275,
   "metadata": {},
   "outputs": [
    {
     "data": {
      "text/html": [
       "<div>\n",
       "<style scoped>\n",
       "    .dataframe tbody tr th:only-of-type {\n",
       "        vertical-align: middle;\n",
       "    }\n",
       "\n",
       "    .dataframe tbody tr th {\n",
       "        vertical-align: top;\n",
       "    }\n",
       "\n",
       "    .dataframe thead th {\n",
       "        text-align: right;\n",
       "    }\n",
       "</style>\n",
       "<table border=\"1\" class=\"dataframe\">\n",
       "  <thead>\n",
       "    <tr style=\"text-align: right;\">\n",
       "      <th></th>\n",
       "      <th>Company_Brand</th>\n",
       "      <th>HeadQuarter</th>\n",
       "      <th>Sector</th>\n",
       "      <th>Amount($)</th>\n",
       "      <th>Stage</th>\n",
       "      <th>Year</th>\n",
       "    </tr>\n",
       "  </thead>\n",
       "  <tbody>\n",
       "    <tr>\n",
       "      <th>0</th>\n",
       "      <td>TheCollegeFever</td>\n",
       "      <td>Bangalore, Karnataka, India</td>\n",
       "      <td>Brand Marketing, Event Promotion, Marketing, S...</td>\n",
       "      <td>250000.0</td>\n",
       "      <td>Seed</td>\n",
       "      <td>2018</td>\n",
       "    </tr>\n",
       "    <tr>\n",
       "      <th>1</th>\n",
       "      <td>Happy Cow Dairy</td>\n",
       "      <td>Mumbai, Maharashtra, India</td>\n",
       "      <td>Agriculture, Farming</td>\n",
       "      <td>NaN</td>\n",
       "      <td>Seed</td>\n",
       "      <td>2018</td>\n",
       "    </tr>\n",
       "    <tr>\n",
       "      <th>2</th>\n",
       "      <td>MyLoanCare</td>\n",
       "      <td>Gurgaon, Haryana, India</td>\n",
       "      <td>Credit, Financial Services, Lending, Marketplace</td>\n",
       "      <td>NaN</td>\n",
       "      <td>Series A</td>\n",
       "      <td>2018</td>\n",
       "    </tr>\n",
       "    <tr>\n",
       "      <th>3</th>\n",
       "      <td>PayMe India</td>\n",
       "      <td>Noida, Uttar Pradesh, India</td>\n",
       "      <td>Financial Services, FinTech</td>\n",
       "      <td>2000000.0</td>\n",
       "      <td>Angel</td>\n",
       "      <td>2018</td>\n",
       "    </tr>\n",
       "    <tr>\n",
       "      <th>4</th>\n",
       "      <td>Eunimart</td>\n",
       "      <td>Hyderabad, Andhra Pradesh, India</td>\n",
       "      <td>E-Commerce Platforms, Retail, SaaS</td>\n",
       "      <td>0.0</td>\n",
       "      <td>Seed</td>\n",
       "      <td>2018</td>\n",
       "    </tr>\n",
       "  </tbody>\n",
       "</table>\n",
       "</div>"
      ],
      "text/plain": [
       "     Company_Brand                       HeadQuarter  \\\n",
       "0  TheCollegeFever       Bangalore, Karnataka, India   \n",
       "1  Happy Cow Dairy        Mumbai, Maharashtra, India   \n",
       "2       MyLoanCare           Gurgaon, Haryana, India   \n",
       "3      PayMe India       Noida, Uttar Pradesh, India   \n",
       "4         Eunimart  Hyderabad, Andhra Pradesh, India   \n",
       "\n",
       "                                              Sector  Amount($)     Stage  \\\n",
       "0  Brand Marketing, Event Promotion, Marketing, S...   250000.0      Seed   \n",
       "1                               Agriculture, Farming        NaN      Seed   \n",
       "2   Credit, Financial Services, Lending, Marketplace        NaN  Series A   \n",
       "3                        Financial Services, FinTech  2000000.0     Angel   \n",
       "4                 E-Commerce Platforms, Retail, SaaS        0.0      Seed   \n",
       "\n",
       "   Year  \n",
       "0  2018  \n",
       "1  2018  \n",
       "2  2018  \n",
       "3  2018  \n",
       "4  2018  "
      ]
     },
     "execution_count": 275,
     "metadata": {},
     "output_type": "execute_result"
    }
   ],
   "source": [
    "combinedData.rename(columns={'Amount':'Amount($)'}, inplace=True)\n",
    "combinedData.head()"
   ]
  },
  {
   "cell_type": "markdown",
   "metadata": {},
   "source": [
    "handle nan values by imputing by 0"
   ]
  },
  {
   "cell_type": "code",
   "execution_count": 276,
   "metadata": {},
   "outputs": [
    {
     "data": {
      "text/plain": [
       "Company_Brand      0\n",
       "HeadQuarter        0\n",
       "Sector             0\n",
       "Amount($)        144\n",
       "Stage              0\n",
       "Year               0\n",
       "dtype: int64"
      ]
     },
     "execution_count": 276,
     "metadata": {},
     "output_type": "execute_result"
    }
   ],
   "source": [
    "combinedData.isna().sum()"
   ]
  },
  {
   "cell_type": "code",
   "execution_count": 277,
   "metadata": {},
   "outputs": [],
   "source": [
    "# Handle missing values\n",
    "combinedData.fillna(0, inplace=True)"
   ]
  },
  {
   "cell_type": "markdown",
   "metadata": {},
   "source": [
    "\n",
    "Exploratory Data Analysis (EDA)"
   ]
  },
  {
   "cell_type": "markdown",
   "metadata": {},
   "source": [
    "Visualize Data"
   ]
  },
  {
   "cell_type": "code",
   "execution_count": 278,
   "metadata": {},
   "outputs": [
    {
     "data": {
      "image/png": "[encoded data removed]",
      "text/plain": [
       "<Figure size 640x480 with 1 Axes>"
      ]
     },
     "metadata": {},
     "output_type": "display_data"
    }
   ],
   "source": [
    "#  the Amount invested by\n",
    "\n",
    "Amount_ivested_by_year =(combinedData['Year'].value_counts())\n",
    "\n",
    "Amount_ivested_by_year.plot(kind='bar',color='Blue')\n",
    "plt.xlabel('Year')\n",
    "plt.ylabel('Frequency')\n",
    "plt.title('Amount Invested in India by Year')\n",
    "plt.show();"
   ]
  },
  {
   "cell_type": "markdown",
   "metadata": {},
   "source": [
    "Categorize the stage"
   ]
  },
  {
   "cell_type": "code",
   "execution_count": 279,
   "metadata": {},
   "outputs": [],
   "source": [
    "# fucntion to categorize the stage\n",
    "def categorize_funding_stage(stage):\n",
    "    seed_stages = ['Seed', 'Pre-Seed', 'Seed funding', 'Seed fund', 'Seed round', 'Seed A', 'Seed Round & Series A', 'Seed Investment', 'Early seed', 'Pre seed round', 'Pre seed Round']\n",
    "    early_stages = ['Angel', 'Angel Round', 'Pre series A', 'Pre-series A', 'Pre-series A1', 'Pre Series A', 'Pre series A1', 'Pre-series A1', 'Pre- series A', 'Pre-series', 'Pre- Series B', 'Pre-series B', 'Pre series B', 'Pre-series C', 'Pre-Series B']\n",
    "    series_a_stages = ['Series A', 'Series A-1', 'Series A+', 'Seies A', 'Series A1', 'Series A2']\n",
    "    series_b_stages = ['Series B', 'Series B+', 'Series B2', 'Series B3']\n",
    "    later_stages = ['Series C', 'Series D', 'Series D1', 'Series E', 'Series E2', 'Series F', 'Series F1', 'Series F2', 'Series G', 'Series H', 'Series I']\n",
    "    other_stages = ['Series Unknown', 'Corporate Round', 'Funding Round', 'Mid series', 'Bridge', 'Bridge Round', 'Post series A', 'Post-IPO Debt', 'Post-IPO Equity', 'Secondary Market', 'Non-equity Assistance', 'Debt Financing', 'Debt', 'Fresh funding', 'Grant', 'Undisclosed']\n",
    "    unknown_stages = ['Unknown', '$1200000', '$300000', '$6000000', '$1000000']\n",
    "\n",
    "    if stage in seed_stages:\n",
    "        return 'Seed Stage'\n",
    "    elif stage in early_stages:\n",
    "        return 'Early Stage'\n",
    "    elif stage in series_a_stages:\n",
    "        return 'Series A Stage'\n",
    "    elif stage in series_b_stages:\n",
    "        return 'Series B Stage'\n",
    "    elif stage in later_stages:\n",
    "        return 'Later Stage'\n",
    "    elif stage in other_stages:\n",
    "        return 'Other Funding Round'\n",
    "    elif stage in unknown_stages:\n",
    "        return 'Unknown Stage'\n",
    "    else:\n",
    "        return 'Uncategorized'\n",
    "\n",
    "# Apply the function to the 'Stage' column\n",
    "combinedData['Stage'] = combinedData['Stage'].apply(categorize_funding_stage)\n",
    "\n"
   ]
  },
  {
   "cell_type": "code",
   "execution_count": 280,
   "metadata": {},
   "outputs": [
    {
     "data": {
      "text/plain": [
       "array(['Seed Stage', 'Series A Stage', 'Early Stage', 'Series B Stage',\n",
       "       'Uncategorized', 'Other Funding Round', 'Later Stage',\n",
       "       'Unknown Stage'], dtype=object)"
      ]
     },
     "execution_count": 280,
     "metadata": {},
     "output_type": "execute_result"
    }
   ],
   "source": [
    "combinedData['Stage'].unique()"
   ]
  },
  {
   "cell_type": "code",
   "execution_count": 281,
   "metadata": {},
   "outputs": [
    {
     "data": {
      "image/png": "[encoded data removed]",
      "text/plain": [
       "<Figure size 640x480 with 1 Axes>"
      ]
     },
     "metadata": {},
     "output_type": "display_data"
    }
   ],
   "source": [
    "# To check the different Stages\n",
    "\n",
    "Stages= combinedData['Stage'].value_counts()\n",
    "Stages.plot(kind='pie')\n",
    "plt.show();"
   ]
  },
  {
   "cell_type": "markdown",
   "metadata": {},
   "source": [
    "Categorize the sectors"
   ]
  },
  {
   "cell_type": "code",
   "execution_count": 282,
   "metadata": {},
   "outputs": [],
   "source": [
    "\n",
    "# Function to categorize sectors\n",
    "def categorize_sector(sector):\n",
    "    # Mapping of sectors to categories\n",
    "    sector_categories = {\n",
    "        'Marketing': ['Brand Marketing', 'Event Promotion', 'Marketing', 'Sponsorship', 'Ticketing'],\n",
    "        'Agriculture': ['Agriculture', 'Farming'],\n",
    "        'Technology': ['E-Commerce', 'Internet', 'Apps', 'SaaS', 'Information Technology', 'Blockchain', 'Developer Tools'],\n",
    "        'Healthcare': ['Health Care', 'Medical', 'Biotechnology', 'Pharmaceutical'],\n",
    "        'Automotive': ['Automotive', 'Electric Vehicle', 'Autonomous Vehicles'],\n",
    "        'Logistics': ['Logistics', 'Supply Chain Management', 'Transportation'],\n",
    "        'Education': ['EdTech', 'Education', 'E-Learning', 'Higher Education'],\n",
    "        'Food and Beverage': ['Food and Beverage', 'Food Delivery', 'Food Processing'],\n",
    "        'Energy': ['Renewable Energy', 'Clean Energy', 'Solar', 'Energy Storage'],\n",
    "        'Fashion': ['Fashion', 'Lifestyle'],\n",
    "        'Real Estate': ['Real Estate'],\n",
    "        'Finance': ['Finance', 'Financial Services', 'FinTech', 'Venture Capital', 'Payments', 'Wealth Management', 'Credit', 'Financial Services', 'Lending', 'Marketplace', 'Insurance', 'Payments'],\n",
    "        'Media and Entertainment': ['Media and Entertainment', 'Broadcasting', 'Music', 'Video Streaming'],\n",
    "        \n",
    "    }\n",
    "\n",
    "    # Iterate through categories and check if the sector belongs to any category\n",
    "    for category, keywords in sector_categories.items():\n",
    "        if any(keyword.lower() in sector.lower() for keyword in keywords):\n",
    "            return category\n",
    "\n",
    "    # If no category is matched, return 'Other'\n",
    "    # return 'Other Category'\n",
    "\n",
    "# Apply the function to the 'Sector' column\n",
    "combinedData['Sector'] = combinedData['Sector'].apply(categorize_sector)\n"
   ]
  },
  {
   "cell_type": "code",
   "execution_count": 283,
   "metadata": {},
   "outputs": [
    {
     "data": {
      "text/plain": [
       "array(['Marketing', 'Agriculture', 'Finance', 'Technology', None,\n",
       "       'Food and Beverage', 'Automotive', 'Logistics', 'Education',\n",
       "       'Energy', 'Healthcare', 'Media and Entertainment', 'Fashion',\n",
       "       'Real Estate'], dtype=object)"
      ]
     },
     "execution_count": 283,
     "metadata": {},
     "output_type": "execute_result"
    }
   ],
   "source": [
    "combinedData['Sector'].unique()"
   ]
  },
  {
   "cell_type": "markdown",
   "metadata": {},
   "source": [
    "Top Sectors that received the funds"
   ]
  },
  {
   "cell_type": "code",
   "execution_count": 284,
   "metadata": {},
   "outputs": [
    {
     "data": {
      "image/png": "[encoded data removed]",
      "text/plain": [
       "<Figure size 640x480 with 1 Axes>"
      ]
     },
     "metadata": {},
     "output_type": "display_data"
    }
   ],
   "source": [
    "# To check the top sectors \n",
    "\n",
    "sectors =(combinedData['Sector'].value_counts())\n",
    "\n",
    "sectors.plot(kind='bar',color='orange')\n",
    "plt.xlabel('Sector')\n",
    "plt.ylabel('Frequency')\n",
    "plt.title('Startup Sectors in India')\n",
    "plt.show();"
   ]
  },
  {
   "cell_type": "code",
   "execution_count": null,
   "metadata": {},
   "outputs": [],
   "source": []
  }
 ],
 "metadata": {
  "kernelspec": {
   "display_name": "Python 3",
   "language": "python",
   "name": "python3"
  },
  "language_info": {
   "codemirror_mode": {
    "name": "ipython",
    "version": 3
   },
   "file_extension": ".py",
   "mimetype": "text/x-python",
   "name": "python",
   "nbconvert_exporter": "python",
   "pygments_lexer": "ipython3",
   "version": "3.11.6"
  }
 },
 "nbformat": 4,
 "nbformat_minor": 2
}
