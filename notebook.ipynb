{
 "cells": [
  {
   "cell_type": "markdown",
   "metadata": {},
   "source": [
    "##  Data Driven Insight for Indian Startup Growth"
   ]
  },
  {
   "cell_type": "markdown",
   "metadata": {},
   "source": [
    "     Business Understanding\n",
    "The target is to identify the factors that contributing to the StartUp Growth in India \n",
    "        "
   ]
  },
  {
   "cell_type": "markdown",
   "metadata": {},
   "source": [
    "    Hypotheses\n",
    "  Null Hypothesis (H0):The sector in which a startup operates may not be the determining factor for its success in India.\n",
    "\n",
    "  Alternative Hypothesis (H1):\n",
    "The sector in which a startup operates can play a significant role in contributing to its success in India\n",
    "\n",
    "\n"
   ]
  },
  {
   "cell_type": "markdown",
   "metadata": {},
   "source": [
    "    Data Understanding\n",
    "We have collected data from various startups in India spanning the years 2018 to 2021, including information on the amounts they received in funding. By analyzing this data, we aim to gain a deeper insight into the startup ecosystem and identify the key contributing factors."
   ]
  },
  {
   "cell_type": "markdown",
   "metadata": {},
   "source": [
    "    Assumptions\n",
    "    \n",
    "The amounts in the 2019 dataset are all in USD. Please note that the exchange rate for 2018 is 1 USD = 70 INR."
   ]
  },
  {
   "cell_type": "code",
   "execution_count": 2,
   "metadata": {},
   "outputs": [],
   "source": [
    "# importing the necessary libraries\n",
    "import os, sys\n",
    "from sqlalchemy import create_engine\n",
    "import pyodbc # Database Connectivity with  Open Database Connectivity (pyodbc)\n",
    "\n",
    "from dotenv import dotenv_values # dotenv library to load environment variables\n",
    "# Lib for data manipulation  analysis and Viz\n",
    "import pandas as pd\n",
    "import numpy as np\n",
    "import warnings\n",
    "import matplotlib.pyplot as plt\n",
    "import seaborn as sns\n",
    "from matplotlib.ticker import FuncFormatter\n",
    "\n",
    "warnings.filterwarnings('ignore')"
   ]
  },
  {
   "cell_type": "markdown",
   "metadata": {},
   "source": [
    "    Load env Variable and assign Login Credentials "
   ]
  },
  {
   "cell_type": "code",
   "execution_count": 3,
   "metadata": {},
   "outputs": [],
   "source": [
    "# Load environment variables from .env file \n",
    "\n",
    "environment_variables=dotenv_values('.env')\n",
    "# Get the values for the  login credentials from  the '.env' file\n",
    "server = environment_variables.get(\"SERVER\")\n",
    "database = environment_variables.get(\"DATABASE\")\n",
    "username = environment_variables.get(\"UID\")\n",
    "password = environment_variables.get(\"PWD\")"
   ]
  },
  {
   "cell_type": "markdown",
   "metadata": {},
   "source": [
    "    Test Credectiom Connection"
   ]
  },
  {
   "cell_type": "code",
   "execution_count": 4,
   "metadata": {},
   "outputs": [],
   "source": [
    "\n",
    "connection = f\"DRIVER={{SQL Server}};SERVER={server};DATABASE={database};UID={username};PWD={password}\"\n"
   ]
  },
  {
   "cell_type": "markdown",
   "metadata": {},
   "source": [
    "    connect to the server"
   ]
  },
  {
   "cell_type": "code",
   "execution_count": 5,
   "metadata": {},
   "outputs": [],
   "source": [
    "# This will connect to the server with help of pyodbc.\n",
    "\n",
    "con = pyodbc.connect(connection)"
   ]
  },
  {
   "cell_type": "markdown",
   "metadata": {},
   "source": [
    "      Data Loading with login credections"
   ]
  },
  {
   "cell_type": "code",
   "execution_count": 6,
   "metadata": {},
   "outputs": [],
   "source": [
    "# Load the dataset SQL query\n",
    "query1 = \"Select * from dbo.LP1_startup_funding2020\"\n",
    "query2 = \"Select * from dbo.LP1_startup_funding2021\""
   ]
  },
  {
   "cell_type": "code",
   "execution_count": 7,
   "metadata": {},
   "outputs": [],
   "source": [
    "# Read data from the  on dataset \n",
    "data_2018 = pd.read_csv('dataset\\startup_funding2018.csv')\n",
    "data_2019 = pd.read_csv('dataset\\startup_funding2019.csv')\n",
    "data_2020 = pd.read_sql(query1, con)\n",
    "data_2021 = pd.read_sql(query2, con)\n"
   ]
  },
  {
   "cell_type": "markdown",
   "metadata": {},
   "source": [
    "    Data Overview "
   ]
  },
  {
   "cell_type": "code",
   "execution_count": 8,
   "metadata": {},
   "outputs": [
    {
     "data": {
      "text/html": [
       "<div>\n",
       "<style scoped>\n",
       "    .dataframe tbody tr th:only-of-type {\n",
       "        vertical-align: middle;\n",
       "    }\n",
       "\n",
       "    .dataframe tbody tr th {\n",
       "        vertical-align: top;\n",
       "    }\n",
       "\n",
       "    .dataframe thead th {\n",
       "        text-align: right;\n",
       "    }\n",
       "</style>\n",
       "<table border=\"1\" class=\"dataframe\">\n",
       "  <thead>\n",
       "    <tr style=\"text-align: right;\">\n",
       "      <th></th>\n",
       "      <th>Company Name</th>\n",
       "      <th>Industry</th>\n",
       "      <th>Round/Series</th>\n",
       "      <th>Amount</th>\n",
       "      <th>Location</th>\n",
       "      <th>About Company</th>\n",
       "    </tr>\n",
       "  </thead>\n",
       "  <tbody>\n",
       "    <tr>\n",
       "      <th>0</th>\n",
       "      <td>TheCollegeFever</td>\n",
       "      <td>Brand Marketing, Event Promotion, Marketing, S...</td>\n",
       "      <td>Seed</td>\n",
       "      <td>250000</td>\n",
       "      <td>Bangalore, Karnataka, India</td>\n",
       "      <td>TheCollegeFever is a hub for fun, fiesta and f...</td>\n",
       "    </tr>\n",
       "    <tr>\n",
       "      <th>1</th>\n",
       "      <td>Happy Cow Dairy</td>\n",
       "      <td>Agriculture, Farming</td>\n",
       "      <td>Seed</td>\n",
       "      <td>₹40,000,000</td>\n",
       "      <td>Mumbai, Maharashtra, India</td>\n",
       "      <td>A startup which aggregates milk from dairy far...</td>\n",
       "    </tr>\n",
       "    <tr>\n",
       "      <th>2</th>\n",
       "      <td>MyLoanCare</td>\n",
       "      <td>Credit, Financial Services, Lending, Marketplace</td>\n",
       "      <td>Series A</td>\n",
       "      <td>₹65,000,000</td>\n",
       "      <td>Gurgaon, Haryana, India</td>\n",
       "      <td>Leading Online Loans Marketplace in India</td>\n",
       "    </tr>\n",
       "  </tbody>\n",
       "</table>\n",
       "</div>"
      ],
      "text/plain": [
       "      Company Name                                           Industry  \\\n",
       "0  TheCollegeFever  Brand Marketing, Event Promotion, Marketing, S...   \n",
       "1  Happy Cow Dairy                               Agriculture, Farming   \n",
       "2       MyLoanCare   Credit, Financial Services, Lending, Marketplace   \n",
       "\n",
       "  Round/Series       Amount                     Location  \\\n",
       "0         Seed       250000  Bangalore, Karnataka, India   \n",
       "1         Seed  ₹40,000,000   Mumbai, Maharashtra, India   \n",
       "2     Series A  ₹65,000,000      Gurgaon, Haryana, India   \n",
       "\n",
       "                                       About Company  \n",
       "0  TheCollegeFever is a hub for fun, fiesta and f...  \n",
       "1  A startup which aggregates milk from dairy far...  \n",
       "2          Leading Online Loans Marketplace in India  "
      ]
     },
     "execution_count": 8,
     "metadata": {},
     "output_type": "execute_result"
    }
   ],
   "source": [
    "# 2018 dataset overview\n",
    "data_2018.head(3)"
   ]
  },
  {
   "cell_type": "code",
   "execution_count": 9,
   "metadata": {},
   "outputs": [
    {
     "data": {
      "text/html": [
       "<div>\n",
       "<style scoped>\n",
       "    .dataframe tbody tr th:only-of-type {\n",
       "        vertical-align: middle;\n",
       "    }\n",
       "\n",
       "    .dataframe tbody tr th {\n",
       "        vertical-align: top;\n",
       "    }\n",
       "\n",
       "    .dataframe thead th {\n",
       "        text-align: right;\n",
       "    }\n",
       "</style>\n",
       "<table border=\"1\" class=\"dataframe\">\n",
       "  <thead>\n",
       "    <tr style=\"text-align: right;\">\n",
       "      <th></th>\n",
       "      <th>Company/Brand</th>\n",
       "      <th>Founded</th>\n",
       "      <th>HeadQuarter</th>\n",
       "      <th>Sector</th>\n",
       "      <th>What it does</th>\n",
       "      <th>Founders</th>\n",
       "      <th>Investor</th>\n",
       "      <th>Amount($)</th>\n",
       "      <th>Stage</th>\n",
       "    </tr>\n",
       "  </thead>\n",
       "  <tbody>\n",
       "    <tr>\n",
       "      <th>86</th>\n",
       "      <td>GoMechanic</td>\n",
       "      <td>2016.0</td>\n",
       "      <td>Delhi</td>\n",
       "      <td>Automobile &amp; Technology</td>\n",
       "      <td>Find automobile repair and maintenance service...</td>\n",
       "      <td>Amit Bhasin, Kushal Karwa, Nitin Rana, Rishabh...</td>\n",
       "      <td>Sequoia Capital</td>\n",
       "      <td>$5,000,000</td>\n",
       "      <td>Series B</td>\n",
       "    </tr>\n",
       "    <tr>\n",
       "      <th>87</th>\n",
       "      <td>Spinny</td>\n",
       "      <td>2015.0</td>\n",
       "      <td>Delhi</td>\n",
       "      <td>Automobile</td>\n",
       "      <td>Online car retailer</td>\n",
       "      <td>Niraj Singh, Ramanshu Mahaur, Ganesh Pawar, Mo...</td>\n",
       "      <td>Norwest Venture Partners, General Catalyst, Fu...</td>\n",
       "      <td>$50,000,000</td>\n",
       "      <td>NaN</td>\n",
       "    </tr>\n",
       "    <tr>\n",
       "      <th>88</th>\n",
       "      <td>Ess Kay Fincorp</td>\n",
       "      <td>NaN</td>\n",
       "      <td>Rajasthan</td>\n",
       "      <td>Banking</td>\n",
       "      <td>Organised Non-Banking Finance Company</td>\n",
       "      <td>Rajendra Setia</td>\n",
       "      <td>TPG, Norwest Venture Partners, Evolvence India</td>\n",
       "      <td>$33,000,000</td>\n",
       "      <td>NaN</td>\n",
       "    </tr>\n",
       "  </tbody>\n",
       "</table>\n",
       "</div>"
      ],
      "text/plain": [
       "      Company/Brand  Founded HeadQuarter                   Sector  \\\n",
       "86       GoMechanic   2016.0       Delhi  Automobile & Technology   \n",
       "87           Spinny   2015.0       Delhi               Automobile   \n",
       "88  Ess Kay Fincorp      NaN   Rajasthan                  Banking   \n",
       "\n",
       "                                         What it does  \\\n",
       "86  Find automobile repair and maintenance service...   \n",
       "87                                Online car retailer   \n",
       "88              Organised Non-Banking Finance Company   \n",
       "\n",
       "                                             Founders  \\\n",
       "86  Amit Bhasin, Kushal Karwa, Nitin Rana, Rishabh...   \n",
       "87  Niraj Singh, Ramanshu Mahaur, Ganesh Pawar, Mo...   \n",
       "88                                     Rajendra Setia   \n",
       "\n",
       "                                             Investor    Amount($)     Stage  \n",
       "86                                    Sequoia Capital   $5,000,000  Series B  \n",
       "87  Norwest Venture Partners, General Catalyst, Fu...  $50,000,000       NaN  \n",
       "88     TPG, Norwest Venture Partners, Evolvence India  $33,000,000       NaN  "
      ]
     },
     "execution_count": 9,
     "metadata": {},
     "output_type": "execute_result"
    }
   ],
   "source": [
    "# 2019 dataset overview\n",
    "data_2019.tail(3)"
   ]
  },
  {
   "cell_type": "code",
   "execution_count": 10,
   "metadata": {},
   "outputs": [
    {
     "data": {
      "text/html": [
       "<div>\n",
       "<style scoped>\n",
       "    .dataframe tbody tr th:only-of-type {\n",
       "        vertical-align: middle;\n",
       "    }\n",
       "\n",
       "    .dataframe tbody tr th {\n",
       "        vertical-align: top;\n",
       "    }\n",
       "\n",
       "    .dataframe thead th {\n",
       "        text-align: right;\n",
       "    }\n",
       "</style>\n",
       "<table border=\"1\" class=\"dataframe\">\n",
       "  <thead>\n",
       "    <tr style=\"text-align: right;\">\n",
       "      <th></th>\n",
       "      <th>Company_Brand</th>\n",
       "      <th>Founded</th>\n",
       "      <th>HeadQuarter</th>\n",
       "      <th>Sector</th>\n",
       "      <th>What_it_does</th>\n",
       "      <th>Founders</th>\n",
       "      <th>Investor</th>\n",
       "      <th>Amount</th>\n",
       "      <th>Stage</th>\n",
       "      <th>column10</th>\n",
       "    </tr>\n",
       "  </thead>\n",
       "  <tbody>\n",
       "    <tr>\n",
       "      <th>0</th>\n",
       "      <td>Aqgromalin</td>\n",
       "      <td>2019.0</td>\n",
       "      <td>Chennai</td>\n",
       "      <td>AgriTech</td>\n",
       "      <td>Cultivating Ideas for Profit</td>\n",
       "      <td>Prasanna Manogaran, Bharani C L</td>\n",
       "      <td>Angel investors</td>\n",
       "      <td>200000.0</td>\n",
       "      <td>None</td>\n",
       "      <td>None</td>\n",
       "    </tr>\n",
       "    <tr>\n",
       "      <th>1</th>\n",
       "      <td>Krayonnz</td>\n",
       "      <td>2019.0</td>\n",
       "      <td>Bangalore</td>\n",
       "      <td>EdTech</td>\n",
       "      <td>An academy-guardian-scholar centric ecosystem ...</td>\n",
       "      <td>Saurabh Dixit, Gurudutt Upadhyay</td>\n",
       "      <td>GSF Accelerator</td>\n",
       "      <td>100000.0</td>\n",
       "      <td>Pre-seed</td>\n",
       "      <td>None</td>\n",
       "    </tr>\n",
       "    <tr>\n",
       "      <th>2</th>\n",
       "      <td>PadCare Labs</td>\n",
       "      <td>2018.0</td>\n",
       "      <td>Pune</td>\n",
       "      <td>Hygiene management</td>\n",
       "      <td>Converting bio-hazardous waste to harmless waste</td>\n",
       "      <td>Ajinkya Dhariya</td>\n",
       "      <td>Venture Center</td>\n",
       "      <td>NaN</td>\n",
       "      <td>Pre-seed</td>\n",
       "      <td>None</td>\n",
       "    </tr>\n",
       "    <tr>\n",
       "      <th>3</th>\n",
       "      <td>NCOME</td>\n",
       "      <td>2020.0</td>\n",
       "      <td>New Delhi</td>\n",
       "      <td>Escrow</td>\n",
       "      <td>Escrow-as-a-service platform</td>\n",
       "      <td>Ritesh Tiwari</td>\n",
       "      <td>Venture Catalysts, PointOne Capital</td>\n",
       "      <td>400000.0</td>\n",
       "      <td>None</td>\n",
       "      <td>None</td>\n",
       "    </tr>\n",
       "    <tr>\n",
       "      <th>4</th>\n",
       "      <td>Gramophone</td>\n",
       "      <td>2016.0</td>\n",
       "      <td>Indore</td>\n",
       "      <td>AgriTech</td>\n",
       "      <td>Gramophone is an AgTech platform enabling acce...</td>\n",
       "      <td>Ashish Rajan Singh, Harshit Gupta, Nishant Mah...</td>\n",
       "      <td>Siana Capital Management, Info Edge</td>\n",
       "      <td>340000.0</td>\n",
       "      <td>None</td>\n",
       "      <td>None</td>\n",
       "    </tr>\n",
       "  </tbody>\n",
       "</table>\n",
       "</div>"
      ],
      "text/plain": [
       "  Company_Brand  Founded HeadQuarter              Sector  \\\n",
       "0    Aqgromalin   2019.0     Chennai            AgriTech   \n",
       "1      Krayonnz   2019.0   Bangalore              EdTech   \n",
       "2  PadCare Labs   2018.0        Pune  Hygiene management   \n",
       "3         NCOME   2020.0   New Delhi              Escrow   \n",
       "4    Gramophone   2016.0      Indore            AgriTech   \n",
       "\n",
       "                                        What_it_does  \\\n",
       "0                       Cultivating Ideas for Profit   \n",
       "1  An academy-guardian-scholar centric ecosystem ...   \n",
       "2   Converting bio-hazardous waste to harmless waste   \n",
       "3                       Escrow-as-a-service platform   \n",
       "4  Gramophone is an AgTech platform enabling acce...   \n",
       "\n",
       "                                            Founders  \\\n",
       "0                    Prasanna Manogaran, Bharani C L   \n",
       "1                   Saurabh Dixit, Gurudutt Upadhyay   \n",
       "2                                    Ajinkya Dhariya   \n",
       "3                                      Ritesh Tiwari   \n",
       "4  Ashish Rajan Singh, Harshit Gupta, Nishant Mah...   \n",
       "\n",
       "                              Investor    Amount     Stage column10  \n",
       "0                      Angel investors  200000.0      None     None  \n",
       "1                      GSF Accelerator  100000.0  Pre-seed     None  \n",
       "2                       Venture Center       NaN  Pre-seed     None  \n",
       "3  Venture Catalysts, PointOne Capital  400000.0      None     None  \n",
       "4  Siana Capital Management, Info Edge  340000.0      None     None  "
      ]
     },
     "execution_count": 10,
     "metadata": {},
     "output_type": "execute_result"
    }
   ],
   "source": [
    "# 2020 dataset overview\n",
    "data_2020.head()"
   ]
  },
  {
   "cell_type": "code",
   "execution_count": 11,
   "metadata": {},
   "outputs": [
    {
     "data": {
      "text/html": [
       "<div>\n",
       "<style scoped>\n",
       "    .dataframe tbody tr th:only-of-type {\n",
       "        vertical-align: middle;\n",
       "    }\n",
       "\n",
       "    .dataframe tbody tr th {\n",
       "        vertical-align: top;\n",
       "    }\n",
       "\n",
       "    .dataframe thead th {\n",
       "        text-align: right;\n",
       "    }\n",
       "</style>\n",
       "<table border=\"1\" class=\"dataframe\">\n",
       "  <thead>\n",
       "    <tr style=\"text-align: right;\">\n",
       "      <th></th>\n",
       "      <th>Company_Brand</th>\n",
       "      <th>Founded</th>\n",
       "      <th>HeadQuarter</th>\n",
       "      <th>Sector</th>\n",
       "      <th>What_it_does</th>\n",
       "      <th>Founders</th>\n",
       "      <th>Investor</th>\n",
       "      <th>Amount</th>\n",
       "      <th>Stage</th>\n",
       "    </tr>\n",
       "  </thead>\n",
       "  <tbody>\n",
       "    <tr>\n",
       "      <th>0</th>\n",
       "      <td>Unbox Robotics</td>\n",
       "      <td>2019.0</td>\n",
       "      <td>Bangalore</td>\n",
       "      <td>AI startup</td>\n",
       "      <td>Unbox Robotics builds on-demand AI-driven ware...</td>\n",
       "      <td>Pramod Ghadge, Shahid Memon</td>\n",
       "      <td>BEENEXT, Entrepreneur First</td>\n",
       "      <td>$1,200,000</td>\n",
       "      <td>Pre-series A</td>\n",
       "    </tr>\n",
       "    <tr>\n",
       "      <th>1</th>\n",
       "      <td>upGrad</td>\n",
       "      <td>2015.0</td>\n",
       "      <td>Mumbai</td>\n",
       "      <td>EdTech</td>\n",
       "      <td>UpGrad is an online higher education platform.</td>\n",
       "      <td>Mayank Kumar, Phalgun Kompalli, Ravijot Chugh,...</td>\n",
       "      <td>Unilazer Ventures, IIFL Asset Management</td>\n",
       "      <td>$120,000,000</td>\n",
       "      <td>None</td>\n",
       "    </tr>\n",
       "    <tr>\n",
       "      <th>2</th>\n",
       "      <td>Lead School</td>\n",
       "      <td>2012.0</td>\n",
       "      <td>Mumbai</td>\n",
       "      <td>EdTech</td>\n",
       "      <td>LEAD School offers technology based school tra...</td>\n",
       "      <td>Smita Deorah, Sumeet Mehta</td>\n",
       "      <td>GSV Ventures, Westbridge Capital</td>\n",
       "      <td>$30,000,000</td>\n",
       "      <td>Series D</td>\n",
       "    </tr>\n",
       "    <tr>\n",
       "      <th>3</th>\n",
       "      <td>Bizongo</td>\n",
       "      <td>2015.0</td>\n",
       "      <td>Mumbai</td>\n",
       "      <td>B2B E-commerce</td>\n",
       "      <td>Bizongo is a business-to-business online marke...</td>\n",
       "      <td>Aniket Deb, Ankit Tomar, Sachin Agrawal</td>\n",
       "      <td>CDC Group, IDG Capital</td>\n",
       "      <td>$51,000,000</td>\n",
       "      <td>Series C</td>\n",
       "    </tr>\n",
       "    <tr>\n",
       "      <th>4</th>\n",
       "      <td>FypMoney</td>\n",
       "      <td>2021.0</td>\n",
       "      <td>Gurugram</td>\n",
       "      <td>FinTech</td>\n",
       "      <td>FypMoney is Digital NEO Bank for Teenagers, em...</td>\n",
       "      <td>Kapil Banwari</td>\n",
       "      <td>Liberatha Kallat, Mukesh Yadav, Dinesh Nagpal</td>\n",
       "      <td>$2,000,000</td>\n",
       "      <td>Seed</td>\n",
       "    </tr>\n",
       "  </tbody>\n",
       "</table>\n",
       "</div>"
      ],
      "text/plain": [
       "    Company_Brand  Founded HeadQuarter          Sector  \\\n",
       "0  Unbox Robotics   2019.0   Bangalore      AI startup   \n",
       "1          upGrad   2015.0      Mumbai          EdTech   \n",
       "2     Lead School   2012.0      Mumbai          EdTech   \n",
       "3         Bizongo   2015.0      Mumbai  B2B E-commerce   \n",
       "4        FypMoney   2021.0    Gurugram         FinTech   \n",
       "\n",
       "                                        What_it_does  \\\n",
       "0  Unbox Robotics builds on-demand AI-driven ware...   \n",
       "1     UpGrad is an online higher education platform.   \n",
       "2  LEAD School offers technology based school tra...   \n",
       "3  Bizongo is a business-to-business online marke...   \n",
       "4  FypMoney is Digital NEO Bank for Teenagers, em...   \n",
       "\n",
       "                                            Founders  \\\n",
       "0                        Pramod Ghadge, Shahid Memon   \n",
       "1  Mayank Kumar, Phalgun Kompalli, Ravijot Chugh,...   \n",
       "2                         Smita Deorah, Sumeet Mehta   \n",
       "3            Aniket Deb, Ankit Tomar, Sachin Agrawal   \n",
       "4                                      Kapil Banwari   \n",
       "\n",
       "                                        Investor        Amount         Stage  \n",
       "0                    BEENEXT, Entrepreneur First    $1,200,000  Pre-series A  \n",
       "1       Unilazer Ventures, IIFL Asset Management  $120,000,000          None  \n",
       "2               GSV Ventures, Westbridge Capital   $30,000,000      Series D  \n",
       "3                         CDC Group, IDG Capital   $51,000,000      Series C  \n",
       "4  Liberatha Kallat, Mukesh Yadav, Dinesh Nagpal    $2,000,000          Seed  "
      ]
     },
     "execution_count": 11,
     "metadata": {},
     "output_type": "execute_result"
    }
   ],
   "source": [
    "# 2021 dataset overview\n",
    "data_2021.head()"
   ]
  },
  {
   "cell_type": "markdown",
   "metadata": {},
   "source": [
    "        Data Cleaning for all datasets"
   ]
  },
  {
   "cell_type": "markdown",
   "metadata": {},
   "source": [
    "Check Duplications each dataset"
   ]
  },
  {
   "cell_type": "code",
   "execution_count": 12,
   "metadata": {},
   "outputs": [
    {
     "data": {
      "text/plain": [
       "1"
      ]
     },
     "execution_count": 12,
     "metadata": {},
     "output_type": "execute_result"
    }
   ],
   "source": [
    "# Check Dulpications for 2018 data\n",
    "data_2018.duplicated().sum()"
   ]
  },
  {
   "cell_type": "code",
   "execution_count": 13,
   "metadata": {},
   "outputs": [
    {
     "data": {
      "text/plain": [
       "0"
      ]
     },
     "execution_count": 13,
     "metadata": {},
     "output_type": "execute_result"
    }
   ],
   "source": [
    "data_2019.duplicated().sum()"
   ]
  },
  {
   "cell_type": "code",
   "execution_count": 14,
   "metadata": {},
   "outputs": [
    {
     "data": {
      "text/plain": [
       "3"
      ]
     },
     "execution_count": 14,
     "metadata": {},
     "output_type": "execute_result"
    }
   ],
   "source": [
    "data_2020.duplicated().sum()"
   ]
  },
  {
   "cell_type": "code",
   "execution_count": 15,
   "metadata": {},
   "outputs": [
    {
     "data": {
      "text/plain": [
       "19"
      ]
     },
     "execution_count": 15,
     "metadata": {},
     "output_type": "execute_result"
    }
   ],
   "source": [
    "data_2021.duplicated().sum()"
   ]
  },
  {
   "cell_type": "markdown",
   "metadata": {},
   "source": [
    "View the Duplications"
   ]
  },
  {
   "cell_type": "markdown",
   "metadata": {},
   "source": [
    " Dropping data duplicate"
   ]
  },
  {
   "cell_type": "code",
   "execution_count": 16,
   "metadata": {},
   "outputs": [],
   "source": [
    "# Drop 2018 data duplicates\n",
    "data_2018 = data_2018.drop_duplicates()"
   ]
  },
  {
   "cell_type": "code",
   "execution_count": 17,
   "metadata": {},
   "outputs": [],
   "source": [
    "# Drop 2019 data duplicates\n",
    "# data_2019 = data_2019.drop_duplicates()"
   ]
  },
  {
   "cell_type": "code",
   "execution_count": 18,
   "metadata": {},
   "outputs": [],
   "source": [
    "# Drop 2020 data duplicates\n",
    "data_2020 = data_2020.drop_duplicates()"
   ]
  },
  {
   "cell_type": "code",
   "execution_count": 19,
   "metadata": {},
   "outputs": [],
   "source": [
    "# Drop 2021 data duplicate\n",
    "data_2021 = data_2021.drop_duplicates()"
   ]
  },
  {
   "cell_type": "markdown",
   "metadata": {},
   "source": [
    "Check Dulpication after cleaning\n"
   ]
  },
  {
   "cell_type": "code",
   "execution_count": 20,
   "metadata": {},
   "outputs": [
    {
     "data": {
      "text/plain": [
       "0"
      ]
     },
     "execution_count": 20,
     "metadata": {},
     "output_type": "execute_result"
    }
   ],
   "source": [
    "# Check Dulpications for 2018 data\n",
    "data_2018.duplicated().sum()"
   ]
  },
  {
   "cell_type": "code",
   "execution_count": 21,
   "metadata": {},
   "outputs": [
    {
     "data": {
      "text/plain": [
       "0"
      ]
     },
     "execution_count": 21,
     "metadata": {},
     "output_type": "execute_result"
    }
   ],
   "source": [
    "# Check Dulpications for 2019 data\n",
    "data_2019.duplicated().sum()"
   ]
  },
  {
   "cell_type": "code",
   "execution_count": 22,
   "metadata": {},
   "outputs": [
    {
     "data": {
      "text/plain": [
       "0"
      ]
     },
     "execution_count": 22,
     "metadata": {},
     "output_type": "execute_result"
    }
   ],
   "source": [
    "# Check Dulpications for 2020 data\n",
    "data_2020.duplicated().sum()"
   ]
  },
  {
   "cell_type": "code",
   "execution_count": 23,
   "metadata": {},
   "outputs": [
    {
     "data": {
      "text/plain": [
       "0"
      ]
     },
     "execution_count": 23,
     "metadata": {},
     "output_type": "execute_result"
    }
   ],
   "source": [
    "# Check Dulpications for 2021 data\n",
    "data_2021.duplicated().sum()"
   ]
  },
  {
   "cell_type": "markdown",
   "metadata": {},
   "source": [
    "Checking Missing Values"
   ]
  },
  {
   "cell_type": "code",
   "execution_count": 24,
   "metadata": {},
   "outputs": [
    {
     "data": {
      "text/plain": [
       "Company Name     0\n",
       "Industry         0\n",
       "Round/Series     0\n",
       "Amount           0\n",
       "Location         0\n",
       "About Company    0\n",
       "dtype: int64"
      ]
     },
     "execution_count": 24,
     "metadata": {},
     "output_type": "execute_result"
    }
   ],
   "source": [
    "#check for missing data for 2018\n",
    "missing_values_2018 = data_2018.isnull().sum\n",
    "missing_values_2018()\n"
   ]
  },
  {
   "cell_type": "code",
   "execution_count": 25,
   "metadata": {},
   "outputs": [
    {
     "data": {
      "text/plain": [
       "Company/Brand     0\n",
       "Founded          29\n",
       "HeadQuarter      19\n",
       "Sector            5\n",
       "What it does      0\n",
       "Founders          3\n",
       "Investor          0\n",
       "Amount($)         0\n",
       "Stage            46\n",
       "dtype: int64"
      ]
     },
     "execution_count": 25,
     "metadata": {},
     "output_type": "execute_result"
    }
   ],
   "source": [
    "#check for missing data for 2019\n",
    "missing_values_2019 = data_2019.isnull().sum\n",
    "missing_values_2019()\n"
   ]
  },
  {
   "cell_type": "code",
   "execution_count": 26,
   "metadata": {},
   "outputs": [
    {
     "data": {
      "text/plain": [
       "Company_Brand       0\n",
       "Founded           213\n",
       "HeadQuarter        94\n",
       "Sector             13\n",
       "What_it_does        0\n",
       "Founders           12\n",
       "Investor           38\n",
       "Amount            253\n",
       "Stage             462\n",
       "column10         1050\n",
       "dtype: int64"
      ]
     },
     "execution_count": 26,
     "metadata": {},
     "output_type": "execute_result"
    }
   ],
   "source": [
    "#check for missing data for 2020\n",
    "missing_values_2020 = data_2020.isnull().sum\n",
    "missing_values_2020()"
   ]
  },
  {
   "cell_type": "code",
   "execution_count": 27,
   "metadata": {},
   "outputs": [
    {
     "data": {
      "text/plain": [
       "Company_Brand      0\n",
       "Founded            1\n",
       "HeadQuarter        1\n",
       "Sector             0\n",
       "What_it_does       0\n",
       "Founders           4\n",
       "Investor          61\n",
       "Amount             3\n",
       "Stage            421\n",
       "dtype: int64"
      ]
     },
     "execution_count": 27,
     "metadata": {},
     "output_type": "execute_result"
    }
   ],
   "source": [
    "#check for missing data for 2021\n",
    "missing_values_2021 = data_2021.isnull().sum\n",
    "missing_values_2021()"
   ]
  },
  {
   "cell_type": "markdown",
   "metadata": {},
   "source": [
    "Add Year column to all datasets"
   ]
  },
  {
   "cell_type": "code",
   "execution_count": 28,
   "metadata": {},
   "outputs": [],
   "source": [
    "# Adding a new \"Year\" column with the value of its value to all rows\n",
    "data_2018['Year'] = 2018\n",
    "data_2019['Year'] = 2019\n",
    "data_2020['Year'] = 2020\n",
    "data_2021['Year'] = 2021"
   ]
  },
  {
   "cell_type": "markdown",
   "metadata": {},
   "source": [
    " Rename columns in 2018 and 2019 datasets"
   ]
  },
  {
   "cell_type": "code",
   "execution_count": 29,
   "metadata": {},
   "outputs": [],
   "source": [
    "data_2018.rename(columns={'Company Name':'Company_Brand','Industry':'Sector','Round/Series':'Stage','Location':'HeadQuarter','About Company':'What it does'} ,inplace=True)\n",
    "data_2019.rename(columns={'Company/Brand':'Company_Brand','Amount($)':'Amount'},inplace=True)\n",
    "\n"
   ]
  },
  {
   "cell_type": "markdown",
   "metadata": {},
   "source": [
    " columns section for data analysis"
   ]
  },
  {
   "cell_type": "code",
   "execution_count": 30,
   "metadata": {},
   "outputs": [],
   "source": [
    "# Select the specified columns for analysis\n",
    "data_2018_selected = data_2018[['Company_Brand','HeadQuarter','Sector','Amount','Stage', 'Year']]\n",
    "data_2019_selected = data_2019[['Company_Brand','HeadQuarter','Sector','Amount','Stage','Year']]\n",
    "data_2020_selected = data_2020[['Company_Brand','HeadQuarter','Sector','Amount','Stage','Year']]\n",
    "data_2021_selected = data_2021[['Company_Brand','HeadQuarter','Sector','Amount','Stage','Year']]\n",
    "\n",
    "\n"
   ]
  },
  {
   "cell_type": "markdown",
   "metadata": {},
   "source": [
    " Combine all datasets into one dataframe combinedData"
   ]
  },
  {
   "cell_type": "code",
   "execution_count": 31,
   "metadata": {},
   "outputs": [],
   "source": [
    "# concatinate the tables\n",
    "combinedData= pd.concat([data_2018_selected,data_2019_selected,data_2020_selected,data_2021_selected],ignore_index=True)"
   ]
  },
  {
   "cell_type": "code",
   "execution_count": 32,
   "metadata": {},
   "outputs": [
    {
     "data": {
      "text/html": [
       "<div>\n",
       "<style scoped>\n",
       "    .dataframe tbody tr th:only-of-type {\n",
       "        vertical-align: middle;\n",
       "    }\n",
       "\n",
       "    .dataframe tbody tr th {\n",
       "        vertical-align: top;\n",
       "    }\n",
       "\n",
       "    .dataframe thead th {\n",
       "        text-align: right;\n",
       "    }\n",
       "</style>\n",
       "<table border=\"1\" class=\"dataframe\">\n",
       "  <thead>\n",
       "    <tr style=\"text-align: right;\">\n",
       "      <th></th>\n",
       "      <th>Company_Brand</th>\n",
       "      <th>HeadQuarter</th>\n",
       "      <th>Sector</th>\n",
       "      <th>Amount</th>\n",
       "      <th>Stage</th>\n",
       "      <th>Year</th>\n",
       "    </tr>\n",
       "  </thead>\n",
       "  <tbody>\n",
       "    <tr>\n",
       "      <th>2846</th>\n",
       "      <td>Proeon</td>\n",
       "      <td>Pune</td>\n",
       "      <td>Food Production</td>\n",
       "      <td>$2000000</td>\n",
       "      <td>Seed</td>\n",
       "      <td>2021</td>\n",
       "    </tr>\n",
       "    <tr>\n",
       "      <th>2847</th>\n",
       "      <td>InfyU Labs</td>\n",
       "      <td>Gandhinagar</td>\n",
       "      <td>AgriTech</td>\n",
       "      <td>$200000</td>\n",
       "      <td>Seed</td>\n",
       "      <td>2021</td>\n",
       "    </tr>\n",
       "    <tr>\n",
       "      <th>2848</th>\n",
       "      <td>TechEagle</td>\n",
       "      <td>Gurugram</td>\n",
       "      <td>Aviation &amp; Aerospace</td>\n",
       "      <td>$500000</td>\n",
       "      <td>Seed</td>\n",
       "      <td>2021</td>\n",
       "    </tr>\n",
       "    <tr>\n",
       "      <th>2849</th>\n",
       "      <td>Voxelgrids</td>\n",
       "      <td>Bangalore</td>\n",
       "      <td>Deeptech</td>\n",
       "      <td>$5000000</td>\n",
       "      <td>None</td>\n",
       "      <td>2021</td>\n",
       "    </tr>\n",
       "    <tr>\n",
       "      <th>2850</th>\n",
       "      <td>Cogos Technologies</td>\n",
       "      <td>Bangalore</td>\n",
       "      <td>Logistics &amp; Supply Chain</td>\n",
       "      <td>$2000000</td>\n",
       "      <td>Pre-series A</td>\n",
       "      <td>2021</td>\n",
       "    </tr>\n",
       "    <tr>\n",
       "      <th>2851</th>\n",
       "      <td>Gigforce</td>\n",
       "      <td>Gurugram</td>\n",
       "      <td>Staffing &amp; Recruiting</td>\n",
       "      <td>$3000000</td>\n",
       "      <td>Pre-series A</td>\n",
       "      <td>2021</td>\n",
       "    </tr>\n",
       "    <tr>\n",
       "      <th>2852</th>\n",
       "      <td>Vahdam</td>\n",
       "      <td>New Delhi</td>\n",
       "      <td>Food &amp; Beverages</td>\n",
       "      <td>$20000000</td>\n",
       "      <td>Series D</td>\n",
       "      <td>2021</td>\n",
       "    </tr>\n",
       "    <tr>\n",
       "      <th>2853</th>\n",
       "      <td>Leap Finance</td>\n",
       "      <td>Bangalore</td>\n",
       "      <td>Financial Services</td>\n",
       "      <td>$55000000</td>\n",
       "      <td>Series C</td>\n",
       "      <td>2021</td>\n",
       "    </tr>\n",
       "    <tr>\n",
       "      <th>2854</th>\n",
       "      <td>CollegeDekho</td>\n",
       "      <td>Gurugram</td>\n",
       "      <td>EdTech</td>\n",
       "      <td>$26000000</td>\n",
       "      <td>Series B</td>\n",
       "      <td>2021</td>\n",
       "    </tr>\n",
       "    <tr>\n",
       "      <th>2855</th>\n",
       "      <td>WeRize</td>\n",
       "      <td>Bangalore</td>\n",
       "      <td>Financial Services</td>\n",
       "      <td>$8000000</td>\n",
       "      <td>Series A</td>\n",
       "      <td>2021</td>\n",
       "    </tr>\n",
       "  </tbody>\n",
       "</table>\n",
       "</div>"
      ],
      "text/plain": [
       "           Company_Brand  HeadQuarter                    Sector     Amount  \\\n",
       "2846              Proeon         Pune           Food Production   $2000000   \n",
       "2847          InfyU Labs  Gandhinagar                  AgriTech    $200000   \n",
       "2848           TechEagle     Gurugram      Aviation & Aerospace    $500000   \n",
       "2849          Voxelgrids    Bangalore                  Deeptech   $5000000   \n",
       "2850  Cogos Technologies    Bangalore  Logistics & Supply Chain   $2000000   \n",
       "2851            Gigforce     Gurugram     Staffing & Recruiting   $3000000   \n",
       "2852              Vahdam    New Delhi          Food & Beverages  $20000000   \n",
       "2853        Leap Finance    Bangalore        Financial Services  $55000000   \n",
       "2854        CollegeDekho     Gurugram                    EdTech  $26000000   \n",
       "2855              WeRize    Bangalore        Financial Services   $8000000   \n",
       "\n",
       "             Stage  Year  \n",
       "2846          Seed  2021  \n",
       "2847          Seed  2021  \n",
       "2848          Seed  2021  \n",
       "2849          None  2021  \n",
       "2850  Pre-series A  2021  \n",
       "2851  Pre-series A  2021  \n",
       "2852      Series D  2021  \n",
       "2853      Series C  2021  \n",
       "2854      Series B  2021  \n",
       "2855      Series A  2021  "
      ]
     },
     "execution_count": 32,
     "metadata": {},
     "output_type": "execute_result"
    }
   ],
   "source": [
    "combinedData.tail(10)"
   ]
  },
  {
   "cell_type": "markdown",
   "metadata": {},
   "source": [
    "Check Amount Columns"
   ]
  },
  {
   "cell_type": "code",
   "execution_count": 33,
   "metadata": {},
   "outputs": [
    {
     "data": {
      "text/plain": [
       "array(['250000', '₹40,000,000', '₹65,000,000', '2000000', '—', '1600000',\n",
       "       '₹16,000,000', '₹50,000,000', '₹100,000,000', '150000', '1100000',\n",
       "       '₹500,000', '6000000', '650000', '₹35,000,000', '₹64,000,000',\n",
       "       '₹20,000,000', '1000000', '5000000', '4000000', '₹30,000,000',\n",
       "       '2800000', '1700000', '1300000', '₹5,000,000', '₹12,500,000',\n",
       "       '₹15,000,000', '500000', '₹104,000,000', '₹45,000,000', '13400000',\n",
       "       '₹25,000,000', '₹26,400,000', '₹8,000,000', '₹60,000', '9000000',\n",
       "       '100000', '20000', '120000', '₹34,000,000', '₹342,000,000',\n",
       "       '$143,145', '₹600,000,000', '$742,000,000', '₹1,000,000,000',\n",
       "       '₹2,000,000,000', '$3,980,000', '$10,000', '₹100,000',\n",
       "       '₹250,000,000', '$1,000,000,000', '$7,000,000', '$35,000,000',\n",
       "       '₹550,000,000', '$28,500,000', '$2,000,000', '₹240,000,000',\n",
       "       '₹120,000,000', '$2,400,000', '$30,000,000', '₹2,500,000,000',\n",
       "       '$23,000,000', '$150,000', '$11,000,000', '₹44,000,000',\n",
       "       '$3,240,000', '₹60,000,000', '$540,000,000', '₹650,000,000',\n",
       "       '₹1,600,000,000', '$900,000', '$10,000,000', '$1,500,000',\n",
       "       '₹70,000,000', '$1,000,000', '$5,000,000', '$14,000,000',\n",
       "       '₹102,500,000', '$100,000,000', '₹1,200,000', '₹5,200,000,000',\n",
       "       '$800,000', '$1,041,000', '$100,000', '$15,000', '1400000',\n",
       "       '1200000', '2200000', '1800000', '3600000', '₹9,500,000', '300000',\n",
       "       '6830000', '200000', '₹150,000,000', '4300000', '364846', '400000',\n",
       "       '1500000', '₹7,000,000', '₹1,400,000', '₹10,000,000',\n",
       "       '₹22,500,000', '13200000', '50000', '₹140,200,000', '3000000',\n",
       "       '1250000', '180000', '₹19,200,000', '₹103,000,000', '4200000',\n",
       "       '175000', '1450000', '₹200,000', '4500000', '600000',\n",
       "       '₹16,600,000', '₹12,000,000', '15000000', '₹33,000,000', '125000',\n",
       "       '130000', '₹34,900,000', '₹72,000,000', '17200000', '₹32,000,000',\n",
       "       '3500000', '₹135,000,000', '12000000', '$40,000,000', '$1,100,000',\n",
       "       '$50,000,000', '₹1,540,000,000', '$3,000,000', '$6,000,000',\n",
       "       '₹140,000,000', '$41,900,000', '₹1,410,000,000', '$3,530,000',\n",
       "       '$200,000', '$3,300,000', '₹580,000,000', '₹36,000,000',\n",
       "       '₹340,000,000', '$210,000,000', '$37,680,000', '$250,000',\n",
       "       '$20,000', '₹510,000,000', '₹2,200,000,000', '22000000', '70000',\n",
       "       '10000000', '₹15,392,000,000', '₹20,000,000,000', '₹4,000,000,000',\n",
       "       '185000000', '65000000', '₹165,000,000', '700000', '30000000',\n",
       "       '₹210,000,000', '210000000', '₹2,029,600,000', '75000000',\n",
       "       '₹80,000,000', '1760000', '2700000', '₹280,000,000',\n",
       "       '₹800,000,000', '750000', '2500000', '80000000', '25000000',\n",
       "       '₹730,000,000', '₹400,000,000', '3700000', '5600000',\n",
       "       '₹260,000,000', '99230000', '70000000', '40000', '550000',\n",
       "       '50000000', '365000000', '₹8,750,000', '₹78,000,000', '28000000',\n",
       "       '₹264,000,000', '100000000', '₹1,130,000,000', '₹810,000,000',\n",
       "       '₹1,400,000,000', '14900000', '225000000', '7500', '35000000',\n",
       "       '$6,300,000', '$150,000,000', '$28,000,000', 'Undisclosed',\n",
       "       '$20,000,000', '$275,000,000', '$22,000,000', '$140,500',\n",
       "       '$15,000,000', '$182,700', '$12,000,000', '$15,500,000',\n",
       "       '$5,500,000', '$2,500,000', '$140,000', '$230,000,000',\n",
       "       '$49,400,000', '$32,000,000', '$26,000,000', '$400,000',\n",
       "       '$8,000,000', '$120,000,000', '$4,000,000', '$6,800,000',\n",
       "       '$36,000,000', '$5,700,000', '$25,000,000', '$600,000',\n",
       "       '$70,000,000', '$60,000,000', '$220,000', '$2,800,000',\n",
       "       '$2,100,000', '$311,000,000', '$4,800,000', '$693,000,000',\n",
       "       '$33,000,000', 200000.0, 100000.0, nan, 400000.0, 340000.0,\n",
       "       600000.0, 45000000.0, 1000000.0, 2000000.0, 1200000.0, 660000000.0,\n",
       "       120000.0, 7500000.0, 5000000.0, 500000.0, 3000000.0, 10000000.0,\n",
       "       145000000.0, 100000000.0, 21000000.0, 4000000.0, 20000000.0,\n",
       "       560000.0, 275000.0, 4500000.0, 15000000.0, 390000000.0, 7000000.0,\n",
       "       5100000.0, 700000000.0, 2300000.0, 700000.0, 19000000.0, 9000000.0,\n",
       "       40000000.0, 750000.0, 1500000.0, 7800000.0, 50000000.0, 80000000.0,\n",
       "       30000000.0, 1700000.0, 2500000.0, 40000.0, 33000000.0, 35000000.0,\n",
       "       300000.0, 25000000.0, 3500000.0, 200000000.0, 6000000.0, 1300000.0,\n",
       "       4100000.0, 575000.0, 800000.0, 28000000.0, 18000000.0, 3200000.0,\n",
       "       900000.0, 250000.0, 4700000.0, 75000000.0, 8000000.0, 121000000.0,\n",
       "       55000000.0, 3300000.0, 11000000.0, 16000000.0, 5400000.0,\n",
       "       150000000.0, 4200000.0, 22000000.0, 52000000.0, 1100000.0,\n",
       "       118000000.0, 1600000.0, 18500000.0, 70000000000.0, 800000000.0,\n",
       "       400000000.0, 150000.0, 176000000.0, 60000000.0, 470000.0, 240000.0,\n",
       "       3000000000.0, 74000000.0, 62000000.0, 2100000.0, 500000000.0,\n",
       "       12500000.0, 2200000000.0, 5060000.0, 225000000.0, 24700000.0,\n",
       "       7700000.0, 19067328.0, 51000000.0, 115000.0, 54000.0, 20000.0,\n",
       "       803146.0, 238000.0, 10220000.0, 1020000.0, 12000000.0, 13400000.0,\n",
       "       170000000.0, 2900000.0, 543000.0, 90000000.0, 3400000.0,\n",
       "       23000000.0, 8090000.0, 1030000.0, 5040000.0, 360000.0, 1400000.0,\n",
       "       650000.0, 54000000.0, 42500000.0, 11370000.0, 325000.0, 410000.0,\n",
       "       450000.0, 682000.0, 4050000.0, 1050000.0, 1080000.0, 4300000.0,\n",
       "       6800000.0, 2110000.0, 764000.0, 603000.0, 409000.0, 292000.0,\n",
       "       286000.0, 136000.0, 546000.0, 887000.0, 43000.0, 40900.0,\n",
       "       2200000.0, 5660000.0, 350000.0, 110000.0, 122000000.0, 11635000.0,\n",
       "       2800000.0, 1065000.0, 669000.0, 16076000.0, 649600.0, 6700000.0,\n",
       "       220000.0, 266500.0, 2879000.0, 26500000.0, 351000.0, 46761000.0,\n",
       "       175000.0, 11241000.0, 804000.0, 1340000.0, 467000.0, 133000.0,\n",
       "       3823000.0, 934000.0, 293000.0, 198000.0, 927000.0, 971000.0,\n",
       "       3060000.0, 1862000.0, 232000.0, 2888000.0, 1328000.0, 15500000.0,\n",
       "       56000000.0, 2250000.0, 16753000.0, 3700000.0, 1470000.0, 530000.0,\n",
       "       267000.0, 3344000.0, 7200000.0, 2743000.0, 6082000.0, 6609000.0,\n",
       "       27700000.0, 5940000.0, 3964000.0, 5500000.0, 197000.0, 4327000.0,\n",
       "       459000.0, 3937000.0, 1313500.0, 229800.0, 5305000.0, 264000.0,\n",
       "       1750000.0, 5967000.0, 2980000.0, 323000.0, 1326000.0, 27000000.0,\n",
       "       5200000.0, 2530000.0, 792000.0, 11363000.0, 1715000.0, 329000.0,\n",
       "       5271000.0, 8700000.0, 3226000.0, 5900000.0, 44000000.0, 3879000.0,\n",
       "       13000000.0, 8800000.0, 9500000.0, 920000.0, 35600000.0, 9400000.0,\n",
       "       790000.0, 480000.0, 160000.0, 8200000.0, 4257000.0, 1410000.0,\n",
       "       349800.0, 786000.0, 2004000.0, 123000000.0, 248000.0, 24000000.0,\n",
       "       14259000.0, 24500000.0, 3800000.0, 18370000.0, 68525000.0,\n",
       "       4800000.0, 1834000.0, 23850000.0, 43000000.0, 21600000.0,\n",
       "       4598000.0, 13137000.0, 115000000.0, 3900000.0, 670000.0, 8500000.0,\n",
       "       3148000.0, 2600000.0, 4049500.0, 10500000.0, 6500000.0, 43700000.0,\n",
       "       13800000.0, 306900.0, 420000.0, 627300.0, 113000000.0, 32000000.0,\n",
       "       110000000.0, 1397000.0, 448500.0, 7975700.0, 330000.0, 5600000.0,\n",
       "       1402000.0, 21500000.0, 296000000.0, 4900000.0, 1402400.0,\n",
       "       12618300.0, 9900000.0, 982530.0, 70185200.0, 210000000.0,\n",
       "       84000000.0, 39000000.0, 2700000.0, 1403400.0, 105000000.0,\n",
       "       103000000.0, 281300.0, 12700.0, 25000.0, 97500000.0, 507000.0,\n",
       "       8400000.0, 18300000.0, 125000000.0, 181000.0, 280000.0, 14700000.0,\n",
       "       13200000.0, 8043000.0, '$1,200,000', '$51,000,000', '$188,000,000',\n",
       "       '$700,000', '$9,000,000', '$49,000,000', '$300,000',\n",
       "       '$160,000,000', '$1,800,000', '$850,000', '$53,000,000',\n",
       "       '$500,000', '$21,000,000', '$7,500,000', '$7,400,000',\n",
       "       '$800,000,000', '$17,000,000', '$3,500,000', '$215,000,000',\n",
       "       '$350,000,000', '$83,000,000', '$110,000,000', '$500,000,000',\n",
       "       '$65,000,000', '$150,000,000,000', '$300,000,000', '$2,200,000',\n",
       "       '$140,000,000', '$13,000,000', None, '$Undisclosed', '$2000000',\n",
       "       '$800000', '$6000000', '$2500000', '$9500000', '$13000000',\n",
       "       '$5000000', '$8000000', '$1000000', 'Upsparks', '$200000',\n",
       "       '$12000000', '$1500000', '$1700000', '$5500000', '$400000',\n",
       "       '$150000000', '$4000000', '$100000000', '$500000', '$15000000',\n",
       "       '$10000000', '$40000000', '$225000000', '$6700000', '$1300000',\n",
       "       '$20000000', '$250000', '$21000000', '$1200000', '$52000000',\n",
       "       '$3800000', '$17500000', '$42000000', '$2300000', '$7000000',\n",
       "       '$30000000', '$450000000', '$28000000', '$300000', '$3500000',\n",
       "       '$8500000', '$25000000', '$3000000', '$37000000', '$370000000',\n",
       "       '$700000', '$16000000', '$100000', '$44000000', '$770000',\n",
       "       '$125000000', '$35000000', '$50000000', '$4900000', '$145000000',\n",
       "       '$22000000', '$70000000', '$6600000', '$32000000', '$24000000',\n",
       "       '$725000', '$461000', 'Series C', 'Seed', '$96000000', '$60000000',\n",
       "       '$500000000', '$266000000', '$4500000', '$325000000', '$6500000',\n",
       "       '$1600000', '$150000', '$225000', '$85000000', '$235000',\n",
       "       '$260000', '$2900000', '$53000000', '$1100000', '$86000000',\n",
       "       '$130000', '$$100,00', '$111000000', '$265000', '$76000000',\n",
       "       '$75,000,000', '$3,800,000', '$1,600,000', '$260,000',\n",
       "       '$18,000,000', '$350,000', '$95,000,000', '$4,100,000',\n",
       "       '$5,200,000', '$1,400,000', '$2,600,000', '$16,000,000',\n",
       "       '$280,000,000', '$14,300,000', '$81,000,000', '$1,300,000',\n",
       "       '$8,200,000', '$720,000', '$600000', '$9000000', '$1800000',\n",
       "       '$330000', '$undisclosed', '$200000000', '$36000000', '$67000000',\n",
       "       '$10200000', '$220000000', '$108000000', '$75000000', '$450000',\n",
       "       '$660000000', 'ah! Ventures', '$45000000', '$3200000', '$370000',\n",
       "       'Pre-series A', 'ITO Angel Network, LetsVenture', '$48000000',\n",
       "       '$3600000', '$11000000', '$192000000', '$65000000', '$1400000',\n",
       "       '$1900000', '$41000000', '$144000000', '$5200000', '$270000000',\n",
       "       '$140000', '$250000000', '$320000', '$350000000', '$4800000',\n",
       "       '$38000000', '$125000', '$26000000', '$64000000', '$620000',\n",
       "       '$900000', 'JITO Angel Network, LetsVenture', '$2600000',\n",
       "       '$1,250,000', '$400,000,000', '$1,700,000', '$27,000,000',\n",
       "       '$234,000,000', '$460,000,000', '$13,500,000', '$5,100,000',\n",
       "       '$195,000,000', '$125,000', '$45,000,000', '$200,000,000',\n",
       "       '$7,300,000', '$12,500,000', '$24,000,000', '$16,500,000',\n",
       "       '$340,000', '$43,000,000', '$3300000', '$92000000', '$17000000',\n",
       "       '$135000000', '$$1,55,000', '$2100000', '$840000000', '$248000000',\n",
       "       '$4300000', '$570000', '$2200000', '$4700000', '$300000000',\n",
       "       '$260000000', '$140000000', '$175000000', '$19000000', '$810000',\n",
       "       '$7500000', '$600000000', '$90000000', '$5700000', '$6750000',\n",
       "       '$78000000', '$5400000', '$115000000', '$255000000', '$18000000',\n",
       "       '$570000000', '$550000', '$2700000', '$4200000', '$31000000',\n",
       "       '$540000', '$14000000', '$340000', '$', '$6200000', '$750000',\n",
       "       '$6300000', '$23000000', '$55000000'], dtype=object)"
      ]
     },
     "execution_count": 33,
     "metadata": {},
     "output_type": "execute_result"
    }
   ],
   "source": [
    "combinedData['Amount'].unique()"
   ]
  },
  {
   "cell_type": "code",
   "execution_count": 34,
   "metadata": {},
   "outputs": [],
   "source": [
    "# Replace  non-numerical values in the 'amount' column with 0\n",
    "combinedData['Amount'].replace(['—','Undisclosed','None', '$Undisclosed', '$','Upsparks', 'JITO Angel Network, LetsVenture','Series C', 'Seed', '$undisclosed', 'ah! Ventures', 'Pre-series A', 'ITO Angel Network, LetsVenture'], 0, inplace=True)"
   ]
  },
  {
   "cell_type": "code",
   "execution_count": 35,
   "metadata": {},
   "outputs": [
    {
     "data": {
      "text/plain": [
       "array(['250000', '₹40,000,000', '₹65,000,000', '2000000', 0, '1600000',\n",
       "       '₹16,000,000', '₹50,000,000', '₹100,000,000', '150000', '1100000',\n",
       "       '₹500,000', '6000000', '650000', '₹35,000,000', '₹64,000,000',\n",
       "       '₹20,000,000', '1000000', '5000000', '4000000', '₹30,000,000',\n",
       "       '2800000', '1700000', '1300000', '₹5,000,000', '₹12,500,000',\n",
       "       '₹15,000,000', '500000', '₹104,000,000', '₹45,000,000', '13400000',\n",
       "       '₹25,000,000', '₹26,400,000', '₹8,000,000', '₹60,000', '9000000',\n",
       "       '100000', '20000', '120000', '₹34,000,000', '₹342,000,000',\n",
       "       '$143,145', '₹600,000,000', '$742,000,000', '₹1,000,000,000',\n",
       "       '₹2,000,000,000', '$3,980,000', '$10,000', '₹100,000',\n",
       "       '₹250,000,000', '$1,000,000,000', '$7,000,000', '$35,000,000',\n",
       "       '₹550,000,000', '$28,500,000', '$2,000,000', '₹240,000,000',\n",
       "       '₹120,000,000', '$2,400,000', '$30,000,000', '₹2,500,000,000',\n",
       "       '$23,000,000', '$150,000', '$11,000,000', '₹44,000,000',\n",
       "       '$3,240,000', '₹60,000,000', '$540,000,000', '₹650,000,000',\n",
       "       '₹1,600,000,000', '$900,000', '$10,000,000', '$1,500,000',\n",
       "       '₹70,000,000', '$1,000,000', '$5,000,000', '$14,000,000',\n",
       "       '₹102,500,000', '$100,000,000', '₹1,200,000', '₹5,200,000,000',\n",
       "       '$800,000', '$1,041,000', '$100,000', '$15,000', '1400000',\n",
       "       '1200000', '2200000', '1800000', '3600000', '₹9,500,000', '300000',\n",
       "       '6830000', '200000', '₹150,000,000', '4300000', '364846', '400000',\n",
       "       '1500000', '₹7,000,000', '₹1,400,000', '₹10,000,000',\n",
       "       '₹22,500,000', '13200000', '50000', '₹140,200,000', '3000000',\n",
       "       '1250000', '180000', '₹19,200,000', '₹103,000,000', '4200000',\n",
       "       '175000', '1450000', '₹200,000', '4500000', '600000',\n",
       "       '₹16,600,000', '₹12,000,000', '15000000', '₹33,000,000', '125000',\n",
       "       '130000', '₹34,900,000', '₹72,000,000', '17200000', '₹32,000,000',\n",
       "       '3500000', '₹135,000,000', '12000000', '$40,000,000', '$1,100,000',\n",
       "       '$50,000,000', '₹1,540,000,000', '$3,000,000', '$6,000,000',\n",
       "       '₹140,000,000', '$41,900,000', '₹1,410,000,000', '$3,530,000',\n",
       "       '$200,000', '$3,300,000', '₹580,000,000', '₹36,000,000',\n",
       "       '₹340,000,000', '$210,000,000', '$37,680,000', '$250,000',\n",
       "       '$20,000', '₹510,000,000', '₹2,200,000,000', '22000000', '70000',\n",
       "       '10000000', '₹15,392,000,000', '₹20,000,000,000', '₹4,000,000,000',\n",
       "       '185000000', '65000000', '₹165,000,000', '700000', '30000000',\n",
       "       '₹210,000,000', '210000000', '₹2,029,600,000', '75000000',\n",
       "       '₹80,000,000', '1760000', '2700000', '₹280,000,000',\n",
       "       '₹800,000,000', '750000', '2500000', '80000000', '25000000',\n",
       "       '₹730,000,000', '₹400,000,000', '3700000', '5600000',\n",
       "       '₹260,000,000', '99230000', '70000000', '40000', '550000',\n",
       "       '50000000', '365000000', '₹8,750,000', '₹78,000,000', '28000000',\n",
       "       '₹264,000,000', '100000000', '₹1,130,000,000', '₹810,000,000',\n",
       "       '₹1,400,000,000', '14900000', '225000000', '7500', '35000000',\n",
       "       '$6,300,000', '$150,000,000', '$28,000,000', '$20,000,000',\n",
       "       '$275,000,000', '$22,000,000', '$140,500', '$15,000,000',\n",
       "       '$182,700', '$12,000,000', '$15,500,000', '$5,500,000',\n",
       "       '$2,500,000', '$140,000', '$230,000,000', '$49,400,000',\n",
       "       '$32,000,000', '$26,000,000', '$400,000', '$8,000,000',\n",
       "       '$120,000,000', '$4,000,000', '$6,800,000', '$36,000,000',\n",
       "       '$5,700,000', '$25,000,000', '$600,000', '$70,000,000',\n",
       "       '$60,000,000', '$220,000', '$2,800,000', '$2,100,000',\n",
       "       '$311,000,000', '$4,800,000', '$693,000,000', '$33,000,000',\n",
       "       200000.0, 100000.0, nan, 400000.0, 340000.0, 600000.0, 45000000.0,\n",
       "       1000000.0, 2000000.0, 1200000.0, 660000000.0, 120000.0, 7500000.0,\n",
       "       5000000.0, 500000.0, 3000000.0, 10000000.0, 145000000.0,\n",
       "       100000000.0, 21000000.0, 4000000.0, 20000000.0, 560000.0, 275000.0,\n",
       "       4500000.0, 15000000.0, 390000000.0, 7000000.0, 5100000.0,\n",
       "       700000000.0, 2300000.0, 700000.0, 19000000.0, 9000000.0,\n",
       "       40000000.0, 750000.0, 1500000.0, 7800000.0, 50000000.0, 80000000.0,\n",
       "       30000000.0, 1700000.0, 2500000.0, 40000.0, 33000000.0, 35000000.0,\n",
       "       300000.0, 25000000.0, 3500000.0, 200000000.0, 6000000.0, 1300000.0,\n",
       "       4100000.0, 575000.0, 800000.0, 28000000.0, 18000000.0, 3200000.0,\n",
       "       900000.0, 250000.0, 4700000.0, 75000000.0, 8000000.0, 121000000.0,\n",
       "       55000000.0, 3300000.0, 11000000.0, 16000000.0, 5400000.0,\n",
       "       150000000.0, 4200000.0, 22000000.0, 52000000.0, 1100000.0,\n",
       "       118000000.0, 1600000.0, 18500000.0, 70000000000.0, 800000000.0,\n",
       "       400000000.0, 150000.0, 176000000.0, 60000000.0, 470000.0, 240000.0,\n",
       "       3000000000.0, 74000000.0, 62000000.0, 2100000.0, 500000000.0,\n",
       "       12500000.0, 2200000000.0, 5060000.0, 225000000.0, 24700000.0,\n",
       "       7700000.0, 19067328.0, 51000000.0, 115000.0, 54000.0, 20000.0,\n",
       "       803146.0, 238000.0, 10220000.0, 1020000.0, 12000000.0, 13400000.0,\n",
       "       170000000.0, 2900000.0, 543000.0, 90000000.0, 3400000.0,\n",
       "       23000000.0, 8090000.0, 1030000.0, 5040000.0, 360000.0, 1400000.0,\n",
       "       650000.0, 54000000.0, 42500000.0, 11370000.0, 325000.0, 410000.0,\n",
       "       450000.0, 682000.0, 4050000.0, 1050000.0, 1080000.0, 4300000.0,\n",
       "       6800000.0, 2110000.0, 764000.0, 603000.0, 409000.0, 292000.0,\n",
       "       286000.0, 136000.0, 546000.0, 887000.0, 43000.0, 40900.0,\n",
       "       2200000.0, 5660000.0, 350000.0, 110000.0, 122000000.0, 11635000.0,\n",
       "       2800000.0, 1065000.0, 669000.0, 16076000.0, 649600.0, 6700000.0,\n",
       "       220000.0, 266500.0, 2879000.0, 26500000.0, 351000.0, 46761000.0,\n",
       "       175000.0, 11241000.0, 804000.0, 1340000.0, 467000.0, 133000.0,\n",
       "       3823000.0, 934000.0, 293000.0, 198000.0, 927000.0, 971000.0,\n",
       "       3060000.0, 1862000.0, 232000.0, 2888000.0, 1328000.0, 15500000.0,\n",
       "       56000000.0, 2250000.0, 16753000.0, 3700000.0, 1470000.0, 530000.0,\n",
       "       267000.0, 3344000.0, 7200000.0, 2743000.0, 6082000.0, 6609000.0,\n",
       "       27700000.0, 5940000.0, 3964000.0, 5500000.0, 197000.0, 4327000.0,\n",
       "       459000.0, 3937000.0, 1313500.0, 229800.0, 5305000.0, 264000.0,\n",
       "       1750000.0, 5967000.0, 2980000.0, 323000.0, 1326000.0, 27000000.0,\n",
       "       5200000.0, 2530000.0, 792000.0, 11363000.0, 1715000.0, 329000.0,\n",
       "       5271000.0, 8700000.0, 3226000.0, 5900000.0, 44000000.0, 3879000.0,\n",
       "       13000000.0, 8800000.0, 9500000.0, 920000.0, 35600000.0, 9400000.0,\n",
       "       790000.0, 480000.0, 160000.0, 8200000.0, 4257000.0, 1410000.0,\n",
       "       349800.0, 786000.0, 2004000.0, 123000000.0, 248000.0, 24000000.0,\n",
       "       14259000.0, 24500000.0, 3800000.0, 18370000.0, 68525000.0,\n",
       "       4800000.0, 1834000.0, 23850000.0, 43000000.0, 21600000.0,\n",
       "       4598000.0, 13137000.0, 115000000.0, 3900000.0, 670000.0, 8500000.0,\n",
       "       3148000.0, 2600000.0, 4049500.0, 10500000.0, 6500000.0, 43700000.0,\n",
       "       13800000.0, 306900.0, 420000.0, 627300.0, 113000000.0, 32000000.0,\n",
       "       110000000.0, 1397000.0, 448500.0, 7975700.0, 330000.0, 5600000.0,\n",
       "       1402000.0, 21500000.0, 296000000.0, 4900000.0, 1402400.0,\n",
       "       12618300.0, 9900000.0, 982530.0, 70185200.0, 210000000.0,\n",
       "       84000000.0, 39000000.0, 2700000.0, 1403400.0, 105000000.0,\n",
       "       103000000.0, 281300.0, 12700.0, 25000.0, 97500000.0, 507000.0,\n",
       "       8400000.0, 18300000.0, 125000000.0, 181000.0, 280000.0, 14700000.0,\n",
       "       13200000.0, 8043000.0, '$1,200,000', '$51,000,000', '$188,000,000',\n",
       "       '$700,000', '$9,000,000', '$49,000,000', '$300,000',\n",
       "       '$160,000,000', '$1,800,000', '$850,000', '$53,000,000',\n",
       "       '$500,000', '$21,000,000', '$7,500,000', '$7,400,000',\n",
       "       '$800,000,000', '$17,000,000', '$3,500,000', '$215,000,000',\n",
       "       '$350,000,000', '$83,000,000', '$110,000,000', '$500,000,000',\n",
       "       '$65,000,000', '$150,000,000,000', '$300,000,000', '$2,200,000',\n",
       "       '$140,000,000', '$13,000,000', None, '$2000000', '$800000',\n",
       "       '$6000000', '$2500000', '$9500000', '$13000000', '$5000000',\n",
       "       '$8000000', '$1000000', '$200000', '$12000000', '$1500000',\n",
       "       '$1700000', '$5500000', '$400000', '$150000000', '$4000000',\n",
       "       '$100000000', '$500000', '$15000000', '$10000000', '$40000000',\n",
       "       '$225000000', '$6700000', '$1300000', '$20000000', '$250000',\n",
       "       '$21000000', '$1200000', '$52000000', '$3800000', '$17500000',\n",
       "       '$42000000', '$2300000', '$7000000', '$30000000', '$450000000',\n",
       "       '$28000000', '$300000', '$3500000', '$8500000', '$25000000',\n",
       "       '$3000000', '$37000000', '$370000000', '$700000', '$16000000',\n",
       "       '$100000', '$44000000', '$770000', '$125000000', '$35000000',\n",
       "       '$50000000', '$4900000', '$145000000', '$22000000', '$70000000',\n",
       "       '$6600000', '$32000000', '$24000000', '$725000', '$461000',\n",
       "       '$96000000', '$60000000', '$500000000', '$266000000', '$4500000',\n",
       "       '$325000000', '$6500000', '$1600000', '$150000', '$225000',\n",
       "       '$85000000', '$235000', '$260000', '$2900000', '$53000000',\n",
       "       '$1100000', '$86000000', '$130000', '$$100,00', '$111000000',\n",
       "       '$265000', '$76000000', '$75,000,000', '$3,800,000', '$1,600,000',\n",
       "       '$260,000', '$18,000,000', '$350,000', '$95,000,000', '$4,100,000',\n",
       "       '$5,200,000', '$1,400,000', '$2,600,000', '$16,000,000',\n",
       "       '$280,000,000', '$14,300,000', '$81,000,000', '$1,300,000',\n",
       "       '$8,200,000', '$720,000', '$600000', '$9000000', '$1800000',\n",
       "       '$330000', '$200000000', '$36000000', '$67000000', '$10200000',\n",
       "       '$220000000', '$108000000', '$75000000', '$450000', '$660000000',\n",
       "       '$45000000', '$3200000', '$370000', '$48000000', '$3600000',\n",
       "       '$11000000', '$192000000', '$65000000', '$1400000', '$1900000',\n",
       "       '$41000000', '$144000000', '$5200000', '$270000000', '$140000',\n",
       "       '$250000000', '$320000', '$350000000', '$4800000', '$38000000',\n",
       "       '$125000', '$26000000', '$64000000', '$620000', '$900000',\n",
       "       '$2600000', '$1,250,000', '$400,000,000', '$1,700,000',\n",
       "       '$27,000,000', '$234,000,000', '$460,000,000', '$13,500,000',\n",
       "       '$5,100,000', '$195,000,000', '$125,000', '$45,000,000',\n",
       "       '$200,000,000', '$7,300,000', '$12,500,000', '$24,000,000',\n",
       "       '$16,500,000', '$340,000', '$43,000,000', '$3300000', '$92000000',\n",
       "       '$17000000', '$135000000', '$$1,55,000', '$2100000', '$840000000',\n",
       "       '$248000000', '$4300000', '$570000', '$2200000', '$4700000',\n",
       "       '$300000000', '$260000000', '$140000000', '$175000000',\n",
       "       '$19000000', '$810000', '$7500000', '$600000000', '$90000000',\n",
       "       '$5700000', '$6750000', '$78000000', '$5400000', '$115000000',\n",
       "       '$255000000', '$18000000', '$570000000', '$550000', '$2700000',\n",
       "       '$4200000', '$31000000', '$540000', '$14000000', '$340000',\n",
       "       '$6200000', '$750000', '$6300000', '$23000000', '$55000000'],\n",
       "      dtype=object)"
      ]
     },
     "execution_count": 35,
     "metadata": {},
     "output_type": "execute_result"
    }
   ],
   "source": [
    "combinedData['Amount'].unique()"
   ]
  },
  {
   "cell_type": "markdown",
   "metadata": {},
   "source": [
    "To check for the null Values in the Concataned table"
   ]
  },
  {
   "cell_type": "code",
   "execution_count": 36,
   "metadata": {},
   "outputs": [
    {
     "data": {
      "text/plain": [
       "Company_Brand      0\n",
       "HeadQuarter      114\n",
       "Sector            18\n",
       "Amount           256\n",
       "Stage            929\n",
       "Year               0\n",
       "dtype: int64"
      ]
     },
     "execution_count": 36,
     "metadata": {},
     "output_type": "execute_result"
    }
   ],
   "source": [
    "combinedData.isna().sum()"
   ]
  },
  {
   "cell_type": "markdown",
   "metadata": {},
   "source": [
    " handling the missing Values"
   ]
  },
  {
   "cell_type": "code",
   "execution_count": 37,
   "metadata": {},
   "outputs": [],
   "source": [
    "combinedData.fillna(value={'HeadQuarter':'Unknown','Sector':'Unknown','Amount':0,'Stage':'Unknown'},inplace=True)\n"
   ]
  },
  {
   "cell_type": "code",
   "execution_count": 38,
   "metadata": {},
   "outputs": [
    {
     "data": {
      "text/plain": [
       "Company_Brand    0\n",
       "HeadQuarter      0\n",
       "Sector           0\n",
       "Amount           0\n",
       "Stage            0\n",
       "Year             0\n",
       "dtype: int64"
      ]
     },
     "execution_count": 38,
     "metadata": {},
     "output_type": "execute_result"
    }
   ],
   "source": [
    "combinedData.isna().sum()"
   ]
  },
  {
   "cell_type": "markdown",
   "metadata": {},
   "source": [
    "To convert the Amount Column to one currency"
   ]
  },
  {
   "cell_type": "code",
   "execution_count": 39,
   "metadata": {},
   "outputs": [
    {
     "data": {
      "text/html": [
       "<div>\n",
       "<style scoped>\n",
       "    .dataframe tbody tr th:only-of-type {\n",
       "        vertical-align: middle;\n",
       "    }\n",
       "\n",
       "    .dataframe tbody tr th {\n",
       "        vertical-align: top;\n",
       "    }\n",
       "\n",
       "    .dataframe thead th {\n",
       "        text-align: right;\n",
       "    }\n",
       "</style>\n",
       "<table border=\"1\" class=\"dataframe\">\n",
       "  <thead>\n",
       "    <tr style=\"text-align: right;\">\n",
       "      <th></th>\n",
       "      <th>Company_Brand</th>\n",
       "      <th>HeadQuarter</th>\n",
       "      <th>Sector</th>\n",
       "      <th>Amount</th>\n",
       "      <th>Stage</th>\n",
       "      <th>Year</th>\n",
       "    </tr>\n",
       "  </thead>\n",
       "  <tbody>\n",
       "    <tr>\n",
       "      <th>2499</th>\n",
       "      <td>Haqdarshak</td>\n",
       "      <td>Jaipur</td>\n",
       "      <td>Finance</td>\n",
       "      <td>$800,000</td>\n",
       "      <td>Pre-series A</td>\n",
       "      <td>2021</td>\n",
       "    </tr>\n",
       "    <tr>\n",
       "      <th>2170</th>\n",
       "      <td>MYSUN</td>\n",
       "      <td>New Delhi</td>\n",
       "      <td>Solar</td>\n",
       "      <td>$2000000</td>\n",
       "      <td>Unknown</td>\n",
       "      <td>2021</td>\n",
       "    </tr>\n",
       "    <tr>\n",
       "      <th>907</th>\n",
       "      <td>GPS Renewables</td>\n",
       "      <td>Bangalore</td>\n",
       "      <td>Cleantech</td>\n",
       "      <td>3000000.0</td>\n",
       "      <td>Series A</td>\n",
       "      <td>2020</td>\n",
       "    </tr>\n",
       "    <tr>\n",
       "      <th>1129</th>\n",
       "      <td>Text Mercato</td>\n",
       "      <td>Bangalore</td>\n",
       "      <td>Unknown</td>\n",
       "      <td>649600.0</td>\n",
       "      <td>Series A</td>\n",
       "      <td>2020</td>\n",
       "    </tr>\n",
       "    <tr>\n",
       "      <th>714</th>\n",
       "      <td>Credgenics</td>\n",
       "      <td>New Delhi</td>\n",
       "      <td>FinTech</td>\n",
       "      <td>3000000.0</td>\n",
       "      <td>Pre-series A</td>\n",
       "      <td>2020</td>\n",
       "    </tr>\n",
       "    <tr>\n",
       "      <th>1880</th>\n",
       "      <td>CHARGE+ZONE</td>\n",
       "      <td>Vadodara</td>\n",
       "      <td>Automotive</td>\n",
       "      <td>$10000000</td>\n",
       "      <td>Unknown</td>\n",
       "      <td>2021</td>\n",
       "    </tr>\n",
       "    <tr>\n",
       "      <th>2297</th>\n",
       "      <td>Juicy chemistry</td>\n",
       "      <td>Coimbatore</td>\n",
       "      <td>HealthCare</td>\n",
       "      <td>0</td>\n",
       "      <td>Unknown</td>\n",
       "      <td>2021</td>\n",
       "    </tr>\n",
       "    <tr>\n",
       "      <th>447</th>\n",
       "      <td>Blackbuck</td>\n",
       "      <td>Bengaluru, Karnataka, India</td>\n",
       "      <td>Information Services, Internet, Logistics, Sup...</td>\n",
       "      <td>₹2,029,600,000</td>\n",
       "      <td>Series D</td>\n",
       "      <td>2018</td>\n",
       "    </tr>\n",
       "    <tr>\n",
       "      <th>1364</th>\n",
       "      <td>Daily Ninja</td>\n",
       "      <td>Haryana</td>\n",
       "      <td>Ecommerce</td>\n",
       "      <td>349800.0</td>\n",
       "      <td>Unknown</td>\n",
       "      <td>2020</td>\n",
       "    </tr>\n",
       "    <tr>\n",
       "      <th>2052</th>\n",
       "      <td>KIWI</td>\n",
       "      <td>New Delhi</td>\n",
       "      <td>TaaS startup</td>\n",
       "      <td>$250,000</td>\n",
       "      <td>Seed</td>\n",
       "      <td>2021</td>\n",
       "    </tr>\n",
       "  </tbody>\n",
       "</table>\n",
       "</div>"
      ],
      "text/plain": [
       "        Company_Brand                  HeadQuarter  \\\n",
       "2499       Haqdarshak                       Jaipur   \n",
       "2170            MYSUN                    New Delhi   \n",
       "907    GPS Renewables                    Bangalore   \n",
       "1129     Text Mercato                    Bangalore   \n",
       "714        Credgenics                    New Delhi   \n",
       "1880      CHARGE+ZONE                     Vadodara   \n",
       "2297  Juicy chemistry                   Coimbatore   \n",
       "447         Blackbuck  Bengaluru, Karnataka, India   \n",
       "1364      Daily Ninja                      Haryana   \n",
       "2052             KIWI                    New Delhi   \n",
       "\n",
       "                                                 Sector          Amount  \\\n",
       "2499                                            Finance        $800,000   \n",
       "2170                                              Solar        $2000000   \n",
       "907                                           Cleantech       3000000.0   \n",
       "1129                                            Unknown        649600.0   \n",
       "714                                             FinTech       3000000.0   \n",
       "1880                                         Automotive       $10000000   \n",
       "2297                                         HealthCare               0   \n",
       "447   Information Services, Internet, Logistics, Sup...  ₹2,029,600,000   \n",
       "1364                                          Ecommerce        349800.0   \n",
       "2052                                       TaaS startup        $250,000   \n",
       "\n",
       "             Stage  Year  \n",
       "2499  Pre-series A  2021  \n",
       "2170       Unknown  2021  \n",
       "907       Series A  2020  \n",
       "1129      Series A  2020  \n",
       "714   Pre-series A  2020  \n",
       "1880       Unknown  2021  \n",
       "2297       Unknown  2021  \n",
       "447       Series D  2018  \n",
       "1364       Unknown  2020  \n",
       "2052          Seed  2021  "
      ]
     },
     "execution_count": 39,
     "metadata": {},
     "output_type": "execute_result"
    }
   ],
   "source": [
    "# Peak a sample data tp overview\n",
    "combinedData.sample(10)"
   ]
  },
  {
   "cell_type": "code",
   "execution_count": 40,
   "metadata": {},
   "outputs": [],
   "source": [
    "# A function to convert amount to $\n",
    "def convert_to_usd(amount):\n",
    "    exchange_rate = 70  # Exchange rate: 1 USD = 70 INR\n",
    "\n",
    "    # Check if the amount is numeric\n",
    "    if str(amount).replace(',', '').replace('.', '').isdigit():\n",
    "        return round(float(amount), 2)\n",
    "    elif '₹' in str(amount):  # Check if the amount is in INR\n",
    "        inr_amount = float(str(amount).replace('₹', '').replace(',', ''))  # Remove currency symbol and commas\n",
    "        round(inr_amount / exchange_rate, 2)\n",
    "    else:\n",
    "        return round(float(str(amount).replace('$', '').replace(',', '')), 2)\n",
    "\n",
    "# Apply the conversion function to the 'Amount' column\n",
    "combinedData['Amount'] = combinedData['Amount'].apply(convert_to_usd)"
   ]
  },
  {
   "cell_type": "code",
   "execution_count": 41,
   "metadata": {},
   "outputs": [
    {
     "data": {
      "text/html": [
       "<div>\n",
       "<style scoped>\n",
       "    .dataframe tbody tr th:only-of-type {\n",
       "        vertical-align: middle;\n",
       "    }\n",
       "\n",
       "    .dataframe tbody tr th {\n",
       "        vertical-align: top;\n",
       "    }\n",
       "\n",
       "    .dataframe thead th {\n",
       "        text-align: right;\n",
       "    }\n",
       "</style>\n",
       "<table border=\"1\" class=\"dataframe\">\n",
       "  <thead>\n",
       "    <tr style=\"text-align: right;\">\n",
       "      <th></th>\n",
       "      <th>Company_Brand</th>\n",
       "      <th>HeadQuarter</th>\n",
       "      <th>Sector</th>\n",
       "      <th>Amount</th>\n",
       "      <th>Stage</th>\n",
       "      <th>Year</th>\n",
       "    </tr>\n",
       "  </thead>\n",
       "  <tbody>\n",
       "    <tr>\n",
       "      <th>1417</th>\n",
       "      <td>Recko</td>\n",
       "      <td>Bangalore</td>\n",
       "      <td>SaaS</td>\n",
       "      <td>6000000.0</td>\n",
       "      <td>Series A</td>\n",
       "      <td>2020</td>\n",
       "    </tr>\n",
       "    <tr>\n",
       "      <th>1718</th>\n",
       "      <td>Legitquest</td>\n",
       "      <td>New Delhi</td>\n",
       "      <td>LegalTech</td>\n",
       "      <td>600000.0</td>\n",
       "      <td>Unknown</td>\n",
       "      <td>2021</td>\n",
       "    </tr>\n",
       "    <tr>\n",
       "      <th>1977</th>\n",
       "      <td>MediBuddy</td>\n",
       "      <td>Bangalore</td>\n",
       "      <td>EdTech</td>\n",
       "      <td>3000000.0</td>\n",
       "      <td>Debt</td>\n",
       "      <td>2021</td>\n",
       "    </tr>\n",
       "    <tr>\n",
       "      <th>166</th>\n",
       "      <td>artbandhu</td>\n",
       "      <td>Bangalore, Karnataka, India</td>\n",
       "      <td>Digital Media, Internet, Media and Entertainme...</td>\n",
       "      <td>15000.0</td>\n",
       "      <td>Pre-Seed</td>\n",
       "      <td>2018</td>\n",
       "    </tr>\n",
       "    <tr>\n",
       "      <th>978</th>\n",
       "      <td>Zomato</td>\n",
       "      <td>Haryana</td>\n",
       "      <td>Food devlivery</td>\n",
       "      <td>100000000.0</td>\n",
       "      <td>Unknown</td>\n",
       "      <td>2020</td>\n",
       "    </tr>\n",
       "    <tr>\n",
       "      <th>4</th>\n",
       "      <td>Eunimart</td>\n",
       "      <td>Hyderabad, Andhra Pradesh, India</td>\n",
       "      <td>E-Commerce Platforms, Retail, SaaS</td>\n",
       "      <td>0.0</td>\n",
       "      <td>Seed</td>\n",
       "      <td>2018</td>\n",
       "    </tr>\n",
       "    <tr>\n",
       "      <th>418</th>\n",
       "      <td>Healthkart</td>\n",
       "      <td>Gurgaon, Haryana, India</td>\n",
       "      <td>E-Commerce, Fitness, Health Care</td>\n",
       "      <td>10000000.0</td>\n",
       "      <td>Venture - Series Unknown</td>\n",
       "      <td>2018</td>\n",
       "    </tr>\n",
       "    <tr>\n",
       "      <th>2324</th>\n",
       "      <td>Saarthi Pedagogy</td>\n",
       "      <td>Ahmadabad</td>\n",
       "      <td>EdTech</td>\n",
       "      <td>0.0</td>\n",
       "      <td>$1000000</td>\n",
       "      <td>2021</td>\n",
       "    </tr>\n",
       "    <tr>\n",
       "      <th>1418</th>\n",
       "      <td>Furlenco</td>\n",
       "      <td>Bangalore</td>\n",
       "      <td>Ecommerce</td>\n",
       "      <td>10000000.0</td>\n",
       "      <td>Unknown</td>\n",
       "      <td>2020</td>\n",
       "    </tr>\n",
       "    <tr>\n",
       "      <th>2133</th>\n",
       "      <td>Droom</td>\n",
       "      <td>Gurugram</td>\n",
       "      <td>Automobile</td>\n",
       "      <td>200000000.0</td>\n",
       "      <td>Unknown</td>\n",
       "      <td>2021</td>\n",
       "    </tr>\n",
       "    <tr>\n",
       "      <th>1985</th>\n",
       "      <td>Swajal</td>\n",
       "      <td>Gurugram</td>\n",
       "      <td>Water purification</td>\n",
       "      <td>1600000.0</td>\n",
       "      <td>Pre-series A</td>\n",
       "      <td>2021</td>\n",
       "    </tr>\n",
       "    <tr>\n",
       "      <th>1381</th>\n",
       "      <td>Box8</td>\n",
       "      <td>Mumbai</td>\n",
       "      <td>Foodtech</td>\n",
       "      <td>4000000.0</td>\n",
       "      <td>Unknown</td>\n",
       "      <td>2020</td>\n",
       "    </tr>\n",
       "    <tr>\n",
       "      <th>1445</th>\n",
       "      <td>Peel Works</td>\n",
       "      <td>Mumbai</td>\n",
       "      <td>SaaS</td>\n",
       "      <td>0.0</td>\n",
       "      <td>Series C, D</td>\n",
       "      <td>2020</td>\n",
       "    </tr>\n",
       "    <tr>\n",
       "      <th>762</th>\n",
       "      <td>LAVAL</td>\n",
       "      <td>Bangalore</td>\n",
       "      <td>Cosmetics</td>\n",
       "      <td>0.0</td>\n",
       "      <td>Pre-series A</td>\n",
       "      <td>2020</td>\n",
       "    </tr>\n",
       "    <tr>\n",
       "      <th>356</th>\n",
       "      <td>Perspectico</td>\n",
       "      <td>New Delhi, Delhi, India</td>\n",
       "      <td>Career Planning, Education, Internet</td>\n",
       "      <td>0.0</td>\n",
       "      <td>Seed</td>\n",
       "      <td>2018</td>\n",
       "    </tr>\n",
       "    <tr>\n",
       "      <th>1406</th>\n",
       "      <td>Zupee</td>\n",
       "      <td>Unknown</td>\n",
       "      <td>Gaming</td>\n",
       "      <td>8000000.0</td>\n",
       "      <td>Series A</td>\n",
       "      <td>2020</td>\n",
       "    </tr>\n",
       "    <tr>\n",
       "      <th>532</th>\n",
       "      <td>Kratikal</td>\n",
       "      <td>Noida</td>\n",
       "      <td>Technology</td>\n",
       "      <td>1000000.0</td>\n",
       "      <td>Pre series A</td>\n",
       "      <td>2019</td>\n",
       "    </tr>\n",
       "    <tr>\n",
       "      <th>2331</th>\n",
       "      <td>Green Cure</td>\n",
       "      <td>New Delhi</td>\n",
       "      <td>HealthCare</td>\n",
       "      <td>0.0</td>\n",
       "      <td>Pre-series A</td>\n",
       "      <td>2021</td>\n",
       "    </tr>\n",
       "    <tr>\n",
       "      <th>1064</th>\n",
       "      <td>i3 Systems</td>\n",
       "      <td>Mumbai</td>\n",
       "      <td>Insurance Tech</td>\n",
       "      <td>1050000.0</td>\n",
       "      <td>Pre-series A</td>\n",
       "      <td>2020</td>\n",
       "    </tr>\n",
       "    <tr>\n",
       "      <th>121</th>\n",
       "      <td>FLEECA</td>\n",
       "      <td>Jaipur, Rajasthan, India</td>\n",
       "      <td>—</td>\n",
       "      <td>0.0</td>\n",
       "      <td>Seed</td>\n",
       "      <td>2018</td>\n",
       "    </tr>\n",
       "  </tbody>\n",
       "</table>\n",
       "</div>"
      ],
      "text/plain": [
       "         Company_Brand                       HeadQuarter  \\\n",
       "1417             Recko                         Bangalore   \n",
       "1718        Legitquest                         New Delhi   \n",
       "1977         MediBuddy                         Bangalore   \n",
       "166          artbandhu       Bangalore, Karnataka, India   \n",
       "978             Zomato                           Haryana   \n",
       "4             Eunimart  Hyderabad, Andhra Pradesh, India   \n",
       "418         Healthkart           Gurgaon, Haryana, India   \n",
       "2324  Saarthi Pedagogy                         Ahmadabad   \n",
       "1418          Furlenco                         Bangalore   \n",
       "2133             Droom                          Gurugram   \n",
       "1985            Swajal                          Gurugram   \n",
       "1381              Box8                            Mumbai   \n",
       "1445        Peel Works                            Mumbai   \n",
       "762              LAVAL                         Bangalore   \n",
       "356        Perspectico           New Delhi, Delhi, India   \n",
       "1406             Zupee                           Unknown   \n",
       "532           Kratikal                             Noida   \n",
       "2331        Green Cure                         New Delhi   \n",
       "1064        i3 Systems                            Mumbai   \n",
       "121             FLEECA          Jaipur, Rajasthan, India   \n",
       "\n",
       "                                                 Sector       Amount  \\\n",
       "1417                                               SaaS    6000000.0   \n",
       "1718                                          LegalTech     600000.0   \n",
       "1977                                             EdTech    3000000.0   \n",
       "166   Digital Media, Internet, Media and Entertainme...      15000.0   \n",
       "978                                      Food devlivery  100000000.0   \n",
       "4                    E-Commerce Platforms, Retail, SaaS          0.0   \n",
       "418                    E-Commerce, Fitness, Health Care   10000000.0   \n",
       "2324                                             EdTech          0.0   \n",
       "1418                                          Ecommerce   10000000.0   \n",
       "2133                                         Automobile  200000000.0   \n",
       "1985                                 Water purification    1600000.0   \n",
       "1381                                           Foodtech    4000000.0   \n",
       "1445                                               SaaS          0.0   \n",
       "762                                           Cosmetics          0.0   \n",
       "356                Career Planning, Education, Internet          0.0   \n",
       "1406                                             Gaming    8000000.0   \n",
       "532                                          Technology    1000000.0   \n",
       "2331                                         HealthCare          0.0   \n",
       "1064                                     Insurance Tech    1050000.0   \n",
       "121                                                   —          0.0   \n",
       "\n",
       "                         Stage  Year  \n",
       "1417                  Series A  2020  \n",
       "1718                   Unknown  2021  \n",
       "1977                      Debt  2021  \n",
       "166                   Pre-Seed  2018  \n",
       "978                    Unknown  2020  \n",
       "4                         Seed  2018  \n",
       "418   Venture - Series Unknown  2018  \n",
       "2324                  $1000000  2021  \n",
       "1418                   Unknown  2020  \n",
       "2133                   Unknown  2021  \n",
       "1985              Pre-series A  2021  \n",
       "1381                   Unknown  2020  \n",
       "1445               Series C, D  2020  \n",
       "762               Pre-series A  2020  \n",
       "356                       Seed  2018  \n",
       "1406                  Series A  2020  \n",
       "532               Pre series A  2019  \n",
       "2331              Pre-series A  2021  \n",
       "1064              Pre-series A  2020  \n",
       "121                       Seed  2018  "
      ]
     },
     "execution_count": 41,
     "metadata": {},
     "output_type": "execute_result"
    }
   ],
   "source": [
    "combinedData.sample(20)"
   ]
  },
  {
   "cell_type": "markdown",
   "metadata": {},
   "source": [
    "To Rename the Amount Column to show currency"
   ]
  },
  {
   "cell_type": "code",
   "execution_count": 42,
   "metadata": {},
   "outputs": [
    {
     "data": {
      "text/html": [
       "<div>\n",
       "<style scoped>\n",
       "    .dataframe tbody tr th:only-of-type {\n",
       "        vertical-align: middle;\n",
       "    }\n",
       "\n",
       "    .dataframe tbody tr th {\n",
       "        vertical-align: top;\n",
       "    }\n",
       "\n",
       "    .dataframe thead th {\n",
       "        text-align: right;\n",
       "    }\n",
       "</style>\n",
       "<table border=\"1\" class=\"dataframe\">\n",
       "  <thead>\n",
       "    <tr style=\"text-align: right;\">\n",
       "      <th></th>\n",
       "      <th>Company_Brand</th>\n",
       "      <th>HeadQuarter</th>\n",
       "      <th>Sector</th>\n",
       "      <th>Amount($)</th>\n",
       "      <th>Stage</th>\n",
       "      <th>Year</th>\n",
       "    </tr>\n",
       "  </thead>\n",
       "  <tbody>\n",
       "    <tr>\n",
       "      <th>0</th>\n",
       "      <td>TheCollegeFever</td>\n",
       "      <td>Bangalore, Karnataka, India</td>\n",
       "      <td>Brand Marketing, Event Promotion, Marketing, S...</td>\n",
       "      <td>250000.0</td>\n",
       "      <td>Seed</td>\n",
       "      <td>2018</td>\n",
       "    </tr>\n",
       "    <tr>\n",
       "      <th>1</th>\n",
       "      <td>Happy Cow Dairy</td>\n",
       "      <td>Mumbai, Maharashtra, India</td>\n",
       "      <td>Agriculture, Farming</td>\n",
       "      <td>NaN</td>\n",
       "      <td>Seed</td>\n",
       "      <td>2018</td>\n",
       "    </tr>\n",
       "    <tr>\n",
       "      <th>2</th>\n",
       "      <td>MyLoanCare</td>\n",
       "      <td>Gurgaon, Haryana, India</td>\n",
       "      <td>Credit, Financial Services, Lending, Marketplace</td>\n",
       "      <td>NaN</td>\n",
       "      <td>Series A</td>\n",
       "      <td>2018</td>\n",
       "    </tr>\n",
       "    <tr>\n",
       "      <th>3</th>\n",
       "      <td>PayMe India</td>\n",
       "      <td>Noida, Uttar Pradesh, India</td>\n",
       "      <td>Financial Services, FinTech</td>\n",
       "      <td>2000000.0</td>\n",
       "      <td>Angel</td>\n",
       "      <td>2018</td>\n",
       "    </tr>\n",
       "    <tr>\n",
       "      <th>4</th>\n",
       "      <td>Eunimart</td>\n",
       "      <td>Hyderabad, Andhra Pradesh, India</td>\n",
       "      <td>E-Commerce Platforms, Retail, SaaS</td>\n",
       "      <td>0.0</td>\n",
       "      <td>Seed</td>\n",
       "      <td>2018</td>\n",
       "    </tr>\n",
       "  </tbody>\n",
       "</table>\n",
       "</div>"
      ],
      "text/plain": [
       "     Company_Brand                       HeadQuarter  \\\n",
       "0  TheCollegeFever       Bangalore, Karnataka, India   \n",
       "1  Happy Cow Dairy        Mumbai, Maharashtra, India   \n",
       "2       MyLoanCare           Gurgaon, Haryana, India   \n",
       "3      PayMe India       Noida, Uttar Pradesh, India   \n",
       "4         Eunimart  Hyderabad, Andhra Pradesh, India   \n",
       "\n",
       "                                              Sector  Amount($)     Stage  \\\n",
       "0  Brand Marketing, Event Promotion, Marketing, S...   250000.0      Seed   \n",
       "1                               Agriculture, Farming        NaN      Seed   \n",
       "2   Credit, Financial Services, Lending, Marketplace        NaN  Series A   \n",
       "3                        Financial Services, FinTech  2000000.0     Angel   \n",
       "4                 E-Commerce Platforms, Retail, SaaS        0.0      Seed   \n",
       "\n",
       "   Year  \n",
       "0  2018  \n",
       "1  2018  \n",
       "2  2018  \n",
       "3  2018  \n",
       "4  2018  "
      ]
     },
     "execution_count": 42,
     "metadata": {},
     "output_type": "execute_result"
    }
   ],
   "source": [
    "combinedData.rename(columns={'Amount':'Amount($)'}, inplace=True)\n",
    "combinedData.head()"
   ]
  },
  {
   "cell_type": "markdown",
   "metadata": {},
   "source": [
    "handle nan values by imputing by 0"
   ]
  },
  {
   "cell_type": "code",
   "execution_count": 43,
   "metadata": {},
   "outputs": [
    {
     "data": {
      "text/plain": [
       "Company_Brand      0\n",
       "HeadQuarter        0\n",
       "Sector             0\n",
       "Amount($)        144\n",
       "Stage              0\n",
       "Year               0\n",
       "dtype: int64"
      ]
     },
     "execution_count": 43,
     "metadata": {},
     "output_type": "execute_result"
    }
   ],
   "source": [
    "combinedData.isna().sum()"
   ]
  },
  {
   "cell_type": "code",
   "execution_count": 44,
   "metadata": {},
   "outputs": [],
   "source": [
    "# Handle missing values\n",
    "combinedData.fillna(0, inplace=True)"
   ]
  },
  {
   "cell_type": "code",
   "execution_count": 45,
   "metadata": {},
   "outputs": [
    {
     "data": {
      "text/plain": [
       "Company_Brand    0\n",
       "HeadQuarter      0\n",
       "Sector           0\n",
       "Amount($)        0\n",
       "Stage            0\n",
       "Year             0\n",
       "dtype: int64"
      ]
     },
     "execution_count": 45,
     "metadata": {},
     "output_type": "execute_result"
    }
   ],
   "source": [
    "combinedData.isna().sum()"
   ]
  },
  {
   "cell_type": "markdown",
   "metadata": {},
   "source": [
    "Categorize the stage"
   ]
  },
  {
   "cell_type": "code",
   "execution_count": 46,
   "metadata": {},
   "outputs": [
    {
     "data": {
      "text/plain": [
       "array(['Seed', 'Series A', 'Angel', 'Series B', 'Pre-Seed',\n",
       "       'Private Equity', 'Venture - Series Unknown', 'Grant',\n",
       "       'Debt Financing', 'Post-IPO Debt', 'Series H', 'Series C',\n",
       "       'Series E', 'Corporate Round', 'Undisclosed',\n",
       "       'https://docs.google.com/spreadsheets/d/1x9ziNeaz6auNChIHnMI8U6kS7knTr3byy_YBGfQaoUA/edit#gid=1861303593',\n",
       "       'Series D', 'Secondary Market', 'Post-IPO Equity',\n",
       "       'Non-equity Assistance', 'Funding Round', 'Unknown',\n",
       "       'Fresh funding', 'Pre series A', 'Series G', 'Post series A',\n",
       "       'Seed funding', 'Seed fund', 'Series F', 'Series B+', 'Seed round',\n",
       "       'Pre-series A', 'Pre-seed', 'Pre-series', 'Debt', 'Pre-series C',\n",
       "       'Pre-series B', 'Bridge', 'Series B2', 'Pre- series A', 'Edge',\n",
       "       'Pre-Series B', 'Seed A', 'Series A-1', 'Seed Funding',\n",
       "       'Pre-seed Round', 'Seed Round & Series A', 'Pre Series A',\n",
       "       'Pre seed Round', 'Angel Round', 'Pre series A1', 'Series E2',\n",
       "       'Seed Round', 'Bridge Round', 'Pre seed round', 'Pre series B',\n",
       "       'Pre series C', 'Seed Investment', 'Series D1', 'Mid series',\n",
       "       'Series C, D', '$1200000', 'Seed+', 'Series F2', 'Series A+',\n",
       "       'Series B3', 'PE', 'Series F1', 'Pre-series A1', '$300000',\n",
       "       'Early seed', '$6000000', '$1000000', 'Seies A', 'Series A2',\n",
       "       'Series I'], dtype=object)"
      ]
     },
     "execution_count": 46,
     "metadata": {},
     "output_type": "execute_result"
    }
   ],
   "source": [
    "combinedData['Stage'].unique()"
   ]
  },
  {
   "cell_type": "code",
   "execution_count": 47,
   "metadata": {},
   "outputs": [],
   "source": [
    "# To handle the speacial strings\n",
    "combinedData['Stage'] = combinedData['Stage'].replace({'https://docs.google.com/spreadsheets/d/1x9ziNeaz6auNChIHnMI8U6kS7knTr3byy_YBGfQaoUA/edit#gid=1861303593':'Unknown'})\n",
    "combinedData['Stage'] =  combinedData['Stage'].fillna('Unknown')"
   ]
  },
  {
   "cell_type": "code",
   "execution_count": 48,
   "metadata": {},
   "outputs": [
    {
     "data": {
      "text/plain": [
       "array(['Seed', 'Series A', 'Angel', 'Series B', 'Pre-Seed',\n",
       "       'Private Equity', 'Venture - Series Unknown', 'Grant',\n",
       "       'Debt Financing', 'Post-IPO Debt', 'Series H', 'Series C',\n",
       "       'Series E', 'Corporate Round', 'Undisclosed', 'Unknown',\n",
       "       'Series D', 'Secondary Market', 'Post-IPO Equity',\n",
       "       'Non-equity Assistance', 'Funding Round', 'Fresh funding',\n",
       "       'Pre series A', 'Series G', 'Post series A', 'Seed funding',\n",
       "       'Seed fund', 'Series F', 'Series B+', 'Seed round', 'Pre-series A',\n",
       "       'Pre-seed', 'Pre-series', 'Debt', 'Pre-series C', 'Pre-series B',\n",
       "       'Bridge', 'Series B2', 'Pre- series A', 'Edge', 'Pre-Series B',\n",
       "       'Seed A', 'Series A-1', 'Seed Funding', 'Pre-seed Round',\n",
       "       'Seed Round & Series A', 'Pre Series A', 'Pre seed Round',\n",
       "       'Angel Round', 'Pre series A1', 'Series E2', 'Seed Round',\n",
       "       'Bridge Round', 'Pre seed round', 'Pre series B', 'Pre series C',\n",
       "       'Seed Investment', 'Series D1', 'Mid series', 'Series C, D',\n",
       "       '$1200000', 'Seed+', 'Series F2', 'Series A+', 'Series B3', 'PE',\n",
       "       'Series F1', 'Pre-series A1', '$300000', 'Early seed', '$6000000',\n",
       "       '$1000000', 'Seies A', 'Series A2', 'Series I'], dtype=object)"
      ]
     },
     "execution_count": 48,
     "metadata": {},
     "output_type": "execute_result"
    }
   ],
   "source": [
    "combinedData['Stage'].unique()"
   ]
  },
  {
   "cell_type": "code",
   "execution_count": 49,
   "metadata": {},
   "outputs": [],
   "source": [
    "def categorize_funding_stage(stage):\n",
    "\n",
    "    pre_Seed = ['Pre Seed','Pre seed round']\n",
    "    seed_stages = ['Seed','Seed funding', 'Seed fund', 'Seed round', 'Seed A', 'Seed Round & Series A', 'Seed Investment', 'Early seed']\n",
    "    pre_series = [ 'Pre series A', 'Pre-series A1', 'Pre Series A', 'Pre series A1', 'Pre-series A1', 'Pre series A', 'Pre series','Pre series B', 'Pre series C']\n",
    "    series = ['Series A', 'Series A 1', 'Series A+', 'Seies A', 'Series A1', 'Series A2','Series B', 'Series B+', 'Series B2', 'Series B3','Series C', 'Series D', 'Series D1', 'Series E', 'Series E2', 'Series F', 'Series F1', 'Series F2', 'Series G', 'Series H', 'Series I']\n",
    "    later_stages = ['Series Unknown','Angel Round' ,'Angel','Corporate Round', 'Funding Round', 'Mid series', 'Bridge', 'Bridge Round', 'Post series A', 'Post-IPO Equity', 'Secondary Market', 'Non-equity Assistance','Fresh funding', 'Grant', 'Undisclosed']\n",
    "    debt = ['Post-IPO Debt','Debt Financing','Debt']\n",
    "    others= ['Unknown', '$1200000', '$300000', '$6000000', '$1000000']\n",
    " \n",
    "    if stage in pre_Seed:\n",
    "        return 'Pre Seed Stage'\n",
    "    elif stage in seed_stages:\n",
    "        return 'Seed Stage'\n",
    "    elif stage in pre_series:\n",
    "        return 'Pre Series Stage'\n",
    "    elif stage in series:\n",
    "        return 'Series Stage'\n",
    "    elif stage in later_stages:\n",
    "        return 'Later Stage'\n",
    "    elif stage in debt:\n",
    "        return 'Debt Stage'\n",
    "    else:\n",
    "        return 'Others'\n",
    "\n",
    "# Apply the function to the 'Stage' column\n",
    "combinedData['Stage'] = combinedData['Stage'].apply(categorize_funding_stage)"
   ]
  },
  {
   "cell_type": "code",
   "execution_count": 50,
   "metadata": {},
   "outputs": [
    {
     "data": {
      "text/html": [
       "<div>\n",
       "<style scoped>\n",
       "    .dataframe tbody tr th:only-of-type {\n",
       "        vertical-align: middle;\n",
       "    }\n",
       "\n",
       "    .dataframe tbody tr th {\n",
       "        vertical-align: top;\n",
       "    }\n",
       "\n",
       "    .dataframe thead th {\n",
       "        text-align: right;\n",
       "    }\n",
       "</style>\n",
       "<table border=\"1\" class=\"dataframe\">\n",
       "  <thead>\n",
       "    <tr style=\"text-align: right;\">\n",
       "      <th></th>\n",
       "      <th>Company_Brand</th>\n",
       "      <th>HeadQuarter</th>\n",
       "      <th>Sector</th>\n",
       "      <th>Amount($)</th>\n",
       "      <th>Stage</th>\n",
       "      <th>Year</th>\n",
       "    </tr>\n",
       "  </thead>\n",
       "  <tbody>\n",
       "    <tr>\n",
       "      <th>2438</th>\n",
       "      <td>AMPM</td>\n",
       "      <td>Gurugram</td>\n",
       "      <td>E-commerce</td>\n",
       "      <td>200000.0</td>\n",
       "      <td>Others</td>\n",
       "      <td>2021</td>\n",
       "    </tr>\n",
       "    <tr>\n",
       "      <th>867</th>\n",
       "      <td>Fleetx</td>\n",
       "      <td>Gurugram</td>\n",
       "      <td>Tech Startup</td>\n",
       "      <td>3000000.0</td>\n",
       "      <td>Others</td>\n",
       "      <td>2020</td>\n",
       "    </tr>\n",
       "    <tr>\n",
       "      <th>1102</th>\n",
       "      <td>TrulyMadly Matchmakers</td>\n",
       "      <td>Gurugram</td>\n",
       "      <td>Dating app</td>\n",
       "      <td>110000.0</td>\n",
       "      <td>Others</td>\n",
       "      <td>2020</td>\n",
       "    </tr>\n",
       "    <tr>\n",
       "      <th>191</th>\n",
       "      <td>Shape (School Health and Physical Education)</td>\n",
       "      <td>Pune, Maharashtra, India</td>\n",
       "      <td>Education</td>\n",
       "      <td>200000.0</td>\n",
       "      <td>Seed Stage</td>\n",
       "      <td>2018</td>\n",
       "    </tr>\n",
       "    <tr>\n",
       "      <th>339</th>\n",
       "      <td>OPEN</td>\n",
       "      <td>Bangalore, Karnataka, India</td>\n",
       "      <td>Banking</td>\n",
       "      <td>0.0</td>\n",
       "      <td>Seed Stage</td>\n",
       "      <td>2018</td>\n",
       "    </tr>\n",
       "  </tbody>\n",
       "</table>\n",
       "</div>"
      ],
      "text/plain": [
       "                                     Company_Brand  \\\n",
       "2438                                          AMPM   \n",
       "867                                         Fleetx   \n",
       "1102                        TrulyMadly Matchmakers   \n",
       "191   Shape (School Health and Physical Education)   \n",
       "339                                           OPEN   \n",
       "\n",
       "                      HeadQuarter        Sector  Amount($)       Stage  Year  \n",
       "2438                     Gurugram    E-commerce   200000.0      Others  2021  \n",
       "867                      Gurugram  Tech Startup  3000000.0      Others  2020  \n",
       "1102                     Gurugram    Dating app   110000.0      Others  2020  \n",
       "191      Pune, Maharashtra, India     Education   200000.0  Seed Stage  2018  \n",
       "339   Bangalore, Karnataka, India       Banking        0.0  Seed Stage  2018  "
      ]
     },
     "execution_count": 50,
     "metadata": {},
     "output_type": "execute_result"
    }
   ],
   "source": [
    "# test my function\n",
    "combinedData.sample(5)"
   ]
  },
  {
   "cell_type": "code",
   "execution_count": 51,
   "metadata": {},
   "outputs": [
    {
     "data": {
      "text/plain": [
       "array(['Seed Stage', 'Series Stage', 'Later Stage', 'Others',\n",
       "       'Debt Stage', 'Pre Series Stage', 'Pre Seed Stage'], dtype=object)"
      ]
     },
     "execution_count": 51,
     "metadata": {},
     "output_type": "execute_result"
    }
   ],
   "source": [
    "combinedData['Stage'].unique()"
   ]
  },
  {
   "cell_type": "code",
   "execution_count": 52,
   "metadata": {},
   "outputs": [],
   "source": [
    "# To clean the 'HeadQuarter' Column\n",
    "# Split the strings from the comma(,) then return the first index of the string \n",
    "\n",
    "combinedData['HeadQuarter'] = (combinedData['HeadQuarter'].str.split(',').str[0])\n"
   ]
  },
  {
   "cell_type": "code",
   "execution_count": 53,
   "metadata": {},
   "outputs": [
    {
     "data": {
      "text/plain": [
       "array(['Bangalore', 'Mumbai', 'Gurgaon', 'Noida', 'Hyderabad',\n",
       "       'Bengaluru', 'Kalkaji', 'Delhi', 'India', 'Hubli', 'New Delhi',\n",
       "       'Chennai', 'Mohali', 'Kolkata', 'Pune', 'Jodhpur', 'Kanpur',\n",
       "       'Ahmedabad', 'Azadpur', 'Haryana', 'Cochin', 'Faridabad', 'Jaipur',\n",
       "       'Kota', 'Anand', 'Bangalore City', 'Belgaum', 'Thane', 'Margão',\n",
       "       'Indore', 'Alwar', 'Kannur', 'Trivandrum', 'Ernakulam',\n",
       "       'Kormangala', 'Uttar Pradesh', 'Andheri', 'Mylapore', 'Ghaziabad',\n",
       "       'Kochi', 'Powai', 'Guntur', 'Kalpakkam', 'Bhopal', 'Coimbatore',\n",
       "       'Worli', 'Alleppey', 'Chandigarh', 'Guindy', 'Lucknow', 'Unknown',\n",
       "       'Telangana', 'Gurugram', 'Surat', 'Uttar pradesh', 'Rajasthan',\n",
       "       'Tirunelveli', 'Singapore', 'Gujarat', 'Kerala', 'Frisco',\n",
       "       'California', 'Dhingsara', 'New York', 'Patna', 'San Francisco',\n",
       "       'San Ramon', 'Paris', 'Plano', 'Sydney', 'San Francisco Bay Area',\n",
       "       'Bangaldesh', 'London', 'Milano', 'Palmwoods', 'France',\n",
       "       'Samastipur', 'Irvine', 'Tumkur', 'Newcastle Upon Tyne',\n",
       "       'Shanghai', 'Jiaxing', 'Rajastan', 'Ludhiana', 'Dehradun',\n",
       "       'San Franciscao', 'Tangerang', 'Berlin', 'Seattle', 'Riyadh',\n",
       "       'Seoul', 'Bangkok', 'Warangal', 'Hyderebad', 'Odisha', 'Bihar',\n",
       "       'Goa', 'Tamil Nadu', 'Banglore', 'Ahmadabad', 'Small Towns',\n",
       "       'Rajsamand', 'Ranchi', 'Computer Games', 'Vadodara',\n",
       "       'Food & Beverages', 'Pharmaceuticals\\t#REF!', 'Gurugram\\t#REF!',\n",
       "       'Nagpur', 'West Bengal', 'Samsitpur', 'Silvassa',\n",
       "       'Thiruvananthapuram', 'Roorkee', 'Ambernath', 'Panchkula',\n",
       "       'Mangalore', 'Telugana', 'Bhubaneswar', 'Kottayam', 'Beijing',\n",
       "       'Panaji', 'Satara', 'Orissia', 'Santra', 'Mountain View',\n",
       "       'Jharkhand', 'Bhilwara', 'Guwahati', 'Online Media\\t#REF!',\n",
       "       'Information Technology & Services', 'The Nilgiris', 'Gandhinagar'],\n",
       "      dtype=object)"
      ]
     },
     "execution_count": 53,
     "metadata": {},
     "output_type": "execute_result"
    }
   ],
   "source": [
    "combinedData['HeadQuarter'].unique()"
   ]
  },
  {
   "cell_type": "code",
   "execution_count": 54,
   "metadata": {},
   "outputs": [],
   "source": [
    "\n",
    "# Function to categorize sectors\n",
    "def categorize_sector(sector):\n",
    "    # Mapping of sectors to categories\n",
    "    sector_categories = {\n",
    "        'Marketing': ['Brand Marketing', 'Event Promotion', 'Marketing', 'Sponsorship', 'Ticketing'],\n",
    "        'Agriculture': ['Agriculture', 'Farming'],\n",
    "        'Technology': ['E-Commerce', 'Internet', 'Apps', 'SaaS', 'Information Technology', 'Blockchain', 'Developer Tools'],\n",
    "        'Healthcare': ['Health Care', 'Medical', 'Biotechnology', 'Pharmaceutical'],\n",
    "        'Automotive': ['Automotive', 'Electric Vehicle', 'Autonomous Vehicles'],\n",
    "        'Logistics': ['Logistics', 'Supply Chain Management', 'Transportation'],\n",
    "        'Education': ['EdTech', 'Education', 'E-Learning', 'Higher Education'],\n",
    "        'Food and Beverage': ['Food and Beverage', 'Food Delivery', 'Food Processing'],\n",
    "        'Energy': ['Renewable Energy', 'Clean Energy', 'Solar', 'Energy Storage'],\n",
    "        'Fashion': ['Fashion', 'Lifestyle'],\n",
    "        'Real Estate': ['Real Estate'],\n",
    "        'Finance': ['Finance', 'Financial Services', 'FinTech', 'Venture Capital', 'Payments', 'Wealth Management', 'Credit', 'Financial Services', 'Lending', 'Marketplace', 'Insurance', 'Payments'],\n",
    "        'Media and Entertainment': ['Media and Entertainment', 'Broadcasting', 'Music', 'Video Streaming'],\n",
    "    }\n",
    "\n",
    "    # Iterate through categories and check if the sector belongs to any category\n",
    "    for category, keywords in sector_categories.items():\n",
    "        if any(keyword.lower() in sector.lower() for keyword in keywords):\n",
    "            return category\n",
    "\n",
    "    # If no category is matched, return 'Other'\n",
    "    # return 'Other Category'\n",
    "\n",
    "# Apply the function to the 'Sector' column\n",
    "combinedData['Sector'] = combinedData['Sector'].apply(categorize_sector)"
   ]
  },
  {
   "cell_type": "code",
   "execution_count": 55,
   "metadata": {},
   "outputs": [
    {
     "data": {
      "text/html": [
       "<div>\n",
       "<style scoped>\n",
       "    .dataframe tbody tr th:only-of-type {\n",
       "        vertical-align: middle;\n",
       "    }\n",
       "\n",
       "    .dataframe tbody tr th {\n",
       "        vertical-align: top;\n",
       "    }\n",
       "\n",
       "    .dataframe thead th {\n",
       "        text-align: right;\n",
       "    }\n",
       "</style>\n",
       "<table border=\"1\" class=\"dataframe\">\n",
       "  <thead>\n",
       "    <tr style=\"text-align: right;\">\n",
       "      <th></th>\n",
       "      <th>Company_Brand</th>\n",
       "      <th>HeadQuarter</th>\n",
       "      <th>Sector</th>\n",
       "      <th>Amount($)</th>\n",
       "      <th>Stage</th>\n",
       "      <th>Year</th>\n",
       "    </tr>\n",
       "  </thead>\n",
       "  <tbody>\n",
       "    <tr>\n",
       "      <th>0</th>\n",
       "      <td>TheCollegeFever</td>\n",
       "      <td>Bangalore</td>\n",
       "      <td>Marketing</td>\n",
       "      <td>250000.0</td>\n",
       "      <td>Seed Stage</td>\n",
       "      <td>2018</td>\n",
       "    </tr>\n",
       "  </tbody>\n",
       "</table>\n",
       "</div>"
      ],
      "text/plain": [
       "     Company_Brand HeadQuarter     Sector  Amount($)       Stage  Year\n",
       "0  TheCollegeFever   Bangalore  Marketing   250000.0  Seed Stage  2018"
      ]
     },
     "execution_count": 55,
     "metadata": {},
     "output_type": "execute_result"
    }
   ],
   "source": [
    "# peak the cleaned data\n",
    "combinedData.head(1)"
   ]
  },
  {
   "cell_type": "markdown",
   "metadata": {},
   "source": [
    "\n",
    "Exploratory Data Analysis (EDA)"
   ]
  },
  {
   "cell_type": "markdown",
   "metadata": {},
   "source": [
    "Visualize Data"
   ]
  },
  {
   "cell_type": "markdown",
   "metadata": {},
   "source": [
    "1. What is the distribution of funding across various investment stages"
   ]
  },
  {
   "cell_type": "code",
   "execution_count": 56,
   "metadata": {},
   "outputs": [
    {
     "data": {
      "image/png": "[encoded data removed]",
      "text/plain": [
       "<Figure size 640x480 with 1 Axes>"
      ]
     },
     "metadata": {},
     "output_type": "display_data"
    }
   ],
   "source": [
    "# Visualize information using a pie chart.\n",
    "Stages = combinedData.groupby('Stage')['Amount($)'].sum().nlargest(3)\n",
    "\n",
    "Stages.plot(kind='pie', autopct='%1.0f%%')\n",
    "plt.ylabel('Stages')\n",
    "plt.title('Top 3 Funding Stages')\n",
    "plt.show()"
   ]
  },
  {
   "cell_type": "markdown",
   "metadata": {},
   "source": [
    "2. What are the top 5 dominant sectors among startups "
   ]
  },
  {
   "cell_type": "code",
   "execution_count": 57,
   "metadata": {},
   "outputs": [
    {
     "data": {
      "image/png": "[encoded data removed]",
      "text/plain": [
       "<Figure size 1000x600 with 1 Axes>"
      ]
     },
     "metadata": {},
     "output_type": "display_data"
    }
   ],
   "source": [
    "\n",
    "combinedData['Sector'] = combinedData['Sector'].str.capitalize()\n",
    "tp_5_sectors = combinedData['Sector'].value_counts().head(5)\n",
    "\n",
    "# Define different colors for each bar\n",
    "colors = ['orange', 'blue', 'green', 'red', 'purple']\n",
    "\n",
    "# Create a bar chart with values on each bar\n",
    "plt.figure(figsize=(10, 6))\n",
    "bars = plt.bar(tp_5_sectors.index, tp_5_sectors, color=colors)\n",
    "\n",
    "# Add values on each bar\n",
    "for bar, value in zip(bars, tp_5_sectors):\n",
    "    plt.text(bar.get_x() + bar.get_width() / 2 - 0.1,\n",
    "    bar.get_height() + 0.1, str(value) + ' startUps',\n",
    "    ha='center', \n",
    "    color='black', \n",
    "    fontweight='bold' )\n",
    "\n",
    "plt.xlabel('Sector', loc='center')\n",
    "plt.ylabel('Frequency')\n",
    "plt.title('Top 5 Dominant Sectors in India with more Startups')\n",
    "plt.show()"
   ]
  },
  {
   "cell_type": "markdown",
   "metadata": {},
   "source": [
    "3. What are the cities that have attracted the most funding"
   ]
  },
  {
   "cell_type": "code",
   "execution_count": 58,
   "metadata": {},
   "outputs": [
    {
     "data": {
      "image/png": "[encoded data removed]",
      "text/plain": [
       "<Figure size 1000x600 with 1 Axes>"
      ]
     },
     "metadata": {},
     "output_type": "display_data"
    }
   ],
   "source": [
    "Top_Funded_cities = combinedData.groupby(['HeadQuarter'])['Amount($)'].sum().nlargest(5)\n",
    "\n",
    "# Create a bar chart with values on each bar\n",
    "plt.figure(figsize=(10, 6))\n",
    "bars = plt.bar(Top_Funded_cities.index, Top_Funded_cities, color=colors)\n",
    "\n",
    "# Add values on each bar with 'M', 'B', or no suffix\n",
    "for bar, value in zip(bars, Top_Funded_cities):\n",
    "    if value == 1000:\n",
    "        text_value = '1000'\n",
    "    else:\n",
    "        text_value = (\n",
    "            f'{value / 1e9:.1f}B' if value >= 1e9 else\n",
    "            f'{value / 1e6:.1f}M' if value >= 1e6 else\n",
    "            f'{value / 1e3:.1f}K' if value >= 1e3 else\n",
    "            f'{value}'\n",
    "        )\n",
    "\n",
    "    plt.text(\n",
    "        bar.get_x() + bar.get_width() / 2 - 0.1,\n",
    "        bar.get_height() + 0.1,\n",
    "        text_value,\n",
    "        ha='center',\n",
    "        color='black',\n",
    "        fontweight='bold'\n",
    "    )\n",
    "\n",
    "# Format y-axis ticks in billions and millions\n",
    "formatter = FuncFormatter(lambda x, _: f'{\"%.0fB\" % (x / 1e9) if x >= 1e9 else \"%.0fM\" % (x / 1e6) if x >= 1e6 else \"%.0fK\" % (x / 1e3) if x >= 1e3 else x}')\n",
    "plt.gca().yaxis.set_major_formatter(formatter)\n",
    "\n",
    "plt.xlabel('Headquarters', loc='center')\n",
    "plt.ylabel('Funding Amount')\n",
    "plt.title('Dominant Headquarters in India Startups')\n",
    "\n",
    "plt.show()\n"
   ]
  },
  {
   "cell_type": "markdown",
   "metadata": {},
   "source": [
    "4. What is the distribution of funding across the four years"
   ]
  },
  {
   "cell_type": "code",
   "execution_count": 70,
   "metadata": {},
   "outputs": [
    {
     "data": {
      "image/png": "[encoded data removed]",
      "text/plain": [
       "<Figure size 1000x600 with 1 Axes>"
      ]
     },
     "metadata": {},
     "output_type": "display_data"
    }
   ],
   "source": [
    "\n",
    "# Group by year and sum the funding amounts\n",
    "year_funds = combinedData.groupby(['Year'])['Amount($)'].sum()\n",
    "\n",
    "# Define different colors for each bar\n",
    "colors = ['orange', 'blue', 'green', 'red', 'purple']\n",
    "\n",
    "# Create a bar chart with values on each bar\n",
    "plt.figure(figsize=(10, 6), dpi=100)\n",
    "bars = plt.bar(year_funds.index, year_funds, color=colors)\n",
    "\n",
    "# Add values on each bar with 'M', 'B', or no suffix\n",
    "for bar, value in zip(bars, year_funds):\n",
    "    if value == 1000:\n",
    "        text_value = '1000'\n",
    "    else:\n",
    "        text_value = (\n",
    "            f'{value / 1e9:.1f}B' if value >= 1e9 else\n",
    "            f'{value / 1e6:.1f}M' if value >= 1e6 else\n",
    "            f'{value / 1e3:.1f}K' if value >= 1e3 else\n",
    "            f'{value}'\n",
    "        )\n",
    "\n",
    "    plt.text(\n",
    "        bar.get_x() + bar.get_width() / 2 - 0.1,\n",
    "        bar.get_height() + 0.1,\n",
    "        text_value,\n",
    "        ha='center',\n",
    "        color='black',\n",
    "        fontweight='bold'\n",
    "    )\n",
    "\n",
    "# Format y-axis ticks in billions and millions\n",
    "formatter = FuncFormatter(lambda x, _: f'{\"%.0fB\" % (x / 1e9) if x >= 1e9 else \"%.0fM\" % (x / 1e6) if x >= 1e6 else \"%.0fK\" % (x / 1e3) if x >= 1e3 else x}')\n",
    "plt.gca().yaxis.set_major_formatter(formatter)\n",
    "\n",
    "plt.xlabel('Year')\n",
    "plt.ylabel('Amount($)')\n",
    "plt.title('funding across the four years 2018-2021')\n",
    "plt.show()\n"
   ]
  },
  {
   "cell_type": "markdown",
   "metadata": {},
   "source": [
    " 5. What is the distribution of the number of companies that received funding in each year from 2018 to 2021?\n"
   ]
  },
  {
   "cell_type": "code",
   "execution_count": 87,
   "metadata": {},
   "outputs": [
    {
     "data": {
      "image/png": "[encoded data removed]",
      "text/plain": [
       "<Figure size 1000x600 with 1 Axes>"
      ]
     },
     "metadata": {},
     "output_type": "display_data"
    }
   ],
   "source": [
    "\n",
    "# Count the number of startups in each year\n",
    "startups_count = combinedData.groupby(['Year'])['Company_Brand'].count().reset_index()\n",
    "\n",
    "# Create a bar chart with values on each bar\n",
    "plt.figure(figsize=(10, 6))\n",
    "ax = sns.barplot(y=startups_count['Company_Brand'], x=startups_count['Year'], palette=colors)\n",
    "\n",
    "# Add count values on top of each bar\n",
    "for bar, count in zip(ax.patches, startups_count['Company_Brand']):\n",
    "    plt.text(\n",
    "        bar.get_x() + bar.get_width() / 2 - 0.1 ,\n",
    "        bar.get_height() + 0.1,\n",
    "        f'{count}' + ' startups',\n",
    "        ha='center',\n",
    "        color='black',\n",
    "        fontweight='bold'\n",
    "    )\n",
    "\n",
    "plt.title('Total Startups Received Funding Each Year')\n",
    "plt.xlabel('Year')\n",
    "plt.ylabel('Number of Startups')\n",
    "plt.show()\n"
   ]
  },
  {
   "cell_type": "markdown",
   "metadata": {},
   "source": [
    "Conclusion"
   ]
  },
  {
   "cell_type": "markdown",
   "metadata": {},
   "source": [
    "The analysis suggests a dynamic and growing startup ecosystem, with a diverse range of sectors attracting substantial funding. The concentration of funding in specific cities, such as Mumbai, Bangalore, and Gurugram, highlights the importance of geographical factors in the startup landscape. The upward trend in funding over the years, particularly the significant increase in 2021, indicates a robust and expanding startup ecosystem. However, it's essential to consider external factors and market conditions that may influence funding trends. The findings provide valuable insights for investors interested in the startup ecosystem in India Startups."
   ]
  }
 ],
 "metadata": {
  "kernelspec": {
   "display_name": "Python 3",
   "language": "python",
   "name": "python3"
  },
  "language_info": {
   "codemirror_mode": {
    "name": "ipython",
    "version": 3
   },
   "file_extension": ".py",
   "mimetype": "text/x-python",
   "name": "python",
   "nbconvert_exporter": "python",
   "pygments_lexer": "ipython3",
   "version": "3.11.6"
  }
 },
 "nbformat": 4,
 "nbformat_minor": 2
}
