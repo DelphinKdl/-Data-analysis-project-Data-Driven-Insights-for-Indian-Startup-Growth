{
 "cells": [
  {
   "cell_type": "markdown",
   "metadata": {},
   "source": [
    "## Analysis of Funding Received by Start-ups in India from 2018 to 2021\n",
    "\n",
    "## 1. Business Understanding\n",
    "\n",
    "     1.1 Project Description\n",
    "\n",
    "This is analysis project focuses on the funding received by start-ups in India from 2018 to 2021. The objective is to gain insights into the Indian start-up ecosystem and recommend the best course of action for our team's venture. By analyzing the data on funding amounts, start-up details, and investor information, we aim to uncover prevailing patterns and gain insights into the opportunities within India's start-up ecosystem to inform decision-making.\n",
    "\n",
    "     1.2 Type of Problem\n",
    "\n",
    "This project involves exploratory data analysis (EDA) and visualization. Our goal is to deduce hidden insights and patterns from the available data.\n"
   ]
  },
  {
   "cell_type": "markdown",
   "metadata": {},
   "source": [
    "## 2. Data Understanding\n",
    "\n",
    "We have collected data from various startups in India spanning the years 2018 to 2021, including information on the amounts they received in funding. By analyzing this data, we aim to gain a deeper insight into the startup ecosystem and identify the key contributing factors.\n"
   ]
  },
  {
   "cell_type": "markdown",
   "metadata": {},
   "source": [
    "## 3. Data Assumptions\n",
    "\n",
    "The amounts in the 2019 dataset are all in USD. Please note that the exchange rate for 2018 is \\***\\*1 USD = 70 INR**.\n"
   ]
  },
  {
   "cell_type": "markdown",
   "metadata": {},
   "source": [
    "## 4. Data Analytics questions and Hypthesis\n"
   ]
  },
  {
   "cell_type": "markdown",
   "metadata": {},
   "source": [
    "    5 SMART Analytics Questions:\n",
    "\n",
    "1.  What is the overall trend in funding received by start-ups in India from 2018 to 2021?\n",
    "2.  Which sectors have received the highest funding during this period?\n",
    "3.  What is the distribution of startups across the cities in India?\n",
    "4.  What is the average funding amount received by start-ups in India during this period?\n",
    "5.  Hypotheses\n",
    "\n",
    "    Hypothesis 1\n",
    "\n",
    "**Null Hypothesis (H₀):** There are no significant disparities in funding received by different sectors of Indian startups.\n",
    "\n",
    "**Alternate Hypothesis (Ha):** The technology sector receives significantly higher funding compared to other industries.\n",
    "\n",
    "    Hypothesis 2\n",
    "\n",
    "**Null Hypothesis (H₀):** The location of a startup in a particular city does not influence the amount of funding it receives.\n",
    "\n",
    "**Alternate Hypothesis (Ha):** The location of a startup in a particular city significantly affects the amount of funding it receives.\n",
    "\n",
    "    Hypotheses justifications\n",
    "\n",
    "**Hypothesis 1:** The technology sector is often seen as a high-growth area with substantial investment potential, which may lead to higher funding.\n",
    "\n",
    "**Hypothesis 2:** Certain cities might have more developed startup ecosystems, better infrastructure, and more active investment communities, which could impact funding amounts.\n",
    "\n",
    "    Testing Methods\n",
    "\n",
    "**For Hypothesis 1:** We will use statistical tests like t-tests to compare the average funding amounts across different sectors.\n",
    "\n",
    "**For Hypothesis 2:** We will use statistical tests such regression analysis to analyze the funding amounts across different cities.\n"
   ]
  },
  {
   "cell_type": "markdown",
   "metadata": {},
   "source": [
    "## 5. Data preparation\n"
   ]
  },
  {
   "cell_type": "markdown",
   "metadata": {},
   "source": [
    "    5.1 Importing libraries\n"
   ]
  },
  {
   "cell_type": "code",
   "execution_count": 1,
   "metadata": {},
   "outputs": [],
   "source": [
    "\n",
    "import os, sys\n",
    "from sqlalchemy import create_engine\n",
    "import pyodbc # Database Connectivity with  Open Database Connectivity (pyodbc)\n",
    "from dotenv import dotenv_values # dotenv library to load environment variables\n",
    "\n",
    "# Lib for data manipulation  analysis  \n",
    "import pandas as pd\n",
    "import numpy as np\n",
    "import sklearn\n",
    "\n",
    "from sklearn.impute import SimpleImputer\n",
    "\n",
    "# lib for Vizualization\n",
    "import matplotlib.pyplot as plt\n",
    "import seaborn as sns\n",
    "from scipy.stats import f_oneway\n",
    "from scipy import stats\n",
    "from prettytable import PrettyTable\n",
    "# from matplotlib.ticker import FuncFormatter\n",
    "\n",
    "import warnings\n",
    "warnings.filterwarnings('ignore')"
   ]
  },
  {
   "cell_type": "markdown",
   "metadata": {},
   "source": [
    "    5.2 Loading datasets\n"
   ]
  },
  {
   "cell_type": "code",
   "execution_count": 2,
   "metadata": {},
   "outputs": [],
   "source": [
    "# Load environment variables from .env file \n",
    "\n",
    "environment_variables=dotenv_values('.env')\n",
    "# Access login credentials from  the '.env' file\n",
    "server = environment_variables.get(\"SERVER\")\n",
    "database = environment_variables.get(\"DATABASE\")\n",
    "username = environment_variables.get(\"UID\")\n",
    "password = environment_variables.get(\"PWD\")"
   ]
  },
  {
   "cell_type": "code",
   "execution_count": 3,
   "metadata": {},
   "outputs": [],
   "source": [
    "#  Credection Connection tesr\n",
    "connection = f\"DRIVER={{SQL Server}};SERVER={server};DATABASE={database};UID={username};PWD={password}\"\n"
   ]
  },
  {
   "cell_type": "code",
   "execution_count": 4,
   "metadata": {},
   "outputs": [],
   "source": [
    "# connect to the server .\n",
    "\n",
    "con = pyodbc.connect(connection)"
   ]
  },
  {
   "cell_type": "code",
   "execution_count": 5,
   "metadata": {},
   "outputs": [],
   "source": [
    "# Load the dataset SQL query\n",
    "query1 = \"Select * from dbo.LP1_startup_funding2020\"\n",
    "query2 = \"Select * from dbo.LP1_startup_funding2021\"\n",
    "\n",
    "# Read data from the  on dataset to the dataframe \n",
    "data_2018 = pd.read_csv('dataset\\startup_funding2018.csv')\n",
    "data_2019 = pd.read_csv('dataset\\startup_funding2019.csv')\n",
    "data_2020 = pd.read_sql(query1, con)\n",
    "data_2021 = pd.read_sql(query2, con)"
   ]
  },
  {
   "cell_type": "markdown",
   "metadata": {},
   "source": [
    "    5.2.1 Data Overview\n"
   ]
  },
  {
   "cell_type": "code",
   "execution_count": 6,
   "metadata": {},
   "outputs": [
    {
     "data": {
      "text/html": [
       "<div>\n",
       "<style scoped>\n",
       "    .dataframe tbody tr th:only-of-type {\n",
       "        vertical-align: middle;\n",
       "    }\n",
       "\n",
       "    .dataframe tbody tr th {\n",
       "        vertical-align: top;\n",
       "    }\n",
       "\n",
       "    .dataframe thead th {\n",
       "        text-align: right;\n",
       "    }\n",
       "</style>\n",
       "<table border=\"1\" class=\"dataframe\">\n",
       "  <thead>\n",
       "    <tr style=\"text-align: right;\">\n",
       "      <th></th>\n",
       "      <th>Company Name</th>\n",
       "      <th>Industry</th>\n",
       "      <th>Round/Series</th>\n",
       "      <th>Amount</th>\n",
       "      <th>Location</th>\n",
       "      <th>About Company</th>\n",
       "    </tr>\n",
       "  </thead>\n",
       "  <tbody>\n",
       "    <tr>\n",
       "      <th>0</th>\n",
       "      <td>TheCollegeFever</td>\n",
       "      <td>Brand Marketing, Event Promotion, Marketing, S...</td>\n",
       "      <td>Seed</td>\n",
       "      <td>250000</td>\n",
       "      <td>Bangalore, Karnataka, India</td>\n",
       "      <td>TheCollegeFever is a hub for fun, fiesta and f...</td>\n",
       "    </tr>\n",
       "    <tr>\n",
       "      <th>1</th>\n",
       "      <td>Happy Cow Dairy</td>\n",
       "      <td>Agriculture, Farming</td>\n",
       "      <td>Seed</td>\n",
       "      <td>₹40,000,000</td>\n",
       "      <td>Mumbai, Maharashtra, India</td>\n",
       "      <td>A startup which aggregates milk from dairy far...</td>\n",
       "    </tr>\n",
       "    <tr>\n",
       "      <th>2</th>\n",
       "      <td>MyLoanCare</td>\n",
       "      <td>Credit, Financial Services, Lending, Marketplace</td>\n",
       "      <td>Series A</td>\n",
       "      <td>₹65,000,000</td>\n",
       "      <td>Gurgaon, Haryana, India</td>\n",
       "      <td>Leading Online Loans Marketplace in India</td>\n",
       "    </tr>\n",
       "  </tbody>\n",
       "</table>\n",
       "</div>"
      ],
      "text/plain": [
       "      Company Name                                           Industry  \\\n",
       "0  TheCollegeFever  Brand Marketing, Event Promotion, Marketing, S...   \n",
       "1  Happy Cow Dairy                               Agriculture, Farming   \n",
       "2       MyLoanCare   Credit, Financial Services, Lending, Marketplace   \n",
       "\n",
       "  Round/Series       Amount                     Location  \\\n",
       "0         Seed       250000  Bangalore, Karnataka, India   \n",
       "1         Seed  ₹40,000,000   Mumbai, Maharashtra, India   \n",
       "2     Series A  ₹65,000,000      Gurgaon, Haryana, India   \n",
       "\n",
       "                                       About Company  \n",
       "0  TheCollegeFever is a hub for fun, fiesta and f...  \n",
       "1  A startup which aggregates milk from dairy far...  \n",
       "2          Leading Online Loans Marketplace in India  "
      ]
     },
     "execution_count": 6,
     "metadata": {},
     "output_type": "execute_result"
    }
   ],
   "source": [
    "# 2018 dataset \n",
    "data_2018.head(3)"
   ]
  },
  {
   "cell_type": "markdown",
   "metadata": {},
   "source": [
    "let have a data Overview by help of data wrangler\n"
   ]
  },
  {
   "cell_type": "code",
   "execution_count": 7,
   "metadata": {},
   "outputs": [
    {
     "data": {
      "text/html": [
       "<div>\n",
       "<style scoped>\n",
       "    .dataframe tbody tr th:only-of-type {\n",
       "        vertical-align: middle;\n",
       "    }\n",
       "\n",
       "    .dataframe tbody tr th {\n",
       "        vertical-align: top;\n",
       "    }\n",
       "\n",
       "    .dataframe thead th {\n",
       "        text-align: right;\n",
       "    }\n",
       "</style>\n",
       "<table border=\"1\" class=\"dataframe\">\n",
       "  <thead>\n",
       "    <tr style=\"text-align: right;\">\n",
       "      <th></th>\n",
       "      <th>Company/Brand</th>\n",
       "      <th>Founded</th>\n",
       "      <th>HeadQuarter</th>\n",
       "      <th>Sector</th>\n",
       "      <th>What it does</th>\n",
       "      <th>Founders</th>\n",
       "      <th>Investor</th>\n",
       "      <th>Amount($)</th>\n",
       "      <th>Stage</th>\n",
       "    </tr>\n",
       "  </thead>\n",
       "  <tbody>\n",
       "    <tr>\n",
       "      <th>0</th>\n",
       "      <td>Bombay Shaving</td>\n",
       "      <td>NaN</td>\n",
       "      <td>NaN</td>\n",
       "      <td>Ecommerce</td>\n",
       "      <td>Provides a range of male grooming products</td>\n",
       "      <td>Shantanu Deshpande</td>\n",
       "      <td>Sixth Sense Ventures</td>\n",
       "      <td>$6,300,000</td>\n",
       "      <td>NaN</td>\n",
       "    </tr>\n",
       "    <tr>\n",
       "      <th>1</th>\n",
       "      <td>Ruangguru</td>\n",
       "      <td>2014.0</td>\n",
       "      <td>Mumbai</td>\n",
       "      <td>Edtech</td>\n",
       "      <td>A learning platform that provides topic-based ...</td>\n",
       "      <td>Adamas Belva Syah Devara, Iman Usman.</td>\n",
       "      <td>General Atlantic</td>\n",
       "      <td>$150,000,000</td>\n",
       "      <td>Series C</td>\n",
       "    </tr>\n",
       "    <tr>\n",
       "      <th>2</th>\n",
       "      <td>Eduisfun</td>\n",
       "      <td>NaN</td>\n",
       "      <td>Mumbai</td>\n",
       "      <td>Edtech</td>\n",
       "      <td>It aims to make learning fun via games.</td>\n",
       "      <td>Jatin Solanki</td>\n",
       "      <td>Deepak Parekh, Amitabh Bachchan, Piyush Pandey</td>\n",
       "      <td>$28,000,000</td>\n",
       "      <td>Fresh funding</td>\n",
       "    </tr>\n",
       "  </tbody>\n",
       "</table>\n",
       "</div>"
      ],
      "text/plain": [
       "    Company/Brand  Founded HeadQuarter     Sector  \\\n",
       "0  Bombay Shaving      NaN         NaN  Ecommerce   \n",
       "1       Ruangguru   2014.0      Mumbai     Edtech   \n",
       "2        Eduisfun      NaN      Mumbai     Edtech   \n",
       "\n",
       "                                        What it does  \\\n",
       "0         Provides a range of male grooming products   \n",
       "1  A learning platform that provides topic-based ...   \n",
       "2            It aims to make learning fun via games.   \n",
       "\n",
       "                                Founders  \\\n",
       "0                     Shantanu Deshpande   \n",
       "1  Adamas Belva Syah Devara, Iman Usman.   \n",
       "2                          Jatin Solanki   \n",
       "\n",
       "                                         Investor     Amount($)          Stage  \n",
       "0                            Sixth Sense Ventures    $6,300,000            NaN  \n",
       "1                                General Atlantic  $150,000,000       Series C  \n",
       "2  Deepak Parekh, Amitabh Bachchan, Piyush Pandey   $28,000,000  Fresh funding  "
      ]
     },
     "execution_count": 7,
     "metadata": {},
     "output_type": "execute_result"
    }
   ],
   "source": [
    "# 2019 dataset \n",
    "data_2019.head(3)"
   ]
  },
  {
   "cell_type": "code",
   "execution_count": 8,
   "metadata": {},
   "outputs": [
    {
     "data": {
      "text/html": [
       "<div>\n",
       "<style scoped>\n",
       "    .dataframe tbody tr th:only-of-type {\n",
       "        vertical-align: middle;\n",
       "    }\n",
       "\n",
       "    .dataframe tbody tr th {\n",
       "        vertical-align: top;\n",
       "    }\n",
       "\n",
       "    .dataframe thead th {\n",
       "        text-align: right;\n",
       "    }\n",
       "</style>\n",
       "<table border=\"1\" class=\"dataframe\">\n",
       "  <thead>\n",
       "    <tr style=\"text-align: right;\">\n",
       "      <th></th>\n",
       "      <th>Company_Brand</th>\n",
       "      <th>Founded</th>\n",
       "      <th>HeadQuarter</th>\n",
       "      <th>Sector</th>\n",
       "      <th>What_it_does</th>\n",
       "      <th>Founders</th>\n",
       "      <th>Investor</th>\n",
       "      <th>Amount</th>\n",
       "      <th>Stage</th>\n",
       "      <th>column10</th>\n",
       "    </tr>\n",
       "  </thead>\n",
       "  <tbody>\n",
       "    <tr>\n",
       "      <th>0</th>\n",
       "      <td>Aqgromalin</td>\n",
       "      <td>2019.0</td>\n",
       "      <td>Chennai</td>\n",
       "      <td>AgriTech</td>\n",
       "      <td>Cultivating Ideas for Profit</td>\n",
       "      <td>Prasanna Manogaran, Bharani C L</td>\n",
       "      <td>Angel investors</td>\n",
       "      <td>200000.0</td>\n",
       "      <td>None</td>\n",
       "      <td>None</td>\n",
       "    </tr>\n",
       "    <tr>\n",
       "      <th>1</th>\n",
       "      <td>Krayonnz</td>\n",
       "      <td>2019.0</td>\n",
       "      <td>Bangalore</td>\n",
       "      <td>EdTech</td>\n",
       "      <td>An academy-guardian-scholar centric ecosystem ...</td>\n",
       "      <td>Saurabh Dixit, Gurudutt Upadhyay</td>\n",
       "      <td>GSF Accelerator</td>\n",
       "      <td>100000.0</td>\n",
       "      <td>Pre-seed</td>\n",
       "      <td>None</td>\n",
       "    </tr>\n",
       "    <tr>\n",
       "      <th>2</th>\n",
       "      <td>PadCare Labs</td>\n",
       "      <td>2018.0</td>\n",
       "      <td>Pune</td>\n",
       "      <td>Hygiene management</td>\n",
       "      <td>Converting bio-hazardous waste to harmless waste</td>\n",
       "      <td>Ajinkya Dhariya</td>\n",
       "      <td>Venture Center</td>\n",
       "      <td>NaN</td>\n",
       "      <td>Pre-seed</td>\n",
       "      <td>None</td>\n",
       "    </tr>\n",
       "  </tbody>\n",
       "</table>\n",
       "</div>"
      ],
      "text/plain": [
       "  Company_Brand  Founded HeadQuarter              Sector  \\\n",
       "0    Aqgromalin   2019.0     Chennai            AgriTech   \n",
       "1      Krayonnz   2019.0   Bangalore              EdTech   \n",
       "2  PadCare Labs   2018.0        Pune  Hygiene management   \n",
       "\n",
       "                                        What_it_does  \\\n",
       "0                       Cultivating Ideas for Profit   \n",
       "1  An academy-guardian-scholar centric ecosystem ...   \n",
       "2   Converting bio-hazardous waste to harmless waste   \n",
       "\n",
       "                           Founders         Investor    Amount     Stage  \\\n",
       "0   Prasanna Manogaran, Bharani C L  Angel investors  200000.0      None   \n",
       "1  Saurabh Dixit, Gurudutt Upadhyay  GSF Accelerator  100000.0  Pre-seed   \n",
       "2                   Ajinkya Dhariya   Venture Center       NaN  Pre-seed   \n",
       "\n",
       "  column10  \n",
       "0     None  \n",
       "1     None  \n",
       "2     None  "
      ]
     },
     "execution_count": 8,
     "metadata": {},
     "output_type": "execute_result"
    }
   ],
   "source": [
    "# 2020 dataset \n",
    "data_2020.head(3)"
   ]
  },
  {
   "cell_type": "code",
   "execution_count": 9,
   "metadata": {},
   "outputs": [
    {
     "data": {
      "text/html": [
       "<div>\n",
       "<style scoped>\n",
       "    .dataframe tbody tr th:only-of-type {\n",
       "        vertical-align: middle;\n",
       "    }\n",
       "\n",
       "    .dataframe tbody tr th {\n",
       "        vertical-align: top;\n",
       "    }\n",
       "\n",
       "    .dataframe thead th {\n",
       "        text-align: right;\n",
       "    }\n",
       "</style>\n",
       "<table border=\"1\" class=\"dataframe\">\n",
       "  <thead>\n",
       "    <tr style=\"text-align: right;\">\n",
       "      <th></th>\n",
       "      <th>Company_Brand</th>\n",
       "      <th>Founded</th>\n",
       "      <th>HeadQuarter</th>\n",
       "      <th>Sector</th>\n",
       "      <th>What_it_does</th>\n",
       "      <th>Founders</th>\n",
       "      <th>Investor</th>\n",
       "      <th>Amount</th>\n",
       "      <th>Stage</th>\n",
       "    </tr>\n",
       "  </thead>\n",
       "  <tbody>\n",
       "    <tr>\n",
       "      <th>0</th>\n",
       "      <td>Unbox Robotics</td>\n",
       "      <td>2019.0</td>\n",
       "      <td>Bangalore</td>\n",
       "      <td>AI startup</td>\n",
       "      <td>Unbox Robotics builds on-demand AI-driven ware...</td>\n",
       "      <td>Pramod Ghadge, Shahid Memon</td>\n",
       "      <td>BEENEXT, Entrepreneur First</td>\n",
       "      <td>$1,200,000</td>\n",
       "      <td>Pre-series A</td>\n",
       "    </tr>\n",
       "    <tr>\n",
       "      <th>1</th>\n",
       "      <td>upGrad</td>\n",
       "      <td>2015.0</td>\n",
       "      <td>Mumbai</td>\n",
       "      <td>EdTech</td>\n",
       "      <td>UpGrad is an online higher education platform.</td>\n",
       "      <td>Mayank Kumar, Phalgun Kompalli, Ravijot Chugh,...</td>\n",
       "      <td>Unilazer Ventures, IIFL Asset Management</td>\n",
       "      <td>$120,000,000</td>\n",
       "      <td>None</td>\n",
       "    </tr>\n",
       "    <tr>\n",
       "      <th>2</th>\n",
       "      <td>Lead School</td>\n",
       "      <td>2012.0</td>\n",
       "      <td>Mumbai</td>\n",
       "      <td>EdTech</td>\n",
       "      <td>LEAD School offers technology based school tra...</td>\n",
       "      <td>Smita Deorah, Sumeet Mehta</td>\n",
       "      <td>GSV Ventures, Westbridge Capital</td>\n",
       "      <td>$30,000,000</td>\n",
       "      <td>Series D</td>\n",
       "    </tr>\n",
       "  </tbody>\n",
       "</table>\n",
       "</div>"
      ],
      "text/plain": [
       "    Company_Brand  Founded HeadQuarter      Sector  \\\n",
       "0  Unbox Robotics   2019.0   Bangalore  AI startup   \n",
       "1          upGrad   2015.0      Mumbai      EdTech   \n",
       "2     Lead School   2012.0      Mumbai      EdTech   \n",
       "\n",
       "                                        What_it_does  \\\n",
       "0  Unbox Robotics builds on-demand AI-driven ware...   \n",
       "1     UpGrad is an online higher education platform.   \n",
       "2  LEAD School offers technology based school tra...   \n",
       "\n",
       "                                            Founders  \\\n",
       "0                        Pramod Ghadge, Shahid Memon   \n",
       "1  Mayank Kumar, Phalgun Kompalli, Ravijot Chugh,...   \n",
       "2                         Smita Deorah, Sumeet Mehta   \n",
       "\n",
       "                                   Investor        Amount         Stage  \n",
       "0               BEENEXT, Entrepreneur First    $1,200,000  Pre-series A  \n",
       "1  Unilazer Ventures, IIFL Asset Management  $120,000,000          None  \n",
       "2          GSV Ventures, Westbridge Capital   $30,000,000      Series D  "
      ]
     },
     "execution_count": 9,
     "metadata": {},
     "output_type": "execute_result"
    }
   ],
   "source": [
    "# 2021 dataset \n",
    "data_2021.head(3)"
   ]
  },
  {
   "cell_type": "markdown",
   "metadata": {},
   "source": [
    "Similarities of datasets\n"
   ]
  },
  {
   "cell_type": "code",
   "execution_count": 17,
   "metadata": {},
   "outputs": [
    {
     "data": {
      "text/plain": [
       "Index(['Company Name', 'Industry', 'Round/Series', 'Amount', 'Location',\n",
       "       'About Company'],\n",
       "      dtype='object')"
      ]
     },
     "execution_count": 17,
     "metadata": {},
     "output_type": "execute_result"
    }
   ],
   "source": [
    "data_2018.columns"
   ]
  },
  {
   "cell_type": "code",
   "execution_count": 18,
   "metadata": {},
   "outputs": [
    {
     "data": {
      "text/plain": [
       "Index(['Company/Brand', 'Founded', 'HeadQuarter', 'Sector', 'What it does',\n",
       "       'Founders', 'Investor', 'Amount($)', 'Stage'],\n",
       "      dtype='object')"
      ]
     },
     "execution_count": 18,
     "metadata": {},
     "output_type": "execute_result"
    }
   ],
   "source": [
    "data_2019.columns"
   ]
  },
  {
   "cell_type": "code",
   "execution_count": 19,
   "metadata": {},
   "outputs": [
    {
     "data": {
      "text/plain": [
       "Index(['Company_Brand', 'Founded', 'HeadQuarter', 'Sector', 'What_it_does',\n",
       "       'Founders', 'Investor', 'Amount', 'Stage', 'column10'],\n",
       "      dtype='object')"
      ]
     },
     "execution_count": 19,
     "metadata": {},
     "output_type": "execute_result"
    }
   ],
   "source": [
    "data_2020.columns"
   ]
  },
  {
   "cell_type": "code",
   "execution_count": 20,
   "metadata": {},
   "outputs": [
    {
     "data": {
      "text/plain": [
       "Index(['Company_Brand', 'Founded', 'HeadQuarter', 'Sector', 'What_it_does',\n",
       "       'Founders', 'Investor', 'Amount', 'Stage'],\n",
       "      dtype='object')"
      ]
     },
     "execution_count": 20,
     "metadata": {},
     "output_type": "execute_result"
    }
   ],
   "source": [
    "data_2021.columns"
   ]
  },
  {
   "cell_type": "markdown",
   "metadata": {},
   "source": [
    "        5.3 Data Exploration\n"
   ]
  },
  {
   "cell_type": "markdown",
   "metadata": {},
   "source": [
    "    5.3.1 2018 Data\n"
   ]
  },
  {
   "cell_type": "markdown",
   "metadata": {},
   "source": [
    "5.3.1.1 Data Inspection\n"
   ]
  },
  {
   "cell_type": "markdown",
   "metadata": {},
   "source": [
    "![Data 2018 Summary Image](Images\\2018DataWrangler1.png)\n"
   ]
  },
  {
   "cell_type": "code",
   "execution_count": 10,
   "metadata": {},
   "outputs": [
    {
     "name": "stdout",
     "output_type": "stream",
     "text": [
      "<class 'pandas.core.frame.DataFrame'>\n",
      "RangeIndex: 526 entries, 0 to 525\n",
      "Data columns (total 6 columns):\n",
      " #   Column         Non-Null Count  Dtype \n",
      "---  ------         --------------  ----- \n",
      " 0   Company Name   526 non-null    object\n",
      " 1   Industry       526 non-null    object\n",
      " 2   Round/Series   526 non-null    object\n",
      " 3   Amount         526 non-null    object\n",
      " 4   Location       526 non-null    object\n",
      " 5   About Company  526 non-null    object\n",
      "dtypes: object(6)\n",
      "memory usage: 24.8+ KB\n"
     ]
    }
   ],
   "source": [
    "data_2018.info()"
   ]
  },
  {
   "cell_type": "markdown",
   "metadata": {},
   "source": [
    "Statistics summary of 2018 data\n"
   ]
  },
  {
   "cell_type": "code",
   "execution_count": 11,
   "metadata": {},
   "outputs": [
    {
     "data": {
      "text/html": [
       "<div>\n",
       "<style scoped>\n",
       "    .dataframe tbody tr th:only-of-type {\n",
       "        vertical-align: middle;\n",
       "    }\n",
       "\n",
       "    .dataframe tbody tr th {\n",
       "        vertical-align: top;\n",
       "    }\n",
       "\n",
       "    .dataframe thead th {\n",
       "        text-align: right;\n",
       "    }\n",
       "</style>\n",
       "<table border=\"1\" class=\"dataframe\">\n",
       "  <thead>\n",
       "    <tr style=\"text-align: right;\">\n",
       "      <th></th>\n",
       "      <th>count</th>\n",
       "      <th>unique</th>\n",
       "      <th>top</th>\n",
       "      <th>freq</th>\n",
       "    </tr>\n",
       "  </thead>\n",
       "  <tbody>\n",
       "    <tr>\n",
       "      <th>Company Name</th>\n",
       "      <td>526</td>\n",
       "      <td>525</td>\n",
       "      <td>TheCollegeFever</td>\n",
       "      <td>2</td>\n",
       "    </tr>\n",
       "    <tr>\n",
       "      <th>Industry</th>\n",
       "      <td>526</td>\n",
       "      <td>405</td>\n",
       "      <td>—</td>\n",
       "      <td>30</td>\n",
       "    </tr>\n",
       "    <tr>\n",
       "      <th>Round/Series</th>\n",
       "      <td>526</td>\n",
       "      <td>21</td>\n",
       "      <td>Seed</td>\n",
       "      <td>280</td>\n",
       "    </tr>\n",
       "    <tr>\n",
       "      <th>Amount</th>\n",
       "      <td>526</td>\n",
       "      <td>198</td>\n",
       "      <td>—</td>\n",
       "      <td>148</td>\n",
       "    </tr>\n",
       "    <tr>\n",
       "      <th>Location</th>\n",
       "      <td>526</td>\n",
       "      <td>50</td>\n",
       "      <td>Bangalore, Karnataka, India</td>\n",
       "      <td>102</td>\n",
       "    </tr>\n",
       "    <tr>\n",
       "      <th>About Company</th>\n",
       "      <td>526</td>\n",
       "      <td>524</td>\n",
       "      <td>TheCollegeFever is a hub for fun, fiesta and f...</td>\n",
       "      <td>2</td>\n",
       "    </tr>\n",
       "  </tbody>\n",
       "</table>\n",
       "</div>"
      ],
      "text/plain": [
       "              count unique                                                top  \\\n",
       "Company Name    526    525                                    TheCollegeFever   \n",
       "Industry        526    405                                                  —   \n",
       "Round/Series    526     21                                               Seed   \n",
       "Amount          526    198                                                  —   \n",
       "Location        526     50                        Bangalore, Karnataka, India   \n",
       "About Company   526    524  TheCollegeFever is a hub for fun, fiesta and f...   \n",
       "\n",
       "              freq  \n",
       "Company Name     2  \n",
       "Industry        30  \n",
       "Round/Series   280  \n",
       "Amount         148  \n",
       "Location       102  \n",
       "About Company    2  "
      ]
     },
     "execution_count": 11,
     "metadata": {},
     "output_type": "execute_result"
    }
   ],
   "source": [
    "data_2018.describe().T"
   ]
  },
  {
   "cell_type": "markdown",
   "metadata": {},
   "source": [
    "From the result summary\n",
    "\n",
    "- 2018 Data has no Missing values\n"
   ]
  },
  {
   "cell_type": "markdown",
   "metadata": {},
   "source": [
    "5.3.1.2 Handling Missing values\n"
   ]
  },
  {
   "cell_type": "markdown",
   "metadata": {},
   "source": [
    "start by checking Unique values in each column\n"
   ]
  },
  {
   "cell_type": "code",
   "execution_count": 12,
   "metadata": {},
   "outputs": [],
   "source": [
    "def uniqueValue(column): #Industry, Round/Series,Amount, Location and Amount\n",
    "    return data_2018[column].value_counts()    "
   ]
  },
  {
   "cell_type": "code",
   "execution_count": 13,
   "metadata": {},
   "outputs": [
    {
     "data": {
      "text/plain": [
       "Industry\n",
       "—                                              30\n",
       "Financial Services                             15\n",
       "Education                                       8\n",
       "Information Technology                          7\n",
       "Health Care, Hospital                           5\n",
       "                                               ..\n",
       "Education, Gaming, Training                     1\n",
       "Automotive, Search Engine, Service Industry     1\n",
       "Wealth Management                               1\n",
       "B2B, Farming, Marketplace                       1\n",
       "Biotechnology, Health Care, Pharmaceutical      1\n",
       "Name: count, Length: 405, dtype: int64"
      ]
     },
     "execution_count": 13,
     "metadata": {},
     "output_type": "execute_result"
    }
   ],
   "source": [
    "#Industry\n",
    "uniqueValue(\"Industry\")"
   ]
  },
  {
   "cell_type": "code",
   "execution_count": 14,
   "metadata": {},
   "outputs": [
    {
     "data": {
      "text/plain": [
       "Round/Series\n",
       "Seed                                                                                                       280\n",
       "Series A                                                                                                    73\n",
       "Angel                                                                                                       37\n",
       "Venture - Series Unknown                                                                                    37\n",
       "Series B                                                                                                    20\n",
       "Series C                                                                                                    16\n",
       "Debt Financing                                                                                              13\n",
       "Private Equity                                                                                              10\n",
       "Corporate Round                                                                                              8\n",
       "Pre-Seed                                                                                                     6\n",
       "Series E                                                                                                     5\n",
       "Grant                                                                                                        4\n",
       "Series D                                                                                                     3\n",
       "Secondary Market                                                                                             3\n",
       "Post-IPO Equity                                                                                              3\n",
       "Undisclosed                                                                                                  2\n",
       "Post-IPO Debt                                                                                                2\n",
       "Non-equity Assistance                                                                                        1\n",
       "Series H                                                                                                     1\n",
       "https://docs.google.com/spreadsheets/d/1x9ziNeaz6auNChIHnMI8U6kS7knTr3byy_YBGfQaoUA/edit#gid=1861303593      1\n",
       "Funding Round                                                                                                1\n",
       "Name: count, dtype: int64"
      ]
     },
     "execution_count": 14,
     "metadata": {},
     "output_type": "execute_result"
    }
   ],
   "source": [
    "uniqueValue(\"Round/Series\")"
   ]
  },
  {
   "cell_type": "code",
   "execution_count": 15,
   "metadata": {},
   "outputs": [
    {
     "data": {
      "text/plain": [
       "Amount\n",
       "—              148\n",
       "1000000         24\n",
       "500000          13\n",
       "2000000         12\n",
       "₹50,000,000      9\n",
       "              ... \n",
       "2200000          1\n",
       "1200000          1\n",
       "$15,000          1\n",
       "$1,041,000       1\n",
       "35000000         1\n",
       "Name: count, Length: 198, dtype: int64"
      ]
     },
     "execution_count": 15,
     "metadata": {},
     "output_type": "execute_result"
    }
   ],
   "source": [
    "uniqueValue(\"Amount\")"
   ]
  },
  {
   "cell_type": "markdown",
   "metadata": {},
   "source": [
    "From this information we ave to assume that\n",
    "\n",
    "- the amount with not current as USD Amount\n"
   ]
  },
  {
   "cell_type": "code",
   "execution_count": 16,
   "metadata": {},
   "outputs": [
    {
     "data": {
      "text/plain": [
       "Location\n",
       "Bangalore, Karnataka, India         102\n",
       "Mumbai, Maharashtra, India           94\n",
       "Bengaluru, Karnataka, India          55\n",
       "Gurgaon, Haryana, India              52\n",
       "New Delhi, Delhi, India              51\n",
       "Pune, Maharashtra, India             20\n",
       "Chennai, Tamil Nadu, India           19\n",
       "Hyderabad, Andhra Pradesh, India     18\n",
       "Delhi, Delhi, India                  16\n",
       "Noida, Uttar Pradesh, India          15\n",
       "Haryana, Haryana, India              11\n",
       "Jaipur, Rajasthan, India              9\n",
       "Ahmedabad, Gujarat, India             6\n",
       "Kolkata, West Bengal, India           6\n",
       "Bangalore City, Karnataka, India      5\n",
       "Indore, Madhya Pradesh, India         4\n",
       "India, Asia                           4\n",
       "Kormangala, Karnataka, India          3\n",
       "Ghaziabad, Uttar Pradesh, India       2\n",
       "Kochi, Kerala, India                  2\n",
       "Bhopal, Madhya Pradesh, India         2\n",
       "Thane, Maharashtra, India             2\n",
       "Jodhpur, Rajasthan, India             1\n",
       "Powai, Assam, India                   1\n",
       "Andheri, Maharashtra, India           1\n",
       "Mylapore, Tamil Nadu, India           1\n",
       "Kalpakkam, Tamil Nadu, India          1\n",
       "Guntur, Andhra Pradesh, India         1\n",
       "Coimbatore, Tamil Nadu, India         1\n",
       "Worli, Maharashtra, India             1\n",
       "Alleppey, Kerala, India               1\n",
       "Chandigarh, Chandigarh, India         1\n",
       "Guindy, Tamil Nadu, India             1\n",
       "Uttar Pradesh, India, Asia            1\n",
       "Trivandrum, Kerala, India             1\n",
       "Ernakulam, Kerala, India              1\n",
       "Kanpur, Uttar Pradesh, India          1\n",
       "Kannur, Kerala, India                 1\n",
       "Alwar, Rajasthan, India               1\n",
       "Margão, Goa, India                    1\n",
       "Belgaum, Karnataka, India             1\n",
       "Kalkaji, Delhi, India                 1\n",
       "Anand, Gujarat, India                 1\n",
       "Kota, Rajasthan, India                1\n",
       "Faridabad, Haryana, India             1\n",
       "Cochin, Kerala, India                 1\n",
       "Hubli, Karnataka, India               1\n",
       "Azadpur, Delhi, India                 1\n",
       "Mohali, Punjab, India                 1\n",
       "Lucknow, Uttar Pradesh, India         1\n",
       "Name: count, dtype: int64"
      ]
     },
     "execution_count": 16,
     "metadata": {},
     "output_type": "execute_result"
    }
   ],
   "source": [
    "uniqueValue(\"Location\")"
   ]
  },
  {
   "cell_type": "markdown",
   "metadata": {},
   "source": [
    "Issue Identified in Data 2018\n",
    "\n",
    "- **Amount Column** has more that one currency and some has No currency\n",
    "- **Industry column** has not containd more indust per a company\n"
   ]
  },
  {
   "cell_type": "markdown",
   "metadata": {},
   "source": [
    "5.3.1.3 Data cleaning\n"
   ]
  },
  {
   "cell_type": "markdown",
   "metadata": {},
   "source": [
    "    Check Duplications\n"
   ]
  },
  {
   "cell_type": "code",
   "execution_count": 17,
   "metadata": {},
   "outputs": [
    {
     "data": {
      "text/plain": [
       "False    525\n",
       "True       1\n",
       "Name: count, dtype: int64"
      ]
     },
     "execution_count": 17,
     "metadata": {},
     "output_type": "execute_result"
    }
   ],
   "source": [
    "\n",
    "data_2018.duplicated().value_counts()"
   ]
  },
  {
   "cell_type": "markdown",
   "metadata": {},
   "source": [
    "Duplications\n"
   ]
  },
  {
   "cell_type": "code",
   "execution_count": 18,
   "metadata": {},
   "outputs": [
    {
     "data": {
      "text/html": [
       "<div>\n",
       "<style scoped>\n",
       "    .dataframe tbody tr th:only-of-type {\n",
       "        vertical-align: middle;\n",
       "    }\n",
       "\n",
       "    .dataframe tbody tr th {\n",
       "        vertical-align: top;\n",
       "    }\n",
       "\n",
       "    .dataframe thead th {\n",
       "        text-align: right;\n",
       "    }\n",
       "</style>\n",
       "<table border=\"1\" class=\"dataframe\">\n",
       "  <thead>\n",
       "    <tr style=\"text-align: right;\">\n",
       "      <th></th>\n",
       "      <th>Company Name</th>\n",
       "      <th>Industry</th>\n",
       "      <th>Round/Series</th>\n",
       "      <th>Amount</th>\n",
       "      <th>Location</th>\n",
       "      <th>About Company</th>\n",
       "    </tr>\n",
       "  </thead>\n",
       "  <tbody>\n",
       "    <tr>\n",
       "      <th>0</th>\n",
       "      <td>TheCollegeFever</td>\n",
       "      <td>Brand Marketing, Event Promotion, Marketing, S...</td>\n",
       "      <td>Seed</td>\n",
       "      <td>250000</td>\n",
       "      <td>Bangalore, Karnataka, India</td>\n",
       "      <td>TheCollegeFever is a hub for fun, fiesta and f...</td>\n",
       "    </tr>\n",
       "    <tr>\n",
       "      <th>348</th>\n",
       "      <td>TheCollegeFever</td>\n",
       "      <td>Brand Marketing, Event Promotion, Marketing, S...</td>\n",
       "      <td>Seed</td>\n",
       "      <td>250000</td>\n",
       "      <td>Bangalore, Karnataka, India</td>\n",
       "      <td>TheCollegeFever is a hub for fun, fiesta and f...</td>\n",
       "    </tr>\n",
       "  </tbody>\n",
       "</table>\n",
       "</div>"
      ],
      "text/plain": [
       "        Company Name                                           Industry  \\\n",
       "0    TheCollegeFever  Brand Marketing, Event Promotion, Marketing, S...   \n",
       "348  TheCollegeFever  Brand Marketing, Event Promotion, Marketing, S...   \n",
       "\n",
       "    Round/Series  Amount                     Location  \\\n",
       "0           Seed  250000  Bangalore, Karnataka, India   \n",
       "348         Seed  250000  Bangalore, Karnataka, India   \n",
       "\n",
       "                                         About Company  \n",
       "0    TheCollegeFever is a hub for fun, fiesta and f...  \n",
       "348  TheCollegeFever is a hub for fun, fiesta and f...  "
      ]
     },
     "execution_count": 18,
     "metadata": {},
     "output_type": "execute_result"
    }
   ],
   "source": [
    "data_2018[data_2018.duplicated(keep=False)]"
   ]
  },
  {
   "cell_type": "markdown",
   "metadata": {},
   "source": [
    "Dropping data duplicate\n"
   ]
  },
  {
   "cell_type": "code",
   "execution_count": 19,
   "metadata": {},
   "outputs": [],
   "source": [
    "# Drop 2018 data duplicates\n",
    "data_2018 = data_2018.drop_duplicates()"
   ]
  },
  {
   "cell_type": "code",
   "execution_count": 20,
   "metadata": {},
   "outputs": [
    {
     "data": {
      "text/plain": [
       "False    525\n",
       "Name: count, dtype: int64"
      ]
     },
     "execution_count": 20,
     "metadata": {},
     "output_type": "execute_result"
    }
   ],
   "source": [
    "# double check the doublicates again \n",
    "data_2018.duplicated().value_counts()"
   ]
  },
  {
   "cell_type": "markdown",
   "metadata": {},
   "source": [
    "No duplicate anymore in data 2018\n"
   ]
  },
  {
   "cell_type": "markdown",
   "metadata": {},
   "source": [
    "Columns Data types\n"
   ]
  },
  {
   "cell_type": "markdown",
   "metadata": {},
   "source": [
    "The `Amount` column is currently classified as a string data type, but it should be represented as an integer. Several issues in this column need to be addressed:\n",
    "\n",
    "- **Character Removal:** The presence of `,`, `$`, and `₹` characters must be eliminated.\n",
    "- **Null Values:** The `_` characters, indicating null values, need to be handled appropriately.\n",
    "- **Currency Standardization:** Amounts in Indian Rupees will be converted to US Dollars to maintain a consistent currency standard.we need ti use our assumption 1 USD = 70rupee based on avarege exchange rate of 2018\n",
    "- **Data Type Conversion:** Finally, the `Amount` column will be converted to a numeric data type.\n"
   ]
  },
  {
   "cell_type": "code",
   "execution_count": 21,
   "metadata": {},
   "outputs": [
    {
     "data": {
      "text/plain": [
       "0        250000\n",
       "1     ₹40000000\n",
       "2     ₹65000000\n",
       "3       2000000\n",
       "4             —\n",
       "5       1600000\n",
       "6     ₹16000000\n",
       "7     ₹50000000\n",
       "8             —\n",
       "9             —\n",
       "10            —\n",
       "11            —\n",
       "12            —\n",
       "13            —\n",
       "14            —\n",
       "Name: Amount, dtype: object"
      ]
     },
     "execution_count": 21,
     "metadata": {},
     "output_type": "execute_result"
    }
   ],
   "source": [
    "# Remove ',' in amount\n",
    "data_2018['Amount'].replace(',','', regex=True, inplace=True)\n",
    "data_2018['Amount'].head(15)"
   ]
  },
  {
   "cell_type": "code",
   "execution_count": 22,
   "metadata": {},
   "outputs": [],
   "source": [
    "# A function to convert amount to $ and clean the amount column\n",
    "def convert_to_usd(amount):\n",
    "    exchange_rate = 68.4  # Average exchange rate in 2018 to USD: 68.4113 INR.[https://www.exchangerates.org.uk/USD-INR-spot-exchange-rates-history-2018.html]\n",
    "\n",
    "    if '₹' in str(amount):  #  if  amount is in INR\n",
    "        amount = (str(amount).replace('₹', ''))  \n",
    "\n",
    "        return pd.to_numeric(amount, errors='coerce' )/ exchange_rate\n",
    "\n",
    "    elif '$' in str(amount):\n",
    "\n",
    "        return  amount.replace('$','')\n",
    "\n",
    "    elif \"—\" in str(amount):\n",
    "\n",
    "        return None  \n",
    "    else:\n",
    "        return (amount)\n",
    "\n",
    "pd.set_option('display.float_format', '{:.1f}'.format)\n",
    "# Apply the conversion function to the 'Amount' column\n",
    "data_2018[\"Amount\"] = data_2018[\"Amount\"].apply(convert_to_usd)\n",
    "\n"
   ]
  },
  {
   "cell_type": "code",
   "execution_count": 23,
   "metadata": {},
   "outputs": [
    {
     "data": {
      "text/plain": [
       "dtype('float64')"
      ]
     },
     "execution_count": 23,
     "metadata": {},
     "output_type": "execute_result"
    }
   ],
   "source": [
    "data_2018[\"Amount\"]=data_2018[\"Amount\"].astype(float)\n",
    "data_2018[\"Amount\"].dtype"
   ]
  },
  {
   "cell_type": "code",
   "execution_count": 24,
   "metadata": {},
   "outputs": [
    {
     "data": {
      "text/plain": [
       "0     250000.0\n",
       "1     571428.6\n",
       "2     928571.4\n",
       "3    2000000.0\n",
       "4          NaN\n",
       "5    1600000.0\n",
       "6     228571.4\n",
       "7     714285.7\n",
       "8          NaN\n",
       "9          NaN\n",
       "10         NaN\n",
       "11         NaN\n",
       "12         NaN\n",
       "13         NaN\n",
       "14         NaN\n",
       "Name: Amount, dtype: float64"
      ]
     },
     "execution_count": 24,
     "metadata": {},
     "output_type": "execute_result"
    }
   ],
   "source": [
    "data_2018[\"Amount\"].head(15)\n"
   ]
  },
  {
   "cell_type": "markdown",
   "metadata": {},
   "source": [
    "Based on other data across other 3 datasets which will later make merging easier, `Location` and `Industry` columns will only remain with the first word.\n"
   ]
  },
  {
   "cell_type": "code",
   "execution_count": 25,
   "metadata": {},
   "outputs": [
    {
     "data": {
      "text/plain": [
       "0         Bangalore, Karnataka, India\n",
       "1          Mumbai, Maharashtra, India\n",
       "2             Gurgaon, Haryana, India\n",
       "3         Noida, Uttar Pradesh, India\n",
       "4    Hyderabad, Andhra Pradesh, India\n",
       "5         Bengaluru, Karnataka, India\n",
       "6               Kalkaji, Delhi, India\n",
       "7    Hyderabad, Andhra Pradesh, India\n",
       "8          Mumbai, Maharashtra, India\n",
       "9         Bangalore, Karnataka, India\n",
       "Name: Location, dtype: object"
      ]
     },
     "execution_count": 25,
     "metadata": {},
     "output_type": "execute_result"
    }
   ],
   "source": [
    "data_2018[\"Location\"].head(10)"
   ]
  },
  {
   "cell_type": "code",
   "execution_count": 26,
   "metadata": {},
   "outputs": [
    {
     "data": {
      "text/plain": [
       "0    Bangalore\n",
       "1       Mumbai\n",
       "2      Gurgaon\n",
       "3        Noida\n",
       "4    Hyderabad\n",
       "5    Bengaluru\n",
       "6      Kalkaji\n",
       "7    Hyderabad\n",
       "8       Mumbai\n",
       "9    Bangalore\n",
       "Name: Location, dtype: object"
      ]
     },
     "execution_count": 26,
     "metadata": {},
     "output_type": "execute_result"
    }
   ],
   "source": [
    "data_2018[\"Location\"] = data_2018[\"Location\"].map(lambda x: x.split(',')[0])\n",
    "data_2018[\"Location\"].head(10)\n"
   ]
  },
  {
   "cell_type": "code",
   "execution_count": 27,
   "metadata": {},
   "outputs": [
    {
     "data": {
      "text/plain": [
       "0    Brand Marketing, Event Promotion, Marketing, S...\n",
       "1                                 Agriculture, Farming\n",
       "2     Credit, Financial Services, Lending, Marketplace\n",
       "3                          Financial Services, FinTech\n",
       "4                   E-Commerce Platforms, Retail, SaaS\n",
       "5                     Cloud Infrastructure, PaaS, SaaS\n",
       "6                       Internet, Leisure, Marketplace\n",
       "7                                      Market Research\n",
       "8         Information Services, Information Technology\n",
       "9                                      Mobile Payments\n",
       "Name: Industry, dtype: object"
      ]
     },
     "execution_count": 27,
     "metadata": {},
     "output_type": "execute_result"
    }
   ],
   "source": [
    "data_2018[\"Industry\"].head(10)"
   ]
  },
  {
   "cell_type": "code",
   "execution_count": 35,
   "metadata": {},
   "outputs": [
    {
     "data": {
      "text/plain": [
       "['Brand Marketing',\n",
       " 'Agriculture',\n",
       " 'Credit',\n",
       " 'Financial Services',\n",
       " 'E-Commerce Platforms',\n",
       " 'Cloud Infrastructure',\n",
       " 'Internet',\n",
       " 'Market Research',\n",
       " 'Information Services',\n",
       " 'Mobile Payments',\n",
       " 'B2B',\n",
       " 'Apps',\n",
       " 'Food Delivery',\n",
       " 'Industrial Automation',\n",
       " 'Automotive',\n",
       " 'Finance',\n",
       " 'Accounting',\n",
       " 'Artificial Intelligence',\n",
       " 'Internet of Things',\n",
       " 'Air Transportation',\n",
       " 'Food and Beverage',\n",
       " 'Autonomous Vehicles',\n",
       " 'Enterprise Software',\n",
       " 'Logistics',\n",
       " 'Insurance',\n",
       " 'Information Technology',\n",
       " 'Blockchain',\n",
       " 'Education',\n",
       " 'E-Commerce',\n",
       " 'Renewable Energy',\n",
       " 'E-Learning',\n",
       " 'Clean Energy',\n",
       " 'Transportation',\n",
       " 'Fitness',\n",
       " 'Hospitality',\n",
       " 'Media and Entertainment',\n",
       " 'Broadcasting',\n",
       " 'EdTech',\n",
       " 'Health Care',\n",
       " '—',\n",
       " 'Sports',\n",
       " 'Big Data',\n",
       " 'Cloud Computing',\n",
       " 'Food Processing',\n",
       " 'Trading Platform',\n",
       " 'Consumer Goods',\n",
       " 'Wellness',\n",
       " 'Fashion',\n",
       " 'Consulting',\n",
       " 'Biotechnology',\n",
       " 'Communities',\n",
       " 'Consumer',\n",
       " 'Consumer Applications',\n",
       " 'Mobile',\n",
       " 'Advertising',\n",
       " 'Marketplace',\n",
       " 'Aerospace',\n",
       " 'Home Decor',\n",
       " 'Energy',\n",
       " 'Digital Marketing',\n",
       " 'Creative Agency',\n",
       " 'Consumer Lending',\n",
       " 'Health Diagnostics',\n",
       " 'Banking',\n",
       " 'Embedded Systems',\n",
       " 'Beauty',\n",
       " 'AgTech',\n",
       " 'Credit Cards',\n",
       " 'Software',\n",
       " 'Manufacturing',\n",
       " 'Hospital',\n",
       " 'Events',\n",
       " '3D Printing',\n",
       " 'Digital Entertainment',\n",
       " 'Funding Platform',\n",
       " 'Classifieds',\n",
       " 'Enterprise Resource Planning (ERP)',\n",
       " 'Audio',\n",
       " 'Government',\n",
       " 'Digital Media',\n",
       " 'Business Intelligence',\n",
       " 'Children',\n",
       " 'Rental',\n",
       " 'Travel',\n",
       " 'Wealth Management',\n",
       " 'Veterinary',\n",
       " 'Tourism',\n",
       " 'Consumer Electronics',\n",
       " 'Analytics',\n",
       " 'Facilities Support Services',\n",
       " 'Medical',\n",
       " 'Music Streaming',\n",
       " 'Retail',\n",
       " 'Business Development',\n",
       " 'Human Resources',\n",
       " 'Customer Service',\n",
       " 'Training',\n",
       " 'Dietary Supplements',\n",
       " 'Collaboration',\n",
       " 'Nanotechnology',\n",
       " 'File Sharing',\n",
       " 'Crowdfunding',\n",
       " 'Catering',\n",
       " 'Computer',\n",
       " 'Android',\n",
       " 'Delivery',\n",
       " 'Environmental Consulting',\n",
       " 'Commercial Real Estate',\n",
       " 'Delivery Service',\n",
       " 'Basketball',\n",
       " 'Fraud Detection',\n",
       " 'Cryptocurrency',\n",
       " 'Wedding',\n",
       " 'Crowdsourcing',\n",
       " 'Farming',\n",
       " 'Business Travel',\n",
       " 'Career Planning',\n",
       " 'Medical Device',\n",
       " 'Alternative Medicine',\n",
       " 'Dental',\n",
       " 'CleanTech',\n",
       " 'Marketing',\n",
       " 'Commercial',\n",
       " 'Continuing Education',\n",
       " 'Smart Cities',\n",
       " 'Social Media',\n",
       " 'Biopharma',\n",
       " 'Child Care',\n",
       " 'Health Insurance',\n",
       " 'Gaming',\n",
       " 'Search Engine',\n",
       " 'Battery',\n",
       " 'Cosmetics',\n",
       " 'eSports',\n",
       " 'Reading Apps',\n",
       " 'Electric Vehicle',\n",
       " 'Packaging Services',\n",
       " 'Last Mile Transportation',\n",
       " 'Cooking',\n",
       " 'FinTech',\n",
       " 'Online Games',\n",
       " 'Online Portals',\n",
       " 'Music',\n",
       " 'News',\n",
       " 'Industrial',\n",
       " 'Dating',\n",
       " 'Fantasy Sports',\n",
       " 'Eyewear']"
      ]
     },
     "execution_count": 35,
     "metadata": {},
     "output_type": "execute_result"
    }
   ],
   "source": [
    "data_2018[\"Industry\"] = data_2018[\"Industry\"].map(lambda x: str(x).split(',')[0].strip() if pd.notnull(x) else x)\n",
    "\n",
    "data_2018[\"Industry\"].unique().tolist()"
   ]
  },
  {
   "cell_type": "markdown",
   "metadata": {},
   "source": [
    "From the Unique values, there is a `_` value, let replace it by `Unknown` as the value are categorical data\n"
   ]
  },
  {
   "cell_type": "code",
   "execution_count": 37,
   "metadata": {},
   "outputs": [],
   "source": [
    "data_2018[\"Industry\"]=data_2018[\"Industry\"].replace('—', \"Unknown\", regex=True)"
   ]
  },
  {
   "cell_type": "markdown",
   "metadata": {},
   "source": [
    "handle missing value\n"
   ]
  },
  {
   "cell_type": "code",
   "execution_count": 31,
   "metadata": {},
   "outputs": [
    {
     "data": {
      "text/plain": [
       "Company Name       0\n",
       "Industry           0\n",
       "Round/Series       0\n",
       "Amount           148\n",
       "Location           0\n",
       "About Company      0\n",
       "dtype: int64"
      ]
     },
     "execution_count": 31,
     "metadata": {},
     "output_type": "execute_result"
    }
   ],
   "source": [
    "data_2018.isnull().sum()"
   ]
  },
  {
   "cell_type": "markdown",
   "metadata": {},
   "source": [
    "Missig value of 28% in column amount is a significant portion, let ` imputing with the median` which a practical approach that prevents data loss while providing a reasonable estimate.\n"
   ]
  },
  {
   "cell_type": "code",
   "execution_count": 38,
   "metadata": {},
   "outputs": [
    {
     "data": {
      "text/plain": [
       "count          377.0\n",
       "mean      17545908.1\n",
       "std       77875226.2\n",
       "min            857.1\n",
       "25%         500000.0\n",
       "50%        1300000.0\n",
       "75%        5000000.0\n",
       "max     1000000000.0\n",
       "Name: Amount, dtype: float64"
      ]
     },
     "execution_count": 38,
     "metadata": {},
     "output_type": "execute_result"
    }
   ],
   "source": [
    "# Statistics summary\n",
    "data_2018['Amount'].describe().T"
   ]
  },
  {
   "cell_type": "code",
   "execution_count": 41,
   "metadata": {},
   "outputs": [],
   "source": [
    "# impute null value by median \n",
    "# data_2018['Amount'].fillna(data_2018['Amount'].median(), inplace=True)\n",
    "amount_invested = data_2018[\"Amount\"].values.reshape(-1,1)\n",
    "\n",
    "imputer = SimpleImputer(strategy=\"median\")\n",
    "\n",
    "data_2018[\"Amount\"] = imputer.fit_transform(amount_invested)"
   ]
  },
  {
   "cell_type": "code",
   "execution_count": 42,
   "metadata": {},
   "outputs": [
    {
     "data": {
      "text/plain": [
       "Company Name     0\n",
       "Industry         0\n",
       "Round/Series     0\n",
       "Amount           0\n",
       "Location         0\n",
       "About Company    0\n",
       "dtype: int64"
      ]
     },
     "execution_count": 42,
     "metadata": {},
     "output_type": "execute_result"
    }
   ],
   "source": [
    "data_2018.isnull().sum()"
   ]
  },
  {
   "cell_type": "markdown",
   "metadata": {},
   "source": [
    "To make merging and analysis easier, we will add a column called `Year Funded` that contains the year each startup received funding.\n"
   ]
  },
  {
   "cell_type": "code",
   "execution_count": 43,
   "metadata": {},
   "outputs": [
    {
     "data": {
      "text/html": [
       "<div>\n",
       "<style scoped>\n",
       "    .dataframe tbody tr th:only-of-type {\n",
       "        vertical-align: middle;\n",
       "    }\n",
       "\n",
       "    .dataframe tbody tr th {\n",
       "        vertical-align: top;\n",
       "    }\n",
       "\n",
       "    .dataframe thead th {\n",
       "        text-align: right;\n",
       "    }\n",
       "</style>\n",
       "<table border=\"1\" class=\"dataframe\">\n",
       "  <thead>\n",
       "    <tr style=\"text-align: right;\">\n",
       "      <th></th>\n",
       "      <th>count</th>\n",
       "      <th>mean</th>\n",
       "      <th>std</th>\n",
       "      <th>min</th>\n",
       "      <th>25%</th>\n",
       "      <th>50%</th>\n",
       "      <th>75%</th>\n",
       "      <th>max</th>\n",
       "    </tr>\n",
       "  </thead>\n",
       "  <tbody>\n",
       "    <tr>\n",
       "      <th>Amount</th>\n",
       "      <td>525.0</td>\n",
       "      <td>12966109.2</td>\n",
       "      <td>66371626.8</td>\n",
       "      <td>857.1</td>\n",
       "      <td>714285.7</td>\n",
       "      <td>1300000.0</td>\n",
       "      <td>3000000.0</td>\n",
       "      <td>1000000000.0</td>\n",
       "    </tr>\n",
       "  </tbody>\n",
       "</table>\n",
       "</div>"
      ],
      "text/plain": [
       "        count       mean        std   min      25%       50%       75%  \\\n",
       "Amount  525.0 12966109.2 66371626.8 857.1 714285.7 1300000.0 3000000.0   \n",
       "\n",
       "                max  \n",
       "Amount 1000000000.0  "
      ]
     },
     "execution_count": 43,
     "metadata": {},
     "output_type": "execute_result"
    }
   ],
   "source": [
    "data_2018.describe().T"
   ]
  },
  {
   "cell_type": "markdown",
   "metadata": {},
   "source": [
    "track the year od fundings by creating colum with 2018 as value\n"
   ]
  },
  {
   "cell_type": "code",
   "execution_count": 44,
   "metadata": {},
   "outputs": [],
   "source": [
    "data_2018['Year Funded']= 2018"
   ]
  },
  {
   "cell_type": "code",
   "execution_count": 45,
   "metadata": {},
   "outputs": [
    {
     "data": {
      "text/html": [
       "<div>\n",
       "<style scoped>\n",
       "    .dataframe tbody tr th:only-of-type {\n",
       "        vertical-align: middle;\n",
       "    }\n",
       "\n",
       "    .dataframe tbody tr th {\n",
       "        vertical-align: top;\n",
       "    }\n",
       "\n",
       "    .dataframe thead th {\n",
       "        text-align: right;\n",
       "    }\n",
       "</style>\n",
       "<table border=\"1\" class=\"dataframe\">\n",
       "  <thead>\n",
       "    <tr style=\"text-align: right;\">\n",
       "      <th></th>\n",
       "      <th>Company Name</th>\n",
       "      <th>Industry</th>\n",
       "      <th>Round/Series</th>\n",
       "      <th>Amount</th>\n",
       "      <th>Location</th>\n",
       "      <th>About Company</th>\n",
       "      <th>Year Funded</th>\n",
       "    </tr>\n",
       "  </thead>\n",
       "  <tbody>\n",
       "    <tr>\n",
       "      <th>146</th>\n",
       "      <td>WheelsEMI</td>\n",
       "      <td>Unknown</td>\n",
       "      <td>Series B</td>\n",
       "      <td>14000000.0</td>\n",
       "      <td>Pune</td>\n",
       "      <td>WheelsEMI is the brand name of NBFC, WheelsEMI...</td>\n",
       "      <td>2018</td>\n",
       "    </tr>\n",
       "    <tr>\n",
       "      <th>482</th>\n",
       "      <td>ShareChat</td>\n",
       "      <td>Internet</td>\n",
       "      <td>Series C</td>\n",
       "      <td>99230000.0</td>\n",
       "      <td>Bangalore</td>\n",
       "      <td>ShareChat is a social networking and regional ...</td>\n",
       "      <td>2018</td>\n",
       "    </tr>\n",
       "    <tr>\n",
       "      <th>388</th>\n",
       "      <td>Perpule</td>\n",
       "      <td>Apps</td>\n",
       "      <td>Series A</td>\n",
       "      <td>4857142.9</td>\n",
       "      <td>Bangalore</td>\n",
       "      <td>Perpule is a self-checkout product for retail ...</td>\n",
       "      <td>2018</td>\n",
       "    </tr>\n",
       "    <tr>\n",
       "      <th>164</th>\n",
       "      <td>Classworks India</td>\n",
       "      <td>Education</td>\n",
       "      <td>Undisclosed</td>\n",
       "      <td>1428.6</td>\n",
       "      <td>Chennai</td>\n",
       "      <td>Saas, Web App, Mobile App, School Education</td>\n",
       "      <td>2018</td>\n",
       "    </tr>\n",
       "    <tr>\n",
       "      <th>418</th>\n",
       "      <td>Medimetry</td>\n",
       "      <td>Health Care</td>\n",
       "      <td>Seed</td>\n",
       "      <td>1300000.0</td>\n",
       "      <td>Haryana</td>\n",
       "      <td>MediMetry is an online platform where patients...</td>\n",
       "      <td>2018</td>\n",
       "    </tr>\n",
       "    <tr>\n",
       "      <th>181</th>\n",
       "      <td>Corefactors</td>\n",
       "      <td>Unknown</td>\n",
       "      <td>Seed</td>\n",
       "      <td>1300000.0</td>\n",
       "      <td>Bangalore</td>\n",
       "      <td>Corefactors is a leading campaign management, ...</td>\n",
       "      <td>2018</td>\n",
       "    </tr>\n",
       "    <tr>\n",
       "      <th>228</th>\n",
       "      <td>MY CHIRAAG CAB</td>\n",
       "      <td>Travel</td>\n",
       "      <td>Seed</td>\n",
       "      <td>1000000.0</td>\n",
       "      <td>Jaipur</td>\n",
       "      <td>MY CHIRAAG CAB SERVICES PVT LTD</td>\n",
       "      <td>2018</td>\n",
       "    </tr>\n",
       "    <tr>\n",
       "      <th>88</th>\n",
       "      <td>FabAlley</td>\n",
       "      <td>E-Commerce</td>\n",
       "      <td>Series B</td>\n",
       "      <td>8571428.6</td>\n",
       "      <td>Noida</td>\n",
       "      <td>FabAlley is the ultimate Indian fashion destin...</td>\n",
       "      <td>2018</td>\n",
       "    </tr>\n",
       "    <tr>\n",
       "      <th>383</th>\n",
       "      <td>Billdesk</td>\n",
       "      <td>Finance</td>\n",
       "      <td>Venture - Series Unknown</td>\n",
       "      <td>1300000.0</td>\n",
       "      <td>Ahmedabad</td>\n",
       "      <td>BillDesk, a property of IndiaIdeas.com Ltd. wa...</td>\n",
       "      <td>2018</td>\n",
       "    </tr>\n",
       "    <tr>\n",
       "      <th>358</th>\n",
       "      <td>The Souled Store</td>\n",
       "      <td>Fashion</td>\n",
       "      <td>Venture - Series Unknown</td>\n",
       "      <td>3000000.0</td>\n",
       "      <td>Mumbai</td>\n",
       "      <td>The Souled Store bring to you awesome t-shirts...</td>\n",
       "      <td>2018</td>\n",
       "    </tr>\n",
       "    <tr>\n",
       "      <th>83</th>\n",
       "      <td>Carmesi</td>\n",
       "      <td>Health Care</td>\n",
       "      <td>Seed</td>\n",
       "      <td>485714.3</td>\n",
       "      <td>Gurgaon</td>\n",
       "      <td>Carmesi is a brand of high-end menstrual-hygie...</td>\n",
       "      <td>2018</td>\n",
       "    </tr>\n",
       "    <tr>\n",
       "      <th>151</th>\n",
       "      <td>LearnApp</td>\n",
       "      <td>Banking</td>\n",
       "      <td>Seed</td>\n",
       "      <td>285714.3</td>\n",
       "      <td>Noida</td>\n",
       "      <td>Learnapp.co - Video courses &amp; live classes in ...</td>\n",
       "      <td>2018</td>\n",
       "    </tr>\n",
       "    <tr>\n",
       "      <th>305</th>\n",
       "      <td>Tripeur</td>\n",
       "      <td>Information Technology</td>\n",
       "      <td>Seed</td>\n",
       "      <td>600000.0</td>\n",
       "      <td>Bengaluru</td>\n",
       "      <td>Radical Travel Automation - Cloud Based Corpor...</td>\n",
       "      <td>2018</td>\n",
       "    </tr>\n",
       "    <tr>\n",
       "      <th>293</th>\n",
       "      <td>Carmel Organics</td>\n",
       "      <td>Agriculture</td>\n",
       "      <td>Series A</td>\n",
       "      <td>1300000.0</td>\n",
       "      <td>Indore</td>\n",
       "      <td>Carmel Organics is an India-based herb company...</td>\n",
       "      <td>2018</td>\n",
       "    </tr>\n",
       "    <tr>\n",
       "      <th>428</th>\n",
       "      <td>Mynvax</td>\n",
       "      <td>Biotechnology</td>\n",
       "      <td>Angel</td>\n",
       "      <td>1300000.0</td>\n",
       "      <td>Bangalore</td>\n",
       "      <td>Mynvax is a biotech Company.</td>\n",
       "      <td>2018</td>\n",
       "    </tr>\n",
       "  </tbody>\n",
       "</table>\n",
       "</div>"
      ],
      "text/plain": [
       "         Company Name                Industry              Round/Series  \\\n",
       "146         WheelsEMI                 Unknown                  Series B   \n",
       "482         ShareChat                Internet                  Series C   \n",
       "388           Perpule                    Apps                  Series A   \n",
       "164  Classworks India               Education               Undisclosed   \n",
       "418         Medimetry             Health Care                      Seed   \n",
       "181       Corefactors                 Unknown                      Seed   \n",
       "228    MY CHIRAAG CAB                  Travel                      Seed   \n",
       "88           FabAlley              E-Commerce                  Series B   \n",
       "383          Billdesk                 Finance  Venture - Series Unknown   \n",
       "358  The Souled Store                 Fashion  Venture - Series Unknown   \n",
       "83            Carmesi             Health Care                      Seed   \n",
       "151          LearnApp                 Banking                      Seed   \n",
       "305           Tripeur  Information Technology                      Seed   \n",
       "293   Carmel Organics             Agriculture                  Series A   \n",
       "428            Mynvax           Biotechnology                     Angel   \n",
       "\n",
       "        Amount   Location                                      About Company  \\\n",
       "146 14000000.0       Pune  WheelsEMI is the brand name of NBFC, WheelsEMI...   \n",
       "482 99230000.0  Bangalore  ShareChat is a social networking and regional ...   \n",
       "388  4857142.9  Bangalore  Perpule is a self-checkout product for retail ...   \n",
       "164     1428.6    Chennai        Saas, Web App, Mobile App, School Education   \n",
       "418  1300000.0    Haryana  MediMetry is an online platform where patients...   \n",
       "181  1300000.0  Bangalore  Corefactors is a leading campaign management, ...   \n",
       "228  1000000.0     Jaipur                    MY CHIRAAG CAB SERVICES PVT LTD   \n",
       "88   8571428.6      Noida  FabAlley is the ultimate Indian fashion destin...   \n",
       "383  1300000.0  Ahmedabad  BillDesk, a property of IndiaIdeas.com Ltd. wa...   \n",
       "358  3000000.0     Mumbai  The Souled Store bring to you awesome t-shirts...   \n",
       "83    485714.3    Gurgaon  Carmesi is a brand of high-end menstrual-hygie...   \n",
       "151   285714.3      Noida  Learnapp.co - Video courses & live classes in ...   \n",
       "305   600000.0  Bengaluru  Radical Travel Automation - Cloud Based Corpor...   \n",
       "293  1300000.0     Indore  Carmel Organics is an India-based herb company...   \n",
       "428  1300000.0  Bangalore                       Mynvax is a biotech Company.   \n",
       "\n",
       "     Year Funded  \n",
       "146         2018  \n",
       "482         2018  \n",
       "388         2018  \n",
       "164         2018  \n",
       "418         2018  \n",
       "181         2018  \n",
       "228         2018  \n",
       "88          2018  \n",
       "383         2018  \n",
       "358         2018  \n",
       "83          2018  \n",
       "151         2018  \n",
       "305         2018  \n",
       "293         2018  \n",
       "428         2018  "
      ]
     },
     "execution_count": 45,
     "metadata": {},
     "output_type": "execute_result"
    }
   ],
   "source": [
    "data_2018.sample(15)"
   ]
  },
  {
   "cell_type": "markdown",
   "metadata": {},
   "source": [
    "Data Summary after cleaning\n"
   ]
  },
  {
   "cell_type": "markdown",
   "metadata": {},
   "source": [
    "![Data 2018 Summary Image](Images\\2018DataWrangler2.png)\n"
   ]
  },
  {
   "cell_type": "markdown",
   "metadata": {},
   "source": [
    "    5.3.2 2019 Data\n"
   ]
  },
  {
   "cell_type": "markdown",
   "metadata": {},
   "source": [
    "![Data 2018 Summary Image](Images\\2019beforeCleaning.png)\n"
   ]
  },
  {
   "cell_type": "markdown",
   "metadata": {},
   "source": [
    "5.3.2.1 Data Inspection\n"
   ]
  },
  {
   "cell_type": "code",
   "execution_count": 46,
   "metadata": {},
   "outputs": [
    {
     "name": "stdout",
     "output_type": "stream",
     "text": [
      "<class 'pandas.core.frame.DataFrame'>\n",
      "RangeIndex: 89 entries, 0 to 88\n",
      "Data columns (total 9 columns):\n",
      " #   Column         Non-Null Count  Dtype  \n",
      "---  ------         --------------  -----  \n",
      " 0   Company/Brand  89 non-null     object \n",
      " 1   Founded        60 non-null     float64\n",
      " 2   HeadQuarter    70 non-null     object \n",
      " 3   Sector         84 non-null     object \n",
      " 4   What it does   89 non-null     object \n",
      " 5   Founders       86 non-null     object \n",
      " 6   Investor       89 non-null     object \n",
      " 7   Amount($)      89 non-null     object \n",
      " 8   Stage          43 non-null     object \n",
      "dtypes: float64(1), object(8)\n",
      "memory usage: 6.4+ KB\n"
     ]
    }
   ],
   "source": [
    "data_2019.info()"
   ]
  },
  {
   "cell_type": "code",
   "execution_count": 51,
   "metadata": {},
   "outputs": [
    {
     "data": {
      "text/html": [
       "<div>\n",
       "<style scoped>\n",
       "    .dataframe tbody tr th:only-of-type {\n",
       "        vertical-align: middle;\n",
       "    }\n",
       "\n",
       "    .dataframe tbody tr th {\n",
       "        vertical-align: top;\n",
       "    }\n",
       "\n",
       "    .dataframe thead th {\n",
       "        text-align: right;\n",
       "    }\n",
       "</style>\n",
       "<table border=\"1\" class=\"dataframe\">\n",
       "  <thead>\n",
       "    <tr style=\"text-align: right;\">\n",
       "      <th></th>\n",
       "      <th>Company/Brand</th>\n",
       "      <th>Founded</th>\n",
       "      <th>HeadQuarter</th>\n",
       "      <th>Sector</th>\n",
       "      <th>What it does</th>\n",
       "      <th>Founders</th>\n",
       "      <th>Investor</th>\n",
       "      <th>Amount($)</th>\n",
       "      <th>Stage</th>\n",
       "    </tr>\n",
       "  </thead>\n",
       "  <tbody>\n",
       "    <tr>\n",
       "      <th>85</th>\n",
       "      <td>Oyo</td>\n",
       "      <td>2013.0</td>\n",
       "      <td>Gurugram</td>\n",
       "      <td>Hospitality</td>\n",
       "      <td>Provides rooms for comfortable stay</td>\n",
       "      <td>Ritesh Agarwal</td>\n",
       "      <td>MyPreferred Transformation, Avendus Finance, S...</td>\n",
       "      <td>$693,000,000</td>\n",
       "      <td>NaN</td>\n",
       "    </tr>\n",
       "    <tr>\n",
       "      <th>70</th>\n",
       "      <td>Zebu</td>\n",
       "      <td>2015.0</td>\n",
       "      <td>NaN</td>\n",
       "      <td>Cybersecurity</td>\n",
       "      <td>Platform uses encryption technology to allow b...</td>\n",
       "      <td>Team of Waterloo-based software developers</td>\n",
       "      <td>Undisclosed</td>\n",
       "      <td>$4,000,000</td>\n",
       "      <td>Seed round</td>\n",
       "    </tr>\n",
       "    <tr>\n",
       "      <th>2</th>\n",
       "      <td>Eduisfun</td>\n",
       "      <td>NaN</td>\n",
       "      <td>Mumbai</td>\n",
       "      <td>Edtech</td>\n",
       "      <td>It aims to make learning fun via games.</td>\n",
       "      <td>Jatin Solanki</td>\n",
       "      <td>Deepak Parekh, Amitabh Bachchan, Piyush Pandey</td>\n",
       "      <td>$28,000,000</td>\n",
       "      <td>Fresh funding</td>\n",
       "    </tr>\n",
       "    <tr>\n",
       "      <th>21</th>\n",
       "      <td>Pristyn Care</td>\n",
       "      <td>2018.0</td>\n",
       "      <td>NaN</td>\n",
       "      <td>Healthcare</td>\n",
       "      <td>Delivers advanced medical care &amp; clinical exce...</td>\n",
       "      <td>Harsimarbir Singh, Dr Vaibhav Kapoor, Dr Garim...</td>\n",
       "      <td>Sequoia India, Hummingbird Ventures, Greenoaks...</td>\n",
       "      <td>$12,000,000</td>\n",
       "      <td>Series B</td>\n",
       "    </tr>\n",
       "    <tr>\n",
       "      <th>36</th>\n",
       "      <td>Zetwerk</td>\n",
       "      <td>2018.0</td>\n",
       "      <td>Bangalore</td>\n",
       "      <td>Manufacturing</td>\n",
       "      <td>Provides facilities to get products manufactured.</td>\n",
       "      <td>Amit Acharya, Srinath Ramakkrushnan</td>\n",
       "      <td>Lightspeed and Greenoaks Capital, Sequoia Indi...</td>\n",
       "      <td>$32,000,000</td>\n",
       "      <td>Series B</td>\n",
       "    </tr>\n",
       "    <tr>\n",
       "      <th>48</th>\n",
       "      <td>Box8</td>\n",
       "      <td>2011.0</td>\n",
       "      <td>Mumbai</td>\n",
       "      <td>Foodtech</td>\n",
       "      <td>Enables to order food online</td>\n",
       "      <td>Amit Raj, Anshul Gupta</td>\n",
       "      <td>Trifecta Capital</td>\n",
       "      <td>$120,000,000</td>\n",
       "      <td>NaN</td>\n",
       "    </tr>\n",
       "    <tr>\n",
       "      <th>35</th>\n",
       "      <td>HappyEasyGo</td>\n",
       "      <td>2017.0</td>\n",
       "      <td>Gurugram</td>\n",
       "      <td>Travel</td>\n",
       "      <td>Online flight booking</td>\n",
       "      <td>Vivek Prabhakar, Boris Zha</td>\n",
       "      <td>Korea Investment Partners (KIP), Samsung Ventu...</td>\n",
       "      <td>$49,400,000</td>\n",
       "      <td>Series B+</td>\n",
       "    </tr>\n",
       "    <tr>\n",
       "      <th>54</th>\n",
       "      <td>Ninjacart</td>\n",
       "      <td>2015.0</td>\n",
       "      <td>NaN</td>\n",
       "      <td>B2B Supply Chain</td>\n",
       "      <td>It connects producers of food directly to reta...</td>\n",
       "      <td>Thirukumaran Nagarajanin, Vasudevan Chinnathambi</td>\n",
       "      <td>Walmart, Flipkart</td>\n",
       "      <td>Undisclosed</td>\n",
       "      <td>NaN</td>\n",
       "    </tr>\n",
       "    <tr>\n",
       "      <th>64</th>\n",
       "      <td>Moms Co</td>\n",
       "      <td>NaN</td>\n",
       "      <td>New Delhi</td>\n",
       "      <td>E-commerce</td>\n",
       "      <td>It is into mother and baby care-focused consum...</td>\n",
       "      <td>Malika Sadani</td>\n",
       "      <td>Saama Capital, DSG Consumer Partners</td>\n",
       "      <td>$5,000,000</td>\n",
       "      <td>Series B</td>\n",
       "    </tr>\n",
       "    <tr>\n",
       "      <th>7</th>\n",
       "      <td>Kratikal</td>\n",
       "      <td>2013.0</td>\n",
       "      <td>Noida</td>\n",
       "      <td>Technology</td>\n",
       "      <td>It is a product-based cybersecurity solutions ...</td>\n",
       "      <td>Pavan Kushwaha, Paratosh Bansal, Dip Jung Thapa</td>\n",
       "      <td>Gilda VC, Art Venture, Rajeev Chitrabhanu.</td>\n",
       "      <td>$1,000,000</td>\n",
       "      <td>Pre series A</td>\n",
       "    </tr>\n",
       "    <tr>\n",
       "      <th>83</th>\n",
       "      <td>Froogal</td>\n",
       "      <td>NaN</td>\n",
       "      <td>Hyderabad</td>\n",
       "      <td>Marketing &amp; Customer loyalty</td>\n",
       "      <td>A cloud based Customer Loyalty &amp; Engagement Pl...</td>\n",
       "      <td>Jeevan Chowdary M, Harshit Harchani</td>\n",
       "      <td>US-based angel investors</td>\n",
       "      <td>$1,000,000</td>\n",
       "      <td>Pre series A</td>\n",
       "    </tr>\n",
       "    <tr>\n",
       "      <th>52</th>\n",
       "      <td>TapChief</td>\n",
       "      <td>2016.0</td>\n",
       "      <td>Bangalore</td>\n",
       "      <td>NaN</td>\n",
       "      <td>It connects individuals in need of advice in a...</td>\n",
       "      <td>Shashank Murali, Binay Krishna, Arjun Krishna</td>\n",
       "      <td>Blume Ventures.</td>\n",
       "      <td>$1,500,000</td>\n",
       "      <td>Pre series A</td>\n",
       "    </tr>\n",
       "    <tr>\n",
       "      <th>38</th>\n",
       "      <td>Freshokartz</td>\n",
       "      <td>2016.0</td>\n",
       "      <td>Jaipur</td>\n",
       "      <td>E-marketplace</td>\n",
       "      <td>Online fruits and vegetables delivery company</td>\n",
       "      <td>Rajendra Lora</td>\n",
       "      <td>ThinkLab</td>\n",
       "      <td>$150,000</td>\n",
       "      <td>Pre series A</td>\n",
       "    </tr>\n",
       "    <tr>\n",
       "      <th>73</th>\n",
       "      <td>Shadowfax</td>\n",
       "      <td>2015.0</td>\n",
       "      <td>Bangalore</td>\n",
       "      <td>Logistics</td>\n",
       "      <td>A platform for delivery services</td>\n",
       "      <td>Abhishek Bansal, Vaibhav Khandelwal</td>\n",
       "      <td>Flipkart, Eight Roads Ventures, NGP Capital, Q...</td>\n",
       "      <td>$60,000,000</td>\n",
       "      <td>Series D</td>\n",
       "    </tr>\n",
       "    <tr>\n",
       "      <th>31</th>\n",
       "      <td>truMe</td>\n",
       "      <td>NaN</td>\n",
       "      <td>NaN</td>\n",
       "      <td>IoT</td>\n",
       "      <td>A global platform for Identity and Access Mana...</td>\n",
       "      <td>Babu Dayal, Pramod Uniyal, Lalit Mehta</td>\n",
       "      <td>Rajan Kaistha</td>\n",
       "      <td>$140,000</td>\n",
       "      <td>NaN</td>\n",
       "    </tr>\n",
       "  </tbody>\n",
       "</table>\n",
       "</div>"
      ],
      "text/plain": [
       "   Company/Brand  Founded HeadQuarter                        Sector  \\\n",
       "85           Oyo   2013.0    Gurugram                   Hospitality   \n",
       "70          Zebu   2015.0         NaN                 Cybersecurity   \n",
       "2       Eduisfun      NaN      Mumbai                        Edtech   \n",
       "21  Pristyn Care   2018.0         NaN                    Healthcare   \n",
       "36       Zetwerk   2018.0   Bangalore                 Manufacturing   \n",
       "48          Box8   2011.0      Mumbai                      Foodtech   \n",
       "35   HappyEasyGo   2017.0    Gurugram                        Travel   \n",
       "54     Ninjacart   2015.0         NaN              B2B Supply Chain   \n",
       "64       Moms Co      NaN   New Delhi                    E-commerce   \n",
       "7       Kratikal   2013.0       Noida                    Technology   \n",
       "83       Froogal      NaN   Hyderabad  Marketing & Customer loyalty   \n",
       "52      TapChief   2016.0   Bangalore                           NaN   \n",
       "38   Freshokartz   2016.0      Jaipur                 E-marketplace   \n",
       "73     Shadowfax   2015.0   Bangalore                     Logistics   \n",
       "31         truMe      NaN         NaN                           IoT   \n",
       "\n",
       "                                         What it does  \\\n",
       "85                Provides rooms for comfortable stay   \n",
       "70  Platform uses encryption technology to allow b...   \n",
       "2             It aims to make learning fun via games.   \n",
       "21  Delivers advanced medical care & clinical exce...   \n",
       "36  Provides facilities to get products manufactured.   \n",
       "48                       Enables to order food online   \n",
       "35                              Online flight booking   \n",
       "54  It connects producers of food directly to reta...   \n",
       "64  It is into mother and baby care-focused consum...   \n",
       "7   It is a product-based cybersecurity solutions ...   \n",
       "83  A cloud based Customer Loyalty & Engagement Pl...   \n",
       "52  It connects individuals in need of advice in a...   \n",
       "38      Online fruits and vegetables delivery company   \n",
       "73                   A platform for delivery services   \n",
       "31  A global platform for Identity and Access Mana...   \n",
       "\n",
       "                                             Founders  \\\n",
       "85                                     Ritesh Agarwal   \n",
       "70         Team of Waterloo-based software developers   \n",
       "2                                       Jatin Solanki   \n",
       "21  Harsimarbir Singh, Dr Vaibhav Kapoor, Dr Garim...   \n",
       "36                Amit Acharya, Srinath Ramakkrushnan   \n",
       "48                             Amit Raj, Anshul Gupta   \n",
       "35                         Vivek Prabhakar, Boris Zha   \n",
       "54   Thirukumaran Nagarajanin, Vasudevan Chinnathambi   \n",
       "64                                      Malika Sadani   \n",
       "7     Pavan Kushwaha, Paratosh Bansal, Dip Jung Thapa   \n",
       "83                Jeevan Chowdary M, Harshit Harchani   \n",
       "52      Shashank Murali, Binay Krishna, Arjun Krishna   \n",
       "38                                      Rajendra Lora   \n",
       "73                Abhishek Bansal, Vaibhav Khandelwal   \n",
       "31             Babu Dayal, Pramod Uniyal, Lalit Mehta   \n",
       "\n",
       "                                             Investor     Amount($)  \\\n",
       "85  MyPreferred Transformation, Avendus Finance, S...  $693,000,000   \n",
       "70                                        Undisclosed    $4,000,000   \n",
       "2      Deepak Parekh, Amitabh Bachchan, Piyush Pandey   $28,000,000   \n",
       "21  Sequoia India, Hummingbird Ventures, Greenoaks...   $12,000,000   \n",
       "36  Lightspeed and Greenoaks Capital, Sequoia Indi...   $32,000,000   \n",
       "48                                   Trifecta Capital  $120,000,000   \n",
       "35  Korea Investment Partners (KIP), Samsung Ventu...   $49,400,000   \n",
       "54                                  Walmart, Flipkart   Undisclosed   \n",
       "64               Saama Capital, DSG Consumer Partners    $5,000,000   \n",
       "7          Gilda VC, Art Venture, Rajeev Chitrabhanu.    $1,000,000   \n",
       "83                           US-based angel investors    $1,000,000   \n",
       "52                                    Blume Ventures.    $1,500,000   \n",
       "38                                           ThinkLab      $150,000   \n",
       "73  Flipkart, Eight Roads Ventures, NGP Capital, Q...   $60,000,000   \n",
       "31                                      Rajan Kaistha      $140,000   \n",
       "\n",
       "            Stage  \n",
       "85            NaN  \n",
       "70     Seed round  \n",
       "2   Fresh funding  \n",
       "21       Series B  \n",
       "36       Series B  \n",
       "48            NaN  \n",
       "35      Series B+  \n",
       "54            NaN  \n",
       "64       Series B  \n",
       "7    Pre series A  \n",
       "83   Pre series A  \n",
       "52   Pre series A  \n",
       "38   Pre series A  \n",
       "73       Series D  \n",
       "31            NaN  "
      ]
     },
     "execution_count": 51,
     "metadata": {},
     "output_type": "execute_result"
    }
   ],
   "source": [
    "data_2019.sample(15)"
   ]
  },
  {
   "cell_type": "markdown",
   "metadata": {},
   "source": [
    "5.3.2.2 Data Inspection\n"
   ]
  },
  {
   "cell_type": "markdown",
   "metadata": {},
   "source": [
    "Insight from above\n",
    "\n",
    "- We have 87 Unique companies\n",
    "- Most columns are string data type excpt Founded column\n",
    "- We have missing values in Founded 29(33%), Headquarter 19(21%), Sector6(6%), Founders, Stage 46(52%)\n",
    "- City with most startup in 2019 data is Bnagalore (24%), Mumbai (13%) and Delhi (11%), the missing Values is 21%\n",
    "- From amount column undisclosed is having 13%\n"
   ]
  },
  {
   "cell_type": "markdown",
   "metadata": {},
   "source": [
    "To speed up the data cleaning process, let uses d=function\n",
    "\n",
    "1. For Descriptive statistics of a variable\n",
    "2. For Data distribution of a variable (histogram)\n",
    "3. For Check for missing values in a variable and ploting it\n"
   ]
  },
  {
   "cell_type": "code",
   "execution_count": 92,
   "metadata": {},
   "outputs": [],
   "source": [
    "# To find descriptive statistics of ou data\n",
    "def descriptive_statistics(variable):\n",
    "    return variable.describe()\n",
    "\n",
    "# To plot the data distribution of out data using a histogram\n",
    "def plot_data_distribution(variable):\n",
    "    plt.hist(variable)\n",
    "    plt.xlabel('Values')\n",
    "    plt.ylabel('Frequency')\n",
    "    plt.title('Histogram')\n",
    "    plt.show()\n",
    "\n",
    "# To check for missing values in a variable\n",
    "def check_missing_values(variable):\n",
    "    return variable.isnull().sum()\n",
    "\n",
    "# To detect outliers\n",
    "def detect_outliers(data, column):\n",
    "    Q1 = data[column].quantile(0.25)\n",
    "    Q3 = data[column].quantile(0.75)\n",
    "    IQR = Q3 - Q1\n",
    "    lower_bound = Q1 - 1.5 * IQR\n",
    "    upper_bound = Q3 + 1.5 * IQR\n",
    "    outliers = data[(data[column] < lower_bound) | (data[column] > upper_bound)]\n",
    "    return outliers\n",
    "# ploting missing values \n",
    "def plot_missing_values_heatmap(df):\n",
    "    # indicating missing values\n",
    "    missing_values = df.isnull()\n",
    "\n",
    "    colors = sns.color_palette(['#FF9933', '#FFFFFF', '#138808'])  # Saffron, White, Green(Indian color) as am working with the data related to India\n",
    "    # Plotting \n",
    "    sns.heatmap(missing_values, cmap=colors)\n",
    "    plt.title('Missing Values Heatmap')\n",
    "    plt.xlabel('Columns')\n",
    "    plt.ylabel('Rows')\n",
    "    plt.show()\n",
    "def check_unique_value_in_column(dataset, column):\n",
    "    return dataset[column].unique().tolist() \n",
    "\n",
    "    "
   ]
  },
  {
   "cell_type": "markdown",
   "metadata": {},
   "source": [
    "5.3.2.2 Unique values in eacah columns of data\n"
   ]
  },
  {
   "cell_type": "code",
   "execution_count": 93,
   "metadata": {},
   "outputs": [
    {
     "data": {
      "text/plain": [
       "['Bombay Shaving',\n",
       " 'Ruangguru',\n",
       " 'Eduisfun',\n",
       " 'HomeLane',\n",
       " 'Nu Genes',\n",
       " 'FlytBase',\n",
       " 'Finly',\n",
       " 'Kratikal',\n",
       " 'Quantiphi',\n",
       " 'Lenskart',\n",
       " 'Cub McPaws',\n",
       " 'Appnomic',\n",
       " 'Kaleidofin',\n",
       " 'JobSquare',\n",
       " 'Open Secret',\n",
       " 'LivFin',\n",
       " \"Byju's\",\n",
       " 'Zest Money',\n",
       " 'Witblox',\n",
       " 'Azah Personal Care Pvt. Ltd.',\n",
       " 'SalaryFits',\n",
       " 'Pristyn Care',\n",
       " 'Springboard',\n",
       " 'DROR Labs Pvt. Ltd',\n",
       " 'Medlife',\n",
       " 'Seekify',\n",
       " 'Toffee Insurance',\n",
       " 'Fireflies .ai',\n",
       " 'HungerBox',\n",
       " 'Bijak',\n",
       " 'Licious',\n",
       " 'truMe',\n",
       " 'Pumpkart',\n",
       " 'Asteria Aerospace',\n",
       " 'Rivigo',\n",
       " 'HappyEasyGo',\n",
       " 'Zetwerk',\n",
       " 'Observe.AI',\n",
       " 'Freshokartz',\n",
       " 'Lil’ Goodness and sCool meal',\n",
       " 'Trell',\n",
       " 'VMate',\n",
       " 'Bombay Shirt Company',\n",
       " 'Slintel',\n",
       " 'MyGameMate',\n",
       " 'Afinoz',\n",
       " 'Rein Games',\n",
       " 'Ecozen',\n",
       " 'Box8',\n",
       " 'Awign Enterprises',\n",
       " 'Purplle',\n",
       " 'Freightwalla',\n",
       " 'TapChief',\n",
       " 'eJOHRI',\n",
       " 'Ninjacart',\n",
       " 'Binca Games',\n",
       " 'KredX',\n",
       " 'm.Paani',\n",
       " 'Origo',\n",
       " 'WishADish',\n",
       " 'Ecom Express',\n",
       " 'Stanza Living',\n",
       " 'PiBeam',\n",
       " 'Euler Motors',\n",
       " 'Moms Co',\n",
       " 'Cubical Labs',\n",
       " 'Lawyered',\n",
       " 'Cuemath',\n",
       " 'Nivesh.com',\n",
       " 'Zebu',\n",
       " 'Smart Institute',\n",
       " 'CarDekho',\n",
       " 'Shadowfax',\n",
       " 'Credr',\n",
       " 'Sportido',\n",
       " 'Phable',\n",
       " 'Sarva',\n",
       " 'IndyFint',\n",
       " 'Zolostays',\n",
       " 'Ola',\n",
       " 'Zoomcar',\n",
       " 'Froogal',\n",
       " 'Infra.Market',\n",
       " 'Oyo',\n",
       " 'GoMechanic',\n",
       " 'Spinny',\n",
       " 'Ess Kay Fincorp']"
      ]
     },
     "execution_count": 93,
     "metadata": {},
     "output_type": "execute_result"
    }
   ],
   "source": [
    "check_unique_value_in_column(data_2019, 'Company/Brand')"
   ]
  },
  {
   "cell_type": "code",
   "execution_count": 94,
   "metadata": {},
   "outputs": [
    {
     "data": {
      "text/plain": [
       "[nan,\n",
       " 2014.0,\n",
       " 2004.0,\n",
       " 2013.0,\n",
       " 2010.0,\n",
       " 2018.0,\n",
       " 2019.0,\n",
       " 2017.0,\n",
       " 2011.0,\n",
       " 2015.0,\n",
       " 2016.0,\n",
       " 2012.0,\n",
       " 2008.0]"
      ]
     },
     "execution_count": 94,
     "metadata": {},
     "output_type": "execute_result"
    }
   ],
   "source": [
    "check_unique_value_in_column(data_2019, 'Founded')\n"
   ]
  },
  {
   "cell_type": "code",
   "execution_count": 95,
   "metadata": {},
   "outputs": [
    {
     "data": {
      "text/plain": [
       "[nan,\n",
       " 'Mumbai',\n",
       " 'Chennai',\n",
       " 'Telangana',\n",
       " 'Pune',\n",
       " 'Bangalore',\n",
       " 'Noida',\n",
       " 'Delhi',\n",
       " 'Ahmedabad',\n",
       " 'Gurugram',\n",
       " 'Haryana',\n",
       " 'Chandigarh',\n",
       " 'Jaipur',\n",
       " 'New Delhi',\n",
       " 'Surat',\n",
       " 'Uttar pradesh',\n",
       " 'Hyderabad',\n",
       " 'Rajasthan']"
      ]
     },
     "execution_count": 95,
     "metadata": {},
     "output_type": "execute_result"
    }
   ],
   "source": [
    "check_unique_value_in_column(data_2019, 'HeadQuarter')\n"
   ]
  },
  {
   "cell_type": "code",
   "execution_count": 96,
   "metadata": {},
   "outputs": [
    {
     "data": {
      "text/plain": [
       "['Ecommerce',\n",
       " 'Edtech',\n",
       " 'Interior design',\n",
       " 'AgriTech',\n",
       " 'Technology',\n",
       " 'SaaS',\n",
       " 'AI & Tech',\n",
       " 'E-commerce',\n",
       " 'E-commerce & AR',\n",
       " 'Fintech',\n",
       " 'HR tech',\n",
       " 'Food tech',\n",
       " 'Health',\n",
       " 'Healthcare',\n",
       " 'Safety tech',\n",
       " 'Pharmaceutical',\n",
       " 'Insurance technology',\n",
       " 'AI',\n",
       " 'Foodtech',\n",
       " 'Food',\n",
       " 'IoT',\n",
       " 'E-marketplace',\n",
       " 'Robotics & AI',\n",
       " 'Logistics',\n",
       " 'Travel',\n",
       " 'Manufacturing',\n",
       " 'Food & Nutrition',\n",
       " 'Social Media',\n",
       " nan,\n",
       " 'E-Sports',\n",
       " 'Cosmetics',\n",
       " 'B2B',\n",
       " 'Jewellery',\n",
       " 'B2B Supply Chain',\n",
       " 'Games',\n",
       " 'Food & tech',\n",
       " 'Accomodation',\n",
       " 'Automotive tech',\n",
       " 'Legal tech',\n",
       " 'Mutual Funds',\n",
       " 'Cybersecurity',\n",
       " 'Automobile',\n",
       " 'Sports',\n",
       " 'Healthtech',\n",
       " 'Yoga & wellness',\n",
       " 'Virtual Banking',\n",
       " 'Transportation',\n",
       " 'Transport & Rentals',\n",
       " 'Marketing & Customer loyalty',\n",
       " 'Infratech',\n",
       " 'Hospitality',\n",
       " 'Automobile & Technology',\n",
       " 'Banking']"
      ]
     },
     "execution_count": 96,
     "metadata": {},
     "output_type": "execute_result"
    }
   ],
   "source": [
    "check_unique_value_in_column(data_2019, 'Sector')\n"
   ]
  },
  {
   "cell_type": "code",
   "execution_count": 97,
   "metadata": {},
   "outputs": [
    {
     "data": {
      "text/plain": [
       "['Shantanu Deshpande',\n",
       " 'Adamas Belva Syah Devara, Iman Usman.',\n",
       " 'Jatin Solanki',\n",
       " 'Srikanth Iyer, Rama Harinath',\n",
       " 'Narayana Reddy Punyala',\n",
       " 'Nitin Gupta',\n",
       " 'Vivek AG, Veekshith C Rai',\n",
       " 'Pavan Kushwaha, Paratosh Bansal, Dip Jung Thapa',\n",
       " 'Renuka Ramnath',\n",
       " 'Peyush Bansal, Amit Chaudhary, Sumeet Kapahi',\n",
       " 'Abhay Bhat, Kinnar Shah',\n",
       " 'D Padmanabhan',\n",
       " 'Puneet Gupta, Sucharita Mukherjee',\n",
       " 'Ishit Jethwa',\n",
       " 'Ahana Gautam, Udit Kejriwal',\n",
       " 'Rakesh Malhotra',\n",
       " 'Byju Raveendran',\n",
       " 'Chapman, Priya Sharma, Ashish Anantharaman',\n",
       " 'Amit Modi',\n",
       " 'Mohammed, Shashwat Diesh',\n",
       " 'Renato Araujo',\n",
       " 'Harsimarbir Singh, Dr Vaibhav Kapoor, Dr Garima Sawhney',\n",
       " 'Gautam Tambay, Parul Gupta',\n",
       " 'Dhiraj Naubhar, Dheeraj Bansal',\n",
       " 'Tushar Kumar, Prashant Singh',\n",
       " 'Arihant Jain, Ajeet Kushwaha',\n",
       " 'Nishant Jain, Rohan Kumar',\n",
       " 'Sam Udotong',\n",
       " 'Sandipan Mitra, Uttam Kumar',\n",
       " 'Nukul Upadhye, Mahesh Jakhotia, Jitender Bedwal, Daya Rai, Nikhil Tripathi',\n",
       " 'Vivek Gupta, Abhay Hanjura',\n",
       " 'Babu Dayal, Pramod Uniyal, Lalit Mehta',\n",
       " 'KS Bhatia',\n",
       " 'Neel Mehta, Nihar Vartak',\n",
       " 'Deepak Garg, Gazal Kalra',\n",
       " 'Vivek Prabhakar, Boris Zha',\n",
       " 'Amit Acharya, Srinath Ramakkrushnan',\n",
       " 'Swapnil',\n",
       " 'Rajendra Lora',\n",
       " nan,\n",
       " 'Pulkit Agrawal, Prashant Sachan, Arun Lodhi, Bimal Kartheek Rebba',\n",
       " 'Akshay Narvekar',\n",
       " 'Deepak Anchala',\n",
       " 'Parshavv Jain& Raju Kushwaha',\n",
       " 'Rachna Suneja',\n",
       " 'Vaibhav Gupta, Himanshu Devra, Pranav Chaudhary, Nishtha Gupta',\n",
       " 'Devendra Gupta, Prateek Singhal, Vivek Pandey',\n",
       " 'Amit Raj, Anshul Gupta',\n",
       " 'Annanya Sarthak, Gurpreet Singh, Praveen Sah',\n",
       " 'Manish Taneja, Rahul Dash',\n",
       " 'Sanjay Bhatia, Bharat Tanvi, Punit Java',\n",
       " 'Shashank Murali, Binay Krishna, Arjun Krishna',\n",
       " 'Jignesh Mehta, Shailen Mehta',\n",
       " 'Thirukumaran Nagarajanin, Vasudevan Chinnathambi',\n",
       " 'Rubianca Wadhwa, Sahil Wadhwa',\n",
       " 'Manish Kumar',\n",
       " 'Akanksha Hazari',\n",
       " 'Mayank Dhanuka, Sunoor Kaul',\n",
       " 'Sawan Kumar, Bhavya Bhambhani',\n",
       " 'Krishnan, Manju Dhawan, K Satyanarayana, Sanjeev Saxena',\n",
       " 'Sandeep Dalmia, Anindya Dutta',\n",
       " 'Visakh Sasikumar',\n",
       " 'Saurav Kumar',\n",
       " 'Malika Sadani',\n",
       " 'Dhruv Ratra, Swati Vyas',\n",
       " 'Ashish Bhatia, Himanshu Gupta',\n",
       " 'Manan Khurma',\n",
       " 'Anurag Garg, Sridhar Srinivasan',\n",
       " 'Team of Waterloo-based software developers',\n",
       " 'Amit Jain',\n",
       " 'Abhishek Bansal, Vaibhav Khandelwal',\n",
       " 'Mittal',\n",
       " 'Neeraj Aggarwala, Akhil Ramachandran',\n",
       " 'Sumit Sinha',\n",
       " 'Sarvesh Shashi',\n",
       " 'Paddy Padmanabhan',\n",
       " 'Akhil Sikri, Nikhil Sikri, Sneha Choudhry',\n",
       " 'Bhavish Aggarwal, Ankit Bhati',\n",
       " 'Greg Moran, David Back',\n",
       " 'Pavan Kushwaha',\n",
       " 'Jeevan Chowdary M, Harshit Harchani',\n",
       " 'Aaditya Sharda, Souvik Sengupta',\n",
       " 'Ritesh Agarwal',\n",
       " 'Amit Bhasin, Kushal Karwa, Nitin Rana, Rishabh Karwa',\n",
       " 'Niraj Singh, Ramanshu Mahaur, Ganesh Pawar, Mohit Gupta',\n",
       " 'Rajendra Setia']"
      ]
     },
     "execution_count": 97,
     "metadata": {},
     "output_type": "execute_result"
    }
   ],
   "source": [
    "check_unique_value_in_column(data_2019, 'Founders')\n",
    "\n"
   ]
  },
  {
   "cell_type": "code",
   "execution_count": 98,
   "metadata": {},
   "outputs": [
    {
     "data": {
      "text/plain": [
       "['Sixth Sense Ventures',\n",
       " 'General Atlantic',\n",
       " 'Deepak Parekh, Amitabh Bachchan, Piyush Pandey',\n",
       " 'Evolvence India Fund (EIF), Pidilite Group, FJ Labs',\n",
       " 'Innovation in Food and Agriculture (IFA)',\n",
       " 'Undisclosed',\n",
       " 'Social Capital, AngelList India, Gemba Capital, Omphalos Ventures,\\xa0\\xa091springboard via Atal Innovation Mission, Niti Aayog.',\n",
       " 'Gilda VC, Art Venture, Rajeev Chitrabhanu.',\n",
       " 'Multiples Alternate Asset Management',\n",
       " 'SoftBank',\n",
       " 'Venture Catalysts',\n",
       " 'Avataar Ventures',\n",
       " 'Oikocredit',\n",
       " 'Titan Capital',\n",
       " 'Matrix Partners',\n",
       " 'German development finance institution DEG',\n",
       " 'South Africa’s Naspers Ventures, the CPP Investment Board',\n",
       " 'Goldman Sachs.',\n",
       " 'Mumbai Angels Network',\n",
       " 'Kunal Bahl, Rohit Bansal.',\n",
       " 'Brazilian VC Fund Confrapar',\n",
       " 'Sequoia India, Hummingbird Ventures, Greenoaks Capital, AngelList.',\n",
       " 'Reach Capital',\n",
       " 'Inflection Point Ventures',\n",
       " 'Wilson Global Opportunities Fund',\n",
       " 'Sequoia Capita',\n",
       " 'IVM Intersurer',\n",
       " 'Canaan Partners',\n",
       " 'Paytm, Asian VC fund NPTK, Sabre Partners, Neoplux.',\n",
       " 'Omnivore and Omidyar Network India, Sequoia Capital',\n",
       " 'Vertex Growth Fund',\n",
       " 'Rajan Kaistha',\n",
       " 'Dinesh Dua',\n",
       " 'Reliance Industries',\n",
       " 'SAIF Partners India VI Ltd, Spring Canter Investment Ltd',\n",
       " 'Korea Investment Partners (KIP), Samsung Venture Investment Corporation (SVIC), UOB Venture, 10 Fund, CVCapital, Zero2IPO Ventures, M&S Partners',\n",
       " 'Lightspeed and Greenoaks Capital, Sequoia India, Accel and Kae Capital',\n",
       " 'Scale Venture Partners',\n",
       " 'ThinkLab',\n",
       " 'Sajan Pillai, Muthu Krishnan,',\n",
       " 'Ruizheng Investment, Tej Kapoor, Krinshavataram Venkata Vinjamuri, Harsh Shah',\n",
       " 'Alibaba',\n",
       " 'Lightbox Ventures',\n",
       " 'Stellaris Ventures',\n",
       " 'Jindagi Live Angels,',\n",
       " 'Fintech innovation lab',\n",
       " 'Manipal Education and Medical Group (MEMG) family office, Titan Capital',\n",
       " 'Innovation in Food & Agriculture Fund (IFA Fund)',\n",
       " 'Trifecta Capital',\n",
       " 'Work10M, Michael and Susan Dell Foundation, Eagle10, Unitus Ventures.',\n",
       " 'Goldman Sachs',\n",
       " 'Amplo, FJ Labs, Rogue One Capital',\n",
       " 'Blume Ventures.',\n",
       " 'Rajesh Ranavat',\n",
       " 'Walmart, Flipkart',\n",
       " 'Sunil Gavaskar',\n",
       " 'Tiger Global Management',\n",
       " 'AC Ventures, Henkel',\n",
       " 'Oikocredit, Caspian SME Impact Fund IV,\\xa0\\xa0Triodos Investment Management',\n",
       " 'CDC Group',\n",
       " 'Alteria Capital',\n",
       " 'GAIL (India) Ltd',\n",
       " 'Blume Ventures, Emergent Ventures',\n",
       " 'Saama Capital, DSG Consumer Partners',\n",
       " 'Rockstud Capital',\n",
       " 'Pramendra Tomar, Ratish Pandey, Munish Bhatia, Sumit Aggarwal',\n",
       " 'Manta Ray Ventures Limited, Google’s Capital G, Sequoia India.',\n",
       " 'Vertex Ventures',\n",
       " 'Windrose Capital',\n",
       " 'HNI investors',\n",
       " 'Ping An Global Voyager Fund, Hillhouse Capital, Sequoia Capital',\n",
       " 'Flipkart, Eight Roads Ventures, NGP Capital, Qualcomm Ventures, Mirae Asset Naver Fund, World Bank-backed IFC',\n",
       " 'Omidyar Network, Eight Roads Ventures, GrowthStory, AngelList',\n",
       " 'Inflection Point Ventures, SucSEED Venture Partners.',\n",
       " 'LetsVenture, 91 Springboard, IKP Knowledge, Angel investors, AbInbev-Serge DeVos, Wouter Peeters.',\n",
       " 'Venture fund, Fireside Ventures.',\n",
       " 'Saravanan Adiseshan',\n",
       " 'Kia Motors, Hyundai',\n",
       " 'Zoomcar Inc',\n",
       " 'Gilda VC, Art Venture, Rajeev Chitrabhanu',\n",
       " 'US-based angel investors',\n",
       " 'Tiger Global, Nexus Venture Partners, Accel Partners, Dhruv Agarwala',\n",
       " 'MyPreferred Transformation, Avendus Finance, SoftBank',\n",
       " 'Sequoia Capital',\n",
       " 'Norwest Venture Partners, General Catalyst, Fundamentum, Accel Partners',\n",
       " 'TPG, Norwest Venture Partners, Evolvence India']"
      ]
     },
     "execution_count": 98,
     "metadata": {},
     "output_type": "execute_result"
    }
   ],
   "source": [
    "check_unique_value_in_column(data_2019, 'Investor')\n"
   ]
  },
  {
   "cell_type": "code",
   "execution_count": 99,
   "metadata": {},
   "outputs": [
    {
     "data": {
      "text/plain": [
       "['$6,300,000',\n",
       " '$150,000,000',\n",
       " '$28,000,000',\n",
       " '$30,000,000',\n",
       " '$6,000,000',\n",
       " 'Undisclosed',\n",
       " '$1,000,000',\n",
       " '$20,000,000',\n",
       " '$275,000,000',\n",
       " '$22,000,000',\n",
       " '$5,000,000',\n",
       " '$140,500',\n",
       " '$540,000,000',\n",
       " '$15,000,000',\n",
       " '$182,700',\n",
       " '$12,000,000',\n",
       " '$11,000,000',\n",
       " '$15,500,000',\n",
       " '$1,500,000',\n",
       " '$5,500,000',\n",
       " '$2,500,000',\n",
       " '$140,000',\n",
       " '$230,000,000',\n",
       " '$49,400,000',\n",
       " '$32,000,000',\n",
       " '$26,000,000',\n",
       " '$150,000',\n",
       " '$400,000',\n",
       " '$2,000,000',\n",
       " '$100,000,000',\n",
       " '$8,000,000',\n",
       " '$100,000',\n",
       " '$50,000,000',\n",
       " '$120,000,000',\n",
       " '$4,000,000',\n",
       " '$6,800,000',\n",
       " '$36,000,000',\n",
       " '$5,700,000',\n",
       " '$25,000,000',\n",
       " '$600,000',\n",
       " '$70,000,000',\n",
       " '$60,000,000',\n",
       " '$220,000',\n",
       " '$2,800,000',\n",
       " '$2,100,000',\n",
       " '$7,000,000',\n",
       " '$311,000,000',\n",
       " '$4,800,000',\n",
       " '$693,000,000',\n",
       " '$33,000,000']"
      ]
     },
     "execution_count": 99,
     "metadata": {},
     "output_type": "execute_result"
    }
   ],
   "source": [
    "check_unique_value_in_column(data_2019, 'Amount($)')\n"
   ]
  },
  {
   "cell_type": "code",
   "execution_count": 100,
   "metadata": {},
   "outputs": [
    {
     "data": {
      "text/plain": [
       "[nan,\n",
       " 'Series C',\n",
       " 'Fresh funding',\n",
       " 'Series D',\n",
       " 'Pre series A',\n",
       " 'Series A',\n",
       " 'Series G',\n",
       " 'Series B',\n",
       " 'Post series A',\n",
       " 'Seed funding',\n",
       " 'Seed fund',\n",
       " 'Series E',\n",
       " 'Series F',\n",
       " 'Series B+',\n",
       " 'Seed round',\n",
       " 'Pre-series A']"
      ]
     },
     "execution_count": 100,
     "metadata": {},
     "output_type": "execute_result"
    }
   ],
   "source": [
    "check_unique_value_in_column(data_2019, 'Stage')"
   ]
  },
  {
   "cell_type": "markdown",
   "metadata": {},
   "source": [
    "Missing Values (Indentifcation, Handling)\n"
   ]
  },
  {
   "cell_type": "markdown",
   "metadata": {},
   "source": [
    "Visulazing the Null value in data\n"
   ]
  },
  {
   "cell_type": "code",
   "execution_count": 102,
   "metadata": {},
   "outputs": [
    {
     "data": {
      "image/png": "[encoded data removed]",
      "text/plain": [
       "<Figure size 640x480 with 2 Axes>"
      ]
     },
     "metadata": {},
     "output_type": "display_data"
    }
   ],
   "source": [
    "plot_missing_values_heatmap(data_2019)"
   ]
  },
  {
   "cell_type": "markdown",
   "metadata": {},
   "source": [
    "The `Green` color is showing the missing value in dataset\n"
   ]
  },
  {
   "cell_type": "markdown",
   "metadata": {},
   "source": [
    "    Unique values in some column we will use in analysis\n"
   ]
  },
  {
   "cell_type": "markdown",
   "metadata": {},
   "source": [
    "Company column\n"
   ]
  },
  {
   "cell_type": "code",
   "execution_count": 104,
   "metadata": {},
   "outputs": [],
   "source": [
    "# No missing Values found from the Vizualization"
   ]
  },
  {
   "cell_type": "markdown",
   "metadata": {},
   "source": [
    "Founded column\n"
   ]
  },
  {
   "cell_type": "code",
   "execution_count": 107,
   "metadata": {},
   "outputs": [],
   "source": [
    "# As its contained the null values  let handle by imputting the most frequest year, it\n",
    "\n",
    "array = data_2019['Founded'].values.reshape(-1,1)\n",
    "imputer = SimpleImputer(strategy='most_frequent')\n",
    "data_2019['Founded'] = imputer.fit_transform(array)"
   ]
  },
  {
   "cell_type": "code",
   "execution_count": 108,
   "metadata": {},
   "outputs": [],
   "source": [
    "# Convert the 'dtype to numeric\n",
    "data_2019['Founded'] = data_2019['Founded'].astype(int)"
   ]
  },
  {
   "cell_type": "markdown",
   "metadata": {},
   "source": [
    "Headqurter Columns\n"
   ]
  },
  {
   "cell_type": "code",
   "execution_count": 110,
   "metadata": {},
   "outputs": [
    {
     "data": {
      "text/plain": [
       "0"
      ]
     },
     "execution_count": 110,
     "metadata": {},
     "output_type": "execute_result"
    }
   ],
   "source": [
    "# Missing Values was found\n",
    "check_missing_values(data_2019['HeadQuarter'])"
   ]
  },
  {
   "cell_type": "markdown",
   "metadata": {},
   "source": [
    "Handling by replacing by `unknown\n"
   ]
  },
  {
   "cell_type": "code",
   "execution_count": 106,
   "metadata": {},
   "outputs": [],
   "source": [
    "data_2019['HeadQuarter'] = data_2019['HeadQuarter'].fillna('Unknown')"
   ]
  },
  {
   "cell_type": "markdown",
   "metadata": {},
   "source": [
    "Sector Column\n"
   ]
  },
  {
   "cell_type": "code",
   "execution_count": 46,
   "metadata": {},
   "outputs": [
    {
     "data": {
      "text/plain": [
       "['Ecommerce',\n",
       " 'Edtech',\n",
       " 'Interior design',\n",
       " 'AgriTech',\n",
       " 'Technology',\n",
       " 'SaaS',\n",
       " 'AI & Tech',\n",
       " 'E-commerce',\n",
       " 'E-commerce & AR',\n",
       " 'Fintech',\n",
       " 'HR tech',\n",
       " 'Food tech',\n",
       " 'Health',\n",
       " 'Healthcare',\n",
       " 'Safety tech',\n",
       " 'Pharmaceutical',\n",
       " 'Insurance technology',\n",
       " 'AI',\n",
       " 'Foodtech',\n",
       " 'Food',\n",
       " 'IoT',\n",
       " 'E-marketplace',\n",
       " 'Robotics & AI',\n",
       " 'Logistics',\n",
       " 'Travel',\n",
       " 'Manufacturing',\n",
       " 'Food & Nutrition',\n",
       " 'Social Media',\n",
       " nan,\n",
       " 'E-Sports',\n",
       " 'Cosmetics',\n",
       " 'B2B',\n",
       " 'Jewellery',\n",
       " 'B2B Supply Chain',\n",
       " 'Games',\n",
       " 'Food & tech',\n",
       " 'Accomodation',\n",
       " 'Automotive tech',\n",
       " 'Legal tech',\n",
       " 'Mutual Funds',\n",
       " 'Cybersecurity',\n",
       " 'Automobile',\n",
       " 'Sports',\n",
       " 'Healthtech',\n",
       " 'Yoga & wellness',\n",
       " 'Virtual Banking',\n",
       " 'Transportation',\n",
       " 'Transport & Rentals',\n",
       " 'Marketing & Customer loyalty',\n",
       " 'Infratech',\n",
       " 'Hospitality',\n",
       " 'Automobile & Technology',\n",
       " 'Banking']"
      ]
     },
     "execution_count": 46,
     "metadata": {},
     "output_type": "execute_result"
    }
   ],
   "source": [
    "data_2019[\"Sector\"].unique().tolist()"
   ]
  },
  {
   "cell_type": "markdown",
   "metadata": {},
   "source": [
    "This unique values in this column indicate the diverse sectors of service among the start-ups. For better analysis, we will group similar sectors into broader categories.\n"
   ]
  },
  {
   "cell_type": "code",
   "execution_count": 113,
   "metadata": {},
   "outputs": [
    {
     "data": {
      "text/plain": [
       "['Ecommerce',\n",
       " 'Edtech',\n",
       " 'Interior Design',\n",
       " 'AgriTech',\n",
       " 'Technology',\n",
       " 'SaaS',\n",
       " 'Fintech',\n",
       " 'HR Tech',\n",
       " 'Food Tech',\n",
       " 'Health',\n",
       " 'Safety Tech',\n",
       " nan,\n",
       " 'Logistics',\n",
       " 'Travel',\n",
       " 'Manufacturing',\n",
       " 'Social Media',\n",
       " 'E-Sports',\n",
       " 'Cosmetics',\n",
       " 'B2B',\n",
       " 'Jewellery',\n",
       " 'Games',\n",
       " 'Automotive Tech',\n",
       " 'Legal Tech',\n",
       " 'Sports',\n",
       " 'Marketing & Customer Loyalty',\n",
       " 'Infratech',\n",
       " 'Hospitality']"
      ]
     },
     "execution_count": 113,
     "metadata": {},
     "output_type": "execute_result"
    }
   ],
   "source": [
    "# Group the sector based on similarity by By creating a dictionary\n",
    "# The keys in the dictionary are specific sector names as they appear in the dataset.\n",
    "# The values are the broder categories to which these specific sector names will be mapped to.\n",
    "sector_mapping = {\n",
    "    'Ecommerce': 'Ecommerce',\n",
    "    'Edtech': 'Edtech',\n",
    "    'Interior design': 'Interior Design',\n",
    "    'AgriTech': 'AgriTech',\n",
    "    'Technology': 'Technology',\n",
    "    'SaaS': 'SaaS',\n",
    "    'AI & Tech': 'Technology',\n",
    "    'E-commerce': 'Ecommerce',\n",
    "    'E-commerce & AR': 'Ecommerce',\n",
    "    'Fintech': 'Fintech',\n",
    "    'E-marketplace': 'Ecommerce',\n",
    "    'Robotics & AI': 'Technology',\n",
    "    'IoT': 'Technology',\n",
    "    'Cybersecurity': 'Technology',\n",
    "    'Virtual Banking': 'Fintech',\n",
    "    'Banking': 'Fintech',\n",
    "    'Mutual Funds': 'Fintech',\n",
    "    'Insurance technology': 'Fintech',\n",
    "    'HR tech': 'HR Tech',\n",
    "    'Food tech': 'Food Tech',\n",
    "    'Foodtech': 'Food Tech',\n",
    "    'Food': 'Food Tech',\n",
    "    'Food & Nutrition': 'Food Tech',\n",
    "    'Food & tech': 'Food Tech',\n",
    "    'Health': 'Health',\n",
    "    'Healthcare': 'Health',\n",
    "    'Healthtech': 'Health',\n",
    "    'Yoga & wellness': 'Health',\n",
    "    'Pharmaceutical': 'Health',\n",
    "    'Safety tech': 'Safety Tech',\n",
    "    'Logistics': 'Logistics',\n",
    "    'Travel': 'Travel',\n",
    "    'Transport & Rentals': 'Travel',\n",
    "    'Transportation': 'Travel',\n",
    "    'Accomodation': 'Travel',\n",
    "    'Manufacturing': 'Manufacturing',\n",
    "    'Social Media': 'Social Media',\n",
    "    'E-Sports': 'E-Sports',\n",
    "    'Cosmetics': 'Cosmetics',\n",
    "    'B2B': 'B2B',\n",
    "    'B2B Supply Chain': 'B2B',\n",
    "    'Jewellery': 'Jewellery',\n",
    "    'Games': 'Games',\n",
    "    'Automotive tech': 'Automotive Tech',\n",
    "    'Automobile': 'Automotive Tech',\n",
    "    'Automobile & Technology': 'Automotive Tech',\n",
    "    'Legal tech': 'Legal Tech',\n",
    "    'Sports': 'Sports',\n",
    "    'Marketing & Customer loyalty': 'Marketing & Customer Loyalty',\n",
    "    'Infratech': 'Infratech',\n",
    "    'Hospitality': 'Hospitality'\n",
    "}\n",
    "\n",
    "#  map to the 'Sector' column in the DataFrame\n",
    "data_2019['Sector'] = data_2019['Sector'].map(sector_mapping)\n",
    "\n",
    "# Display the updated unique values in the 'Sector' column\n",
    "data_2019['Sector'].unique().tolist()\n"
   ]
  },
  {
   "cell_type": "markdown",
   "metadata": {},
   "source": [
    "Handle Missing Values\n"
   ]
  },
  {
   "cell_type": "code",
   "execution_count": 114,
   "metadata": {},
   "outputs": [],
   "source": [
    "data_2019[\"Sector\"] = data_2019[\"Sector\"].fillna('Unknown')"
   ]
  },
  {
   "cell_type": "code",
   "execution_count": 115,
   "metadata": {},
   "outputs": [
    {
     "data": {
      "text/html": [
       "<div>\n",
       "<style scoped>\n",
       "    .dataframe tbody tr th:only-of-type {\n",
       "        vertical-align: middle;\n",
       "    }\n",
       "\n",
       "    .dataframe tbody tr th {\n",
       "        vertical-align: top;\n",
       "    }\n",
       "\n",
       "    .dataframe thead th {\n",
       "        text-align: right;\n",
       "    }\n",
       "</style>\n",
       "<table border=\"1\" class=\"dataframe\">\n",
       "  <thead>\n",
       "    <tr style=\"text-align: right;\">\n",
       "      <th></th>\n",
       "      <th>Company/Brand</th>\n",
       "      <th>Founded</th>\n",
       "      <th>HeadQuarter</th>\n",
       "      <th>Sector</th>\n",
       "      <th>What it does</th>\n",
       "      <th>Founders</th>\n",
       "      <th>Investor</th>\n",
       "      <th>Amount($)</th>\n",
       "      <th>Stage</th>\n",
       "    </tr>\n",
       "  </thead>\n",
       "  <tbody>\n",
       "    <tr>\n",
       "      <th>50</th>\n",
       "      <td>Purplle</td>\n",
       "      <td>2012</td>\n",
       "      <td>Mumbai</td>\n",
       "      <td>Cosmetics</td>\n",
       "      <td>Online makeup and beauty products retailer</td>\n",
       "      <td>Manish Taneja, Rahul Dash</td>\n",
       "      <td>Goldman Sachs</td>\n",
       "      <td>$30,000,000</td>\n",
       "      <td>Series C</td>\n",
       "    </tr>\n",
       "    <tr>\n",
       "      <th>84</th>\n",
       "      <td>Infra.Market</td>\n",
       "      <td>2015</td>\n",
       "      <td>Mumbai</td>\n",
       "      <td>Infratech</td>\n",
       "      <td>It connects client requirements to their suppl...</td>\n",
       "      <td>Aaditya Sharda, Souvik Sengupta</td>\n",
       "      <td>Tiger Global, Nexus Venture Partners, Accel Pa...</td>\n",
       "      <td>$20,000,000</td>\n",
       "      <td>Series A</td>\n",
       "    </tr>\n",
       "    <tr>\n",
       "      <th>33</th>\n",
       "      <td>Asteria Aerospace</td>\n",
       "      <td>2011</td>\n",
       "      <td>Bangalore</td>\n",
       "      <td>Technology</td>\n",
       "      <td>Develops drones that are used by the military,...</td>\n",
       "      <td>Neel Mehta, Nihar Vartak</td>\n",
       "      <td>Reliance Industries</td>\n",
       "      <td>$230,000,000</td>\n",
       "      <td>NaN</td>\n",
       "    </tr>\n",
       "    <tr>\n",
       "      <th>87</th>\n",
       "      <td>Spinny</td>\n",
       "      <td>2015</td>\n",
       "      <td>Delhi</td>\n",
       "      <td>Automotive Tech</td>\n",
       "      <td>Online car retailer</td>\n",
       "      <td>Niraj Singh, Ramanshu Mahaur, Ganesh Pawar, Mo...</td>\n",
       "      <td>Norwest Venture Partners, General Catalyst, Fu...</td>\n",
       "      <td>$50,000,000</td>\n",
       "      <td>NaN</td>\n",
       "    </tr>\n",
       "    <tr>\n",
       "      <th>78</th>\n",
       "      <td>IndyFint</td>\n",
       "      <td>2019</td>\n",
       "      <td>Bangalore</td>\n",
       "      <td>Fintech</td>\n",
       "      <td>It helps lenders to directly provide short-ter...</td>\n",
       "      <td>Paddy Padmanabhan</td>\n",
       "      <td>Saravanan Adiseshan</td>\n",
       "      <td>$2,100,000</td>\n",
       "      <td>Series A</td>\n",
       "    </tr>\n",
       "    <tr>\n",
       "      <th>75</th>\n",
       "      <td>Sportido</td>\n",
       "      <td>2015</td>\n",
       "      <td>Noida</td>\n",
       "      <td>Sports</td>\n",
       "      <td>It is a sports discovery app that helps to fin...</td>\n",
       "      <td>Neeraj Aggarwala, Akhil Ramachandran</td>\n",
       "      <td>Inflection Point Ventures, SucSEED Venture Par...</td>\n",
       "      <td>Undisclosed</td>\n",
       "      <td>Series B</td>\n",
       "    </tr>\n",
       "    <tr>\n",
       "      <th>23</th>\n",
       "      <td>DROR Labs Pvt. Ltd</td>\n",
       "      <td>2018</td>\n",
       "      <td>Delhi</td>\n",
       "      <td>Safety Tech</td>\n",
       "      <td>It uses technology to create a trust-based net...</td>\n",
       "      <td>Dhiraj Naubhar, Dheeraj Bansal</td>\n",
       "      <td>Inflection Point Ventures</td>\n",
       "      <td>Undisclosed</td>\n",
       "      <td>NaN</td>\n",
       "    </tr>\n",
       "    <tr>\n",
       "      <th>83</th>\n",
       "      <td>Froogal</td>\n",
       "      <td>2015</td>\n",
       "      <td>Hyderabad</td>\n",
       "      <td>Marketing &amp; Customer Loyalty</td>\n",
       "      <td>A cloud based Customer Loyalty &amp; Engagement Pl...</td>\n",
       "      <td>Jeevan Chowdary M, Harshit Harchani</td>\n",
       "      <td>US-based angel investors</td>\n",
       "      <td>$1,000,000</td>\n",
       "      <td>Pre series A</td>\n",
       "    </tr>\n",
       "    <tr>\n",
       "      <th>12</th>\n",
       "      <td>Kaleidofin</td>\n",
       "      <td>2018</td>\n",
       "      <td>Chennai</td>\n",
       "      <td>Fintech</td>\n",
       "      <td>Platform that provides complete financial solu...</td>\n",
       "      <td>Puneet Gupta, Sucharita Mukherjee</td>\n",
       "      <td>Oikocredit</td>\n",
       "      <td>$5,000,000</td>\n",
       "      <td>Series A</td>\n",
       "    </tr>\n",
       "    <tr>\n",
       "      <th>11</th>\n",
       "      <td>Appnomic</td>\n",
       "      <td>2015</td>\n",
       "      <td>Bangalore</td>\n",
       "      <td>SaaS</td>\n",
       "      <td>It is a self-healing enterprise, the IT operat...</td>\n",
       "      <td>D Padmanabhan</td>\n",
       "      <td>Avataar Ventures</td>\n",
       "      <td>$22,000,000</td>\n",
       "      <td>NaN</td>\n",
       "    </tr>\n",
       "    <tr>\n",
       "      <th>85</th>\n",
       "      <td>Oyo</td>\n",
       "      <td>2013</td>\n",
       "      <td>Gurugram</td>\n",
       "      <td>Hospitality</td>\n",
       "      <td>Provides rooms for comfortable stay</td>\n",
       "      <td>Ritesh Agarwal</td>\n",
       "      <td>MyPreferred Transformation, Avendus Finance, S...</td>\n",
       "      <td>$693,000,000</td>\n",
       "      <td>NaN</td>\n",
       "    </tr>\n",
       "    <tr>\n",
       "      <th>17</th>\n",
       "      <td>Zest Money</td>\n",
       "      <td>2015</td>\n",
       "      <td>Bangalore</td>\n",
       "      <td>Fintech</td>\n",
       "      <td>Uses AI to do risk profiling of e-commerce con...</td>\n",
       "      <td>Chapman, Priya Sharma, Ashish Anantharaman</td>\n",
       "      <td>Goldman Sachs.</td>\n",
       "      <td>$15,000,000</td>\n",
       "      <td>Series B</td>\n",
       "    </tr>\n",
       "    <tr>\n",
       "      <th>48</th>\n",
       "      <td>Box8</td>\n",
       "      <td>2011</td>\n",
       "      <td>Mumbai</td>\n",
       "      <td>Food Tech</td>\n",
       "      <td>Enables to order food online</td>\n",
       "      <td>Amit Raj, Anshul Gupta</td>\n",
       "      <td>Trifecta Capital</td>\n",
       "      <td>$120,000,000</td>\n",
       "      <td>NaN</td>\n",
       "    </tr>\n",
       "    <tr>\n",
       "      <th>30</th>\n",
       "      <td>Licious</td>\n",
       "      <td>2015</td>\n",
       "      <td>Bangalore</td>\n",
       "      <td>Food Tech</td>\n",
       "      <td>Online meat shop</td>\n",
       "      <td>Vivek Gupta, Abhay Hanjura</td>\n",
       "      <td>Vertex Growth Fund</td>\n",
       "      <td>$30,000,000</td>\n",
       "      <td>Series E</td>\n",
       "    </tr>\n",
       "    <tr>\n",
       "      <th>60</th>\n",
       "      <td>Ecom Express</td>\n",
       "      <td>2012</td>\n",
       "      <td>Gurugram</td>\n",
       "      <td>Logistics</td>\n",
       "      <td>It is a technology enabled logistics solutions...</td>\n",
       "      <td>Krishnan, Manju Dhawan, K Satyanarayana, Sanje...</td>\n",
       "      <td>CDC Group</td>\n",
       "      <td>$36,000,000</td>\n",
       "      <td>NaN</td>\n",
       "    </tr>\n",
       "  </tbody>\n",
       "</table>\n",
       "</div>"
      ],
      "text/plain": [
       "         Company/Brand  Founded HeadQuarter                        Sector  \\\n",
       "50             Purplle     2012      Mumbai                     Cosmetics   \n",
       "84        Infra.Market     2015      Mumbai                     Infratech   \n",
       "33   Asteria Aerospace     2011   Bangalore                    Technology   \n",
       "87              Spinny     2015       Delhi               Automotive Tech   \n",
       "78            IndyFint     2019   Bangalore                       Fintech   \n",
       "75            Sportido     2015       Noida                        Sports   \n",
       "23  DROR Labs Pvt. Ltd     2018       Delhi                   Safety Tech   \n",
       "83             Froogal     2015   Hyderabad  Marketing & Customer Loyalty   \n",
       "12          Kaleidofin     2018     Chennai                       Fintech   \n",
       "11            Appnomic     2015   Bangalore                          SaaS   \n",
       "85                 Oyo     2013    Gurugram                   Hospitality   \n",
       "17          Zest Money     2015   Bangalore                       Fintech   \n",
       "48                Box8     2011      Mumbai                     Food Tech   \n",
       "30             Licious     2015   Bangalore                     Food Tech   \n",
       "60        Ecom Express     2012    Gurugram                     Logistics   \n",
       "\n",
       "                                         What it does  \\\n",
       "50         Online makeup and beauty products retailer   \n",
       "84  It connects client requirements to their suppl...   \n",
       "33  Develops drones that are used by the military,...   \n",
       "87                                Online car retailer   \n",
       "78  It helps lenders to directly provide short-ter...   \n",
       "75  It is a sports discovery app that helps to fin...   \n",
       "23  It uses technology to create a trust-based net...   \n",
       "83  A cloud based Customer Loyalty & Engagement Pl...   \n",
       "12  Platform that provides complete financial solu...   \n",
       "11  It is a self-healing enterprise, the IT operat...   \n",
       "85                Provides rooms for comfortable stay   \n",
       "17  Uses AI to do risk profiling of e-commerce con...   \n",
       "48                       Enables to order food online   \n",
       "30                                   Online meat shop   \n",
       "60  It is a technology enabled logistics solutions...   \n",
       "\n",
       "                                             Founders  \\\n",
       "50                          Manish Taneja, Rahul Dash   \n",
       "84                    Aaditya Sharda, Souvik Sengupta   \n",
       "33                           Neel Mehta, Nihar Vartak   \n",
       "87  Niraj Singh, Ramanshu Mahaur, Ganesh Pawar, Mo...   \n",
       "78                                  Paddy Padmanabhan   \n",
       "75               Neeraj Aggarwala, Akhil Ramachandran   \n",
       "23                     Dhiraj Naubhar, Dheeraj Bansal   \n",
       "83                Jeevan Chowdary M, Harshit Harchani   \n",
       "12                  Puneet Gupta, Sucharita Mukherjee   \n",
       "11                                      D Padmanabhan   \n",
       "85                                     Ritesh Agarwal   \n",
       "17         Chapman, Priya Sharma, Ashish Anantharaman   \n",
       "48                             Amit Raj, Anshul Gupta   \n",
       "30                         Vivek Gupta, Abhay Hanjura   \n",
       "60  Krishnan, Manju Dhawan, K Satyanarayana, Sanje...   \n",
       "\n",
       "                                             Investor     Amount($)  \\\n",
       "50                                      Goldman Sachs   $30,000,000   \n",
       "84  Tiger Global, Nexus Venture Partners, Accel Pa...   $20,000,000   \n",
       "33                                Reliance Industries  $230,000,000   \n",
       "87  Norwest Venture Partners, General Catalyst, Fu...   $50,000,000   \n",
       "78                                Saravanan Adiseshan    $2,100,000   \n",
       "75  Inflection Point Ventures, SucSEED Venture Par...   Undisclosed   \n",
       "23                          Inflection Point Ventures   Undisclosed   \n",
       "83                           US-based angel investors    $1,000,000   \n",
       "12                                         Oikocredit    $5,000,000   \n",
       "11                                   Avataar Ventures   $22,000,000   \n",
       "85  MyPreferred Transformation, Avendus Finance, S...  $693,000,000   \n",
       "17                                     Goldman Sachs.   $15,000,000   \n",
       "48                                   Trifecta Capital  $120,000,000   \n",
       "30                                 Vertex Growth Fund   $30,000,000   \n",
       "60                                          CDC Group   $36,000,000   \n",
       "\n",
       "           Stage  \n",
       "50      Series C  \n",
       "84      Series A  \n",
       "33           NaN  \n",
       "87           NaN  \n",
       "78      Series A  \n",
       "75      Series B  \n",
       "23           NaN  \n",
       "83  Pre series A  \n",
       "12      Series A  \n",
       "11           NaN  \n",
       "85           NaN  \n",
       "17      Series B  \n",
       "48           NaN  \n",
       "30      Series E  \n",
       "60           NaN  "
      ]
     },
     "execution_count": 115,
     "metadata": {},
     "output_type": "execute_result"
    }
   ],
   "source": [
    "data_2019.sample(15)"
   ]
  },
  {
   "cell_type": "markdown",
   "metadata": {},
   "source": [
    "Investor Column\n"
   ]
  },
  {
   "cell_type": "code",
   "execution_count": 116,
   "metadata": {},
   "outputs": [
    {
     "data": {
      "text/plain": [
       "['Sixth Sense Ventures',\n",
       " 'General Atlantic',\n",
       " 'Deepak Parekh, Amitabh Bachchan, Piyush Pandey',\n",
       " 'Evolvence India Fund (EIF), Pidilite Group, FJ Labs',\n",
       " 'Innovation in Food and Agriculture (IFA)',\n",
       " 'Undisclosed',\n",
       " 'Social Capital, AngelList India, Gemba Capital, Omphalos Ventures,\\xa0\\xa091springboard via Atal Innovation Mission, Niti Aayog.',\n",
       " 'Gilda VC, Art Venture, Rajeev Chitrabhanu.',\n",
       " 'Multiples Alternate Asset Management',\n",
       " 'SoftBank',\n",
       " 'Venture Catalysts',\n",
       " 'Avataar Ventures',\n",
       " 'Oikocredit',\n",
       " 'Titan Capital',\n",
       " 'Matrix Partners',\n",
       " 'German development finance institution DEG',\n",
       " 'South Africa’s Naspers Ventures, the CPP Investment Board',\n",
       " 'Goldman Sachs.',\n",
       " 'Mumbai Angels Network',\n",
       " 'Kunal Bahl, Rohit Bansal.',\n",
       " 'Brazilian VC Fund Confrapar',\n",
       " 'Sequoia India, Hummingbird Ventures, Greenoaks Capital, AngelList.',\n",
       " 'Reach Capital',\n",
       " 'Inflection Point Ventures',\n",
       " 'Wilson Global Opportunities Fund',\n",
       " 'Sequoia Capita',\n",
       " 'IVM Intersurer',\n",
       " 'Canaan Partners',\n",
       " 'Paytm, Asian VC fund NPTK, Sabre Partners, Neoplux.',\n",
       " 'Omnivore and Omidyar Network India, Sequoia Capital',\n",
       " 'Vertex Growth Fund',\n",
       " 'Rajan Kaistha',\n",
       " 'Dinesh Dua',\n",
       " 'Reliance Industries',\n",
       " 'SAIF Partners India VI Ltd, Spring Canter Investment Ltd',\n",
       " 'Korea Investment Partners (KIP), Samsung Venture Investment Corporation (SVIC), UOB Venture, 10 Fund, CVCapital, Zero2IPO Ventures, M&S Partners',\n",
       " 'Lightspeed and Greenoaks Capital, Sequoia India, Accel and Kae Capital',\n",
       " 'Scale Venture Partners',\n",
       " 'ThinkLab',\n",
       " 'Sajan Pillai, Muthu Krishnan,',\n",
       " 'Ruizheng Investment, Tej Kapoor, Krinshavataram Venkata Vinjamuri, Harsh Shah',\n",
       " 'Alibaba',\n",
       " 'Lightbox Ventures',\n",
       " 'Stellaris Ventures',\n",
       " 'Jindagi Live Angels,',\n",
       " 'Fintech innovation lab',\n",
       " 'Manipal Education and Medical Group (MEMG) family office, Titan Capital',\n",
       " 'Innovation in Food & Agriculture Fund (IFA Fund)',\n",
       " 'Trifecta Capital',\n",
       " 'Work10M, Michael and Susan Dell Foundation, Eagle10, Unitus Ventures.',\n",
       " 'Goldman Sachs',\n",
       " 'Amplo, FJ Labs, Rogue One Capital',\n",
       " 'Blume Ventures.',\n",
       " 'Rajesh Ranavat',\n",
       " 'Walmart, Flipkart',\n",
       " 'Sunil Gavaskar',\n",
       " 'Tiger Global Management',\n",
       " 'AC Ventures, Henkel',\n",
       " 'Oikocredit, Caspian SME Impact Fund IV,\\xa0\\xa0Triodos Investment Management',\n",
       " 'CDC Group',\n",
       " 'Alteria Capital',\n",
       " 'GAIL (India) Ltd',\n",
       " 'Blume Ventures, Emergent Ventures',\n",
       " 'Saama Capital, DSG Consumer Partners',\n",
       " 'Rockstud Capital',\n",
       " 'Pramendra Tomar, Ratish Pandey, Munish Bhatia, Sumit Aggarwal',\n",
       " 'Manta Ray Ventures Limited, Google’s Capital G, Sequoia India.',\n",
       " 'Vertex Ventures',\n",
       " 'Windrose Capital',\n",
       " 'HNI investors',\n",
       " 'Ping An Global Voyager Fund, Hillhouse Capital, Sequoia Capital',\n",
       " 'Flipkart, Eight Roads Ventures, NGP Capital, Qualcomm Ventures, Mirae Asset Naver Fund, World Bank-backed IFC',\n",
       " 'Omidyar Network, Eight Roads Ventures, GrowthStory, AngelList',\n",
       " 'Inflection Point Ventures, SucSEED Venture Partners.',\n",
       " 'LetsVenture, 91 Springboard, IKP Knowledge, Angel investors, AbInbev-Serge DeVos, Wouter Peeters.',\n",
       " 'Venture fund, Fireside Ventures.',\n",
       " 'Saravanan Adiseshan',\n",
       " 'Kia Motors, Hyundai',\n",
       " 'Zoomcar Inc',\n",
       " 'Gilda VC, Art Venture, Rajeev Chitrabhanu',\n",
       " 'US-based angel investors',\n",
       " 'Tiger Global, Nexus Venture Partners, Accel Partners, Dhruv Agarwala',\n",
       " 'MyPreferred Transformation, Avendus Finance, SoftBank',\n",
       " 'Sequoia Capital',\n",
       " 'Norwest Venture Partners, General Catalyst, Fundamentum, Accel Partners',\n",
       " 'TPG, Norwest Venture Partners, Evolvence India']"
      ]
     },
     "execution_count": 116,
     "metadata": {},
     "output_type": "execute_result"
    }
   ],
   "source": [
    "data_2019[\"Investor\"].unique().tolist()"
   ]
  },
  {
   "cell_type": "code",
   "execution_count": 117,
   "metadata": {},
   "outputs": [
    {
     "data": {
      "text/plain": [
       "dtype('O')"
      ]
     },
     "execution_count": 117,
     "metadata": {},
     "output_type": "execute_result"
    }
   ],
   "source": [
    "data_2019[\"Investor\"].dtype"
   ]
  },
  {
   "cell_type": "code",
   "execution_count": 118,
   "metadata": {},
   "outputs": [],
   "source": [
    "#  No missing values was found in this column\n"
   ]
  },
  {
   "cell_type": "markdown",
   "metadata": {},
   "source": [
    "Amount column\n"
   ]
  },
  {
   "cell_type": "markdown",
   "metadata": {},
   "source": [
    "Exploring unique value to understand what i need to clean\n"
   ]
  },
  {
   "cell_type": "code",
   "execution_count": 120,
   "metadata": {},
   "outputs": [
    {
     "data": {
      "text/plain": [
       "['$6,300,000',\n",
       " '$150,000,000',\n",
       " '$28,000,000',\n",
       " '$30,000,000',\n",
       " '$6,000,000',\n",
       " 'Undisclosed',\n",
       " '$1,000,000',\n",
       " '$20,000,000',\n",
       " '$275,000,000',\n",
       " '$22,000,000',\n",
       " '$5,000,000',\n",
       " '$140,500',\n",
       " '$540,000,000',\n",
       " '$15,000,000',\n",
       " '$182,700',\n",
       " '$12,000,000',\n",
       " '$11,000,000',\n",
       " '$15,500,000',\n",
       " '$1,500,000',\n",
       " '$5,500,000',\n",
       " '$2,500,000',\n",
       " '$140,000',\n",
       " '$230,000,000',\n",
       " '$49,400,000',\n",
       " '$32,000,000',\n",
       " '$26,000,000',\n",
       " '$150,000',\n",
       " '$400,000',\n",
       " '$2,000,000',\n",
       " '$100,000,000',\n",
       " '$8,000,000',\n",
       " '$100,000',\n",
       " '$50,000,000',\n",
       " '$120,000,000',\n",
       " '$4,000,000',\n",
       " '$6,800,000',\n",
       " '$36,000,000',\n",
       " '$5,700,000',\n",
       " '$25,000,000',\n",
       " '$600,000',\n",
       " '$70,000,000',\n",
       " '$60,000,000',\n",
       " '$220,000',\n",
       " '$2,800,000',\n",
       " '$2,100,000',\n",
       " '$7,000,000',\n",
       " '$311,000,000',\n",
       " '$4,800,000',\n",
       " '$693,000,000',\n",
       " '$33,000,000']"
      ]
     },
     "execution_count": 120,
     "metadata": {},
     "output_type": "execute_result"
    }
   ],
   "source": [
    "data_2019['Amount($)'].unique().tolist()"
   ]
  },
  {
   "cell_type": "markdown",
   "metadata": {},
   "source": [
    "From the summary wher saw that 13% is undisclosed\n"
   ]
  },
  {
   "cell_type": "code",
   "execution_count": 121,
   "metadata": {},
   "outputs": [
    {
     "data": {
      "text/plain": [
       "count              89\n",
       "unique             50\n",
       "top       Undisclosed\n",
       "freq               12\n",
       "Name: Amount($), dtype: object"
      ]
     },
     "execution_count": 121,
     "metadata": {},
     "output_type": "execute_result"
    }
   ],
   "source": [
    "data_2019['Amount($)'].describe()"
   ]
  },
  {
   "cell_type": "markdown",
   "metadata": {},
   "source": [
    "remove $ in amount and converst dtype to numeric\n"
   ]
  },
  {
   "cell_type": "code",
   "execution_count": 122,
   "metadata": {},
   "outputs": [],
   "source": [
    "# Remove the dollar sign\n",
    "data_2019['Amount($)'] = data_2019['Amount($)'].str.replace('$','').replace(',', '', regex=True)\n",
    "\n",
    "# dtype conversion to numeric\n",
    "data_2019['Amount($)'] = pd.to_numeric(data_2019['Amount($)'], errors='coerce')"
   ]
  },
  {
   "cell_type": "code",
   "execution_count": 123,
   "metadata": {},
   "outputs": [],
   "source": []
  },
  {
   "cell_type": "markdown",
   "metadata": {},
   "source": [
    "Dtype conversion to numeric\n"
   ]
  },
  {
   "cell_type": "code",
   "execution_count": 124,
   "metadata": {},
   "outputs": [
    {
     "data": {
      "text/plain": [
       "dtype('float64')"
      ]
     },
     "execution_count": 124,
     "metadata": {},
     "output_type": "execute_result"
    }
   ],
   "source": [
    "data_2019['Amount($)'].dtype"
   ]
  },
  {
   "cell_type": "markdown",
   "metadata": {},
   "source": [
    "Handling Undisclosed values\n"
   ]
  },
  {
   "cell_type": "code",
   "execution_count": 125,
   "metadata": {},
   "outputs": [],
   "source": [
    "# let replace undisclosed by null value first\n",
    "data_2019['Amount($)'] = data_2019['Amount($)'].replace('Undisclosed', np.nan)"
   ]
  },
  {
   "cell_type": "markdown",
   "metadata": {},
   "source": [
    "detectinh and handling the Outlier\n"
   ]
  },
  {
   "cell_type": "code",
   "execution_count": 130,
   "metadata": {},
   "outputs": [],
   "source": [
    "Outliers= detect_outliers(data_2019, 'Amount($)')\n"
   ]
  },
  {
   "cell_type": "code",
   "execution_count": 133,
   "metadata": {},
   "outputs": [
    {
     "data": {
      "image/png": "[encoded data removed]",
      "text/plain": [
       "<Figure size 800x600 with 1 Axes>"
      ]
     },
     "metadata": {},
     "output_type": "display_data"
    }
   ],
   "source": [
    "# Box Plot to visualize outliers\n",
    "plt.figure(figsize=(8, 6))\n",
    "sns.boxplot(x=data_2019['Amount($)'], color='green', flierprops=dict(markerfacecolor='orange'))\n",
    "plt.title('Box Plot - 2019 Amount($)')\n",
    "plt.xlabel('Amount($)')\n",
    "plt.show()"
   ]
  },
  {
   "cell_type": "markdown",
   "metadata": {},
   "source": [
    "handhle Ourtliers\n"
   ]
  },
  {
   "cell_type": "code",
   "execution_count": 143,
   "metadata": {},
   "outputs": [],
   "source": [
    "from sklearn.impute import SimpleImputer\n",
    "\n",
    "# handle missing value by imputting median strategy\n",
    "imputer = SimpleImputer(strategy ='median') \n",
    "\n",
    "data_2019['Amount($)'] = imputer.fit_transform(data_2019[['Amount($)']])"
   ]
  },
  {
   "cell_type": "markdown",
   "metadata": {},
   "source": [
    "Outliers Detection and removal in Amount column\n"
   ]
  },
  {
   "cell_type": "code",
   "execution_count": 69,
   "metadata": {},
   "outputs": [
    {
     "data": {
      "text/html": [
       "<div>\n",
       "<style scoped>\n",
       "    .dataframe tbody tr th:only-of-type {\n",
       "        vertical-align: middle;\n",
       "    }\n",
       "\n",
       "    .dataframe tbody tr th {\n",
       "        vertical-align: top;\n",
       "    }\n",
       "\n",
       "    .dataframe thead th {\n",
       "        text-align: right;\n",
       "    }\n",
       "</style>\n",
       "<table border=\"1\" class=\"dataframe\">\n",
       "  <thead>\n",
       "    <tr style=\"text-align: right;\">\n",
       "      <th></th>\n",
       "      <th>Company/Brand</th>\n",
       "      <th>Founded</th>\n",
       "      <th>HeadQuarter</th>\n",
       "      <th>Sector</th>\n",
       "      <th>What it does</th>\n",
       "      <th>Founders</th>\n",
       "      <th>Investor</th>\n",
       "      <th>Amount($)</th>\n",
       "      <th>Stage</th>\n",
       "      <th>Investor Count</th>\n",
       "    </tr>\n",
       "  </thead>\n",
       "  <tbody>\n",
       "    <tr>\n",
       "      <th>1</th>\n",
       "      <td>Ruangguru</td>\n",
       "      <td>2014.0</td>\n",
       "      <td>Mumbai</td>\n",
       "      <td>Edtech</td>\n",
       "      <td>A learning platform that provides topic-based ...</td>\n",
       "      <td>Adamas Belva Syah Devara, Iman Usman.</td>\n",
       "      <td>General Atlantic</td>\n",
       "      <td>150000000.0</td>\n",
       "      <td>Series C</td>\n",
       "      <td>1</td>\n",
       "    </tr>\n",
       "    <tr>\n",
       "      <th>9</th>\n",
       "      <td>Lenskart</td>\n",
       "      <td>2010.0</td>\n",
       "      <td>Delhi</td>\n",
       "      <td>Ecommerce</td>\n",
       "      <td>It is a eyewear company</td>\n",
       "      <td>Peyush Bansal, Amit Chaudhary, Sumeet Kapahi</td>\n",
       "      <td>SoftBank</td>\n",
       "      <td>275000000.0</td>\n",
       "      <td>Series G</td>\n",
       "      <td>1</td>\n",
       "    </tr>\n",
       "    <tr>\n",
       "      <th>16</th>\n",
       "      <td>Byju's</td>\n",
       "      <td>2011.0</td>\n",
       "      <td>Unknown</td>\n",
       "      <td>Edtech</td>\n",
       "      <td>Provides online learning classes</td>\n",
       "      <td>Byju Raveendran</td>\n",
       "      <td>South Africa’s Naspers Ventures, the CPP Inves...</td>\n",
       "      <td>540000000.0</td>\n",
       "      <td>NaN</td>\n",
       "      <td>2</td>\n",
       "    </tr>\n",
       "    <tr>\n",
       "      <th>33</th>\n",
       "      <td>Asteria Aerospace</td>\n",
       "      <td>2011.0</td>\n",
       "      <td>Bangalore</td>\n",
       "      <td>Technology</td>\n",
       "      <td>Develops drones that are used by the military,...</td>\n",
       "      <td>Neel Mehta, Nihar Vartak</td>\n",
       "      <td>Reliance Industries</td>\n",
       "      <td>230000000.0</td>\n",
       "      <td>NaN</td>\n",
       "      <td>1</td>\n",
       "    </tr>\n",
       "    <tr>\n",
       "      <th>48</th>\n",
       "      <td>Box8</td>\n",
       "      <td>2011.0</td>\n",
       "      <td>Mumbai</td>\n",
       "      <td>Food Tech</td>\n",
       "      <td>Enables to order food online</td>\n",
       "      <td>Amit Raj, Anshul Gupta</td>\n",
       "      <td>Trifecta Capital</td>\n",
       "      <td>120000000.0</td>\n",
       "      <td>NaN</td>\n",
       "      <td>1</td>\n",
       "    </tr>\n",
       "    <tr>\n",
       "      <th>80</th>\n",
       "      <td>Ola</td>\n",
       "      <td>2010.0</td>\n",
       "      <td>Bangalore</td>\n",
       "      <td>Travel</td>\n",
       "      <td>It enables one to book cab online</td>\n",
       "      <td>Bhavish Aggarwal, Ankit Bhati</td>\n",
       "      <td>Kia Motors, Hyundai</td>\n",
       "      <td>311000000.0</td>\n",
       "      <td>NaN</td>\n",
       "      <td>2</td>\n",
       "    </tr>\n",
       "    <tr>\n",
       "      <th>85</th>\n",
       "      <td>Oyo</td>\n",
       "      <td>2013.0</td>\n",
       "      <td>Gurugram</td>\n",
       "      <td>Hospitality</td>\n",
       "      <td>Provides rooms for comfortable stay</td>\n",
       "      <td>Ritesh Agarwal</td>\n",
       "      <td>MyPreferred Transformation, Avendus Finance, S...</td>\n",
       "      <td>693000000.0</td>\n",
       "      <td>NaN</td>\n",
       "      <td>3</td>\n",
       "    </tr>\n",
       "  </tbody>\n",
       "</table>\n",
       "</div>"
      ],
      "text/plain": [
       "        Company/Brand  Founded HeadQuarter       Sector  \\\n",
       "1           Ruangguru   2014.0      Mumbai       Edtech   \n",
       "9            Lenskart   2010.0       Delhi    Ecommerce   \n",
       "16             Byju's   2011.0     Unknown       Edtech   \n",
       "33  Asteria Aerospace   2011.0   Bangalore   Technology   \n",
       "48               Box8   2011.0      Mumbai    Food Tech   \n",
       "80                Ola   2010.0   Bangalore       Travel   \n",
       "85                Oyo   2013.0    Gurugram  Hospitality   \n",
       "\n",
       "                                         What it does  \\\n",
       "1   A learning platform that provides topic-based ...   \n",
       "9                             It is a eyewear company   \n",
       "16                   Provides online learning classes   \n",
       "33  Develops drones that are used by the military,...   \n",
       "48                       Enables to order food online   \n",
       "80                  It enables one to book cab online   \n",
       "85                Provides rooms for comfortable stay   \n",
       "\n",
       "                                        Founders  \\\n",
       "1          Adamas Belva Syah Devara, Iman Usman.   \n",
       "9   Peyush Bansal, Amit Chaudhary, Sumeet Kapahi   \n",
       "16                               Byju Raveendran   \n",
       "33                      Neel Mehta, Nihar Vartak   \n",
       "48                        Amit Raj, Anshul Gupta   \n",
       "80                 Bhavish Aggarwal, Ankit Bhati   \n",
       "85                                Ritesh Agarwal   \n",
       "\n",
       "                                             Investor    Amount($)     Stage  \\\n",
       "1                                    General Atlantic  150000000.0  Series C   \n",
       "9                                            SoftBank  275000000.0  Series G   \n",
       "16  South Africa’s Naspers Ventures, the CPP Inves...  540000000.0       NaN   \n",
       "33                                Reliance Industries  230000000.0       NaN   \n",
       "48                                   Trifecta Capital  120000000.0       NaN   \n",
       "80                                Kia Motors, Hyundai  311000000.0       NaN   \n",
       "85  MyPreferred Transformation, Avendus Finance, S...  693000000.0       NaN   \n",
       "\n",
       "    Investor Count  \n",
       "1                1  \n",
       "9                1  \n",
       "16               2  \n",
       "33               1  \n",
       "48               1  \n",
       "80               2  \n",
       "85               3  "
      ]
     },
     "execution_count": 69,
     "metadata": {},
     "output_type": "execute_result"
    }
   ],
   "source": [
    "detect_outliers(data_2019, 'Amount($)')"
   ]
  },
  {
   "cell_type": "markdown",
   "metadata": {},
   "source": [
    "I have decise to keep the outliers as its the most amount received\n"
   ]
  },
  {
   "cell_type": "code",
   "execution_count": 135,
   "metadata": {},
   "outputs": [],
   "source": [
    "# removing outliers:\n",
    "# data_2019 = data_2019[~data_2019['Amount($)'].isin(outliers['Amount($)'])]"
   ]
  },
  {
   "cell_type": "code",
   "execution_count": 134,
   "metadata": {},
   "outputs": [],
   "source": [
    "# check again \n",
    "# detect_outliers(data_2019, 'Amount($)')"
   ]
  },
  {
   "cell_type": "markdown",
   "metadata": {},
   "source": [
    "Stage column\n"
   ]
  },
  {
   "cell_type": "code",
   "execution_count": 137,
   "metadata": {},
   "outputs": [
    {
     "data": {
      "text/plain": [
       "Stage\n",
       "Series A         10\n",
       "Pre series A      8\n",
       "Series B          8\n",
       "Series D          4\n",
       "Series C          3\n",
       "Fresh funding     1\n",
       "Series G          1\n",
       "Post series A     1\n",
       "Seed funding      1\n",
       "Seed fund         1\n",
       "Series E          1\n",
       "Series F          1\n",
       "Series B+         1\n",
       "Seed round        1\n",
       "Pre-series A      1\n",
       "Name: count, dtype: int64"
      ]
     },
     "execution_count": 137,
     "metadata": {},
     "output_type": "execute_result"
    }
   ],
   "source": [
    "data_2019[\"Stage\"].value_counts()"
   ]
  },
  {
   "cell_type": "code",
   "execution_count": 138,
   "metadata": {},
   "outputs": [],
   "source": [
    "#cleaning Funding round names as categorized based similarity\n",
    "categorized_stage = {\n",
    "    \"Fresh funding\" :\"Seed\",\n",
    "    \"Seed funding\":\"Seed\",\n",
    "    \"Seed fund\" :\"Seed\",\n",
    "    \"Pre series A\": \"Pre-series A\",\n",
    "    \"Series B+\" : \"Series B\",\n",
    "    \"Seed round\" :\"Seed\"}\n",
    "data_2019['Stage'] = data_2019['Stage'].replace(categorized_stage)"
   ]
  },
  {
   "cell_type": "code",
   "execution_count": 139,
   "metadata": {},
   "outputs": [
    {
     "data": {
      "text/plain": [
       "Stage\n",
       "Series A         10\n",
       "Pre-series A      9\n",
       "Series B          9\n",
       "Seed              4\n",
       "Series D          4\n",
       "Series C          3\n",
       "Series G          1\n",
       "Post series A     1\n",
       "Series E          1\n",
       "Series F          1\n",
       "Name: count, dtype: int64"
      ]
     },
     "execution_count": 139,
     "metadata": {},
     "output_type": "execute_result"
    }
   ],
   "source": [
    "data_2019[\"Stage\"].value_counts()"
   ]
  },
  {
   "cell_type": "markdown",
   "metadata": {},
   "source": [
    "Handle Missing Value\n"
   ]
  },
  {
   "cell_type": "markdown",
   "metadata": {},
   "source": [
    "the From the Viz, whe notice the missing value\n"
   ]
  },
  {
   "cell_type": "code",
   "execution_count": 140,
   "metadata": {},
   "outputs": [
    {
     "data": {
      "text/plain": [
       "46"
      ]
     },
     "execution_count": 140,
     "metadata": {},
     "output_type": "execute_result"
    }
   ],
   "source": [
    "check_missing_values(data_2019['Stage'])"
   ]
  },
  {
   "cell_type": "code",
   "execution_count": 141,
   "metadata": {},
   "outputs": [],
   "source": [
    "data_2019['Stage'] = data_2019['Stage'].fillna('Unknown')"
   ]
  },
  {
   "cell_type": "markdown",
   "metadata": {},
   "source": [
    "handle the missing value for the Founders columns\n"
   ]
  },
  {
   "cell_type": "code",
   "execution_count": 145,
   "metadata": {},
   "outputs": [],
   "source": [
    "data_2019['Founders'] = data_2019['Founders'].fillna('Unknown')"
   ]
  },
  {
   "cell_type": "markdown",
   "metadata": {},
   "source": [
    "Visualiza again the missing values\n"
   ]
  },
  {
   "cell_type": "markdown",
   "metadata": {},
   "source": [
    "No Duplication was found\n"
   ]
  },
  {
   "cell_type": "markdown",
   "metadata": {},
   "source": [
    "let keep track the year the investments was received\n"
   ]
  },
  {
   "cell_type": "code",
   "execution_count": 147,
   "metadata": {},
   "outputs": [],
   "source": [
    "data_2019['Year Funded'] = 2019"
   ]
  },
  {
   "cell_type": "code",
   "execution_count": 149,
   "metadata": {},
   "outputs": [
    {
     "data": {
      "image/png": "[encoded data removed]",
      "text/plain": [
       "<Figure size 640x480 with 2 Axes>"
      ]
     },
     "metadata": {},
     "output_type": "display_data"
    }
   ],
   "source": [
    "plot_missing_values_heatmap(data_2019)"
   ]
  },
  {
   "cell_type": "markdown",
   "metadata": {},
   "source": [
    "    5.3.3 Data 2020\n"
   ]
  },
  {
   "cell_type": "markdown",
   "metadata": {},
   "source": [
    "![Data 2020 Summary Image](Images\\2020beforeCleaning.png)\n"
   ]
  },
  {
   "cell_type": "code",
   "execution_count": 150,
   "metadata": {},
   "outputs": [
    {
     "data": {
      "text/plain": [
       "Index(['Company_Brand', 'Founded', 'HeadQuarter', 'Sector', 'What_it_does',\n",
       "       'Founders', 'Investor', 'Amount', 'Stage', 'column10'],\n",
       "      dtype='object')"
      ]
     },
     "execution_count": 150,
     "metadata": {},
     "output_type": "execute_result"
    }
   ],
   "source": [
    "data_2020"
   ]
  },
  {
   "cell_type": "markdown",
   "metadata": {},
   "source": [
    "Duplicates\n"
   ]
  },
  {
   "cell_type": "code",
   "execution_count": 157,
   "metadata": {},
   "outputs": [],
   "source": [
    "data_2020= data_2020.drop_duplicates()"
   ]
  },
  {
   "cell_type": "markdown",
   "metadata": {},
   "source": [
    "dropping column10\n"
   ]
  },
  {
   "cell_type": "code",
   "execution_count": null,
   "metadata": {},
   "outputs": [],
   "source": [
    "data_2020= data_2020.drop(['column10'], axis=1)"
   ]
  },
  {
   "cell_type": "markdown",
   "metadata": {},
   "source": [
    "Missing values\n"
   ]
  },
  {
   "cell_type": "code",
   "execution_count": 153,
   "metadata": {},
   "outputs": [
    {
     "data": {
      "image/png": "[encoded data removed]",
      "text/plain": [
       "<Figure size 640x480 with 2 Axes>"
      ]
     },
     "metadata": {},
     "output_type": "display_data"
    }
   ],
   "source": [
    "plot_missing_values_heatmap(data_2020)"
   ]
  },
  {
   "cell_type": "markdown",
   "metadata": {},
   "source": [
    "Founded column\n"
   ]
  },
  {
   "cell_type": "code",
   "execution_count": 156,
   "metadata": {},
   "outputs": [],
   "source": [
    "data_2020['Founded'] = data_2020['Founded'].fillna('Uknown')\n"
   ]
  },
  {
   "cell_type": "markdown",
   "metadata": {},
   "source": [
    "headQuarter\n"
   ]
  },
  {
   "cell_type": "code",
   "execution_count": 165,
   "metadata": {},
   "outputs": [
    {
     "data": {
      "text/plain": [
       "['Chennai',\n",
       " 'Bangalore',\n",
       " 'Pune',\n",
       " 'New Delhi',\n",
       " 'Indore',\n",
       " 'Hyderabad',\n",
       " 'Gurgaon',\n",
       " 'Belgaum',\n",
       " 'Noida',\n",
       " 'Mumbai',\n",
       " 'Andheri',\n",
       " 'Jaipur',\n",
       " 'Ahmedabad',\n",
       " 'Kolkata',\n",
       " 'Tirunelveli, Tamilnadu',\n",
       " 'Thane',\n",
       " None,\n",
       " 'Singapore',\n",
       " 'Gurugram',\n",
       " 'Gujarat',\n",
       " 'Haryana',\n",
       " 'Kerala',\n",
       " 'Jodhpur',\n",
       " 'Jaipur, Rajastan',\n",
       " 'Delhi',\n",
       " 'Frisco, Texas, United States',\n",
       " 'California',\n",
       " 'Dhingsara, Haryana',\n",
       " 'New York, United States',\n",
       " 'Patna',\n",
       " 'San Francisco, California, United States',\n",
       " 'San Francisco, United States',\n",
       " 'San Ramon, California',\n",
       " 'Paris, Ile-de-France, France',\n",
       " 'Plano, Texas, United States',\n",
       " 'Sydney',\n",
       " 'San Francisco Bay Area, Silicon Valley, West Coast',\n",
       " 'Bangaldesh',\n",
       " 'London, England, United Kingdom',\n",
       " 'Sydney, New South Wales, Australia',\n",
       " 'Milano, Lombardia, Italy',\n",
       " 'Palmwoods, Queensland, Australia',\n",
       " 'France',\n",
       " 'San Francisco Bay Area, West Coast, Western US',\n",
       " 'Trivandrum, Kerala, India',\n",
       " 'Cochin',\n",
       " 'Samastipur, Bihar',\n",
       " 'Irvine, California, United States',\n",
       " 'Tumkur, Karnataka',\n",
       " 'Newcastle Upon Tyne, Newcastle upon Tyne, United Kingdom',\n",
       " 'Shanghai, China',\n",
       " 'Jiaxing, Zhejiang, China',\n",
       " 'Rajastan',\n",
       " 'Kochi',\n",
       " 'Ludhiana',\n",
       " 'Dehradun',\n",
       " 'San Franciscao',\n",
       " 'San Francisco',\n",
       " 'Tangerang, Jawa Barat, Indonesia',\n",
       " 'Berlin',\n",
       " 'Seattle',\n",
       " 'Riyadh',\n",
       " 'Seoul',\n",
       " 'New York',\n",
       " 'Bangkok',\n",
       " 'Kanpur',\n",
       " 'Chandigarh',\n",
       " 'Warangal',\n",
       " 'Hyderebad',\n",
       " 'Odisha',\n",
       " 'Bihar',\n",
       " 'Goa',\n",
       " 'Tamil Nadu',\n",
       " 'Uttar Pradesh',\n",
       " 'Bhopal',\n",
       " 'Banglore',\n",
       " 'Coimbatore',\n",
       " 'Bengaluru']"
      ]
     },
     "execution_count": 165,
     "metadata": {},
     "output_type": "execute_result"
    }
   ],
   "source": [
    "check_unique_value_in_column(data_2020,'HeadQuarter')\n"
   ]
  },
  {
   "cell_type": "markdown",
   "metadata": {},
   "source": [
    "From this I can see the headquarter the located outside India, So group them in Outside India category\n"
   ]
  },
  {
   "cell_type": "code",
   "execution_count": 167,
   "metadata": {},
   "outputs": [],
   "source": [
    "#  addresses to be mapped to \"Outside India\"\n",
    "outside_india_addresses = [\n",
    "    'San Francisco, California, United States',\n",
    "    'London, England, United Kingdom',\n",
    "    'San Francisco Bay Area, Silicon Valley, West Coast',\n",
    "    'New York, United States',\n",
    "    'San Francisco, United States',\n",
    "    'Tangerang, Jawa Barat, Indonesia',\n",
    "    'San Ramon, California ',\n",
    "    'Frisco, Texas, United States ',\n",
    "    'Paris, Ile-de-France, France',\n",
    "    'Plano, Texas, United States',\n",
    "    'Palmwoods, Queensland, Australia',\n",
    "    'France',\n",
    "    'San Ramon, California',\n",
    "    'San Francisco Bay Area, West Coast, Western US',\n",
    "    'Irvine, California, United States',\n",
    "    'Newcastle Upon Tyne, Newcastle upon Tyne, United Kingdom',\n",
    "    'Shanghai, China',\n",
    "    'Jiaxing, Zhejiang, China',\n",
    "    'Sydney, New South Wales, Australia',\n",
    "    'California',\n",
    "    'Singapore',\n",
    "    'San Francisco',\n",
    "    'San Franciscao',\n",
    "    'Sydney',\n",
    "    'Bangaldesh',\n",
    "    'Frisco, Texas, United States',\n",
    "    'New York',\n",
    "    'Bangkok',\n",
    "    'Seattle',\n",
    "    'Milano, Lombardia, Italy',\n",
    "    'Seoul',\n",
    "    'Berlin'\n",
    "]\n",
    "\n",
    "for address in outside_india_addresses:\n",
    "    data_2020.loc[data_2020['HeadQuarter'] == address, 'HeadQuarter'] = 'Outside India'\n"
   ]
  },
  {
   "cell_type": "code",
   "execution_count": 188,
   "metadata": {},
   "outputs": [
    {
     "data": {
      "text/plain": [
       "<bound method Series.unique of 0           Chennai\n",
       "1         Bangalore\n",
       "2              Pune\n",
       "3         New Delhi\n",
       "4            Indore\n",
       "           ...     \n",
       "1050          Delhi\n",
       "1051    Undisclosed\n",
       "1052         Mumbai\n",
       "1053          Delhi\n",
       "1054        Chennai\n",
       "Name: HeadQuarter, Length: 1052, dtype: object>"
      ]
     },
     "execution_count": 188,
     "metadata": {},
     "output_type": "execute_result"
    }
   ],
   "source": [
    "data_2020['HeadQuarter'].unique"
   ]
  },
  {
   "cell_type": "markdown",
   "metadata": {},
   "source": [
    "replace a 'Undisclosed' with Uknown\n"
   ]
  },
  {
   "cell_type": "code",
   "execution_count": 190,
   "metadata": {},
   "outputs": [],
   "source": [
    "\n",
    "data_2020.loc[data_2020['HeadQuarter'] == 'Undisclosed', 'HeadQuarter'] = 'Uknown'"
   ]
  },
  {
   "cell_type": "code",
   "execution_count": 174,
   "metadata": {},
   "outputs": [],
   "source": [
    "data_2020['HeadQuarter'] = data_2020['HeadQuarter'].map(lambda x: x.split(',')[0] if x is not None else x)"
   ]
  },
  {
   "cell_type": "markdown",
   "metadata": {},
   "source": [
    "Founders column\n"
   ]
  },
  {
   "cell_type": "code",
   "execution_count": 176,
   "metadata": {},
   "outputs": [],
   "source": [
    "# handle misisng value by fill nill null with Uknown keyword\n",
    "data_2020['Founders'] = data_2020['Founders'].fillna('Uknown')"
   ]
  },
  {
   "cell_type": "markdown",
   "metadata": {},
   "source": [
    "Amount Column\n"
   ]
  },
  {
   "cell_type": "code",
   "execution_count": 178,
   "metadata": {},
   "outputs": [
    {
     "data": {
      "text/plain": [
       "count           799.0\n",
       "mean      112699397.5\n",
       "std      2479695497.0\n",
       "min           12700.0\n",
       "25%         1000000.0\n",
       "50%         3000000.0\n",
       "75%        11000000.0\n",
       "max     70000000000.0\n",
       "Name: Amount, dtype: float64"
      ]
     },
     "execution_count": 178,
     "metadata": {},
     "output_type": "execute_result"
    }
   ],
   "source": [
    "#Statistical \n",
    "data_2020[\"Amount\"].describe()"
   ]
  },
  {
   "cell_type": "code",
   "execution_count": 182,
   "metadata": {},
   "outputs": [
    {
     "data": {
      "text/plain": [
       "[200000.0,\n",
       " 100000.0,\n",
       " 3000000.0,\n",
       " 400000.0,\n",
       " 340000.0,\n",
       " 600000.0,\n",
       " 45000000.0,\n",
       " 1000000.0,\n",
       " 2000000.0,\n",
       " 1200000.0,\n",
       " 660000000.0,\n",
       " 120000.0,\n",
       " 7500000.0,\n",
       " 5000000.0,\n",
       " 500000.0,\n",
       " 10000000.0,\n",
       " 145000000.0,\n",
       " 100000000.0,\n",
       " 21000000.0,\n",
       " 4000000.0,\n",
       " 20000000.0,\n",
       " 560000.0,\n",
       " 275000.0,\n",
       " 4500000.0,\n",
       " 15000000.0,\n",
       " 390000000.0,\n",
       " 7000000.0,\n",
       " 5100000.0,\n",
       " 700000000.0,\n",
       " 2300000.0,\n",
       " 700000.0,\n",
       " 19000000.0,\n",
       " 9000000.0,\n",
       " 40000000.0,\n",
       " 750000.0,\n",
       " 1500000.0,\n",
       " 7800000.0,\n",
       " 50000000.0,\n",
       " 80000000.0,\n",
       " 30000000.0,\n",
       " 1700000.0,\n",
       " 2500000.0,\n",
       " 40000.0,\n",
       " 33000000.0,\n",
       " 35000000.0,\n",
       " 300000.0,\n",
       " 25000000.0,\n",
       " 3500000.0,\n",
       " 200000000.0,\n",
       " 6000000.0,\n",
       " 1300000.0,\n",
       " 4100000.0,\n",
       " 575000.0,\n",
       " 800000.0,\n",
       " 28000000.0,\n",
       " 18000000.0,\n",
       " 3200000.0,\n",
       " 900000.0,\n",
       " 250000.0,\n",
       " 4700000.0,\n",
       " 75000000.0,\n",
       " 8000000.0,\n",
       " 121000000.0,\n",
       " 55000000.0,\n",
       " 3300000.0,\n",
       " 11000000.0,\n",
       " 16000000.0,\n",
       " 5400000.0,\n",
       " 150000000.0,\n",
       " 4200000.0,\n",
       " 22000000.0,\n",
       " 52000000.0,\n",
       " 1100000.0,\n",
       " 118000000.0,\n",
       " 1600000.0,\n",
       " 18500000.0,\n",
       " 70000000000.0,\n",
       " 800000000.0,\n",
       " 400000000.0,\n",
       " 150000.0,\n",
       " 176000000.0,\n",
       " 60000000.0,\n",
       " 470000.0,\n",
       " 240000.0,\n",
       " 3000000000.0,\n",
       " 74000000.0,\n",
       " 62000000.0,\n",
       " 2100000.0,\n",
       " 500000000.0,\n",
       " 12500000.0,\n",
       " 2200000000.0,\n",
       " 5060000.0,\n",
       " 225000000.0,\n",
       " 24700000.0,\n",
       " 7700000.0,\n",
       " 19067328.0,\n",
       " 51000000.0,\n",
       " 115000.0,\n",
       " 54000.0,\n",
       " 20000.0,\n",
       " 803146.0,\n",
       " 238000.0,\n",
       " 10220000.0,\n",
       " 1020000.0,\n",
       " 12000000.0,\n",
       " 13400000.0,\n",
       " 170000000.0,\n",
       " 2900000.0,\n",
       " 543000.0,\n",
       " 90000000.0,\n",
       " 3400000.0,\n",
       " 23000000.0,\n",
       " 8090000.0,\n",
       " 1030000.0,\n",
       " 5040000.0,\n",
       " 360000.0,\n",
       " 1400000.0,\n",
       " 650000.0,\n",
       " 54000000.0,\n",
       " 42500000.0,\n",
       " 11370000.0,\n",
       " 325000.0,\n",
       " 410000.0,\n",
       " 450000.0,\n",
       " 682000.0,\n",
       " 4050000.0,\n",
       " 1050000.0,\n",
       " 1080000.0,\n",
       " 4300000.0,\n",
       " 6800000.0,\n",
       " 2110000.0,\n",
       " 764000.0,\n",
       " 603000.0,\n",
       " 409000.0,\n",
       " 292000.0,\n",
       " 286000.0,\n",
       " 136000.0,\n",
       " 546000.0,\n",
       " 887000.0,\n",
       " 43000.0,\n",
       " 40900.0,\n",
       " 2200000.0,\n",
       " 5660000.0,\n",
       " 350000.0,\n",
       " 110000.0,\n",
       " 122000000.0,\n",
       " 11635000.0,\n",
       " 2800000.0,\n",
       " 1065000.0,\n",
       " 669000.0,\n",
       " 16076000.0,\n",
       " 649600.0,\n",
       " 6700000.0,\n",
       " 220000.0,\n",
       " 266500.0,\n",
       " 2879000.0,\n",
       " 26500000.0,\n",
       " 351000.0,\n",
       " 46761000.0,\n",
       " 175000.0,\n",
       " 11241000.0,\n",
       " 804000.0,\n",
       " 1340000.0,\n",
       " 467000.0,\n",
       " 133000.0,\n",
       " 3823000.0,\n",
       " 934000.0,\n",
       " 293000.0,\n",
       " 198000.0,\n",
       " 927000.0,\n",
       " 971000.0,\n",
       " 3060000.0,\n",
       " 1862000.0,\n",
       " 232000.0,\n",
       " 2888000.0,\n",
       " 1328000.0,\n",
       " 15500000.0,\n",
       " 56000000.0,\n",
       " 2250000.0,\n",
       " 16753000.0,\n",
       " 3700000.0,\n",
       " 1470000.0,\n",
       " 530000.0,\n",
       " 267000.0,\n",
       " 3344000.0,\n",
       " 7200000.0,\n",
       " 2743000.0,\n",
       " 6082000.0,\n",
       " 6609000.0,\n",
       " 27700000.0,\n",
       " 5940000.0,\n",
       " 3964000.0,\n",
       " 5500000.0,\n",
       " 197000.0,\n",
       " 4327000.0,\n",
       " 459000.0,\n",
       " 3937000.0,\n",
       " 1313500.0,\n",
       " 229800.0,\n",
       " 5305000.0,\n",
       " 264000.0,\n",
       " 1750000.0,\n",
       " 5967000.0,\n",
       " 2980000.0,\n",
       " 323000.0,\n",
       " 1326000.0,\n",
       " 27000000.0,\n",
       " 5200000.0,\n",
       " 2530000.0,\n",
       " 792000.0,\n",
       " 11363000.0,\n",
       " 1715000.0,\n",
       " 329000.0,\n",
       " 5271000.0,\n",
       " 8700000.0,\n",
       " 3226000.0,\n",
       " 5900000.0,\n",
       " 44000000.0,\n",
       " 3879000.0,\n",
       " 13000000.0,\n",
       " 8800000.0,\n",
       " 9500000.0,\n",
       " 920000.0,\n",
       " 35600000.0,\n",
       " 9400000.0,\n",
       " 790000.0,\n",
       " 480000.0,\n",
       " 160000.0,\n",
       " 8200000.0,\n",
       " 4257000.0,\n",
       " 1410000.0,\n",
       " 349800.0,\n",
       " 786000.0,\n",
       " 2004000.0,\n",
       " 123000000.0,\n",
       " 248000.0,\n",
       " 24000000.0,\n",
       " 14259000.0,\n",
       " 24500000.0,\n",
       " 3800000.0,\n",
       " 18370000.0,\n",
       " 68525000.0,\n",
       " 4800000.0,\n",
       " 1834000.0,\n",
       " 23850000.0,\n",
       " 43000000.0,\n",
       " 21600000.0,\n",
       " 4598000.0,\n",
       " 13137000.0,\n",
       " 115000000.0,\n",
       " 3900000.0,\n",
       " 670000.0,\n",
       " 8500000.0,\n",
       " 3148000.0,\n",
       " 2600000.0,\n",
       " 4049500.0,\n",
       " 10500000.0,\n",
       " 6500000.0,\n",
       " 43700000.0,\n",
       " 13800000.0,\n",
       " 306900.0,\n",
       " 420000.0,\n",
       " 627300.0,\n",
       " 113000000.0,\n",
       " 32000000.0,\n",
       " 110000000.0,\n",
       " 1397000.0,\n",
       " 448500.0,\n",
       " 7975700.0,\n",
       " 330000.0,\n",
       " 5600000.0,\n",
       " 1402000.0,\n",
       " 21500000.0,\n",
       " 296000000.0,\n",
       " 4900000.0,\n",
       " 1402400.0,\n",
       " 12618300.0,\n",
       " 9900000.0,\n",
       " 982530.0,\n",
       " 70185200.0,\n",
       " 210000000.0,\n",
       " 84000000.0,\n",
       " 39000000.0,\n",
       " 2700000.0,\n",
       " 1403400.0,\n",
       " 105000000.0,\n",
       " 103000000.0,\n",
       " 281300.0,\n",
       " 12700.0,\n",
       " 25000.0,\n",
       " 97500000.0,\n",
       " 507000.0,\n",
       " 8400000.0,\n",
       " 18300000.0,\n",
       " 125000000.0,\n",
       " 181000.0,\n",
       " 280000.0,\n",
       " 14700000.0,\n",
       " 13200000.0,\n",
       " 8043000.0]"
      ]
     },
     "execution_count": 182,
     "metadata": {},
     "output_type": "execute_result"
    }
   ],
   "source": [
    "data_2020[\"Amount\"].unique().tolist()"
   ]
  },
  {
   "cell_type": "markdown",
   "metadata": {},
   "source": [
    "handle Null values\n"
   ]
  },
  {
   "cell_type": "code",
   "execution_count": 179,
   "metadata": {},
   "outputs": [],
   "source": [
    "#Imputing missing values in the amount column using simple imputer method\n",
    "array= data_2020[\"Amount\"].values.reshape(-1,1)\n",
    "imputer=SimpleImputer(strategy=\"median\")\n",
    "\n",
    "data_2020[\"Amount\"]=imputer.fit_transform(array)"
   ]
  },
  {
   "cell_type": "markdown",
   "metadata": {},
   "source": [
    "stage column\n"
   ]
  },
  {
   "cell_type": "code",
   "execution_count": null,
   "metadata": {},
   "outputs": [],
   "source": [
    "# Fill the replace null values with 'Uknown' stage\n",
    "data_2020['Stage'] = data_2020['Stage'].fillna('Unkwon', inplace=True)"
   ]
  },
  {
   "cell_type": "code",
   "execution_count": null,
   "metadata": {},
   "outputs": [],
   "source": [
    "# categorize the stage \n",
    "data2020.replace({\"Stage\": {\"Seed Round\" : \"Seed\",\n",
    "                            \"Pre series A\": \"Pre-series A\",\n",
    "                            \"Pre Series A\" : \"Pre-series A\" ,\n",
    "                            \"Seed round\" :   \"Seed\",\n",
    "                            \"Pre seed round\" :\"Pre-seed\",\n",
    "                            \"Series B2\" :    \"Series B\",\n",
    "                            \"Pre series B\" : \"Pre-series B\",\n",
    "                            \"Seed Funding\" : \"Seed\",\n",
    "                            \"Pre-Series B\" : \"Pre-series B\",\n",
    "                            \"Pre-Seed\"  :    \"Pre-seed\",\n",
    "                            \"Seed funding\" : \"Seed\",\n",
    "                            \"Pre-seed Round\" :\"Pre-seed\",\n",
    "                            \"Series E2\" :     \"Series E\",\n",
    "                            \"Pre series A1\" : \"Pre-series A\",\n",
    "                            \"Series D1\" :     \"Series\",\n",
    "                            \"Pre seed Round\" :\"Pre-seed\",\n",
    "                            \"Pre series C\"  : \"Pre-Series C\",\n",
    "                            \"Bridge Round\" :  \"Bridge\",\n",
    "                            \"Series A-1\" :    \"Series\",\n",
    "                            \"Pre- series A\":  \"Pre-series A\",\n",
    "                            \"Seed Investment\" :\"Seed\"}},inplace =True)"
   ]
  },
  {
   "cell_type": "markdown",
   "metadata": {},
   "source": [
    "track the year of funding\n"
   ]
  },
  {
   "cell_type": "code",
   "execution_count": 184,
   "metadata": {},
   "outputs": [],
   "source": [
    "data_2020['Year Funded'] = 2020"
   ]
  },
  {
   "cell_type": "code",
   "execution_count": 191,
   "metadata": {},
   "outputs": [
    {
     "data": {
      "image/png": "[encoded data removed]",
      "text/plain": [
       "<Figure size 640x480 with 2 Axes>"
      ]
     },
     "metadata": {},
     "output_type": "display_data"
    }
   ],
   "source": [
    "plot_missing_values_heatmap(data_2020)"
   ]
  },
  {
   "cell_type": "markdown",
   "metadata": {},
   "source": [
    "    5.3.4 Data 2021\n"
   ]
  },
  {
   "cell_type": "code",
   "execution_count": null,
   "metadata": {},
   "outputs": [],
   "source": []
  },
  {
   "cell_type": "code",
   "execution_count": null,
   "metadata": {},
   "outputs": [],
   "source": []
  },
  {
   "cell_type": "code",
   "execution_count": null,
   "metadata": {},
   "outputs": [],
   "source": []
  },
  {
   "cell_type": "code",
   "execution_count": null,
   "metadata": {},
   "outputs": [],
   "source": []
  },
  {
   "cell_type": "markdown",
   "metadata": {},
   "source": [
    "columns section for data analysis\n"
   ]
  },
  {
   "cell_type": "code",
   "execution_count": 72,
   "metadata": {},
   "outputs": [],
   "source": [
    "# Select the specified columns for analysis\n",
    "data_2018_selected = data_2018[['Company_Brand','HeadQuarter','Sector','Amount','Stage', 'Year Funded']]\n",
    "data_2019_selected = data_2019[['Company_Brand','HeadQuarter','Sector','Amount','Stage','Year Funded']]\n",
    "data_2020_selected = data_2020[['Company_Brand','HeadQuarter','Sector','Amount','Stage','Year Funded']]\n",
    "data_2021_selected = data_2021[['Company_Brand','HeadQuarter','Sector','Amount','Stage','Year Funded']]\n"
   ]
  },
  {
   "cell_type": "markdown",
   "metadata": {},
   "source": [
    "Combine all datasets into one dataframe combinedData\n"
   ]
  },
  {
   "cell_type": "code",
   "execution_count": 73,
   "metadata": {},
   "outputs": [],
   "source": [
    "# concatinate the tables\n",
    "combinedData= pd.concat([data_2018_selected,data_2019_selected,data_2020_selected,data_2021_selected],ignore_index=True)"
   ]
  }
 ],
 "metadata": {
  "kernelspec": {
   "display_name": "Python 3",
   "language": "python",
   "name": "python3"
  },
  "language_info": {
   "codemirror_mode": {
    "name": "ipython",
    "version": 3
   },
   "file_extension": ".py",
   "mimetype": "text/x-python",
   "name": "python",
   "nbconvert_exporter": "python",
   "pygments_lexer": "ipython3",
   "version": "3.11.9"
  }
 },
 "nbformat": 4,
 "nbformat_minor": 2
}
