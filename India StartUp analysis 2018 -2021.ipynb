{
 "cells": [
  {
   "cell_type": "markdown",
   "metadata": {},
   "source": [
    "## Analysis of Funding Received by Start-ups in India from 2018 to 2021\n",
    "\n",
    "## 1. Business Understanding\n",
    "\n",
    "     1.1 Project Description\n",
    "\n",
    "This is analysis project focuses on the funding received by start-ups in India from 2018 to 2021. The objective is to gain insights into the Indian start-up ecosystem and recommend the best course of action for our team's venture. By analyzing the data on funding amounts, start-up details, and investor information, we aim to uncover prevailing patterns and gain insights into the opportunities within India's start-up ecosystem to inform decision-making.\n",
    "\n",
    "     1.2 Type of Problem\n",
    "\n",
    "This project involves exploratory data analysis (EDA) and visualization. Our goal is to deduce hidden insights and patterns from the available data.\n"
   ]
  },
  {
   "cell_type": "markdown",
   "metadata": {},
   "source": [
    "## 2. Data Understanding\n",
    "\n",
    "We have collected data from various startups in India spanning the years 2018 to 2021, including information on the amounts they received in funding. By analyzing this data, we aim to gain a deeper insight into the startup ecosystem and identify the key contributing factors.\n"
   ]
  },
  {
   "cell_type": "markdown",
   "metadata": {},
   "source": [
    "## 3. Data Assumptions\n",
    "\n",
    "The amounts in the 2019 dataset are all in USD. Please note that the exchange rate for 2018 is \\***\\*1 USD = 70 INR**.\n"
   ]
  },
  {
   "cell_type": "markdown",
   "metadata": {},
   "source": [
    "## 4. Data Analytics questions and Hypthesis\n"
   ]
  },
  {
   "cell_type": "markdown",
   "metadata": {},
   "source": [
    "    5 SMART Analytics Questions:\n",
    "\n",
    "1.  What is the overall trend in funding received by start-ups in India from 2018 to 2021?\n",
    "2.  Which sectors have received the highest funding during this period?\n",
    "3.  What is the distribution of startups across the cities in India?\n",
    "4.  What is the average funding amount received by start-ups in India during this period?\n",
    "5.  Hypotheses\n",
    "\n",
    "    Hypothesis 1\n",
    "\n",
    "**Null Hypothesis (H₀):** There are no significant disparities in funding received by different sectors of Indian startups.\n",
    "\n",
    "**Alternate Hypothesis (Ha):** The technology sector receives significantly higher funding compared to other industries.\n",
    "\n",
    "    Hypothesis 2\n",
    "\n",
    "**Null Hypothesis (H₀):** The location of a startup in a particular city does not influence the amount of funding it receives.\n",
    "\n",
    "**Alternate Hypothesis (Ha):** The location of a startup in a particular city significantly affects the amount of funding it receives.\n",
    "\n",
    "    Hypotheses justifications\n",
    "\n",
    "**Hypothesis 1:** The technology sector is often seen as a high-growth area with substantial investment potential, which may lead to higher funding.\n",
    "\n",
    "**Hypothesis 2:** Certain cities might have more developed startup ecosystems, better infrastructure, and more active investment communities, which could impact funding amounts.\n",
    "\n",
    "    Testing Methods\n",
    "\n",
    "**For Hypothesis 1:** We will use statistical tests like t-tests to compare the average funding amounts across different sectors.\n",
    "\n",
    "**For Hypothesis 2:** We will use statistical tests such regression analysis to analyze the funding amounts across different cities.\n"
   ]
  },
  {
   "cell_type": "markdown",
   "metadata": {},
   "source": [
    "## 5. Data preparation\n"
   ]
  },
  {
   "cell_type": "markdown",
   "metadata": {},
   "source": [
    "    5.1 Importing libraries\n"
   ]
  },
  {
   "cell_type": "code",
   "execution_count": 1,
   "metadata": {},
   "outputs": [],
   "source": [
    "\n",
    "import os, sys\n",
    "from sqlalchemy import create_engine\n",
    "import pyodbc # Database Connectivity with  Open Database Connectivity (pyodbc)\n",
    "\n",
    "from dotenv import dotenv_values # dotenv library to load environment variables\n",
    "# Lib for data manipulation  analysis  \n",
    "import pandas as pd\n",
    "import numpy as np\n",
    "# lib for Vizualization\n",
    "import matplotlib.pyplot as plt\n",
    "import seaborn as sns\n",
    "from scipy.stats import f_oneway\n",
    "from scipy import stats\n",
    "# from matplotlib.ticker import FuncFormatter\n",
    "\n",
    "import warnings\n",
    "warnings.filterwarnings('ignore')"
   ]
  },
  {
   "cell_type": "markdown",
   "metadata": {},
   "source": [
    "    5.2 Loading datasets\n"
   ]
  },
  {
   "cell_type": "code",
   "execution_count": 9,
   "metadata": {},
   "outputs": [],
   "source": [
    "# Load environment variables from .env file \n",
    "\n",
    "environment_variables=dotenv_values('.env')\n",
    "# Access login credentials from  the '.env' file\n",
    "server = environment_variables.get(\"SERVER\")\n",
    "database = environment_variables.get(\"DATABASE\")\n",
    "username = environment_variables.get(\"UID\")\n",
    "password = environment_variables.get(\"PWD\")"
   ]
  },
  {
   "cell_type": "code",
   "execution_count": 10,
   "metadata": {},
   "outputs": [],
   "source": [
    "#  Credection Connection tesr\n",
    "connection = f\"DRIVER={{SQL Server}};SERVER={server};DATABASE={database};UID={username};PWD={password}\"\n"
   ]
  },
  {
   "cell_type": "code",
   "execution_count": 11,
   "metadata": {},
   "outputs": [],
   "source": [
    "# connect to the server with help of pyodbc.\n",
    "\n",
    "con = pyodbc.connect(connection)"
   ]
  },
  {
   "cell_type": "code",
   "execution_count": 12,
   "metadata": {},
   "outputs": [],
   "source": [
    "# Load the dataset SQL query\n",
    "query1 = \"Select * from dbo.LP1_startup_funding2020\"\n",
    "query2 = \"Select * from dbo.LP1_startup_funding2021\"\n",
    "\n",
    "# Read data from the  on dataset \n",
    "data_2018 = pd.read_csv('dataset\\startup_funding2018.csv')\n",
    "data_2019 = pd.read_csv('dataset\\startup_funding2019.csv')\n",
    "data_2020 = pd.read_sql(query1, con)\n",
    "data_2021 = pd.read_sql(query2, con)"
   ]
  },
  {
   "cell_type": "markdown",
   "metadata": {},
   "source": [
    "    5.2.1 Data Overview\n"
   ]
  },
  {
   "cell_type": "code",
   "execution_count": 13,
   "metadata": {},
   "outputs": [
    {
     "data": {
      "text/html": [
       "<div>\n",
       "<style scoped>\n",
       "    .dataframe tbody tr th:only-of-type {\n",
       "        vertical-align: middle;\n",
       "    }\n",
       "\n",
       "    .dataframe tbody tr th {\n",
       "        vertical-align: top;\n",
       "    }\n",
       "\n",
       "    .dataframe thead th {\n",
       "        text-align: right;\n",
       "    }\n",
       "</style>\n",
       "<table border=\"1\" class=\"dataframe\">\n",
       "  <thead>\n",
       "    <tr style=\"text-align: right;\">\n",
       "      <th></th>\n",
       "      <th>Company Name</th>\n",
       "      <th>Industry</th>\n",
       "      <th>Round/Series</th>\n",
       "      <th>Amount</th>\n",
       "      <th>Location</th>\n",
       "      <th>About Company</th>\n",
       "    </tr>\n",
       "  </thead>\n",
       "  <tbody>\n",
       "    <tr>\n",
       "      <th>0</th>\n",
       "      <td>TheCollegeFever</td>\n",
       "      <td>Brand Marketing, Event Promotion, Marketing, S...</td>\n",
       "      <td>Seed</td>\n",
       "      <td>250000</td>\n",
       "      <td>Bangalore, Karnataka, India</td>\n",
       "      <td>TheCollegeFever is a hub for fun, fiesta and f...</td>\n",
       "    </tr>\n",
       "    <tr>\n",
       "      <th>1</th>\n",
       "      <td>Happy Cow Dairy</td>\n",
       "      <td>Agriculture, Farming</td>\n",
       "      <td>Seed</td>\n",
       "      <td>₹40,000,000</td>\n",
       "      <td>Mumbai, Maharashtra, India</td>\n",
       "      <td>A startup which aggregates milk from dairy far...</td>\n",
       "    </tr>\n",
       "    <tr>\n",
       "      <th>2</th>\n",
       "      <td>MyLoanCare</td>\n",
       "      <td>Credit, Financial Services, Lending, Marketplace</td>\n",
       "      <td>Series A</td>\n",
       "      <td>₹65,000,000</td>\n",
       "      <td>Gurgaon, Haryana, India</td>\n",
       "      <td>Leading Online Loans Marketplace in India</td>\n",
       "    </tr>\n",
       "  </tbody>\n",
       "</table>\n",
       "</div>"
      ],
      "text/plain": [
       "      Company Name                                           Industry  \\\n",
       "0  TheCollegeFever  Brand Marketing, Event Promotion, Marketing, S...   \n",
       "1  Happy Cow Dairy                               Agriculture, Farming   \n",
       "2       MyLoanCare   Credit, Financial Services, Lending, Marketplace   \n",
       "\n",
       "  Round/Series       Amount                     Location  \\\n",
       "0         Seed       250000  Bangalore, Karnataka, India   \n",
       "1         Seed  ₹40,000,000   Mumbai, Maharashtra, India   \n",
       "2     Series A  ₹65,000,000      Gurgaon, Haryana, India   \n",
       "\n",
       "                                       About Company  \n",
       "0  TheCollegeFever is a hub for fun, fiesta and f...  \n",
       "1  A startup which aggregates milk from dairy far...  \n",
       "2          Leading Online Loans Marketplace in India  "
      ]
     },
     "execution_count": 13,
     "metadata": {},
     "output_type": "execute_result"
    }
   ],
   "source": [
    "# 2018 dataset \n",
    "data_2018.head(3)"
   ]
  },
  {
   "cell_type": "code",
   "execution_count": 14,
   "metadata": {},
   "outputs": [
    {
     "data": {
      "text/html": [
       "<div>\n",
       "<style scoped>\n",
       "    .dataframe tbody tr th:only-of-type {\n",
       "        vertical-align: middle;\n",
       "    }\n",
       "\n",
       "    .dataframe tbody tr th {\n",
       "        vertical-align: top;\n",
       "    }\n",
       "\n",
       "    .dataframe thead th {\n",
       "        text-align: right;\n",
       "    }\n",
       "</style>\n",
       "<table border=\"1\" class=\"dataframe\">\n",
       "  <thead>\n",
       "    <tr style=\"text-align: right;\">\n",
       "      <th></th>\n",
       "      <th>Company/Brand</th>\n",
       "      <th>Founded</th>\n",
       "      <th>HeadQuarter</th>\n",
       "      <th>Sector</th>\n",
       "      <th>What it does</th>\n",
       "      <th>Founders</th>\n",
       "      <th>Investor</th>\n",
       "      <th>Amount($)</th>\n",
       "      <th>Stage</th>\n",
       "    </tr>\n",
       "  </thead>\n",
       "  <tbody>\n",
       "    <tr>\n",
       "      <th>0</th>\n",
       "      <td>Bombay Shaving</td>\n",
       "      <td>NaN</td>\n",
       "      <td>NaN</td>\n",
       "      <td>Ecommerce</td>\n",
       "      <td>Provides a range of male grooming products</td>\n",
       "      <td>Shantanu Deshpande</td>\n",
       "      <td>Sixth Sense Ventures</td>\n",
       "      <td>$6,300,000</td>\n",
       "      <td>NaN</td>\n",
       "    </tr>\n",
       "    <tr>\n",
       "      <th>1</th>\n",
       "      <td>Ruangguru</td>\n",
       "      <td>2014.0</td>\n",
       "      <td>Mumbai</td>\n",
       "      <td>Edtech</td>\n",
       "      <td>A learning platform that provides topic-based ...</td>\n",
       "      <td>Adamas Belva Syah Devara, Iman Usman.</td>\n",
       "      <td>General Atlantic</td>\n",
       "      <td>$150,000,000</td>\n",
       "      <td>Series C</td>\n",
       "    </tr>\n",
       "    <tr>\n",
       "      <th>2</th>\n",
       "      <td>Eduisfun</td>\n",
       "      <td>NaN</td>\n",
       "      <td>Mumbai</td>\n",
       "      <td>Edtech</td>\n",
       "      <td>It aims to make learning fun via games.</td>\n",
       "      <td>Jatin Solanki</td>\n",
       "      <td>Deepak Parekh, Amitabh Bachchan, Piyush Pandey</td>\n",
       "      <td>$28,000,000</td>\n",
       "      <td>Fresh funding</td>\n",
       "    </tr>\n",
       "  </tbody>\n",
       "</table>\n",
       "</div>"
      ],
      "text/plain": [
       "    Company/Brand  Founded HeadQuarter     Sector  \\\n",
       "0  Bombay Shaving      NaN         NaN  Ecommerce   \n",
       "1       Ruangguru   2014.0      Mumbai     Edtech   \n",
       "2        Eduisfun      NaN      Mumbai     Edtech   \n",
       "\n",
       "                                        What it does  \\\n",
       "0         Provides a range of male grooming products   \n",
       "1  A learning platform that provides topic-based ...   \n",
       "2            It aims to make learning fun via games.   \n",
       "\n",
       "                                Founders  \\\n",
       "0                     Shantanu Deshpande   \n",
       "1  Adamas Belva Syah Devara, Iman Usman.   \n",
       "2                          Jatin Solanki   \n",
       "\n",
       "                                         Investor     Amount($)          Stage  \n",
       "0                            Sixth Sense Ventures    $6,300,000            NaN  \n",
       "1                                General Atlantic  $150,000,000       Series C  \n",
       "2  Deepak Parekh, Amitabh Bachchan, Piyush Pandey   $28,000,000  Fresh funding  "
      ]
     },
     "execution_count": 14,
     "metadata": {},
     "output_type": "execute_result"
    }
   ],
   "source": [
    "# 2019 dataset \n",
    "data_2019.head(3)"
   ]
  },
  {
   "cell_type": "code",
   "execution_count": 15,
   "metadata": {},
   "outputs": [
    {
     "data": {
      "text/html": [
       "<div>\n",
       "<style scoped>\n",
       "    .dataframe tbody tr th:only-of-type {\n",
       "        vertical-align: middle;\n",
       "    }\n",
       "\n",
       "    .dataframe tbody tr th {\n",
       "        vertical-align: top;\n",
       "    }\n",
       "\n",
       "    .dataframe thead th {\n",
       "        text-align: right;\n",
       "    }\n",
       "</style>\n",
       "<table border=\"1\" class=\"dataframe\">\n",
       "  <thead>\n",
       "    <tr style=\"text-align: right;\">\n",
       "      <th></th>\n",
       "      <th>Company_Brand</th>\n",
       "      <th>Founded</th>\n",
       "      <th>HeadQuarter</th>\n",
       "      <th>Sector</th>\n",
       "      <th>What_it_does</th>\n",
       "      <th>Founders</th>\n",
       "      <th>Investor</th>\n",
       "      <th>Amount</th>\n",
       "      <th>Stage</th>\n",
       "      <th>column10</th>\n",
       "    </tr>\n",
       "  </thead>\n",
       "  <tbody>\n",
       "    <tr>\n",
       "      <th>0</th>\n",
       "      <td>Aqgromalin</td>\n",
       "      <td>2019.0</td>\n",
       "      <td>Chennai</td>\n",
       "      <td>AgriTech</td>\n",
       "      <td>Cultivating Ideas for Profit</td>\n",
       "      <td>Prasanna Manogaran, Bharani C L</td>\n",
       "      <td>Angel investors</td>\n",
       "      <td>200000.0</td>\n",
       "      <td>None</td>\n",
       "      <td>None</td>\n",
       "    </tr>\n",
       "    <tr>\n",
       "      <th>1</th>\n",
       "      <td>Krayonnz</td>\n",
       "      <td>2019.0</td>\n",
       "      <td>Bangalore</td>\n",
       "      <td>EdTech</td>\n",
       "      <td>An academy-guardian-scholar centric ecosystem ...</td>\n",
       "      <td>Saurabh Dixit, Gurudutt Upadhyay</td>\n",
       "      <td>GSF Accelerator</td>\n",
       "      <td>100000.0</td>\n",
       "      <td>Pre-seed</td>\n",
       "      <td>None</td>\n",
       "    </tr>\n",
       "    <tr>\n",
       "      <th>2</th>\n",
       "      <td>PadCare Labs</td>\n",
       "      <td>2018.0</td>\n",
       "      <td>Pune</td>\n",
       "      <td>Hygiene management</td>\n",
       "      <td>Converting bio-hazardous waste to harmless waste</td>\n",
       "      <td>Ajinkya Dhariya</td>\n",
       "      <td>Venture Center</td>\n",
       "      <td>NaN</td>\n",
       "      <td>Pre-seed</td>\n",
       "      <td>None</td>\n",
       "    </tr>\n",
       "  </tbody>\n",
       "</table>\n",
       "</div>"
      ],
      "text/plain": [
       "  Company_Brand  Founded HeadQuarter              Sector  \\\n",
       "0    Aqgromalin   2019.0     Chennai            AgriTech   \n",
       "1      Krayonnz   2019.0   Bangalore              EdTech   \n",
       "2  PadCare Labs   2018.0        Pune  Hygiene management   \n",
       "\n",
       "                                        What_it_does  \\\n",
       "0                       Cultivating Ideas for Profit   \n",
       "1  An academy-guardian-scholar centric ecosystem ...   \n",
       "2   Converting bio-hazardous waste to harmless waste   \n",
       "\n",
       "                           Founders         Investor    Amount     Stage  \\\n",
       "0   Prasanna Manogaran, Bharani C L  Angel investors  200000.0      None   \n",
       "1  Saurabh Dixit, Gurudutt Upadhyay  GSF Accelerator  100000.0  Pre-seed   \n",
       "2                   Ajinkya Dhariya   Venture Center       NaN  Pre-seed   \n",
       "\n",
       "  column10  \n",
       "0     None  \n",
       "1     None  \n",
       "2     None  "
      ]
     },
     "execution_count": 15,
     "metadata": {},
     "output_type": "execute_result"
    }
   ],
   "source": [
    "# 2020 dataset \n",
    "data_2020.head(3)"
   ]
  },
  {
   "cell_type": "code",
   "execution_count": 16,
   "metadata": {},
   "outputs": [
    {
     "data": {
      "text/html": [
       "<div>\n",
       "<style scoped>\n",
       "    .dataframe tbody tr th:only-of-type {\n",
       "        vertical-align: middle;\n",
       "    }\n",
       "\n",
       "    .dataframe tbody tr th {\n",
       "        vertical-align: top;\n",
       "    }\n",
       "\n",
       "    .dataframe thead th {\n",
       "        text-align: right;\n",
       "    }\n",
       "</style>\n",
       "<table border=\"1\" class=\"dataframe\">\n",
       "  <thead>\n",
       "    <tr style=\"text-align: right;\">\n",
       "      <th></th>\n",
       "      <th>Company_Brand</th>\n",
       "      <th>Founded</th>\n",
       "      <th>HeadQuarter</th>\n",
       "      <th>Sector</th>\n",
       "      <th>What_it_does</th>\n",
       "      <th>Founders</th>\n",
       "      <th>Investor</th>\n",
       "      <th>Amount</th>\n",
       "      <th>Stage</th>\n",
       "    </tr>\n",
       "  </thead>\n",
       "  <tbody>\n",
       "    <tr>\n",
       "      <th>0</th>\n",
       "      <td>Unbox Robotics</td>\n",
       "      <td>2019.0</td>\n",
       "      <td>Bangalore</td>\n",
       "      <td>AI startup</td>\n",
       "      <td>Unbox Robotics builds on-demand AI-driven ware...</td>\n",
       "      <td>Pramod Ghadge, Shahid Memon</td>\n",
       "      <td>BEENEXT, Entrepreneur First</td>\n",
       "      <td>$1,200,000</td>\n",
       "      <td>Pre-series A</td>\n",
       "    </tr>\n",
       "    <tr>\n",
       "      <th>1</th>\n",
       "      <td>upGrad</td>\n",
       "      <td>2015.0</td>\n",
       "      <td>Mumbai</td>\n",
       "      <td>EdTech</td>\n",
       "      <td>UpGrad is an online higher education platform.</td>\n",
       "      <td>Mayank Kumar, Phalgun Kompalli, Ravijot Chugh,...</td>\n",
       "      <td>Unilazer Ventures, IIFL Asset Management</td>\n",
       "      <td>$120,000,000</td>\n",
       "      <td>None</td>\n",
       "    </tr>\n",
       "    <tr>\n",
       "      <th>2</th>\n",
       "      <td>Lead School</td>\n",
       "      <td>2012.0</td>\n",
       "      <td>Mumbai</td>\n",
       "      <td>EdTech</td>\n",
       "      <td>LEAD School offers technology based school tra...</td>\n",
       "      <td>Smita Deorah, Sumeet Mehta</td>\n",
       "      <td>GSV Ventures, Westbridge Capital</td>\n",
       "      <td>$30,000,000</td>\n",
       "      <td>Series D</td>\n",
       "    </tr>\n",
       "  </tbody>\n",
       "</table>\n",
       "</div>"
      ],
      "text/plain": [
       "    Company_Brand  Founded HeadQuarter      Sector  \\\n",
       "0  Unbox Robotics   2019.0   Bangalore  AI startup   \n",
       "1          upGrad   2015.0      Mumbai      EdTech   \n",
       "2     Lead School   2012.0      Mumbai      EdTech   \n",
       "\n",
       "                                        What_it_does  \\\n",
       "0  Unbox Robotics builds on-demand AI-driven ware...   \n",
       "1     UpGrad is an online higher education platform.   \n",
       "2  LEAD School offers technology based school tra...   \n",
       "\n",
       "                                            Founders  \\\n",
       "0                        Pramod Ghadge, Shahid Memon   \n",
       "1  Mayank Kumar, Phalgun Kompalli, Ravijot Chugh,...   \n",
       "2                         Smita Deorah, Sumeet Mehta   \n",
       "\n",
       "                                   Investor        Amount         Stage  \n",
       "0               BEENEXT, Entrepreneur First    $1,200,000  Pre-series A  \n",
       "1  Unilazer Ventures, IIFL Asset Management  $120,000,000          None  \n",
       "2          GSV Ventures, Westbridge Capital   $30,000,000      Series D  "
      ]
     },
     "execution_count": 16,
     "metadata": {},
     "output_type": "execute_result"
    }
   ],
   "source": [
    "# 2021 dataset \n",
    "data_2021.head(3)"
   ]
  },
  {
   "cell_type": "markdown",
   "metadata": {},
   "source": [
    "        5.3 Data Cleaning\n"
   ]
  },
  {
   "cell_type": "markdown",
   "metadata": {},
   "source": [
    "    5.3.1 2018 Data\n"
   ]
  },
  {
   "cell_type": "code",
   "execution_count": null,
   "metadata": {},
   "outputs": [],
   "source": [
    "# add Data Summary before staing cleaning"
   ]
  },
  {
   "cell_type": "code",
   "execution_count": 17,
   "metadata": {},
   "outputs": [
    {
     "name": "stdout",
     "output_type": "stream",
     "text": [
      "<class 'pandas.core.frame.DataFrame'>\n",
      "RangeIndex: 526 entries, 0 to 525\n",
      "Data columns (total 6 columns):\n",
      " #   Column         Non-Null Count  Dtype \n",
      "---  ------         --------------  ----- \n",
      " 0   Company Name   526 non-null    object\n",
      " 1   Industry       526 non-null    object\n",
      " 2   Round/Series   526 non-null    object\n",
      " 3   Amount         526 non-null    object\n",
      " 4   Location       526 non-null    object\n",
      " 5   About Company  526 non-null    object\n",
      "dtypes: object(6)\n",
      "memory usage: 24.8+ KB\n"
     ]
    }
   ],
   "source": [
    "data_2018.info()"
   ]
  },
  {
   "cell_type": "markdown",
   "metadata": {},
   "source": [
    "From the result summary\n",
    "\n",
    "- 2018 Data has no Missing values\n"
   ]
  },
  {
   "cell_type": "markdown",
   "metadata": {},
   "source": [
    "    Unique values in each column\n"
   ]
  },
  {
   "cell_type": "code",
   "execution_count": 18,
   "metadata": {},
   "outputs": [
    {
     "data": {
      "text/plain": [
       "Index(['Company Name', 'Industry', 'Round/Series', 'Amount', 'Location',\n",
       "       'About Company'],\n",
       "      dtype='object')"
      ]
     },
     "execution_count": 18,
     "metadata": {},
     "output_type": "execute_result"
    }
   ],
   "source": [
    "data_2018.columns"
   ]
  },
  {
   "cell_type": "code",
   "execution_count": 20,
   "metadata": {},
   "outputs": [],
   "source": [
    "def uniqueValue(column): #Industry, Round/Series,Amount, Location and Amount\n",
    "    return data_2018[column].value_counts()    "
   ]
  },
  {
   "cell_type": "code",
   "execution_count": 21,
   "metadata": {},
   "outputs": [
    {
     "data": {
      "text/plain": [
       "Industry\n",
       "—                                              30\n",
       "Financial Services                             15\n",
       "Education                                       8\n",
       "Information Technology                          7\n",
       "Health Care, Hospital                           5\n",
       "                                               ..\n",
       "Education, Gaming, Training                     1\n",
       "Automotive, Search Engine, Service Industry     1\n",
       "Wealth Management                               1\n",
       "B2B, Farming, Marketplace                       1\n",
       "Biotechnology, Health Care, Pharmaceutical      1\n",
       "Name: count, Length: 405, dtype: int64"
      ]
     },
     "execution_count": 21,
     "metadata": {},
     "output_type": "execute_result"
    }
   ],
   "source": [
    "#Industry\n",
    "uniqueValue(\"Industry\")"
   ]
  },
  {
   "cell_type": "code",
   "execution_count": 22,
   "metadata": {},
   "outputs": [
    {
     "data": {
      "text/plain": [
       "Round/Series\n",
       "Seed                                                                                                       280\n",
       "Series A                                                                                                    73\n",
       "Angel                                                                                                       37\n",
       "Venture - Series Unknown                                                                                    37\n",
       "Series B                                                                                                    20\n",
       "Series C                                                                                                    16\n",
       "Debt Financing                                                                                              13\n",
       "Private Equity                                                                                              10\n",
       "Corporate Round                                                                                              8\n",
       "Pre-Seed                                                                                                     6\n",
       "Series E                                                                                                     5\n",
       "Grant                                                                                                        4\n",
       "Series D                                                                                                     3\n",
       "Secondary Market                                                                                             3\n",
       "Post-IPO Equity                                                                                              3\n",
       "Undisclosed                                                                                                  2\n",
       "Post-IPO Debt                                                                                                2\n",
       "Non-equity Assistance                                                                                        1\n",
       "Series H                                                                                                     1\n",
       "https://docs.google.com/spreadsheets/d/1x9ziNeaz6auNChIHnMI8U6kS7knTr3byy_YBGfQaoUA/edit#gid=1861303593      1\n",
       "Funding Round                                                                                                1\n",
       "Name: count, dtype: int64"
      ]
     },
     "execution_count": 22,
     "metadata": {},
     "output_type": "execute_result"
    }
   ],
   "source": [
    "uniqueValue(\"Round/Series\")"
   ]
  },
  {
   "cell_type": "code",
   "execution_count": 23,
   "metadata": {},
   "outputs": [
    {
     "data": {
      "text/plain": [
       "Amount\n",
       "—              148\n",
       "1000000         24\n",
       "500000          13\n",
       "2000000         12\n",
       "₹50,000,000      9\n",
       "              ... \n",
       "2200000          1\n",
       "1200000          1\n",
       "$15,000          1\n",
       "$1,041,000       1\n",
       "35000000         1\n",
       "Name: count, Length: 198, dtype: int64"
      ]
     },
     "execution_count": 23,
     "metadata": {},
     "output_type": "execute_result"
    }
   ],
   "source": [
    "uniqueValue(\"Amount\")"
   ]
  },
  {
   "cell_type": "code",
   "execution_count": 24,
   "metadata": {},
   "outputs": [
    {
     "data": {
      "text/plain": [
       "Location\n",
       "Bangalore, Karnataka, India         102\n",
       "Mumbai, Maharashtra, India           94\n",
       "Bengaluru, Karnataka, India          55\n",
       "Gurgaon, Haryana, India              52\n",
       "New Delhi, Delhi, India              51\n",
       "Pune, Maharashtra, India             20\n",
       "Chennai, Tamil Nadu, India           19\n",
       "Hyderabad, Andhra Pradesh, India     18\n",
       "Delhi, Delhi, India                  16\n",
       "Noida, Uttar Pradesh, India          15\n",
       "Haryana, Haryana, India              11\n",
       "Jaipur, Rajasthan, India              9\n",
       "Ahmedabad, Gujarat, India             6\n",
       "Kolkata, West Bengal, India           6\n",
       "Bangalore City, Karnataka, India      5\n",
       "Indore, Madhya Pradesh, India         4\n",
       "India, Asia                           4\n",
       "Kormangala, Karnataka, India          3\n",
       "Ghaziabad, Uttar Pradesh, India       2\n",
       "Kochi, Kerala, India                  2\n",
       "Bhopal, Madhya Pradesh, India         2\n",
       "Thane, Maharashtra, India             2\n",
       "Jodhpur, Rajasthan, India             1\n",
       "Powai, Assam, India                   1\n",
       "Andheri, Maharashtra, India           1\n",
       "Mylapore, Tamil Nadu, India           1\n",
       "Kalpakkam, Tamil Nadu, India          1\n",
       "Guntur, Andhra Pradesh, India         1\n",
       "Coimbatore, Tamil Nadu, India         1\n",
       "Worli, Maharashtra, India             1\n",
       "Alleppey, Kerala, India               1\n",
       "Chandigarh, Chandigarh, India         1\n",
       "Guindy, Tamil Nadu, India             1\n",
       "Uttar Pradesh, India, Asia            1\n",
       "Trivandrum, Kerala, India             1\n",
       "Ernakulam, Kerala, India              1\n",
       "Kanpur, Uttar Pradesh, India          1\n",
       "Kannur, Kerala, India                 1\n",
       "Alwar, Rajasthan, India               1\n",
       "Margão, Goa, India                    1\n",
       "Belgaum, Karnataka, India             1\n",
       "Kalkaji, Delhi, India                 1\n",
       "Anand, Gujarat, India                 1\n",
       "Kota, Rajasthan, India                1\n",
       "Faridabad, Haryana, India             1\n",
       "Cochin, Kerala, India                 1\n",
       "Hubli, Karnataka, India               1\n",
       "Azadpur, Delhi, India                 1\n",
       "Mohali, Punjab, India                 1\n",
       "Lucknow, Uttar Pradesh, India         1\n",
       "Name: count, dtype: int64"
      ]
     },
     "execution_count": 24,
     "metadata": {},
     "output_type": "execute_result"
    }
   ],
   "source": [
    "uniqueValue(\"Location\")"
   ]
  },
  {
   "cell_type": "markdown",
   "metadata": {},
   "source": [
    "Issue Identified in Data 2018\n",
    "\n",
    "- **Amount Column** has more that one currency and some has No currency\n",
    "- **Industry column** has not containd more indust per a company\n"
   ]
  },
  {
   "cell_type": "markdown",
   "metadata": {},
   "source": [
    "    Check Duplications\n"
   ]
  },
  {
   "cell_type": "code",
   "execution_count": 25,
   "metadata": {},
   "outputs": [
    {
     "data": {
      "text/plain": [
       "False    525\n",
       "True       1\n",
       "Name: count, dtype: int64"
      ]
     },
     "execution_count": 25,
     "metadata": {},
     "output_type": "execute_result"
    }
   ],
   "source": [
    "\n",
    "data_2018.duplicated().value_counts()"
   ]
  },
  {
   "cell_type": "markdown",
   "metadata": {},
   "source": [
    "    View the Duplications\n"
   ]
  },
  {
   "cell_type": "code",
   "execution_count": 26,
   "metadata": {},
   "outputs": [
    {
     "data": {
      "text/html": [
       "<div>\n",
       "<style scoped>\n",
       "    .dataframe tbody tr th:only-of-type {\n",
       "        vertical-align: middle;\n",
       "    }\n",
       "\n",
       "    .dataframe tbody tr th {\n",
       "        vertical-align: top;\n",
       "    }\n",
       "\n",
       "    .dataframe thead th {\n",
       "        text-align: right;\n",
       "    }\n",
       "</style>\n",
       "<table border=\"1\" class=\"dataframe\">\n",
       "  <thead>\n",
       "    <tr style=\"text-align: right;\">\n",
       "      <th></th>\n",
       "      <th>Company Name</th>\n",
       "      <th>Industry</th>\n",
       "      <th>Round/Series</th>\n",
       "      <th>Amount</th>\n",
       "      <th>Location</th>\n",
       "      <th>About Company</th>\n",
       "    </tr>\n",
       "  </thead>\n",
       "  <tbody>\n",
       "    <tr>\n",
       "      <th>0</th>\n",
       "      <td>TheCollegeFever</td>\n",
       "      <td>Brand Marketing, Event Promotion, Marketing, S...</td>\n",
       "      <td>Seed</td>\n",
       "      <td>250000</td>\n",
       "      <td>Bangalore, Karnataka, India</td>\n",
       "      <td>TheCollegeFever is a hub for fun, fiesta and f...</td>\n",
       "    </tr>\n",
       "    <tr>\n",
       "      <th>348</th>\n",
       "      <td>TheCollegeFever</td>\n",
       "      <td>Brand Marketing, Event Promotion, Marketing, S...</td>\n",
       "      <td>Seed</td>\n",
       "      <td>250000</td>\n",
       "      <td>Bangalore, Karnataka, India</td>\n",
       "      <td>TheCollegeFever is a hub for fun, fiesta and f...</td>\n",
       "    </tr>\n",
       "  </tbody>\n",
       "</table>\n",
       "</div>"
      ],
      "text/plain": [
       "        Company Name                                           Industry  \\\n",
       "0    TheCollegeFever  Brand Marketing, Event Promotion, Marketing, S...   \n",
       "348  TheCollegeFever  Brand Marketing, Event Promotion, Marketing, S...   \n",
       "\n",
       "    Round/Series  Amount                     Location  \\\n",
       "0           Seed  250000  Bangalore, Karnataka, India   \n",
       "348         Seed  250000  Bangalore, Karnataka, India   \n",
       "\n",
       "                                         About Company  \n",
       "0    TheCollegeFever is a hub for fun, fiesta and f...  \n",
       "348  TheCollegeFever is a hub for fun, fiesta and f...  "
      ]
     },
     "execution_count": 26,
     "metadata": {},
     "output_type": "execute_result"
    }
   ],
   "source": [
    "data_2018[data_2018.duplicated(keep=False)]"
   ]
  },
  {
   "cell_type": "markdown",
   "metadata": {},
   "source": [
    "    Dropping data duplicate\n"
   ]
  },
  {
   "cell_type": "code",
   "execution_count": 27,
   "metadata": {},
   "outputs": [],
   "source": [
    "# Drop 2018 data duplicates\n",
    "data_2018 = data_2018.drop_duplicates()"
   ]
  },
  {
   "cell_type": "code",
   "execution_count": 28,
   "metadata": {},
   "outputs": [
    {
     "data": {
      "text/plain": [
       "False    525\n",
       "Name: count, dtype: int64"
      ]
     },
     "execution_count": 28,
     "metadata": {},
     "output_type": "execute_result"
    }
   ],
   "source": [
    "# double check the doublicates again \n",
    "data_2018.duplicated().value_counts()"
   ]
  },
  {
   "cell_type": "markdown",
   "metadata": {},
   "source": [
    "No duplicate anymore in data 2018\n"
   ]
  },
  {
   "cell_type": "markdown",
   "metadata": {},
   "source": [
    "    Data type conversion\n"
   ]
  },
  {
   "cell_type": "markdown",
   "metadata": {},
   "source": [
    "The `Amount` column is currently classified as a string data type, but it should be represented as an integer. Several issues in this column need to be addressed:\n",
    "\n",
    "- **Character Removal:** The presence of `,`, `$`, and `₹` characters must be eliminated.\n",
    "- **Null Values:** The `_` characters, indicating null values, need to be handled appropriately.\n",
    "- **Currency Standardization:** Amounts in Indian Rupees will be converted to US Dollars to maintain a consistent currency standard.we need ti use our assumption 1 USD = 70rupee based on avarege exchange rate of 2018\n",
    "- **Data Type Conversion:** Finally, the `Amount` column will be converted to a numeric data type.\n"
   ]
  },
  {
   "cell_type": "code",
   "execution_count": 29,
   "metadata": {},
   "outputs": [
    {
     "data": {
      "text/plain": [
       "0        250000\n",
       "1     ₹40000000\n",
       "2     ₹65000000\n",
       "3       2000000\n",
       "4             —\n",
       "5       1600000\n",
       "6     ₹16000000\n",
       "7     ₹50000000\n",
       "8             —\n",
       "9             —\n",
       "10            —\n",
       "11            —\n",
       "12            —\n",
       "13            —\n",
       "14            —\n",
       "Name: Amount, dtype: object"
      ]
     },
     "execution_count": 29,
     "metadata": {},
     "output_type": "execute_result"
    }
   ],
   "source": [
    "# Remove ',' in amount\n",
    "data_2018['Amount'].replace(',','', regex=True, inplace=True)\n",
    "data_2018['Amount'].head(15)"
   ]
  },
  {
   "cell_type": "code",
   "execution_count": 30,
   "metadata": {},
   "outputs": [],
   "source": [
    "# A function to convert amount to $ and clean the amount column\n",
    "def convert_to_usd(amount):\n",
    "    exchange_rate = 70  # Exchange rate: 1 USD = 70 INR (0.014 usd = 1 rupp)\n",
    "\n",
    "    if '₹' in str(amount):  # Check if the amount is in INR\n",
    "        amount = float(str(amount).replace('₹', ''))  # Remove currency symbol and commas\n",
    "        return round(amount / exchange_rate, 1)\n",
    "    elif '$' in str(amount):\n",
    "        amount = float(str(amount).replace('$','')) # f remove currency even is $ to make all column numeric type\n",
    "        return round(amount, 1)\n",
    "    elif \"—\" in str(amount):\n",
    "        return None  #  a suitable value to represent missing/invalid data\n",
    "    else:\n",
    "        return float(amount)\n",
    "\n",
    "\n",
    "# Apply the conversion function to the 'Amount' column\n",
    "data_2018[\"Amount\"] = data_2018[\"Amount\"].apply(convert_to_usd)"
   ]
  },
  {
   "cell_type": "code",
   "execution_count": 31,
   "metadata": {},
   "outputs": [
    {
     "data": {
      "text/plain": [
       "dtype('float64')"
      ]
     },
     "execution_count": 31,
     "metadata": {},
     "output_type": "execute_result"
    }
   ],
   "source": [
    "data_2018[\"Amount\"]=data_2018[\"Amount\"].astype(float)\n",
    "data_2018[\"Amount\"].dtype"
   ]
  },
  {
   "cell_type": "code",
   "execution_count": 32,
   "metadata": {},
   "outputs": [
    {
     "data": {
      "text/plain": [
       "0      250000.0\n",
       "1      571428.6\n",
       "2      928571.4\n",
       "3     2000000.0\n",
       "4           NaN\n",
       "5     1600000.0\n",
       "6      228571.4\n",
       "7      714285.7\n",
       "8           NaN\n",
       "9           NaN\n",
       "10          NaN\n",
       "11          NaN\n",
       "12          NaN\n",
       "13          NaN\n",
       "14          NaN\n",
       "Name: Amount, dtype: float64"
      ]
     },
     "execution_count": 32,
     "metadata": {},
     "output_type": "execute_result"
    }
   ],
   "source": [
    "data_2018[\"Amount\"].head(15)\n"
   ]
  },
  {
   "cell_type": "markdown",
   "metadata": {},
   "source": [
    "Based on other data across other 3 datasets which will later make merging easier, `Location` and `Industry` columns will only remain with the first word.\n"
   ]
  },
  {
   "cell_type": "code",
   "execution_count": 33,
   "metadata": {},
   "outputs": [
    {
     "data": {
      "text/plain": [
       "0         Bangalore, Karnataka, India\n",
       "1          Mumbai, Maharashtra, India\n",
       "2             Gurgaon, Haryana, India\n",
       "3         Noida, Uttar Pradesh, India\n",
       "4    Hyderabad, Andhra Pradesh, India\n",
       "5         Bengaluru, Karnataka, India\n",
       "6               Kalkaji, Delhi, India\n",
       "7    Hyderabad, Andhra Pradesh, India\n",
       "8          Mumbai, Maharashtra, India\n",
       "9         Bangalore, Karnataka, India\n",
       "Name: Location, dtype: object"
      ]
     },
     "execution_count": 33,
     "metadata": {},
     "output_type": "execute_result"
    }
   ],
   "source": [
    "data_2018[\"Location\"].head(10)"
   ]
  },
  {
   "cell_type": "code",
   "execution_count": 34,
   "metadata": {},
   "outputs": [
    {
     "data": {
      "text/plain": [
       "0    Bangalore\n",
       "1       Mumbai\n",
       "2      Gurgaon\n",
       "3        Noida\n",
       "4    Hyderabad\n",
       "5    Bengaluru\n",
       "6      Kalkaji\n",
       "7    Hyderabad\n",
       "8       Mumbai\n",
       "9    Bangalore\n",
       "Name: Location, dtype: object"
      ]
     },
     "execution_count": 34,
     "metadata": {},
     "output_type": "execute_result"
    }
   ],
   "source": [
    "data_2018[\"Location\"] = data_2018[\"Location\"].map(lambda x: x.split(',')[0])\n",
    "data_2018[\"Location\"].head(10)\n"
   ]
  },
  {
   "cell_type": "code",
   "execution_count": 36,
   "metadata": {},
   "outputs": [
    {
     "data": {
      "text/plain": [
       "0    Brand Marketing, Event Promotion, Marketing, S...\n",
       "1                                 Agriculture, Farming\n",
       "2     Credit, Financial Services, Lending, Marketplace\n",
       "3                          Financial Services, FinTech\n",
       "4                   E-Commerce Platforms, Retail, SaaS\n",
       "5                     Cloud Infrastructure, PaaS, SaaS\n",
       "6                       Internet, Leisure, Marketplace\n",
       "7                                      Market Research\n",
       "8         Information Services, Information Technology\n",
       "9                                      Mobile Payments\n",
       "Name: Industry, dtype: object"
      ]
     },
     "execution_count": 36,
     "metadata": {},
     "output_type": "execute_result"
    }
   ],
   "source": [
    "data_2018[\"Industry\"].head(10)"
   ]
  },
  {
   "cell_type": "code",
   "execution_count": 38,
   "metadata": {},
   "outputs": [
    {
     "data": {
      "text/plain": [
       "0         Brand Marketing\n",
       "1             Agriculture\n",
       "2                  Credit\n",
       "3      Financial Services\n",
       "4    E-Commerce Platforms\n",
       "5    Cloud Infrastructure\n",
       "6                Internet\n",
       "7         Market Research\n",
       "8    Information Services\n",
       "9         Mobile Payments\n",
       "Name: Industry, dtype: object"
      ]
     },
     "execution_count": 38,
     "metadata": {},
     "output_type": "execute_result"
    }
   ],
   "source": [
    "data_2018[\"Industry\"] = data_2018[\"Industry\"].map(lambda x: str(x).split(',')[0].strip() if pd.notnull(x) else x)\n",
    "\n",
    "data_2018[\"Industry\"].head(10)"
   ]
  },
  {
   "cell_type": "markdown",
   "metadata": {},
   "source": [
    "Dealing with missing values\n"
   ]
  },
  {
   "cell_type": "code",
   "execution_count": 39,
   "metadata": {},
   "outputs": [
    {
     "data": {
      "text/plain": [
       "Company Name       0\n",
       "Industry           0\n",
       "Round/Series       0\n",
       "Amount           148\n",
       "Location           0\n",
       "About Company      0\n",
       "dtype: int64"
      ]
     },
     "execution_count": 39,
     "metadata": {},
     "output_type": "execute_result"
    }
   ],
   "source": [
    "data_2018.isnull().sum()"
   ]
  },
  {
   "cell_type": "markdown",
   "metadata": {},
   "source": [
    "Missig value of 28% in column amount is a significant portion, let ` imputing with the mean` which a practical approach that prevents data loss while providing a reasonable estimate.\n"
   ]
  },
  {
   "cell_type": "code",
   "execution_count": 40,
   "metadata": {},
   "outputs": [
    {
     "data": {
      "text/html": [
       "<div>\n",
       "<style scoped>\n",
       "    .dataframe tbody tr th:only-of-type {\n",
       "        vertical-align: middle;\n",
       "    }\n",
       "\n",
       "    .dataframe tbody tr th {\n",
       "        vertical-align: top;\n",
       "    }\n",
       "\n",
       "    .dataframe thead th {\n",
       "        text-align: right;\n",
       "    }\n",
       "</style>\n",
       "<table border=\"1\" class=\"dataframe\">\n",
       "  <thead>\n",
       "    <tr style=\"text-align: right;\">\n",
       "      <th></th>\n",
       "      <th>Amount</th>\n",
       "    </tr>\n",
       "  </thead>\n",
       "  <tbody>\n",
       "    <tr>\n",
       "      <th>count</th>\n",
       "      <td>3.770000e+02</td>\n",
       "    </tr>\n",
       "    <tr>\n",
       "      <th>mean</th>\n",
       "      <td>1.754591e+07</td>\n",
       "    </tr>\n",
       "    <tr>\n",
       "      <th>std</th>\n",
       "      <td>7.787523e+07</td>\n",
       "    </tr>\n",
       "    <tr>\n",
       "      <th>min</th>\n",
       "      <td>8.571000e+02</td>\n",
       "    </tr>\n",
       "    <tr>\n",
       "      <th>25%</th>\n",
       "      <td>5.000000e+05</td>\n",
       "    </tr>\n",
       "    <tr>\n",
       "      <th>50%</th>\n",
       "      <td>1.300000e+06</td>\n",
       "    </tr>\n",
       "    <tr>\n",
       "      <th>75%</th>\n",
       "      <td>5.000000e+06</td>\n",
       "    </tr>\n",
       "    <tr>\n",
       "      <th>max</th>\n",
       "      <td>1.000000e+09</td>\n",
       "    </tr>\n",
       "  </tbody>\n",
       "</table>\n",
       "</div>"
      ],
      "text/plain": [
       "             Amount\n",
       "count  3.770000e+02\n",
       "mean   1.754591e+07\n",
       "std    7.787523e+07\n",
       "min    8.571000e+02\n",
       "25%    5.000000e+05\n",
       "50%    1.300000e+06\n",
       "75%    5.000000e+06\n",
       "max    1.000000e+09"
      ]
     },
     "execution_count": 40,
     "metadata": {},
     "output_type": "execute_result"
    }
   ],
   "source": [
    "# Statistics summary\n",
    "data_2018.describe()"
   ]
  },
  {
   "cell_type": "code",
   "execution_count": 41,
   "metadata": {},
   "outputs": [],
   "source": [
    "data_2018['Amount'].fillna(data_2018['Amount'].mean(), inplace=True)"
   ]
  },
  {
   "cell_type": "code",
   "execution_count": 42,
   "metadata": {},
   "outputs": [
    {
     "data": {
      "text/plain": [
       "Company Name     0\n",
       "Industry         0\n",
       "Round/Series     0\n",
       "Amount           0\n",
       "Location         0\n",
       "About Company    0\n",
       "dtype: int64"
      ]
     },
     "execution_count": 42,
     "metadata": {},
     "output_type": "execute_result"
    }
   ],
   "source": [
    "data_2018.isnull().sum()"
   ]
  },
  {
   "cell_type": "markdown",
   "metadata": {},
   "source": [
    "To make merging and analysis easier, we will add a column called `Year Funded` that contains the year each startup received funding.\n"
   ]
  },
  {
   "cell_type": "code",
   "execution_count": 43,
   "metadata": {},
   "outputs": [],
   "source": [
    "\n",
    "data_2018['Year Funded'] = 2018"
   ]
  },
  {
   "cell_type": "code",
   "execution_count": 45,
   "metadata": {},
   "outputs": [
    {
     "data": {
      "text/html": [
       "<div>\n",
       "<style scoped>\n",
       "    .dataframe tbody tr th:only-of-type {\n",
       "        vertical-align: middle;\n",
       "    }\n",
       "\n",
       "    .dataframe tbody tr th {\n",
       "        vertical-align: top;\n",
       "    }\n",
       "\n",
       "    .dataframe thead th {\n",
       "        text-align: right;\n",
       "    }\n",
       "</style>\n",
       "<table border=\"1\" class=\"dataframe\">\n",
       "  <thead>\n",
       "    <tr style=\"text-align: right;\">\n",
       "      <th></th>\n",
       "      <th>Company Name</th>\n",
       "      <th>Industry</th>\n",
       "      <th>Round/Series</th>\n",
       "      <th>Amount</th>\n",
       "      <th>Location</th>\n",
       "      <th>About Company</th>\n",
       "      <th>Year Funded</th>\n",
       "    </tr>\n",
       "  </thead>\n",
       "  <tbody>\n",
       "    <tr>\n",
       "      <th>0</th>\n",
       "      <td>TheCollegeFever</td>\n",
       "      <td>Brand Marketing</td>\n",
       "      <td>Seed</td>\n",
       "      <td>2.500000e+05</td>\n",
       "      <td>Bangalore</td>\n",
       "      <td>TheCollegeFever is a hub for fun, fiesta and f...</td>\n",
       "      <td>2018</td>\n",
       "    </tr>\n",
       "    <tr>\n",
       "      <th>1</th>\n",
       "      <td>Happy Cow Dairy</td>\n",
       "      <td>Agriculture</td>\n",
       "      <td>Seed</td>\n",
       "      <td>5.714286e+05</td>\n",
       "      <td>Mumbai</td>\n",
       "      <td>A startup which aggregates milk from dairy far...</td>\n",
       "      <td>2018</td>\n",
       "    </tr>\n",
       "    <tr>\n",
       "      <th>2</th>\n",
       "      <td>MyLoanCare</td>\n",
       "      <td>Credit</td>\n",
       "      <td>Series A</td>\n",
       "      <td>9.285714e+05</td>\n",
       "      <td>Gurgaon</td>\n",
       "      <td>Leading Online Loans Marketplace in India</td>\n",
       "      <td>2018</td>\n",
       "    </tr>\n",
       "    <tr>\n",
       "      <th>3</th>\n",
       "      <td>PayMe India</td>\n",
       "      <td>Financial Services</td>\n",
       "      <td>Angel</td>\n",
       "      <td>2.000000e+06</td>\n",
       "      <td>Noida</td>\n",
       "      <td>PayMe India is an innovative FinTech organizat...</td>\n",
       "      <td>2018</td>\n",
       "    </tr>\n",
       "    <tr>\n",
       "      <th>4</th>\n",
       "      <td>Eunimart</td>\n",
       "      <td>E-Commerce Platforms</td>\n",
       "      <td>Seed</td>\n",
       "      <td>1.754591e+07</td>\n",
       "      <td>Hyderabad</td>\n",
       "      <td>Eunimart is a one stop solution for merchants ...</td>\n",
       "      <td>2018</td>\n",
       "    </tr>\n",
       "  </tbody>\n",
       "</table>\n",
       "</div>"
      ],
      "text/plain": [
       "      Company Name              Industry Round/Series        Amount  \\\n",
       "0  TheCollegeFever       Brand Marketing         Seed  2.500000e+05   \n",
       "1  Happy Cow Dairy           Agriculture         Seed  5.714286e+05   \n",
       "2       MyLoanCare                Credit     Series A  9.285714e+05   \n",
       "3      PayMe India    Financial Services        Angel  2.000000e+06   \n",
       "4         Eunimart  E-Commerce Platforms         Seed  1.754591e+07   \n",
       "\n",
       "    Location                                      About Company  Year Funded  \n",
       "0  Bangalore  TheCollegeFever is a hub for fun, fiesta and f...         2018  \n",
       "1     Mumbai  A startup which aggregates milk from dairy far...         2018  \n",
       "2    Gurgaon          Leading Online Loans Marketplace in India         2018  \n",
       "3      Noida  PayMe India is an innovative FinTech organizat...         2018  \n",
       "4  Hyderabad  Eunimart is a one stop solution for merchants ...         2018  "
      ]
     },
     "execution_count": 45,
     "metadata": {},
     "output_type": "execute_result"
    }
   ],
   "source": [
    "data_2018.head(5)"
   ]
  },
  {
   "cell_type": "markdown",
   "metadata": {},
   "source": [
    "let select the columns to be used in analysis\n"
   ]
  },
  {
   "cell_type": "code",
   "execution_count": 54,
   "metadata": {},
   "outputs": [
    {
     "data": {
      "text/plain": [
       "['Company Name',\n",
       " 'Industry',\n",
       " 'Round/Series',\n",
       " 'Amount',\n",
       " 'Location',\n",
       " 'Year Funded']"
      ]
     },
     "execution_count": 54,
     "metadata": {},
     "output_type": "execute_result"
    }
   ],
   "source": [
    "data_2018.columns.tolist()"
   ]
  },
  {
   "cell_type": "markdown",
   "metadata": {},
   "source": [
    "From columns name 2018 data, About company will not contribute to our analysis, let drop it\n"
   ]
  },
  {
   "cell_type": "code",
   "execution_count": 49,
   "metadata": {},
   "outputs": [],
   "source": [
    "data_2018.drop(['About Company'], axis=1, inplace=True)"
   ]
  },
  {
   "cell_type": "code",
   "execution_count": 56,
   "metadata": {},
   "outputs": [
    {
     "data": {
      "text/html": [
       "<div>\n",
       "<style scoped>\n",
       "    .dataframe tbody tr th:only-of-type {\n",
       "        vertical-align: middle;\n",
       "    }\n",
       "\n",
       "    .dataframe tbody tr th {\n",
       "        vertical-align: top;\n",
       "    }\n",
       "\n",
       "    .dataframe thead th {\n",
       "        text-align: right;\n",
       "    }\n",
       "</style>\n",
       "<table border=\"1\" class=\"dataframe\">\n",
       "  <thead>\n",
       "    <tr style=\"text-align: right;\">\n",
       "      <th></th>\n",
       "      <th>Company Name</th>\n",
       "      <th>Industry</th>\n",
       "      <th>Round/Series</th>\n",
       "      <th>Amount</th>\n",
       "      <th>Location</th>\n",
       "      <th>Year Funded</th>\n",
       "    </tr>\n",
       "  </thead>\n",
       "  <tbody>\n",
       "    <tr>\n",
       "      <th>96</th>\n",
       "      <td>Khidki</td>\n",
       "      <td>Artificial Intelligence</td>\n",
       "      <td>Seed</td>\n",
       "      <td>1.754591e+07</td>\n",
       "      <td>Bangalore</td>\n",
       "      <td>2018</td>\n",
       "    </tr>\n",
       "    <tr>\n",
       "      <th>187</th>\n",
       "      <td>PinkBlue</td>\n",
       "      <td>Health Care</td>\n",
       "      <td>Seed</td>\n",
       "      <td>3.000000e+05</td>\n",
       "      <td>Bangalore</td>\n",
       "      <td>2018</td>\n",
       "    </tr>\n",
       "    <tr>\n",
       "      <th>186</th>\n",
       "      <td>Awaaz De</td>\n",
       "      <td>Internet</td>\n",
       "      <td>Angel</td>\n",
       "      <td>1.754591e+07</td>\n",
       "      <td>Ahmedabad</td>\n",
       "      <td>2018</td>\n",
       "    </tr>\n",
       "    <tr>\n",
       "      <th>193</th>\n",
       "      <td>Aviom India Housing Finance</td>\n",
       "      <td>Finance</td>\n",
       "      <td>Series A</td>\n",
       "      <td>2.142857e+06</td>\n",
       "      <td>New Delhi</td>\n",
       "      <td>2018</td>\n",
       "    </tr>\n",
       "    <tr>\n",
       "      <th>214</th>\n",
       "      <td>Faclon Labs</td>\n",
       "      <td>Cloud Computing</td>\n",
       "      <td>Seed</td>\n",
       "      <td>1.754591e+07</td>\n",
       "      <td>Mumbai</td>\n",
       "      <td>2018</td>\n",
       "    </tr>\n",
       "    <tr>\n",
       "      <th>113</th>\n",
       "      <td>DataTrained</td>\n",
       "      <td>EdTech</td>\n",
       "      <td>Seed</td>\n",
       "      <td>1.714286e+06</td>\n",
       "      <td>Bangalore</td>\n",
       "      <td>2018</td>\n",
       "    </tr>\n",
       "    <tr>\n",
       "      <th>378</th>\n",
       "      <td>Detect Technologies</td>\n",
       "      <td>Artificial Intelligence</td>\n",
       "      <td>Series A</td>\n",
       "      <td>3.300000e+06</td>\n",
       "      <td>Chennai</td>\n",
       "      <td>2018</td>\n",
       "    </tr>\n",
       "    <tr>\n",
       "      <th>154</th>\n",
       "      <td>Articbot</td>\n",
       "      <td>Artificial Intelligence</td>\n",
       "      <td>Grant</td>\n",
       "      <td>1.714290e+04</td>\n",
       "      <td>Kannur</td>\n",
       "      <td>2018</td>\n",
       "    </tr>\n",
       "    <tr>\n",
       "      <th>401</th>\n",
       "      <td>Gugu</td>\n",
       "      <td>Battery</td>\n",
       "      <td>Seed</td>\n",
       "      <td>2.500000e+05</td>\n",
       "      <td>Coimbatore</td>\n",
       "      <td>2018</td>\n",
       "    </tr>\n",
       "    <tr>\n",
       "      <th>286</th>\n",
       "      <td>Sports Flashes Pvt. Ltd</td>\n",
       "      <td>Basketball</td>\n",
       "      <td>Seed</td>\n",
       "      <td>1.000000e+06</td>\n",
       "      <td>New Delhi</td>\n",
       "      <td>2018</td>\n",
       "    </tr>\n",
       "    <tr>\n",
       "      <th>240</th>\n",
       "      <td>Log 9 Materials</td>\n",
       "      <td>Nanotechnology</td>\n",
       "      <td>Seed</td>\n",
       "      <td>4.285714e+05</td>\n",
       "      <td>Uttar Pradesh</td>\n",
       "      <td>2018</td>\n",
       "    </tr>\n",
       "    <tr>\n",
       "      <th>72</th>\n",
       "      <td>BUGWORKS Research India</td>\n",
       "      <td>Biotechnology</td>\n",
       "      <td>Series A</td>\n",
       "      <td>9.000000e+06</td>\n",
       "      <td>Bangalore</td>\n",
       "      <td>2018</td>\n",
       "    </tr>\n",
       "    <tr>\n",
       "      <th>294</th>\n",
       "      <td>Roadcast</td>\n",
       "      <td>—</td>\n",
       "      <td>Angel</td>\n",
       "      <td>2.500000e+05</td>\n",
       "      <td>New Delhi</td>\n",
       "      <td>2018</td>\n",
       "    </tr>\n",
       "    <tr>\n",
       "      <th>219</th>\n",
       "      <td>Rubix108 Technologies</td>\n",
       "      <td>Information Technology</td>\n",
       "      <td>Seed</td>\n",
       "      <td>1.000000e+06</td>\n",
       "      <td>Pune</td>\n",
       "      <td>2018</td>\n",
       "    </tr>\n",
       "    <tr>\n",
       "      <th>260</th>\n",
       "      <td>HungerBox</td>\n",
       "      <td>B2B</td>\n",
       "      <td>Series A</td>\n",
       "      <td>4.500000e+06</td>\n",
       "      <td>Bengaluru</td>\n",
       "      <td>2018</td>\n",
       "    </tr>\n",
       "  </tbody>\n",
       "</table>\n",
       "</div>"
      ],
      "text/plain": [
       "                    Company Name                 Industry Round/Series  \\\n",
       "96                        Khidki  Artificial Intelligence         Seed   \n",
       "187                     PinkBlue              Health Care         Seed   \n",
       "186                     Awaaz De                 Internet        Angel   \n",
       "193  Aviom India Housing Finance                  Finance     Series A   \n",
       "214                  Faclon Labs          Cloud Computing         Seed   \n",
       "113                  DataTrained                   EdTech         Seed   \n",
       "378          Detect Technologies  Artificial Intelligence     Series A   \n",
       "154                     Articbot  Artificial Intelligence        Grant   \n",
       "401                         Gugu                  Battery         Seed   \n",
       "286      Sports Flashes Pvt. Ltd               Basketball         Seed   \n",
       "240              Log 9 Materials           Nanotechnology         Seed   \n",
       "72       BUGWORKS Research India            Biotechnology     Series A   \n",
       "294                     Roadcast                        —        Angel   \n",
       "219        Rubix108 Technologies   Information Technology         Seed   \n",
       "260                    HungerBox                      B2B     Series A   \n",
       "\n",
       "           Amount       Location  Year Funded  \n",
       "96   1.754591e+07      Bangalore         2018  \n",
       "187  3.000000e+05      Bangalore         2018  \n",
       "186  1.754591e+07      Ahmedabad         2018  \n",
       "193  2.142857e+06      New Delhi         2018  \n",
       "214  1.754591e+07         Mumbai         2018  \n",
       "113  1.714286e+06      Bangalore         2018  \n",
       "378  3.300000e+06        Chennai         2018  \n",
       "154  1.714290e+04         Kannur         2018  \n",
       "401  2.500000e+05     Coimbatore         2018  \n",
       "286  1.000000e+06      New Delhi         2018  \n",
       "240  4.285714e+05  Uttar Pradesh         2018  \n",
       "72   9.000000e+06      Bangalore         2018  \n",
       "294  2.500000e+05      New Delhi         2018  \n",
       "219  1.000000e+06           Pune         2018  \n",
       "260  4.500000e+06      Bengaluru         2018  "
      ]
     },
     "execution_count": 56,
     "metadata": {},
     "output_type": "execute_result"
    }
   ],
   "source": [
    "data_2018.sample(15)"
   ]
  },
  {
   "cell_type": "code",
   "execution_count": 61,
   "metadata": {},
   "outputs": [],
   "source": [
    "# Add summary after completing data cleaning"
   ]
  },
  {
   "cell_type": "markdown",
   "metadata": {},
   "source": [
    "    5.3.2 2019 Data\n"
   ]
  },
  {
   "cell_type": "code",
   "execution_count": 63,
   "metadata": {},
   "outputs": [
    {
     "data": {
      "text/plain": [
       "Index(['Company/Brand', 'Founded', 'HeadQuarter', 'Sector', 'What it does',\n",
       "       'Founders', 'Investor', 'Amount($)', 'Stage'],\n",
       "      dtype='object')"
      ]
     },
     "execution_count": 63,
     "metadata": {},
     "output_type": "execute_result"
    }
   ],
   "source": [
    "data_2019.columns"
   ]
  },
  {
   "cell_type": "code",
   "execution_count": 64,
   "metadata": {},
   "outputs": [
    {
     "name": "stdout",
     "output_type": "stream",
     "text": [
      "<class 'pandas.core.frame.DataFrame'>\n",
      "RangeIndex: 89 entries, 0 to 88\n",
      "Data columns (total 9 columns):\n",
      " #   Column         Non-Null Count  Dtype  \n",
      "---  ------         --------------  -----  \n",
      " 0   Company/Brand  89 non-null     object \n",
      " 1   Founded        60 non-null     float64\n",
      " 2   HeadQuarter    70 non-null     object \n",
      " 3   Sector         84 non-null     object \n",
      " 4   What it does   89 non-null     object \n",
      " 5   Founders       86 non-null     object \n",
      " 6   Investor       89 non-null     object \n",
      " 7   Amount($)      89 non-null     object \n",
      " 8   Stage          43 non-null     object \n",
      "dtypes: float64(1), object(8)\n",
      "memory usage: 6.4+ KB\n"
     ]
    }
   ],
   "source": [
    "data_2019.info()"
   ]
  },
  {
   "cell_type": "markdown",
   "metadata": {},
   "source": [
    "![Data 2019 Summary Image](Images/Data%202019Summary%20with%20Data%20Wrangler.png)\n"
   ]
  },
  {
   "cell_type": "markdown",
   "metadata": {},
   "source": [
    "Insight from above\n",
    "\n",
    "- We have 87 Unique companies\n",
    "- Most columns are string data type excpt Founded column\n",
    "- We have missing values in Founded 29(33%), Headquarter 19(21%), Sector6(6%), Founders, Stage 46(52%)\n",
    "- City with most startup in 2019 data is Bnagalore (24%), Mumbai (13%) and Delhi (11%), the missing Values is 21%\n"
   ]
  },
  {
   "cell_type": "markdown",
   "metadata": {},
   "source": [
    "To speed up the data cleaning process, let uses d=function\n",
    "\n",
    "1. For Descriptive statistics of a variable\n",
    "2. For Data distribution of a variable (histogram)\n",
    "3. For Check for missing values in a variable\n"
   ]
  },
  {
   "cell_type": "code",
   "execution_count": 74,
   "metadata": {},
   "outputs": [],
   "source": [
    "# To find descriptive statistics of ou data\n",
    "def descriptive_statistics(variable):\n",
    "    return variable.describe()\n",
    "\n",
    "# To plot the data distribution of out data using a histogram\n",
    "def plot_data_distribution(variable):\n",
    "    plt.hist(variable)\n",
    "    plt.xlabel('Values')\n",
    "    plt.ylabel('Frequency')\n",
    "    plt.title('Histogram')\n",
    "    plt.show()\n",
    "\n",
    "# To check for missing values in a variable\n",
    "def check_missing_values(variable):\n",
    "    return variable.isnull().sum()\n",
    "\n",
    "# To detect outliers\n",
    "def detect_outliers(data, column):\n",
    "    Q1 = data[column].quantile(0.25)\n",
    "    Q3 = data[column].quantile(0.75)\n",
    "    IQR = Q3 - Q1\n",
    "    lower_bound = Q1 - 1.5 * IQR\n",
    "    upper_bound = Q3 + 1.5 * IQR\n",
    "    outliers = data[(data[column] < lower_bound) | (data[column] > upper_bound)]\n",
    "    return outliers\n",
    "# ploting missing values \n",
    "def plot_missing_values_heatmap(df):\n",
    "    # indicating missing values\n",
    "    missing_values = df.isnull()\n",
    "\n",
    "    colors = sns.color_palette(['#FF9933', '#FFFFFF', '#138808'])  # Saffron, White, Green(Indian color)\n",
    "    # Plotting \n",
    "    sns.heatmap(missing_values, cmap=colors)\n",
    "    plt.title('Missing Values Heatmap')\n",
    "    plt.xlabel('Columns')\n",
    "    plt.ylabel('Rows')\n",
    "    plt.show()"
   ]
  },
  {
   "cell_type": "code",
   "execution_count": 71,
   "metadata": {},
   "outputs": [
    {
     "data": {
      "text/plain": [
       "Company/Brand     0\n",
       "Founded          29\n",
       "HeadQuarter      19\n",
       "Sector            5\n",
       "What it does      0\n",
       "Founders          3\n",
       "Investor          0\n",
       "Amount($)         0\n",
       "Stage            46\n",
       "dtype: int64"
      ]
     },
     "execution_count": 71,
     "metadata": {},
     "output_type": "execute_result"
    }
   ],
   "source": [
    "check_missing_values(data_2019)"
   ]
  },
  {
   "cell_type": "markdown",
   "metadata": {},
   "source": [
    "Imaging 2018 missing values\n"
   ]
  },
  {
   "cell_type": "code",
   "execution_count": 75,
   "metadata": {},
   "outputs": [
    {
     "data": {
      "image/png": "[encoded data removed]",
      "text/plain": [
       "<Figure size 640x480 with 2 Axes>"
      ]
     },
     "metadata": {},
     "output_type": "display_data"
    }
   ],
   "source": [
    "plot_missing_values_heatmap(data_2019)"
   ]
  },
  {
   "cell_type": "markdown",
   "metadata": {},
   "source": [
    "The `Green` color is showing the missing value in dataset\n"
   ]
  },
  {
   "cell_type": "markdown",
   "metadata": {},
   "source": [
    "    Unique values in some column we will use in analysis\n"
   ]
  },
  {
   "cell_type": "markdown",
   "metadata": {},
   "source": [
    "Company column\n"
   ]
  },
  {
   "cell_type": "code",
   "execution_count": 80,
   "metadata": {},
   "outputs": [
    {
     "data": {
      "text/plain": [
       "['Bombay Shaving',\n",
       " 'Ruangguru',\n",
       " 'Eduisfun',\n",
       " 'HomeLane',\n",
       " 'Nu Genes',\n",
       " 'FlytBase',\n",
       " 'Finly',\n",
       " 'Kratikal',\n",
       " 'Quantiphi',\n",
       " 'Lenskart',\n",
       " 'Cub McPaws',\n",
       " 'Appnomic',\n",
       " 'Kaleidofin',\n",
       " 'JobSquare',\n",
       " 'Open Secret',\n",
       " 'LivFin',\n",
       " \"Byju's\",\n",
       " 'Zest Money',\n",
       " 'Witblox',\n",
       " 'Azah Personal Care Pvt. Ltd.',\n",
       " 'SalaryFits',\n",
       " 'Pristyn Care',\n",
       " 'Springboard',\n",
       " 'DROR Labs Pvt. Ltd',\n",
       " 'Medlife',\n",
       " 'Seekify',\n",
       " 'Toffee Insurance',\n",
       " 'Fireflies .ai',\n",
       " 'HungerBox',\n",
       " 'Bijak',\n",
       " 'Licious',\n",
       " 'truMe',\n",
       " 'Pumpkart',\n",
       " 'Asteria Aerospace',\n",
       " 'Rivigo',\n",
       " 'HappyEasyGo',\n",
       " 'Zetwerk',\n",
       " 'Observe.AI',\n",
       " 'Freshokartz',\n",
       " 'Lil’ Goodness and sCool meal',\n",
       " 'Trell',\n",
       " 'VMate',\n",
       " 'Bombay Shirt Company',\n",
       " 'Slintel',\n",
       " 'MyGameMate',\n",
       " 'Afinoz',\n",
       " 'Rein Games',\n",
       " 'Ecozen',\n",
       " 'Box8',\n",
       " 'Awign Enterprises',\n",
       " 'Purplle',\n",
       " 'Freightwalla',\n",
       " 'TapChief',\n",
       " 'eJOHRI',\n",
       " 'Ninjacart',\n",
       " 'Binca Games',\n",
       " 'KredX',\n",
       " 'm.Paani',\n",
       " 'Origo',\n",
       " 'WishADish',\n",
       " 'Ecom Express',\n",
       " 'Stanza Living',\n",
       " 'PiBeam',\n",
       " 'Euler Motors',\n",
       " 'Moms Co',\n",
       " 'Cubical Labs',\n",
       " 'Lawyered',\n",
       " 'Cuemath',\n",
       " 'Nivesh.com',\n",
       " 'Zebu',\n",
       " 'Smart Institute',\n",
       " 'CarDekho',\n",
       " 'Shadowfax',\n",
       " 'Credr',\n",
       " 'Sportido',\n",
       " 'Phable',\n",
       " 'Sarva',\n",
       " 'IndyFint',\n",
       " 'Zolostays',\n",
       " 'Ola',\n",
       " 'Zoomcar',\n",
       " 'Froogal',\n",
       " 'Infra.Market',\n",
       " 'Oyo',\n",
       " 'GoMechanic',\n",
       " 'Spinny',\n",
       " 'Ess Kay Fincorp']"
      ]
     },
     "execution_count": 80,
     "metadata": {},
     "output_type": "execute_result"
    }
   ],
   "source": [
    "data_2019[\"Company/Brand\"].unique().tolist()"
   ]
  },
  {
   "cell_type": "markdown",
   "metadata": {},
   "source": [
    "Headqurter Columns\n"
   ]
  },
  {
   "cell_type": "code",
   "execution_count": 84,
   "metadata": {},
   "outputs": [
    {
     "data": {
      "text/plain": [
       "[nan,\n",
       " 'Mumbai',\n",
       " 'Chennai',\n",
       " 'Telangana',\n",
       " 'Pune',\n",
       " 'Bangalore',\n",
       " 'Noida',\n",
       " 'Delhi',\n",
       " 'Ahmedabad',\n",
       " 'Gurugram',\n",
       " 'Haryana',\n",
       " 'Chandigarh',\n",
       " 'Jaipur',\n",
       " 'New Delhi',\n",
       " 'Surat',\n",
       " 'Uttar pradesh',\n",
       " 'Hyderabad',\n",
       " 'Rajasthan']"
      ]
     },
     "execution_count": 84,
     "metadata": {},
     "output_type": "execute_result"
    }
   ],
   "source": [
    "data_2019[\"HeadQuarter\"].unique().tolist()"
   ]
  },
  {
   "cell_type": "code",
   "execution_count": 87,
   "metadata": {},
   "outputs": [],
   "source": [
    "data_2019['HeadQuarter'] = data_2019['HeadQuarter'].fillna('Unknown')"
   ]
  },
  {
   "cell_type": "markdown",
   "metadata": {},
   "source": [
    "Sector Column\n"
   ]
  },
  {
   "cell_type": "code",
   "execution_count": 88,
   "metadata": {},
   "outputs": [
    {
     "data": {
      "text/plain": [
       "['Ecommerce',\n",
       " 'Edtech',\n",
       " 'Interior design',\n",
       " 'AgriTech',\n",
       " 'Technology',\n",
       " 'SaaS',\n",
       " 'AI & Tech',\n",
       " 'E-commerce',\n",
       " 'E-commerce & AR',\n",
       " 'Fintech',\n",
       " 'HR tech',\n",
       " 'Food tech',\n",
       " 'Health',\n",
       " 'Healthcare',\n",
       " 'Safety tech',\n",
       " 'Pharmaceutical',\n",
       " 'Insurance technology',\n",
       " 'AI',\n",
       " 'Foodtech',\n",
       " 'Food',\n",
       " 'IoT',\n",
       " 'E-marketplace',\n",
       " 'Robotics & AI',\n",
       " 'Logistics',\n",
       " 'Travel',\n",
       " 'Manufacturing',\n",
       " 'Food & Nutrition',\n",
       " 'Social Media',\n",
       " nan,\n",
       " 'E-Sports',\n",
       " 'Cosmetics',\n",
       " 'B2B',\n",
       " 'Jewellery',\n",
       " 'B2B Supply Chain',\n",
       " 'Games',\n",
       " 'Food & tech',\n",
       " 'Accomodation',\n",
       " 'Automotive tech',\n",
       " 'Legal tech',\n",
       " 'Mutual Funds',\n",
       " 'Cybersecurity',\n",
       " 'Automobile',\n",
       " 'Sports',\n",
       " 'Healthtech',\n",
       " 'Yoga & wellness',\n",
       " 'Virtual Banking',\n",
       " 'Transportation',\n",
       " 'Transport & Rentals',\n",
       " 'Marketing & Customer loyalty',\n",
       " 'Infratech',\n",
       " 'Hospitality',\n",
       " 'Automobile & Technology',\n",
       " 'Banking']"
      ]
     },
     "execution_count": 88,
     "metadata": {},
     "output_type": "execute_result"
    }
   ],
   "source": [
    "data_2019[\"Sector\"].unique().tolist()"
   ]
  },
  {
   "cell_type": "markdown",
   "metadata": {},
   "source": [
    "This unique values in this column indicate the diverse sectors of service among the start-ups. For better analysis, we will group similar sectors into broader categories.\n"
   ]
  },
  {
   "cell_type": "code",
   "execution_count": 89,
   "metadata": {},
   "outputs": [
    {
     "data": {
      "text/plain": [
       "['Ecommerce',\n",
       " 'Edtech',\n",
       " 'Interior Design',\n",
       " 'AgriTech',\n",
       " 'Technology',\n",
       " 'SaaS',\n",
       " 'Fintech',\n",
       " 'HR Tech',\n",
       " 'Food Tech',\n",
       " 'Health',\n",
       " 'Safety Tech',\n",
       " nan,\n",
       " 'Logistics',\n",
       " 'Travel',\n",
       " 'Manufacturing',\n",
       " 'Social Media',\n",
       " 'E-Sports',\n",
       " 'Cosmetics',\n",
       " 'B2B',\n",
       " 'Jewellery',\n",
       " 'Games',\n",
       " 'Automotive Tech',\n",
       " 'Legal Tech',\n",
       " 'Sports',\n",
       " 'Marketing & Customer Loyalty',\n",
       " 'Infratech',\n",
       " 'Hospitality']"
      ]
     },
     "execution_count": 89,
     "metadata": {},
     "output_type": "execute_result"
    }
   ],
   "source": [
    "# Group the sector based on similarity by By creating a dictionary\n",
    "# The keys in the dictionary are specific sector names as they appear in the dataset.\n",
    "# The values are the broder categories to which these specific sector names will be mapped to.\n",
    "sector_mapping = {\n",
    "    'Ecommerce': 'Ecommerce',\n",
    "    'Edtech': 'Edtech',\n",
    "    'Interior design': 'Interior Design',\n",
    "    'AgriTech': 'AgriTech',\n",
    "    'Technology': 'Technology',\n",
    "    'SaaS': 'SaaS',\n",
    "    'AI & Tech': 'Technology',\n",
    "    'E-commerce': 'Ecommerce',\n",
    "    'E-commerce & AR': 'Ecommerce',\n",
    "    'Fintech': 'Fintech',\n",
    "    'E-marketplace': 'Ecommerce',\n",
    "    'Robotics & AI': 'Technology',\n",
    "    'IoT': 'Technology',\n",
    "    'Cybersecurity': 'Technology',\n",
    "    'Virtual Banking': 'Fintech',\n",
    "    'Banking': 'Fintech',\n",
    "    'Mutual Funds': 'Fintech',\n",
    "    'Insurance technology': 'Fintech',\n",
    "    'HR tech': 'HR Tech',\n",
    "    'Food tech': 'Food Tech',\n",
    "    'Foodtech': 'Food Tech',\n",
    "    'Food': 'Food Tech',\n",
    "    'Food & Nutrition': 'Food Tech',\n",
    "    'Food & tech': 'Food Tech',\n",
    "    'Health': 'Health',\n",
    "    'Healthcare': 'Health',\n",
    "    'Healthtech': 'Health',\n",
    "    'Yoga & wellness': 'Health',\n",
    "    'Pharmaceutical': 'Health',\n",
    "    'Safety tech': 'Safety Tech',\n",
    "    'Logistics': 'Logistics',\n",
    "    'Travel': 'Travel',\n",
    "    'Transport & Rentals': 'Travel',\n",
    "    'Transportation': 'Travel',\n",
    "    'Accomodation': 'Travel',\n",
    "    'Manufacturing': 'Manufacturing',\n",
    "    'Social Media': 'Social Media',\n",
    "    'E-Sports': 'E-Sports',\n",
    "    'Cosmetics': 'Cosmetics',\n",
    "    'B2B': 'B2B',\n",
    "    'B2B Supply Chain': 'B2B',\n",
    "    'Jewellery': 'Jewellery',\n",
    "    'Games': 'Games',\n",
    "    'Automotive tech': 'Automotive Tech',\n",
    "    'Automobile': 'Automotive Tech',\n",
    "    'Automobile & Technology': 'Automotive Tech',\n",
    "    'Legal tech': 'Legal Tech',\n",
    "    'Sports': 'Sports',\n",
    "    'Marketing & Customer loyalty': 'Marketing & Customer Loyalty',\n",
    "    'Infratech': 'Infratech',\n",
    "    'Hospitality': 'Hospitality'\n",
    "}\n",
    "\n",
    "#  map to the 'Sector' column in the DataFrame\n",
    "data_2019['Sector'] = data_2019['Sector'].map(sector_mapping)\n",
    "\n",
    "# Display the updated unique values in the 'Sector' column\n",
    "data_2019['Sector'].unique().tolist()\n"
   ]
  },
  {
   "cell_type": "markdown",
   "metadata": {},
   "source": [
    "Handle Missing Values\n"
   ]
  },
  {
   "cell_type": "code",
   "execution_count": 90,
   "metadata": {},
   "outputs": [],
   "source": [
    "data_2019[\"Sector\"] = data_2019[\"Sector\"].fillna('Unknown')"
   ]
  },
  {
   "cell_type": "markdown",
   "metadata": {},
   "source": [
    "Investor Column\n"
   ]
  },
  {
   "cell_type": "code",
   "execution_count": null,
   "metadata": {},
   "outputs": [],
   "source": []
  },
  {
   "cell_type": "code",
   "execution_count": null,
   "metadata": {},
   "outputs": [],
   "source": []
  },
  {
   "cell_type": "code",
   "execution_count": null,
   "metadata": {},
   "outputs": [],
   "source": []
  },
  {
   "cell_type": "code",
   "execution_count": 101,
   "metadata": {},
   "outputs": [
    {
     "data": {
      "text/plain": [
       "3"
      ]
     },
     "execution_count": 101,
     "metadata": {},
     "output_type": "execute_result"
    }
   ],
   "source": [
    "# Check Dulpications for 2020 data\n",
    "data_2020.duplicated().sum()"
   ]
  },
  {
   "cell_type": "code",
   "execution_count": 102,
   "metadata": {},
   "outputs": [
    {
     "data": {
      "text/plain": [
       "19"
      ]
     },
     "execution_count": 102,
     "metadata": {},
     "output_type": "execute_result"
    }
   ],
   "source": [
    "# Check Dulpications for 2021 data\n",
    "data_2021.duplicated().sum()"
   ]
  },
  {
   "cell_type": "markdown",
   "metadata": {},
   "source": [
    "Checking Missing Values\n"
   ]
  },
  {
   "cell_type": "code",
   "execution_count": 103,
   "metadata": {},
   "outputs": [
    {
     "data": {
      "text/plain": [
       "Company Name     0\n",
       "Industry         0\n",
       "Round/Series     0\n",
       "Amount           0\n",
       "Location         0\n",
       "About Company    0\n",
       "dtype: int64"
      ]
     },
     "execution_count": 103,
     "metadata": {},
     "output_type": "execute_result"
    }
   ],
   "source": [
    "#check for missing data for 2018\n",
    "missing_values_2018 = data_2018.isnull().sum\n",
    "missing_values_2018()\n"
   ]
  },
  {
   "cell_type": "code",
   "execution_count": 104,
   "metadata": {},
   "outputs": [
    {
     "data": {
      "text/plain": [
       "Company/Brand     0\n",
       "Founded          29\n",
       "HeadQuarter      19\n",
       "Sector            5\n",
       "What it does      0\n",
       "Founders          3\n",
       "Investor          0\n",
       "Amount($)         0\n",
       "Stage            46\n",
       "dtype: int64"
      ]
     },
     "execution_count": 104,
     "metadata": {},
     "output_type": "execute_result"
    }
   ],
   "source": [
    "#check for missing data for 2019\n",
    "missing_values_2019 = data_2019.isnull().sum\n",
    "missing_values_2019()\n"
   ]
  },
  {
   "cell_type": "code",
   "execution_count": 105,
   "metadata": {},
   "outputs": [
    {
     "data": {
      "text/plain": [
       "Company_Brand       0\n",
       "Founded           213\n",
       "HeadQuarter        94\n",
       "Sector             13\n",
       "What_it_does        0\n",
       "Founders           12\n",
       "Investor           38\n",
       "Amount            254\n",
       "Stage             464\n",
       "column10         1053\n",
       "dtype: int64"
      ]
     },
     "execution_count": 105,
     "metadata": {},
     "output_type": "execute_result"
    }
   ],
   "source": [
    "#check for missing data for 2020\n",
    "missing_values_2020 = data_2020.isnull().sum\n",
    "missing_values_2020()"
   ]
  },
  {
   "cell_type": "code",
   "execution_count": 106,
   "metadata": {},
   "outputs": [
    {
     "data": {
      "text/plain": [
       "Company_Brand      0\n",
       "Founded            1\n",
       "HeadQuarter        1\n",
       "Sector             0\n",
       "What_it_does       0\n",
       "Founders           4\n",
       "Investor          62\n",
       "Amount             3\n",
       "Stage            428\n",
       "dtype: int64"
      ]
     },
     "execution_count": 106,
     "metadata": {},
     "output_type": "execute_result"
    }
   ],
   "source": [
    "#check for missing data for 2021\n",
    "missing_values_2021 = data_2021.isnull().sum\n",
    "missing_values_2021()"
   ]
  },
  {
   "cell_type": "markdown",
   "metadata": {},
   "source": [
    "Add Year column to all datasets\n"
   ]
  },
  {
   "cell_type": "code",
   "execution_count": 107,
   "metadata": {},
   "outputs": [],
   "source": [
    "# Adding a new \"Year\" column with the value of its value to all rows\n",
    "data_2018['Year'] = 2018\n",
    "data_2019['Year'] = 2019\n",
    "data_2020['Year'] = 2020\n",
    "data_2021['Year'] = 2021"
   ]
  },
  {
   "cell_type": "markdown",
   "metadata": {},
   "source": [
    "Rename columns in 2018 and 2019 datasets\n"
   ]
  },
  {
   "cell_type": "code",
   "execution_count": 108,
   "metadata": {},
   "outputs": [],
   "source": [
    "data_2018.rename(columns={'Company Name':'Company_Brand','Industry':'Sector','Round/Series':'Stage','Location':'HeadQuarter','About Company':'What it does'} ,inplace=True)\n",
    "data_2019.rename(columns={'Company/Brand':'Company_Brand','Amount($)':'Amount'},inplace=True)\n",
    "\n"
   ]
  },
  {
   "cell_type": "markdown",
   "metadata": {},
   "source": [
    "columns section for data analysis\n"
   ]
  },
  {
   "cell_type": "code",
   "execution_count": 109,
   "metadata": {},
   "outputs": [],
   "source": [
    "# Select the specified columns for analysis\n",
    "data_2018_selected = data_2018[['Company_Brand','HeadQuarter','Sector','Amount','Stage', 'Year']]\n",
    "data_2019_selected = data_2019[['Company_Brand','HeadQuarter','Sector','Amount','Stage','Year']]\n",
    "data_2020_selected = data_2020[['Company_Brand','HeadQuarter','Sector','Amount','Stage','Year']]\n",
    "data_2021_selected = data_2021[['Company_Brand','HeadQuarter','Sector','Amount','Stage','Year']]\n",
    "\n",
    "\n"
   ]
  },
  {
   "cell_type": "markdown",
   "metadata": {},
   "source": [
    "Combine all datasets into one dataframe combinedData\n"
   ]
  },
  {
   "cell_type": "code",
   "execution_count": 110,
   "metadata": {},
   "outputs": [],
   "source": [
    "# concatinate the tables\n",
    "combinedData= pd.concat([data_2018_selected,data_2019_selected,data_2020_selected,data_2021_selected],ignore_index=True)"
   ]
  },
  {
   "cell_type": "code",
   "execution_count": 111,
   "metadata": {},
   "outputs": [
    {
     "data": {
      "text/html": [
       "<div>\n",
       "<style scoped>\n",
       "    .dataframe tbody tr th:only-of-type {\n",
       "        vertical-align: middle;\n",
       "    }\n",
       "\n",
       "    .dataframe tbody tr th {\n",
       "        vertical-align: top;\n",
       "    }\n",
       "\n",
       "    .dataframe thead th {\n",
       "        text-align: right;\n",
       "    }\n",
       "</style>\n",
       "<table border=\"1\" class=\"dataframe\">\n",
       "  <thead>\n",
       "    <tr style=\"text-align: right;\">\n",
       "      <th></th>\n",
       "      <th>Company_Brand</th>\n",
       "      <th>HeadQuarter</th>\n",
       "      <th>Sector</th>\n",
       "      <th>Amount</th>\n",
       "      <th>Stage</th>\n",
       "      <th>Year</th>\n",
       "    </tr>\n",
       "  </thead>\n",
       "  <tbody>\n",
       "    <tr>\n",
       "      <th>2868</th>\n",
       "      <td>Proeon</td>\n",
       "      <td>Pune</td>\n",
       "      <td>Food Production</td>\n",
       "      <td>$2000000</td>\n",
       "      <td>Seed</td>\n",
       "      <td>2021</td>\n",
       "    </tr>\n",
       "    <tr>\n",
       "      <th>2869</th>\n",
       "      <td>InfyU Labs</td>\n",
       "      <td>Gandhinagar</td>\n",
       "      <td>AgriTech</td>\n",
       "      <td>$200000</td>\n",
       "      <td>Seed</td>\n",
       "      <td>2021</td>\n",
       "    </tr>\n",
       "    <tr>\n",
       "      <th>2870</th>\n",
       "      <td>TechEagle</td>\n",
       "      <td>Gurugram</td>\n",
       "      <td>Aviation &amp; Aerospace</td>\n",
       "      <td>$500000</td>\n",
       "      <td>Seed</td>\n",
       "      <td>2021</td>\n",
       "    </tr>\n",
       "    <tr>\n",
       "      <th>2871</th>\n",
       "      <td>Voxelgrids</td>\n",
       "      <td>Bangalore</td>\n",
       "      <td>Deeptech</td>\n",
       "      <td>$5000000</td>\n",
       "      <td>None</td>\n",
       "      <td>2021</td>\n",
       "    </tr>\n",
       "    <tr>\n",
       "      <th>2872</th>\n",
       "      <td>Cogos Technologies</td>\n",
       "      <td>Bangalore</td>\n",
       "      <td>Logistics &amp; Supply Chain</td>\n",
       "      <td>$2000000</td>\n",
       "      <td>Pre-series A</td>\n",
       "      <td>2021</td>\n",
       "    </tr>\n",
       "    <tr>\n",
       "      <th>2873</th>\n",
       "      <td>Gigforce</td>\n",
       "      <td>Gurugram</td>\n",
       "      <td>Staffing &amp; Recruiting</td>\n",
       "      <td>$3000000</td>\n",
       "      <td>Pre-series A</td>\n",
       "      <td>2021</td>\n",
       "    </tr>\n",
       "    <tr>\n",
       "      <th>2874</th>\n",
       "      <td>Vahdam</td>\n",
       "      <td>New Delhi</td>\n",
       "      <td>Food &amp; Beverages</td>\n",
       "      <td>$20000000</td>\n",
       "      <td>Series D</td>\n",
       "      <td>2021</td>\n",
       "    </tr>\n",
       "    <tr>\n",
       "      <th>2875</th>\n",
       "      <td>Leap Finance</td>\n",
       "      <td>Bangalore</td>\n",
       "      <td>Financial Services</td>\n",
       "      <td>$55000000</td>\n",
       "      <td>Series C</td>\n",
       "      <td>2021</td>\n",
       "    </tr>\n",
       "    <tr>\n",
       "      <th>2876</th>\n",
       "      <td>CollegeDekho</td>\n",
       "      <td>Gurugram</td>\n",
       "      <td>EdTech</td>\n",
       "      <td>$26000000</td>\n",
       "      <td>Series B</td>\n",
       "      <td>2021</td>\n",
       "    </tr>\n",
       "    <tr>\n",
       "      <th>2877</th>\n",
       "      <td>WeRize</td>\n",
       "      <td>Bangalore</td>\n",
       "      <td>Financial Services</td>\n",
       "      <td>$8000000</td>\n",
       "      <td>Series A</td>\n",
       "      <td>2021</td>\n",
       "    </tr>\n",
       "  </tbody>\n",
       "</table>\n",
       "</div>"
      ],
      "text/plain": [
       "           Company_Brand  HeadQuarter                    Sector     Amount  \\\n",
       "2868              Proeon         Pune           Food Production   $2000000   \n",
       "2869          InfyU Labs  Gandhinagar                  AgriTech    $200000   \n",
       "2870           TechEagle     Gurugram      Aviation & Aerospace    $500000   \n",
       "2871          Voxelgrids    Bangalore                  Deeptech   $5000000   \n",
       "2872  Cogos Technologies    Bangalore  Logistics & Supply Chain   $2000000   \n",
       "2873            Gigforce     Gurugram     Staffing & Recruiting   $3000000   \n",
       "2874              Vahdam    New Delhi          Food & Beverages  $20000000   \n",
       "2875        Leap Finance    Bangalore        Financial Services  $55000000   \n",
       "2876        CollegeDekho     Gurugram                    EdTech  $26000000   \n",
       "2877              WeRize    Bangalore        Financial Services   $8000000   \n",
       "\n",
       "             Stage  Year  \n",
       "2868          Seed  2021  \n",
       "2869          Seed  2021  \n",
       "2870          Seed  2021  \n",
       "2871          None  2021  \n",
       "2872  Pre-series A  2021  \n",
       "2873  Pre-series A  2021  \n",
       "2874      Series D  2021  \n",
       "2875      Series C  2021  \n",
       "2876      Series B  2021  \n",
       "2877      Series A  2021  "
      ]
     },
     "execution_count": 111,
     "metadata": {},
     "output_type": "execute_result"
    }
   ],
   "source": [
    "combinedData.tail(10)"
   ]
  },
  {
   "cell_type": "markdown",
   "metadata": {},
   "source": [
    "Check Amount Columns\n"
   ]
  },
  {
   "cell_type": "code",
   "execution_count": 112,
   "metadata": {},
   "outputs": [
    {
     "data": {
      "text/plain": [
       "array(['TheCollegeFever is a hub for fun, fiesta and frolic of Colleges.',\n",
       "       'A startup which aggregates milk from dairy farmers in rural Maharashtra.',\n",
       "       'Leading Online Loans Marketplace in India', ..., '$6300000',\n",
       "       '$23000000', '$55000000'], dtype=object)"
      ]
     },
     "execution_count": 112,
     "metadata": {},
     "output_type": "execute_result"
    }
   ],
   "source": [
    "combinedData['Amount'].unique()"
   ]
  },
  {
   "cell_type": "code",
   "execution_count": 113,
   "metadata": {},
   "outputs": [],
   "source": [
    "# Replace  non-numerical values in the 'amount' column with 0\n",
    "combinedData['Amount'].replace(['—','Undisclosed','None', '$Undisclosed', '$','Upsparks', 'JITO Angel Network, LetsVenture','Series C', 'Seed', '$undisclosed', 'ah! Ventures', 'Pre-series A', 'ITO Angel Network, LetsVenture'], 0, inplace=True)"
   ]
  },
  {
   "cell_type": "code",
   "execution_count": 114,
   "metadata": {},
   "outputs": [
    {
     "data": {
      "text/plain": [
       "array(['TheCollegeFever is a hub for fun, fiesta and frolic of Colleges.',\n",
       "       'A startup which aggregates milk from dairy farmers in rural Maharashtra.',\n",
       "       'Leading Online Loans Marketplace in India', ..., '$6300000',\n",
       "       '$23000000', '$55000000'], dtype=object)"
      ]
     },
     "execution_count": 114,
     "metadata": {},
     "output_type": "execute_result"
    }
   ],
   "source": [
    "combinedData['Amount'].unique()"
   ]
  },
  {
   "cell_type": "markdown",
   "metadata": {},
   "source": [
    "To check for the null Values in the Concataned table\n"
   ]
  },
  {
   "cell_type": "code",
   "execution_count": 115,
   "metadata": {},
   "outputs": [
    {
     "data": {
      "text/plain": [
       "Company_Brand      0\n",
       "HeadQuarter      114\n",
       "Sector            18\n",
       "Amount           257\n",
       "Stage            938\n",
       "Year               0\n",
       "dtype: int64"
      ]
     },
     "execution_count": 115,
     "metadata": {},
     "output_type": "execute_result"
    }
   ],
   "source": [
    "combinedData.isna().sum()"
   ]
  },
  {
   "cell_type": "markdown",
   "metadata": {},
   "source": [
    "handling the missing Values\n"
   ]
  },
  {
   "cell_type": "code",
   "execution_count": 116,
   "metadata": {},
   "outputs": [],
   "source": [
    "combinedData.fillna(value={'HeadQuarter':'Unknown','Sector':'Unknown','Amount':0,'Stage':'Unknown'},inplace=True)\n"
   ]
  },
  {
   "cell_type": "code",
   "execution_count": 117,
   "metadata": {},
   "outputs": [
    {
     "data": {
      "text/plain": [
       "Company_Brand    0\n",
       "HeadQuarter      0\n",
       "Sector           0\n",
       "Amount           0\n",
       "Stage            0\n",
       "Year             0\n",
       "dtype: int64"
      ]
     },
     "execution_count": 117,
     "metadata": {},
     "output_type": "execute_result"
    }
   ],
   "source": [
    "combinedData.isna().sum()"
   ]
  },
  {
   "cell_type": "markdown",
   "metadata": {},
   "source": [
    "To convert the Amount Column to one currency\n"
   ]
  },
  {
   "cell_type": "code",
   "execution_count": 118,
   "metadata": {},
   "outputs": [
    {
     "data": {
      "text/html": [
       "<div>\n",
       "<style scoped>\n",
       "    .dataframe tbody tr th:only-of-type {\n",
       "        vertical-align: middle;\n",
       "    }\n",
       "\n",
       "    .dataframe tbody tr th {\n",
       "        vertical-align: top;\n",
       "    }\n",
       "\n",
       "    .dataframe thead th {\n",
       "        text-align: right;\n",
       "    }\n",
       "</style>\n",
       "<table border=\"1\" class=\"dataframe\">\n",
       "  <thead>\n",
       "    <tr style=\"text-align: right;\">\n",
       "      <th></th>\n",
       "      <th>Company_Brand</th>\n",
       "      <th>HeadQuarter</th>\n",
       "      <th>Sector</th>\n",
       "      <th>Amount</th>\n",
       "      <th>Stage</th>\n",
       "      <th>Year</th>\n",
       "    </tr>\n",
       "  </thead>\n",
       "  <tbody>\n",
       "    <tr>\n",
       "      <th>2772</th>\n",
       "      <td>The Money Club</td>\n",
       "      <td>Noida</td>\n",
       "      <td>Financial Services</td>\n",
       "      <td>$1700000</td>\n",
       "      <td>Pre-series A</td>\n",
       "      <td>2021</td>\n",
       "    </tr>\n",
       "    <tr>\n",
       "      <th>1604</th>\n",
       "      <td>Skylo</td>\n",
       "      <td>Unknown</td>\n",
       "      <td>IoT</td>\n",
       "      <td>103000000.0</td>\n",
       "      <td>Series B</td>\n",
       "      <td>2020</td>\n",
       "    </tr>\n",
       "    <tr>\n",
       "      <th>103</th>\n",
       "      <td>Nutrisattva (Proliva)</td>\n",
       "      <td>Anand</td>\n",
       "      <td>Fitness, Food and Beverage, Health Care, Nutri...</td>\n",
       "      <td>Nutrisattva is a protein innovation compan</td>\n",
       "      <td>Angel</td>\n",
       "      <td>2018</td>\n",
       "    </tr>\n",
       "    <tr>\n",
       "      <th>950</th>\n",
       "      <td>JetSynthesys</td>\n",
       "      <td>Mumbai</td>\n",
       "      <td>Tech</td>\n",
       "      <td>40000000.0</td>\n",
       "      <td>Unknown</td>\n",
       "      <td>2020</td>\n",
       "    </tr>\n",
       "    <tr>\n",
       "      <th>431</th>\n",
       "      <td>Taru Naturals</td>\n",
       "      <td>Mumbai</td>\n",
       "      <td>Agriculture, Farming</td>\n",
       "      <td>Taru Naturals is a network that connects farme...</td>\n",
       "      <td>Seed</td>\n",
       "      <td>2018</td>\n",
       "    </tr>\n",
       "    <tr>\n",
       "      <th>2737</th>\n",
       "      <td>Exotel</td>\n",
       "      <td>Bangalore</td>\n",
       "      <td>Telecommunications</td>\n",
       "      <td>$35000000</td>\n",
       "      <td>Series C</td>\n",
       "      <td>2021</td>\n",
       "    </tr>\n",
       "    <tr>\n",
       "      <th>1362</th>\n",
       "      <td>Convosight</td>\n",
       "      <td>Hyderabad</td>\n",
       "      <td>Data Analytics</td>\n",
       "      <td>4000000.0</td>\n",
       "      <td>Pre series A</td>\n",
       "      <td>2020</td>\n",
       "    </tr>\n",
       "    <tr>\n",
       "      <th>115</th>\n",
       "      <td>Satin Creditcare Network Limited (SCNL)</td>\n",
       "      <td>New Delhi</td>\n",
       "      <td>Banking, Finance, Financial Services, Non Profit</td>\n",
       "      <td>Satin is a non-banking finance company providi...</td>\n",
       "      <td>Post-IPO Debt</td>\n",
       "      <td>2018</td>\n",
       "    </tr>\n",
       "    <tr>\n",
       "      <th>264</th>\n",
       "      <td>Fixpocket</td>\n",
       "      <td>Ahmedabad</td>\n",
       "      <td>Computer, Digital Marketing, Facilities Suppor...</td>\n",
       "      <td>Fixpocket is a internet-based startup.</td>\n",
       "      <td>Seed</td>\n",
       "      <td>2018</td>\n",
       "    </tr>\n",
       "    <tr>\n",
       "      <th>696</th>\n",
       "      <td>Clovia</td>\n",
       "      <td>Noida</td>\n",
       "      <td>E-commerce</td>\n",
       "      <td>4000000.0</td>\n",
       "      <td>Pre-series C</td>\n",
       "      <td>2020</td>\n",
       "    </tr>\n",
       "  </tbody>\n",
       "</table>\n",
       "</div>"
      ],
      "text/plain": [
       "                                Company_Brand HeadQuarter  \\\n",
       "2772                           The Money Club       Noida   \n",
       "1604                                    Skylo     Unknown   \n",
       "103                     Nutrisattva (Proliva)       Anand   \n",
       "950                              JetSynthesys      Mumbai   \n",
       "431                             Taru Naturals      Mumbai   \n",
       "2737                                   Exotel   Bangalore   \n",
       "1362                               Convosight   Hyderabad   \n",
       "115   Satin Creditcare Network Limited (SCNL)   New Delhi   \n",
       "264                                 Fixpocket   Ahmedabad   \n",
       "696                                    Clovia       Noida   \n",
       "\n",
       "                                                 Sector  \\\n",
       "2772                                 Financial Services   \n",
       "1604                                                IoT   \n",
       "103   Fitness, Food and Beverage, Health Care, Nutri...   \n",
       "950                                                Tech   \n",
       "431                                Agriculture, Farming   \n",
       "2737                                 Telecommunications   \n",
       "1362                                     Data Analytics   \n",
       "115    Banking, Finance, Financial Services, Non Profit   \n",
       "264   Computer, Digital Marketing, Facilities Suppor...   \n",
       "696                                          E-commerce   \n",
       "\n",
       "                                                 Amount          Stage  Year  \n",
       "2772                                           $1700000   Pre-series A  2021  \n",
       "1604                                        103000000.0       Series B  2020  \n",
       "103          Nutrisattva is a protein innovation compan          Angel  2018  \n",
       "950                                          40000000.0        Unknown  2020  \n",
       "431   Taru Naturals is a network that connects farme...           Seed  2018  \n",
       "2737                                          $35000000       Series C  2021  \n",
       "1362                                          4000000.0   Pre series A  2020  \n",
       "115   Satin is a non-banking finance company providi...  Post-IPO Debt  2018  \n",
       "264              Fixpocket is a internet-based startup.           Seed  2018  \n",
       "696                                           4000000.0   Pre-series C  2020  "
      ]
     },
     "execution_count": 118,
     "metadata": {},
     "output_type": "execute_result"
    }
   ],
   "source": [
    "# Peak a sample data tp overview\n",
    "combinedData.sample(10)"
   ]
  },
  {
   "cell_type": "code",
   "execution_count": null,
   "metadata": {},
   "outputs": [],
   "source": []
  },
  {
   "cell_type": "code",
   "execution_count": 119,
   "metadata": {},
   "outputs": [
    {
     "data": {
      "text/html": [
       "<div>\n",
       "<style scoped>\n",
       "    .dataframe tbody tr th:only-of-type {\n",
       "        vertical-align: middle;\n",
       "    }\n",
       "\n",
       "    .dataframe tbody tr th {\n",
       "        vertical-align: top;\n",
       "    }\n",
       "\n",
       "    .dataframe thead th {\n",
       "        text-align: right;\n",
       "    }\n",
       "</style>\n",
       "<table border=\"1\" class=\"dataframe\">\n",
       "  <thead>\n",
       "    <tr style=\"text-align: right;\">\n",
       "      <th></th>\n",
       "      <th>Company_Brand</th>\n",
       "      <th>HeadQuarter</th>\n",
       "      <th>Sector</th>\n",
       "      <th>Amount</th>\n",
       "      <th>Stage</th>\n",
       "      <th>Year</th>\n",
       "    </tr>\n",
       "  </thead>\n",
       "  <tbody>\n",
       "    <tr>\n",
       "      <th>1522</th>\n",
       "      <td>PlanetSpark</td>\n",
       "      <td>Gurugram</td>\n",
       "      <td>Edtech</td>\n",
       "      <td>448500.0</td>\n",
       "      <td>Unknown</td>\n",
       "      <td>2020</td>\n",
       "    </tr>\n",
       "    <tr>\n",
       "      <th>540</th>\n",
       "      <td>LivFin</td>\n",
       "      <td>Delhi</td>\n",
       "      <td>Fintech</td>\n",
       "      <td>$5,000,000</td>\n",
       "      <td>Unknown</td>\n",
       "      <td>2019</td>\n",
       "    </tr>\n",
       "    <tr>\n",
       "      <th>1835</th>\n",
       "      <td>VerSe Innovation</td>\n",
       "      <td>Bangalore</td>\n",
       "      <td>Media</td>\n",
       "      <td>$450000000</td>\n",
       "      <td>Unknown</td>\n",
       "      <td>2021</td>\n",
       "    </tr>\n",
       "    <tr>\n",
       "      <th>1061</th>\n",
       "      <td>BluSmart</td>\n",
       "      <td>Gurugram</td>\n",
       "      <td>Electricity</td>\n",
       "      <td>7000000.0</td>\n",
       "      <td>Pre-series A</td>\n",
       "      <td>2020</td>\n",
       "    </tr>\n",
       "    <tr>\n",
       "      <th>1719</th>\n",
       "      <td>Do Your Thng</td>\n",
       "      <td>Gurugram</td>\n",
       "      <td>Marketing</td>\n",
       "      <td>$1,500,000</td>\n",
       "      <td>Unknown</td>\n",
       "      <td>2021</td>\n",
       "    </tr>\n",
       "    <tr>\n",
       "      <th>1104</th>\n",
       "      <td>The Health company</td>\n",
       "      <td>Gurugram</td>\n",
       "      <td>AI health</td>\n",
       "      <td>350000.0</td>\n",
       "      <td>Unknown</td>\n",
       "      <td>2020</td>\n",
       "    </tr>\n",
       "    <tr>\n",
       "      <th>2345</th>\n",
       "      <td>MicroDegree</td>\n",
       "      <td>Mangalore</td>\n",
       "      <td>EdTech</td>\n",
       "      <td>0</td>\n",
       "      <td>Unknown</td>\n",
       "      <td>2021</td>\n",
       "    </tr>\n",
       "    <tr>\n",
       "      <th>14</th>\n",
       "      <td>Wide Mobility Mechatronics</td>\n",
       "      <td>Bangalore</td>\n",
       "      <td>Industrial Automation</td>\n",
       "      <td>Wide Mobility Mechatronics is a Private Compan...</td>\n",
       "      <td>Seed</td>\n",
       "      <td>2018</td>\n",
       "    </tr>\n",
       "    <tr>\n",
       "      <th>2012</th>\n",
       "      <td>Pepperfry</td>\n",
       "      <td>Mumbai</td>\n",
       "      <td>E-commerce</td>\n",
       "      <td>$30,000,000</td>\n",
       "      <td>Debt</td>\n",
       "      <td>2021</td>\n",
       "    </tr>\n",
       "    <tr>\n",
       "      <th>2808</th>\n",
       "      <td>Gobbly</td>\n",
       "      <td>Gurugram</td>\n",
       "      <td>Retail</td>\n",
       "      <td>$900000</td>\n",
       "      <td>Pre-series A</td>\n",
       "      <td>2021</td>\n",
       "    </tr>\n",
       "    <tr>\n",
       "      <th>1176</th>\n",
       "      <td>Finn</td>\n",
       "      <td>Bangalore</td>\n",
       "      <td>Fintech</td>\n",
       "      <td>0</td>\n",
       "      <td>Pre series A</td>\n",
       "      <td>2020</td>\n",
       "    </tr>\n",
       "    <tr>\n",
       "      <th>180</th>\n",
       "      <td>Agricxlab Private Limited</td>\n",
       "      <td>Thane</td>\n",
       "      <td>B2B, Farming, Marketplace</td>\n",
       "      <td>Online marketplace where farmers and traders c...</td>\n",
       "      <td>Seed</td>\n",
       "      <td>2018</td>\n",
       "    </tr>\n",
       "    <tr>\n",
       "      <th>1261</th>\n",
       "      <td>Jiffy ai</td>\n",
       "      <td>Unknown</td>\n",
       "      <td>AI</td>\n",
       "      <td>18000000.0</td>\n",
       "      <td>Series A</td>\n",
       "      <td>2020</td>\n",
       "    </tr>\n",
       "    <tr>\n",
       "      <th>1281</th>\n",
       "      <td>LetsTransport</td>\n",
       "      <td>Bangalore</td>\n",
       "      <td>Logitech</td>\n",
       "      <td>1326000.0</td>\n",
       "      <td>Unknown</td>\n",
       "      <td>2020</td>\n",
       "    </tr>\n",
       "    <tr>\n",
       "      <th>709</th>\n",
       "      <td>Pravasirojgar</td>\n",
       "      <td>Unknown</td>\n",
       "      <td>Job portal</td>\n",
       "      <td>33000000.0</td>\n",
       "      <td>Unknown</td>\n",
       "      <td>2020</td>\n",
       "    </tr>\n",
       "    <tr>\n",
       "      <th>412</th>\n",
       "      <td>Medikabazaar</td>\n",
       "      <td>Mumbai</td>\n",
       "      <td>B2B, Medical Device</td>\n",
       "      <td>India's largest medical and surgical supplies ...</td>\n",
       "      <td>Series A</td>\n",
       "      <td>2018</td>\n",
       "    </tr>\n",
       "    <tr>\n",
       "      <th>2530</th>\n",
       "      <td>Rapido</td>\n",
       "      <td>Bangalore</td>\n",
       "      <td>Transportation</td>\n",
       "      <td>$43,000,000</td>\n",
       "      <td>Series C</td>\n",
       "      <td>2021</td>\n",
       "    </tr>\n",
       "    <tr>\n",
       "      <th>1583</th>\n",
       "      <td>Interviewbit</td>\n",
       "      <td>Pune</td>\n",
       "      <td>Edtech</td>\n",
       "      <td>200000000.0</td>\n",
       "      <td>Series A</td>\n",
       "      <td>2020</td>\n",
       "    </tr>\n",
       "    <tr>\n",
       "      <th>1573</th>\n",
       "      <td>AdonMo</td>\n",
       "      <td>Bangalore</td>\n",
       "      <td>Ad-tech</td>\n",
       "      <td>3000000.0</td>\n",
       "      <td>Unknown</td>\n",
       "      <td>2020</td>\n",
       "    </tr>\n",
       "    <tr>\n",
       "      <th>204</th>\n",
       "      <td>Scapic</td>\n",
       "      <td>Bangalore</td>\n",
       "      <td>Cloud Computing, Computer, SaaS, Software</td>\n",
       "      <td>Virtual/Augmented Reality Start Up .</td>\n",
       "      <td>Seed</td>\n",
       "      <td>2018</td>\n",
       "    </tr>\n",
       "  </tbody>\n",
       "</table>\n",
       "</div>"
      ],
      "text/plain": [
       "                   Company_Brand HeadQuarter  \\\n",
       "1522                 PlanetSpark    Gurugram   \n",
       "540                       LivFin       Delhi   \n",
       "1835            VerSe Innovation   Bangalore   \n",
       "1061                    BluSmart    Gurugram   \n",
       "1719                Do Your Thng    Gurugram   \n",
       "1104          The Health company    Gurugram   \n",
       "2345                 MicroDegree   Mangalore   \n",
       "14    Wide Mobility Mechatronics   Bangalore   \n",
       "2012                   Pepperfry      Mumbai   \n",
       "2808                      Gobbly    Gurugram   \n",
       "1176                        Finn   Bangalore   \n",
       "180    Agricxlab Private Limited       Thane   \n",
       "1261                    Jiffy ai     Unknown   \n",
       "1281               LetsTransport   Bangalore   \n",
       "709                Pravasirojgar     Unknown   \n",
       "412                 Medikabazaar      Mumbai   \n",
       "2530                      Rapido   Bangalore   \n",
       "1583                Interviewbit        Pune   \n",
       "1573                      AdonMo   Bangalore   \n",
       "204                       Scapic   Bangalore   \n",
       "\n",
       "                                         Sector  \\\n",
       "1522                                     Edtech   \n",
       "540                                     Fintech   \n",
       "1835                                      Media   \n",
       "1061                                Electricity   \n",
       "1719                                  Marketing   \n",
       "1104                                  AI health   \n",
       "2345                                     EdTech   \n",
       "14                        Industrial Automation   \n",
       "2012                                 E-commerce   \n",
       "2808                                     Retail   \n",
       "1176                                    Fintech   \n",
       "180                   B2B, Farming, Marketplace   \n",
       "1261                                         AI   \n",
       "1281                                   Logitech   \n",
       "709                                  Job portal   \n",
       "412                         B2B, Medical Device   \n",
       "2530                             Transportation   \n",
       "1583                                     Edtech   \n",
       "1573                                    Ad-tech   \n",
       "204   Cloud Computing, Computer, SaaS, Software   \n",
       "\n",
       "                                                 Amount         Stage  Year  \n",
       "1522                                           448500.0       Unknown  2020  \n",
       "540                                          $5,000,000       Unknown  2019  \n",
       "1835                                         $450000000       Unknown  2021  \n",
       "1061                                          7000000.0  Pre-series A  2020  \n",
       "1719                                         $1,500,000       Unknown  2021  \n",
       "1104                                           350000.0       Unknown  2020  \n",
       "2345                                                  0       Unknown  2021  \n",
       "14    Wide Mobility Mechatronics is a Private Compan...          Seed  2018  \n",
       "2012                                        $30,000,000          Debt  2021  \n",
       "2808                                            $900000  Pre-series A  2021  \n",
       "1176                                                  0  Pre series A  2020  \n",
       "180   Online marketplace where farmers and traders c...          Seed  2018  \n",
       "1261                                         18000000.0      Series A  2020  \n",
       "1281                                          1326000.0       Unknown  2020  \n",
       "709                                          33000000.0       Unknown  2020  \n",
       "412   India's largest medical and surgical supplies ...      Series A  2018  \n",
       "2530                                        $43,000,000      Series C  2021  \n",
       "1583                                        200000000.0      Series A  2020  \n",
       "1573                                          3000000.0       Unknown  2020  \n",
       "204                Virtual/Augmented Reality Start Up .          Seed  2018  "
      ]
     },
     "execution_count": 119,
     "metadata": {},
     "output_type": "execute_result"
    }
   ],
   "source": [
    "combinedData.sample(20)"
   ]
  },
  {
   "cell_type": "markdown",
   "metadata": {},
   "source": [
    "To Rename the Amount Column to show currency\n"
   ]
  },
  {
   "cell_type": "code",
   "execution_count": 120,
   "metadata": {},
   "outputs": [
    {
     "data": {
      "text/html": [
       "<div>\n",
       "<style scoped>\n",
       "    .dataframe tbody tr th:only-of-type {\n",
       "        vertical-align: middle;\n",
       "    }\n",
       "\n",
       "    .dataframe tbody tr th {\n",
       "        vertical-align: top;\n",
       "    }\n",
       "\n",
       "    .dataframe thead th {\n",
       "        text-align: right;\n",
       "    }\n",
       "</style>\n",
       "<table border=\"1\" class=\"dataframe\">\n",
       "  <thead>\n",
       "    <tr style=\"text-align: right;\">\n",
       "      <th></th>\n",
       "      <th>Company_Brand</th>\n",
       "      <th>HeadQuarter</th>\n",
       "      <th>Sector</th>\n",
       "      <th>Amount($)</th>\n",
       "      <th>Stage</th>\n",
       "      <th>Year</th>\n",
       "    </tr>\n",
       "  </thead>\n",
       "  <tbody>\n",
       "    <tr>\n",
       "      <th>0</th>\n",
       "      <td>TheCollegeFever</td>\n",
       "      <td>Bangalore</td>\n",
       "      <td>Brand Marketing, Event Promotion, Marketing, S...</td>\n",
       "      <td>TheCollegeFever is a hub for fun, fiesta and f...</td>\n",
       "      <td>Seed</td>\n",
       "      <td>2018</td>\n",
       "    </tr>\n",
       "    <tr>\n",
       "      <th>1</th>\n",
       "      <td>Happy Cow Dairy</td>\n",
       "      <td>Mumbai</td>\n",
       "      <td>Agriculture, Farming</td>\n",
       "      <td>A startup which aggregates milk from dairy far...</td>\n",
       "      <td>Seed</td>\n",
       "      <td>2018</td>\n",
       "    </tr>\n",
       "    <tr>\n",
       "      <th>2</th>\n",
       "      <td>MyLoanCare</td>\n",
       "      <td>Gurgaon</td>\n",
       "      <td>Credit, Financial Services, Lending, Marketplace</td>\n",
       "      <td>Leading Online Loans Marketplace in India</td>\n",
       "      <td>Series A</td>\n",
       "      <td>2018</td>\n",
       "    </tr>\n",
       "    <tr>\n",
       "      <th>3</th>\n",
       "      <td>PayMe India</td>\n",
       "      <td>Noida</td>\n",
       "      <td>Financial Services, FinTech</td>\n",
       "      <td>PayMe India is an innovative FinTech organizat...</td>\n",
       "      <td>Angel</td>\n",
       "      <td>2018</td>\n",
       "    </tr>\n",
       "    <tr>\n",
       "      <th>4</th>\n",
       "      <td>Eunimart</td>\n",
       "      <td>Hyderabad</td>\n",
       "      <td>E-Commerce Platforms, Retail, SaaS</td>\n",
       "      <td>Eunimart is a one stop solution for merchants ...</td>\n",
       "      <td>Seed</td>\n",
       "      <td>2018</td>\n",
       "    </tr>\n",
       "  </tbody>\n",
       "</table>\n",
       "</div>"
      ],
      "text/plain": [
       "     Company_Brand HeadQuarter  \\\n",
       "0  TheCollegeFever   Bangalore   \n",
       "1  Happy Cow Dairy      Mumbai   \n",
       "2       MyLoanCare     Gurgaon   \n",
       "3      PayMe India       Noida   \n",
       "4         Eunimart   Hyderabad   \n",
       "\n",
       "                                              Sector  \\\n",
       "0  Brand Marketing, Event Promotion, Marketing, S...   \n",
       "1                               Agriculture, Farming   \n",
       "2   Credit, Financial Services, Lending, Marketplace   \n",
       "3                        Financial Services, FinTech   \n",
       "4                 E-Commerce Platforms, Retail, SaaS   \n",
       "\n",
       "                                           Amount($)     Stage  Year  \n",
       "0  TheCollegeFever is a hub for fun, fiesta and f...      Seed  2018  \n",
       "1  A startup which aggregates milk from dairy far...      Seed  2018  \n",
       "2          Leading Online Loans Marketplace in India  Series A  2018  \n",
       "3  PayMe India is an innovative FinTech organizat...     Angel  2018  \n",
       "4  Eunimart is a one stop solution for merchants ...      Seed  2018  "
      ]
     },
     "execution_count": 120,
     "metadata": {},
     "output_type": "execute_result"
    }
   ],
   "source": [
    "combinedData.rename(columns={'Amount':'Amount($)'}, inplace=True)\n",
    "combinedData.head()"
   ]
  },
  {
   "cell_type": "markdown",
   "metadata": {},
   "source": [
    "handle nan values by imputing by 0\n"
   ]
  },
  {
   "cell_type": "code",
   "execution_count": 121,
   "metadata": {},
   "outputs": [
    {
     "data": {
      "text/plain": [
       "Company_Brand    0\n",
       "HeadQuarter      0\n",
       "Sector           0\n",
       "Amount($)        0\n",
       "Stage            0\n",
       "Year             0\n",
       "dtype: int64"
      ]
     },
     "execution_count": 121,
     "metadata": {},
     "output_type": "execute_result"
    }
   ],
   "source": [
    "combinedData.isna().sum()"
   ]
  },
  {
   "cell_type": "code",
   "execution_count": 122,
   "metadata": {},
   "outputs": [],
   "source": [
    "# Handle missing values\n",
    "combinedData.fillna(0, inplace=True)"
   ]
  },
  {
   "cell_type": "code",
   "execution_count": 123,
   "metadata": {},
   "outputs": [
    {
     "data": {
      "text/plain": [
       "Company_Brand    0\n",
       "HeadQuarter      0\n",
       "Sector           0\n",
       "Amount($)        0\n",
       "Stage            0\n",
       "Year             0\n",
       "dtype: int64"
      ]
     },
     "execution_count": 123,
     "metadata": {},
     "output_type": "execute_result"
    }
   ],
   "source": [
    "combinedData.isna().sum()"
   ]
  },
  {
   "cell_type": "markdown",
   "metadata": {},
   "source": [
    "Categorize the stage\n"
   ]
  },
  {
   "cell_type": "code",
   "execution_count": 124,
   "metadata": {},
   "outputs": [
    {
     "data": {
      "text/plain": [
       "array(['Seed', 'Series A', 'Angel', 'Series B', 'Pre-Seed',\n",
       "       'Private Equity', 'Venture - Series Unknown', 'Grant',\n",
       "       'Debt Financing', 'Post-IPO Debt', 'Series H', 'Series C',\n",
       "       'Series E', 'Corporate Round', 'Undisclosed',\n",
       "       'https://docs.google.com/spreadsheets/d/1x9ziNeaz6auNChIHnMI8U6kS7knTr3byy_YBGfQaoUA/edit#gid=1861303593',\n",
       "       'Series D', 'Secondary Market', 'Post-IPO Equity',\n",
       "       'Non-equity Assistance', 'Funding Round', 'Unknown',\n",
       "       'Fresh funding', 'Pre series A', 'Series G', 'Post series A',\n",
       "       'Seed funding', 'Seed fund', 'Series F', 'Series B+', 'Seed round',\n",
       "       'Pre-series A', 'Pre-seed', 'Pre-series', 'Debt', 'Pre-series C',\n",
       "       'Pre-series B', 'Bridge', 'Series B2', 'Pre- series A', 'Edge',\n",
       "       'Pre-Series B', 'Seed A', 'Series A-1', 'Seed Funding',\n",
       "       'Pre-seed Round', 'Seed Round & Series A', 'Pre Series A',\n",
       "       'Pre seed Round', 'Angel Round', 'Pre series A1', 'Series E2',\n",
       "       'Seed Round', 'Bridge Round', 'Pre seed round', 'Pre series B',\n",
       "       'Pre series C', 'Seed Investment', 'Series D1', 'Mid series',\n",
       "       'Series C, D', '$1200000', 'Seed+', 'Series F2', 'Series A+',\n",
       "       'Series B3', 'PE', 'Series F1', 'Pre-series A1', '$300000',\n",
       "       'Early seed', '$6000000', '$1000000', 'Seies A', 'Series A2',\n",
       "       'Series I'], dtype=object)"
      ]
     },
     "execution_count": 124,
     "metadata": {},
     "output_type": "execute_result"
    }
   ],
   "source": [
    "combinedData['Stage'].unique()"
   ]
  },
  {
   "cell_type": "code",
   "execution_count": 125,
   "metadata": {},
   "outputs": [],
   "source": [
    "# To handle the speacial strings\n",
    "combinedData['Stage'] = combinedData['Stage'].replace({'https://docs.google.com/spreadsheets/d/1x9ziNeaz6auNChIHnMI8U6kS7knTr3byy_YBGfQaoUA/edit#gid=1861303593':'Unknown'})\n",
    "combinedData['Stage'] =  combinedData['Stage'].fillna('Unknown')"
   ]
  },
  {
   "cell_type": "code",
   "execution_count": 126,
   "metadata": {},
   "outputs": [
    {
     "data": {
      "text/plain": [
       "array(['Seed', 'Series A', 'Angel', 'Series B', 'Pre-Seed',\n",
       "       'Private Equity', 'Venture - Series Unknown', 'Grant',\n",
       "       'Debt Financing', 'Post-IPO Debt', 'Series H', 'Series C',\n",
       "       'Series E', 'Corporate Round', 'Undisclosed', 'Unknown',\n",
       "       'Series D', 'Secondary Market', 'Post-IPO Equity',\n",
       "       'Non-equity Assistance', 'Funding Round', 'Fresh funding',\n",
       "       'Pre series A', 'Series G', 'Post series A', 'Seed funding',\n",
       "       'Seed fund', 'Series F', 'Series B+', 'Seed round', 'Pre-series A',\n",
       "       'Pre-seed', 'Pre-series', 'Debt', 'Pre-series C', 'Pre-series B',\n",
       "       'Bridge', 'Series B2', 'Pre- series A', 'Edge', 'Pre-Series B',\n",
       "       'Seed A', 'Series A-1', 'Seed Funding', 'Pre-seed Round',\n",
       "       'Seed Round & Series A', 'Pre Series A', 'Pre seed Round',\n",
       "       'Angel Round', 'Pre series A1', 'Series E2', 'Seed Round',\n",
       "       'Bridge Round', 'Pre seed round', 'Pre series B', 'Pre series C',\n",
       "       'Seed Investment', 'Series D1', 'Mid series', 'Series C, D',\n",
       "       '$1200000', 'Seed+', 'Series F2', 'Series A+', 'Series B3', 'PE',\n",
       "       'Series F1', 'Pre-series A1', '$300000', 'Early seed', '$6000000',\n",
       "       '$1000000', 'Seies A', 'Series A2', 'Series I'], dtype=object)"
      ]
     },
     "execution_count": 126,
     "metadata": {},
     "output_type": "execute_result"
    }
   ],
   "source": [
    "combinedData['Stage'].unique()"
   ]
  },
  {
   "cell_type": "code",
   "execution_count": 127,
   "metadata": {},
   "outputs": [],
   "source": [
    "def categorize_funding_stage(stage):\n",
    "\n",
    "    pre_Seed = ['Pre Seed','Pre seed round']\n",
    "    seed_stages = ['Seed','Seed funding', 'Seed fund', 'Seed round', 'Seed A', 'Seed Round & Series A', 'Seed Investment', 'Early seed']\n",
    "    pre_series = [ 'Pre series A', 'Pre-series A1', 'Pre Series A', 'Pre series A1', 'Pre-series A1', 'Pre series A', 'Pre series','Pre series B', 'Pre series C']\n",
    "    series = ['Series A', 'Series A 1', 'Series A+', 'Seies A', 'Series A1', 'Series A2','Series B', 'Series B+', 'Series B2', 'Series B3','Series C', 'Series D', 'Series D1', 'Series E', 'Series E2', 'Series F', 'Series F1', 'Series F2', 'Series G', 'Series H', 'Series I']\n",
    "    later_stages = ['Series Unknown','Angel Round' ,'Angel','Corporate Round', 'Funding Round', 'Mid series', 'Bridge', 'Bridge Round', 'Post series A', 'Post-IPO Equity', 'Secondary Market', 'Non-equity Assistance','Fresh funding', 'Grant', 'Undisclosed']\n",
    "    debt = ['Post-IPO Debt','Debt Financing','Debt']\n",
    "    others= ['Unknown', '$1200000', '$300000', '$6000000', '$1000000']\n",
    " \n",
    "    if stage in pre_Seed:\n",
    "        return 'Pre Seed Stage'\n",
    "    elif stage in seed_stages:\n",
    "        return 'Seed Stage'\n",
    "    elif stage in pre_series:\n",
    "        return 'Pre Series Stage'\n",
    "    elif stage in series:\n",
    "        return 'Series Stage'\n",
    "    elif stage in later_stages:\n",
    "        return 'Later Stage'\n",
    "    elif stage in debt:\n",
    "        return 'Debt Stage'\n",
    "    else:\n",
    "        return 'Others'\n",
    "\n",
    "# Apply the function to the 'Stage' column\n",
    "combinedData['Stage'] = combinedData['Stage'].apply(categorize_funding_stage)"
   ]
  },
  {
   "cell_type": "code",
   "execution_count": 128,
   "metadata": {},
   "outputs": [
    {
     "data": {
      "text/html": [
       "<div>\n",
       "<style scoped>\n",
       "    .dataframe tbody tr th:only-of-type {\n",
       "        vertical-align: middle;\n",
       "    }\n",
       "\n",
       "    .dataframe tbody tr th {\n",
       "        vertical-align: top;\n",
       "    }\n",
       "\n",
       "    .dataframe thead th {\n",
       "        text-align: right;\n",
       "    }\n",
       "</style>\n",
       "<table border=\"1\" class=\"dataframe\">\n",
       "  <thead>\n",
       "    <tr style=\"text-align: right;\">\n",
       "      <th></th>\n",
       "      <th>Company_Brand</th>\n",
       "      <th>HeadQuarter</th>\n",
       "      <th>Sector</th>\n",
       "      <th>Amount($)</th>\n",
       "      <th>Stage</th>\n",
       "      <th>Year</th>\n",
       "    </tr>\n",
       "  </thead>\n",
       "  <tbody>\n",
       "    <tr>\n",
       "      <th>1312</th>\n",
       "      <td>Indian School Finance Company</td>\n",
       "      <td>Hyderabad</td>\n",
       "      <td>Fintech</td>\n",
       "      <td>5271000.0</td>\n",
       "      <td>Others</td>\n",
       "      <td>2020</td>\n",
       "    </tr>\n",
       "    <tr>\n",
       "      <th>2013</th>\n",
       "      <td>Zingavita</td>\n",
       "      <td>Chandigarh</td>\n",
       "      <td>HealthTech</td>\n",
       "      <td>$400,000</td>\n",
       "      <td>Others</td>\n",
       "      <td>2021</td>\n",
       "    </tr>\n",
       "    <tr>\n",
       "      <th>2169</th>\n",
       "      <td>Hyreo</td>\n",
       "      <td>Thiruvananthapuram</td>\n",
       "      <td>Human Resources</td>\n",
       "      <td>0</td>\n",
       "      <td>Others</td>\n",
       "      <td>2021</td>\n",
       "    </tr>\n",
       "    <tr>\n",
       "      <th>1017</th>\n",
       "      <td>ShareChat</td>\n",
       "      <td>Bangalore</td>\n",
       "      <td>Social media</td>\n",
       "      <td>40000000.0</td>\n",
       "      <td>Others</td>\n",
       "      <td>2020</td>\n",
       "    </tr>\n",
       "    <tr>\n",
       "      <th>292</th>\n",
       "      <td>Smartcoin</td>\n",
       "      <td>Bangalore</td>\n",
       "      <td>Big Data, Financial Services, Machine Learning...</td>\n",
       "      <td>Providing financial access to the millions of ...</td>\n",
       "      <td>Seed Stage</td>\n",
       "      <td>2018</td>\n",
       "    </tr>\n",
       "  </tbody>\n",
       "</table>\n",
       "</div>"
      ],
      "text/plain": [
       "                      Company_Brand         HeadQuarter  \\\n",
       "1312  Indian School Finance Company           Hyderabad   \n",
       "2013                      Zingavita          Chandigarh   \n",
       "2169                          Hyreo  Thiruvananthapuram   \n",
       "1017                      ShareChat           Bangalore   \n",
       "292                       Smartcoin           Bangalore   \n",
       "\n",
       "                                                 Sector  \\\n",
       "1312                                            Fintech   \n",
       "2013                                         HealthTech   \n",
       "2169                                    Human Resources   \n",
       "1017                                       Social media   \n",
       "292   Big Data, Financial Services, Machine Learning...   \n",
       "\n",
       "                                              Amount($)       Stage  Year  \n",
       "1312                                          5271000.0      Others  2020  \n",
       "2013                                           $400,000      Others  2021  \n",
       "2169                                                  0      Others  2021  \n",
       "1017                                         40000000.0      Others  2020  \n",
       "292   Providing financial access to the millions of ...  Seed Stage  2018  "
      ]
     },
     "execution_count": 128,
     "metadata": {},
     "output_type": "execute_result"
    }
   ],
   "source": [
    "# test my function\n",
    "combinedData.sample(5)"
   ]
  },
  {
   "cell_type": "code",
   "execution_count": 129,
   "metadata": {},
   "outputs": [
    {
     "data": {
      "text/plain": [
       "array(['Seed Stage', 'Series Stage', 'Later Stage', 'Others',\n",
       "       'Debt Stage', 'Pre Series Stage', 'Pre Seed Stage'], dtype=object)"
      ]
     },
     "execution_count": 129,
     "metadata": {},
     "output_type": "execute_result"
    }
   ],
   "source": [
    "combinedData['Stage'].unique()"
   ]
  },
  {
   "cell_type": "markdown",
   "metadata": {},
   "source": [
    "    To clean the 'HeadQuarter' Column\n"
   ]
  },
  {
   "cell_type": "code",
   "execution_count": 130,
   "metadata": {},
   "outputs": [],
   "source": [
    "\n",
    "# Split the strings from the comma(,) then return the first index of the string \n",
    "\n",
    "combinedData['HeadQuarter'] = (combinedData['HeadQuarter'].str.split(',').str[0])\n"
   ]
  },
  {
   "cell_type": "code",
   "execution_count": 131,
   "metadata": {},
   "outputs": [
    {
     "data": {
      "text/plain": [
       "array(['Bangalore', 'Mumbai', 'Gurgaon', 'Noida', 'Hyderabad',\n",
       "       'Bengaluru', 'Kalkaji', 'Delhi', 'India', 'Hubli', 'New Delhi',\n",
       "       'Chennai', 'Mohali', 'Kolkata', 'Pune', 'Jodhpur', 'Kanpur',\n",
       "       'Ahmedabad', 'Azadpur', 'Haryana', 'Cochin', 'Faridabad', 'Jaipur',\n",
       "       'Kota', 'Anand', 'Bangalore City', 'Belgaum', 'Thane', 'Margão',\n",
       "       'Indore', 'Alwar', 'Kannur', 'Trivandrum', 'Ernakulam',\n",
       "       'Kormangala', 'Uttar Pradesh', 'Andheri', 'Mylapore', 'Ghaziabad',\n",
       "       'Kochi', 'Powai', 'Guntur', 'Kalpakkam', 'Bhopal', 'Coimbatore',\n",
       "       'Worli', 'Alleppey', 'Chandigarh', 'Guindy', 'Lucknow', 'Unknown',\n",
       "       'Telangana', 'Gurugram', 'Surat', 'Uttar pradesh', 'Rajasthan',\n",
       "       'Tirunelveli', 'Singapore', 'Gujarat', 'Kerala', 'Frisco',\n",
       "       'California', 'Dhingsara', 'New York', 'Patna', 'San Francisco',\n",
       "       'San Ramon', 'Paris', 'Plano', 'Sydney', 'San Francisco Bay Area',\n",
       "       'Bangaldesh', 'London', 'Milano', 'Palmwoods', 'France',\n",
       "       'Samastipur', 'Irvine', 'Tumkur', 'Newcastle Upon Tyne',\n",
       "       'Shanghai', 'Jiaxing', 'Rajastan', 'Ludhiana', 'Dehradun',\n",
       "       'San Franciscao', 'Tangerang', 'Berlin', 'Seattle', 'Riyadh',\n",
       "       'Seoul', 'Bangkok', 'Warangal', 'Hyderebad', 'Odisha', 'Bihar',\n",
       "       'Goa', 'Tamil Nadu', 'Banglore', 'Ahmadabad', 'Small Towns',\n",
       "       'Rajsamand', 'Ranchi', 'Computer Games', 'Vadodara',\n",
       "       'Food & Beverages', 'Pharmaceuticals\\t#REF!', 'Gurugram\\t#REF!',\n",
       "       'Nagpur', 'West Bengal', 'Samsitpur', 'Silvassa',\n",
       "       'Thiruvananthapuram', 'Roorkee', 'Ambernath', 'Panchkula',\n",
       "       'Mangalore', 'Telugana', 'Bhubaneswar', 'Kottayam', 'Beijing',\n",
       "       'Panaji', 'Satara', 'Orissia', 'Santra', 'Mountain View',\n",
       "       'Jharkhand', 'Bhilwara', 'Guwahati', 'Online Media\\t#REF!',\n",
       "       'Information Technology & Services', 'The Nilgiris', 'Gandhinagar'],\n",
       "      dtype=object)"
      ]
     },
     "execution_count": 131,
     "metadata": {},
     "output_type": "execute_result"
    }
   ],
   "source": [
    "combinedData['HeadQuarter'].unique()"
   ]
  },
  {
   "cell_type": "code",
   "execution_count": 132,
   "metadata": {},
   "outputs": [],
   "source": [
    "combinedData['HeadQuarter'] = combinedData['HeadQuarter'].replace({\n",
    "    'Delhi':'New Delhi',\n",
    "    'Bangalore City':'Bangalore',\n",
    "    'Ahmadabad':'Ahmedabad',\n",
    "    'Gurugram #REF!': 'Gurugram',\n",
    "    'San Francisco Bay Area':  'San Franciscao'\n",
    "       })"
   ]
  },
  {
   "cell_type": "code",
   "execution_count": 133,
   "metadata": {},
   "outputs": [
    {
     "data": {
      "text/plain": [
       "array(['Bangalore', 'Mumbai', 'Gurgaon', 'Noida', 'Hyderabad',\n",
       "       'Bengaluru', 'Kalkaji', 'New Delhi', 'India', 'Hubli', 'Chennai',\n",
       "       'Mohali', 'Kolkata', 'Pune', 'Jodhpur', 'Kanpur', 'Ahmedabad',\n",
       "       'Azadpur', 'Haryana', 'Cochin', 'Faridabad', 'Jaipur', 'Kota',\n",
       "       'Anand', 'Belgaum', 'Thane', 'Margão', 'Indore', 'Alwar', 'Kannur',\n",
       "       'Trivandrum', 'Ernakulam', 'Kormangala', 'Uttar Pradesh',\n",
       "       'Andheri', 'Mylapore', 'Ghaziabad', 'Kochi', 'Powai', 'Guntur',\n",
       "       'Kalpakkam', 'Bhopal', 'Coimbatore', 'Worli', 'Alleppey',\n",
       "       'Chandigarh', 'Guindy', 'Lucknow', 'Unknown', 'Telangana',\n",
       "       'Gurugram', 'Surat', 'Uttar pradesh', 'Rajasthan', 'Tirunelveli',\n",
       "       'Singapore', 'Gujarat', 'Kerala', 'Frisco', 'California',\n",
       "       'Dhingsara', 'New York', 'Patna', 'San Francisco', 'San Ramon',\n",
       "       'Paris', 'Plano', 'Sydney', 'San Franciscao', 'Bangaldesh',\n",
       "       'London', 'Milano', 'Palmwoods', 'France', 'Samastipur', 'Irvine',\n",
       "       'Tumkur', 'Newcastle Upon Tyne', 'Shanghai', 'Jiaxing', 'Rajastan',\n",
       "       'Ludhiana', 'Dehradun', 'Tangerang', 'Berlin', 'Seattle', 'Riyadh',\n",
       "       'Seoul', 'Bangkok', 'Warangal', 'Hyderebad', 'Odisha', 'Bihar',\n",
       "       'Goa', 'Tamil Nadu', 'Banglore', 'Small Towns', 'Rajsamand',\n",
       "       'Ranchi', 'Computer Games', 'Vadodara', 'Food & Beverages',\n",
       "       'Pharmaceuticals\\t#REF!', 'Gurugram\\t#REF!', 'Nagpur',\n",
       "       'West Bengal', 'Samsitpur', 'Silvassa', 'Thiruvananthapuram',\n",
       "       'Roorkee', 'Ambernath', 'Panchkula', 'Mangalore', 'Telugana',\n",
       "       'Bhubaneswar', 'Kottayam', 'Beijing', 'Panaji', 'Satara',\n",
       "       'Orissia', 'Santra', 'Mountain View', 'Jharkhand', 'Bhilwara',\n",
       "       'Guwahati', 'Online Media\\t#REF!',\n",
       "       'Information Technology & Services', 'The Nilgiris', 'Gandhinagar'],\n",
       "      dtype=object)"
      ]
     },
     "execution_count": 133,
     "metadata": {},
     "output_type": "execute_result"
    }
   ],
   "source": [
    "combinedData['HeadQuarter'].unique()"
   ]
  },
  {
   "cell_type": "code",
   "execution_count": 134,
   "metadata": {},
   "outputs": [],
   "source": [
    "\n",
    "# Function to categorize sectors\n",
    "def categorize_sector(sector):\n",
    "    # Mapping of sectors to categories\n",
    "    sector_categories = {\n",
    "        'Marketing': ['Brand Marketing', 'Event Promotion', 'Marketing', 'Sponsorship', 'Ticketing'],\n",
    "        'Agriculture': ['Agriculture', 'Farming'],\n",
    "        'Technology': ['E-Commerce', 'Internet', 'Apps', 'SaaS', 'Information Technology', 'Blockchain', 'Developer Tools'],\n",
    "        'Healthcare': ['Health Care', 'Medical', 'Biotechnology', 'Pharmaceutical'],\n",
    "        'Automotive': ['Automotive', 'Electric Vehicle', 'Autonomous Vehicles'],\n",
    "        'Logistics': ['Logistics', 'Supply Chain Management', 'Transportation'],\n",
    "        'Education': ['EdTech', 'Education', 'E-Learning', 'Higher Education'],\n",
    "        'Food and Beverage': ['Food and Beverage', 'Food Delivery', 'Food Processing'],\n",
    "        'Energy': ['Renewable Energy', 'Clean Energy', 'Solar', 'Energy Storage'],\n",
    "        'Fashion': ['Fashion', 'Lifestyle'],\n",
    "        'Real Estate': ['Real Estate'],\n",
    "        'Finance': ['Finance', 'Financial Services', 'FinTech', 'Venture Capital', 'Payments', 'Wealth Management', 'Credit', 'Financial Services', 'Lending', 'Marketplace', 'Insurance', 'Payments'],\n",
    "        'Media and Entertainment': ['Media and Entertainment', 'Broadcasting', 'Music', 'Video Streaming'],\n",
    "    }\n",
    "\n",
    "    # Iterate through categories and check if the sector belongs to any category\n",
    "    for category, keywords in sector_categories.items():\n",
    "        if any(keyword.lower() in sector.lower() for keyword in keywords):\n",
    "            return category\n",
    "\n",
    "    # If no category is matched, return 'Other'\n",
    "    # return 'Other Category'\n",
    "\n",
    "# Apply the function to the 'Sector' column\n",
    "combinedData['Sector'] = combinedData['Sector'].apply(categorize_sector)"
   ]
  },
  {
   "cell_type": "code",
   "execution_count": 135,
   "metadata": {},
   "outputs": [
    {
     "data": {
      "text/plain": [
       "array(['Marketing', 'Agriculture', 'Finance', 'Technology', None,\n",
       "       'Food and Beverage', 'Automotive', 'Logistics', 'Education',\n",
       "       'Energy', 'Healthcare', 'Media and Entertainment', 'Fashion',\n",
       "       'Real Estate'], dtype=object)"
      ]
     },
     "execution_count": 135,
     "metadata": {},
     "output_type": "execute_result"
    }
   ],
   "source": [
    "combinedData['Sector'].unique()"
   ]
  },
  {
   "cell_type": "markdown",
   "metadata": {},
   "source": [
    "Handle Null value in Sector Column\n"
   ]
  },
  {
   "cell_type": "code",
   "execution_count": 136,
   "metadata": {},
   "outputs": [],
   "source": [
    "combinedData['Sector'] =  combinedData['Sector'].fillna('Unknown')"
   ]
  },
  {
   "cell_type": "code",
   "execution_count": 137,
   "metadata": {},
   "outputs": [
    {
     "data": {
      "text/plain": [
       "array(['Marketing', 'Agriculture', 'Finance', 'Technology', 'Unknown',\n",
       "       'Food and Beverage', 'Automotive', 'Logistics', 'Education',\n",
       "       'Energy', 'Healthcare', 'Media and Entertainment', 'Fashion',\n",
       "       'Real Estate'], dtype=object)"
      ]
     },
     "execution_count": 137,
     "metadata": {},
     "output_type": "execute_result"
    }
   ],
   "source": [
    "combinedData['Sector'].unique()"
   ]
  },
  {
   "cell_type": "code",
   "execution_count": 138,
   "metadata": {},
   "outputs": [
    {
     "data": {
      "text/html": [
       "<div>\n",
       "<style scoped>\n",
       "    .dataframe tbody tr th:only-of-type {\n",
       "        vertical-align: middle;\n",
       "    }\n",
       "\n",
       "    .dataframe tbody tr th {\n",
       "        vertical-align: top;\n",
       "    }\n",
       "\n",
       "    .dataframe thead th {\n",
       "        text-align: right;\n",
       "    }\n",
       "</style>\n",
       "<table border=\"1\" class=\"dataframe\">\n",
       "  <thead>\n",
       "    <tr style=\"text-align: right;\">\n",
       "      <th></th>\n",
       "      <th>Company_Brand</th>\n",
       "      <th>HeadQuarter</th>\n",
       "      <th>Sector</th>\n",
       "      <th>Amount($)</th>\n",
       "      <th>Stage</th>\n",
       "      <th>Year</th>\n",
       "    </tr>\n",
       "  </thead>\n",
       "  <tbody>\n",
       "    <tr>\n",
       "      <th>0</th>\n",
       "      <td>TheCollegeFever</td>\n",
       "      <td>Bangalore</td>\n",
       "      <td>Marketing</td>\n",
       "      <td>TheCollegeFever is a hub for fun, fiesta and f...</td>\n",
       "      <td>Seed Stage</td>\n",
       "      <td>2018</td>\n",
       "    </tr>\n",
       "  </tbody>\n",
       "</table>\n",
       "</div>"
      ],
      "text/plain": [
       "     Company_Brand HeadQuarter     Sector  \\\n",
       "0  TheCollegeFever   Bangalore  Marketing   \n",
       "\n",
       "                                           Amount($)       Stage  Year  \n",
       "0  TheCollegeFever is a hub for fun, fiesta and f...  Seed Stage  2018  "
      ]
     },
     "execution_count": 138,
     "metadata": {},
     "output_type": "execute_result"
    }
   ],
   "source": [
    "# peak the cleaned data\n",
    "combinedData.head(1)"
   ]
  },
  {
   "cell_type": "markdown",
   "metadata": {},
   "source": [
    "Exploratory Data Analysis (EDA)\n"
   ]
  },
  {
   "cell_type": "markdown",
   "metadata": {},
   "source": [
    "Visualize Data\n"
   ]
  },
  {
   "cell_type": "markdown",
   "metadata": {},
   "source": [
    "1. What is the distribution of funding across various investment stages\n"
   ]
  },
  {
   "cell_type": "code",
   "execution_count": 139,
   "metadata": {},
   "outputs": [
    {
     "ename": "TypeError",
     "evalue": "can only concatenate str (not \"int\") to str",
     "output_type": "error",
     "traceback": [
      "\u001b[1;31m---------------------------------------------------------------------------\u001b[0m",
      "\u001b[1;31mTypeError\u001b[0m                                 Traceback (most recent call last)",
      "Cell \u001b[1;32mIn[139], line 2\u001b[0m\n\u001b[0;32m      1\u001b[0m \u001b[38;5;66;03m# Visualize information using a pie chart.\u001b[39;00m\n\u001b[1;32m----> 2\u001b[0m Stages \u001b[38;5;241m=\u001b[39m \u001b[43mcombinedData\u001b[49m\u001b[38;5;241;43m.\u001b[39;49m\u001b[43mgroupby\u001b[49m\u001b[43m(\u001b[49m\u001b[38;5;124;43m'\u001b[39;49m\u001b[38;5;124;43mStage\u001b[39;49m\u001b[38;5;124;43m'\u001b[39;49m\u001b[43m)\u001b[49m\u001b[43m[\u001b[49m\u001b[38;5;124;43m'\u001b[39;49m\u001b[38;5;124;43mAmount($)\u001b[39;49m\u001b[38;5;124;43m'\u001b[39;49m\u001b[43m]\u001b[49m\u001b[38;5;241;43m.\u001b[39;49m\u001b[43msum\u001b[49m\u001b[43m(\u001b[49m\u001b[43m)\u001b[49m\u001b[38;5;241m.\u001b[39mnlargest(\u001b[38;5;241m3\u001b[39m)\n\u001b[0;32m      4\u001b[0m Stages\u001b[38;5;241m.\u001b[39mplot(kind\u001b[38;5;241m=\u001b[39m\u001b[38;5;124m'\u001b[39m\u001b[38;5;124mpie\u001b[39m\u001b[38;5;124m'\u001b[39m, autopct\u001b[38;5;241m=\u001b[39m\u001b[38;5;124m'\u001b[39m\u001b[38;5;132;01m%1.0f\u001b[39;00m\u001b[38;5;132;01m%%\u001b[39;00m\u001b[38;5;124m'\u001b[39m)\n\u001b[0;32m      5\u001b[0m plt\u001b[38;5;241m.\u001b[39mylabel(\u001b[38;5;124m'\u001b[39m\u001b[38;5;124mStages\u001b[39m\u001b[38;5;124m'\u001b[39m)\n",
      "File \u001b[1;32m~\\AppData\\Local\\Packages\\PythonSoftwareFoundation.Python.3.11_qbz5n2kfra8p0\\LocalCache\\local-packages\\Python311\\site-packages\\pandas\\core\\groupby\\groupby.py:3063\u001b[0m, in \u001b[0;36mGroupBy.sum\u001b[1;34m(self, numeric_only, min_count, engine, engine_kwargs)\u001b[0m\n\u001b[0;32m   3058\u001b[0m \u001b[38;5;28;01melse\u001b[39;00m:\n\u001b[0;32m   3059\u001b[0m     \u001b[38;5;66;03m# If we are grouping on categoricals we want unobserved categories to\u001b[39;00m\n\u001b[0;32m   3060\u001b[0m     \u001b[38;5;66;03m# return zero, rather than the default of NaN which the reindexing in\u001b[39;00m\n\u001b[0;32m   3061\u001b[0m     \u001b[38;5;66;03m# _agg_general() returns. GH #31422\u001b[39;00m\n\u001b[0;32m   3062\u001b[0m     \u001b[38;5;28;01mwith\u001b[39;00m com\u001b[38;5;241m.\u001b[39mtemp_setattr(\u001b[38;5;28mself\u001b[39m, \u001b[38;5;124m\"\u001b[39m\u001b[38;5;124mobserved\u001b[39m\u001b[38;5;124m\"\u001b[39m, \u001b[38;5;28;01mTrue\u001b[39;00m):\n\u001b[1;32m-> 3063\u001b[0m         result \u001b[38;5;241m=\u001b[39m \u001b[38;5;28;43mself\u001b[39;49m\u001b[38;5;241;43m.\u001b[39;49m\u001b[43m_agg_general\u001b[49m\u001b[43m(\u001b[49m\n\u001b[0;32m   3064\u001b[0m \u001b[43m            \u001b[49m\u001b[43mnumeric_only\u001b[49m\u001b[38;5;241;43m=\u001b[39;49m\u001b[43mnumeric_only\u001b[49m\u001b[43m,\u001b[49m\n\u001b[0;32m   3065\u001b[0m \u001b[43m            \u001b[49m\u001b[43mmin_count\u001b[49m\u001b[38;5;241;43m=\u001b[39;49m\u001b[43mmin_count\u001b[49m\u001b[43m,\u001b[49m\n\u001b[0;32m   3066\u001b[0m \u001b[43m            \u001b[49m\u001b[43malias\u001b[49m\u001b[38;5;241;43m=\u001b[39;49m\u001b[38;5;124;43m\"\u001b[39;49m\u001b[38;5;124;43msum\u001b[39;49m\u001b[38;5;124;43m\"\u001b[39;49m\u001b[43m,\u001b[49m\n\u001b[0;32m   3067\u001b[0m \u001b[43m            \u001b[49m\u001b[43mnpfunc\u001b[49m\u001b[38;5;241;43m=\u001b[39;49m\u001b[43mnp\u001b[49m\u001b[38;5;241;43m.\u001b[39;49m\u001b[43msum\u001b[49m\u001b[43m,\u001b[49m\n\u001b[0;32m   3068\u001b[0m \u001b[43m        \u001b[49m\u001b[43m)\u001b[49m\n\u001b[0;32m   3070\u001b[0m     \u001b[38;5;28;01mreturn\u001b[39;00m \u001b[38;5;28mself\u001b[39m\u001b[38;5;241m.\u001b[39m_reindex_output(result, fill_value\u001b[38;5;241m=\u001b[39m\u001b[38;5;241m0\u001b[39m)\n",
      "File \u001b[1;32m~\\AppData\\Local\\Packages\\PythonSoftwareFoundation.Python.3.11_qbz5n2kfra8p0\\LocalCache\\local-packages\\Python311\\site-packages\\pandas\\core\\groupby\\groupby.py:1839\u001b[0m, in \u001b[0;36mGroupBy._agg_general\u001b[1;34m(self, numeric_only, min_count, alias, npfunc)\u001b[0m\n\u001b[0;32m   1830\u001b[0m \u001b[38;5;129m@final\u001b[39m\n\u001b[0;32m   1831\u001b[0m \u001b[38;5;28;01mdef\u001b[39;00m \u001b[38;5;21m_agg_general\u001b[39m(\n\u001b[0;32m   1832\u001b[0m     \u001b[38;5;28mself\u001b[39m,\n\u001b[1;32m   (...)\u001b[0m\n\u001b[0;32m   1837\u001b[0m     npfunc: Callable,\n\u001b[0;32m   1838\u001b[0m ):\n\u001b[1;32m-> 1839\u001b[0m     result \u001b[38;5;241m=\u001b[39m \u001b[38;5;28;43mself\u001b[39;49m\u001b[38;5;241;43m.\u001b[39;49m\u001b[43m_cython_agg_general\u001b[49m\u001b[43m(\u001b[49m\n\u001b[0;32m   1840\u001b[0m \u001b[43m        \u001b[49m\u001b[43mhow\u001b[49m\u001b[38;5;241;43m=\u001b[39;49m\u001b[43malias\u001b[49m\u001b[43m,\u001b[49m\n\u001b[0;32m   1841\u001b[0m \u001b[43m        \u001b[49m\u001b[43malt\u001b[49m\u001b[38;5;241;43m=\u001b[39;49m\u001b[43mnpfunc\u001b[49m\u001b[43m,\u001b[49m\n\u001b[0;32m   1842\u001b[0m \u001b[43m        \u001b[49m\u001b[43mnumeric_only\u001b[49m\u001b[38;5;241;43m=\u001b[39;49m\u001b[43mnumeric_only\u001b[49m\u001b[43m,\u001b[49m\n\u001b[0;32m   1843\u001b[0m \u001b[43m        \u001b[49m\u001b[43mmin_count\u001b[49m\u001b[38;5;241;43m=\u001b[39;49m\u001b[43mmin_count\u001b[49m\u001b[43m,\u001b[49m\n\u001b[0;32m   1844\u001b[0m \u001b[43m    \u001b[49m\u001b[43m)\u001b[49m\n\u001b[0;32m   1845\u001b[0m     \u001b[38;5;28;01mreturn\u001b[39;00m result\u001b[38;5;241m.\u001b[39m__finalize__(\u001b[38;5;28mself\u001b[39m\u001b[38;5;241m.\u001b[39mobj, method\u001b[38;5;241m=\u001b[39m\u001b[38;5;124m\"\u001b[39m\u001b[38;5;124mgroupby\u001b[39m\u001b[38;5;124m\"\u001b[39m)\n",
      "File \u001b[1;32m~\\AppData\\Local\\Packages\\PythonSoftwareFoundation.Python.3.11_qbz5n2kfra8p0\\LocalCache\\local-packages\\Python311\\site-packages\\pandas\\core\\groupby\\groupby.py:1929\u001b[0m, in \u001b[0;36mGroupBy._cython_agg_general\u001b[1;34m(self, how, alt, numeric_only, min_count, **kwargs)\u001b[0m\n\u001b[0;32m   1926\u001b[0m     result \u001b[38;5;241m=\u001b[39m \u001b[38;5;28mself\u001b[39m\u001b[38;5;241m.\u001b[39m_agg_py_fallback(how, values, ndim\u001b[38;5;241m=\u001b[39mdata\u001b[38;5;241m.\u001b[39mndim, alt\u001b[38;5;241m=\u001b[39malt)\n\u001b[0;32m   1927\u001b[0m     \u001b[38;5;28;01mreturn\u001b[39;00m result\n\u001b[1;32m-> 1929\u001b[0m new_mgr \u001b[38;5;241m=\u001b[39m \u001b[43mdata\u001b[49m\u001b[38;5;241;43m.\u001b[39;49m\u001b[43mgrouped_reduce\u001b[49m\u001b[43m(\u001b[49m\u001b[43marray_func\u001b[49m\u001b[43m)\u001b[49m\n\u001b[0;32m   1930\u001b[0m res \u001b[38;5;241m=\u001b[39m \u001b[38;5;28mself\u001b[39m\u001b[38;5;241m.\u001b[39m_wrap_agged_manager(new_mgr)\n\u001b[0;32m   1931\u001b[0m out \u001b[38;5;241m=\u001b[39m \u001b[38;5;28mself\u001b[39m\u001b[38;5;241m.\u001b[39m_wrap_aggregated_output(res)\n",
      "File \u001b[1;32m~\\AppData\\Local\\Packages\\PythonSoftwareFoundation.Python.3.11_qbz5n2kfra8p0\\LocalCache\\local-packages\\Python311\\site-packages\\pandas\\core\\internals\\base.py:336\u001b[0m, in \u001b[0;36mSingleDataManager.grouped_reduce\u001b[1;34m(self, func)\u001b[0m\n\u001b[0;32m    334\u001b[0m \u001b[38;5;28;01mdef\u001b[39;00m \u001b[38;5;21mgrouped_reduce\u001b[39m(\u001b[38;5;28mself\u001b[39m, func):\n\u001b[0;32m    335\u001b[0m     arr \u001b[38;5;241m=\u001b[39m \u001b[38;5;28mself\u001b[39m\u001b[38;5;241m.\u001b[39marray\n\u001b[1;32m--> 336\u001b[0m     res \u001b[38;5;241m=\u001b[39m \u001b[43mfunc\u001b[49m\u001b[43m(\u001b[49m\u001b[43marr\u001b[49m\u001b[43m)\u001b[49m\n\u001b[0;32m    337\u001b[0m     index \u001b[38;5;241m=\u001b[39m default_index(\u001b[38;5;28mlen\u001b[39m(res))\n\u001b[0;32m    339\u001b[0m     mgr \u001b[38;5;241m=\u001b[39m \u001b[38;5;28mtype\u001b[39m(\u001b[38;5;28mself\u001b[39m)\u001b[38;5;241m.\u001b[39mfrom_array(res, index)\n",
      "File \u001b[1;32m~\\AppData\\Local\\Packages\\PythonSoftwareFoundation.Python.3.11_qbz5n2kfra8p0\\LocalCache\\local-packages\\Python311\\site-packages\\pandas\\core\\groupby\\groupby.py:1905\u001b[0m, in \u001b[0;36mGroupBy._cython_agg_general.<locals>.array_func\u001b[1;34m(values)\u001b[0m\n\u001b[0;32m   1903\u001b[0m \u001b[38;5;28;01mdef\u001b[39;00m \u001b[38;5;21marray_func\u001b[39m(values: ArrayLike) \u001b[38;5;241m-\u001b[39m\u001b[38;5;241m>\u001b[39m ArrayLike:\n\u001b[0;32m   1904\u001b[0m     \u001b[38;5;28;01mtry\u001b[39;00m:\n\u001b[1;32m-> 1905\u001b[0m         result \u001b[38;5;241m=\u001b[39m \u001b[38;5;28;43mself\u001b[39;49m\u001b[38;5;241;43m.\u001b[39;49m\u001b[43mgrouper\u001b[49m\u001b[38;5;241;43m.\u001b[39;49m\u001b[43m_cython_operation\u001b[49m\u001b[43m(\u001b[49m\n\u001b[0;32m   1906\u001b[0m \u001b[43m            \u001b[49m\u001b[38;5;124;43m\"\u001b[39;49m\u001b[38;5;124;43maggregate\u001b[39;49m\u001b[38;5;124;43m\"\u001b[39;49m\u001b[43m,\u001b[49m\n\u001b[0;32m   1907\u001b[0m \u001b[43m            \u001b[49m\u001b[43mvalues\u001b[49m\u001b[43m,\u001b[49m\n\u001b[0;32m   1908\u001b[0m \u001b[43m            \u001b[49m\u001b[43mhow\u001b[49m\u001b[43m,\u001b[49m\n\u001b[0;32m   1909\u001b[0m \u001b[43m            \u001b[49m\u001b[43maxis\u001b[49m\u001b[38;5;241;43m=\u001b[39;49m\u001b[43mdata\u001b[49m\u001b[38;5;241;43m.\u001b[39;49m\u001b[43mndim\u001b[49m\u001b[43m \u001b[49m\u001b[38;5;241;43m-\u001b[39;49m\u001b[43m \u001b[49m\u001b[38;5;241;43m1\u001b[39;49m\u001b[43m,\u001b[49m\n\u001b[0;32m   1910\u001b[0m \u001b[43m            \u001b[49m\u001b[43mmin_count\u001b[49m\u001b[38;5;241;43m=\u001b[39;49m\u001b[43mmin_count\u001b[49m\u001b[43m,\u001b[49m\n\u001b[0;32m   1911\u001b[0m \u001b[43m            \u001b[49m\u001b[38;5;241;43m*\u001b[39;49m\u001b[38;5;241;43m*\u001b[39;49m\u001b[43mkwargs\u001b[49m\u001b[43m,\u001b[49m\n\u001b[0;32m   1912\u001b[0m \u001b[43m        \u001b[49m\u001b[43m)\u001b[49m\n\u001b[0;32m   1913\u001b[0m     \u001b[38;5;28;01mexcept\u001b[39;00m \u001b[38;5;167;01mNotImplementedError\u001b[39;00m:\n\u001b[0;32m   1914\u001b[0m         \u001b[38;5;66;03m# generally if we have numeric_only=False\u001b[39;00m\n\u001b[0;32m   1915\u001b[0m         \u001b[38;5;66;03m# and non-applicable functions\u001b[39;00m\n\u001b[0;32m   1916\u001b[0m         \u001b[38;5;66;03m# try to python agg\u001b[39;00m\n\u001b[0;32m   1917\u001b[0m         \u001b[38;5;66;03m# TODO: shouldn't min_count matter?\u001b[39;00m\n\u001b[0;32m   1918\u001b[0m         \u001b[38;5;66;03m# TODO: avoid special casing SparseArray here\u001b[39;00m\n\u001b[0;32m   1919\u001b[0m         \u001b[38;5;28;01mif\u001b[39;00m how \u001b[38;5;129;01min\u001b[39;00m [\u001b[38;5;124m\"\u001b[39m\u001b[38;5;124many\u001b[39m\u001b[38;5;124m\"\u001b[39m, \u001b[38;5;124m\"\u001b[39m\u001b[38;5;124mall\u001b[39m\u001b[38;5;124m\"\u001b[39m] \u001b[38;5;129;01mand\u001b[39;00m \u001b[38;5;28misinstance\u001b[39m(values, SparseArray):\n",
      "File \u001b[1;32m~\\AppData\\Local\\Packages\\PythonSoftwareFoundation.Python.3.11_qbz5n2kfra8p0\\LocalCache\\local-packages\\Python311\\site-packages\\pandas\\core\\groupby\\ops.py:815\u001b[0m, in \u001b[0;36mBaseGrouper._cython_operation\u001b[1;34m(self, kind, values, how, axis, min_count, **kwargs)\u001b[0m\n\u001b[0;32m    813\u001b[0m ids, _, _ \u001b[38;5;241m=\u001b[39m \u001b[38;5;28mself\u001b[39m\u001b[38;5;241m.\u001b[39mgroup_info\n\u001b[0;32m    814\u001b[0m ngroups \u001b[38;5;241m=\u001b[39m \u001b[38;5;28mself\u001b[39m\u001b[38;5;241m.\u001b[39mngroups\n\u001b[1;32m--> 815\u001b[0m \u001b[38;5;28;01mreturn\u001b[39;00m \u001b[43mcy_op\u001b[49m\u001b[38;5;241;43m.\u001b[39;49m\u001b[43mcython_operation\u001b[49m\u001b[43m(\u001b[49m\n\u001b[0;32m    816\u001b[0m \u001b[43m    \u001b[49m\u001b[43mvalues\u001b[49m\u001b[38;5;241;43m=\u001b[39;49m\u001b[43mvalues\u001b[49m\u001b[43m,\u001b[49m\n\u001b[0;32m    817\u001b[0m \u001b[43m    \u001b[49m\u001b[43maxis\u001b[49m\u001b[38;5;241;43m=\u001b[39;49m\u001b[43maxis\u001b[49m\u001b[43m,\u001b[49m\n\u001b[0;32m    818\u001b[0m \u001b[43m    \u001b[49m\u001b[43mmin_count\u001b[49m\u001b[38;5;241;43m=\u001b[39;49m\u001b[43mmin_count\u001b[49m\u001b[43m,\u001b[49m\n\u001b[0;32m    819\u001b[0m \u001b[43m    \u001b[49m\u001b[43mcomp_ids\u001b[49m\u001b[38;5;241;43m=\u001b[39;49m\u001b[43mids\u001b[49m\u001b[43m,\u001b[49m\n\u001b[0;32m    820\u001b[0m \u001b[43m    \u001b[49m\u001b[43mngroups\u001b[49m\u001b[38;5;241;43m=\u001b[39;49m\u001b[43mngroups\u001b[49m\u001b[43m,\u001b[49m\n\u001b[0;32m    821\u001b[0m \u001b[43m    \u001b[49m\u001b[38;5;241;43m*\u001b[39;49m\u001b[38;5;241;43m*\u001b[39;49m\u001b[43mkwargs\u001b[49m\u001b[43m,\u001b[49m\n\u001b[0;32m    822\u001b[0m \u001b[43m\u001b[49m\u001b[43m)\u001b[49m\n",
      "File \u001b[1;32m~\\AppData\\Local\\Packages\\PythonSoftwareFoundation.Python.3.11_qbz5n2kfra8p0\\LocalCache\\local-packages\\Python311\\site-packages\\pandas\\core\\groupby\\ops.py:534\u001b[0m, in \u001b[0;36mWrappedCythonOp.cython_operation\u001b[1;34m(self, values, axis, min_count, comp_ids, ngroups, **kwargs)\u001b[0m\n\u001b[0;32m    523\u001b[0m \u001b[38;5;28;01mif\u001b[39;00m \u001b[38;5;129;01mnot\u001b[39;00m \u001b[38;5;28misinstance\u001b[39m(values, np\u001b[38;5;241m.\u001b[39mndarray):\n\u001b[0;32m    524\u001b[0m     \u001b[38;5;66;03m# i.e. ExtensionArray\u001b[39;00m\n\u001b[0;32m    525\u001b[0m     \u001b[38;5;28;01mreturn\u001b[39;00m values\u001b[38;5;241m.\u001b[39m_groupby_op(\n\u001b[0;32m    526\u001b[0m         how\u001b[38;5;241m=\u001b[39m\u001b[38;5;28mself\u001b[39m\u001b[38;5;241m.\u001b[39mhow,\n\u001b[0;32m    527\u001b[0m         has_dropped_na\u001b[38;5;241m=\u001b[39m\u001b[38;5;28mself\u001b[39m\u001b[38;5;241m.\u001b[39mhas_dropped_na,\n\u001b[1;32m   (...)\u001b[0m\n\u001b[0;32m    531\u001b[0m         \u001b[38;5;241m*\u001b[39m\u001b[38;5;241m*\u001b[39mkwargs,\n\u001b[0;32m    532\u001b[0m     )\n\u001b[1;32m--> 534\u001b[0m \u001b[38;5;28;01mreturn\u001b[39;00m \u001b[38;5;28;43mself\u001b[39;49m\u001b[38;5;241;43m.\u001b[39;49m\u001b[43m_cython_op_ndim_compat\u001b[49m\u001b[43m(\u001b[49m\n\u001b[0;32m    535\u001b[0m \u001b[43m    \u001b[49m\u001b[43mvalues\u001b[49m\u001b[43m,\u001b[49m\n\u001b[0;32m    536\u001b[0m \u001b[43m    \u001b[49m\u001b[43mmin_count\u001b[49m\u001b[38;5;241;43m=\u001b[39;49m\u001b[43mmin_count\u001b[49m\u001b[43m,\u001b[49m\n\u001b[0;32m    537\u001b[0m \u001b[43m    \u001b[49m\u001b[43mngroups\u001b[49m\u001b[38;5;241;43m=\u001b[39;49m\u001b[43mngroups\u001b[49m\u001b[43m,\u001b[49m\n\u001b[0;32m    538\u001b[0m \u001b[43m    \u001b[49m\u001b[43mcomp_ids\u001b[49m\u001b[38;5;241;43m=\u001b[39;49m\u001b[43mcomp_ids\u001b[49m\u001b[43m,\u001b[49m\n\u001b[0;32m    539\u001b[0m \u001b[43m    \u001b[49m\u001b[43mmask\u001b[49m\u001b[38;5;241;43m=\u001b[39;49m\u001b[38;5;28;43;01mNone\u001b[39;49;00m\u001b[43m,\u001b[49m\n\u001b[0;32m    540\u001b[0m \u001b[43m    \u001b[49m\u001b[38;5;241;43m*\u001b[39;49m\u001b[38;5;241;43m*\u001b[39;49m\u001b[43mkwargs\u001b[49m\u001b[43m,\u001b[49m\n\u001b[0;32m    541\u001b[0m \u001b[43m\u001b[49m\u001b[43m)\u001b[49m\n",
      "File \u001b[1;32m~\\AppData\\Local\\Packages\\PythonSoftwareFoundation.Python.3.11_qbz5n2kfra8p0\\LocalCache\\local-packages\\Python311\\site-packages\\pandas\\core\\groupby\\ops.py:323\u001b[0m, in \u001b[0;36mWrappedCythonOp._cython_op_ndim_compat\u001b[1;34m(self, values, min_count, ngroups, comp_ids, mask, result_mask, **kwargs)\u001b[0m\n\u001b[0;32m    321\u001b[0m \u001b[38;5;28;01mif\u001b[39;00m result_mask \u001b[38;5;129;01mis\u001b[39;00m \u001b[38;5;129;01mnot\u001b[39;00m \u001b[38;5;28;01mNone\u001b[39;00m:\n\u001b[0;32m    322\u001b[0m     result_mask \u001b[38;5;241m=\u001b[39m result_mask[\u001b[38;5;28;01mNone\u001b[39;00m, :]\n\u001b[1;32m--> 323\u001b[0m res \u001b[38;5;241m=\u001b[39m \u001b[38;5;28;43mself\u001b[39;49m\u001b[38;5;241;43m.\u001b[39;49m\u001b[43m_call_cython_op\u001b[49m\u001b[43m(\u001b[49m\n\u001b[0;32m    324\u001b[0m \u001b[43m    \u001b[49m\u001b[43mvalues2d\u001b[49m\u001b[43m,\u001b[49m\n\u001b[0;32m    325\u001b[0m \u001b[43m    \u001b[49m\u001b[43mmin_count\u001b[49m\u001b[38;5;241;43m=\u001b[39;49m\u001b[43mmin_count\u001b[49m\u001b[43m,\u001b[49m\n\u001b[0;32m    326\u001b[0m \u001b[43m    \u001b[49m\u001b[43mngroups\u001b[49m\u001b[38;5;241;43m=\u001b[39;49m\u001b[43mngroups\u001b[49m\u001b[43m,\u001b[49m\n\u001b[0;32m    327\u001b[0m \u001b[43m    \u001b[49m\u001b[43mcomp_ids\u001b[49m\u001b[38;5;241;43m=\u001b[39;49m\u001b[43mcomp_ids\u001b[49m\u001b[43m,\u001b[49m\n\u001b[0;32m    328\u001b[0m \u001b[43m    \u001b[49m\u001b[43mmask\u001b[49m\u001b[38;5;241;43m=\u001b[39;49m\u001b[43mmask\u001b[49m\u001b[43m,\u001b[49m\n\u001b[0;32m    329\u001b[0m \u001b[43m    \u001b[49m\u001b[43mresult_mask\u001b[49m\u001b[38;5;241;43m=\u001b[39;49m\u001b[43mresult_mask\u001b[49m\u001b[43m,\u001b[49m\n\u001b[0;32m    330\u001b[0m \u001b[43m    \u001b[49m\u001b[38;5;241;43m*\u001b[39;49m\u001b[38;5;241;43m*\u001b[39;49m\u001b[43mkwargs\u001b[49m\u001b[43m,\u001b[49m\n\u001b[0;32m    331\u001b[0m \u001b[43m\u001b[49m\u001b[43m)\u001b[49m\n\u001b[0;32m    332\u001b[0m \u001b[38;5;28;01mif\u001b[39;00m res\u001b[38;5;241m.\u001b[39mshape[\u001b[38;5;241m0\u001b[39m] \u001b[38;5;241m==\u001b[39m \u001b[38;5;241m1\u001b[39m:\n\u001b[0;32m    333\u001b[0m     \u001b[38;5;28;01mreturn\u001b[39;00m res[\u001b[38;5;241m0\u001b[39m]\n",
      "File \u001b[1;32m~\\AppData\\Local\\Packages\\PythonSoftwareFoundation.Python.3.11_qbz5n2kfra8p0\\LocalCache\\local-packages\\Python311\\site-packages\\pandas\\core\\groupby\\ops.py:403\u001b[0m, in \u001b[0;36mWrappedCythonOp._call_cython_op\u001b[1;34m(self, values, min_count, ngroups, comp_ids, mask, result_mask, **kwargs)\u001b[0m\n\u001b[0;32m    401\u001b[0m counts \u001b[38;5;241m=\u001b[39m np\u001b[38;5;241m.\u001b[39mzeros(ngroups, dtype\u001b[38;5;241m=\u001b[39mnp\u001b[38;5;241m.\u001b[39mint64)\n\u001b[0;32m    402\u001b[0m \u001b[38;5;28;01mif\u001b[39;00m \u001b[38;5;28mself\u001b[39m\u001b[38;5;241m.\u001b[39mhow \u001b[38;5;129;01min\u001b[39;00m [\u001b[38;5;124m\"\u001b[39m\u001b[38;5;124mmin\u001b[39m\u001b[38;5;124m\"\u001b[39m, \u001b[38;5;124m\"\u001b[39m\u001b[38;5;124mmax\u001b[39m\u001b[38;5;124m\"\u001b[39m, \u001b[38;5;124m\"\u001b[39m\u001b[38;5;124mmean\u001b[39m\u001b[38;5;124m\"\u001b[39m, \u001b[38;5;124m\"\u001b[39m\u001b[38;5;124mlast\u001b[39m\u001b[38;5;124m\"\u001b[39m, \u001b[38;5;124m\"\u001b[39m\u001b[38;5;124mfirst\u001b[39m\u001b[38;5;124m\"\u001b[39m, \u001b[38;5;124m\"\u001b[39m\u001b[38;5;124msum\u001b[39m\u001b[38;5;124m\"\u001b[39m]:\n\u001b[1;32m--> 403\u001b[0m     \u001b[43mfunc\u001b[49m\u001b[43m(\u001b[49m\n\u001b[0;32m    404\u001b[0m \u001b[43m        \u001b[49m\u001b[43mout\u001b[49m\u001b[38;5;241;43m=\u001b[39;49m\u001b[43mresult\u001b[49m\u001b[43m,\u001b[49m\n\u001b[0;32m    405\u001b[0m \u001b[43m        \u001b[49m\u001b[43mcounts\u001b[49m\u001b[38;5;241;43m=\u001b[39;49m\u001b[43mcounts\u001b[49m\u001b[43m,\u001b[49m\n\u001b[0;32m    406\u001b[0m \u001b[43m        \u001b[49m\u001b[43mvalues\u001b[49m\u001b[38;5;241;43m=\u001b[39;49m\u001b[43mvalues\u001b[49m\u001b[43m,\u001b[49m\n\u001b[0;32m    407\u001b[0m \u001b[43m        \u001b[49m\u001b[43mlabels\u001b[49m\u001b[38;5;241;43m=\u001b[39;49m\u001b[43mcomp_ids\u001b[49m\u001b[43m,\u001b[49m\n\u001b[0;32m    408\u001b[0m \u001b[43m        \u001b[49m\u001b[43mmin_count\u001b[49m\u001b[38;5;241;43m=\u001b[39;49m\u001b[43mmin_count\u001b[49m\u001b[43m,\u001b[49m\n\u001b[0;32m    409\u001b[0m \u001b[43m        \u001b[49m\u001b[43mmask\u001b[49m\u001b[38;5;241;43m=\u001b[39;49m\u001b[43mmask\u001b[49m\u001b[43m,\u001b[49m\n\u001b[0;32m    410\u001b[0m \u001b[43m        \u001b[49m\u001b[43mresult_mask\u001b[49m\u001b[38;5;241;43m=\u001b[39;49m\u001b[43mresult_mask\u001b[49m\u001b[43m,\u001b[49m\n\u001b[0;32m    411\u001b[0m \u001b[43m        \u001b[49m\u001b[43mis_datetimelike\u001b[49m\u001b[38;5;241;43m=\u001b[39;49m\u001b[43mis_datetimelike\u001b[49m\u001b[43m,\u001b[49m\n\u001b[0;32m    412\u001b[0m \u001b[43m    \u001b[49m\u001b[43m)\u001b[49m\n\u001b[0;32m    413\u001b[0m \u001b[38;5;28;01melif\u001b[39;00m \u001b[38;5;28mself\u001b[39m\u001b[38;5;241m.\u001b[39mhow \u001b[38;5;129;01min\u001b[39;00m [\u001b[38;5;124m\"\u001b[39m\u001b[38;5;124msem\u001b[39m\u001b[38;5;124m\"\u001b[39m, \u001b[38;5;124m\"\u001b[39m\u001b[38;5;124mstd\u001b[39m\u001b[38;5;124m\"\u001b[39m, \u001b[38;5;124m\"\u001b[39m\u001b[38;5;124mvar\u001b[39m\u001b[38;5;124m\"\u001b[39m, \u001b[38;5;124m\"\u001b[39m\u001b[38;5;124mohlc\u001b[39m\u001b[38;5;124m\"\u001b[39m, \u001b[38;5;124m\"\u001b[39m\u001b[38;5;124mprod\u001b[39m\u001b[38;5;124m\"\u001b[39m, \u001b[38;5;124m\"\u001b[39m\u001b[38;5;124mmedian\u001b[39m\u001b[38;5;124m\"\u001b[39m]:\n\u001b[0;32m    414\u001b[0m     \u001b[38;5;28;01mif\u001b[39;00m \u001b[38;5;28mself\u001b[39m\u001b[38;5;241m.\u001b[39mhow \u001b[38;5;129;01min\u001b[39;00m [\u001b[38;5;124m\"\u001b[39m\u001b[38;5;124mstd\u001b[39m\u001b[38;5;124m\"\u001b[39m, \u001b[38;5;124m\"\u001b[39m\u001b[38;5;124msem\u001b[39m\u001b[38;5;124m\"\u001b[39m]:\n",
      "File \u001b[1;32mgroupby.pyx:718\u001b[0m, in \u001b[0;36mpandas._libs.groupby.group_sum\u001b[1;34m()\u001b[0m\n",
      "\u001b[1;31mTypeError\u001b[0m: can only concatenate str (not \"int\") to str"
     ]
    }
   ],
   "source": [
    "# Visualize information using a pie chart.\n",
    "Stages = combinedData.groupby('Stage')['Amount($)'].sum().nlargest(3)\n",
    "\n",
    "Stages.plot(kind='pie', autopct='%1.0f%%')\n",
    "plt.ylabel('Stages')\n",
    "plt.title('Top 3 Funding Stages')\n",
    "plt.show()"
   ]
  },
  {
   "cell_type": "markdown",
   "metadata": {},
   "source": [
    "2. What are the top 5 dominant sectors among startups\n"
   ]
  },
  {
   "cell_type": "code",
   "execution_count": null,
   "metadata": {},
   "outputs": [
    {
     "data": {
      "image/png": "[encoded data removed]",
      "text/plain": [
       "<Figure size 1000x600 with 1 Axes>"
      ]
     },
     "metadata": {},
     "output_type": "display_data"
    }
   ],
   "source": [
    "\n",
    "combinedData['Sector'] = combinedData['Sector'].str.capitalize()\n",
    "# tp_5_sectors = combinedData['Sector'].value_counts().head(5)\n",
    "tp_5_sectors = combinedData['Sector'].value_counts().iloc[1:6]\n",
    "\n",
    "# Define different colors for each bar\n",
    "colors = ['orange', 'blue', 'green', 'red', 'purple']\n",
    "\n",
    "# Create a bar chart with values on each bar\n",
    "plt.figure(figsize=(10, 6))\n",
    "bars = plt.bar(tp_5_sectors.index, tp_5_sectors, color=colors)\n",
    "\n",
    "# Add values on each bar\n",
    "for bar, value in zip(bars, tp_5_sectors):\n",
    "    plt.text(bar.get_x() + bar.get_width() / 2 - 0.1,\n",
    "    bar.get_height() + 0.1, str(value) + ' startUps',\n",
    "    ha='center', \n",
    "    color='black', \n",
    "    fontweight='bold' )\n",
    "\n",
    "plt.xlabel('Sector', loc='center')\n",
    "plt.ylabel('Frequency')\n",
    "plt.title('Top 5 Dominant Sectors in India with more Startups')\n",
    "plt.show()"
   ]
  },
  {
   "cell_type": "markdown",
   "metadata": {},
   "source": [
    "3. What are the cities that have attracted the most funding\n"
   ]
  },
  {
   "cell_type": "code",
   "execution_count": null,
   "metadata": {},
   "outputs": [
    {
     "data": {
      "image/png": "[encoded data removed]",
      "text/plain": [
       "<Figure size 1000x600 with 1 Axes>"
      ]
     },
     "metadata": {},
     "output_type": "display_data"
    }
   ],
   "source": [
    "Top_Funded_cities = combinedData.groupby(['HeadQuarter'])['Amount($)'].sum().nlargest(5)\n",
    "\n",
    "# Create a bar chart with values on each bar\n",
    "plt.figure(figsize=(10, 6))\n",
    "bars = plt.bar(Top_Funded_cities.index, Top_Funded_cities, color=colors)\n",
    "\n",
    "# Add values on each bar with 'M', 'B', or no suffix\n",
    "for bar, value in zip(bars, Top_Funded_cities):\n",
    "    if value == 1000:\n",
    "        text_value = '1000'\n",
    "    else:\n",
    "        text_value = (\n",
    "            f'{value / 1e9:.1f}B' if value >= 1e9 else\n",
    "            f'{value / 1e6:.1f}M' if value >= 1e6 else\n",
    "            f'{value / 1e3:.1f}K' if value >= 1e3 else\n",
    "            f'{value}'\n",
    "        )\n",
    "\n",
    "    plt.text(\n",
    "        bar.get_x() + bar.get_width() / 2 - 0.1,\n",
    "        bar.get_height() + 0.1,\n",
    "        text_value,\n",
    "        ha='center',\n",
    "        color='black',\n",
    "        fontweight='bold'\n",
    "    )\n",
    "\n",
    "# Format y-axis ticks in billions and millions\n",
    "formatter = FuncFormatter(lambda x, _: f'{\"%.0fB\" % (x / 1e9) if x >= 1e9 else \"%.0fM\" % (x / 1e6) if x >= 1e6 else \"%.0fK\" % (x / 1e3) if x >= 1e3 else x}')\n",
    "plt.gca().yaxis.set_major_formatter(formatter)\n",
    "\n",
    "plt.xlabel('Headquarters', loc='center')\n",
    "plt.ylabel('Funding Amount')\n",
    "plt.title('Dominant cities with most funding India Startups')\n",
    "\n",
    "plt.show()\n"
   ]
  },
  {
   "cell_type": "markdown",
   "metadata": {},
   "source": [
    "4. What is the distribution of funding across the four years\n"
   ]
  },
  {
   "cell_type": "code",
   "execution_count": null,
   "metadata": {},
   "outputs": [
    {
     "data": {
      "image/png": "[encoded data removed]",
      "text/plain": [
       "<Figure size 1000x600 with 1 Axes>"
      ]
     },
     "metadata": {},
     "output_type": "display_data"
    }
   ],
   "source": [
    "\n",
    "# Group by year and sum the funding amounts\n",
    "year_funds = combinedData.groupby(['Year'])['Amount($)'].sum()\n",
    "\n",
    "# Define different colors for each bar\n",
    "colors = ['orange', 'blue', 'green', 'red', 'purple']\n",
    "\n",
    "# Create a bar chart with values on each bar\n",
    "plt.figure(figsize=(10, 6), dpi=100)\n",
    "bars = plt.bar(year_funds.index, year_funds, color=colors)\n",
    "\n",
    "# Add values on each bar with 'M', 'B', or no suffix\n",
    "for bar, value in zip(bars, year_funds):\n",
    "    if value == 1000:\n",
    "        text_value = '1000'\n",
    "    else:\n",
    "        text_value = (\n",
    "            f'{value / 1e9:.1f}B' if value >= 1e9 else\n",
    "            f'{value / 1e6:.1f}M' if value >= 1e6 else\n",
    "            f'{value / 1e3:.1f}K' if value >= 1e3 else\n",
    "            f'{value}'\n",
    "        )\n",
    "\n",
    "    plt.text(\n",
    "        bar.get_x() + bar.get_width() / 2 - 0.1,\n",
    "        bar.get_height() + 0.1,\n",
    "        text_value,\n",
    "        ha='center',\n",
    "        color='black',\n",
    "        fontweight='bold'\n",
    "    )\n",
    "\n",
    "# Format y-axis ticks in billions and millions\n",
    "formatter = FuncFormatter(lambda x, _: f'{\"%.0fB\" % (x / 1e9) if x >= 1e9 else \"%.0fM\" % (x / 1e6) if x >= 1e6 else \"%.0fK\" % (x / 1e3) if x >= 1e3 else x}')\n",
    "plt.gca().yaxis.set_major_formatter(formatter)\n",
    "\n",
    "plt.xlabel('Year')\n",
    "plt.ylabel('Amount($)')\n",
    "plt.title('funding across the four years 2018-2021')\n",
    "plt.show()\n"
   ]
  },
  {
   "cell_type": "markdown",
   "metadata": {},
   "source": [
    "5.  What is the distribution of the number of startups that received funding in each year from 2018 to 2021?\n"
   ]
  },
  {
   "cell_type": "code",
   "execution_count": null,
   "metadata": {},
   "outputs": [
    {
     "data": {
      "image/png": "[encoded data removed]",
      "text/plain": [
       "<Figure size 1000x600 with 1 Axes>"
      ]
     },
     "metadata": {},
     "output_type": "display_data"
    }
   ],
   "source": [
    "\n",
    "# Count the number of startups in each year\n",
    "startups_count = combinedData.groupby(['Year'])['Company_Brand'].count().reset_index()\n",
    "\n",
    "# Create a bar chart with values on each bar\n",
    "plt.figure(figsize=(10, 6))\n",
    "ax = sns.barplot(y=startups_count['Company_Brand'], x=startups_count['Year'], palette=colors)\n",
    "\n",
    "# Add count values on top of each bar\n",
    "for bar, count in zip(ax.patches, startups_count['Company_Brand']):\n",
    "    plt.text(\n",
    "        bar.get_x() + bar.get_width() / 2 - 0.1 ,\n",
    "        bar.get_height() + 0.1,\n",
    "        f'{count}' + ' startups',\n",
    "        ha='center',\n",
    "        color='black',\n",
    "        fontweight='bold'\n",
    "    )\n",
    "\n",
    "plt.title('Total Startups Received Funding Each Year')\n",
    "plt.xlabel('Year')\n",
    "plt.ylabel('Number of Startups')\n",
    "plt.show()\n"
   ]
  },
  {
   "cell_type": "markdown",
   "metadata": {},
   "source": [
    "Test HYTPOSIS\n"
   ]
  },
  {
   "cell_type": "code",
   "execution_count": null,
   "metadata": {},
   "outputs": [],
   "source": []
  },
  {
   "cell_type": "markdown",
   "metadata": {},
   "source": [
    "Conclusion\n"
   ]
  },
  {
   "cell_type": "markdown",
   "metadata": {},
   "source": [
    "The analysis suggests a dynamic and growing startup ecosystem, with a diverse range of sectors attracting substantial funding. The concentration of funding in specific cities, such as Mumbai, Bangalore, and Gurugram, highlights the importance of geographical factors in the startup landscape. The upward trend in funding over the years, particularly the significant increase in 2021, indicates a robust and expanding startup ecosystem. However, it's essential to consider external factors and market conditions that may influence funding trends. The findings provide valuable insights for investors interested in the startup ecosystem in India Startups.\n"
   ]
  },
  {
   "cell_type": "code",
   "execution_count": null,
   "metadata": {},
   "outputs": [
    {
     "name": "stdout",
     "output_type": "stream",
     "text": [
      "The cleaned data has been exported to: dataset\\cleanedData.csv\n"
     ]
    }
   ],
   "source": [
    "\n",
    "# Specify the path where you want to save the CSV file\n",
    "csv_file_path = 'dataset\\cleanedData.csv'\n",
    "\n",
    "# Export the cleaned data to a CSV file\n",
    "combinedData.to_csv(csv_file_path, index=False)\n",
    "\n",
    "# Display a message to indicate successful export\n",
    "print(f'The cleaned data has been exported to: {csv_file_path}')"
   ]
  }
 ],
 "metadata": {
  "kernelspec": {
   "display_name": "Python 3",
   "language": "python",
   "name": "python3"
  },
  "language_info": {
   "codemirror_mode": {
    "name": "ipython",
    "version": 3
   },
   "file_extension": ".py",
   "mimetype": "text/x-python",
   "name": "python",
   "nbconvert_exporter": "python",
   "pygments_lexer": "ipython3",
   "version": "3.11.9"
  }
 },
 "nbformat": 4,
 "nbformat_minor": 2
}
