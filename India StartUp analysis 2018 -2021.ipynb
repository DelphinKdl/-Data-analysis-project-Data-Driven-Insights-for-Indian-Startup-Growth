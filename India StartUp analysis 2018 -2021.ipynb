{
 "cells": [
  {
   "cell_type": "markdown",
   "metadata": {},
   "source": [
    "## Analysis of Funding Received by Start-ups in India from 2018 to 2021\n",
    "\n",
    "## 1. Business Understanding\n",
    "\n",
    "     1.1 Project Description\n",
    "\n",
    "This is analysis project focuses on the funding received by start-ups in India from 2018 to 2021. The objective is to gain insights into the Indian start-up ecosystem and recommend the best course of action for our team's venture. By analyzing the data on funding amounts, start-up details, and investor information, we aim to uncover prevailing patterns and gain insights into the opportunities within India's start-up ecosystem to inform decision-making.\n",
    "\n",
    "     1.2 Type of Problem\n",
    "\n",
    "This project involves exploratory data analysis (EDA) and visualization. Our goal is to deduce hidden insights and patterns from the available data.\n"
   ]
  },
  {
   "cell_type": "markdown",
   "metadata": {},
   "source": [
    "## 2. Data Understanding\n",
    "\n",
    "We have collected data from various startups in India spanning the years 2018 to 2021, including information on the amounts they received in funding. By analyzing this data, we aim to gain a deeper insight into the startup ecosystem and identify the key contributing factors.\n"
   ]
  },
  {
   "cell_type": "markdown",
   "metadata": {},
   "source": [
    "## 3. Data Assumptions\n",
    "\n",
    "The amounts in the 2019 dataset are all in USD. Please note that the exchange rate for 2018 is \\***\\*1 USD = 70 INR**.\n"
   ]
  },
  {
   "cell_type": "markdown",
   "metadata": {},
   "source": [
    "## 4. Data Analytics questions and Hypthesis\n"
   ]
  },
  {
   "cell_type": "markdown",
   "metadata": {},
   "source": [
    "    5 SMART Analytics Questions:\n",
    "\n",
    "1.  What is the overall trend in funding received by start-ups in India from 2018 to 2021?\n",
    "2.  Which sectors have received the highest funding during this period?\n",
    "3.  What is the distribution of startups across the cities in India?\n",
    "4.  What is the average funding amount received by start-ups in India during this period?\n",
    "5.  Hypotheses\n",
    "\n",
    "    Hypothesis 1\n",
    "\n",
    "**Null Hypothesis (H₀):** There are no significant disparities in funding received by different sectors of Indian startups.\n",
    "\n",
    "**Alternate Hypothesis (Ha):** The technology sector receives significantly higher funding compared to other industries.\n",
    "\n",
    "    Hypothesis 2\n",
    "\n",
    "**Null Hypothesis (H₀):** The location of a startup in a particular city does not influence the amount of funding it receives.\n",
    "\n",
    "**Alternate Hypothesis (Ha):** The location of a startup in a particular city significantly affects the amount of funding it receives.\n",
    "\n",
    "    Hypotheses justifications\n",
    "\n",
    "**Hypothesis 1:** The technology sector is often seen as a high-growth area with substantial investment potential, which may lead to higher funding.\n",
    "\n",
    "**Hypothesis 2:** Certain cities might have more developed startup ecosystems, better infrastructure, and more active investment communities, which could impact funding amounts.\n",
    "\n",
    "    Testing Methods\n",
    "\n",
    "**For Hypothesis 1:** We will use statistical tests like t-tests to compare the average funding amounts across different sectors.\n",
    "\n",
    "**For Hypothesis 2:** We will use statistical tests such regression analysis to analyze the funding amounts across different cities.\n"
   ]
  },
  {
   "cell_type": "markdown",
   "metadata": {},
   "source": [
    "## 5. Data preparation\n"
   ]
  },
  {
   "cell_type": "markdown",
   "metadata": {},
   "source": [
    "    5.1 Importing libraries\n"
   ]
  },
  {
   "cell_type": "code",
   "execution_count": 1,
   "metadata": {},
   "outputs": [],
   "source": [
    "\n",
    "import os, sys\n",
    "from sqlalchemy import create_engine\n",
    "import pyodbc # Database Connectivity with  Open Database Connectivity (pyodbc)\n",
    "from dotenv import dotenv_values # dotenv library to load environment variables\n",
    "\n",
    "# Lib for data manipulation  analysis  \n",
    "import pandas as pd\n",
    "import numpy as np\n",
    "import sklearn\n",
    "\n",
    "from sklearn.impute import SimpleImputer\n",
    "\n",
    "# lib for Vizualization\n",
    "import matplotlib.pyplot as plt\n",
    "import seaborn as sns\n",
    "from scipy.stats import f_oneway\n",
    "from scipy import stats\n",
    "from prettytable import PrettyTable\n",
    "# from matplotlib.ticker import FuncFormatter\n",
    "\n",
    "import warnings\n",
    "warnings.filterwarnings('ignore')"
   ]
  },
  {
   "cell_type": "markdown",
   "metadata": {},
   "source": [
    "    5.2 Loading datasets\n"
   ]
  },
  {
   "cell_type": "code",
   "execution_count": 2,
   "metadata": {},
   "outputs": [],
   "source": [
    "# Load environment variables from .env file \n",
    "\n",
    "environment_variables=dotenv_values('.env')\n",
    "# Access login credentials from  the '.env' file\n",
    "server = environment_variables.get(\"SERVER\")\n",
    "database = environment_variables.get(\"DATABASE\")\n",
    "username = environment_variables.get(\"UID\")\n",
    "password = environment_variables.get(\"PWD\")"
   ]
  },
  {
   "cell_type": "code",
   "execution_count": 3,
   "metadata": {},
   "outputs": [],
   "source": [
    "#  Credection Connection tesr\n",
    "connection = f\"DRIVER={{SQL Server}};SERVER={server};DATABASE={database};UID={username};PWD={password}\"\n"
   ]
  },
  {
   "cell_type": "code",
   "execution_count": 4,
   "metadata": {},
   "outputs": [],
   "source": [
    "# connect to the server .\n",
    "\n",
    "con = pyodbc.connect(connection)"
   ]
  },
  {
   "cell_type": "code",
   "execution_count": 5,
   "metadata": {},
   "outputs": [],
   "source": [
    "# Load the dataset SQL query\n",
    "query1 = \"Select * from dbo.LP1_startup_funding2020\"\n",
    "query2 = \"Select * from dbo.LP1_startup_funding2021\"\n",
    "\n",
    "# Read data from the  on dataset to the dataframe \n",
    "data_2018 = pd.read_csv('dataset\\startup_funding2018.csv')\n",
    "data_2019 = pd.read_csv('dataset\\startup_funding2019.csv')\n",
    "data_2020 = pd.read_sql(query1, con)\n",
    "data_2021 = pd.read_sql(query2, con)"
   ]
  },
  {
   "cell_type": "markdown",
   "metadata": {},
   "source": [
    "    5.2.1 Data Overview\n"
   ]
  },
  {
   "cell_type": "code",
   "execution_count": 6,
   "metadata": {},
   "outputs": [
    {
     "data": {
      "text/html": [
       "<div>\n",
       "<style scoped>\n",
       "    .dataframe tbody tr th:only-of-type {\n",
       "        vertical-align: middle;\n",
       "    }\n",
       "\n",
       "    .dataframe tbody tr th {\n",
       "        vertical-align: top;\n",
       "    }\n",
       "\n",
       "    .dataframe thead th {\n",
       "        text-align: right;\n",
       "    }\n",
       "</style>\n",
       "<table border=\"1\" class=\"dataframe\">\n",
       "  <thead>\n",
       "    <tr style=\"text-align: right;\">\n",
       "      <th></th>\n",
       "      <th>Company Name</th>\n",
       "      <th>Industry</th>\n",
       "      <th>Round/Series</th>\n",
       "      <th>Amount</th>\n",
       "      <th>Location</th>\n",
       "      <th>About Company</th>\n",
       "    </tr>\n",
       "  </thead>\n",
       "  <tbody>\n",
       "    <tr>\n",
       "      <th>0</th>\n",
       "      <td>TheCollegeFever</td>\n",
       "      <td>Brand Marketing, Event Promotion, Marketing, S...</td>\n",
       "      <td>Seed</td>\n",
       "      <td>250000</td>\n",
       "      <td>Bangalore, Karnataka, India</td>\n",
       "      <td>TheCollegeFever is a hub for fun, fiesta and f...</td>\n",
       "    </tr>\n",
       "    <tr>\n",
       "      <th>1</th>\n",
       "      <td>Happy Cow Dairy</td>\n",
       "      <td>Agriculture, Farming</td>\n",
       "      <td>Seed</td>\n",
       "      <td>₹40,000,000</td>\n",
       "      <td>Mumbai, Maharashtra, India</td>\n",
       "      <td>A startup which aggregates milk from dairy far...</td>\n",
       "    </tr>\n",
       "    <tr>\n",
       "      <th>2</th>\n",
       "      <td>MyLoanCare</td>\n",
       "      <td>Credit, Financial Services, Lending, Marketplace</td>\n",
       "      <td>Series A</td>\n",
       "      <td>₹65,000,000</td>\n",
       "      <td>Gurgaon, Haryana, India</td>\n",
       "      <td>Leading Online Loans Marketplace in India</td>\n",
       "    </tr>\n",
       "  </tbody>\n",
       "</table>\n",
       "</div>"
      ],
      "text/plain": [
       "      Company Name                                           Industry  \\\n",
       "0  TheCollegeFever  Brand Marketing, Event Promotion, Marketing, S...   \n",
       "1  Happy Cow Dairy                               Agriculture, Farming   \n",
       "2       MyLoanCare   Credit, Financial Services, Lending, Marketplace   \n",
       "\n",
       "  Round/Series       Amount                     Location  \\\n",
       "0         Seed       250000  Bangalore, Karnataka, India   \n",
       "1         Seed  ₹40,000,000   Mumbai, Maharashtra, India   \n",
       "2     Series A  ₹65,000,000      Gurgaon, Haryana, India   \n",
       "\n",
       "                                       About Company  \n",
       "0  TheCollegeFever is a hub for fun, fiesta and f...  \n",
       "1  A startup which aggregates milk from dairy far...  \n",
       "2          Leading Online Loans Marketplace in India  "
      ]
     },
     "execution_count": 6,
     "metadata": {},
     "output_type": "execute_result"
    }
   ],
   "source": [
    "# 2018 dataset \n",
    "data_2018.head(3)"
   ]
  },
  {
   "cell_type": "markdown",
   "metadata": {},
   "source": [
    "let have a data Overview by help of data wrangler\n"
   ]
  },
  {
   "cell_type": "code",
   "execution_count": 7,
   "metadata": {},
   "outputs": [
    {
     "data": {
      "text/html": [
       "<div>\n",
       "<style scoped>\n",
       "    .dataframe tbody tr th:only-of-type {\n",
       "        vertical-align: middle;\n",
       "    }\n",
       "\n",
       "    .dataframe tbody tr th {\n",
       "        vertical-align: top;\n",
       "    }\n",
       "\n",
       "    .dataframe thead th {\n",
       "        text-align: right;\n",
       "    }\n",
       "</style>\n",
       "<table border=\"1\" class=\"dataframe\">\n",
       "  <thead>\n",
       "    <tr style=\"text-align: right;\">\n",
       "      <th></th>\n",
       "      <th>Company/Brand</th>\n",
       "      <th>Founded</th>\n",
       "      <th>HeadQuarter</th>\n",
       "      <th>Sector</th>\n",
       "      <th>What it does</th>\n",
       "      <th>Founders</th>\n",
       "      <th>Investor</th>\n",
       "      <th>Amount($)</th>\n",
       "      <th>Stage</th>\n",
       "    </tr>\n",
       "  </thead>\n",
       "  <tbody>\n",
       "    <tr>\n",
       "      <th>0</th>\n",
       "      <td>Bombay Shaving</td>\n",
       "      <td>NaN</td>\n",
       "      <td>NaN</td>\n",
       "      <td>Ecommerce</td>\n",
       "      <td>Provides a range of male grooming products</td>\n",
       "      <td>Shantanu Deshpande</td>\n",
       "      <td>Sixth Sense Ventures</td>\n",
       "      <td>$6,300,000</td>\n",
       "      <td>NaN</td>\n",
       "    </tr>\n",
       "    <tr>\n",
       "      <th>1</th>\n",
       "      <td>Ruangguru</td>\n",
       "      <td>2014.0</td>\n",
       "      <td>Mumbai</td>\n",
       "      <td>Edtech</td>\n",
       "      <td>A learning platform that provides topic-based ...</td>\n",
       "      <td>Adamas Belva Syah Devara, Iman Usman.</td>\n",
       "      <td>General Atlantic</td>\n",
       "      <td>$150,000,000</td>\n",
       "      <td>Series C</td>\n",
       "    </tr>\n",
       "    <tr>\n",
       "      <th>2</th>\n",
       "      <td>Eduisfun</td>\n",
       "      <td>NaN</td>\n",
       "      <td>Mumbai</td>\n",
       "      <td>Edtech</td>\n",
       "      <td>It aims to make learning fun via games.</td>\n",
       "      <td>Jatin Solanki</td>\n",
       "      <td>Deepak Parekh, Amitabh Bachchan, Piyush Pandey</td>\n",
       "      <td>$28,000,000</td>\n",
       "      <td>Fresh funding</td>\n",
       "    </tr>\n",
       "  </tbody>\n",
       "</table>\n",
       "</div>"
      ],
      "text/plain": [
       "    Company/Brand  Founded HeadQuarter     Sector  \\\n",
       "0  Bombay Shaving      NaN         NaN  Ecommerce   \n",
       "1       Ruangguru   2014.0      Mumbai     Edtech   \n",
       "2        Eduisfun      NaN      Mumbai     Edtech   \n",
       "\n",
       "                                        What it does  \\\n",
       "0         Provides a range of male grooming products   \n",
       "1  A learning platform that provides topic-based ...   \n",
       "2            It aims to make learning fun via games.   \n",
       "\n",
       "                                Founders  \\\n",
       "0                     Shantanu Deshpande   \n",
       "1  Adamas Belva Syah Devara, Iman Usman.   \n",
       "2                          Jatin Solanki   \n",
       "\n",
       "                                         Investor     Amount($)          Stage  \n",
       "0                            Sixth Sense Ventures    $6,300,000            NaN  \n",
       "1                                General Atlantic  $150,000,000       Series C  \n",
       "2  Deepak Parekh, Amitabh Bachchan, Piyush Pandey   $28,000,000  Fresh funding  "
      ]
     },
     "execution_count": 7,
     "metadata": {},
     "output_type": "execute_result"
    }
   ],
   "source": [
    "# 2019 dataset \n",
    "data_2019.head(3)"
   ]
  },
  {
   "cell_type": "code",
   "execution_count": 8,
   "metadata": {},
   "outputs": [
    {
     "data": {
      "text/html": [
       "<div>\n",
       "<style scoped>\n",
       "    .dataframe tbody tr th:only-of-type {\n",
       "        vertical-align: middle;\n",
       "    }\n",
       "\n",
       "    .dataframe tbody tr th {\n",
       "        vertical-align: top;\n",
       "    }\n",
       "\n",
       "    .dataframe thead th {\n",
       "        text-align: right;\n",
       "    }\n",
       "</style>\n",
       "<table border=\"1\" class=\"dataframe\">\n",
       "  <thead>\n",
       "    <tr style=\"text-align: right;\">\n",
       "      <th></th>\n",
       "      <th>Company_Brand</th>\n",
       "      <th>Founded</th>\n",
       "      <th>HeadQuarter</th>\n",
       "      <th>Sector</th>\n",
       "      <th>What_it_does</th>\n",
       "      <th>Founders</th>\n",
       "      <th>Investor</th>\n",
       "      <th>Amount</th>\n",
       "      <th>Stage</th>\n",
       "      <th>column10</th>\n",
       "    </tr>\n",
       "  </thead>\n",
       "  <tbody>\n",
       "    <tr>\n",
       "      <th>0</th>\n",
       "      <td>Aqgromalin</td>\n",
       "      <td>2019.0</td>\n",
       "      <td>Chennai</td>\n",
       "      <td>AgriTech</td>\n",
       "      <td>Cultivating Ideas for Profit</td>\n",
       "      <td>Prasanna Manogaran, Bharani C L</td>\n",
       "      <td>Angel investors</td>\n",
       "      <td>200000.0</td>\n",
       "      <td>None</td>\n",
       "      <td>None</td>\n",
       "    </tr>\n",
       "    <tr>\n",
       "      <th>1</th>\n",
       "      <td>Krayonnz</td>\n",
       "      <td>2019.0</td>\n",
       "      <td>Bangalore</td>\n",
       "      <td>EdTech</td>\n",
       "      <td>An academy-guardian-scholar centric ecosystem ...</td>\n",
       "      <td>Saurabh Dixit, Gurudutt Upadhyay</td>\n",
       "      <td>GSF Accelerator</td>\n",
       "      <td>100000.0</td>\n",
       "      <td>Pre-seed</td>\n",
       "      <td>None</td>\n",
       "    </tr>\n",
       "    <tr>\n",
       "      <th>2</th>\n",
       "      <td>PadCare Labs</td>\n",
       "      <td>2018.0</td>\n",
       "      <td>Pune</td>\n",
       "      <td>Hygiene management</td>\n",
       "      <td>Converting bio-hazardous waste to harmless waste</td>\n",
       "      <td>Ajinkya Dhariya</td>\n",
       "      <td>Venture Center</td>\n",
       "      <td>NaN</td>\n",
       "      <td>Pre-seed</td>\n",
       "      <td>None</td>\n",
       "    </tr>\n",
       "  </tbody>\n",
       "</table>\n",
       "</div>"
      ],
      "text/plain": [
       "  Company_Brand  Founded HeadQuarter              Sector  \\\n",
       "0    Aqgromalin   2019.0     Chennai            AgriTech   \n",
       "1      Krayonnz   2019.0   Bangalore              EdTech   \n",
       "2  PadCare Labs   2018.0        Pune  Hygiene management   \n",
       "\n",
       "                                        What_it_does  \\\n",
       "0                       Cultivating Ideas for Profit   \n",
       "1  An academy-guardian-scholar centric ecosystem ...   \n",
       "2   Converting bio-hazardous waste to harmless waste   \n",
       "\n",
       "                           Founders         Investor    Amount     Stage  \\\n",
       "0   Prasanna Manogaran, Bharani C L  Angel investors  200000.0      None   \n",
       "1  Saurabh Dixit, Gurudutt Upadhyay  GSF Accelerator  100000.0  Pre-seed   \n",
       "2                   Ajinkya Dhariya   Venture Center       NaN  Pre-seed   \n",
       "\n",
       "  column10  \n",
       "0     None  \n",
       "1     None  \n",
       "2     None  "
      ]
     },
     "execution_count": 8,
     "metadata": {},
     "output_type": "execute_result"
    }
   ],
   "source": [
    "# 2020 dataset \n",
    "data_2020.head(3)"
   ]
  },
  {
   "cell_type": "code",
   "execution_count": 9,
   "metadata": {},
   "outputs": [
    {
     "data": {
      "text/html": [
       "<div>\n",
       "<style scoped>\n",
       "    .dataframe tbody tr th:only-of-type {\n",
       "        vertical-align: middle;\n",
       "    }\n",
       "\n",
       "    .dataframe tbody tr th {\n",
       "        vertical-align: top;\n",
       "    }\n",
       "\n",
       "    .dataframe thead th {\n",
       "        text-align: right;\n",
       "    }\n",
       "</style>\n",
       "<table border=\"1\" class=\"dataframe\">\n",
       "  <thead>\n",
       "    <tr style=\"text-align: right;\">\n",
       "      <th></th>\n",
       "      <th>Company_Brand</th>\n",
       "      <th>Founded</th>\n",
       "      <th>HeadQuarter</th>\n",
       "      <th>Sector</th>\n",
       "      <th>What_it_does</th>\n",
       "      <th>Founders</th>\n",
       "      <th>Investor</th>\n",
       "      <th>Amount</th>\n",
       "      <th>Stage</th>\n",
       "    </tr>\n",
       "  </thead>\n",
       "  <tbody>\n",
       "    <tr>\n",
       "      <th>0</th>\n",
       "      <td>Unbox Robotics</td>\n",
       "      <td>2019.0</td>\n",
       "      <td>Bangalore</td>\n",
       "      <td>AI startup</td>\n",
       "      <td>Unbox Robotics builds on-demand AI-driven ware...</td>\n",
       "      <td>Pramod Ghadge, Shahid Memon</td>\n",
       "      <td>BEENEXT, Entrepreneur First</td>\n",
       "      <td>$1,200,000</td>\n",
       "      <td>Pre-series A</td>\n",
       "    </tr>\n",
       "    <tr>\n",
       "      <th>1</th>\n",
       "      <td>upGrad</td>\n",
       "      <td>2015.0</td>\n",
       "      <td>Mumbai</td>\n",
       "      <td>EdTech</td>\n",
       "      <td>UpGrad is an online higher education platform.</td>\n",
       "      <td>Mayank Kumar, Phalgun Kompalli, Ravijot Chugh,...</td>\n",
       "      <td>Unilazer Ventures, IIFL Asset Management</td>\n",
       "      <td>$120,000,000</td>\n",
       "      <td>None</td>\n",
       "    </tr>\n",
       "    <tr>\n",
       "      <th>2</th>\n",
       "      <td>Lead School</td>\n",
       "      <td>2012.0</td>\n",
       "      <td>Mumbai</td>\n",
       "      <td>EdTech</td>\n",
       "      <td>LEAD School offers technology based school tra...</td>\n",
       "      <td>Smita Deorah, Sumeet Mehta</td>\n",
       "      <td>GSV Ventures, Westbridge Capital</td>\n",
       "      <td>$30,000,000</td>\n",
       "      <td>Series D</td>\n",
       "    </tr>\n",
       "  </tbody>\n",
       "</table>\n",
       "</div>"
      ],
      "text/plain": [
       "    Company_Brand  Founded HeadQuarter      Sector  \\\n",
       "0  Unbox Robotics   2019.0   Bangalore  AI startup   \n",
       "1          upGrad   2015.0      Mumbai      EdTech   \n",
       "2     Lead School   2012.0      Mumbai      EdTech   \n",
       "\n",
       "                                        What_it_does  \\\n",
       "0  Unbox Robotics builds on-demand AI-driven ware...   \n",
       "1     UpGrad is an online higher education platform.   \n",
       "2  LEAD School offers technology based school tra...   \n",
       "\n",
       "                                            Founders  \\\n",
       "0                        Pramod Ghadge, Shahid Memon   \n",
       "1  Mayank Kumar, Phalgun Kompalli, Ravijot Chugh,...   \n",
       "2                         Smita Deorah, Sumeet Mehta   \n",
       "\n",
       "                                   Investor        Amount         Stage  \n",
       "0               BEENEXT, Entrepreneur First    $1,200,000  Pre-series A  \n",
       "1  Unilazer Ventures, IIFL Asset Management  $120,000,000          None  \n",
       "2          GSV Ventures, Westbridge Capital   $30,000,000      Series D  "
      ]
     },
     "execution_count": 9,
     "metadata": {},
     "output_type": "execute_result"
    }
   ],
   "source": [
    "# 2021 dataset \n",
    "data_2021.head(3)"
   ]
  },
  {
   "cell_type": "markdown",
   "metadata": {},
   "source": [
    "Similarities of datasets\n"
   ]
  },
  {
   "cell_type": "code",
   "execution_count": 17,
   "metadata": {},
   "outputs": [
    {
     "data": {
      "text/plain": [
       "Index(['Company Name', 'Industry', 'Round/Series', 'Amount', 'Location',\n",
       "       'About Company'],\n",
       "      dtype='object')"
      ]
     },
     "execution_count": 17,
     "metadata": {},
     "output_type": "execute_result"
    }
   ],
   "source": [
    "data_2018.columns"
   ]
  },
  {
   "cell_type": "code",
   "execution_count": 18,
   "metadata": {},
   "outputs": [
    {
     "data": {
      "text/plain": [
       "Index(['Company/Brand', 'Founded', 'HeadQuarter', 'Sector', 'What it does',\n",
       "       'Founders', 'Investor', 'Amount($)', 'Stage'],\n",
       "      dtype='object')"
      ]
     },
     "execution_count": 18,
     "metadata": {},
     "output_type": "execute_result"
    }
   ],
   "source": [
    "data_2019.columns"
   ]
  },
  {
   "cell_type": "code",
   "execution_count": 19,
   "metadata": {},
   "outputs": [
    {
     "data": {
      "text/plain": [
       "Index(['Company_Brand', 'Founded', 'HeadQuarter', 'Sector', 'What_it_does',\n",
       "       'Founders', 'Investor', 'Amount', 'Stage', 'column10'],\n",
       "      dtype='object')"
      ]
     },
     "execution_count": 19,
     "metadata": {},
     "output_type": "execute_result"
    }
   ],
   "source": [
    "data_2020.columns"
   ]
  },
  {
   "cell_type": "code",
   "execution_count": 20,
   "metadata": {},
   "outputs": [
    {
     "data": {
      "text/plain": [
       "Index(['Company_Brand', 'Founded', 'HeadQuarter', 'Sector', 'What_it_does',\n",
       "       'Founders', 'Investor', 'Amount', 'Stage'],\n",
       "      dtype='object')"
      ]
     },
     "execution_count": 20,
     "metadata": {},
     "output_type": "execute_result"
    }
   ],
   "source": [
    "data_2021.columns"
   ]
  },
  {
   "cell_type": "markdown",
   "metadata": {},
   "source": [
    "        5.3 Data Exploration\n"
   ]
  },
  {
   "cell_type": "markdown",
   "metadata": {},
   "source": [
    "    5.3.1 2018 Data\n"
   ]
  },
  {
   "cell_type": "markdown",
   "metadata": {},
   "source": [
    "5.3.1.1 Data Inspection\n"
   ]
  },
  {
   "cell_type": "markdown",
   "metadata": {},
   "source": [
    "![Data 2018 Summary Image](Images\\2018DataWrangler1.png)\n"
   ]
  },
  {
   "cell_type": "code",
   "execution_count": 10,
   "metadata": {},
   "outputs": [
    {
     "name": "stdout",
     "output_type": "stream",
     "text": [
      "<class 'pandas.core.frame.DataFrame'>\n",
      "RangeIndex: 526 entries, 0 to 525\n",
      "Data columns (total 6 columns):\n",
      " #   Column         Non-Null Count  Dtype \n",
      "---  ------         --------------  ----- \n",
      " 0   Company Name   526 non-null    object\n",
      " 1   Industry       526 non-null    object\n",
      " 2   Round/Series   526 non-null    object\n",
      " 3   Amount         526 non-null    object\n",
      " 4   Location       526 non-null    object\n",
      " 5   About Company  526 non-null    object\n",
      "dtypes: object(6)\n",
      "memory usage: 24.8+ KB\n"
     ]
    }
   ],
   "source": [
    "data_2018.info()"
   ]
  },
  {
   "cell_type": "markdown",
   "metadata": {},
   "source": [
    "Statistics summary of 2018 data\n"
   ]
  },
  {
   "cell_type": "code",
   "execution_count": 11,
   "metadata": {},
   "outputs": [
    {
     "data": {
      "text/html": [
       "<div>\n",
       "<style scoped>\n",
       "    .dataframe tbody tr th:only-of-type {\n",
       "        vertical-align: middle;\n",
       "    }\n",
       "\n",
       "    .dataframe tbody tr th {\n",
       "        vertical-align: top;\n",
       "    }\n",
       "\n",
       "    .dataframe thead th {\n",
       "        text-align: right;\n",
       "    }\n",
       "</style>\n",
       "<table border=\"1\" class=\"dataframe\">\n",
       "  <thead>\n",
       "    <tr style=\"text-align: right;\">\n",
       "      <th></th>\n",
       "      <th>count</th>\n",
       "      <th>unique</th>\n",
       "      <th>top</th>\n",
       "      <th>freq</th>\n",
       "    </tr>\n",
       "  </thead>\n",
       "  <tbody>\n",
       "    <tr>\n",
       "      <th>Company Name</th>\n",
       "      <td>526</td>\n",
       "      <td>525</td>\n",
       "      <td>TheCollegeFever</td>\n",
       "      <td>2</td>\n",
       "    </tr>\n",
       "    <tr>\n",
       "      <th>Industry</th>\n",
       "      <td>526</td>\n",
       "      <td>405</td>\n",
       "      <td>—</td>\n",
       "      <td>30</td>\n",
       "    </tr>\n",
       "    <tr>\n",
       "      <th>Round/Series</th>\n",
       "      <td>526</td>\n",
       "      <td>21</td>\n",
       "      <td>Seed</td>\n",
       "      <td>280</td>\n",
       "    </tr>\n",
       "    <tr>\n",
       "      <th>Amount</th>\n",
       "      <td>526</td>\n",
       "      <td>198</td>\n",
       "      <td>—</td>\n",
       "      <td>148</td>\n",
       "    </tr>\n",
       "    <tr>\n",
       "      <th>Location</th>\n",
       "      <td>526</td>\n",
       "      <td>50</td>\n",
       "      <td>Bangalore, Karnataka, India</td>\n",
       "      <td>102</td>\n",
       "    </tr>\n",
       "    <tr>\n",
       "      <th>About Company</th>\n",
       "      <td>526</td>\n",
       "      <td>524</td>\n",
       "      <td>TheCollegeFever is a hub for fun, fiesta and f...</td>\n",
       "      <td>2</td>\n",
       "    </tr>\n",
       "  </tbody>\n",
       "</table>\n",
       "</div>"
      ],
      "text/plain": [
       "              count unique                                                top  \\\n",
       "Company Name    526    525                                    TheCollegeFever   \n",
       "Industry        526    405                                                  —   \n",
       "Round/Series    526     21                                               Seed   \n",
       "Amount          526    198                                                  —   \n",
       "Location        526     50                        Bangalore, Karnataka, India   \n",
       "About Company   526    524  TheCollegeFever is a hub for fun, fiesta and f...   \n",
       "\n",
       "              freq  \n",
       "Company Name     2  \n",
       "Industry        30  \n",
       "Round/Series   280  \n",
       "Amount         148  \n",
       "Location       102  \n",
       "About Company    2  "
      ]
     },
     "execution_count": 11,
     "metadata": {},
     "output_type": "execute_result"
    }
   ],
   "source": [
    "data_2018.describe().T"
   ]
  },
  {
   "cell_type": "markdown",
   "metadata": {},
   "source": [
    "From the result summary\n",
    "\n",
    "- 2018 Data has no Missing values\n"
   ]
  },
  {
   "cell_type": "markdown",
   "metadata": {},
   "source": [
    "5.3.1.2 Handling Missing values\n"
   ]
  },
  {
   "cell_type": "markdown",
   "metadata": {},
   "source": [
    "start by checking Unique values in each column\n"
   ]
  },
  {
   "cell_type": "code",
   "execution_count": 12,
   "metadata": {},
   "outputs": [],
   "source": [
    "def uniqueValue(column): #Industry, Round/Series,Amount, Location and Amount\n",
    "    return data_2018[column].value_counts()    "
   ]
  },
  {
   "cell_type": "code",
   "execution_count": 13,
   "metadata": {},
   "outputs": [
    {
     "data": {
      "text/plain": [
       "Industry\n",
       "—                                              30\n",
       "Financial Services                             15\n",
       "Education                                       8\n",
       "Information Technology                          7\n",
       "Health Care, Hospital                           5\n",
       "                                               ..\n",
       "Education, Gaming, Training                     1\n",
       "Automotive, Search Engine, Service Industry     1\n",
       "Wealth Management                               1\n",
       "B2B, Farming, Marketplace                       1\n",
       "Biotechnology, Health Care, Pharmaceutical      1\n",
       "Name: count, Length: 405, dtype: int64"
      ]
     },
     "execution_count": 13,
     "metadata": {},
     "output_type": "execute_result"
    }
   ],
   "source": [
    "#Industry\n",
    "uniqueValue(\"Industry\")"
   ]
  },
  {
   "cell_type": "code",
   "execution_count": 14,
   "metadata": {},
   "outputs": [
    {
     "data": {
      "text/plain": [
       "Round/Series\n",
       "Seed                                                                                                       280\n",
       "Series A                                                                                                    73\n",
       "Angel                                                                                                       37\n",
       "Venture - Series Unknown                                                                                    37\n",
       "Series B                                                                                                    20\n",
       "Series C                                                                                                    16\n",
       "Debt Financing                                                                                              13\n",
       "Private Equity                                                                                              10\n",
       "Corporate Round                                                                                              8\n",
       "Pre-Seed                                                                                                     6\n",
       "Series E                                                                                                     5\n",
       "Grant                                                                                                        4\n",
       "Series D                                                                                                     3\n",
       "Secondary Market                                                                                             3\n",
       "Post-IPO Equity                                                                                              3\n",
       "Undisclosed                                                                                                  2\n",
       "Post-IPO Debt                                                                                                2\n",
       "Non-equity Assistance                                                                                        1\n",
       "Series H                                                                                                     1\n",
       "https://docs.google.com/spreadsheets/d/1x9ziNeaz6auNChIHnMI8U6kS7knTr3byy_YBGfQaoUA/edit#gid=1861303593      1\n",
       "Funding Round                                                                                                1\n",
       "Name: count, dtype: int64"
      ]
     },
     "execution_count": 14,
     "metadata": {},
     "output_type": "execute_result"
    }
   ],
   "source": [
    "uniqueValue(\"Round/Series\")"
   ]
  },
  {
   "cell_type": "code",
   "execution_count": 15,
   "metadata": {},
   "outputs": [
    {
     "data": {
      "text/plain": [
       "Amount\n",
       "—              148\n",
       "1000000         24\n",
       "500000          13\n",
       "2000000         12\n",
       "₹50,000,000      9\n",
       "              ... \n",
       "2200000          1\n",
       "1200000          1\n",
       "$15,000          1\n",
       "$1,041,000       1\n",
       "35000000         1\n",
       "Name: count, Length: 198, dtype: int64"
      ]
     },
     "execution_count": 15,
     "metadata": {},
     "output_type": "execute_result"
    }
   ],
   "source": [
    "uniqueValue(\"Amount\")"
   ]
  },
  {
   "cell_type": "markdown",
   "metadata": {},
   "source": [
    "From this information we ave to assume that\n",
    "\n",
    "- the amount with not current as USD Amount\n"
   ]
  },
  {
   "cell_type": "code",
   "execution_count": 16,
   "metadata": {},
   "outputs": [
    {
     "data": {
      "text/plain": [
       "Location\n",
       "Bangalore, Karnataka, India         102\n",
       "Mumbai, Maharashtra, India           94\n",
       "Bengaluru, Karnataka, India          55\n",
       "Gurgaon, Haryana, India              52\n",
       "New Delhi, Delhi, India              51\n",
       "Pune, Maharashtra, India             20\n",
       "Chennai, Tamil Nadu, India           19\n",
       "Hyderabad, Andhra Pradesh, India     18\n",
       "Delhi, Delhi, India                  16\n",
       "Noida, Uttar Pradesh, India          15\n",
       "Haryana, Haryana, India              11\n",
       "Jaipur, Rajasthan, India              9\n",
       "Ahmedabad, Gujarat, India             6\n",
       "Kolkata, West Bengal, India           6\n",
       "Bangalore City, Karnataka, India      5\n",
       "Indore, Madhya Pradesh, India         4\n",
       "India, Asia                           4\n",
       "Kormangala, Karnataka, India          3\n",
       "Ghaziabad, Uttar Pradesh, India       2\n",
       "Kochi, Kerala, India                  2\n",
       "Bhopal, Madhya Pradesh, India         2\n",
       "Thane, Maharashtra, India             2\n",
       "Jodhpur, Rajasthan, India             1\n",
       "Powai, Assam, India                   1\n",
       "Andheri, Maharashtra, India           1\n",
       "Mylapore, Tamil Nadu, India           1\n",
       "Kalpakkam, Tamil Nadu, India          1\n",
       "Guntur, Andhra Pradesh, India         1\n",
       "Coimbatore, Tamil Nadu, India         1\n",
       "Worli, Maharashtra, India             1\n",
       "Alleppey, Kerala, India               1\n",
       "Chandigarh, Chandigarh, India         1\n",
       "Guindy, Tamil Nadu, India             1\n",
       "Uttar Pradesh, India, Asia            1\n",
       "Trivandrum, Kerala, India             1\n",
       "Ernakulam, Kerala, India              1\n",
       "Kanpur, Uttar Pradesh, India          1\n",
       "Kannur, Kerala, India                 1\n",
       "Alwar, Rajasthan, India               1\n",
       "Margão, Goa, India                    1\n",
       "Belgaum, Karnataka, India             1\n",
       "Kalkaji, Delhi, India                 1\n",
       "Anand, Gujarat, India                 1\n",
       "Kota, Rajasthan, India                1\n",
       "Faridabad, Haryana, India             1\n",
       "Cochin, Kerala, India                 1\n",
       "Hubli, Karnataka, India               1\n",
       "Azadpur, Delhi, India                 1\n",
       "Mohali, Punjab, India                 1\n",
       "Lucknow, Uttar Pradesh, India         1\n",
       "Name: count, dtype: int64"
      ]
     },
     "execution_count": 16,
     "metadata": {},
     "output_type": "execute_result"
    }
   ],
   "source": [
    "uniqueValue(\"Location\")"
   ]
  },
  {
   "cell_type": "markdown",
   "metadata": {},
   "source": [
    "Issue Identified in Data 2018\n",
    "\n",
    "- **Amount Column** has more that one currency and some has No currency\n",
    "- **Industry column** has not containd more indust per a company\n"
   ]
  },
  {
   "cell_type": "markdown",
   "metadata": {},
   "source": [
    "5.3.1.3 Data cleaning\n"
   ]
  },
  {
   "cell_type": "markdown",
   "metadata": {},
   "source": [
    "    Check Duplications\n"
   ]
  },
  {
   "cell_type": "code",
   "execution_count": 17,
   "metadata": {},
   "outputs": [
    {
     "data": {
      "text/plain": [
       "False    525\n",
       "True       1\n",
       "Name: count, dtype: int64"
      ]
     },
     "execution_count": 17,
     "metadata": {},
     "output_type": "execute_result"
    }
   ],
   "source": [
    "\n",
    "data_2018.duplicated().value_counts()"
   ]
  },
  {
   "cell_type": "markdown",
   "metadata": {},
   "source": [
    "Duplications\n"
   ]
  },
  {
   "cell_type": "code",
   "execution_count": 18,
   "metadata": {},
   "outputs": [
    {
     "data": {
      "text/html": [
       "<div>\n",
       "<style scoped>\n",
       "    .dataframe tbody tr th:only-of-type {\n",
       "        vertical-align: middle;\n",
       "    }\n",
       "\n",
       "    .dataframe tbody tr th {\n",
       "        vertical-align: top;\n",
       "    }\n",
       "\n",
       "    .dataframe thead th {\n",
       "        text-align: right;\n",
       "    }\n",
       "</style>\n",
       "<table border=\"1\" class=\"dataframe\">\n",
       "  <thead>\n",
       "    <tr style=\"text-align: right;\">\n",
       "      <th></th>\n",
       "      <th>Company Name</th>\n",
       "      <th>Industry</th>\n",
       "      <th>Round/Series</th>\n",
       "      <th>Amount</th>\n",
       "      <th>Location</th>\n",
       "      <th>About Company</th>\n",
       "    </tr>\n",
       "  </thead>\n",
       "  <tbody>\n",
       "    <tr>\n",
       "      <th>0</th>\n",
       "      <td>TheCollegeFever</td>\n",
       "      <td>Brand Marketing, Event Promotion, Marketing, S...</td>\n",
       "      <td>Seed</td>\n",
       "      <td>250000</td>\n",
       "      <td>Bangalore, Karnataka, India</td>\n",
       "      <td>TheCollegeFever is a hub for fun, fiesta and f...</td>\n",
       "    </tr>\n",
       "    <tr>\n",
       "      <th>348</th>\n",
       "      <td>TheCollegeFever</td>\n",
       "      <td>Brand Marketing, Event Promotion, Marketing, S...</td>\n",
       "      <td>Seed</td>\n",
       "      <td>250000</td>\n",
       "      <td>Bangalore, Karnataka, India</td>\n",
       "      <td>TheCollegeFever is a hub for fun, fiesta and f...</td>\n",
       "    </tr>\n",
       "  </tbody>\n",
       "</table>\n",
       "</div>"
      ],
      "text/plain": [
       "        Company Name                                           Industry  \\\n",
       "0    TheCollegeFever  Brand Marketing, Event Promotion, Marketing, S...   \n",
       "348  TheCollegeFever  Brand Marketing, Event Promotion, Marketing, S...   \n",
       "\n",
       "    Round/Series  Amount                     Location  \\\n",
       "0           Seed  250000  Bangalore, Karnataka, India   \n",
       "348         Seed  250000  Bangalore, Karnataka, India   \n",
       "\n",
       "                                         About Company  \n",
       "0    TheCollegeFever is a hub for fun, fiesta and f...  \n",
       "348  TheCollegeFever is a hub for fun, fiesta and f...  "
      ]
     },
     "execution_count": 18,
     "metadata": {},
     "output_type": "execute_result"
    }
   ],
   "source": [
    "data_2018[data_2018.duplicated(keep=False)]"
   ]
  },
  {
   "cell_type": "markdown",
   "metadata": {},
   "source": [
    "Dropping data duplicate\n"
   ]
  },
  {
   "cell_type": "code",
   "execution_count": 19,
   "metadata": {},
   "outputs": [],
   "source": [
    "# Drop 2018 data duplicates\n",
    "data_2018 = data_2018.drop_duplicates()"
   ]
  },
  {
   "cell_type": "code",
   "execution_count": 20,
   "metadata": {},
   "outputs": [
    {
     "data": {
      "text/plain": [
       "False    525\n",
       "Name: count, dtype: int64"
      ]
     },
     "execution_count": 20,
     "metadata": {},
     "output_type": "execute_result"
    }
   ],
   "source": [
    "# double check the doublicates again \n",
    "data_2018.duplicated().value_counts()"
   ]
  },
  {
   "cell_type": "markdown",
   "metadata": {},
   "source": [
    "No duplicate anymore in data 2018\n"
   ]
  },
  {
   "cell_type": "markdown",
   "metadata": {},
   "source": [
    "Columns Data types\n"
   ]
  },
  {
   "cell_type": "markdown",
   "metadata": {},
   "source": [
    "The `Amount` column is currently classified as a string data type, but it should be represented as an integer. Several issues in this column need to be addressed:\n",
    "\n",
    "- **Character Removal:** The presence of `,`, `$`, and `₹` characters must be eliminated.\n",
    "- **Null Values:** The `_` characters, indicating null values, need to be handled appropriately.\n",
    "- **Currency Standardization:** Amounts in Indian Rupees will be converted to US Dollars to maintain a consistent currency standard.we need ti use our assumption 1 USD = 70rupee based on avarege exchange rate of 2018\n",
    "- **Data Type Conversion:** Finally, the `Amount` column will be converted to a numeric data type.\n"
   ]
  },
  {
   "cell_type": "code",
   "execution_count": 21,
   "metadata": {},
   "outputs": [
    {
     "data": {
      "text/plain": [
       "0        250000\n",
       "1     ₹40000000\n",
       "2     ₹65000000\n",
       "3       2000000\n",
       "4             —\n",
       "5       1600000\n",
       "6     ₹16000000\n",
       "7     ₹50000000\n",
       "8             —\n",
       "9             —\n",
       "10            —\n",
       "11            —\n",
       "12            —\n",
       "13            —\n",
       "14            —\n",
       "Name: Amount, dtype: object"
      ]
     },
     "execution_count": 21,
     "metadata": {},
     "output_type": "execute_result"
    }
   ],
   "source": [
    "# Remove ',' in amount\n",
    "data_2018['Amount'].replace(',','', regex=True, inplace=True)\n",
    "data_2018['Amount'].head(15)"
   ]
  },
  {
   "cell_type": "code",
   "execution_count": 22,
   "metadata": {},
   "outputs": [],
   "source": [
    "# A function to convert amount to $ and clean the amount column\n",
    "def convert_to_usd(amount):\n",
    "    exchange_rate = 68.4  # Average exchange rate in 2018 to USD: 68.4113 INR.[https://www.exchangerates.org.uk/USD-INR-spot-exchange-rates-history-2018.html]\n",
    "\n",
    "    if '₹' in str(amount):  #  if  amount is in INR\n",
    "        amount = (str(amount).replace('₹', ''))  \n",
    "\n",
    "        return pd.to_numeric(amount, errors='coerce' )/ exchange_rate\n",
    "\n",
    "    elif '$' in str(amount):\n",
    "\n",
    "        return  amount.replace('$','')\n",
    "\n",
    "    elif \"—\" in str(amount):\n",
    "\n",
    "        return None  \n",
    "    else:\n",
    "        return (amount)\n",
    "\n",
    "pd.set_option('display.float_format', '{:.1f}'.format)\n",
    "# Apply the conversion function to the 'Amount' column\n",
    "data_2018[\"Amount\"] = data_2018[\"Amount\"].apply(convert_to_usd)\n",
    "\n"
   ]
  },
  {
   "cell_type": "code",
   "execution_count": 23,
   "metadata": {},
   "outputs": [
    {
     "data": {
      "text/plain": [
       "dtype('float64')"
      ]
     },
     "execution_count": 23,
     "metadata": {},
     "output_type": "execute_result"
    }
   ],
   "source": [
    "data_2018[\"Amount\"]=data_2018[\"Amount\"].astype(float)\n",
    "data_2018[\"Amount\"].dtype"
   ]
  },
  {
   "cell_type": "code",
   "execution_count": 24,
   "metadata": {},
   "outputs": [
    {
     "data": {
      "text/plain": [
       "0     250000.0\n",
       "1     571428.6\n",
       "2     928571.4\n",
       "3    2000000.0\n",
       "4          NaN\n",
       "5    1600000.0\n",
       "6     228571.4\n",
       "7     714285.7\n",
       "8          NaN\n",
       "9          NaN\n",
       "10         NaN\n",
       "11         NaN\n",
       "12         NaN\n",
       "13         NaN\n",
       "14         NaN\n",
       "Name: Amount, dtype: float64"
      ]
     },
     "execution_count": 24,
     "metadata": {},
     "output_type": "execute_result"
    }
   ],
   "source": [
    "data_2018[\"Amount\"].head(15)\n"
   ]
  },
  {
   "cell_type": "markdown",
   "metadata": {},
   "source": [
    "Based on other data across other 3 datasets which will later make merging easier, `Location` and `Industry` columns will only remain with the first word.\n"
   ]
  },
  {
   "cell_type": "code",
   "execution_count": 25,
   "metadata": {},
   "outputs": [
    {
     "data": {
      "text/plain": [
       "0         Bangalore, Karnataka, India\n",
       "1          Mumbai, Maharashtra, India\n",
       "2             Gurgaon, Haryana, India\n",
       "3         Noida, Uttar Pradesh, India\n",
       "4    Hyderabad, Andhra Pradesh, India\n",
       "5         Bengaluru, Karnataka, India\n",
       "6               Kalkaji, Delhi, India\n",
       "7    Hyderabad, Andhra Pradesh, India\n",
       "8          Mumbai, Maharashtra, India\n",
       "9         Bangalore, Karnataka, India\n",
       "Name: Location, dtype: object"
      ]
     },
     "execution_count": 25,
     "metadata": {},
     "output_type": "execute_result"
    }
   ],
   "source": [
    "data_2018[\"Location\"].head(10)"
   ]
  },
  {
   "cell_type": "code",
   "execution_count": 26,
   "metadata": {},
   "outputs": [
    {
     "data": {
      "text/plain": [
       "0    Bangalore\n",
       "1       Mumbai\n",
       "2      Gurgaon\n",
       "3        Noida\n",
       "4    Hyderabad\n",
       "5    Bengaluru\n",
       "6      Kalkaji\n",
       "7    Hyderabad\n",
       "8       Mumbai\n",
       "9    Bangalore\n",
       "Name: Location, dtype: object"
      ]
     },
     "execution_count": 26,
     "metadata": {},
     "output_type": "execute_result"
    }
   ],
   "source": [
    "data_2018[\"Location\"] = data_2018[\"Location\"].map(lambda x: x.split(',')[0])\n",
    "data_2018[\"Location\"].head(10)\n"
   ]
  },
  {
   "cell_type": "code",
   "execution_count": 27,
   "metadata": {},
   "outputs": [
    {
     "data": {
      "text/plain": [
       "0    Brand Marketing, Event Promotion, Marketing, S...\n",
       "1                                 Agriculture, Farming\n",
       "2     Credit, Financial Services, Lending, Marketplace\n",
       "3                          Financial Services, FinTech\n",
       "4                   E-Commerce Platforms, Retail, SaaS\n",
       "5                     Cloud Infrastructure, PaaS, SaaS\n",
       "6                       Internet, Leisure, Marketplace\n",
       "7                                      Market Research\n",
       "8         Information Services, Information Technology\n",
       "9                                      Mobile Payments\n",
       "Name: Industry, dtype: object"
      ]
     },
     "execution_count": 27,
     "metadata": {},
     "output_type": "execute_result"
    }
   ],
   "source": [
    "data_2018[\"Industry\"].head(10)"
   ]
  },
  {
   "cell_type": "code",
   "execution_count": 35,
   "metadata": {},
   "outputs": [
    {
     "data": {
      "text/plain": [
       "['Brand Marketing',\n",
       " 'Agriculture',\n",
       " 'Credit',\n",
       " 'Financial Services',\n",
       " 'E-Commerce Platforms',\n",
       " 'Cloud Infrastructure',\n",
       " 'Internet',\n",
       " 'Market Research',\n",
       " 'Information Services',\n",
       " 'Mobile Payments',\n",
       " 'B2B',\n",
       " 'Apps',\n",
       " 'Food Delivery',\n",
       " 'Industrial Automation',\n",
       " 'Automotive',\n",
       " 'Finance',\n",
       " 'Accounting',\n",
       " 'Artificial Intelligence',\n",
       " 'Internet of Things',\n",
       " 'Air Transportation',\n",
       " 'Food and Beverage',\n",
       " 'Autonomous Vehicles',\n",
       " 'Enterprise Software',\n",
       " 'Logistics',\n",
       " 'Insurance',\n",
       " 'Information Technology',\n",
       " 'Blockchain',\n",
       " 'Education',\n",
       " 'E-Commerce',\n",
       " 'Renewable Energy',\n",
       " 'E-Learning',\n",
       " 'Clean Energy',\n",
       " 'Transportation',\n",
       " 'Fitness',\n",
       " 'Hospitality',\n",
       " 'Media and Entertainment',\n",
       " 'Broadcasting',\n",
       " 'EdTech',\n",
       " 'Health Care',\n",
       " '—',\n",
       " 'Sports',\n",
       " 'Big Data',\n",
       " 'Cloud Computing',\n",
       " 'Food Processing',\n",
       " 'Trading Platform',\n",
       " 'Consumer Goods',\n",
       " 'Wellness',\n",
       " 'Fashion',\n",
       " 'Consulting',\n",
       " 'Biotechnology',\n",
       " 'Communities',\n",
       " 'Consumer',\n",
       " 'Consumer Applications',\n",
       " 'Mobile',\n",
       " 'Advertising',\n",
       " 'Marketplace',\n",
       " 'Aerospace',\n",
       " 'Home Decor',\n",
       " 'Energy',\n",
       " 'Digital Marketing',\n",
       " 'Creative Agency',\n",
       " 'Consumer Lending',\n",
       " 'Health Diagnostics',\n",
       " 'Banking',\n",
       " 'Embedded Systems',\n",
       " 'Beauty',\n",
       " 'AgTech',\n",
       " 'Credit Cards',\n",
       " 'Software',\n",
       " 'Manufacturing',\n",
       " 'Hospital',\n",
       " 'Events',\n",
       " '3D Printing',\n",
       " 'Digital Entertainment',\n",
       " 'Funding Platform',\n",
       " 'Classifieds',\n",
       " 'Enterprise Resource Planning (ERP)',\n",
       " 'Audio',\n",
       " 'Government',\n",
       " 'Digital Media',\n",
       " 'Business Intelligence',\n",
       " 'Children',\n",
       " 'Rental',\n",
       " 'Travel',\n",
       " 'Wealth Management',\n",
       " 'Veterinary',\n",
       " 'Tourism',\n",
       " 'Consumer Electronics',\n",
       " 'Analytics',\n",
       " 'Facilities Support Services',\n",
       " 'Medical',\n",
       " 'Music Streaming',\n",
       " 'Retail',\n",
       " 'Business Development',\n",
       " 'Human Resources',\n",
       " 'Customer Service',\n",
       " 'Training',\n",
       " 'Dietary Supplements',\n",
       " 'Collaboration',\n",
       " 'Nanotechnology',\n",
       " 'File Sharing',\n",
       " 'Crowdfunding',\n",
       " 'Catering',\n",
       " 'Computer',\n",
       " 'Android',\n",
       " 'Delivery',\n",
       " 'Environmental Consulting',\n",
       " 'Commercial Real Estate',\n",
       " 'Delivery Service',\n",
       " 'Basketball',\n",
       " 'Fraud Detection',\n",
       " 'Cryptocurrency',\n",
       " 'Wedding',\n",
       " 'Crowdsourcing',\n",
       " 'Farming',\n",
       " 'Business Travel',\n",
       " 'Career Planning',\n",
       " 'Medical Device',\n",
       " 'Alternative Medicine',\n",
       " 'Dental',\n",
       " 'CleanTech',\n",
       " 'Marketing',\n",
       " 'Commercial',\n",
       " 'Continuing Education',\n",
       " 'Smart Cities',\n",
       " 'Social Media',\n",
       " 'Biopharma',\n",
       " 'Child Care',\n",
       " 'Health Insurance',\n",
       " 'Gaming',\n",
       " 'Search Engine',\n",
       " 'Battery',\n",
       " 'Cosmetics',\n",
       " 'eSports',\n",
       " 'Reading Apps',\n",
       " 'Electric Vehicle',\n",
       " 'Packaging Services',\n",
       " 'Last Mile Transportation',\n",
       " 'Cooking',\n",
       " 'FinTech',\n",
       " 'Online Games',\n",
       " 'Online Portals',\n",
       " 'Music',\n",
       " 'News',\n",
       " 'Industrial',\n",
       " 'Dating',\n",
       " 'Fantasy Sports',\n",
       " 'Eyewear']"
      ]
     },
     "execution_count": 35,
     "metadata": {},
     "output_type": "execute_result"
    }
   ],
   "source": [
    "data_2018[\"Industry\"] = data_2018[\"Industry\"].map(lambda x: str(x).split(',')[0].strip() if pd.notnull(x) else x)\n",
    "\n",
    "data_2018[\"Industry\"].unique().tolist()"
   ]
  },
  {
   "cell_type": "markdown",
   "metadata": {},
   "source": [
    "From the Unique values, there is a `_` value, let replace it by `Unknown` as the value are categorical data\n"
   ]
  },
  {
   "cell_type": "code",
   "execution_count": 37,
   "metadata": {},
   "outputs": [],
   "source": [
    "data_2018[\"Industry\"]=data_2018[\"Industry\"].replace('—', \"Unknown\", regex=True)"
   ]
  },
  {
   "cell_type": "markdown",
   "metadata": {},
   "source": [
    "handle missing value\n"
   ]
  },
  {
   "cell_type": "code",
   "execution_count": 31,
   "metadata": {},
   "outputs": [
    {
     "data": {
      "text/plain": [
       "Company Name       0\n",
       "Industry           0\n",
       "Round/Series       0\n",
       "Amount           148\n",
       "Location           0\n",
       "About Company      0\n",
       "dtype: int64"
      ]
     },
     "execution_count": 31,
     "metadata": {},
     "output_type": "execute_result"
    }
   ],
   "source": [
    "data_2018.isnull().sum()"
   ]
  },
  {
   "cell_type": "markdown",
   "metadata": {},
   "source": [
    "Missig value of 28% in column amount is a significant portion, let ` imputing with the median` which a practical approach that prevents data loss while providing a reasonable estimate.\n"
   ]
  },
  {
   "cell_type": "code",
   "execution_count": 38,
   "metadata": {},
   "outputs": [
    {
     "data": {
      "text/plain": [
       "count          377.0\n",
       "mean      17545908.1\n",
       "std       77875226.2\n",
       "min            857.1\n",
       "25%         500000.0\n",
       "50%        1300000.0\n",
       "75%        5000000.0\n",
       "max     1000000000.0\n",
       "Name: Amount, dtype: float64"
      ]
     },
     "execution_count": 38,
     "metadata": {},
     "output_type": "execute_result"
    }
   ],
   "source": [
    "# Statistics summary\n",
    "data_2018['Amount'].describe().T"
   ]
  },
  {
   "cell_type": "code",
   "execution_count": 41,
   "metadata": {},
   "outputs": [],
   "source": [
    "# impute null value by median \n",
    "# data_2018['Amount'].fillna(data_2018['Amount'].median(), inplace=True)\n",
    "amount_invested = data_2018[\"Amount\"].values.reshape(-1,1)\n",
    "\n",
    "imputer = SimpleImputer(strategy=\"median\")\n",
    "\n",
    "data_2018[\"Amount\"] = imputer.fit_transform(amount_invested)"
   ]
  },
  {
   "cell_type": "code",
   "execution_count": 42,
   "metadata": {},
   "outputs": [
    {
     "data": {
      "text/plain": [
       "Company Name     0\n",
       "Industry         0\n",
       "Round/Series     0\n",
       "Amount           0\n",
       "Location         0\n",
       "About Company    0\n",
       "dtype: int64"
      ]
     },
     "execution_count": 42,
     "metadata": {},
     "output_type": "execute_result"
    }
   ],
   "source": [
    "data_2018.isnull().sum()"
   ]
  },
  {
   "cell_type": "markdown",
   "metadata": {},
   "source": [
    "To make merging and analysis easier, we will add a column called `Year Funded` that contains the year each startup received funding.\n"
   ]
  },
  {
   "cell_type": "code",
   "execution_count": 43,
   "metadata": {},
   "outputs": [
    {
     "data": {
      "text/html": [
       "<div>\n",
       "<style scoped>\n",
       "    .dataframe tbody tr th:only-of-type {\n",
       "        vertical-align: middle;\n",
       "    }\n",
       "\n",
       "    .dataframe tbody tr th {\n",
       "        vertical-align: top;\n",
       "    }\n",
       "\n",
       "    .dataframe thead th {\n",
       "        text-align: right;\n",
       "    }\n",
       "</style>\n",
       "<table border=\"1\" class=\"dataframe\">\n",
       "  <thead>\n",
       "    <tr style=\"text-align: right;\">\n",
       "      <th></th>\n",
       "      <th>count</th>\n",
       "      <th>mean</th>\n",
       "      <th>std</th>\n",
       "      <th>min</th>\n",
       "      <th>25%</th>\n",
       "      <th>50%</th>\n",
       "      <th>75%</th>\n",
       "      <th>max</th>\n",
       "    </tr>\n",
       "  </thead>\n",
       "  <tbody>\n",
       "    <tr>\n",
       "      <th>Amount</th>\n",
       "      <td>525.0</td>\n",
       "      <td>12966109.2</td>\n",
       "      <td>66371626.8</td>\n",
       "      <td>857.1</td>\n",
       "      <td>714285.7</td>\n",
       "      <td>1300000.0</td>\n",
       "      <td>3000000.0</td>\n",
       "      <td>1000000000.0</td>\n",
       "    </tr>\n",
       "  </tbody>\n",
       "</table>\n",
       "</div>"
      ],
      "text/plain": [
       "        count       mean        std   min      25%       50%       75%  \\\n",
       "Amount  525.0 12966109.2 66371626.8 857.1 714285.7 1300000.0 3000000.0   \n",
       "\n",
       "                max  \n",
       "Amount 1000000000.0  "
      ]
     },
     "execution_count": 43,
     "metadata": {},
     "output_type": "execute_result"
    }
   ],
   "source": [
    "data_2018.describe().T"
   ]
  },
  {
   "cell_type": "markdown",
   "metadata": {},
   "source": [
    "track the year od fundings by creating colum with 2018 as value\n"
   ]
  },
  {
   "cell_type": "code",
   "execution_count": 44,
   "metadata": {},
   "outputs": [],
   "source": [
    "data_2018['Year Funded']= 2018"
   ]
  },
  {
   "cell_type": "code",
   "execution_count": 45,
   "metadata": {},
   "outputs": [
    {
     "data": {
      "text/html": [
       "<div>\n",
       "<style scoped>\n",
       "    .dataframe tbody tr th:only-of-type {\n",
       "        vertical-align: middle;\n",
       "    }\n",
       "\n",
       "    .dataframe tbody tr th {\n",
       "        vertical-align: top;\n",
       "    }\n",
       "\n",
       "    .dataframe thead th {\n",
       "        text-align: right;\n",
       "    }\n",
       "</style>\n",
       "<table border=\"1\" class=\"dataframe\">\n",
       "  <thead>\n",
       "    <tr style=\"text-align: right;\">\n",
       "      <th></th>\n",
       "      <th>Company Name</th>\n",
       "      <th>Industry</th>\n",
       "      <th>Round/Series</th>\n",
       "      <th>Amount</th>\n",
       "      <th>Location</th>\n",
       "      <th>About Company</th>\n",
       "      <th>Year Funded</th>\n",
       "    </tr>\n",
       "  </thead>\n",
       "  <tbody>\n",
       "    <tr>\n",
       "      <th>146</th>\n",
       "      <td>WheelsEMI</td>\n",
       "      <td>Unknown</td>\n",
       "      <td>Series B</td>\n",
       "      <td>14000000.0</td>\n",
       "      <td>Pune</td>\n",
       "      <td>WheelsEMI is the brand name of NBFC, WheelsEMI...</td>\n",
       "      <td>2018</td>\n",
       "    </tr>\n",
       "    <tr>\n",
       "      <th>482</th>\n",
       "      <td>ShareChat</td>\n",
       "      <td>Internet</td>\n",
       "      <td>Series C</td>\n",
       "      <td>99230000.0</td>\n",
       "      <td>Bangalore</td>\n",
       "      <td>ShareChat is a social networking and regional ...</td>\n",
       "      <td>2018</td>\n",
       "    </tr>\n",
       "    <tr>\n",
       "      <th>388</th>\n",
       "      <td>Perpule</td>\n",
       "      <td>Apps</td>\n",
       "      <td>Series A</td>\n",
       "      <td>4857142.9</td>\n",
       "      <td>Bangalore</td>\n",
       "      <td>Perpule is a self-checkout product for retail ...</td>\n",
       "      <td>2018</td>\n",
       "    </tr>\n",
       "    <tr>\n",
       "      <th>164</th>\n",
       "      <td>Classworks India</td>\n",
       "      <td>Education</td>\n",
       "      <td>Undisclosed</td>\n",
       "      <td>1428.6</td>\n",
       "      <td>Chennai</td>\n",
       "      <td>Saas, Web App, Mobile App, School Education</td>\n",
       "      <td>2018</td>\n",
       "    </tr>\n",
       "    <tr>\n",
       "      <th>418</th>\n",
       "      <td>Medimetry</td>\n",
       "      <td>Health Care</td>\n",
       "      <td>Seed</td>\n",
       "      <td>1300000.0</td>\n",
       "      <td>Haryana</td>\n",
       "      <td>MediMetry is an online platform where patients...</td>\n",
       "      <td>2018</td>\n",
       "    </tr>\n",
       "    <tr>\n",
       "      <th>181</th>\n",
       "      <td>Corefactors</td>\n",
       "      <td>Unknown</td>\n",
       "      <td>Seed</td>\n",
       "      <td>1300000.0</td>\n",
       "      <td>Bangalore</td>\n",
       "      <td>Corefactors is a leading campaign management, ...</td>\n",
       "      <td>2018</td>\n",
       "    </tr>\n",
       "    <tr>\n",
       "      <th>228</th>\n",
       "      <td>MY CHIRAAG CAB</td>\n",
       "      <td>Travel</td>\n",
       "      <td>Seed</td>\n",
       "      <td>1000000.0</td>\n",
       "      <td>Jaipur</td>\n",
       "      <td>MY CHIRAAG CAB SERVICES PVT LTD</td>\n",
       "      <td>2018</td>\n",
       "    </tr>\n",
       "    <tr>\n",
       "      <th>88</th>\n",
       "      <td>FabAlley</td>\n",
       "      <td>E-Commerce</td>\n",
       "      <td>Series B</td>\n",
       "      <td>8571428.6</td>\n",
       "      <td>Noida</td>\n",
       "      <td>FabAlley is the ultimate Indian fashion destin...</td>\n",
       "      <td>2018</td>\n",
       "    </tr>\n",
       "    <tr>\n",
       "      <th>383</th>\n",
       "      <td>Billdesk</td>\n",
       "      <td>Finance</td>\n",
       "      <td>Venture - Series Unknown</td>\n",
       "      <td>1300000.0</td>\n",
       "      <td>Ahmedabad</td>\n",
       "      <td>BillDesk, a property of IndiaIdeas.com Ltd. wa...</td>\n",
       "      <td>2018</td>\n",
       "    </tr>\n",
       "    <tr>\n",
       "      <th>358</th>\n",
       "      <td>The Souled Store</td>\n",
       "      <td>Fashion</td>\n",
       "      <td>Venture - Series Unknown</td>\n",
       "      <td>3000000.0</td>\n",
       "      <td>Mumbai</td>\n",
       "      <td>The Souled Store bring to you awesome t-shirts...</td>\n",
       "      <td>2018</td>\n",
       "    </tr>\n",
       "    <tr>\n",
       "      <th>83</th>\n",
       "      <td>Carmesi</td>\n",
       "      <td>Health Care</td>\n",
       "      <td>Seed</td>\n",
       "      <td>485714.3</td>\n",
       "      <td>Gurgaon</td>\n",
       "      <td>Carmesi is a brand of high-end menstrual-hygie...</td>\n",
       "      <td>2018</td>\n",
       "    </tr>\n",
       "    <tr>\n",
       "      <th>151</th>\n",
       "      <td>LearnApp</td>\n",
       "      <td>Banking</td>\n",
       "      <td>Seed</td>\n",
       "      <td>285714.3</td>\n",
       "      <td>Noida</td>\n",
       "      <td>Learnapp.co - Video courses &amp; live classes in ...</td>\n",
       "      <td>2018</td>\n",
       "    </tr>\n",
       "    <tr>\n",
       "      <th>305</th>\n",
       "      <td>Tripeur</td>\n",
       "      <td>Information Technology</td>\n",
       "      <td>Seed</td>\n",
       "      <td>600000.0</td>\n",
       "      <td>Bengaluru</td>\n",
       "      <td>Radical Travel Automation - Cloud Based Corpor...</td>\n",
       "      <td>2018</td>\n",
       "    </tr>\n",
       "    <tr>\n",
       "      <th>293</th>\n",
       "      <td>Carmel Organics</td>\n",
       "      <td>Agriculture</td>\n",
       "      <td>Series A</td>\n",
       "      <td>1300000.0</td>\n",
       "      <td>Indore</td>\n",
       "      <td>Carmel Organics is an India-based herb company...</td>\n",
       "      <td>2018</td>\n",
       "    </tr>\n",
       "    <tr>\n",
       "      <th>428</th>\n",
       "      <td>Mynvax</td>\n",
       "      <td>Biotechnology</td>\n",
       "      <td>Angel</td>\n",
       "      <td>1300000.0</td>\n",
       "      <td>Bangalore</td>\n",
       "      <td>Mynvax is a biotech Company.</td>\n",
       "      <td>2018</td>\n",
       "    </tr>\n",
       "  </tbody>\n",
       "</table>\n",
       "</div>"
      ],
      "text/plain": [
       "         Company Name                Industry              Round/Series  \\\n",
       "146         WheelsEMI                 Unknown                  Series B   \n",
       "482         ShareChat                Internet                  Series C   \n",
       "388           Perpule                    Apps                  Series A   \n",
       "164  Classworks India               Education               Undisclosed   \n",
       "418         Medimetry             Health Care                      Seed   \n",
       "181       Corefactors                 Unknown                      Seed   \n",
       "228    MY CHIRAAG CAB                  Travel                      Seed   \n",
       "88           FabAlley              E-Commerce                  Series B   \n",
       "383          Billdesk                 Finance  Venture - Series Unknown   \n",
       "358  The Souled Store                 Fashion  Venture - Series Unknown   \n",
       "83            Carmesi             Health Care                      Seed   \n",
       "151          LearnApp                 Banking                      Seed   \n",
       "305           Tripeur  Information Technology                      Seed   \n",
       "293   Carmel Organics             Agriculture                  Series A   \n",
       "428            Mynvax           Biotechnology                     Angel   \n",
       "\n",
       "        Amount   Location                                      About Company  \\\n",
       "146 14000000.0       Pune  WheelsEMI is the brand name of NBFC, WheelsEMI...   \n",
       "482 99230000.0  Bangalore  ShareChat is a social networking and regional ...   \n",
       "388  4857142.9  Bangalore  Perpule is a self-checkout product for retail ...   \n",
       "164     1428.6    Chennai        Saas, Web App, Mobile App, School Education   \n",
       "418  1300000.0    Haryana  MediMetry is an online platform where patients...   \n",
       "181  1300000.0  Bangalore  Corefactors is a leading campaign management, ...   \n",
       "228  1000000.0     Jaipur                    MY CHIRAAG CAB SERVICES PVT LTD   \n",
       "88   8571428.6      Noida  FabAlley is the ultimate Indian fashion destin...   \n",
       "383  1300000.0  Ahmedabad  BillDesk, a property of IndiaIdeas.com Ltd. wa...   \n",
       "358  3000000.0     Mumbai  The Souled Store bring to you awesome t-shirts...   \n",
       "83    485714.3    Gurgaon  Carmesi is a brand of high-end menstrual-hygie...   \n",
       "151   285714.3      Noida  Learnapp.co - Video courses & live classes in ...   \n",
       "305   600000.0  Bengaluru  Radical Travel Automation - Cloud Based Corpor...   \n",
       "293  1300000.0     Indore  Carmel Organics is an India-based herb company...   \n",
       "428  1300000.0  Bangalore                       Mynvax is a biotech Company.   \n",
       "\n",
       "     Year Funded  \n",
       "146         2018  \n",
       "482         2018  \n",
       "388         2018  \n",
       "164         2018  \n",
       "418         2018  \n",
       "181         2018  \n",
       "228         2018  \n",
       "88          2018  \n",
       "383         2018  \n",
       "358         2018  \n",
       "83          2018  \n",
       "151         2018  \n",
       "305         2018  \n",
       "293         2018  \n",
       "428         2018  "
      ]
     },
     "execution_count": 45,
     "metadata": {},
     "output_type": "execute_result"
    }
   ],
   "source": [
    "data_2018.sample(15)"
   ]
  },
  {
   "cell_type": "markdown",
   "metadata": {},
   "source": [
    "Data Summary after cleaning\n"
   ]
  },
  {
   "cell_type": "markdown",
   "metadata": {},
   "source": [
    "![Data 2018 Summary Image](Images\\2018DataWrangler2.png)\n"
   ]
  },
  {
   "cell_type": "markdown",
   "metadata": {},
   "source": [
    "    5.3.2 2019 Data\n"
   ]
  },
  {
   "cell_type": "markdown",
   "metadata": {},
   "source": [
    "![Data 2018 Summary Image](Images\\2019beforeCleaning.png)\n"
   ]
  },
  {
   "cell_type": "markdown",
   "metadata": {},
   "source": [
    "5.3.2.1 Data Inspection\n"
   ]
  },
  {
   "cell_type": "code",
   "execution_count": 46,
   "metadata": {},
   "outputs": [
    {
     "name": "stdout",
     "output_type": "stream",
     "text": [
      "<class 'pandas.core.frame.DataFrame'>\n",
      "RangeIndex: 89 entries, 0 to 88\n",
      "Data columns (total 9 columns):\n",
      " #   Column         Non-Null Count  Dtype  \n",
      "---  ------         --------------  -----  \n",
      " 0   Company/Brand  89 non-null     object \n",
      " 1   Founded        60 non-null     float64\n",
      " 2   HeadQuarter    70 non-null     object \n",
      " 3   Sector         84 non-null     object \n",
      " 4   What it does   89 non-null     object \n",
      " 5   Founders       86 non-null     object \n",
      " 6   Investor       89 non-null     object \n",
      " 7   Amount($)      89 non-null     object \n",
      " 8   Stage          43 non-null     object \n",
      "dtypes: float64(1), object(8)\n",
      "memory usage: 6.4+ KB\n"
     ]
    }
   ],
   "source": [
    "data_2019.info()"
   ]
  },
  {
   "cell_type": "markdown",
   "metadata": {},
   "source": [
    "Data Summary before data cleaning\n"
   ]
  },
  {
   "cell_type": "markdown",
   "metadata": {},
   "source": [
    "![Data 2019 Summary Image](Images/Data%202019Summary%20with%20Data%20Wrangler.png)\n"
   ]
  },
  {
   "cell_type": "markdown",
   "metadata": {},
   "source": [
    "Insight from above\n",
    "\n",
    "- We have 87 Unique companies\n",
    "- Most columns are string data type excpt Founded column\n",
    "- We have missing values in Founded 29(33%), Headquarter 19(21%), Sector6(6%), Founders, Stage 46(52%)\n",
    "- City with most startup in 2019 data is Bnagalore (24%), Mumbai (13%) and Delhi (11%), the missing Values is 21%\n",
    "- From amount column undisclosed is having 13%\n"
   ]
  },
  {
   "cell_type": "markdown",
   "metadata": {},
   "source": [
    "To speed up the data cleaning process, let uses d=function\n",
    "\n",
    "1. For Descriptive statistics of a variable\n",
    "2. For Data distribution of a variable (histogram)\n",
    "3. For Check for missing values in a variable\n"
   ]
  },
  {
   "cell_type": "code",
   "execution_count": 40,
   "metadata": {},
   "outputs": [],
   "source": [
    "# To find descriptive statistics of ou data\n",
    "def descriptive_statistics(variable):\n",
    "    return variable.describe()\n",
    "\n",
    "# To plot the data distribution of out data using a histogram\n",
    "def plot_data_distribution(variable):\n",
    "    plt.hist(variable)\n",
    "    plt.xlabel('Values')\n",
    "    plt.ylabel('Frequency')\n",
    "    plt.title('Histogram')\n",
    "    plt.show()\n",
    "\n",
    "# To check for missing values in a variable\n",
    "def check_missing_values(variable):\n",
    "    return variable.isnull().sum()\n",
    "\n",
    "# To detect outliers\n",
    "def detect_outliers(data, column):\n",
    "    Q1 = data[column].quantile(0.25)\n",
    "    Q3 = data[column].quantile(0.75)\n",
    "    IQR = Q3 - Q1\n",
    "    lower_bound = Q1 - 1.5 * IQR\n",
    "    upper_bound = Q3 + 1.5 * IQR\n",
    "    outliers = data[(data[column] < lower_bound) | (data[column] > upper_bound)]\n",
    "    return outliers\n",
    "# ploting missing values \n",
    "def plot_missing_values_heatmap(df):\n",
    "    # indicating missing values\n",
    "    missing_values = df.isnull()\n",
    "\n",
    "    colors = sns.color_palette(['#FF9933', '#FFFFFF', '#138808'])  # Saffron, White, Green(Indian color)\n",
    "    # Plotting \n",
    "    sns.heatmap(missing_values, cmap=colors)\n",
    "    plt.title('Missing Values Heatmap')\n",
    "    plt.xlabel('Columns')\n",
    "    plt.ylabel('Rows')\n",
    "    plt.show()\n",
    "\n",
    "    "
   ]
  },
  {
   "cell_type": "code",
   "execution_count": 41,
   "metadata": {},
   "outputs": [
    {
     "data": {
      "text/plain": [
       "Company/Brand     0\n",
       "Founded          29\n",
       "HeadQuarter      19\n",
       "Sector            5\n",
       "What it does      0\n",
       "Founders          3\n",
       "Investor          0\n",
       "Amount($)         0\n",
       "Stage            46\n",
       "dtype: int64"
      ]
     },
     "execution_count": 41,
     "metadata": {},
     "output_type": "execute_result"
    }
   ],
   "source": [
    "check_missing_values(data_2019)"
   ]
  },
  {
   "cell_type": "markdown",
   "metadata": {},
   "source": [
    "Imaging 2019 missing values\n"
   ]
  },
  {
   "cell_type": "code",
   "execution_count": 42,
   "metadata": {},
   "outputs": [
    {
     "data": {
      "image/png": "[encoded data removed]",
      "text/plain": [
       "<Figure size 640x480 with 2 Axes>"
      ]
     },
     "metadata": {},
     "output_type": "display_data"
    }
   ],
   "source": [
    "plot_missing_values_heatmap(data_2019)"
   ]
  },
  {
   "cell_type": "markdown",
   "metadata": {},
   "source": [
    "The `Green` color is showing the missing value in dataset\n"
   ]
  },
  {
   "cell_type": "markdown",
   "metadata": {},
   "source": [
    "    Unique values in some column we will use in analysis\n"
   ]
  },
  {
   "cell_type": "markdown",
   "metadata": {},
   "source": [
    "Company column\n"
   ]
  },
  {
   "cell_type": "code",
   "execution_count": 43,
   "metadata": {},
   "outputs": [
    {
     "data": {
      "text/plain": [
       "['Bombay Shaving',\n",
       " 'Ruangguru',\n",
       " 'Eduisfun',\n",
       " 'HomeLane',\n",
       " 'Nu Genes',\n",
       " 'FlytBase',\n",
       " 'Finly',\n",
       " 'Kratikal',\n",
       " 'Quantiphi',\n",
       " 'Lenskart',\n",
       " 'Cub McPaws',\n",
       " 'Appnomic',\n",
       " 'Kaleidofin',\n",
       " 'JobSquare',\n",
       " 'Open Secret',\n",
       " 'LivFin',\n",
       " \"Byju's\",\n",
       " 'Zest Money',\n",
       " 'Witblox',\n",
       " 'Azah Personal Care Pvt. Ltd.',\n",
       " 'SalaryFits',\n",
       " 'Pristyn Care',\n",
       " 'Springboard',\n",
       " 'DROR Labs Pvt. Ltd',\n",
       " 'Medlife',\n",
       " 'Seekify',\n",
       " 'Toffee Insurance',\n",
       " 'Fireflies .ai',\n",
       " 'HungerBox',\n",
       " 'Bijak',\n",
       " 'Licious',\n",
       " 'truMe',\n",
       " 'Pumpkart',\n",
       " 'Asteria Aerospace',\n",
       " 'Rivigo',\n",
       " 'HappyEasyGo',\n",
       " 'Zetwerk',\n",
       " 'Observe.AI',\n",
       " 'Freshokartz',\n",
       " 'Lil’ Goodness and sCool meal',\n",
       " 'Trell',\n",
       " 'VMate',\n",
       " 'Bombay Shirt Company',\n",
       " 'Slintel',\n",
       " 'MyGameMate',\n",
       " 'Afinoz',\n",
       " 'Rein Games',\n",
       " 'Ecozen',\n",
       " 'Box8',\n",
       " 'Awign Enterprises',\n",
       " 'Purplle',\n",
       " 'Freightwalla',\n",
       " 'TapChief',\n",
       " 'eJOHRI',\n",
       " 'Ninjacart',\n",
       " 'Binca Games',\n",
       " 'KredX',\n",
       " 'm.Paani',\n",
       " 'Origo',\n",
       " 'WishADish',\n",
       " 'Ecom Express',\n",
       " 'Stanza Living',\n",
       " 'PiBeam',\n",
       " 'Euler Motors',\n",
       " 'Moms Co',\n",
       " 'Cubical Labs',\n",
       " 'Lawyered',\n",
       " 'Cuemath',\n",
       " 'Nivesh.com',\n",
       " 'Zebu',\n",
       " 'Smart Institute',\n",
       " 'CarDekho',\n",
       " 'Shadowfax',\n",
       " 'Credr',\n",
       " 'Sportido',\n",
       " 'Phable',\n",
       " 'Sarva',\n",
       " 'IndyFint',\n",
       " 'Zolostays',\n",
       " 'Ola',\n",
       " 'Zoomcar',\n",
       " 'Froogal',\n",
       " 'Infra.Market',\n",
       " 'Oyo',\n",
       " 'GoMechanic',\n",
       " 'Spinny',\n",
       " 'Ess Kay Fincorp']"
      ]
     },
     "execution_count": 43,
     "metadata": {},
     "output_type": "execute_result"
    }
   ],
   "source": [
    "data_2019[\"Company/Brand\"].unique().tolist()"
   ]
  },
  {
   "cell_type": "markdown",
   "metadata": {},
   "source": [
    "Headqurter Columns\n"
   ]
  },
  {
   "cell_type": "code",
   "execution_count": 44,
   "metadata": {},
   "outputs": [
    {
     "data": {
      "text/plain": [
       "[nan,\n",
       " 'Mumbai',\n",
       " 'Chennai',\n",
       " 'Telangana',\n",
       " 'Pune',\n",
       " 'Bangalore',\n",
       " 'Noida',\n",
       " 'Delhi',\n",
       " 'Ahmedabad',\n",
       " 'Gurugram',\n",
       " 'Haryana',\n",
       " 'Chandigarh',\n",
       " 'Jaipur',\n",
       " 'New Delhi',\n",
       " 'Surat',\n",
       " 'Uttar pradesh',\n",
       " 'Hyderabad',\n",
       " 'Rajasthan']"
      ]
     },
     "execution_count": 44,
     "metadata": {},
     "output_type": "execute_result"
    }
   ],
   "source": [
    "data_2019[\"HeadQuarter\"].unique().tolist()"
   ]
  },
  {
   "cell_type": "code",
   "execution_count": 45,
   "metadata": {},
   "outputs": [],
   "source": [
    "data_2019['HeadQuarter'] = data_2019['HeadQuarter'].fillna('Unknown')"
   ]
  },
  {
   "cell_type": "markdown",
   "metadata": {},
   "source": [
    "Sector Column\n"
   ]
  },
  {
   "cell_type": "code",
   "execution_count": 46,
   "metadata": {},
   "outputs": [
    {
     "data": {
      "text/plain": [
       "['Ecommerce',\n",
       " 'Edtech',\n",
       " 'Interior design',\n",
       " 'AgriTech',\n",
       " 'Technology',\n",
       " 'SaaS',\n",
       " 'AI & Tech',\n",
       " 'E-commerce',\n",
       " 'E-commerce & AR',\n",
       " 'Fintech',\n",
       " 'HR tech',\n",
       " 'Food tech',\n",
       " 'Health',\n",
       " 'Healthcare',\n",
       " 'Safety tech',\n",
       " 'Pharmaceutical',\n",
       " 'Insurance technology',\n",
       " 'AI',\n",
       " 'Foodtech',\n",
       " 'Food',\n",
       " 'IoT',\n",
       " 'E-marketplace',\n",
       " 'Robotics & AI',\n",
       " 'Logistics',\n",
       " 'Travel',\n",
       " 'Manufacturing',\n",
       " 'Food & Nutrition',\n",
       " 'Social Media',\n",
       " nan,\n",
       " 'E-Sports',\n",
       " 'Cosmetics',\n",
       " 'B2B',\n",
       " 'Jewellery',\n",
       " 'B2B Supply Chain',\n",
       " 'Games',\n",
       " 'Food & tech',\n",
       " 'Accomodation',\n",
       " 'Automotive tech',\n",
       " 'Legal tech',\n",
       " 'Mutual Funds',\n",
       " 'Cybersecurity',\n",
       " 'Automobile',\n",
       " 'Sports',\n",
       " 'Healthtech',\n",
       " 'Yoga & wellness',\n",
       " 'Virtual Banking',\n",
       " 'Transportation',\n",
       " 'Transport & Rentals',\n",
       " 'Marketing & Customer loyalty',\n",
       " 'Infratech',\n",
       " 'Hospitality',\n",
       " 'Automobile & Technology',\n",
       " 'Banking']"
      ]
     },
     "execution_count": 46,
     "metadata": {},
     "output_type": "execute_result"
    }
   ],
   "source": [
    "data_2019[\"Sector\"].unique().tolist()"
   ]
  },
  {
   "cell_type": "markdown",
   "metadata": {},
   "source": [
    "This unique values in this column indicate the diverse sectors of service among the start-ups. For better analysis, we will group similar sectors into broader categories.\n"
   ]
  },
  {
   "cell_type": "code",
   "execution_count": 47,
   "metadata": {},
   "outputs": [
    {
     "data": {
      "text/plain": [
       "['Ecommerce',\n",
       " 'Edtech',\n",
       " 'Interior Design',\n",
       " 'AgriTech',\n",
       " 'Technology',\n",
       " 'SaaS',\n",
       " 'Fintech',\n",
       " 'HR Tech',\n",
       " 'Food Tech',\n",
       " 'Health',\n",
       " 'Safety Tech',\n",
       " nan,\n",
       " 'Logistics',\n",
       " 'Travel',\n",
       " 'Manufacturing',\n",
       " 'Social Media',\n",
       " 'E-Sports',\n",
       " 'Cosmetics',\n",
       " 'B2B',\n",
       " 'Jewellery',\n",
       " 'Games',\n",
       " 'Automotive Tech',\n",
       " 'Legal Tech',\n",
       " 'Sports',\n",
       " 'Marketing & Customer Loyalty',\n",
       " 'Infratech',\n",
       " 'Hospitality']"
      ]
     },
     "execution_count": 47,
     "metadata": {},
     "output_type": "execute_result"
    }
   ],
   "source": [
    "# Group the sector based on similarity by By creating a dictionary\n",
    "# The keys in the dictionary are specific sector names as they appear in the dataset.\n",
    "# The values are the broder categories to which these specific sector names will be mapped to.\n",
    "sector_mapping = {\n",
    "    'Ecommerce': 'Ecommerce',\n",
    "    'Edtech': 'Edtech',\n",
    "    'Interior design': 'Interior Design',\n",
    "    'AgriTech': 'AgriTech',\n",
    "    'Technology': 'Technology',\n",
    "    'SaaS': 'SaaS',\n",
    "    'AI & Tech': 'Technology',\n",
    "    'E-commerce': 'Ecommerce',\n",
    "    'E-commerce & AR': 'Ecommerce',\n",
    "    'Fintech': 'Fintech',\n",
    "    'E-marketplace': 'Ecommerce',\n",
    "    'Robotics & AI': 'Technology',\n",
    "    'IoT': 'Technology',\n",
    "    'Cybersecurity': 'Technology',\n",
    "    'Virtual Banking': 'Fintech',\n",
    "    'Banking': 'Fintech',\n",
    "    'Mutual Funds': 'Fintech',\n",
    "    'Insurance technology': 'Fintech',\n",
    "    'HR tech': 'HR Tech',\n",
    "    'Food tech': 'Food Tech',\n",
    "    'Foodtech': 'Food Tech',\n",
    "    'Food': 'Food Tech',\n",
    "    'Food & Nutrition': 'Food Tech',\n",
    "    'Food & tech': 'Food Tech',\n",
    "    'Health': 'Health',\n",
    "    'Healthcare': 'Health',\n",
    "    'Healthtech': 'Health',\n",
    "    'Yoga & wellness': 'Health',\n",
    "    'Pharmaceutical': 'Health',\n",
    "    'Safety tech': 'Safety Tech',\n",
    "    'Logistics': 'Logistics',\n",
    "    'Travel': 'Travel',\n",
    "    'Transport & Rentals': 'Travel',\n",
    "    'Transportation': 'Travel',\n",
    "    'Accomodation': 'Travel',\n",
    "    'Manufacturing': 'Manufacturing',\n",
    "    'Social Media': 'Social Media',\n",
    "    'E-Sports': 'E-Sports',\n",
    "    'Cosmetics': 'Cosmetics',\n",
    "    'B2B': 'B2B',\n",
    "    'B2B Supply Chain': 'B2B',\n",
    "    'Jewellery': 'Jewellery',\n",
    "    'Games': 'Games',\n",
    "    'Automotive tech': 'Automotive Tech',\n",
    "    'Automobile': 'Automotive Tech',\n",
    "    'Automobile & Technology': 'Automotive Tech',\n",
    "    'Legal tech': 'Legal Tech',\n",
    "    'Sports': 'Sports',\n",
    "    'Marketing & Customer loyalty': 'Marketing & Customer Loyalty',\n",
    "    'Infratech': 'Infratech',\n",
    "    'Hospitality': 'Hospitality'\n",
    "}\n",
    "\n",
    "#  map to the 'Sector' column in the DataFrame\n",
    "data_2019['Sector'] = data_2019['Sector'].map(sector_mapping)\n",
    "\n",
    "# Display the updated unique values in the 'Sector' column\n",
    "data_2019['Sector'].unique().tolist()\n"
   ]
  },
  {
   "cell_type": "markdown",
   "metadata": {},
   "source": [
    "Handle Missing Values\n"
   ]
  },
  {
   "cell_type": "code",
   "execution_count": 48,
   "metadata": {},
   "outputs": [],
   "source": [
    "data_2019[\"Sector\"] = data_2019[\"Sector\"].fillna('Unknown')"
   ]
  },
  {
   "cell_type": "code",
   "execution_count": 29,
   "metadata": {},
   "outputs": [
    {
     "data": {
      "text/html": [
       "<div>\n",
       "<style scoped>\n",
       "    .dataframe tbody tr th:only-of-type {\n",
       "        vertical-align: middle;\n",
       "    }\n",
       "\n",
       "    .dataframe tbody tr th {\n",
       "        vertical-align: top;\n",
       "    }\n",
       "\n",
       "    .dataframe thead th {\n",
       "        text-align: right;\n",
       "    }\n",
       "</style>\n",
       "<table border=\"1\" class=\"dataframe\">\n",
       "  <thead>\n",
       "    <tr style=\"text-align: right;\">\n",
       "      <th></th>\n",
       "      <th>Company/Brand</th>\n",
       "      <th>Founded</th>\n",
       "      <th>HeadQuarter</th>\n",
       "      <th>Sector</th>\n",
       "      <th>What it does</th>\n",
       "      <th>Founders</th>\n",
       "      <th>Investor</th>\n",
       "      <th>Amount($)</th>\n",
       "      <th>Stage</th>\n",
       "    </tr>\n",
       "  </thead>\n",
       "  <tbody>\n",
       "    <tr>\n",
       "      <th>44</th>\n",
       "      <td>MyGameMate</td>\n",
       "      <td>NaN</td>\n",
       "      <td>Bangalore</td>\n",
       "      <td>E-Sports</td>\n",
       "      <td>eSports platform where players can access vari...</td>\n",
       "      <td>Parshavv Jain&amp; Raju Kushwaha</td>\n",
       "      <td>Jindagi Live Angels,</td>\n",
       "      <td>$100,000</td>\n",
       "      <td>NaN</td>\n",
       "    </tr>\n",
       "    <tr>\n",
       "      <th>5</th>\n",
       "      <td>FlytBase</td>\n",
       "      <td>NaN</td>\n",
       "      <td>Pune</td>\n",
       "      <td>Technology</td>\n",
       "      <td>A drone automation platform</td>\n",
       "      <td>Nitin Gupta</td>\n",
       "      <td>Undisclosed</td>\n",
       "      <td>Undisclosed</td>\n",
       "      <td>NaN</td>\n",
       "    </tr>\n",
       "    <tr>\n",
       "      <th>55</th>\n",
       "      <td>Binca Games</td>\n",
       "      <td>2014.0</td>\n",
       "      <td>Mumbai</td>\n",
       "      <td>Games</td>\n",
       "      <td>It offers games that are available across Indi...</td>\n",
       "      <td>Rubianca Wadhwa, Sahil Wadhwa</td>\n",
       "      <td>Sunil Gavaskar</td>\n",
       "      <td>Undisclosed</td>\n",
       "      <td>NaN</td>\n",
       "    </tr>\n",
       "    <tr>\n",
       "      <th>0</th>\n",
       "      <td>Bombay Shaving</td>\n",
       "      <td>NaN</td>\n",
       "      <td>NaN</td>\n",
       "      <td>Ecommerce</td>\n",
       "      <td>Provides a range of male grooming products</td>\n",
       "      <td>Shantanu Deshpande</td>\n",
       "      <td>Sixth Sense Ventures</td>\n",
       "      <td>$6,300,000</td>\n",
       "      <td>NaN</td>\n",
       "    </tr>\n",
       "    <tr>\n",
       "      <th>59</th>\n",
       "      <td>WishADish</td>\n",
       "      <td>NaN</td>\n",
       "      <td>Delhi</td>\n",
       "      <td>Food &amp; tech</td>\n",
       "      <td>Provides management solution for restaurants</td>\n",
       "      <td>Sawan Kumar, Bhavya Bhambhani</td>\n",
       "      <td>Undisclosed</td>\n",
       "      <td>$6,000,000</td>\n",
       "      <td>NaN</td>\n",
       "    </tr>\n",
       "    <tr>\n",
       "      <th>50</th>\n",
       "      <td>Purplle</td>\n",
       "      <td>2012.0</td>\n",
       "      <td>Mumbai</td>\n",
       "      <td>Cosmetics</td>\n",
       "      <td>Online makeup and beauty products retailer</td>\n",
       "      <td>Manish Taneja, Rahul Dash</td>\n",
       "      <td>Goldman Sachs</td>\n",
       "      <td>$30,000,000</td>\n",
       "      <td>Series C</td>\n",
       "    </tr>\n",
       "    <tr>\n",
       "      <th>57</th>\n",
       "      <td>m.Paani</td>\n",
       "      <td>NaN</td>\n",
       "      <td>Mumbai</td>\n",
       "      <td>NaN</td>\n",
       "      <td>It digitizes and organises local retailers</td>\n",
       "      <td>Akanksha Hazari</td>\n",
       "      <td>AC Ventures, Henkel</td>\n",
       "      <td>$5,500,000</td>\n",
       "      <td>Series A</td>\n",
       "    </tr>\n",
       "    <tr>\n",
       "      <th>42</th>\n",
       "      <td>Bombay Shirt Company</td>\n",
       "      <td>2012.0</td>\n",
       "      <td>Mumbai</td>\n",
       "      <td>E-commerce</td>\n",
       "      <td>Online custom shirt brand</td>\n",
       "      <td>Akshay Narvekar</td>\n",
       "      <td>Lightbox Ventures</td>\n",
       "      <td>$8,000,000</td>\n",
       "      <td>NaN</td>\n",
       "    </tr>\n",
       "    <tr>\n",
       "      <th>22</th>\n",
       "      <td>Springboard</td>\n",
       "      <td>2013.0</td>\n",
       "      <td>NaN</td>\n",
       "      <td>Edtech</td>\n",
       "      <td>Offers online courses and extensive mentor-bas...</td>\n",
       "      <td>Gautam Tambay, Parul Gupta</td>\n",
       "      <td>Reach Capital</td>\n",
       "      <td>$11,000,000</td>\n",
       "      <td>Post series A</td>\n",
       "    </tr>\n",
       "    <tr>\n",
       "      <th>78</th>\n",
       "      <td>IndyFint</td>\n",
       "      <td>2019.0</td>\n",
       "      <td>Bangalore</td>\n",
       "      <td>Virtual Banking</td>\n",
       "      <td>It helps lenders to directly provide short-ter...</td>\n",
       "      <td>Paddy Padmanabhan</td>\n",
       "      <td>Saravanan Adiseshan</td>\n",
       "      <td>$2,100,000</td>\n",
       "      <td>Series A</td>\n",
       "    </tr>\n",
       "    <tr>\n",
       "      <th>40</th>\n",
       "      <td>Trell</td>\n",
       "      <td>2016.0</td>\n",
       "      <td>Bangalore</td>\n",
       "      <td>Social Media</td>\n",
       "      <td>Blogging platform that enables people to creat...</td>\n",
       "      <td>Pulkit Agrawal, Prashant Sachan, Arun Lodhi, B...</td>\n",
       "      <td>Ruizheng Investment, Tej Kapoor, Krinshavatara...</td>\n",
       "      <td>$2,000,000</td>\n",
       "      <td>Pre series A</td>\n",
       "    </tr>\n",
       "    <tr>\n",
       "      <th>24</th>\n",
       "      <td>Medlife</td>\n",
       "      <td>2014.0</td>\n",
       "      <td>Bangalore</td>\n",
       "      <td>Pharmaceutical</td>\n",
       "      <td>It solves inadequacies in the healthcare deliv...</td>\n",
       "      <td>Tushar Kumar, Prashant Singh</td>\n",
       "      <td>Wilson Global Opportunities Fund</td>\n",
       "      <td>$15,500,000</td>\n",
       "      <td>NaN</td>\n",
       "    </tr>\n",
       "    <tr>\n",
       "      <th>65</th>\n",
       "      <td>Cubical Labs</td>\n",
       "      <td>2013.0</td>\n",
       "      <td>NaN</td>\n",
       "      <td>IoT</td>\n",
       "      <td>Home automation solution provider</td>\n",
       "      <td>Dhruv Ratra, Swati Vyas</td>\n",
       "      <td>Rockstud Capital</td>\n",
       "      <td>Undisclosed</td>\n",
       "      <td>Series B</td>\n",
       "    </tr>\n",
       "    <tr>\n",
       "      <th>12</th>\n",
       "      <td>Kaleidofin</td>\n",
       "      <td>2018.0</td>\n",
       "      <td>Chennai</td>\n",
       "      <td>Fintech</td>\n",
       "      <td>Platform that provides complete financial solu...</td>\n",
       "      <td>Puneet Gupta, Sucharita Mukherjee</td>\n",
       "      <td>Oikocredit</td>\n",
       "      <td>$5,000,000</td>\n",
       "      <td>Series A</td>\n",
       "    </tr>\n",
       "    <tr>\n",
       "      <th>77</th>\n",
       "      <td>Sarva</td>\n",
       "      <td>NaN</td>\n",
       "      <td>Chennai</td>\n",
       "      <td>Yoga &amp; wellness</td>\n",
       "      <td>It drives a cultural change in making yoga-bas...</td>\n",
       "      <td>Sarvesh Shashi</td>\n",
       "      <td>Venture fund, Fireside Ventures.</td>\n",
       "      <td>$2,800,000</td>\n",
       "      <td>NaN</td>\n",
       "    </tr>\n",
       "  </tbody>\n",
       "</table>\n",
       "</div>"
      ],
      "text/plain": [
       "           Company/Brand  Founded HeadQuarter           Sector  \\\n",
       "44            MyGameMate      NaN   Bangalore         E-Sports   \n",
       "5               FlytBase      NaN        Pune       Technology   \n",
       "55           Binca Games   2014.0      Mumbai            Games   \n",
       "0         Bombay Shaving      NaN         NaN        Ecommerce   \n",
       "59             WishADish      NaN       Delhi      Food & tech   \n",
       "50               Purplle   2012.0      Mumbai        Cosmetics   \n",
       "57               m.Paani      NaN      Mumbai              NaN   \n",
       "42  Bombay Shirt Company   2012.0      Mumbai       E-commerce   \n",
       "22           Springboard   2013.0         NaN           Edtech   \n",
       "78              IndyFint   2019.0   Bangalore  Virtual Banking   \n",
       "40                 Trell   2016.0   Bangalore     Social Media   \n",
       "24               Medlife   2014.0   Bangalore   Pharmaceutical   \n",
       "65          Cubical Labs   2013.0         NaN              IoT   \n",
       "12            Kaleidofin   2018.0     Chennai          Fintech   \n",
       "77                 Sarva      NaN     Chennai  Yoga & wellness   \n",
       "\n",
       "                                         What it does  \\\n",
       "44  eSports platform where players can access vari...   \n",
       "5                         A drone automation platform   \n",
       "55  It offers games that are available across Indi...   \n",
       "0          Provides a range of male grooming products   \n",
       "59       Provides management solution for restaurants   \n",
       "50         Online makeup and beauty products retailer   \n",
       "57         It digitizes and organises local retailers   \n",
       "42                          Online custom shirt brand   \n",
       "22  Offers online courses and extensive mentor-bas...   \n",
       "78  It helps lenders to directly provide short-ter...   \n",
       "40  Blogging platform that enables people to creat...   \n",
       "24  It solves inadequacies in the healthcare deliv...   \n",
       "65                  Home automation solution provider   \n",
       "12  Platform that provides complete financial solu...   \n",
       "77  It drives a cultural change in making yoga-bas...   \n",
       "\n",
       "                                             Founders  \\\n",
       "44                       Parshavv Jain& Raju Kushwaha   \n",
       "5                                         Nitin Gupta   \n",
       "55                      Rubianca Wadhwa, Sahil Wadhwa   \n",
       "0                                  Shantanu Deshpande   \n",
       "59                      Sawan Kumar, Bhavya Bhambhani   \n",
       "50                          Manish Taneja, Rahul Dash   \n",
       "57                                    Akanksha Hazari   \n",
       "42                                    Akshay Narvekar   \n",
       "22                         Gautam Tambay, Parul Gupta   \n",
       "78                                  Paddy Padmanabhan   \n",
       "40  Pulkit Agrawal, Prashant Sachan, Arun Lodhi, B...   \n",
       "24                       Tushar Kumar, Prashant Singh   \n",
       "65                            Dhruv Ratra, Swati Vyas   \n",
       "12                  Puneet Gupta, Sucharita Mukherjee   \n",
       "77                                     Sarvesh Shashi   \n",
       "\n",
       "                                             Investor    Amount($)  \\\n",
       "44                               Jindagi Live Angels,     $100,000   \n",
       "5                                         Undisclosed  Undisclosed   \n",
       "55                                     Sunil Gavaskar  Undisclosed   \n",
       "0                                Sixth Sense Ventures   $6,300,000   \n",
       "59                                        Undisclosed   $6,000,000   \n",
       "50                                      Goldman Sachs  $30,000,000   \n",
       "57                                AC Ventures, Henkel   $5,500,000   \n",
       "42                                  Lightbox Ventures   $8,000,000   \n",
       "22                                      Reach Capital  $11,000,000   \n",
       "78                                Saravanan Adiseshan   $2,100,000   \n",
       "40  Ruizheng Investment, Tej Kapoor, Krinshavatara...   $2,000,000   \n",
       "24                   Wilson Global Opportunities Fund  $15,500,000   \n",
       "65                                   Rockstud Capital  Undisclosed   \n",
       "12                                         Oikocredit   $5,000,000   \n",
       "77                   Venture fund, Fireside Ventures.   $2,800,000   \n",
       "\n",
       "            Stage  \n",
       "44            NaN  \n",
       "5             NaN  \n",
       "55            NaN  \n",
       "0             NaN  \n",
       "59            NaN  \n",
       "50       Series C  \n",
       "57       Series A  \n",
       "42            NaN  \n",
       "22  Post series A  \n",
       "78       Series A  \n",
       "40   Pre series A  \n",
       "24            NaN  \n",
       "65       Series B  \n",
       "12       Series A  \n",
       "77            NaN  "
      ]
     },
     "execution_count": 29,
     "metadata": {},
     "output_type": "execute_result"
    }
   ],
   "source": [
    "data_2019.sample(15)"
   ]
  },
  {
   "cell_type": "markdown",
   "metadata": {},
   "source": [
    "Investor Column\n"
   ]
  },
  {
   "cell_type": "code",
   "execution_count": 49,
   "metadata": {},
   "outputs": [
    {
     "data": {
      "text/plain": [
       "['Sixth Sense Ventures',\n",
       " 'General Atlantic',\n",
       " 'Deepak Parekh, Amitabh Bachchan, Piyush Pandey',\n",
       " 'Evolvence India Fund (EIF), Pidilite Group, FJ Labs',\n",
       " 'Innovation in Food and Agriculture (IFA)',\n",
       " 'Undisclosed',\n",
       " 'Social Capital, AngelList India, Gemba Capital, Omphalos Ventures,\\xa0\\xa091springboard via Atal Innovation Mission, Niti Aayog.',\n",
       " 'Gilda VC, Art Venture, Rajeev Chitrabhanu.',\n",
       " 'Multiples Alternate Asset Management',\n",
       " 'SoftBank',\n",
       " 'Venture Catalysts',\n",
       " 'Avataar Ventures',\n",
       " 'Oikocredit',\n",
       " 'Titan Capital',\n",
       " 'Matrix Partners',\n",
       " 'German development finance institution DEG',\n",
       " 'South Africa’s Naspers Ventures, the CPP Investment Board',\n",
       " 'Goldman Sachs.',\n",
       " 'Mumbai Angels Network',\n",
       " 'Kunal Bahl, Rohit Bansal.',\n",
       " 'Brazilian VC Fund Confrapar',\n",
       " 'Sequoia India, Hummingbird Ventures, Greenoaks Capital, AngelList.',\n",
       " 'Reach Capital',\n",
       " 'Inflection Point Ventures',\n",
       " 'Wilson Global Opportunities Fund',\n",
       " 'Sequoia Capita',\n",
       " 'IVM Intersurer',\n",
       " 'Canaan Partners',\n",
       " 'Paytm, Asian VC fund NPTK, Sabre Partners, Neoplux.',\n",
       " 'Omnivore and Omidyar Network India, Sequoia Capital',\n",
       " 'Vertex Growth Fund',\n",
       " 'Rajan Kaistha',\n",
       " 'Dinesh Dua',\n",
       " 'Reliance Industries',\n",
       " 'SAIF Partners India VI Ltd, Spring Canter Investment Ltd',\n",
       " 'Korea Investment Partners (KIP), Samsung Venture Investment Corporation (SVIC), UOB Venture, 10 Fund, CVCapital, Zero2IPO Ventures, M&S Partners',\n",
       " 'Lightspeed and Greenoaks Capital, Sequoia India, Accel and Kae Capital',\n",
       " 'Scale Venture Partners',\n",
       " 'ThinkLab',\n",
       " 'Sajan Pillai, Muthu Krishnan,',\n",
       " 'Ruizheng Investment, Tej Kapoor, Krinshavataram Venkata Vinjamuri, Harsh Shah',\n",
       " 'Alibaba',\n",
       " 'Lightbox Ventures',\n",
       " 'Stellaris Ventures',\n",
       " 'Jindagi Live Angels,',\n",
       " 'Fintech innovation lab',\n",
       " 'Manipal Education and Medical Group (MEMG) family office, Titan Capital',\n",
       " 'Innovation in Food & Agriculture Fund (IFA Fund)',\n",
       " 'Trifecta Capital',\n",
       " 'Work10M, Michael and Susan Dell Foundation, Eagle10, Unitus Ventures.',\n",
       " 'Goldman Sachs',\n",
       " 'Amplo, FJ Labs, Rogue One Capital',\n",
       " 'Blume Ventures.',\n",
       " 'Rajesh Ranavat',\n",
       " 'Walmart, Flipkart',\n",
       " 'Sunil Gavaskar',\n",
       " 'Tiger Global Management',\n",
       " 'AC Ventures, Henkel',\n",
       " 'Oikocredit, Caspian SME Impact Fund IV,\\xa0\\xa0Triodos Investment Management',\n",
       " 'CDC Group',\n",
       " 'Alteria Capital',\n",
       " 'GAIL (India) Ltd',\n",
       " 'Blume Ventures, Emergent Ventures',\n",
       " 'Saama Capital, DSG Consumer Partners',\n",
       " 'Rockstud Capital',\n",
       " 'Pramendra Tomar, Ratish Pandey, Munish Bhatia, Sumit Aggarwal',\n",
       " 'Manta Ray Ventures Limited, Google’s Capital G, Sequoia India.',\n",
       " 'Vertex Ventures',\n",
       " 'Windrose Capital',\n",
       " 'HNI investors',\n",
       " 'Ping An Global Voyager Fund, Hillhouse Capital, Sequoia Capital',\n",
       " 'Flipkart, Eight Roads Ventures, NGP Capital, Qualcomm Ventures, Mirae Asset Naver Fund, World Bank-backed IFC',\n",
       " 'Omidyar Network, Eight Roads Ventures, GrowthStory, AngelList',\n",
       " 'Inflection Point Ventures, SucSEED Venture Partners.',\n",
       " 'LetsVenture, 91 Springboard, IKP Knowledge, Angel investors, AbInbev-Serge DeVos, Wouter Peeters.',\n",
       " 'Venture fund, Fireside Ventures.',\n",
       " 'Saravanan Adiseshan',\n",
       " 'Kia Motors, Hyundai',\n",
       " 'Zoomcar Inc',\n",
       " 'Gilda VC, Art Venture, Rajeev Chitrabhanu',\n",
       " 'US-based angel investors',\n",
       " 'Tiger Global, Nexus Venture Partners, Accel Partners, Dhruv Agarwala',\n",
       " 'MyPreferred Transformation, Avendus Finance, SoftBank',\n",
       " 'Sequoia Capital',\n",
       " 'Norwest Venture Partners, General Catalyst, Fundamentum, Accel Partners',\n",
       " 'TPG, Norwest Venture Partners, Evolvence India']"
      ]
     },
     "execution_count": 49,
     "metadata": {},
     "output_type": "execute_result"
    }
   ],
   "source": [
    "data_2019[\"Investor\"].unique().tolist()"
   ]
  },
  {
   "cell_type": "code",
   "execution_count": 50,
   "metadata": {},
   "outputs": [
    {
     "data": {
      "text/plain": [
       "dtype('O')"
      ]
     },
     "execution_count": 50,
     "metadata": {},
     "output_type": "execute_result"
    }
   ],
   "source": [
    "data_2019[\"Investor\"].dtype"
   ]
  },
  {
   "cell_type": "code",
   "execution_count": 51,
   "metadata": {},
   "outputs": [
    {
     "data": {
      "text/html": [
       "<div>\n",
       "<style scoped>\n",
       "    .dataframe tbody tr th:only-of-type {\n",
       "        vertical-align: middle;\n",
       "    }\n",
       "\n",
       "    .dataframe tbody tr th {\n",
       "        vertical-align: top;\n",
       "    }\n",
       "\n",
       "    .dataframe thead th {\n",
       "        text-align: right;\n",
       "    }\n",
       "</style>\n",
       "<table border=\"1\" class=\"dataframe\">\n",
       "  <thead>\n",
       "    <tr style=\"text-align: right;\">\n",
       "      <th></th>\n",
       "      <th>Company/Brand</th>\n",
       "      <th>Investor</th>\n",
       "      <th>Investor Count</th>\n",
       "    </tr>\n",
       "  </thead>\n",
       "  <tbody>\n",
       "    <tr>\n",
       "      <th>35</th>\n",
       "      <td>HappyEasyGo</td>\n",
       "      <td>Korea Investment Partners (KIP), Samsung Ventu...</td>\n",
       "      <td>7</td>\n",
       "    </tr>\n",
       "    <tr>\n",
       "      <th>73</th>\n",
       "      <td>Shadowfax</td>\n",
       "      <td>Flipkart, Eight Roads Ventures, NGP Capital, Q...</td>\n",
       "      <td>6</td>\n",
       "    </tr>\n",
       "    <tr>\n",
       "      <th>76</th>\n",
       "      <td>Phable</td>\n",
       "      <td>LetsVenture, 91 Springboard, IKP Knowledge, An...</td>\n",
       "      <td>6</td>\n",
       "    </tr>\n",
       "    <tr>\n",
       "      <th>6</th>\n",
       "      <td>Finly</td>\n",
       "      <td>Social Capital, AngelList India, Gemba Capital...</td>\n",
       "      <td>6</td>\n",
       "    </tr>\n",
       "    <tr>\n",
       "      <th>49</th>\n",
       "      <td>Awign Enterprises</td>\n",
       "      <td>Work10M, Michael and Susan Dell Foundation, Ea...</td>\n",
       "      <td>4</td>\n",
       "    </tr>\n",
       "  </tbody>\n",
       "</table>\n",
       "</div>"
      ],
      "text/plain": [
       "        Company/Brand                                           Investor  \\\n",
       "35        HappyEasyGo  Korea Investment Partners (KIP), Samsung Ventu...   \n",
       "73          Shadowfax  Flipkart, Eight Roads Ventures, NGP Capital, Q...   \n",
       "76             Phable  LetsVenture, 91 Springboard, IKP Knowledge, An...   \n",
       "6               Finly  Social Capital, AngelList India, Gemba Capital...   \n",
       "49  Awign Enterprises  Work10M, Michael and Susan Dell Foundation, Ea...   \n",
       "\n",
       "    Investor Count  \n",
       "35               7  \n",
       "73               6  \n",
       "76               6  \n",
       "6                6  \n",
       "49               4  "
      ]
     },
     "execution_count": 51,
     "metadata": {},
     "output_type": "execute_result"
    }
   ],
   "source": [
    "#  convert the Investor column to strings\n",
    "# data_2019['Investor'] = data_2019['Investor'].astype(str)\n",
    "# Identify companies with More that 1 Investors multiple wit function\n",
    "def count_investors(Investors):\n",
    "    if pd.isna(Investors):\n",
    "        return 0\n",
    "    return len(Investors.split(','))\n",
    "\n",
    "data_2019['Investor Count'] = data_2019['Investor'].apply(count_investors)\n",
    "\n",
    "# company that received Investmetn from more than 3 Investors\n",
    "companies_with_more_than_3_investors = data_2019[data_2019['Investor Count'] > 1]\n",
    "\n",
    "company_with_more_than_three_investments = data_2019[['Company/Brand', 'Investor', 'Investor Count']]\n",
    "\n",
    "\n",
    "\n",
    "company_with_more_than_three_investments = company_with_more_than_three_investments.sort_values(by='Investor Count', ascending=False)\n",
    "company_with_more_than_three_investments.head(5)"
   ]
  },
  {
   "cell_type": "markdown",
   "metadata": {},
   "source": [
    "No missing values was found in this column\n"
   ]
  },
  {
   "cell_type": "markdown",
   "metadata": {},
   "source": [
    "Amount column\n"
   ]
  },
  {
   "cell_type": "markdown",
   "metadata": {},
   "source": [
    "Exploring unique value to understand what i need to clean\n"
   ]
  },
  {
   "cell_type": "code",
   "execution_count": 52,
   "metadata": {},
   "outputs": [
    {
     "data": {
      "text/plain": [
       "['$6,300,000',\n",
       " '$150,000,000',\n",
       " '$28,000,000',\n",
       " '$30,000,000',\n",
       " '$6,000,000',\n",
       " 'Undisclosed',\n",
       " '$1,000,000',\n",
       " '$20,000,000',\n",
       " '$275,000,000',\n",
       " '$22,000,000',\n",
       " '$5,000,000',\n",
       " '$140,500',\n",
       " '$540,000,000',\n",
       " '$15,000,000',\n",
       " '$182,700',\n",
       " '$12,000,000',\n",
       " '$11,000,000',\n",
       " '$15,500,000',\n",
       " '$1,500,000',\n",
       " '$5,500,000',\n",
       " '$2,500,000',\n",
       " '$140,000',\n",
       " '$230,000,000',\n",
       " '$49,400,000',\n",
       " '$32,000,000',\n",
       " '$26,000,000',\n",
       " '$150,000',\n",
       " '$400,000',\n",
       " '$2,000,000',\n",
       " '$100,000,000',\n",
       " '$8,000,000',\n",
       " '$100,000',\n",
       " '$50,000,000',\n",
       " '$120,000,000',\n",
       " '$4,000,000',\n",
       " '$6,800,000',\n",
       " '$36,000,000',\n",
       " '$5,700,000',\n",
       " '$25,000,000',\n",
       " '$600,000',\n",
       " '$70,000,000',\n",
       " '$60,000,000',\n",
       " '$220,000',\n",
       " '$2,800,000',\n",
       " '$2,100,000',\n",
       " '$7,000,000',\n",
       " '$311,000,000',\n",
       " '$4,800,000',\n",
       " '$693,000,000',\n",
       " '$33,000,000']"
      ]
     },
     "execution_count": 52,
     "metadata": {},
     "output_type": "execute_result"
    }
   ],
   "source": [
    "data_2019['Amount($)'].unique().tolist()"
   ]
  },
  {
   "cell_type": "markdown",
   "metadata": {},
   "source": [
    "From the summary wher saw that 13% is undisclosed\n"
   ]
  },
  {
   "cell_type": "code",
   "execution_count": 55,
   "metadata": {},
   "outputs": [
    {
     "data": {
      "text/plain": [
       "count              89\n",
       "unique             50\n",
       "top       Undisclosed\n",
       "freq               12\n",
       "Name: Amount($), dtype: object"
      ]
     },
     "execution_count": 55,
     "metadata": {},
     "output_type": "execute_result"
    }
   ],
   "source": [
    "data_2019['Amount($)'].describe().T"
   ]
  },
  {
   "cell_type": "markdown",
   "metadata": {},
   "source": [
    "remove $ in amount and converst dtype to numeric\n"
   ]
  },
  {
   "cell_type": "code",
   "execution_count": 53,
   "metadata": {},
   "outputs": [],
   "source": [
    "# Remove the dollar sign\n",
    "data_2019['Amount($)'] = data_2019['Amount($)'].str.replace('$','').replace(',', '', regex=True)\n",
    "\n",
    "# dtype conversion to numeric\n",
    "data_2019['Amount($)'] = pd.to_numeric(data_2019['Amount($)'], errors='coerce')"
   ]
  },
  {
   "cell_type": "code",
   "execution_count": 55,
   "metadata": {},
   "outputs": [
    {
     "data": {
      "text/plain": [
       "[6300000.0,\n",
       " 150000000.0,\n",
       " 28000000.0,\n",
       " 30000000.0,\n",
       " 6000000.0,\n",
       " nan,\n",
       " 1000000.0,\n",
       " 20000000.0,\n",
       " 275000000.0,\n",
       " 22000000.0,\n",
       " 5000000.0,\n",
       " 140500.0,\n",
       " 540000000.0,\n",
       " 15000000.0,\n",
       " 182700.0,\n",
       " 12000000.0,\n",
       " 11000000.0,\n",
       " 15500000.0,\n",
       " 1500000.0,\n",
       " 5500000.0,\n",
       " 2500000.0,\n",
       " 140000.0,\n",
       " 230000000.0,\n",
       " 49400000.0,\n",
       " 32000000.0,\n",
       " 26000000.0,\n",
       " 150000.0,\n",
       " 400000.0,\n",
       " 2000000.0,\n",
       " 100000000.0,\n",
       " 8000000.0,\n",
       " 100000.0,\n",
       " 50000000.0,\n",
       " 120000000.0,\n",
       " 4000000.0,\n",
       " 6800000.0,\n",
       " 36000000.0,\n",
       " 5700000.0,\n",
       " 25000000.0,\n",
       " 600000.0,\n",
       " 70000000.0,\n",
       " 60000000.0,\n",
       " 220000.0,\n",
       " 2800000.0,\n",
       " 2100000.0,\n",
       " 7000000.0,\n",
       " 311000000.0,\n",
       " 4800000.0,\n",
       " 693000000.0,\n",
       " 33000000.0]"
      ]
     },
     "execution_count": 55,
     "metadata": {},
     "output_type": "execute_result"
    }
   ],
   "source": [
    "data_2019['Amount($)'].unique().tolist()"
   ]
  },
  {
   "cell_type": "markdown",
   "metadata": {},
   "source": [
    "Dtype conversion to numeric\n"
   ]
  },
  {
   "cell_type": "code",
   "execution_count": 56,
   "metadata": {},
   "outputs": [
    {
     "data": {
      "text/plain": [
       "dtype('float64')"
      ]
     },
     "execution_count": 56,
     "metadata": {},
     "output_type": "execute_result"
    }
   ],
   "source": [
    "data_2019['Amount($)'].dtype"
   ]
  },
  {
   "cell_type": "markdown",
   "metadata": {},
   "source": [
    "Handling Undisclosed values\n"
   ]
  },
  {
   "cell_type": "code",
   "execution_count": 54,
   "metadata": {},
   "outputs": [],
   "source": [
    "# let replace undisclosed by null value first\n",
    "#data_2019['Amount($)'] = data_2019['Amount($)'].replace('Undisclosed', np.nan)"
   ]
  },
  {
   "cell_type": "code",
   "execution_count": 57,
   "metadata": {},
   "outputs": [],
   "source": [
    "from sklearn.impute import SimpleImputer\n",
    "\n",
    "# handle missing value by imputting median strategy\n",
    "imputer = SimpleImputer(strategy ='median') \n",
    "\n",
    "data_2019['Amount($)'] = imputer.fit_transform(data_2019[['Amount($)']])"
   ]
  },
  {
   "cell_type": "markdown",
   "metadata": {},
   "source": [
    "Outliers Detection and removal in Amount column\n"
   ]
  },
  {
   "cell_type": "code",
   "execution_count": 69,
   "metadata": {},
   "outputs": [
    {
     "data": {
      "text/html": [
       "<div>\n",
       "<style scoped>\n",
       "    .dataframe tbody tr th:only-of-type {\n",
       "        vertical-align: middle;\n",
       "    }\n",
       "\n",
       "    .dataframe tbody tr th {\n",
       "        vertical-align: top;\n",
       "    }\n",
       "\n",
       "    .dataframe thead th {\n",
       "        text-align: right;\n",
       "    }\n",
       "</style>\n",
       "<table border=\"1\" class=\"dataframe\">\n",
       "  <thead>\n",
       "    <tr style=\"text-align: right;\">\n",
       "      <th></th>\n",
       "      <th>Company/Brand</th>\n",
       "      <th>Founded</th>\n",
       "      <th>HeadQuarter</th>\n",
       "      <th>Sector</th>\n",
       "      <th>What it does</th>\n",
       "      <th>Founders</th>\n",
       "      <th>Investor</th>\n",
       "      <th>Amount($)</th>\n",
       "      <th>Stage</th>\n",
       "      <th>Investor Count</th>\n",
       "    </tr>\n",
       "  </thead>\n",
       "  <tbody>\n",
       "    <tr>\n",
       "      <th>1</th>\n",
       "      <td>Ruangguru</td>\n",
       "      <td>2014.0</td>\n",
       "      <td>Mumbai</td>\n",
       "      <td>Edtech</td>\n",
       "      <td>A learning platform that provides topic-based ...</td>\n",
       "      <td>Adamas Belva Syah Devara, Iman Usman.</td>\n",
       "      <td>General Atlantic</td>\n",
       "      <td>150000000.0</td>\n",
       "      <td>Series C</td>\n",
       "      <td>1</td>\n",
       "    </tr>\n",
       "    <tr>\n",
       "      <th>9</th>\n",
       "      <td>Lenskart</td>\n",
       "      <td>2010.0</td>\n",
       "      <td>Delhi</td>\n",
       "      <td>Ecommerce</td>\n",
       "      <td>It is a eyewear company</td>\n",
       "      <td>Peyush Bansal, Amit Chaudhary, Sumeet Kapahi</td>\n",
       "      <td>SoftBank</td>\n",
       "      <td>275000000.0</td>\n",
       "      <td>Series G</td>\n",
       "      <td>1</td>\n",
       "    </tr>\n",
       "    <tr>\n",
       "      <th>16</th>\n",
       "      <td>Byju's</td>\n",
       "      <td>2011.0</td>\n",
       "      <td>Unknown</td>\n",
       "      <td>Edtech</td>\n",
       "      <td>Provides online learning classes</td>\n",
       "      <td>Byju Raveendran</td>\n",
       "      <td>South Africa’s Naspers Ventures, the CPP Inves...</td>\n",
       "      <td>540000000.0</td>\n",
       "      <td>NaN</td>\n",
       "      <td>2</td>\n",
       "    </tr>\n",
       "    <tr>\n",
       "      <th>33</th>\n",
       "      <td>Asteria Aerospace</td>\n",
       "      <td>2011.0</td>\n",
       "      <td>Bangalore</td>\n",
       "      <td>Technology</td>\n",
       "      <td>Develops drones that are used by the military,...</td>\n",
       "      <td>Neel Mehta, Nihar Vartak</td>\n",
       "      <td>Reliance Industries</td>\n",
       "      <td>230000000.0</td>\n",
       "      <td>NaN</td>\n",
       "      <td>1</td>\n",
       "    </tr>\n",
       "    <tr>\n",
       "      <th>48</th>\n",
       "      <td>Box8</td>\n",
       "      <td>2011.0</td>\n",
       "      <td>Mumbai</td>\n",
       "      <td>Food Tech</td>\n",
       "      <td>Enables to order food online</td>\n",
       "      <td>Amit Raj, Anshul Gupta</td>\n",
       "      <td>Trifecta Capital</td>\n",
       "      <td>120000000.0</td>\n",
       "      <td>NaN</td>\n",
       "      <td>1</td>\n",
       "    </tr>\n",
       "    <tr>\n",
       "      <th>80</th>\n",
       "      <td>Ola</td>\n",
       "      <td>2010.0</td>\n",
       "      <td>Bangalore</td>\n",
       "      <td>Travel</td>\n",
       "      <td>It enables one to book cab online</td>\n",
       "      <td>Bhavish Aggarwal, Ankit Bhati</td>\n",
       "      <td>Kia Motors, Hyundai</td>\n",
       "      <td>311000000.0</td>\n",
       "      <td>NaN</td>\n",
       "      <td>2</td>\n",
       "    </tr>\n",
       "    <tr>\n",
       "      <th>85</th>\n",
       "      <td>Oyo</td>\n",
       "      <td>2013.0</td>\n",
       "      <td>Gurugram</td>\n",
       "      <td>Hospitality</td>\n",
       "      <td>Provides rooms for comfortable stay</td>\n",
       "      <td>Ritesh Agarwal</td>\n",
       "      <td>MyPreferred Transformation, Avendus Finance, S...</td>\n",
       "      <td>693000000.0</td>\n",
       "      <td>NaN</td>\n",
       "      <td>3</td>\n",
       "    </tr>\n",
       "  </tbody>\n",
       "</table>\n",
       "</div>"
      ],
      "text/plain": [
       "        Company/Brand  Founded HeadQuarter       Sector  \\\n",
       "1           Ruangguru   2014.0      Mumbai       Edtech   \n",
       "9            Lenskart   2010.0       Delhi    Ecommerce   \n",
       "16             Byju's   2011.0     Unknown       Edtech   \n",
       "33  Asteria Aerospace   2011.0   Bangalore   Technology   \n",
       "48               Box8   2011.0      Mumbai    Food Tech   \n",
       "80                Ola   2010.0   Bangalore       Travel   \n",
       "85                Oyo   2013.0    Gurugram  Hospitality   \n",
       "\n",
       "                                         What it does  \\\n",
       "1   A learning platform that provides topic-based ...   \n",
       "9                             It is a eyewear company   \n",
       "16                   Provides online learning classes   \n",
       "33  Develops drones that are used by the military,...   \n",
       "48                       Enables to order food online   \n",
       "80                  It enables one to book cab online   \n",
       "85                Provides rooms for comfortable stay   \n",
       "\n",
       "                                        Founders  \\\n",
       "1          Adamas Belva Syah Devara, Iman Usman.   \n",
       "9   Peyush Bansal, Amit Chaudhary, Sumeet Kapahi   \n",
       "16                               Byju Raveendran   \n",
       "33                      Neel Mehta, Nihar Vartak   \n",
       "48                        Amit Raj, Anshul Gupta   \n",
       "80                 Bhavish Aggarwal, Ankit Bhati   \n",
       "85                                Ritesh Agarwal   \n",
       "\n",
       "                                             Investor    Amount($)     Stage  \\\n",
       "1                                    General Atlantic  150000000.0  Series C   \n",
       "9                                            SoftBank  275000000.0  Series G   \n",
       "16  South Africa’s Naspers Ventures, the CPP Inves...  540000000.0       NaN   \n",
       "33                                Reliance Industries  230000000.0       NaN   \n",
       "48                                   Trifecta Capital  120000000.0       NaN   \n",
       "80                                Kia Motors, Hyundai  311000000.0       NaN   \n",
       "85  MyPreferred Transformation, Avendus Finance, S...  693000000.0       NaN   \n",
       "\n",
       "    Investor Count  \n",
       "1                1  \n",
       "9                1  \n",
       "16               2  \n",
       "33               1  \n",
       "48               1  \n",
       "80               2  \n",
       "85               3  "
      ]
     },
     "execution_count": 69,
     "metadata": {},
     "output_type": "execute_result"
    }
   ],
   "source": [
    "detect_outliers(data_2019, 'Amount($)')"
   ]
  },
  {
   "cell_type": "code",
   "execution_count": 63,
   "metadata": {},
   "outputs": [
    {
     "data": {
      "text/plain": [
       "count    8.900000e+01\n",
       "mean     4.333030e+07\n",
       "std      1.028029e+08\n",
       "min      1.000000e+05\n",
       "25%      4.000000e+06\n",
       "50%      1.100000e+07\n",
       "75%      4.333030e+07\n",
       "max      6.930000e+08\n",
       "Name: Amount($), dtype: float64"
      ]
     },
     "execution_count": 63,
     "metadata": {},
     "output_type": "execute_result"
    }
   ],
   "source": [
    "data_2019['Amount($)'].describe().T"
   ]
  },
  {
   "cell_type": "code",
   "execution_count": 75,
   "metadata": {},
   "outputs": [
    {
     "data": {
      "image/png": "[encoded data removed]",
      "text/plain": [
       "<Figure size 800x600 with 1 Axes>"
      ]
     },
     "metadata": {},
     "output_type": "display_data"
    }
   ],
   "source": [
    "# Box Plot to visualize outliers\n",
    "plt.figure(figsize=(8, 6))\n",
    "sns.boxplot(x=data_2019['Amount($)'], color='green', flierprops=dict(markerfacecolor='orange'))\n",
    "plt.title('Box Plot - 2019 Amount($)')\n",
    "plt.xlabel('Amount($)')\n",
    "plt.show()"
   ]
  },
  {
   "cell_type": "code",
   "execution_count": null,
   "metadata": {},
   "outputs": [],
   "source": []
  },
  {
   "cell_type": "code",
   "execution_count": null,
   "metadata": {},
   "outputs": [],
   "source": []
  },
  {
   "cell_type": "code",
   "execution_count": null,
   "metadata": {},
   "outputs": [],
   "source": []
  },
  {
   "cell_type": "code",
   "execution_count": null,
   "metadata": {},
   "outputs": [],
   "source": []
  },
  {
   "cell_type": "code",
   "execution_count": null,
   "metadata": {},
   "outputs": [],
   "source": []
  },
  {
   "cell_type": "code",
   "execution_count": null,
   "metadata": {},
   "outputs": [],
   "source": []
  },
  {
   "cell_type": "code",
   "execution_count": null,
   "metadata": {},
   "outputs": [],
   "source": []
  },
  {
   "cell_type": "code",
   "execution_count": null,
   "metadata": {},
   "outputs": [],
   "source": []
  },
  {
   "cell_type": "code",
   "execution_count": null,
   "metadata": {},
   "outputs": [],
   "source": []
  },
  {
   "cell_type": "code",
   "execution_count": null,
   "metadata": {},
   "outputs": [],
   "source": []
  },
  {
   "cell_type": "code",
   "execution_count": null,
   "metadata": {},
   "outputs": [],
   "source": []
  },
  {
   "cell_type": "code",
   "execution_count": null,
   "metadata": {},
   "outputs": [],
   "source": []
  },
  {
   "cell_type": "code",
   "execution_count": null,
   "metadata": {},
   "outputs": [],
   "source": []
  },
  {
   "cell_type": "code",
   "execution_count": null,
   "metadata": {},
   "outputs": [],
   "source": []
  },
  {
   "cell_type": "code",
   "execution_count": null,
   "metadata": {},
   "outputs": [],
   "source": []
  },
  {
   "cell_type": "code",
   "execution_count": null,
   "metadata": {},
   "outputs": [],
   "source": []
  },
  {
   "cell_type": "code",
   "execution_count": null,
   "metadata": {},
   "outputs": [],
   "source": []
  },
  {
   "cell_type": "code",
   "execution_count": null,
   "metadata": {},
   "outputs": [],
   "source": []
  },
  {
   "cell_type": "code",
   "execution_count": null,
   "metadata": {},
   "outputs": [],
   "source": []
  },
  {
   "cell_type": "code",
   "execution_count": null,
   "metadata": {},
   "outputs": [],
   "source": []
  },
  {
   "cell_type": "code",
   "execution_count": null,
   "metadata": {},
   "outputs": [],
   "source": []
  },
  {
   "cell_type": "code",
   "execution_count": null,
   "metadata": {},
   "outputs": [],
   "source": []
  },
  {
   "cell_type": "code",
   "execution_count": null,
   "metadata": {},
   "outputs": [],
   "source": []
  },
  {
   "cell_type": "code",
   "execution_count": null,
   "metadata": {},
   "outputs": [],
   "source": []
  },
  {
   "cell_type": "code",
   "execution_count": null,
   "metadata": {},
   "outputs": [],
   "source": []
  },
  {
   "cell_type": "code",
   "execution_count": null,
   "metadata": {},
   "outputs": [],
   "source": []
  },
  {
   "cell_type": "markdown",
   "metadata": {},
   "source": [
    "Add Year column to all datasets\n"
   ]
  },
  {
   "cell_type": "code",
   "execution_count": 70,
   "metadata": {},
   "outputs": [],
   "source": [
    "# Adding a new \"Year\" column with the value of its value to all rows\n",
    "data_2018['Year'] = 2018\n",
    "data_2019['Year'] = 2019\n",
    "data_2020['Year'] = 2020\n",
    "data_2021['Year'] = 2021"
   ]
  },
  {
   "cell_type": "markdown",
   "metadata": {},
   "source": [
    "Rename columns in 2018 and 2019 datasets\n"
   ]
  },
  {
   "cell_type": "code",
   "execution_count": 71,
   "metadata": {},
   "outputs": [],
   "source": [
    "data_2018.rename(columns={'Company Name':'Company_Brand','Industry':'Sector','Round/Series':'Stage','Location':'HeadQuarter','About Company':'What it does'} ,inplace=True)\n",
    "data_2019.rename(columns={'Company/Brand':'Company_Brand','Amount($)':'Amount'},inplace=True)\n",
    "\n"
   ]
  },
  {
   "cell_type": "markdown",
   "metadata": {},
   "source": [
    "columns section for data analysis\n"
   ]
  },
  {
   "cell_type": "code",
   "execution_count": 72,
   "metadata": {},
   "outputs": [],
   "source": [
    "# Select the specified columns for analysis\n",
    "data_2018_selected = data_2018[['Company_Brand','HeadQuarter','Sector','Amount','Stage', 'Year']]\n",
    "data_2019_selected = data_2019[['Company_Brand','HeadQuarter','Sector','Amount','Stage','Year']]\n",
    "data_2020_selected = data_2020[['Company_Brand','HeadQuarter','Sector','Amount','Stage','Year']]\n",
    "data_2021_selected = data_2021[['Company_Brand','HeadQuarter','Sector','Amount','Stage','Year']]\n",
    "\n",
    "\n"
   ]
  },
  {
   "cell_type": "markdown",
   "metadata": {},
   "source": [
    "Combine all datasets into one dataframe combinedData\n"
   ]
  },
  {
   "cell_type": "code",
   "execution_count": 73,
   "metadata": {},
   "outputs": [],
   "source": [
    "# concatinate the tables\n",
    "combinedData= pd.concat([data_2018_selected,data_2019_selected,data_2020_selected,data_2021_selected],ignore_index=True)"
   ]
  },
  {
   "cell_type": "code",
   "execution_count": 74,
   "metadata": {},
   "outputs": [
    {
     "data": {
      "text/html": [
       "<div>\n",
       "<style scoped>\n",
       "    .dataframe tbody tr th:only-of-type {\n",
       "        vertical-align: middle;\n",
       "    }\n",
       "\n",
       "    .dataframe tbody tr th {\n",
       "        vertical-align: top;\n",
       "    }\n",
       "\n",
       "    .dataframe thead th {\n",
       "        text-align: right;\n",
       "    }\n",
       "</style>\n",
       "<table border=\"1\" class=\"dataframe\">\n",
       "  <thead>\n",
       "    <tr style=\"text-align: right;\">\n",
       "      <th></th>\n",
       "      <th>Company_Brand</th>\n",
       "      <th>HeadQuarter</th>\n",
       "      <th>Sector</th>\n",
       "      <th>Amount</th>\n",
       "      <th>Stage</th>\n",
       "      <th>Year</th>\n",
       "    </tr>\n",
       "  </thead>\n",
       "  <tbody>\n",
       "    <tr>\n",
       "      <th>2868</th>\n",
       "      <td>Proeon</td>\n",
       "      <td>Pune</td>\n",
       "      <td>Food Production</td>\n",
       "      <td>$2000000</td>\n",
       "      <td>Seed</td>\n",
       "      <td>2021</td>\n",
       "    </tr>\n",
       "    <tr>\n",
       "      <th>2869</th>\n",
       "      <td>InfyU Labs</td>\n",
       "      <td>Gandhinagar</td>\n",
       "      <td>AgriTech</td>\n",
       "      <td>$200000</td>\n",
       "      <td>Seed</td>\n",
       "      <td>2021</td>\n",
       "    </tr>\n",
       "    <tr>\n",
       "      <th>2870</th>\n",
       "      <td>TechEagle</td>\n",
       "      <td>Gurugram</td>\n",
       "      <td>Aviation &amp; Aerospace</td>\n",
       "      <td>$500000</td>\n",
       "      <td>Seed</td>\n",
       "      <td>2021</td>\n",
       "    </tr>\n",
       "    <tr>\n",
       "      <th>2871</th>\n",
       "      <td>Voxelgrids</td>\n",
       "      <td>Bangalore</td>\n",
       "      <td>Deeptech</td>\n",
       "      <td>$5000000</td>\n",
       "      <td>None</td>\n",
       "      <td>2021</td>\n",
       "    </tr>\n",
       "    <tr>\n",
       "      <th>2872</th>\n",
       "      <td>Cogos Technologies</td>\n",
       "      <td>Bangalore</td>\n",
       "      <td>Logistics &amp; Supply Chain</td>\n",
       "      <td>$2000000</td>\n",
       "      <td>Pre-series A</td>\n",
       "      <td>2021</td>\n",
       "    </tr>\n",
       "    <tr>\n",
       "      <th>2873</th>\n",
       "      <td>Gigforce</td>\n",
       "      <td>Gurugram</td>\n",
       "      <td>Staffing &amp; Recruiting</td>\n",
       "      <td>$3000000</td>\n",
       "      <td>Pre-series A</td>\n",
       "      <td>2021</td>\n",
       "    </tr>\n",
       "    <tr>\n",
       "      <th>2874</th>\n",
       "      <td>Vahdam</td>\n",
       "      <td>New Delhi</td>\n",
       "      <td>Food &amp; Beverages</td>\n",
       "      <td>$20000000</td>\n",
       "      <td>Series D</td>\n",
       "      <td>2021</td>\n",
       "    </tr>\n",
       "    <tr>\n",
       "      <th>2875</th>\n",
       "      <td>Leap Finance</td>\n",
       "      <td>Bangalore</td>\n",
       "      <td>Financial Services</td>\n",
       "      <td>$55000000</td>\n",
       "      <td>Series C</td>\n",
       "      <td>2021</td>\n",
       "    </tr>\n",
       "    <tr>\n",
       "      <th>2876</th>\n",
       "      <td>CollegeDekho</td>\n",
       "      <td>Gurugram</td>\n",
       "      <td>EdTech</td>\n",
       "      <td>$26000000</td>\n",
       "      <td>Series B</td>\n",
       "      <td>2021</td>\n",
       "    </tr>\n",
       "    <tr>\n",
       "      <th>2877</th>\n",
       "      <td>WeRize</td>\n",
       "      <td>Bangalore</td>\n",
       "      <td>Financial Services</td>\n",
       "      <td>$8000000</td>\n",
       "      <td>Series A</td>\n",
       "      <td>2021</td>\n",
       "    </tr>\n",
       "  </tbody>\n",
       "</table>\n",
       "</div>"
      ],
      "text/plain": [
       "           Company_Brand  HeadQuarter                    Sector     Amount  \\\n",
       "2868              Proeon         Pune           Food Production   $2000000   \n",
       "2869          InfyU Labs  Gandhinagar                  AgriTech    $200000   \n",
       "2870           TechEagle     Gurugram      Aviation & Aerospace    $500000   \n",
       "2871          Voxelgrids    Bangalore                  Deeptech   $5000000   \n",
       "2872  Cogos Technologies    Bangalore  Logistics & Supply Chain   $2000000   \n",
       "2873            Gigforce     Gurugram     Staffing & Recruiting   $3000000   \n",
       "2874              Vahdam    New Delhi          Food & Beverages  $20000000   \n",
       "2875        Leap Finance    Bangalore        Financial Services  $55000000   \n",
       "2876        CollegeDekho     Gurugram                    EdTech  $26000000   \n",
       "2877              WeRize    Bangalore        Financial Services   $8000000   \n",
       "\n",
       "             Stage  Year  \n",
       "2868          Seed  2021  \n",
       "2869          Seed  2021  \n",
       "2870          Seed  2021  \n",
       "2871          None  2021  \n",
       "2872  Pre-series A  2021  \n",
       "2873  Pre-series A  2021  \n",
       "2874      Series D  2021  \n",
       "2875      Series C  2021  \n",
       "2876      Series B  2021  \n",
       "2877      Series A  2021  "
      ]
     },
     "execution_count": 74,
     "metadata": {},
     "output_type": "execute_result"
    }
   ],
   "source": [
    "combinedData.tail(10)"
   ]
  },
  {
   "cell_type": "markdown",
   "metadata": {},
   "source": [
    "Check Amount Columns\n"
   ]
  },
  {
   "cell_type": "code",
   "execution_count": 75,
   "metadata": {},
   "outputs": [
    {
     "data": {
      "text/plain": [
       "array([250000.0, 571428.6, 928571.4, 2000000.0, 17545908.085411143,\n",
       "       1600000.0, 228571.4, 714285.7, 1428571.4, 150000.0, 1100000.0,\n",
       "       7142.9, 6000000.0, 650000.0, 500000.0, 914285.7, 285714.3,\n",
       "       1000000.0, 5000000.0, 4000000.0, 428571.4, 2800000.0, 1700000.0,\n",
       "       1300000.0, 71428.6, 178571.4, 214285.7, 1485714.3, 642857.1,\n",
       "       13400000.0, 357142.9, 377142.9, 114285.7, 857.1, 9000000.0,\n",
       "       100000.0, 20000.0, 120000.0, 485714.3, 4885714.3, 143145.0,\n",
       "       8571428.6, 742000000.0, 14285714.3, 28571428.6, 3980000.0, 10000.0,\n",
       "       1428.6, 3571428.6, 1000000000.0, 7000000.0, 35000000.0, 7857142.9,\n",
       "       28500000.0, 3428571.4, 1714285.7, 2400000.0, 30000000.0,\n",
       "       35714285.7, 23000000.0, 11000000.0, 628571.4, 3240000.0, 857142.9,\n",
       "       540000000.0, 9285714.3, 22857142.9, 900000.0, 10000000.0,\n",
       "       1500000.0, 14000000.0, 1464285.7, 100000000.0, 17142.9, 74285714.3,\n",
       "       800000.0, 1041000.0, 15000.0, 1400000.0, 1200000.0, 2200000.0,\n",
       "       1800000.0, 3600000.0, 135714.3, 300000.0, 6830000.0, 200000.0,\n",
       "       2142857.1, 4300000.0, 364846.0, 400000.0, 142857.1, 321428.6,\n",
       "       13200000.0, 50000.0, 2002857.1, 3000000.0, 1250000.0, 180000.0,\n",
       "       274285.7, 1471428.6, 4200000.0, 175000.0, 1450000.0, 2857.1,\n",
       "       4500000.0, 600000.0, 237142.9, 171428.6, 15000000.0, 471428.6,\n",
       "       125000.0, 130000.0, 498571.4, 1028571.4, 17200000.0, 457142.9,\n",
       "       3500000.0, 1928571.4, 12000000.0, 40000000.0, 50000000.0,\n",
       "       22000000.0, 41900000.0, 20142857.1, 3530000.0, 3300000.0,\n",
       "       8285714.3, 514285.7, 4857142.9, 210000000.0, 37680000.0, 7285714.3,\n",
       "       31428571.4, 70000.0, 219885714.3, 285714285.7, 57142857.1,\n",
       "       185000000.0, 65000000.0, 2357142.9, 700000.0, 28994285.7,\n",
       "       75000000.0, 1142857.1, 1760000.0, 2700000.0, 11428571.4, 750000.0,\n",
       "       2500000.0, 80000000.0, 25000000.0, 10428571.4, 5714285.7,\n",
       "       3700000.0, 5600000.0, 3714285.7, 99230000.0, 70000000.0, 40000.0,\n",
       "       550000.0, 365000000.0, 1114285.7, 28000000.0, 3771428.6,\n",
       "       16142857.1, 11571428.6, 20000000.0, 14900000.0, 225000000.0,\n",
       "       7500.0, 6300000.0, 150000000.0, 43330301.2987013, 275000000.0,\n",
       "       140500.0, 182700.0, 15500000.0, 5500000.0, 140000.0, 230000000.0,\n",
       "       49400000.0, 32000000.0, 26000000.0, 8000000.0, 120000000.0,\n",
       "       6800000.0, 36000000.0, 5700000.0, 60000000.0, 220000.0, 2100000.0,\n",
       "       311000000.0, 4800000.0, 693000000.0, 33000000.0, nan, 340000.0,\n",
       "       45000000.0, 660000000.0, 7500000.0, 145000000.0, 21000000.0,\n",
       "       560000.0, 275000.0, 390000000.0, 5100000.0, 700000000.0, 2300000.0,\n",
       "       19000000.0, 7800000.0, 200000000.0, 4100000.0, 575000.0,\n",
       "       18000000.0, 3200000.0, 4700000.0, 121000000.0, 55000000.0,\n",
       "       16000000.0, 5400000.0, 52000000.0, 118000000.0, 18500000.0,\n",
       "       70000000000.0, 800000000.0, 400000000.0, 176000000.0, 470000.0,\n",
       "       240000.0, 3000000000.0, 74000000.0, 62000000.0, 500000000.0,\n",
       "       12500000.0, 2200000000.0, 5060000.0, 24700000.0, 7700000.0,\n",
       "       19067328.0, 51000000.0, 115000.0, 54000.0, 803146.0, 238000.0,\n",
       "       10220000.0, 1020000.0, 170000000.0, 2900000.0, 543000.0,\n",
       "       90000000.0, 3400000.0, 8090000.0, 1030000.0, 5040000.0, 360000.0,\n",
       "       54000000.0, 42500000.0, 11370000.0, 325000.0, 410000.0, 450000.0,\n",
       "       682000.0, 4050000.0, 1050000.0, 1080000.0, 2110000.0, 764000.0,\n",
       "       603000.0, 409000.0, 292000.0, 286000.0, 136000.0, 546000.0,\n",
       "       887000.0, 43000.0, 40900.0, 5660000.0, 350000.0, 110000.0,\n",
       "       122000000.0, 11635000.0, 1065000.0, 669000.0, 16076000.0, 649600.0,\n",
       "       6700000.0, 266500.0, 2879000.0, 26500000.0, 351000.0, 46761000.0,\n",
       "       11241000.0, 804000.0, 1340000.0, 467000.0, 133000.0, 3823000.0,\n",
       "       934000.0, 293000.0, 198000.0, 927000.0, 971000.0, 3060000.0,\n",
       "       1862000.0, 232000.0, 2888000.0, 1328000.0, 56000000.0, 2250000.0,\n",
       "       16753000.0, 1470000.0, 530000.0, 267000.0, 3344000.0, 7200000.0,\n",
       "       2743000.0, 6082000.0, 6609000.0, 27700000.0, 5940000.0, 3964000.0,\n",
       "       197000.0, 4327000.0, 459000.0, 3937000.0, 1313500.0, 229800.0,\n",
       "       5305000.0, 264000.0, 1750000.0, 5967000.0, 2980000.0, 323000.0,\n",
       "       1326000.0, 27000000.0, 5200000.0, 2530000.0, 792000.0, 11363000.0,\n",
       "       1715000.0, 329000.0, 5271000.0, 8700000.0, 3226000.0, 5900000.0,\n",
       "       44000000.0, 3879000.0, 13000000.0, 8800000.0, 9500000.0, 920000.0,\n",
       "       35600000.0, 9400000.0, 790000.0, 480000.0, 160000.0, 8200000.0,\n",
       "       4257000.0, 1410000.0, 349800.0, 786000.0, 2004000.0, 123000000.0,\n",
       "       248000.0, 24000000.0, 14259000.0, 24500000.0, 3800000.0,\n",
       "       18370000.0, 68525000.0, 1834000.0, 23850000.0, 43000000.0,\n",
       "       21600000.0, 4598000.0, 13137000.0, 115000000.0, 3900000.0,\n",
       "       670000.0, 8500000.0, 3148000.0, 2600000.0, 4049500.0, 10500000.0,\n",
       "       6500000.0, 43700000.0, 13800000.0, 306900.0, 420000.0, 627300.0,\n",
       "       113000000.0, 110000000.0, 1397000.0, 448500.0, 7975700.0, 330000.0,\n",
       "       1402000.0, 21500000.0, 296000000.0, 4900000.0, 1402400.0,\n",
       "       12618300.0, 9900000.0, 982530.0, 70185200.0, 84000000.0,\n",
       "       39000000.0, 1403400.0, 105000000.0, 103000000.0, 281300.0, 12700.0,\n",
       "       25000.0, 97500000.0, 507000.0, 8400000.0, 18300000.0, 125000000.0,\n",
       "       181000.0, 280000.0, 14700000.0, 8043000.0, '$1,200,000',\n",
       "       '$120,000,000', '$30,000,000', '$51,000,000', '$2,000,000',\n",
       "       '$188,000,000', '$200,000', 'Undisclosed', '$1,000,000',\n",
       "       '$3,000,000', '$100,000', '$700,000', '$9,000,000', '$40,000,000',\n",
       "       '$49,000,000', '$400,000', '$300,000', '$25,000,000',\n",
       "       '$160,000,000', '$150,000', '$1,800,000', '$5,000,000', '$850,000',\n",
       "       '$53,000,000', '$500,000', '$1,100,000', '$6,000,000', '$800,000',\n",
       "       '$10,000,000', '$21,000,000', '$7,500,000', '$26,000,000',\n",
       "       '$7,400,000', '$1,500,000', '$600,000', '$800,000,000',\n",
       "       '$17,000,000', '$3,500,000', '$15,000,000', '$215,000,000',\n",
       "       '$2,500,000', '$350,000,000', '$5,500,000', '$83,000,000',\n",
       "       '$110,000,000', '$500,000,000', '$65,000,000', '$150,000,000,000',\n",
       "       '$300,000,000', '$2,200,000', '$35,000,000', '$140,000,000',\n",
       "       '$4,000,000', '$13,000,000', None, '$Undisclosed', '$2000000',\n",
       "       '$800000', '$6000000', '$2500000', '$9500000', '$13000000',\n",
       "       '$5000000', '$8000000', '$1000000', 'Upsparks', '$200000',\n",
       "       '$12000000', '$1500000', '$1700000', '$5500000', '$400000',\n",
       "       '$150000000', '$4000000', '$100000000', '$500000', '$15000000',\n",
       "       '$10000000', '$40000000', '$225000000', '$6700000', '$1300000',\n",
       "       '$20000000', '$250000', '$21000000', '$1200000', '$52000000',\n",
       "       '$3800000', '$17500000', '$42000000', '$2300000', '$7000000',\n",
       "       '$30000000', '$450000000', '$28000000', '$300000', '$3500000',\n",
       "       '$8500000', '$25000000', '$3000000', '$37000000', '$370000000',\n",
       "       '$700000', '$16000000', '$100000', '$44000000', '$770000',\n",
       "       '$125000000', '$35000000', '$50000000', '$4900000', '$145000000',\n",
       "       '$22000000', '$70000000', '$6600000', '$32000000', '$24000000',\n",
       "       '$725000', '$461000', 'Series C', 'Seed', '$96000000', '$60000000',\n",
       "       '$500000000', '$266000000', '$4500000', '$325000000', '$6500000',\n",
       "       '$1600000', '$150000', '$225000', '$85000000', '$235000',\n",
       "       '$260000', '$2900000', '$53000000', '$1100000', '$86000000',\n",
       "       '$130000', '$$100,00', '$111000000', '$265000', '$76000000',\n",
       "       '$100,000,000', '$75,000,000', '$3,800,000', '$12,000,000',\n",
       "       '$1,600,000', '$260,000', '$1,000,000,000', '$18,000,000',\n",
       "       '$20,000,000', '$350,000', '$95,000,000', '$4,100,000',\n",
       "       '$5,200,000', '$8,000,000', '$1,400,000', '$2,600,000', '$900,000',\n",
       "       '$250,000', '$16,000,000', '$7,000,000', '$11,000,000',\n",
       "       '$280,000,000', '$50,000,000', '$14,300,000', '$81,000,000',\n",
       "       '$1,300,000', '$8,200,000', '$70,000,000', '$720,000', '$600000',\n",
       "       '$9000000', '$1800000', '$330000', '$undisclosed', '$200000000',\n",
       "       '$36000000', '$67000000', '$10200000', '$220000000', '$108000000',\n",
       "       '$75000000', '$450000', '$660000000', 'ah! Ventures', '$45000000',\n",
       "       '$3200000', '$370000', 'Pre-series A',\n",
       "       'ITO Angel Network, LetsVenture', '$48000000', '$3600000',\n",
       "       '$11000000', '$192000000', '$65000000', '$1400000', '$1900000',\n",
       "       '$41000000', '$144000000', '$5200000', '$270000000', '$140000',\n",
       "       '$250000000', '$320000', '$350000000', '$4800000', '$38000000',\n",
       "       '$125000', '$26000000', '$64000000', '$620000', '$900000',\n",
       "       'JITO Angel Network, LetsVenture', '$2600000', '$1,250,000',\n",
       "       '$400,000,000', '$1,700,000', '$27,000,000', '$234,000,000',\n",
       "       '$460,000,000', '$13,500,000', '$5,100,000', '$195,000,000',\n",
       "       '$125,000', '$45,000,000', '$200,000,000', '$7,300,000',\n",
       "       '$6,300,000', '$12,500,000', '$24,000,000', '$140,000',\n",
       "       '$16,500,000', '$340,000', '$43,000,000', '$150,000,000',\n",
       "       '$3300000', '$92000000', '$17000000', '$135000000', '$$1,55,000',\n",
       "       '$2100000', '$840000000', '$248000000', '$4300000', '$570000',\n",
       "       '$2200000', '$4700000', '$300000000', '$260000000', '$140000000',\n",
       "       '$175000000', '$19000000', '$810000', '$7500000', '$600000000',\n",
       "       '$90000000', '$5700000', '$6750000', '$78000000', '$5400000',\n",
       "       '$115000000', '$255000000', '$18000000', '$570000000', '$550000',\n",
       "       '$2700000', '$4200000', '$31000000', '$540000', '$14000000',\n",
       "       '$340000', '$', '$6200000', '$750000', '$6300000', '$23000000',\n",
       "       '$55000000'], dtype=object)"
      ]
     },
     "execution_count": 75,
     "metadata": {},
     "output_type": "execute_result"
    }
   ],
   "source": [
    "combinedData['Amount'].unique()"
   ]
  },
  {
   "cell_type": "code",
   "execution_count": 76,
   "metadata": {},
   "outputs": [],
   "source": [
    "# Replace  non-numerical values in the 'amount' column with 0\n",
    "combinedData['Amount'].replace(['—','Undisclosed','None', '$Undisclosed', '$','Upsparks', 'JITO Angel Network, LetsVenture','Series C', 'Seed', '$undisclosed', 'ah! Ventures', 'Pre-series A', 'ITO Angel Network, LetsVenture'], 0, inplace=True)"
   ]
  },
  {
   "cell_type": "code",
   "execution_count": 77,
   "metadata": {},
   "outputs": [
    {
     "data": {
      "text/plain": [
       "array([250000.0, 571428.6, 928571.4, 2000000.0, 17545908.085411143,\n",
       "       1600000.0, 228571.4, 714285.7, 1428571.4, 150000.0, 1100000.0,\n",
       "       7142.9, 6000000.0, 650000.0, 500000.0, 914285.7, 285714.3,\n",
       "       1000000.0, 5000000.0, 4000000.0, 428571.4, 2800000.0, 1700000.0,\n",
       "       1300000.0, 71428.6, 178571.4, 214285.7, 1485714.3, 642857.1,\n",
       "       13400000.0, 357142.9, 377142.9, 114285.7, 857.1, 9000000.0,\n",
       "       100000.0, 20000.0, 120000.0, 485714.3, 4885714.3, 143145.0,\n",
       "       8571428.6, 742000000.0, 14285714.3, 28571428.6, 3980000.0, 10000.0,\n",
       "       1428.6, 3571428.6, 1000000000.0, 7000000.0, 35000000.0, 7857142.9,\n",
       "       28500000.0, 3428571.4, 1714285.7, 2400000.0, 30000000.0,\n",
       "       35714285.7, 23000000.0, 11000000.0, 628571.4, 3240000.0, 857142.9,\n",
       "       540000000.0, 9285714.3, 22857142.9, 900000.0, 10000000.0,\n",
       "       1500000.0, 14000000.0, 1464285.7, 100000000.0, 17142.9, 74285714.3,\n",
       "       800000.0, 1041000.0, 15000.0, 1400000.0, 1200000.0, 2200000.0,\n",
       "       1800000.0, 3600000.0, 135714.3, 300000.0, 6830000.0, 200000.0,\n",
       "       2142857.1, 4300000.0, 364846.0, 400000.0, 142857.1, 321428.6,\n",
       "       13200000.0, 50000.0, 2002857.1, 3000000.0, 1250000.0, 180000.0,\n",
       "       274285.7, 1471428.6, 4200000.0, 175000.0, 1450000.0, 2857.1,\n",
       "       4500000.0, 600000.0, 237142.9, 171428.6, 15000000.0, 471428.6,\n",
       "       125000.0, 130000.0, 498571.4, 1028571.4, 17200000.0, 457142.9,\n",
       "       3500000.0, 1928571.4, 12000000.0, 40000000.0, 50000000.0,\n",
       "       22000000.0, 41900000.0, 20142857.1, 3530000.0, 3300000.0,\n",
       "       8285714.3, 514285.7, 4857142.9, 210000000.0, 37680000.0, 7285714.3,\n",
       "       31428571.4, 70000.0, 219885714.3, 285714285.7, 57142857.1,\n",
       "       185000000.0, 65000000.0, 2357142.9, 700000.0, 28994285.7,\n",
       "       75000000.0, 1142857.1, 1760000.0, 2700000.0, 11428571.4, 750000.0,\n",
       "       2500000.0, 80000000.0, 25000000.0, 10428571.4, 5714285.7,\n",
       "       3700000.0, 5600000.0, 3714285.7, 99230000.0, 70000000.0, 40000.0,\n",
       "       550000.0, 365000000.0, 1114285.7, 28000000.0, 3771428.6,\n",
       "       16142857.1, 11571428.6, 20000000.0, 14900000.0, 225000000.0,\n",
       "       7500.0, 6300000.0, 150000000.0, 43330301.2987013, 275000000.0,\n",
       "       140500.0, 182700.0, 15500000.0, 5500000.0, 140000.0, 230000000.0,\n",
       "       49400000.0, 32000000.0, 26000000.0, 8000000.0, 120000000.0,\n",
       "       6800000.0, 36000000.0, 5700000.0, 60000000.0, 220000.0, 2100000.0,\n",
       "       311000000.0, 4800000.0, 693000000.0, 33000000.0, nan, 340000.0,\n",
       "       45000000.0, 660000000.0, 7500000.0, 145000000.0, 21000000.0,\n",
       "       560000.0, 275000.0, 390000000.0, 5100000.0, 700000000.0, 2300000.0,\n",
       "       19000000.0, 7800000.0, 200000000.0, 4100000.0, 575000.0,\n",
       "       18000000.0, 3200000.0, 4700000.0, 121000000.0, 55000000.0,\n",
       "       16000000.0, 5400000.0, 52000000.0, 118000000.0, 18500000.0,\n",
       "       70000000000.0, 800000000.0, 400000000.0, 176000000.0, 470000.0,\n",
       "       240000.0, 3000000000.0, 74000000.0, 62000000.0, 500000000.0,\n",
       "       12500000.0, 2200000000.0, 5060000.0, 24700000.0, 7700000.0,\n",
       "       19067328.0, 51000000.0, 115000.0, 54000.0, 803146.0, 238000.0,\n",
       "       10220000.0, 1020000.0, 170000000.0, 2900000.0, 543000.0,\n",
       "       90000000.0, 3400000.0, 8090000.0, 1030000.0, 5040000.0, 360000.0,\n",
       "       54000000.0, 42500000.0, 11370000.0, 325000.0, 410000.0, 450000.0,\n",
       "       682000.0, 4050000.0, 1050000.0, 1080000.0, 2110000.0, 764000.0,\n",
       "       603000.0, 409000.0, 292000.0, 286000.0, 136000.0, 546000.0,\n",
       "       887000.0, 43000.0, 40900.0, 5660000.0, 350000.0, 110000.0,\n",
       "       122000000.0, 11635000.0, 1065000.0, 669000.0, 16076000.0, 649600.0,\n",
       "       6700000.0, 266500.0, 2879000.0, 26500000.0, 351000.0, 46761000.0,\n",
       "       11241000.0, 804000.0, 1340000.0, 467000.0, 133000.0, 3823000.0,\n",
       "       934000.0, 293000.0, 198000.0, 927000.0, 971000.0, 3060000.0,\n",
       "       1862000.0, 232000.0, 2888000.0, 1328000.0, 56000000.0, 2250000.0,\n",
       "       16753000.0, 1470000.0, 530000.0, 267000.0, 3344000.0, 7200000.0,\n",
       "       2743000.0, 6082000.0, 6609000.0, 27700000.0, 5940000.0, 3964000.0,\n",
       "       197000.0, 4327000.0, 459000.0, 3937000.0, 1313500.0, 229800.0,\n",
       "       5305000.0, 264000.0, 1750000.0, 5967000.0, 2980000.0, 323000.0,\n",
       "       1326000.0, 27000000.0, 5200000.0, 2530000.0, 792000.0, 11363000.0,\n",
       "       1715000.0, 329000.0, 5271000.0, 8700000.0, 3226000.0, 5900000.0,\n",
       "       44000000.0, 3879000.0, 13000000.0, 8800000.0, 9500000.0, 920000.0,\n",
       "       35600000.0, 9400000.0, 790000.0, 480000.0, 160000.0, 8200000.0,\n",
       "       4257000.0, 1410000.0, 349800.0, 786000.0, 2004000.0, 123000000.0,\n",
       "       248000.0, 24000000.0, 14259000.0, 24500000.0, 3800000.0,\n",
       "       18370000.0, 68525000.0, 1834000.0, 23850000.0, 43000000.0,\n",
       "       21600000.0, 4598000.0, 13137000.0, 115000000.0, 3900000.0,\n",
       "       670000.0, 8500000.0, 3148000.0, 2600000.0, 4049500.0, 10500000.0,\n",
       "       6500000.0, 43700000.0, 13800000.0, 306900.0, 420000.0, 627300.0,\n",
       "       113000000.0, 110000000.0, 1397000.0, 448500.0, 7975700.0, 330000.0,\n",
       "       1402000.0, 21500000.0, 296000000.0, 4900000.0, 1402400.0,\n",
       "       12618300.0, 9900000.0, 982530.0, 70185200.0, 84000000.0,\n",
       "       39000000.0, 1403400.0, 105000000.0, 103000000.0, 281300.0, 12700.0,\n",
       "       25000.0, 97500000.0, 507000.0, 8400000.0, 18300000.0, 125000000.0,\n",
       "       181000.0, 280000.0, 14700000.0, 8043000.0, '$1,200,000',\n",
       "       '$120,000,000', '$30,000,000', '$51,000,000', '$2,000,000',\n",
       "       '$188,000,000', '$200,000', 0, '$1,000,000', '$3,000,000',\n",
       "       '$100,000', '$700,000', '$9,000,000', '$40,000,000', '$49,000,000',\n",
       "       '$400,000', '$300,000', '$25,000,000', '$160,000,000', '$150,000',\n",
       "       '$1,800,000', '$5,000,000', '$850,000', '$53,000,000', '$500,000',\n",
       "       '$1,100,000', '$6,000,000', '$800,000', '$10,000,000',\n",
       "       '$21,000,000', '$7,500,000', '$26,000,000', '$7,400,000',\n",
       "       '$1,500,000', '$600,000', '$800,000,000', '$17,000,000',\n",
       "       '$3,500,000', '$15,000,000', '$215,000,000', '$2,500,000',\n",
       "       '$350,000,000', '$5,500,000', '$83,000,000', '$110,000,000',\n",
       "       '$500,000,000', '$65,000,000', '$150,000,000,000', '$300,000,000',\n",
       "       '$2,200,000', '$35,000,000', '$140,000,000', '$4,000,000',\n",
       "       '$13,000,000', None, '$2000000', '$800000', '$6000000', '$2500000',\n",
       "       '$9500000', '$13000000', '$5000000', '$8000000', '$1000000',\n",
       "       '$200000', '$12000000', '$1500000', '$1700000', '$5500000',\n",
       "       '$400000', '$150000000', '$4000000', '$100000000', '$500000',\n",
       "       '$15000000', '$10000000', '$40000000', '$225000000', '$6700000',\n",
       "       '$1300000', '$20000000', '$250000', '$21000000', '$1200000',\n",
       "       '$52000000', '$3800000', '$17500000', '$42000000', '$2300000',\n",
       "       '$7000000', '$30000000', '$450000000', '$28000000', '$300000',\n",
       "       '$3500000', '$8500000', '$25000000', '$3000000', '$37000000',\n",
       "       '$370000000', '$700000', '$16000000', '$100000', '$44000000',\n",
       "       '$770000', '$125000000', '$35000000', '$50000000', '$4900000',\n",
       "       '$145000000', '$22000000', '$70000000', '$6600000', '$32000000',\n",
       "       '$24000000', '$725000', '$461000', '$96000000', '$60000000',\n",
       "       '$500000000', '$266000000', '$4500000', '$325000000', '$6500000',\n",
       "       '$1600000', '$150000', '$225000', '$85000000', '$235000',\n",
       "       '$260000', '$2900000', '$53000000', '$1100000', '$86000000',\n",
       "       '$130000', '$$100,00', '$111000000', '$265000', '$76000000',\n",
       "       '$100,000,000', '$75,000,000', '$3,800,000', '$12,000,000',\n",
       "       '$1,600,000', '$260,000', '$1,000,000,000', '$18,000,000',\n",
       "       '$20,000,000', '$350,000', '$95,000,000', '$4,100,000',\n",
       "       '$5,200,000', '$8,000,000', '$1,400,000', '$2,600,000', '$900,000',\n",
       "       '$250,000', '$16,000,000', '$7,000,000', '$11,000,000',\n",
       "       '$280,000,000', '$50,000,000', '$14,300,000', '$81,000,000',\n",
       "       '$1,300,000', '$8,200,000', '$70,000,000', '$720,000', '$600000',\n",
       "       '$9000000', '$1800000', '$330000', '$200000000', '$36000000',\n",
       "       '$67000000', '$10200000', '$220000000', '$108000000', '$75000000',\n",
       "       '$450000', '$660000000', '$45000000', '$3200000', '$370000',\n",
       "       '$48000000', '$3600000', '$11000000', '$192000000', '$65000000',\n",
       "       '$1400000', '$1900000', '$41000000', '$144000000', '$5200000',\n",
       "       '$270000000', '$140000', '$250000000', '$320000', '$350000000',\n",
       "       '$4800000', '$38000000', '$125000', '$26000000', '$64000000',\n",
       "       '$620000', '$900000', '$2600000', '$1,250,000', '$400,000,000',\n",
       "       '$1,700,000', '$27,000,000', '$234,000,000', '$460,000,000',\n",
       "       '$13,500,000', '$5,100,000', '$195,000,000', '$125,000',\n",
       "       '$45,000,000', '$200,000,000', '$7,300,000', '$6,300,000',\n",
       "       '$12,500,000', '$24,000,000', '$140,000', '$16,500,000',\n",
       "       '$340,000', '$43,000,000', '$150,000,000', '$3300000', '$92000000',\n",
       "       '$17000000', '$135000000', '$$1,55,000', '$2100000', '$840000000',\n",
       "       '$248000000', '$4300000', '$570000', '$2200000', '$4700000',\n",
       "       '$300000000', '$260000000', '$140000000', '$175000000',\n",
       "       '$19000000', '$810000', '$7500000', '$600000000', '$90000000',\n",
       "       '$5700000', '$6750000', '$78000000', '$5400000', '$115000000',\n",
       "       '$255000000', '$18000000', '$570000000', '$550000', '$2700000',\n",
       "       '$4200000', '$31000000', '$540000', '$14000000', '$340000',\n",
       "       '$6200000', '$750000', '$6300000', '$23000000', '$55000000'],\n",
       "      dtype=object)"
      ]
     },
     "execution_count": 77,
     "metadata": {},
     "output_type": "execute_result"
    }
   ],
   "source": [
    "combinedData['Amount'].unique()"
   ]
  },
  {
   "cell_type": "markdown",
   "metadata": {},
   "source": [
    "To check for the null Values in the Concataned table\n"
   ]
  },
  {
   "cell_type": "code",
   "execution_count": 78,
   "metadata": {},
   "outputs": [
    {
     "data": {
      "text/plain": [
       "Company_Brand      0\n",
       "HeadQuarter       95\n",
       "Sector            13\n",
       "Amount           257\n",
       "Stage            938\n",
       "Year               0\n",
       "dtype: int64"
      ]
     },
     "execution_count": 78,
     "metadata": {},
     "output_type": "execute_result"
    }
   ],
   "source": [
    "combinedData.isna().sum()"
   ]
  },
  {
   "cell_type": "markdown",
   "metadata": {},
   "source": [
    "handling the missing Values\n"
   ]
  },
  {
   "cell_type": "code",
   "execution_count": 79,
   "metadata": {},
   "outputs": [],
   "source": [
    "combinedData.fillna(value={'HeadQuarter':'Unknown','Sector':'Unknown','Amount':0,'Stage':'Unknown'},inplace=True)\n"
   ]
  },
  {
   "cell_type": "code",
   "execution_count": 80,
   "metadata": {},
   "outputs": [
    {
     "data": {
      "text/plain": [
       "Company_Brand    0\n",
       "HeadQuarter      0\n",
       "Sector           0\n",
       "Amount           0\n",
       "Stage            0\n",
       "Year             0\n",
       "dtype: int64"
      ]
     },
     "execution_count": 80,
     "metadata": {},
     "output_type": "execute_result"
    }
   ],
   "source": [
    "combinedData.isna().sum()"
   ]
  },
  {
   "cell_type": "markdown",
   "metadata": {},
   "source": [
    "To convert the Amount Column to one currency\n"
   ]
  },
  {
   "cell_type": "code",
   "execution_count": 81,
   "metadata": {},
   "outputs": [
    {
     "data": {
      "text/html": [
       "<div>\n",
       "<style scoped>\n",
       "    .dataframe tbody tr th:only-of-type {\n",
       "        vertical-align: middle;\n",
       "    }\n",
       "\n",
       "    .dataframe tbody tr th {\n",
       "        vertical-align: top;\n",
       "    }\n",
       "\n",
       "    .dataframe thead th {\n",
       "        text-align: right;\n",
       "    }\n",
       "</style>\n",
       "<table border=\"1\" class=\"dataframe\">\n",
       "  <thead>\n",
       "    <tr style=\"text-align: right;\">\n",
       "      <th></th>\n",
       "      <th>Company_Brand</th>\n",
       "      <th>HeadQuarter</th>\n",
       "      <th>Sector</th>\n",
       "      <th>Amount</th>\n",
       "      <th>Stage</th>\n",
       "      <th>Year</th>\n",
       "    </tr>\n",
       "  </thead>\n",
       "  <tbody>\n",
       "    <tr>\n",
       "      <th>689</th>\n",
       "      <td>5C Network</td>\n",
       "      <td>Bangalore</td>\n",
       "      <td>HealthTech</td>\n",
       "      <td>1200000.0</td>\n",
       "      <td>Pre-series A</td>\n",
       "      <td>2020</td>\n",
       "    </tr>\n",
       "    <tr>\n",
       "      <th>134</th>\n",
       "      <td>PerkFinance</td>\n",
       "      <td>Bangalore</td>\n",
       "      <td>Consumer Lending</td>\n",
       "      <td>900000.0</td>\n",
       "      <td>Seed</td>\n",
       "      <td>2018</td>\n",
       "    </tr>\n",
       "    <tr>\n",
       "      <th>2345</th>\n",
       "      <td>MicroDegree</td>\n",
       "      <td>Mangalore</td>\n",
       "      <td>EdTech</td>\n",
       "      <td>0</td>\n",
       "      <td>Unknown</td>\n",
       "      <td>2021</td>\n",
       "    </tr>\n",
       "    <tr>\n",
       "      <th>1113</th>\n",
       "      <td>Verloop.io</td>\n",
       "      <td>Unknown</td>\n",
       "      <td>AI</td>\n",
       "      <td>5000000.0</td>\n",
       "      <td>Unknown</td>\n",
       "      <td>2020</td>\n",
       "    </tr>\n",
       "    <tr>\n",
       "      <th>2257</th>\n",
       "      <td>goSTOPS</td>\n",
       "      <td>New Delhi</td>\n",
       "      <td>Hospitality</td>\n",
       "      <td>$1000000</td>\n",
       "      <td>Pre-series A</td>\n",
       "      <td>2021</td>\n",
       "    </tr>\n",
       "    <tr>\n",
       "      <th>192</th>\n",
       "      <td>Placio</td>\n",
       "      <td>Noida</td>\n",
       "      <td>Hospitality</td>\n",
       "      <td>2000000.0</td>\n",
       "      <td>Seed</td>\n",
       "      <td>2018</td>\n",
       "    </tr>\n",
       "    <tr>\n",
       "      <th>1170</th>\n",
       "      <td>Snack Amor</td>\n",
       "      <td>Mumbai</td>\n",
       "      <td>Foodtech</td>\n",
       "      <td>0</td>\n",
       "      <td>Unknown</td>\n",
       "      <td>2020</td>\n",
       "    </tr>\n",
       "    <tr>\n",
       "      <th>430</th>\n",
       "      <td>Cellerite Systems</td>\n",
       "      <td>Hyderabad</td>\n",
       "      <td>Electric Vehicle</td>\n",
       "      <td>17545908.085411</td>\n",
       "      <td>Seed</td>\n",
       "      <td>2018</td>\n",
       "    </tr>\n",
       "    <tr>\n",
       "      <th>2142</th>\n",
       "      <td>I am Love</td>\n",
       "      <td>Mumbai</td>\n",
       "      <td>Healthcare</td>\n",
       "      <td>$4000000</td>\n",
       "      <td>Seed</td>\n",
       "      <td>2021</td>\n",
       "    </tr>\n",
       "    <tr>\n",
       "      <th>764</th>\n",
       "      <td>Stride Ventures</td>\n",
       "      <td>New Delhi</td>\n",
       "      <td>Venture capitalist</td>\n",
       "      <td>80000000.0</td>\n",
       "      <td>Unknown</td>\n",
       "      <td>2020</td>\n",
       "    </tr>\n",
       "  </tbody>\n",
       "</table>\n",
       "</div>"
      ],
      "text/plain": [
       "          Company_Brand HeadQuarter              Sector           Amount  \\\n",
       "689          5C Network   Bangalore          HealthTech        1200000.0   \n",
       "134         PerkFinance   Bangalore    Consumer Lending         900000.0   \n",
       "2345        MicroDegree   Mangalore              EdTech                0   \n",
       "1113         Verloop.io     Unknown                  AI        5000000.0   \n",
       "2257            goSTOPS   New Delhi         Hospitality         $1000000   \n",
       "192              Placio       Noida         Hospitality        2000000.0   \n",
       "1170         Snack Amor      Mumbai            Foodtech                0   \n",
       "430   Cellerite Systems   Hyderabad    Electric Vehicle  17545908.085411   \n",
       "2142          I am Love      Mumbai          Healthcare         $4000000   \n",
       "764     Stride Ventures   New Delhi  Venture capitalist       80000000.0   \n",
       "\n",
       "             Stage  Year  \n",
       "689   Pre-series A  2020  \n",
       "134           Seed  2018  \n",
       "2345       Unknown  2021  \n",
       "1113       Unknown  2020  \n",
       "2257  Pre-series A  2021  \n",
       "192           Seed  2018  \n",
       "1170       Unknown  2020  \n",
       "430           Seed  2018  \n",
       "2142          Seed  2021  \n",
       "764        Unknown  2020  "
      ]
     },
     "execution_count": 81,
     "metadata": {},
     "output_type": "execute_result"
    }
   ],
   "source": [
    "# Peak a sample data tp overview\n",
    "combinedData.sample(10)"
   ]
  },
  {
   "cell_type": "code",
   "execution_count": null,
   "metadata": {},
   "outputs": [],
   "source": []
  },
  {
   "cell_type": "code",
   "execution_count": 82,
   "metadata": {},
   "outputs": [
    {
     "data": {
      "text/html": [
       "<div>\n",
       "<style scoped>\n",
       "    .dataframe tbody tr th:only-of-type {\n",
       "        vertical-align: middle;\n",
       "    }\n",
       "\n",
       "    .dataframe tbody tr th {\n",
       "        vertical-align: top;\n",
       "    }\n",
       "\n",
       "    .dataframe thead th {\n",
       "        text-align: right;\n",
       "    }\n",
       "</style>\n",
       "<table border=\"1\" class=\"dataframe\">\n",
       "  <thead>\n",
       "    <tr style=\"text-align: right;\">\n",
       "      <th></th>\n",
       "      <th>Company_Brand</th>\n",
       "      <th>HeadQuarter</th>\n",
       "      <th>Sector</th>\n",
       "      <th>Amount</th>\n",
       "      <th>Stage</th>\n",
       "      <th>Year</th>\n",
       "    </tr>\n",
       "  </thead>\n",
       "  <tbody>\n",
       "    <tr>\n",
       "      <th>1870</th>\n",
       "      <td>Toothsi</td>\n",
       "      <td>Mumbai</td>\n",
       "      <td>Health</td>\n",
       "      <td>$20000000</td>\n",
       "      <td>Series B</td>\n",
       "      <td>2021</td>\n",
       "    </tr>\n",
       "    <tr>\n",
       "      <th>2865</th>\n",
       "      <td>Flipspaces</td>\n",
       "      <td>Mumbai</td>\n",
       "      <td>Design</td>\n",
       "      <td>$2000000</td>\n",
       "      <td>Pre-series B</td>\n",
       "      <td>2021</td>\n",
       "    </tr>\n",
       "    <tr>\n",
       "      <th>2749</th>\n",
       "      <td>EV Plugs</td>\n",
       "      <td>Gurugram</td>\n",
       "      <td>Information Technology &amp; Services</td>\n",
       "      <td>$150000</td>\n",
       "      <td>Unknown</td>\n",
       "      <td>2021</td>\n",
       "    </tr>\n",
       "    <tr>\n",
       "      <th>2535</th>\n",
       "      <td>Thingsup</td>\n",
       "      <td>Pune</td>\n",
       "      <td>IoT platform</td>\n",
       "      <td>$1,000,000</td>\n",
       "      <td>Unknown</td>\n",
       "      <td>2021</td>\n",
       "    </tr>\n",
       "    <tr>\n",
       "      <th>2426</th>\n",
       "      <td>Pixxel</td>\n",
       "      <td>Bangalore</td>\n",
       "      <td>SpaceTech</td>\n",
       "      <td>$7,300,000</td>\n",
       "      <td>Seed</td>\n",
       "      <td>2021</td>\n",
       "    </tr>\n",
       "    <tr>\n",
       "      <th>231</th>\n",
       "      <td>True Elements</td>\n",
       "      <td>Pune</td>\n",
       "      <td>Dietary Supplements</td>\n",
       "      <td>714285.7</td>\n",
       "      <td>Seed</td>\n",
       "      <td>2018</td>\n",
       "    </tr>\n",
       "    <tr>\n",
       "      <th>0</th>\n",
       "      <td>TheCollegeFever</td>\n",
       "      <td>Bangalore</td>\n",
       "      <td>Brand Marketing</td>\n",
       "      <td>250000.0</td>\n",
       "      <td>Seed</td>\n",
       "      <td>2018</td>\n",
       "    </tr>\n",
       "    <tr>\n",
       "      <th>1258</th>\n",
       "      <td>Servify</td>\n",
       "      <td>Mumbai</td>\n",
       "      <td>SaaS</td>\n",
       "      <td>11370000.0</td>\n",
       "      <td>Series C</td>\n",
       "      <td>2020</td>\n",
       "    </tr>\n",
       "    <tr>\n",
       "      <th>1263</th>\n",
       "      <td>F5</td>\n",
       "      <td>Unknown</td>\n",
       "      <td>Retail Aggregator</td>\n",
       "      <td>0</td>\n",
       "      <td>Unknown</td>\n",
       "      <td>2020</td>\n",
       "    </tr>\n",
       "    <tr>\n",
       "      <th>94</th>\n",
       "      <td>Rays Power Infra</td>\n",
       "      <td>Jaipur</td>\n",
       "      <td>Energy</td>\n",
       "      <td>28571428.6</td>\n",
       "      <td>Venture - Series Unknown</td>\n",
       "      <td>2018</td>\n",
       "    </tr>\n",
       "    <tr>\n",
       "      <th>2099</th>\n",
       "      <td>Wright Research</td>\n",
       "      <td>Mumbai</td>\n",
       "      <td>Advisory firm</td>\n",
       "      <td>0</td>\n",
       "      <td>Pre-seed</td>\n",
       "      <td>2021</td>\n",
       "    </tr>\n",
       "    <tr>\n",
       "      <th>2715</th>\n",
       "      <td>Instoried</td>\n",
       "      <td>Bangalore</td>\n",
       "      <td>Computer Software</td>\n",
       "      <td>$8000000</td>\n",
       "      <td>Unknown</td>\n",
       "      <td>2021</td>\n",
       "    </tr>\n",
       "    <tr>\n",
       "      <th>1230</th>\n",
       "      <td>Samosa Party</td>\n",
       "      <td>Bangalore</td>\n",
       "      <td>Food</td>\n",
       "      <td>0</td>\n",
       "      <td>Unknown</td>\n",
       "      <td>2020</td>\n",
       "    </tr>\n",
       "    <tr>\n",
       "      <th>1157</th>\n",
       "      <td>DatStop</td>\n",
       "      <td>Delhi</td>\n",
       "      <td>Hospitality</td>\n",
       "      <td>0</td>\n",
       "      <td>Unknown</td>\n",
       "      <td>2020</td>\n",
       "    </tr>\n",
       "    <tr>\n",
       "      <th>1391</th>\n",
       "      <td>Yellow Messenger</td>\n",
       "      <td>Bangalore</td>\n",
       "      <td>AI</td>\n",
       "      <td>20000000.0</td>\n",
       "      <td>Series B</td>\n",
       "      <td>2020</td>\n",
       "    </tr>\n",
       "    <tr>\n",
       "      <th>2843</th>\n",
       "      <td>Codingal</td>\n",
       "      <td>Bangalore</td>\n",
       "      <td>EdTech</td>\n",
       "      <td>$1200000</td>\n",
       "      <td>Seed</td>\n",
       "      <td>2021</td>\n",
       "    </tr>\n",
       "    <tr>\n",
       "      <th>2214</th>\n",
       "      <td>AdmitKard</td>\n",
       "      <td>Noida</td>\n",
       "      <td>EdTech</td>\n",
       "      <td>0</td>\n",
       "      <td>Unknown</td>\n",
       "      <td>2021</td>\n",
       "    </tr>\n",
       "    <tr>\n",
       "      <th>518</th>\n",
       "      <td>Dailyhunt</td>\n",
       "      <td>Bangalore</td>\n",
       "      <td>Information Technology</td>\n",
       "      <td>6000000.0</td>\n",
       "      <td>Series E</td>\n",
       "      <td>2018</td>\n",
       "    </tr>\n",
       "    <tr>\n",
       "      <th>85</th>\n",
       "      <td>Racetrack</td>\n",
       "      <td>Bangalore</td>\n",
       "      <td>Artificial Intelligence</td>\n",
       "      <td>4885714.3</td>\n",
       "      <td>Seed</td>\n",
       "      <td>2018</td>\n",
       "    </tr>\n",
       "    <tr>\n",
       "      <th>336</th>\n",
       "      <td>Cashkumar</td>\n",
       "      <td>Bengaluru</td>\n",
       "      <td>Consumer Lending</td>\n",
       "      <td>714285.7</td>\n",
       "      <td>Seed</td>\n",
       "      <td>2018</td>\n",
       "    </tr>\n",
       "  </tbody>\n",
       "</table>\n",
       "</div>"
      ],
      "text/plain": [
       "         Company_Brand HeadQuarter                             Sector  \\\n",
       "1870           Toothsi      Mumbai                             Health   \n",
       "2865        Flipspaces      Mumbai                             Design   \n",
       "2749          EV Plugs    Gurugram  Information Technology & Services   \n",
       "2535          Thingsup        Pune                       IoT platform   \n",
       "2426            Pixxel   Bangalore                          SpaceTech   \n",
       "231      True Elements        Pune                Dietary Supplements   \n",
       "0      TheCollegeFever   Bangalore                    Brand Marketing   \n",
       "1258           Servify      Mumbai                               SaaS   \n",
       "1263                F5     Unknown                  Retail Aggregator   \n",
       "94    Rays Power Infra      Jaipur                             Energy   \n",
       "2099   Wright Research      Mumbai                      Advisory firm   \n",
       "2715         Instoried   Bangalore                  Computer Software   \n",
       "1230      Samosa Party   Bangalore                               Food   \n",
       "1157           DatStop       Delhi                        Hospitality   \n",
       "1391  Yellow Messenger   Bangalore                                 AI   \n",
       "2843          Codingal   Bangalore                             EdTech   \n",
       "2214         AdmitKard       Noida                             EdTech   \n",
       "518          Dailyhunt   Bangalore             Information Technology   \n",
       "85           Racetrack   Bangalore            Artificial Intelligence   \n",
       "336          Cashkumar   Bengaluru                   Consumer Lending   \n",
       "\n",
       "          Amount                     Stage  Year  \n",
       "1870   $20000000                  Series B  2021  \n",
       "2865    $2000000              Pre-series B  2021  \n",
       "2749     $150000                   Unknown  2021  \n",
       "2535  $1,000,000                   Unknown  2021  \n",
       "2426  $7,300,000                      Seed  2021  \n",
       "231     714285.7                      Seed  2018  \n",
       "0       250000.0                      Seed  2018  \n",
       "1258  11370000.0                  Series C  2020  \n",
       "1263           0                   Unknown  2020  \n",
       "94    28571428.6  Venture - Series Unknown  2018  \n",
       "2099           0                  Pre-seed  2021  \n",
       "2715    $8000000                   Unknown  2021  \n",
       "1230           0                   Unknown  2020  \n",
       "1157           0                   Unknown  2020  \n",
       "1391  20000000.0                  Series B  2020  \n",
       "2843    $1200000                      Seed  2021  \n",
       "2214           0                   Unknown  2021  \n",
       "518    6000000.0                  Series E  2018  \n",
       "85     4885714.3                      Seed  2018  \n",
       "336     714285.7                      Seed  2018  "
      ]
     },
     "execution_count": 82,
     "metadata": {},
     "output_type": "execute_result"
    }
   ],
   "source": [
    "combinedData.sample(20)"
   ]
  },
  {
   "cell_type": "markdown",
   "metadata": {},
   "source": [
    "To Rename the Amount Column to show currency\n"
   ]
  },
  {
   "cell_type": "code",
   "execution_count": 83,
   "metadata": {},
   "outputs": [
    {
     "data": {
      "text/html": [
       "<div>\n",
       "<style scoped>\n",
       "    .dataframe tbody tr th:only-of-type {\n",
       "        vertical-align: middle;\n",
       "    }\n",
       "\n",
       "    .dataframe tbody tr th {\n",
       "        vertical-align: top;\n",
       "    }\n",
       "\n",
       "    .dataframe thead th {\n",
       "        text-align: right;\n",
       "    }\n",
       "</style>\n",
       "<table border=\"1\" class=\"dataframe\">\n",
       "  <thead>\n",
       "    <tr style=\"text-align: right;\">\n",
       "      <th></th>\n",
       "      <th>Company_Brand</th>\n",
       "      <th>HeadQuarter</th>\n",
       "      <th>Sector</th>\n",
       "      <th>Amount($)</th>\n",
       "      <th>Stage</th>\n",
       "      <th>Year</th>\n",
       "    </tr>\n",
       "  </thead>\n",
       "  <tbody>\n",
       "    <tr>\n",
       "      <th>0</th>\n",
       "      <td>TheCollegeFever</td>\n",
       "      <td>Bangalore</td>\n",
       "      <td>Brand Marketing</td>\n",
       "      <td>250000.0</td>\n",
       "      <td>Seed</td>\n",
       "      <td>2018</td>\n",
       "    </tr>\n",
       "    <tr>\n",
       "      <th>1</th>\n",
       "      <td>Happy Cow Dairy</td>\n",
       "      <td>Mumbai</td>\n",
       "      <td>Agriculture</td>\n",
       "      <td>571428.6</td>\n",
       "      <td>Seed</td>\n",
       "      <td>2018</td>\n",
       "    </tr>\n",
       "    <tr>\n",
       "      <th>2</th>\n",
       "      <td>MyLoanCare</td>\n",
       "      <td>Gurgaon</td>\n",
       "      <td>Credit</td>\n",
       "      <td>928571.4</td>\n",
       "      <td>Series A</td>\n",
       "      <td>2018</td>\n",
       "    </tr>\n",
       "    <tr>\n",
       "      <th>3</th>\n",
       "      <td>PayMe India</td>\n",
       "      <td>Noida</td>\n",
       "      <td>Financial Services</td>\n",
       "      <td>2000000.0</td>\n",
       "      <td>Angel</td>\n",
       "      <td>2018</td>\n",
       "    </tr>\n",
       "    <tr>\n",
       "      <th>4</th>\n",
       "      <td>Eunimart</td>\n",
       "      <td>Hyderabad</td>\n",
       "      <td>E-Commerce Platforms</td>\n",
       "      <td>17545908.085411</td>\n",
       "      <td>Seed</td>\n",
       "      <td>2018</td>\n",
       "    </tr>\n",
       "  </tbody>\n",
       "</table>\n",
       "</div>"
      ],
      "text/plain": [
       "     Company_Brand HeadQuarter                Sector        Amount($)  \\\n",
       "0  TheCollegeFever   Bangalore       Brand Marketing         250000.0   \n",
       "1  Happy Cow Dairy      Mumbai           Agriculture         571428.6   \n",
       "2       MyLoanCare     Gurgaon                Credit         928571.4   \n",
       "3      PayMe India       Noida    Financial Services        2000000.0   \n",
       "4         Eunimart   Hyderabad  E-Commerce Platforms  17545908.085411   \n",
       "\n",
       "      Stage  Year  \n",
       "0      Seed  2018  \n",
       "1      Seed  2018  \n",
       "2  Series A  2018  \n",
       "3     Angel  2018  \n",
       "4      Seed  2018  "
      ]
     },
     "execution_count": 83,
     "metadata": {},
     "output_type": "execute_result"
    }
   ],
   "source": [
    "combinedData.rename(columns={'Amount':'Amount($)'}, inplace=True)\n",
    "combinedData.head()"
   ]
  },
  {
   "cell_type": "markdown",
   "metadata": {},
   "source": [
    "handle nan values by imputing by 0\n"
   ]
  },
  {
   "cell_type": "code",
   "execution_count": 84,
   "metadata": {},
   "outputs": [
    {
     "data": {
      "text/plain": [
       "Company_Brand    0\n",
       "HeadQuarter      0\n",
       "Sector           0\n",
       "Amount($)        0\n",
       "Stage            0\n",
       "Year             0\n",
       "dtype: int64"
      ]
     },
     "execution_count": 84,
     "metadata": {},
     "output_type": "execute_result"
    }
   ],
   "source": [
    "combinedData.isna().sum()"
   ]
  },
  {
   "cell_type": "code",
   "execution_count": 85,
   "metadata": {},
   "outputs": [],
   "source": [
    "# Handle missing values\n",
    "combinedData.fillna(0, inplace=True)"
   ]
  },
  {
   "cell_type": "code",
   "execution_count": 86,
   "metadata": {},
   "outputs": [
    {
     "data": {
      "text/plain": [
       "Company_Brand    0\n",
       "HeadQuarter      0\n",
       "Sector           0\n",
       "Amount($)        0\n",
       "Stage            0\n",
       "Year             0\n",
       "dtype: int64"
      ]
     },
     "execution_count": 86,
     "metadata": {},
     "output_type": "execute_result"
    }
   ],
   "source": [
    "combinedData.isna().sum()"
   ]
  },
  {
   "cell_type": "markdown",
   "metadata": {},
   "source": [
    "Categorize the stage\n"
   ]
  },
  {
   "cell_type": "code",
   "execution_count": 87,
   "metadata": {},
   "outputs": [
    {
     "data": {
      "text/plain": [
       "array(['Seed', 'Series A', 'Angel', 'Series B', 'Pre-Seed',\n",
       "       'Private Equity', 'Venture - Series Unknown', 'Grant',\n",
       "       'Debt Financing', 'Post-IPO Debt', 'Series H', 'Series C',\n",
       "       'Series E', 'Corporate Round', 'Undisclosed',\n",
       "       'https://docs.google.com/spreadsheets/d/1x9ziNeaz6auNChIHnMI8U6kS7knTr3byy_YBGfQaoUA/edit#gid=1861303593',\n",
       "       'Series D', 'Secondary Market', 'Post-IPO Equity',\n",
       "       'Non-equity Assistance', 'Funding Round', 'Unknown',\n",
       "       'Fresh funding', 'Pre series A', 'Series G', 'Post series A',\n",
       "       'Seed funding', 'Seed fund', 'Series F', 'Series B+', 'Seed round',\n",
       "       'Pre-series A', 'Pre-seed', 'Pre-series', 'Debt', 'Pre-series C',\n",
       "       'Pre-series B', 'Bridge', 'Series B2', 'Pre- series A', 'Edge',\n",
       "       'Pre-Series B', 'Seed A', 'Series A-1', 'Seed Funding',\n",
       "       'Pre-seed Round', 'Seed Round & Series A', 'Pre Series A',\n",
       "       'Pre seed Round', 'Angel Round', 'Pre series A1', 'Series E2',\n",
       "       'Seed Round', 'Bridge Round', 'Pre seed round', 'Pre series B',\n",
       "       'Pre series C', 'Seed Investment', 'Series D1', 'Mid series',\n",
       "       'Series C, D', '$1200000', 'Seed+', 'Series F2', 'Series A+',\n",
       "       'Series B3', 'PE', 'Series F1', 'Pre-series A1', '$300000',\n",
       "       'Early seed', '$6000000', '$1000000', 'Seies A', 'Series A2',\n",
       "       'Series I'], dtype=object)"
      ]
     },
     "execution_count": 87,
     "metadata": {},
     "output_type": "execute_result"
    }
   ],
   "source": [
    "combinedData['Stage'].unique()"
   ]
  },
  {
   "cell_type": "code",
   "execution_count": 88,
   "metadata": {},
   "outputs": [],
   "source": [
    "# To handle the speacial strings\n",
    "combinedData['Stage'] = combinedData['Stage'].replace({'https://docs.google.com/spreadsheets/d/1x9ziNeaz6auNChIHnMI8U6kS7knTr3byy_YBGfQaoUA/edit#gid=1861303593':'Unknown'})\n",
    "combinedData['Stage'] =  combinedData['Stage'].fillna('Unknown')"
   ]
  },
  {
   "cell_type": "code",
   "execution_count": 89,
   "metadata": {},
   "outputs": [
    {
     "data": {
      "text/plain": [
       "array(['Seed', 'Series A', 'Angel', 'Series B', 'Pre-Seed',\n",
       "       'Private Equity', 'Venture - Series Unknown', 'Grant',\n",
       "       'Debt Financing', 'Post-IPO Debt', 'Series H', 'Series C',\n",
       "       'Series E', 'Corporate Round', 'Undisclosed', 'Unknown',\n",
       "       'Series D', 'Secondary Market', 'Post-IPO Equity',\n",
       "       'Non-equity Assistance', 'Funding Round', 'Fresh funding',\n",
       "       'Pre series A', 'Series G', 'Post series A', 'Seed funding',\n",
       "       'Seed fund', 'Series F', 'Series B+', 'Seed round', 'Pre-series A',\n",
       "       'Pre-seed', 'Pre-series', 'Debt', 'Pre-series C', 'Pre-series B',\n",
       "       'Bridge', 'Series B2', 'Pre- series A', 'Edge', 'Pre-Series B',\n",
       "       'Seed A', 'Series A-1', 'Seed Funding', 'Pre-seed Round',\n",
       "       'Seed Round & Series A', 'Pre Series A', 'Pre seed Round',\n",
       "       'Angel Round', 'Pre series A1', 'Series E2', 'Seed Round',\n",
       "       'Bridge Round', 'Pre seed round', 'Pre series B', 'Pre series C',\n",
       "       'Seed Investment', 'Series D1', 'Mid series', 'Series C, D',\n",
       "       '$1200000', 'Seed+', 'Series F2', 'Series A+', 'Series B3', 'PE',\n",
       "       'Series F1', 'Pre-series A1', '$300000', 'Early seed', '$6000000',\n",
       "       '$1000000', 'Seies A', 'Series A2', 'Series I'], dtype=object)"
      ]
     },
     "execution_count": 89,
     "metadata": {},
     "output_type": "execute_result"
    }
   ],
   "source": [
    "combinedData['Stage'].unique()"
   ]
  },
  {
   "cell_type": "code",
   "execution_count": 90,
   "metadata": {},
   "outputs": [],
   "source": [
    "def categorize_funding_stage(stage):\n",
    "\n",
    "    pre_Seed = ['Pre Seed','Pre seed round']\n",
    "    seed_stages = ['Seed','Seed funding', 'Seed fund', 'Seed round', 'Seed A', 'Seed Round & Series A', 'Seed Investment', 'Early seed']\n",
    "    pre_series = [ 'Pre series A', 'Pre-series A1', 'Pre Series A', 'Pre series A1', 'Pre-series A1', 'Pre series A', 'Pre series','Pre series B', 'Pre series C']\n",
    "    series = ['Series A', 'Series A 1', 'Series A+', 'Seies A', 'Series A1', 'Series A2','Series B', 'Series B+', 'Series B2', 'Series B3','Series C', 'Series D', 'Series D1', 'Series E', 'Series E2', 'Series F', 'Series F1', 'Series F2', 'Series G', 'Series H', 'Series I']\n",
    "    later_stages = ['Series Unknown','Angel Round' ,'Angel','Corporate Round', 'Funding Round', 'Mid series', 'Bridge', 'Bridge Round', 'Post series A', 'Post-IPO Equity', 'Secondary Market', 'Non-equity Assistance','Fresh funding', 'Grant', 'Undisclosed']\n",
    "    debt = ['Post-IPO Debt','Debt Financing','Debt']\n",
    "    others= ['Unknown', '$1200000', '$300000', '$6000000', '$1000000']\n",
    " \n",
    "    if stage in pre_Seed:\n",
    "        return 'Pre Seed Stage'\n",
    "    elif stage in seed_stages:\n",
    "        return 'Seed Stage'\n",
    "    elif stage in pre_series:\n",
    "        return 'Pre Series Stage'\n",
    "    elif stage in series:\n",
    "        return 'Series Stage'\n",
    "    elif stage in later_stages:\n",
    "        return 'Later Stage'\n",
    "    elif stage in debt:\n",
    "        return 'Debt Stage'\n",
    "    else:\n",
    "        return 'Others'\n",
    "\n",
    "# Apply the function to the 'Stage' column\n",
    "combinedData['Stage'] = combinedData['Stage'].apply(categorize_funding_stage)"
   ]
  },
  {
   "cell_type": "code",
   "execution_count": 91,
   "metadata": {},
   "outputs": [
    {
     "data": {
      "text/html": [
       "<div>\n",
       "<style scoped>\n",
       "    .dataframe tbody tr th:only-of-type {\n",
       "        vertical-align: middle;\n",
       "    }\n",
       "\n",
       "    .dataframe tbody tr th {\n",
       "        vertical-align: top;\n",
       "    }\n",
       "\n",
       "    .dataframe thead th {\n",
       "        text-align: right;\n",
       "    }\n",
       "</style>\n",
       "<table border=\"1\" class=\"dataframe\">\n",
       "  <thead>\n",
       "    <tr style=\"text-align: right;\">\n",
       "      <th></th>\n",
       "      <th>Company_Brand</th>\n",
       "      <th>HeadQuarter</th>\n",
       "      <th>Sector</th>\n",
       "      <th>Amount($)</th>\n",
       "      <th>Stage</th>\n",
       "      <th>Year</th>\n",
       "    </tr>\n",
       "  </thead>\n",
       "  <tbody>\n",
       "    <tr>\n",
       "      <th>870</th>\n",
       "      <td>ReNEWate</td>\n",
       "      <td>Pune</td>\n",
       "      <td>Real Estate</td>\n",
       "      <td>0</td>\n",
       "      <td>Others</td>\n",
       "      <td>2020</td>\n",
       "    </tr>\n",
       "    <tr>\n",
       "      <th>2309</th>\n",
       "      <td>Convosight</td>\n",
       "      <td>New Delhi</td>\n",
       "      <td>SaaS startup</td>\n",
       "      <td>$9000000</td>\n",
       "      <td>Series Stage</td>\n",
       "      <td>2021</td>\n",
       "    </tr>\n",
       "    <tr>\n",
       "      <th>1297</th>\n",
       "      <td>Euler Motors</td>\n",
       "      <td>Delhi</td>\n",
       "      <td>Automotive tech</td>\n",
       "      <td>2530000.0</td>\n",
       "      <td>Series Stage</td>\n",
       "      <td>2020</td>\n",
       "    </tr>\n",
       "    <tr>\n",
       "      <th>272</th>\n",
       "      <td>IndiQube</td>\n",
       "      <td>Bengaluru</td>\n",
       "      <td>Commercial Real Estate</td>\n",
       "      <td>15000000.0</td>\n",
       "      <td>Series Stage</td>\n",
       "      <td>2018</td>\n",
       "    </tr>\n",
       "    <tr>\n",
       "      <th>531</th>\n",
       "      <td>Finly</td>\n",
       "      <td>Bangalore</td>\n",
       "      <td>SaaS</td>\n",
       "      <td>43330301.298701</td>\n",
       "      <td>Others</td>\n",
       "      <td>2019</td>\n",
       "    </tr>\n",
       "  </tbody>\n",
       "</table>\n",
       "</div>"
      ],
      "text/plain": [
       "     Company_Brand HeadQuarter                  Sector        Amount($)  \\\n",
       "870       ReNEWate        Pune             Real Estate                0   \n",
       "2309    Convosight   New Delhi            SaaS startup         $9000000   \n",
       "1297  Euler Motors       Delhi         Automotive tech        2530000.0   \n",
       "272       IndiQube   Bengaluru  Commercial Real Estate       15000000.0   \n",
       "531          Finly   Bangalore                    SaaS  43330301.298701   \n",
       "\n",
       "             Stage  Year  \n",
       "870         Others  2020  \n",
       "2309  Series Stage  2021  \n",
       "1297  Series Stage  2020  \n",
       "272   Series Stage  2018  \n",
       "531         Others  2019  "
      ]
     },
     "execution_count": 91,
     "metadata": {},
     "output_type": "execute_result"
    }
   ],
   "source": [
    "# test my function\n",
    "combinedData.sample(5)"
   ]
  },
  {
   "cell_type": "code",
   "execution_count": 92,
   "metadata": {},
   "outputs": [
    {
     "data": {
      "text/plain": [
       "array(['Seed Stage', 'Series Stage', 'Later Stage', 'Others',\n",
       "       'Debt Stage', 'Pre Series Stage', 'Pre Seed Stage'], dtype=object)"
      ]
     },
     "execution_count": 92,
     "metadata": {},
     "output_type": "execute_result"
    }
   ],
   "source": [
    "combinedData['Stage'].unique()"
   ]
  },
  {
   "cell_type": "markdown",
   "metadata": {},
   "source": [
    "    To clean the 'HeadQuarter' Column\n"
   ]
  },
  {
   "cell_type": "code",
   "execution_count": 93,
   "metadata": {},
   "outputs": [],
   "source": [
    "\n",
    "# Split the strings from the comma(,) then return the first index of the string \n",
    "\n",
    "combinedData['HeadQuarter'] = (combinedData['HeadQuarter'].str.split(',').str[0])\n"
   ]
  },
  {
   "cell_type": "code",
   "execution_count": 94,
   "metadata": {},
   "outputs": [
    {
     "data": {
      "text/plain": [
       "array(['Bangalore', 'Mumbai', 'Gurgaon', 'Noida', 'Hyderabad',\n",
       "       'Bengaluru', 'Kalkaji', 'Delhi', 'India', 'Hubli', 'New Delhi',\n",
       "       'Chennai', 'Mohali', 'Kolkata', 'Pune', 'Jodhpur', 'Kanpur',\n",
       "       'Ahmedabad', 'Azadpur', 'Haryana', 'Cochin', 'Faridabad', 'Jaipur',\n",
       "       'Kota', 'Anand', 'Bangalore City', 'Belgaum', 'Thane', 'Margão',\n",
       "       'Indore', 'Alwar', 'Kannur', 'Trivandrum', 'Ernakulam',\n",
       "       'Kormangala', 'Uttar Pradesh', 'Andheri', 'Mylapore', 'Ghaziabad',\n",
       "       'Kochi', 'Powai', 'Guntur', 'Kalpakkam', 'Bhopal', 'Coimbatore',\n",
       "       'Worli', 'Alleppey', 'Chandigarh', 'Guindy', 'Lucknow', 'Unknown',\n",
       "       'Telangana', 'Gurugram', 'Surat', 'Uttar pradesh', 'Rajasthan',\n",
       "       'Tirunelveli', 'Singapore', 'Gujarat', 'Kerala', 'Frisco',\n",
       "       'California', 'Dhingsara', 'New York', 'Patna', 'San Francisco',\n",
       "       'San Ramon', 'Paris', 'Plano', 'Sydney', 'San Francisco Bay Area',\n",
       "       'Bangaldesh', 'London', 'Milano', 'Palmwoods', 'France',\n",
       "       'Samastipur', 'Irvine', 'Tumkur', 'Newcastle Upon Tyne',\n",
       "       'Shanghai', 'Jiaxing', 'Rajastan', 'Ludhiana', 'Dehradun',\n",
       "       'San Franciscao', 'Tangerang', 'Berlin', 'Seattle', 'Riyadh',\n",
       "       'Seoul', 'Bangkok', 'Warangal', 'Hyderebad', 'Odisha', 'Bihar',\n",
       "       'Goa', 'Tamil Nadu', 'Banglore', 'Ahmadabad', 'Small Towns',\n",
       "       'Rajsamand', 'Ranchi', 'Computer Games', 'Vadodara',\n",
       "       'Food & Beverages', 'Pharmaceuticals\\t#REF!', 'Gurugram\\t#REF!',\n",
       "       'Nagpur', 'West Bengal', 'Samsitpur', 'Silvassa',\n",
       "       'Thiruvananthapuram', 'Roorkee', 'Ambernath', 'Panchkula',\n",
       "       'Mangalore', 'Telugana', 'Bhubaneswar', 'Kottayam', 'Beijing',\n",
       "       'Panaji', 'Satara', 'Orissia', 'Santra', 'Mountain View',\n",
       "       'Jharkhand', 'Bhilwara', 'Guwahati', 'Online Media\\t#REF!',\n",
       "       'Information Technology & Services', 'The Nilgiris', 'Gandhinagar'],\n",
       "      dtype=object)"
      ]
     },
     "execution_count": 94,
     "metadata": {},
     "output_type": "execute_result"
    }
   ],
   "source": [
    "combinedData['HeadQuarter'].unique()"
   ]
  },
  {
   "cell_type": "code",
   "execution_count": 95,
   "metadata": {},
   "outputs": [],
   "source": [
    "combinedData['HeadQuarter'] = combinedData['HeadQuarter'].replace({\n",
    "    'Delhi':'New Delhi',\n",
    "    'Bangalore City':'Bangalore',\n",
    "    'Ahmadabad':'Ahmedabad',\n",
    "    'Gurugram #REF!': 'Gurugram',\n",
    "    'San Francisco Bay Area':  'San Franciscao'\n",
    "       })"
   ]
  },
  {
   "cell_type": "code",
   "execution_count": 96,
   "metadata": {},
   "outputs": [
    {
     "data": {
      "text/plain": [
       "array(['Bangalore', 'Mumbai', 'Gurgaon', 'Noida', 'Hyderabad',\n",
       "       'Bengaluru', 'Kalkaji', 'New Delhi', 'India', 'Hubli', 'Chennai',\n",
       "       'Mohali', 'Kolkata', 'Pune', 'Jodhpur', 'Kanpur', 'Ahmedabad',\n",
       "       'Azadpur', 'Haryana', 'Cochin', 'Faridabad', 'Jaipur', 'Kota',\n",
       "       'Anand', 'Belgaum', 'Thane', 'Margão', 'Indore', 'Alwar', 'Kannur',\n",
       "       'Trivandrum', 'Ernakulam', 'Kormangala', 'Uttar Pradesh',\n",
       "       'Andheri', 'Mylapore', 'Ghaziabad', 'Kochi', 'Powai', 'Guntur',\n",
       "       'Kalpakkam', 'Bhopal', 'Coimbatore', 'Worli', 'Alleppey',\n",
       "       'Chandigarh', 'Guindy', 'Lucknow', 'Unknown', 'Telangana',\n",
       "       'Gurugram', 'Surat', 'Uttar pradesh', 'Rajasthan', 'Tirunelveli',\n",
       "       'Singapore', 'Gujarat', 'Kerala', 'Frisco', 'California',\n",
       "       'Dhingsara', 'New York', 'Patna', 'San Francisco', 'San Ramon',\n",
       "       'Paris', 'Plano', 'Sydney', 'San Franciscao', 'Bangaldesh',\n",
       "       'London', 'Milano', 'Palmwoods', 'France', 'Samastipur', 'Irvine',\n",
       "       'Tumkur', 'Newcastle Upon Tyne', 'Shanghai', 'Jiaxing', 'Rajastan',\n",
       "       'Ludhiana', 'Dehradun', 'Tangerang', 'Berlin', 'Seattle', 'Riyadh',\n",
       "       'Seoul', 'Bangkok', 'Warangal', 'Hyderebad', 'Odisha', 'Bihar',\n",
       "       'Goa', 'Tamil Nadu', 'Banglore', 'Small Towns', 'Rajsamand',\n",
       "       'Ranchi', 'Computer Games', 'Vadodara', 'Food & Beverages',\n",
       "       'Pharmaceuticals\\t#REF!', 'Gurugram\\t#REF!', 'Nagpur',\n",
       "       'West Bengal', 'Samsitpur', 'Silvassa', 'Thiruvananthapuram',\n",
       "       'Roorkee', 'Ambernath', 'Panchkula', 'Mangalore', 'Telugana',\n",
       "       'Bhubaneswar', 'Kottayam', 'Beijing', 'Panaji', 'Satara',\n",
       "       'Orissia', 'Santra', 'Mountain View', 'Jharkhand', 'Bhilwara',\n",
       "       'Guwahati', 'Online Media\\t#REF!',\n",
       "       'Information Technology & Services', 'The Nilgiris', 'Gandhinagar'],\n",
       "      dtype=object)"
      ]
     },
     "execution_count": 96,
     "metadata": {},
     "output_type": "execute_result"
    }
   ],
   "source": [
    "combinedData['HeadQuarter'].unique()"
   ]
  },
  {
   "cell_type": "code",
   "execution_count": 97,
   "metadata": {},
   "outputs": [],
   "source": [
    "\n",
    "# Function to categorize sectors\n",
    "def categorize_sector(sector):\n",
    "    # Mapping of sectors to categories\n",
    "    sector_categories = {\n",
    "        'Marketing': ['Brand Marketing', 'Event Promotion', 'Marketing', 'Sponsorship', 'Ticketing'],\n",
    "        'Agriculture': ['Agriculture', 'Farming'],\n",
    "        'Technology': ['E-Commerce', 'Internet', 'Apps', 'SaaS', 'Information Technology', 'Blockchain', 'Developer Tools'],\n",
    "        'Healthcare': ['Health Care', 'Medical', 'Biotechnology', 'Pharmaceutical'],\n",
    "        'Automotive': ['Automotive', 'Electric Vehicle', 'Autonomous Vehicles'],\n",
    "        'Logistics': ['Logistics', 'Supply Chain Management', 'Transportation'],\n",
    "        'Education': ['EdTech', 'Education', 'E-Learning', 'Higher Education'],\n",
    "        'Food and Beverage': ['Food and Beverage', 'Food Delivery', 'Food Processing'],\n",
    "        'Energy': ['Renewable Energy', 'Clean Energy', 'Solar', 'Energy Storage'],\n",
    "        'Fashion': ['Fashion', 'Lifestyle'],\n",
    "        'Real Estate': ['Real Estate'],\n",
    "        'Finance': ['Finance', 'Financial Services', 'FinTech', 'Venture Capital', 'Payments', 'Wealth Management', 'Credit', 'Financial Services', 'Lending', 'Marketplace', 'Insurance', 'Payments'],\n",
    "        'Media and Entertainment': ['Media and Entertainment', 'Broadcasting', 'Music', 'Video Streaming'],\n",
    "    }\n",
    "\n",
    "    # Iterate through categories and check if the sector belongs to any category\n",
    "    for category, keywords in sector_categories.items():\n",
    "        if any(keyword.lower() in sector.lower() for keyword in keywords):\n",
    "            return category\n",
    "\n",
    "    # If no category is matched, return 'Other'\n",
    "    # return 'Other Category'\n",
    "\n",
    "# Apply the function to the 'Sector' column\n",
    "combinedData['Sector'] = combinedData['Sector'].apply(categorize_sector)"
   ]
  },
  {
   "cell_type": "code",
   "execution_count": 98,
   "metadata": {},
   "outputs": [
    {
     "data": {
      "text/plain": [
       "array(['Marketing', 'Agriculture', 'Finance', 'Technology', None,\n",
       "       'Food and Beverage', 'Automotive', 'Logistics', 'Education',\n",
       "       'Energy', 'Media and Entertainment', 'Healthcare', 'Fashion',\n",
       "       'Real Estate'], dtype=object)"
      ]
     },
     "execution_count": 98,
     "metadata": {},
     "output_type": "execute_result"
    }
   ],
   "source": [
    "combinedData['Sector'].unique()"
   ]
  },
  {
   "cell_type": "markdown",
   "metadata": {},
   "source": [
    "Handle Null value in Sector Column\n"
   ]
  },
  {
   "cell_type": "code",
   "execution_count": 99,
   "metadata": {},
   "outputs": [],
   "source": [
    "combinedData['Sector'] =  combinedData['Sector'].fillna('Unknown')"
   ]
  },
  {
   "cell_type": "code",
   "execution_count": 100,
   "metadata": {},
   "outputs": [
    {
     "data": {
      "text/plain": [
       "array(['Marketing', 'Agriculture', 'Finance', 'Technology', 'Unknown',\n",
       "       'Food and Beverage', 'Automotive', 'Logistics', 'Education',\n",
       "       'Energy', 'Media and Entertainment', 'Healthcare', 'Fashion',\n",
       "       'Real Estate'], dtype=object)"
      ]
     },
     "execution_count": 100,
     "metadata": {},
     "output_type": "execute_result"
    }
   ],
   "source": [
    "combinedData['Sector'].unique()"
   ]
  },
  {
   "cell_type": "code",
   "execution_count": 101,
   "metadata": {},
   "outputs": [
    {
     "data": {
      "text/html": [
       "<div>\n",
       "<style scoped>\n",
       "    .dataframe tbody tr th:only-of-type {\n",
       "        vertical-align: middle;\n",
       "    }\n",
       "\n",
       "    .dataframe tbody tr th {\n",
       "        vertical-align: top;\n",
       "    }\n",
       "\n",
       "    .dataframe thead th {\n",
       "        text-align: right;\n",
       "    }\n",
       "</style>\n",
       "<table border=\"1\" class=\"dataframe\">\n",
       "  <thead>\n",
       "    <tr style=\"text-align: right;\">\n",
       "      <th></th>\n",
       "      <th>Company_Brand</th>\n",
       "      <th>HeadQuarter</th>\n",
       "      <th>Sector</th>\n",
       "      <th>Amount($)</th>\n",
       "      <th>Stage</th>\n",
       "      <th>Year</th>\n",
       "    </tr>\n",
       "  </thead>\n",
       "  <tbody>\n",
       "    <tr>\n",
       "      <th>0</th>\n",
       "      <td>TheCollegeFever</td>\n",
       "      <td>Bangalore</td>\n",
       "      <td>Marketing</td>\n",
       "      <td>250000.0</td>\n",
       "      <td>Seed Stage</td>\n",
       "      <td>2018</td>\n",
       "    </tr>\n",
       "  </tbody>\n",
       "</table>\n",
       "</div>"
      ],
      "text/plain": [
       "     Company_Brand HeadQuarter     Sector Amount($)       Stage  Year\n",
       "0  TheCollegeFever   Bangalore  Marketing  250000.0  Seed Stage  2018"
      ]
     },
     "execution_count": 101,
     "metadata": {},
     "output_type": "execute_result"
    }
   ],
   "source": [
    "# peak the cleaned data\n",
    "combinedData.head(1)"
   ]
  },
  {
   "cell_type": "markdown",
   "metadata": {},
   "source": [
    "Exploratory Data Analysis (EDA)\n"
   ]
  },
  {
   "cell_type": "markdown",
   "metadata": {},
   "source": [
    "Visualize Data\n"
   ]
  },
  {
   "cell_type": "markdown",
   "metadata": {},
   "source": [
    "1. What is the distribution of funding across various investment stages\n"
   ]
  },
  {
   "cell_type": "code",
   "execution_count": 102,
   "metadata": {},
   "outputs": [
    {
     "ename": "TypeError",
     "evalue": "unsupported operand type(s) for +: 'float' and 'str'",
     "output_type": "error",
     "traceback": [
      "\u001b[1;31m---------------------------------------------------------------------------\u001b[0m",
      "\u001b[1;31mTypeError\u001b[0m                                 Traceback (most recent call last)",
      "Cell \u001b[1;32mIn[102], line 2\u001b[0m\n\u001b[0;32m      1\u001b[0m \u001b[38;5;66;03m# Visualize information using a pie chart.\u001b[39;00m\n\u001b[1;32m----> 2\u001b[0m Stages \u001b[38;5;241m=\u001b[39m \u001b[43mcombinedData\u001b[49m\u001b[38;5;241;43m.\u001b[39;49m\u001b[43mgroupby\u001b[49m\u001b[43m(\u001b[49m\u001b[38;5;124;43m'\u001b[39;49m\u001b[38;5;124;43mStage\u001b[39;49m\u001b[38;5;124;43m'\u001b[39;49m\u001b[43m)\u001b[49m\u001b[43m[\u001b[49m\u001b[38;5;124;43m'\u001b[39;49m\u001b[38;5;124;43mAmount($)\u001b[39;49m\u001b[38;5;124;43m'\u001b[39;49m\u001b[43m]\u001b[49m\u001b[38;5;241;43m.\u001b[39;49m\u001b[43msum\u001b[49m\u001b[43m(\u001b[49m\u001b[43m)\u001b[49m\u001b[38;5;241m.\u001b[39mnlargest(\u001b[38;5;241m3\u001b[39m)\n\u001b[0;32m      4\u001b[0m Stages\u001b[38;5;241m.\u001b[39mplot(kind\u001b[38;5;241m=\u001b[39m\u001b[38;5;124m'\u001b[39m\u001b[38;5;124mpie\u001b[39m\u001b[38;5;124m'\u001b[39m, autopct\u001b[38;5;241m=\u001b[39m\u001b[38;5;124m'\u001b[39m\u001b[38;5;132;01m%1.0f\u001b[39;00m\u001b[38;5;132;01m%%\u001b[39;00m\u001b[38;5;124m'\u001b[39m)\n\u001b[0;32m      5\u001b[0m plt\u001b[38;5;241m.\u001b[39mylabel(\u001b[38;5;124m'\u001b[39m\u001b[38;5;124mStages\u001b[39m\u001b[38;5;124m'\u001b[39m)\n",
      "File \u001b[1;32m~\\AppData\\Local\\Packages\\PythonSoftwareFoundation.Python.3.11_qbz5n2kfra8p0\\LocalCache\\local-packages\\Python311\\site-packages\\pandas\\core\\groupby\\groupby.py:3063\u001b[0m, in \u001b[0;36mGroupBy.sum\u001b[1;34m(self, numeric_only, min_count, engine, engine_kwargs)\u001b[0m\n\u001b[0;32m   3058\u001b[0m \u001b[38;5;28;01melse\u001b[39;00m:\n\u001b[0;32m   3059\u001b[0m     \u001b[38;5;66;03m# If we are grouping on categoricals we want unobserved categories to\u001b[39;00m\n\u001b[0;32m   3060\u001b[0m     \u001b[38;5;66;03m# return zero, rather than the default of NaN which the reindexing in\u001b[39;00m\n\u001b[0;32m   3061\u001b[0m     \u001b[38;5;66;03m# _agg_general() returns. GH #31422\u001b[39;00m\n\u001b[0;32m   3062\u001b[0m     \u001b[38;5;28;01mwith\u001b[39;00m com\u001b[38;5;241m.\u001b[39mtemp_setattr(\u001b[38;5;28mself\u001b[39m, \u001b[38;5;124m\"\u001b[39m\u001b[38;5;124mobserved\u001b[39m\u001b[38;5;124m\"\u001b[39m, \u001b[38;5;28;01mTrue\u001b[39;00m):\n\u001b[1;32m-> 3063\u001b[0m         result \u001b[38;5;241m=\u001b[39m \u001b[38;5;28;43mself\u001b[39;49m\u001b[38;5;241;43m.\u001b[39;49m\u001b[43m_agg_general\u001b[49m\u001b[43m(\u001b[49m\n\u001b[0;32m   3064\u001b[0m \u001b[43m            \u001b[49m\u001b[43mnumeric_only\u001b[49m\u001b[38;5;241;43m=\u001b[39;49m\u001b[43mnumeric_only\u001b[49m\u001b[43m,\u001b[49m\n\u001b[0;32m   3065\u001b[0m \u001b[43m            \u001b[49m\u001b[43mmin_count\u001b[49m\u001b[38;5;241;43m=\u001b[39;49m\u001b[43mmin_count\u001b[49m\u001b[43m,\u001b[49m\n\u001b[0;32m   3066\u001b[0m \u001b[43m            \u001b[49m\u001b[43malias\u001b[49m\u001b[38;5;241;43m=\u001b[39;49m\u001b[38;5;124;43m\"\u001b[39;49m\u001b[38;5;124;43msum\u001b[39;49m\u001b[38;5;124;43m\"\u001b[39;49m\u001b[43m,\u001b[49m\n\u001b[0;32m   3067\u001b[0m \u001b[43m            \u001b[49m\u001b[43mnpfunc\u001b[49m\u001b[38;5;241;43m=\u001b[39;49m\u001b[43mnp\u001b[49m\u001b[38;5;241;43m.\u001b[39;49m\u001b[43msum\u001b[49m\u001b[43m,\u001b[49m\n\u001b[0;32m   3068\u001b[0m \u001b[43m        \u001b[49m\u001b[43m)\u001b[49m\n\u001b[0;32m   3070\u001b[0m     \u001b[38;5;28;01mreturn\u001b[39;00m \u001b[38;5;28mself\u001b[39m\u001b[38;5;241m.\u001b[39m_reindex_output(result, fill_value\u001b[38;5;241m=\u001b[39m\u001b[38;5;241m0\u001b[39m)\n",
      "File \u001b[1;32m~\\AppData\\Local\\Packages\\PythonSoftwareFoundation.Python.3.11_qbz5n2kfra8p0\\LocalCache\\local-packages\\Python311\\site-packages\\pandas\\core\\groupby\\groupby.py:1839\u001b[0m, in \u001b[0;36mGroupBy._agg_general\u001b[1;34m(self, numeric_only, min_count, alias, npfunc)\u001b[0m\n\u001b[0;32m   1830\u001b[0m \u001b[38;5;129m@final\u001b[39m\n\u001b[0;32m   1831\u001b[0m \u001b[38;5;28;01mdef\u001b[39;00m \u001b[38;5;21m_agg_general\u001b[39m(\n\u001b[0;32m   1832\u001b[0m     \u001b[38;5;28mself\u001b[39m,\n\u001b[1;32m   (...)\u001b[0m\n\u001b[0;32m   1837\u001b[0m     npfunc: Callable,\n\u001b[0;32m   1838\u001b[0m ):\n\u001b[1;32m-> 1839\u001b[0m     result \u001b[38;5;241m=\u001b[39m \u001b[38;5;28;43mself\u001b[39;49m\u001b[38;5;241;43m.\u001b[39;49m\u001b[43m_cython_agg_general\u001b[49m\u001b[43m(\u001b[49m\n\u001b[0;32m   1840\u001b[0m \u001b[43m        \u001b[49m\u001b[43mhow\u001b[49m\u001b[38;5;241;43m=\u001b[39;49m\u001b[43malias\u001b[49m\u001b[43m,\u001b[49m\n\u001b[0;32m   1841\u001b[0m \u001b[43m        \u001b[49m\u001b[43malt\u001b[49m\u001b[38;5;241;43m=\u001b[39;49m\u001b[43mnpfunc\u001b[49m\u001b[43m,\u001b[49m\n\u001b[0;32m   1842\u001b[0m \u001b[43m        \u001b[49m\u001b[43mnumeric_only\u001b[49m\u001b[38;5;241;43m=\u001b[39;49m\u001b[43mnumeric_only\u001b[49m\u001b[43m,\u001b[49m\n\u001b[0;32m   1843\u001b[0m \u001b[43m        \u001b[49m\u001b[43mmin_count\u001b[49m\u001b[38;5;241;43m=\u001b[39;49m\u001b[43mmin_count\u001b[49m\u001b[43m,\u001b[49m\n\u001b[0;32m   1844\u001b[0m \u001b[43m    \u001b[49m\u001b[43m)\u001b[49m\n\u001b[0;32m   1845\u001b[0m     \u001b[38;5;28;01mreturn\u001b[39;00m result\u001b[38;5;241m.\u001b[39m__finalize__(\u001b[38;5;28mself\u001b[39m\u001b[38;5;241m.\u001b[39mobj, method\u001b[38;5;241m=\u001b[39m\u001b[38;5;124m\"\u001b[39m\u001b[38;5;124mgroupby\u001b[39m\u001b[38;5;124m\"\u001b[39m)\n",
      "File \u001b[1;32m~\\AppData\\Local\\Packages\\PythonSoftwareFoundation.Python.3.11_qbz5n2kfra8p0\\LocalCache\\local-packages\\Python311\\site-packages\\pandas\\core\\groupby\\groupby.py:1929\u001b[0m, in \u001b[0;36mGroupBy._cython_agg_general\u001b[1;34m(self, how, alt, numeric_only, min_count, **kwargs)\u001b[0m\n\u001b[0;32m   1926\u001b[0m     result \u001b[38;5;241m=\u001b[39m \u001b[38;5;28mself\u001b[39m\u001b[38;5;241m.\u001b[39m_agg_py_fallback(how, values, ndim\u001b[38;5;241m=\u001b[39mdata\u001b[38;5;241m.\u001b[39mndim, alt\u001b[38;5;241m=\u001b[39malt)\n\u001b[0;32m   1927\u001b[0m     \u001b[38;5;28;01mreturn\u001b[39;00m result\n\u001b[1;32m-> 1929\u001b[0m new_mgr \u001b[38;5;241m=\u001b[39m \u001b[43mdata\u001b[49m\u001b[38;5;241;43m.\u001b[39;49m\u001b[43mgrouped_reduce\u001b[49m\u001b[43m(\u001b[49m\u001b[43marray_func\u001b[49m\u001b[43m)\u001b[49m\n\u001b[0;32m   1930\u001b[0m res \u001b[38;5;241m=\u001b[39m \u001b[38;5;28mself\u001b[39m\u001b[38;5;241m.\u001b[39m_wrap_agged_manager(new_mgr)\n\u001b[0;32m   1931\u001b[0m out \u001b[38;5;241m=\u001b[39m \u001b[38;5;28mself\u001b[39m\u001b[38;5;241m.\u001b[39m_wrap_aggregated_output(res)\n",
      "File \u001b[1;32m~\\AppData\\Local\\Packages\\PythonSoftwareFoundation.Python.3.11_qbz5n2kfra8p0\\LocalCache\\local-packages\\Python311\\site-packages\\pandas\\core\\internals\\base.py:336\u001b[0m, in \u001b[0;36mSingleDataManager.grouped_reduce\u001b[1;34m(self, func)\u001b[0m\n\u001b[0;32m    334\u001b[0m \u001b[38;5;28;01mdef\u001b[39;00m \u001b[38;5;21mgrouped_reduce\u001b[39m(\u001b[38;5;28mself\u001b[39m, func):\n\u001b[0;32m    335\u001b[0m     arr \u001b[38;5;241m=\u001b[39m \u001b[38;5;28mself\u001b[39m\u001b[38;5;241m.\u001b[39marray\n\u001b[1;32m--> 336\u001b[0m     res \u001b[38;5;241m=\u001b[39m \u001b[43mfunc\u001b[49m\u001b[43m(\u001b[49m\u001b[43marr\u001b[49m\u001b[43m)\u001b[49m\n\u001b[0;32m    337\u001b[0m     index \u001b[38;5;241m=\u001b[39m default_index(\u001b[38;5;28mlen\u001b[39m(res))\n\u001b[0;32m    339\u001b[0m     mgr \u001b[38;5;241m=\u001b[39m \u001b[38;5;28mtype\u001b[39m(\u001b[38;5;28mself\u001b[39m)\u001b[38;5;241m.\u001b[39mfrom_array(res, index)\n",
      "File \u001b[1;32m~\\AppData\\Local\\Packages\\PythonSoftwareFoundation.Python.3.11_qbz5n2kfra8p0\\LocalCache\\local-packages\\Python311\\site-packages\\pandas\\core\\groupby\\groupby.py:1905\u001b[0m, in \u001b[0;36mGroupBy._cython_agg_general.<locals>.array_func\u001b[1;34m(values)\u001b[0m\n\u001b[0;32m   1903\u001b[0m \u001b[38;5;28;01mdef\u001b[39;00m \u001b[38;5;21marray_func\u001b[39m(values: ArrayLike) \u001b[38;5;241m-\u001b[39m\u001b[38;5;241m>\u001b[39m ArrayLike:\n\u001b[0;32m   1904\u001b[0m     \u001b[38;5;28;01mtry\u001b[39;00m:\n\u001b[1;32m-> 1905\u001b[0m         result \u001b[38;5;241m=\u001b[39m \u001b[38;5;28;43mself\u001b[39;49m\u001b[38;5;241;43m.\u001b[39;49m\u001b[43mgrouper\u001b[49m\u001b[38;5;241;43m.\u001b[39;49m\u001b[43m_cython_operation\u001b[49m\u001b[43m(\u001b[49m\n\u001b[0;32m   1906\u001b[0m \u001b[43m            \u001b[49m\u001b[38;5;124;43m\"\u001b[39;49m\u001b[38;5;124;43maggregate\u001b[39;49m\u001b[38;5;124;43m\"\u001b[39;49m\u001b[43m,\u001b[49m\n\u001b[0;32m   1907\u001b[0m \u001b[43m            \u001b[49m\u001b[43mvalues\u001b[49m\u001b[43m,\u001b[49m\n\u001b[0;32m   1908\u001b[0m \u001b[43m            \u001b[49m\u001b[43mhow\u001b[49m\u001b[43m,\u001b[49m\n\u001b[0;32m   1909\u001b[0m \u001b[43m            \u001b[49m\u001b[43maxis\u001b[49m\u001b[38;5;241;43m=\u001b[39;49m\u001b[43mdata\u001b[49m\u001b[38;5;241;43m.\u001b[39;49m\u001b[43mndim\u001b[49m\u001b[43m \u001b[49m\u001b[38;5;241;43m-\u001b[39;49m\u001b[43m \u001b[49m\u001b[38;5;241;43m1\u001b[39;49m\u001b[43m,\u001b[49m\n\u001b[0;32m   1910\u001b[0m \u001b[43m            \u001b[49m\u001b[43mmin_count\u001b[49m\u001b[38;5;241;43m=\u001b[39;49m\u001b[43mmin_count\u001b[49m\u001b[43m,\u001b[49m\n\u001b[0;32m   1911\u001b[0m \u001b[43m            \u001b[49m\u001b[38;5;241;43m*\u001b[39;49m\u001b[38;5;241;43m*\u001b[39;49m\u001b[43mkwargs\u001b[49m\u001b[43m,\u001b[49m\n\u001b[0;32m   1912\u001b[0m \u001b[43m        \u001b[49m\u001b[43m)\u001b[49m\n\u001b[0;32m   1913\u001b[0m     \u001b[38;5;28;01mexcept\u001b[39;00m \u001b[38;5;167;01mNotImplementedError\u001b[39;00m:\n\u001b[0;32m   1914\u001b[0m         \u001b[38;5;66;03m# generally if we have numeric_only=False\u001b[39;00m\n\u001b[0;32m   1915\u001b[0m         \u001b[38;5;66;03m# and non-applicable functions\u001b[39;00m\n\u001b[0;32m   1916\u001b[0m         \u001b[38;5;66;03m# try to python agg\u001b[39;00m\n\u001b[0;32m   1917\u001b[0m         \u001b[38;5;66;03m# TODO: shouldn't min_count matter?\u001b[39;00m\n\u001b[0;32m   1918\u001b[0m         \u001b[38;5;66;03m# TODO: avoid special casing SparseArray here\u001b[39;00m\n\u001b[0;32m   1919\u001b[0m         \u001b[38;5;28;01mif\u001b[39;00m how \u001b[38;5;129;01min\u001b[39;00m [\u001b[38;5;124m\"\u001b[39m\u001b[38;5;124many\u001b[39m\u001b[38;5;124m\"\u001b[39m, \u001b[38;5;124m\"\u001b[39m\u001b[38;5;124mall\u001b[39m\u001b[38;5;124m\"\u001b[39m] \u001b[38;5;129;01mand\u001b[39;00m \u001b[38;5;28misinstance\u001b[39m(values, SparseArray):\n",
      "File \u001b[1;32m~\\AppData\\Local\\Packages\\PythonSoftwareFoundation.Python.3.11_qbz5n2kfra8p0\\LocalCache\\local-packages\\Python311\\site-packages\\pandas\\core\\groupby\\ops.py:815\u001b[0m, in \u001b[0;36mBaseGrouper._cython_operation\u001b[1;34m(self, kind, values, how, axis, min_count, **kwargs)\u001b[0m\n\u001b[0;32m    813\u001b[0m ids, _, _ \u001b[38;5;241m=\u001b[39m \u001b[38;5;28mself\u001b[39m\u001b[38;5;241m.\u001b[39mgroup_info\n\u001b[0;32m    814\u001b[0m ngroups \u001b[38;5;241m=\u001b[39m \u001b[38;5;28mself\u001b[39m\u001b[38;5;241m.\u001b[39mngroups\n\u001b[1;32m--> 815\u001b[0m \u001b[38;5;28;01mreturn\u001b[39;00m \u001b[43mcy_op\u001b[49m\u001b[38;5;241;43m.\u001b[39;49m\u001b[43mcython_operation\u001b[49m\u001b[43m(\u001b[49m\n\u001b[0;32m    816\u001b[0m \u001b[43m    \u001b[49m\u001b[43mvalues\u001b[49m\u001b[38;5;241;43m=\u001b[39;49m\u001b[43mvalues\u001b[49m\u001b[43m,\u001b[49m\n\u001b[0;32m    817\u001b[0m \u001b[43m    \u001b[49m\u001b[43maxis\u001b[49m\u001b[38;5;241;43m=\u001b[39;49m\u001b[43maxis\u001b[49m\u001b[43m,\u001b[49m\n\u001b[0;32m    818\u001b[0m \u001b[43m    \u001b[49m\u001b[43mmin_count\u001b[49m\u001b[38;5;241;43m=\u001b[39;49m\u001b[43mmin_count\u001b[49m\u001b[43m,\u001b[49m\n\u001b[0;32m    819\u001b[0m \u001b[43m    \u001b[49m\u001b[43mcomp_ids\u001b[49m\u001b[38;5;241;43m=\u001b[39;49m\u001b[43mids\u001b[49m\u001b[43m,\u001b[49m\n\u001b[0;32m    820\u001b[0m \u001b[43m    \u001b[49m\u001b[43mngroups\u001b[49m\u001b[38;5;241;43m=\u001b[39;49m\u001b[43mngroups\u001b[49m\u001b[43m,\u001b[49m\n\u001b[0;32m    821\u001b[0m \u001b[43m    \u001b[49m\u001b[38;5;241;43m*\u001b[39;49m\u001b[38;5;241;43m*\u001b[39;49m\u001b[43mkwargs\u001b[49m\u001b[43m,\u001b[49m\n\u001b[0;32m    822\u001b[0m \u001b[43m\u001b[49m\u001b[43m)\u001b[49m\n",
      "File \u001b[1;32m~\\AppData\\Local\\Packages\\PythonSoftwareFoundation.Python.3.11_qbz5n2kfra8p0\\LocalCache\\local-packages\\Python311\\site-packages\\pandas\\core\\groupby\\ops.py:534\u001b[0m, in \u001b[0;36mWrappedCythonOp.cython_operation\u001b[1;34m(self, values, axis, min_count, comp_ids, ngroups, **kwargs)\u001b[0m\n\u001b[0;32m    523\u001b[0m \u001b[38;5;28;01mif\u001b[39;00m \u001b[38;5;129;01mnot\u001b[39;00m \u001b[38;5;28misinstance\u001b[39m(values, np\u001b[38;5;241m.\u001b[39mndarray):\n\u001b[0;32m    524\u001b[0m     \u001b[38;5;66;03m# i.e. ExtensionArray\u001b[39;00m\n\u001b[0;32m    525\u001b[0m     \u001b[38;5;28;01mreturn\u001b[39;00m values\u001b[38;5;241m.\u001b[39m_groupby_op(\n\u001b[0;32m    526\u001b[0m         how\u001b[38;5;241m=\u001b[39m\u001b[38;5;28mself\u001b[39m\u001b[38;5;241m.\u001b[39mhow,\n\u001b[0;32m    527\u001b[0m         has_dropped_na\u001b[38;5;241m=\u001b[39m\u001b[38;5;28mself\u001b[39m\u001b[38;5;241m.\u001b[39mhas_dropped_na,\n\u001b[1;32m   (...)\u001b[0m\n\u001b[0;32m    531\u001b[0m         \u001b[38;5;241m*\u001b[39m\u001b[38;5;241m*\u001b[39mkwargs,\n\u001b[0;32m    532\u001b[0m     )\n\u001b[1;32m--> 534\u001b[0m \u001b[38;5;28;01mreturn\u001b[39;00m \u001b[38;5;28;43mself\u001b[39;49m\u001b[38;5;241;43m.\u001b[39;49m\u001b[43m_cython_op_ndim_compat\u001b[49m\u001b[43m(\u001b[49m\n\u001b[0;32m    535\u001b[0m \u001b[43m    \u001b[49m\u001b[43mvalues\u001b[49m\u001b[43m,\u001b[49m\n\u001b[0;32m    536\u001b[0m \u001b[43m    \u001b[49m\u001b[43mmin_count\u001b[49m\u001b[38;5;241;43m=\u001b[39;49m\u001b[43mmin_count\u001b[49m\u001b[43m,\u001b[49m\n\u001b[0;32m    537\u001b[0m \u001b[43m    \u001b[49m\u001b[43mngroups\u001b[49m\u001b[38;5;241;43m=\u001b[39;49m\u001b[43mngroups\u001b[49m\u001b[43m,\u001b[49m\n\u001b[0;32m    538\u001b[0m \u001b[43m    \u001b[49m\u001b[43mcomp_ids\u001b[49m\u001b[38;5;241;43m=\u001b[39;49m\u001b[43mcomp_ids\u001b[49m\u001b[43m,\u001b[49m\n\u001b[0;32m    539\u001b[0m \u001b[43m    \u001b[49m\u001b[43mmask\u001b[49m\u001b[38;5;241;43m=\u001b[39;49m\u001b[38;5;28;43;01mNone\u001b[39;49;00m\u001b[43m,\u001b[49m\n\u001b[0;32m    540\u001b[0m \u001b[43m    \u001b[49m\u001b[38;5;241;43m*\u001b[39;49m\u001b[38;5;241;43m*\u001b[39;49m\u001b[43mkwargs\u001b[49m\u001b[43m,\u001b[49m\n\u001b[0;32m    541\u001b[0m \u001b[43m\u001b[49m\u001b[43m)\u001b[49m\n",
      "File \u001b[1;32m~\\AppData\\Local\\Packages\\PythonSoftwareFoundation.Python.3.11_qbz5n2kfra8p0\\LocalCache\\local-packages\\Python311\\site-packages\\pandas\\core\\groupby\\ops.py:323\u001b[0m, in \u001b[0;36mWrappedCythonOp._cython_op_ndim_compat\u001b[1;34m(self, values, min_count, ngroups, comp_ids, mask, result_mask, **kwargs)\u001b[0m\n\u001b[0;32m    321\u001b[0m \u001b[38;5;28;01mif\u001b[39;00m result_mask \u001b[38;5;129;01mis\u001b[39;00m \u001b[38;5;129;01mnot\u001b[39;00m \u001b[38;5;28;01mNone\u001b[39;00m:\n\u001b[0;32m    322\u001b[0m     result_mask \u001b[38;5;241m=\u001b[39m result_mask[\u001b[38;5;28;01mNone\u001b[39;00m, :]\n\u001b[1;32m--> 323\u001b[0m res \u001b[38;5;241m=\u001b[39m \u001b[38;5;28;43mself\u001b[39;49m\u001b[38;5;241;43m.\u001b[39;49m\u001b[43m_call_cython_op\u001b[49m\u001b[43m(\u001b[49m\n\u001b[0;32m    324\u001b[0m \u001b[43m    \u001b[49m\u001b[43mvalues2d\u001b[49m\u001b[43m,\u001b[49m\n\u001b[0;32m    325\u001b[0m \u001b[43m    \u001b[49m\u001b[43mmin_count\u001b[49m\u001b[38;5;241;43m=\u001b[39;49m\u001b[43mmin_count\u001b[49m\u001b[43m,\u001b[49m\n\u001b[0;32m    326\u001b[0m \u001b[43m    \u001b[49m\u001b[43mngroups\u001b[49m\u001b[38;5;241;43m=\u001b[39;49m\u001b[43mngroups\u001b[49m\u001b[43m,\u001b[49m\n\u001b[0;32m    327\u001b[0m \u001b[43m    \u001b[49m\u001b[43mcomp_ids\u001b[49m\u001b[38;5;241;43m=\u001b[39;49m\u001b[43mcomp_ids\u001b[49m\u001b[43m,\u001b[49m\n\u001b[0;32m    328\u001b[0m \u001b[43m    \u001b[49m\u001b[43mmask\u001b[49m\u001b[38;5;241;43m=\u001b[39;49m\u001b[43mmask\u001b[49m\u001b[43m,\u001b[49m\n\u001b[0;32m    329\u001b[0m \u001b[43m    \u001b[49m\u001b[43mresult_mask\u001b[49m\u001b[38;5;241;43m=\u001b[39;49m\u001b[43mresult_mask\u001b[49m\u001b[43m,\u001b[49m\n\u001b[0;32m    330\u001b[0m \u001b[43m    \u001b[49m\u001b[38;5;241;43m*\u001b[39;49m\u001b[38;5;241;43m*\u001b[39;49m\u001b[43mkwargs\u001b[49m\u001b[43m,\u001b[49m\n\u001b[0;32m    331\u001b[0m \u001b[43m\u001b[49m\u001b[43m)\u001b[49m\n\u001b[0;32m    332\u001b[0m \u001b[38;5;28;01mif\u001b[39;00m res\u001b[38;5;241m.\u001b[39mshape[\u001b[38;5;241m0\u001b[39m] \u001b[38;5;241m==\u001b[39m \u001b[38;5;241m1\u001b[39m:\n\u001b[0;32m    333\u001b[0m     \u001b[38;5;28;01mreturn\u001b[39;00m res[\u001b[38;5;241m0\u001b[39m]\n",
      "File \u001b[1;32m~\\AppData\\Local\\Packages\\PythonSoftwareFoundation.Python.3.11_qbz5n2kfra8p0\\LocalCache\\local-packages\\Python311\\site-packages\\pandas\\core\\groupby\\ops.py:403\u001b[0m, in \u001b[0;36mWrappedCythonOp._call_cython_op\u001b[1;34m(self, values, min_count, ngroups, comp_ids, mask, result_mask, **kwargs)\u001b[0m\n\u001b[0;32m    401\u001b[0m counts \u001b[38;5;241m=\u001b[39m np\u001b[38;5;241m.\u001b[39mzeros(ngroups, dtype\u001b[38;5;241m=\u001b[39mnp\u001b[38;5;241m.\u001b[39mint64)\n\u001b[0;32m    402\u001b[0m \u001b[38;5;28;01mif\u001b[39;00m \u001b[38;5;28mself\u001b[39m\u001b[38;5;241m.\u001b[39mhow \u001b[38;5;129;01min\u001b[39;00m [\u001b[38;5;124m\"\u001b[39m\u001b[38;5;124mmin\u001b[39m\u001b[38;5;124m\"\u001b[39m, \u001b[38;5;124m\"\u001b[39m\u001b[38;5;124mmax\u001b[39m\u001b[38;5;124m\"\u001b[39m, \u001b[38;5;124m\"\u001b[39m\u001b[38;5;124mmean\u001b[39m\u001b[38;5;124m\"\u001b[39m, \u001b[38;5;124m\"\u001b[39m\u001b[38;5;124mlast\u001b[39m\u001b[38;5;124m\"\u001b[39m, \u001b[38;5;124m\"\u001b[39m\u001b[38;5;124mfirst\u001b[39m\u001b[38;5;124m\"\u001b[39m, \u001b[38;5;124m\"\u001b[39m\u001b[38;5;124msum\u001b[39m\u001b[38;5;124m\"\u001b[39m]:\n\u001b[1;32m--> 403\u001b[0m     \u001b[43mfunc\u001b[49m\u001b[43m(\u001b[49m\n\u001b[0;32m    404\u001b[0m \u001b[43m        \u001b[49m\u001b[43mout\u001b[49m\u001b[38;5;241;43m=\u001b[39;49m\u001b[43mresult\u001b[49m\u001b[43m,\u001b[49m\n\u001b[0;32m    405\u001b[0m \u001b[43m        \u001b[49m\u001b[43mcounts\u001b[49m\u001b[38;5;241;43m=\u001b[39;49m\u001b[43mcounts\u001b[49m\u001b[43m,\u001b[49m\n\u001b[0;32m    406\u001b[0m \u001b[43m        \u001b[49m\u001b[43mvalues\u001b[49m\u001b[38;5;241;43m=\u001b[39;49m\u001b[43mvalues\u001b[49m\u001b[43m,\u001b[49m\n\u001b[0;32m    407\u001b[0m \u001b[43m        \u001b[49m\u001b[43mlabels\u001b[49m\u001b[38;5;241;43m=\u001b[39;49m\u001b[43mcomp_ids\u001b[49m\u001b[43m,\u001b[49m\n\u001b[0;32m    408\u001b[0m \u001b[43m        \u001b[49m\u001b[43mmin_count\u001b[49m\u001b[38;5;241;43m=\u001b[39;49m\u001b[43mmin_count\u001b[49m\u001b[43m,\u001b[49m\n\u001b[0;32m    409\u001b[0m \u001b[43m        \u001b[49m\u001b[43mmask\u001b[49m\u001b[38;5;241;43m=\u001b[39;49m\u001b[43mmask\u001b[49m\u001b[43m,\u001b[49m\n\u001b[0;32m    410\u001b[0m \u001b[43m        \u001b[49m\u001b[43mresult_mask\u001b[49m\u001b[38;5;241;43m=\u001b[39;49m\u001b[43mresult_mask\u001b[49m\u001b[43m,\u001b[49m\n\u001b[0;32m    411\u001b[0m \u001b[43m        \u001b[49m\u001b[43mis_datetimelike\u001b[49m\u001b[38;5;241;43m=\u001b[39;49m\u001b[43mis_datetimelike\u001b[49m\u001b[43m,\u001b[49m\n\u001b[0;32m    412\u001b[0m \u001b[43m    \u001b[49m\u001b[43m)\u001b[49m\n\u001b[0;32m    413\u001b[0m \u001b[38;5;28;01melif\u001b[39;00m \u001b[38;5;28mself\u001b[39m\u001b[38;5;241m.\u001b[39mhow \u001b[38;5;129;01min\u001b[39;00m [\u001b[38;5;124m\"\u001b[39m\u001b[38;5;124msem\u001b[39m\u001b[38;5;124m\"\u001b[39m, \u001b[38;5;124m\"\u001b[39m\u001b[38;5;124mstd\u001b[39m\u001b[38;5;124m\"\u001b[39m, \u001b[38;5;124m\"\u001b[39m\u001b[38;5;124mvar\u001b[39m\u001b[38;5;124m\"\u001b[39m, \u001b[38;5;124m\"\u001b[39m\u001b[38;5;124mohlc\u001b[39m\u001b[38;5;124m\"\u001b[39m, \u001b[38;5;124m\"\u001b[39m\u001b[38;5;124mprod\u001b[39m\u001b[38;5;124m\"\u001b[39m, \u001b[38;5;124m\"\u001b[39m\u001b[38;5;124mmedian\u001b[39m\u001b[38;5;124m\"\u001b[39m]:\n\u001b[0;32m    414\u001b[0m     \u001b[38;5;28;01mif\u001b[39;00m \u001b[38;5;28mself\u001b[39m\u001b[38;5;241m.\u001b[39mhow \u001b[38;5;129;01min\u001b[39;00m [\u001b[38;5;124m\"\u001b[39m\u001b[38;5;124mstd\u001b[39m\u001b[38;5;124m\"\u001b[39m, \u001b[38;5;124m\"\u001b[39m\u001b[38;5;124msem\u001b[39m\u001b[38;5;124m\"\u001b[39m]:\n",
      "File \u001b[1;32mgroupby.pyx:718\u001b[0m, in \u001b[0;36mpandas._libs.groupby.group_sum\u001b[1;34m()\u001b[0m\n",
      "\u001b[1;31mTypeError\u001b[0m: unsupported operand type(s) for +: 'float' and 'str'"
     ]
    }
   ],
   "source": [
    "# Visualize information using a pie chart.\n",
    "Stages = combinedData.groupby('Stage')['Amount($)'].sum().nlargest(3)\n",
    "\n",
    "Stages.plot(kind='pie', autopct='%1.0f%%')\n",
    "plt.ylabel('Stages')\n",
    "plt.title('Top 3 Funding Stages')\n",
    "plt.show()"
   ]
  },
  {
   "cell_type": "markdown",
   "metadata": {},
   "source": [
    "2. What are the top 5 dominant sectors among startups\n"
   ]
  },
  {
   "cell_type": "code",
   "execution_count": null,
   "metadata": {},
   "outputs": [
    {
     "data": {
      "image/png": "[encoded data removed]",
      "text/plain": [
       "<Figure size 1000x600 with 1 Axes>"
      ]
     },
     "metadata": {},
     "output_type": "display_data"
    }
   ],
   "source": [
    "\n",
    "combinedData['Sector'] = combinedData['Sector'].str.capitalize()\n",
    "# tp_5_sectors = combinedData['Sector'].value_counts().head(5)\n",
    "tp_5_sectors = combinedData['Sector'].value_counts().iloc[1:6]\n",
    "\n",
    "# Define different colors for each bar\n",
    "colors = ['orange', 'blue', 'green', 'red', 'purple']\n",
    "\n",
    "# Create a bar chart with values on each bar\n",
    "plt.figure(figsize=(10, 6))\n",
    "bars = plt.bar(tp_5_sectors.index, tp_5_sectors, color=colors)\n",
    "\n",
    "# Add values on each bar\n",
    "for bar, value in zip(bars, tp_5_sectors):\n",
    "    plt.text(bar.get_x() + bar.get_width() / 2 - 0.1,\n",
    "    bar.get_height() + 0.1, str(value) + ' startUps',\n",
    "    ha='center', \n",
    "    color='black', \n",
    "    fontweight='bold' )\n",
    "\n",
    "plt.xlabel('Sector', loc='center')\n",
    "plt.ylabel('Frequency')\n",
    "plt.title('Top 5 Dominant Sectors in India with more Startups')\n",
    "plt.show()"
   ]
  },
  {
   "cell_type": "markdown",
   "metadata": {},
   "source": [
    "3. What are the cities that have attracted the most funding\n"
   ]
  },
  {
   "cell_type": "code",
   "execution_count": null,
   "metadata": {},
   "outputs": [
    {
     "data": {
      "image/png": "[encoded data removed]",
      "text/plain": [
       "<Figure size 1000x600 with 1 Axes>"
      ]
     },
     "metadata": {},
     "output_type": "display_data"
    }
   ],
   "source": [
    "Top_Funded_cities = combinedData.groupby(['HeadQuarter'])['Amount($)'].sum().nlargest(5)\n",
    "\n",
    "# Create a bar chart with values on each bar\n",
    "plt.figure(figsize=(10, 6))\n",
    "bars = plt.bar(Top_Funded_cities.index, Top_Funded_cities, color=colors)\n",
    "\n",
    "# Add values on each bar with 'M', 'B', or no suffix\n",
    "for bar, value in zip(bars, Top_Funded_cities):\n",
    "    if value == 1000:\n",
    "        text_value = '1000'\n",
    "    else:\n",
    "        text_value = (\n",
    "            f'{value / 1e9:.1f}B' if value >= 1e9 else\n",
    "            f'{value / 1e6:.1f}M' if value >= 1e6 else\n",
    "            f'{value / 1e3:.1f}K' if value >= 1e3 else\n",
    "            f'{value}'\n",
    "        )\n",
    "\n",
    "    plt.text(\n",
    "        bar.get_x() + bar.get_width() / 2 - 0.1,\n",
    "        bar.get_height() + 0.1,\n",
    "        text_value,\n",
    "        ha='center',\n",
    "        color='black',\n",
    "        fontweight='bold'\n",
    "    )\n",
    "\n",
    "# Format y-axis ticks in billions and millions\n",
    "formatter = FuncFormatter(lambda x, _: f'{\"%.0fB\" % (x / 1e9) if x >= 1e9 else \"%.0fM\" % (x / 1e6) if x >= 1e6 else \"%.0fK\" % (x / 1e3) if x >= 1e3 else x}')\n",
    "plt.gca().yaxis.set_major_formatter(formatter)\n",
    "\n",
    "plt.xlabel('Headquarters', loc='center')\n",
    "plt.ylabel('Funding Amount')\n",
    "plt.title('Dominant cities with most funding India Startups')\n",
    "\n",
    "plt.show()\n"
   ]
  },
  {
   "cell_type": "markdown",
   "metadata": {},
   "source": [
    "4. What is the distribution of funding across the four years\n"
   ]
  },
  {
   "cell_type": "code",
   "execution_count": null,
   "metadata": {},
   "outputs": [
    {
     "data": {
      "image/png": "[encoded data removed]",
      "text/plain": [
       "<Figure size 1000x600 with 1 Axes>"
      ]
     },
     "metadata": {},
     "output_type": "display_data"
    }
   ],
   "source": [
    "\n",
    "# Group by year and sum the funding amounts\n",
    "year_funds = combinedData.groupby(['Year'])['Amount($)'].sum()\n",
    "\n",
    "# Define different colors for each bar\n",
    "colors = ['orange', 'blue', 'green', 'red', 'purple']\n",
    "\n",
    "# Create a bar chart with values on each bar\n",
    "plt.figure(figsize=(10, 6), dpi=100)\n",
    "bars = plt.bar(year_funds.index, year_funds, color=colors)\n",
    "\n",
    "# Add values on each bar with 'M', 'B', or no suffix\n",
    "for bar, value in zip(bars, year_funds):\n",
    "    if value == 1000:\n",
    "        text_value = '1000'\n",
    "    else:\n",
    "        text_value = (\n",
    "            f'{value / 1e9:.1f}B' if value >= 1e9 else\n",
    "            f'{value / 1e6:.1f}M' if value >= 1e6 else\n",
    "            f'{value / 1e3:.1f}K' if value >= 1e3 else\n",
    "            f'{value}'\n",
    "        )\n",
    "\n",
    "    plt.text(\n",
    "        bar.get_x() + bar.get_width() / 2 - 0.1,\n",
    "        bar.get_height() + 0.1,\n",
    "        text_value,\n",
    "        ha='center',\n",
    "        color='black',\n",
    "        fontweight='bold'\n",
    "    )\n",
    "\n",
    "# Format y-axis ticks in billions and millions\n",
    "formatter = FuncFormatter(lambda x, _: f'{\"%.0fB\" % (x / 1e9) if x >= 1e9 else \"%.0fM\" % (x / 1e6) if x >= 1e6 else \"%.0fK\" % (x / 1e3) if x >= 1e3 else x}')\n",
    "plt.gca().yaxis.set_major_formatter(formatter)\n",
    "\n",
    "plt.xlabel('Year')\n",
    "plt.ylabel('Amount($)')\n",
    "plt.title('funding across the four years 2018-2021')\n",
    "plt.show()\n"
   ]
  },
  {
   "cell_type": "markdown",
   "metadata": {},
   "source": [
    "5.  What is the distribution of the number of startups that received funding in each year from 2018 to 2021?\n"
   ]
  },
  {
   "cell_type": "code",
   "execution_count": null,
   "metadata": {},
   "outputs": [
    {
     "data": {
      "image/png": "[encoded data removed]",
      "text/plain": [
       "<Figure size 1000x600 with 1 Axes>"
      ]
     },
     "metadata": {},
     "output_type": "display_data"
    }
   ],
   "source": [
    "\n",
    "# Count the number of startups in each year\n",
    "startups_count = combinedData.groupby(['Year'])['Company_Brand'].count().reset_index()\n",
    "\n",
    "# Create a bar chart with values on each bar\n",
    "plt.figure(figsize=(10, 6))\n",
    "ax = sns.barplot(y=startups_count['Company_Brand'], x=startups_count['Year'], palette=colors)\n",
    "\n",
    "# Add count values on top of each bar\n",
    "for bar, count in zip(ax.patches, startups_count['Company_Brand']):\n",
    "    plt.text(\n",
    "        bar.get_x() + bar.get_width() / 2 - 0.1 ,\n",
    "        bar.get_height() + 0.1,\n",
    "        f'{count}' + ' startups',\n",
    "        ha='center',\n",
    "        color='black',\n",
    "        fontweight='bold'\n",
    "    )\n",
    "\n",
    "plt.title('Total Startups Received Funding Each Year')\n",
    "plt.xlabel('Year')\n",
    "plt.ylabel('Number of Startups')\n",
    "plt.show()\n"
   ]
  },
  {
   "cell_type": "markdown",
   "metadata": {},
   "source": [
    "Test HYTPOSIS\n"
   ]
  },
  {
   "cell_type": "code",
   "execution_count": null,
   "metadata": {},
   "outputs": [],
   "source": []
  },
  {
   "cell_type": "markdown",
   "metadata": {},
   "source": [
    "Conclusion\n"
   ]
  },
  {
   "cell_type": "markdown",
   "metadata": {},
   "source": [
    "The analysis suggests a dynamic and growing startup ecosystem, with a diverse range of sectors attracting substantial funding. The concentration of funding in specific cities, such as Mumbai, Bangalore, and Gurugram, highlights the importance of geographical factors in the startup landscape. The upward trend in funding over the years, particularly the significant increase in 2021, indicates a robust and expanding startup ecosystem. However, it's essential to consider external factors and market conditions that may influence funding trends. The findings provide valuable insights for investors interested in the startup ecosystem in India Startups.\n"
   ]
  },
  {
   "cell_type": "code",
   "execution_count": null,
   "metadata": {},
   "outputs": [
    {
     "name": "stdout",
     "output_type": "stream",
     "text": [
      "The cleaned data has been exported to: dataset\\cleanedData.csv\n"
     ]
    }
   ],
   "source": [
    "\n",
    "# Specify the path where you want to save the CSV file\n",
    "csv_file_path = 'dataset\\cleanedData.csv'\n",
    "\n",
    "# Export the cleaned data to a CSV file\n",
    "combinedData.to_csv(csv_file_path, index=False)\n",
    "\n",
    "# Display a message to indicate successful export\n",
    "print(f'The cleaned data has been exported to: {csv_file_path}')"
   ]
  }
 ],
 "metadata": {
  "kernelspec": {
   "display_name": "Python 3",
   "language": "python",
   "name": "python3"
  },
  "language_info": {
   "codemirror_mode": {
    "name": "ipython",
    "version": 3
   },
   "file_extension": ".py",
   "mimetype": "text/x-python",
   "name": "python",
   "nbconvert_exporter": "python",
   "pygments_lexer": "ipython3",
   "version": "3.11.9"
  }
 },
 "nbformat": 4,
 "nbformat_minor": 2
}
